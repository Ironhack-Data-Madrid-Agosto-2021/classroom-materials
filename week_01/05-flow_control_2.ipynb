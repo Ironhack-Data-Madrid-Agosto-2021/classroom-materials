{
 "cells": [
  {
   "cell_type": "markdown",
   "id": "raised-meter",
   "metadata": {
    "toc": true
   },
   "source": [
    "<h1>Table of Contents<span class=\"tocSkip\"></span></h1>\n",
    "<div class=\"toc\"><ul class=\"toc-item\"><li><span><a href=\"#La-sentencia-&quot;while&quot;\" data-toc-modified-id=\"La-sentencia-&quot;while&quot;-1\"><span class=\"toc-item-num\">1&nbsp;&nbsp;</span>La sentencia \"while\"</a></span><ul class=\"toc-item\"><li><span><a href=\"#Nonetype\" data-toc-modified-id=\"Nonetype-1.1\"><span class=\"toc-item-num\">1.1&nbsp;&nbsp;</span>Nonetype</a></span></li><li><span><a href=\"#Lower-/-upper\" data-toc-modified-id=\"Lower-/-upper-1.2\"><span class=\"toc-item-num\">1.2&nbsp;&nbsp;</span>Lower / upper</a></span><ul class=\"toc-item\"><li><span><a href=\"#Tu-turno\" data-toc-modified-id=\"Tu-turno-1.2.1\"><span class=\"toc-item-num\">1.2.1&nbsp;&nbsp;</span>Tu turno</a></span></li></ul></li><li><span><a href=\"#Format\" data-toc-modified-id=\"Format-1.3\"><span class=\"toc-item-num\">1.3&nbsp;&nbsp;</span>Format</a></span></li></ul></li><li><span><a href=\"#Pass\" data-toc-modified-id=\"Pass-2\"><span class=\"toc-item-num\">2&nbsp;&nbsp;</span>Pass</a></span></li><li><span><a href=\"#For\" data-toc-modified-id=\"For-3\"><span class=\"toc-item-num\">3&nbsp;&nbsp;</span>For</a></span><ul class=\"toc-item\"><li><ul class=\"toc-item\"><li><span><a href=\"#Tu-turno\" data-toc-modified-id=\"Tu-turno-3.0.1\"><span class=\"toc-item-num\">3.0.1&nbsp;&nbsp;</span>Tu turno</a></span></li></ul></li><li><span><a href=\"#Iteramos-por-strings\" data-toc-modified-id=\"Iteramos-por-strings-3.1\"><span class=\"toc-item-num\">3.1&nbsp;&nbsp;</span>Iteramos por strings</a></span></li><li><span><a href=\"#Iterate-por-una-lista\" data-toc-modified-id=\"Iterate-por-una-lista-3.2\"><span class=\"toc-item-num\">3.2&nbsp;&nbsp;</span>Iterate por una lista</a></span></li><li><span><a href=\"#Iteramos-por-listas-sobre-su-índice\" data-toc-modified-id=\"Iteramos-por-listas-sobre-su-índice-3.3\"><span class=\"toc-item-num\">3.3&nbsp;&nbsp;</span>Iteramos por listas sobre su índice</a></span></li><li><span><a href=\"#Iteramos-por-dos-listas-al-mismo-tiempo\" data-toc-modified-id=\"Iteramos-por-dos-listas-al-mismo-tiempo-3.4\"><span class=\"toc-item-num\">3.4&nbsp;&nbsp;</span>Iteramos por dos listas al mismo tiempo</a></span></li><li><span><a href=\"#Iterar-sobre-los-elementos-de-un-diccionario\" data-toc-modified-id=\"Iterar-sobre-los-elementos-de-un-diccionario-3.5\"><span class=\"toc-item-num\">3.5&nbsp;&nbsp;</span>Iterar sobre los elementos de un diccionario</a></span></li></ul></li><li><span><a href=\"#Break\" data-toc-modified-id=\"Break-4\"><span class=\"toc-item-num\">4&nbsp;&nbsp;</span>Break</a></span></li><li><span><a href=\"#Let`s-go\" data-toc-modified-id=\"Let`s-go-5\"><span class=\"toc-item-num\">5&nbsp;&nbsp;</span>Let`s go</a></span></li><li><span><a href=\"#Summary\" data-toc-modified-id=\"Summary-6\"><span class=\"toc-item-num\">6&nbsp;&nbsp;</span>Summary</a></span></li><li><span><a href=\"#Extraaaaaaaaa-(List-Comprehension)\" data-toc-modified-id=\"Extraaaaaaaaa-(List-Comprehension)-7\"><span class=\"toc-item-num\">7&nbsp;&nbsp;</span>Extraaaaaaaaa (List Comprehension)</a></span></li><li><span><a href=\"#Further-materials\" data-toc-modified-id=\"Further-materials-8\"><span class=\"toc-item-num\">8&nbsp;&nbsp;</span>Further materials</a></span></li></ul></div>"
   ]
  },
  {
   "cell_type": "markdown",
   "id": "constant-discovery",
   "metadata": {},
   "source": [
    "# Let's keep the flow going"
   ]
  },
  {
   "cell_type": "markdown",
   "id": "genetic-output",
   "metadata": {},
   "source": [
    "![FLOW](https://media.giphy.com/media/h8y265b9iKtzKT0pDj/giphy.gif)"
   ]
  },
  {
   "cell_type": "markdown",
   "id": "hungry-athletics",
   "metadata": {},
   "source": [
    "## La sentencia \"while\"\n",
    "\n",
    "A veces queremos ejecutar un programa hasta que se cumpla una condición. Podemos conseguirlo con la cláusula `while`.\n",
    "\n",
    "**Nota:** ¡Cuidado con las recursiones infinitas!"
   ]
  },
  {
   "cell_type": "code",
   "execution_count": 2,
   "id": "alive-nothing",
   "metadata": {},
   "outputs": [
    {
     "name": "stdout",
     "output_type": "stream",
     "text": [
      "Buenos días\n"
     ]
    }
   ],
   "source": [
    "# ¡La recursividad infinita es divertida!\n",
    "# ¿Qué atajo nos permite romper esta recursión infinita?\n",
    "condicion = True\n",
    "while condicion:\n",
    "    print(\"Buenos días\")\n",
    "    condicion = False"
   ]
  },
  {
   "cell_type": "code",
   "execution_count": 4,
   "id": "cloudy-bennett",
   "metadata": {},
   "outputs": [
    {
     "name": "stdout",
     "output_type": "stream",
     "text": [
      "hola\n",
      "hola\n",
      "hola\n"
     ]
    },
    {
     "ename": "KeyboardInterrupt",
     "evalue": "",
     "output_type": "error",
     "traceback": [
      "\u001b[0;31m---------------------------------------------------------------------------\u001b[0m",
      "\u001b[0;31mKeyboardInterrupt\u001b[0m                         Traceback (most recent call last)",
      "\u001b[0;32m<ipython-input-4-f0977cbd5fe5>\u001b[0m in \u001b[0;36m<module>\u001b[0;34m\u001b[0m\n\u001b[1;32m      2\u001b[0m \u001b[0;32mwhile\u001b[0m \u001b[0;34m\"a\"\u001b[0m \u001b[0;34m!=\u001b[0m \u001b[0;34m\"b\"\u001b[0m\u001b[0;34m:\u001b[0m\u001b[0;34m\u001b[0m\u001b[0;34m\u001b[0m\u001b[0m\n\u001b[1;32m      3\u001b[0m     \u001b[0mprint\u001b[0m\u001b[0;34m(\u001b[0m\u001b[0;34m\"hola\"\u001b[0m\u001b[0;34m)\u001b[0m\u001b[0;34m\u001b[0m\u001b[0;34m\u001b[0m\u001b[0m\n\u001b[0;32m----> 4\u001b[0;31m     \u001b[0mtime\u001b[0m\u001b[0;34m.\u001b[0m\u001b[0msleep\u001b[0m\u001b[0;34m(\u001b[0m\u001b[0;36m2\u001b[0m\u001b[0;34m)\u001b[0m\u001b[0;34m\u001b[0m\u001b[0;34m\u001b[0m\u001b[0m\n\u001b[0m",
      "\u001b[0;31mKeyboardInterrupt\u001b[0m: "
     ]
    }
   ],
   "source": [
    "import time\n",
    "while \"a\" != \"b\":\n",
    "    print(\"hola\")\n",
    "    time.sleep(2)"
   ]
  },
  {
   "cell_type": "code",
   "execution_count": 6,
   "id": "appropriate-truth",
   "metadata": {},
   "outputs": [
    {
     "name": "stdout",
     "output_type": "stream",
     "text": [
      "Introduce un número 9\n",
      "Introduce un número 0\n"
     ]
    }
   ],
   "source": [
    "# Pregunta al usuario por un número hasta que introduce 0.\n",
    "num = None\n",
    "while num !=0:\n",
    "    num = int(input(\"Introduce un número \"))"
   ]
  },
  {
   "cell_type": "code",
   "execution_count": 7,
   "id": "liked-picnic",
   "metadata": {},
   "outputs": [
    {
     "name": "stdout",
     "output_type": "stream",
     "text": [
      "Introduce un número 9\n",
      "Introduce un número 0\n"
     ]
    }
   ],
   "source": [
    "num = int(input(\"Introduce un número \"))\n",
    "while num !=0:\n",
    "    num = int(input(\"Introduce un número \"))"
   ]
  },
  {
   "cell_type": "markdown",
   "id": "democratic-alexander",
   "metadata": {},
   "source": [
    "### Nonetype "
   ]
  },
  {
   "cell_type": "code",
   "execution_count": 8,
   "id": "weekly-bailey",
   "metadata": {},
   "outputs": [
    {
     "data": {
      "text/plain": [
       "NoneType"
      ]
     },
     "execution_count": 8,
     "metadata": {},
     "output_type": "execute_result"
    }
   ],
   "source": [
    "num = None\n",
    "type(num)"
   ]
  },
  {
   "cell_type": "markdown",
   "id": "pressed-calcium",
   "metadata": {},
   "source": [
    "[NoneType](https://www.educative.io/edpresso/what-is-the-none-keyword-in-python#:~:text=In%20Python%2C%20None%20keyword%20is,not%20create%20other%20NoneType%20objects.)"
   ]
  },
  {
   "cell_type": "markdown",
   "id": "accompanied-synthetic",
   "metadata": {},
   "source": [
    "En el caso de while True la expresión siempre va a ser evaluada como verdadera por definición. \n",
    "Equivaldría a:\n",
    "\n",
    "```python\n",
    "mientras verdadero sea verdadero:    \n",
    "    hacer algo\n",
    "   ````"
   ]
  },
  {
   "cell_type": "markdown",
   "id": "empty-seattle",
   "metadata": {},
   "source": [
    "🐒 - Escribimos un programa que pide al usuario una letra entre a y d eternamente hasta que introduce una correctamente"
   ]
  },
  {
   "cell_type": "code",
   "execution_count": 17,
   "id": "young-shooting",
   "metadata": {},
   "outputs": [
    {
     "name": "stdout",
     "output_type": "stream",
     "text": [
      "Introduce una letra que esté entre la A y la D d\n"
     ]
    }
   ],
   "source": [
    "while True:\n",
    "    data = input(\"Introduce una letra que esté entre la A y la D \")\n",
    "    if data.lower() not in (\"a\", \"b\", \"c\", \"d\"):\n",
    "        print(\"Tiene que estar entre la A y la D\")\n",
    "    else:\n",
    "        break"
   ]
  },
  {
   "cell_type": "code",
   "execution_count": null,
   "id": "delayed-edmonton",
   "metadata": {},
   "outputs": [],
   "source": [
    "while \"a\" == \"a\": "
   ]
  },
  {
   "cell_type": "markdown",
   "id": "further-canyon",
   "metadata": {},
   "source": [
    "### Lower / upper"
   ]
  },
  {
   "cell_type": "markdown",
   "id": "complimentary-slide",
   "metadata": {},
   "source": [
    "Sintaxis\n",
    "`string.lower()`\n",
    "`string.upper()`"
   ]
  },
  {
   "cell_type": "code",
   "execution_count": 15,
   "id": "vocational-solomon",
   "metadata": {},
   "outputs": [
    {
     "data": {
      "text/plain": [
       "'hola'"
      ]
     },
     "execution_count": 15,
     "metadata": {},
     "output_type": "execute_result"
    }
   ],
   "source": [
    "\"HOLA\".lower()"
   ]
  },
  {
   "cell_type": "markdown",
   "id": "reserved-encounter",
   "metadata": {},
   "source": [
    "#### Tu turno\n",
    "Lee los números enteros del teclado, hasta que el usuario introduzca el 0. Finalmente, muestra la suma de todos los números positivos introducidos."
   ]
  },
  {
   "cell_type": "markdown",
   "id": "billion-empire",
   "metadata": {},
   "source": [
    "Vuestro código 🔥🔝"
   ]
  },
  {
   "cell_type": "code",
   "execution_count": 22,
   "id": "tamil-democracy",
   "metadata": {},
   "outputs": [
    {
     "name": "stdout",
     "output_type": "stream",
     "text": [
      "introduzca numero 1\n",
      "introduzca numero 4\n",
      "introduzca numero 5\n",
      "introduzca numero 0\n",
      "10\n"
     ]
    }
   ],
   "source": [
    "num = int(input(\"introduzca numero \"))\n",
    "count = 0\n",
    "while num != 0:\n",
    "    count += num\n",
    "    num = int(input(\"introduzca numero \"))\n",
    "print(count)"
   ]
  },
  {
   "cell_type": "markdown",
   "id": "sunset-apache",
   "metadata": {},
   "source": [
    "Leer números enteros positivos del teclado, hasta que el usuario introduzca 0. Informar del mayor número introducido."
   ]
  },
  {
   "cell_type": "code",
   "execution_count": 23,
   "id": "tough-telling",
   "metadata": {},
   "outputs": [
    {
     "name": "stdout",
     "output_type": "stream",
     "text": [
      "introduzca numero 3\n",
      "introduzca numero 5\n",
      "introduzca numero 7\n",
      "introduzca numero 8\n",
      "introduzca numero 0\n",
      "8\n"
     ]
    }
   ],
   "source": [
    "num = int(input(\"introduzca numero \"))\n",
    "nums = []\n",
    "while num != 0:\n",
    "    nums.append(num)\n",
    "    num = int(input(\"introduzca numero \"))\n",
    "print(max(nums))"
   ]
  },
  {
   "cell_type": "code",
   "execution_count": 27,
   "id": "adequate-history",
   "metadata": {},
   "outputs": [
    {
     "name": "stdout",
     "output_type": "stream",
     "text": [
      "introduzca numero -4\n",
      "introduzca numero 9\n",
      "introduzca numero 0\n",
      "9\n"
     ]
    }
   ],
   "source": [
    "mayor = -1\n",
    "num = int(input(\"introduzca numero \"))\n",
    "while num != 0:\n",
    "    if num > mayor:\n",
    "        mayor = num\n",
    "    num = int(input(\"introduzca numero \"))\n",
    "print(mayor)"
   ]
  },
  {
   "cell_type": "markdown",
   "id": "sunset-thomson",
   "metadata": {},
   "source": [
    "### Format"
   ]
  },
  {
   "cell_type": "code",
   "execution_count": 28,
   "id": "mysterious-analyst",
   "metadata": {},
   "outputs": [
    {
     "name": "stdout",
     "output_type": "stream",
     "text": [
      "El número es 4\n"
     ]
    }
   ],
   "source": [
    "num = 4\n",
    "print(\"El número es\", num)"
   ]
  },
  {
   "cell_type": "code",
   "execution_count": 29,
   "id": "operational-public",
   "metadata": {},
   "outputs": [
    {
     "name": "stdout",
     "output_type": "stream",
     "text": [
      "El número es 4\n"
     ]
    }
   ],
   "source": [
    "print(f\"El número es {num}\")"
   ]
  },
  {
   "cell_type": "code",
   "execution_count": 30,
   "id": "homeless-circular",
   "metadata": {},
   "outputs": [
    {
     "name": "stdout",
     "output_type": "stream",
     "text": [
      "El número es 4, 9\n"
     ]
    }
   ],
   "source": [
    "print(f\"El número es {num}, {mayor}\")"
   ]
  },
  {
   "cell_type": "code",
   "execution_count": 31,
   "id": "fifty-association",
   "metadata": {},
   "outputs": [
    {
     "name": "stdout",
     "output_type": "stream",
     "text": [
      "\n",
      "String multilínea\n",
      "      El número es 4\n"
     ]
    }
   ],
   "source": [
    "print(f\"\"\"\n",
    "String multilínea\n",
    "      El número es {num}\"\"\")"
   ]
  },
  {
   "cell_type": "code",
   "execution_count": 33,
   "id": "hearing-press",
   "metadata": {},
   "outputs": [
    {
     "name": "stdout",
     "output_type": "stream",
     "text": [
      "Ho\n",
      "la\n"
     ]
    }
   ],
   "source": [
    "print(\"\"\"Ho\n",
    "la\"\"\")"
   ]
  },
  {
   "cell_type": "code",
   "execution_count": 36,
   "id": "fifty-landing",
   "metadata": {},
   "outputs": [
    {
     "data": {
      "text/plain": [
       "'Ho\\nla'"
      ]
     },
     "execution_count": 36,
     "metadata": {},
     "output_type": "execute_result"
    }
   ],
   "source": [
    "(\"\"\"Ho\n",
    "la\"\"\")"
   ]
  },
  {
   "cell_type": "code",
   "execution_count": 35,
   "id": "scientific-reply",
   "metadata": {},
   "outputs": [
    {
     "name": "stdout",
     "output_type": "stream",
     "text": [
      "ho \n",
      " la\n"
     ]
    }
   ],
   "source": [
    "print(\"ho \\n la\")"
   ]
  },
  {
   "cell_type": "markdown",
   "id": "supreme-southwest",
   "metadata": {},
   "source": [
    "## Pass\n",
    "La sentencia pass no hace nada. Puede utilizarse cuando se requiere una sentencia sintáctica pero el programa no requiere ninguna acción (de los [docs](https://docs.python.org/3/tutorial/controlflow.html))           \n",
    "\n",
    "(Nuestra sentencia favorita de cara a nuestra jubilación)    \n",
    "Aunque pueda sorprendernos, resulta útil en varias situaciones. En Python no podemos tener sin definir un bloque de código (por ejemplo, el cuerpo de una función, el cuerpo de una condición o el de un bucle). Así que es habitual usar pass cuando estamos escribiendo la estructura de nuestro programa pero aún no hemos abordado la implementación de determinados bloques de código."
   ]
  },
  {
   "cell_type": "code",
   "execution_count": 39,
   "id": "welsh-estimate",
   "metadata": {},
   "outputs": [
    {
     "ename": "SyntaxError",
     "evalue": "unexpected EOF while parsing (<ipython-input-39-8a7f00d2525c>, line 1)",
     "output_type": "error",
     "traceback": [
      "\u001b[0;36m  File \u001b[0;32m\"<ipython-input-39-8a7f00d2525c>\"\u001b[0;36m, line \u001b[0;32m1\u001b[0m\n\u001b[0;31m    def funcion():\u001b[0m\n\u001b[0m                  ^\u001b[0m\n\u001b[0;31mSyntaxError\u001b[0m\u001b[0;31m:\u001b[0m unexpected EOF while parsing\n"
     ]
    }
   ],
   "source": [
    "def funcion():"
   ]
  },
  {
   "cell_type": "code",
   "execution_count": 40,
   "id": "international-search",
   "metadata": {},
   "outputs": [],
   "source": [
    "def funcion2():\n",
    "    # luego lo pienso\n",
    "    pass"
   ]
  },
  {
   "cell_type": "code",
   "execution_count": 41,
   "id": "concerned-alert",
   "metadata": {},
   "outputs": [],
   "source": [
    "variable = \"hola\"\n",
    "if variable != \"h\":\n",
    "    pass # luego lo pienso"
   ]
  },
  {
   "cell_type": "markdown",
   "id": "classical-passenger",
   "metadata": {},
   "source": [
    "## For"
   ]
  },
  {
   "cell_type": "markdown",
   "id": "southeast-explorer",
   "metadata": {},
   "source": [
    "Es muy habitual escribir un código con bucles dentro de estas dos posibles situaciones:    \n",
    "    - 1: Cuando utilizamos un contador en el seno de una repetición. El contador es una variable que va incrementándose o disminuyendo de forma constante en cada iteración del bucle hasta alcanzar un valor límite que marca el fin de las repeticiones.   \n",
    "    - 2: Cuando iteramos sobre los elementos de un contenedor, por ejemplo, una lista, para operar sobre cada uno de ellos. También en este caso conocemos de antemano el número de repeticiones que tendrán lugar."
   ]
  },
  {
   "cell_type": "markdown",
   "id": "national-clock",
   "metadata": {},
   "source": [
    "La sentencia For, en Python, permite iterar sobre secuencias de valores (listas o cadenas) según un orden establecido. A diferencia de otros lenguajes, con el for de Python no se definen contadores o expresiones que cambien a cada iteración sino una secuencia sobre la cual la variable contador tomará sus valores. En cualquier caso, es la opción más adecuada para resolver los dos casos anteriores....vamos a poner un ejemplo:"
   ]
  },
  {
   "cell_type": "code",
   "execution_count": 43,
   "id": "early-bullet",
   "metadata": {},
   "outputs": [
    {
     "name": "stdout",
     "output_type": "stream",
     "text": [
      "1\n",
      "2\n",
      "3\n",
      "4\n",
      "4\n"
     ]
    }
   ],
   "source": [
    "lista = [1,2,3,4]\n",
    "for elemento in lista:\n",
    "    print(elemento)\n",
    "print(elemento)"
   ]
  },
  {
   "cell_type": "markdown",
   "id": "abroad-creature",
   "metadata": {},
   "source": [
    "La sentencia for, en Python, itera sobre colecciones. Por tanto, si necesitamos un contador que se incremente en cada iteración, Python proporciona la función range(), que genera listas de enteros. Esta función permite generar secuencias y es bastante versátil y podemos invocarla de diferentes maneras:"
   ]
  },
  {
   "cell_type": "markdown",
   "id": "green-meeting",
   "metadata": {},
   "source": [
    "- Con un solo argumento: genera enteros que van desde 0 hasta el anterior indicado como parámetro:"
   ]
  },
  {
   "cell_type": "code",
   "execution_count": 44,
   "id": "headed-planner",
   "metadata": {},
   "outputs": [
    {
     "name": "stdout",
     "output_type": "stream",
     "text": [
      "[0, 1, 2, 3, 4]\n"
     ]
    }
   ],
   "source": [
    "print(list(range(5)))"
   ]
  },
  {
   "cell_type": "code",
   "execution_count": 45,
   "id": "canadian-petroleum",
   "metadata": {},
   "outputs": [
    {
     "name": "stdout",
     "output_type": "stream",
     "text": [
      "1\n",
      "3\n",
      "5\n"
     ]
    }
   ],
   "source": [
    "# Imprimo los impares de una lista a través de un rango\n",
    "for n in range(6):\n",
    "    if n % 2 != 0:\n",
    "        print(n)"
   ]
  },
  {
   "cell_type": "markdown",
   "id": "latter-auction",
   "metadata": {},
   "source": [
    "- Con dos argumentos. El primer parámetro es el valor inicial y el segundo el valor por debajo del cual deben estar los elementos de la lista:"
   ]
  },
  {
   "cell_type": "code",
   "execution_count": 50,
   "id": "agreed-doctor",
   "metadata": {},
   "outputs": [
    {
     "name": "stdout",
     "output_type": "stream",
     "text": [
      "[4, 5, 6, 7]\n"
     ]
    }
   ],
   "source": [
    "print(list(range(4,8)))"
   ]
  },
  {
   "cell_type": "markdown",
   "id": "adapted-microphone",
   "metadata": {},
   "source": [
    "- Con tres argumentos. Igual que en el anterior, pero el tercer parámetro indica el incremento que se produce de un elemento al siguiente:"
   ]
  },
  {
   "cell_type": "code",
   "execution_count": 49,
   "id": "resistant-medicare",
   "metadata": {},
   "outputs": [
    {
     "name": "stdout",
     "output_type": "stream",
     "text": [
      "[2, 4, 6, 8]\n"
     ]
    }
   ],
   "source": [
    "print(list(range(2,10,2)))"
   ]
  },
  {
   "cell_type": "markdown",
   "id": "identical-charm",
   "metadata": {},
   "source": [
    "#### Tu turno\n",
    "Escribe un programa que pregunte al usuario por su edad y muestre todos los años que ha alcanzado (desde el 1 hasta su edad)."
   ]
  },
  {
   "cell_type": "code",
   "execution_count": 51,
   "id": "moved-optimum",
   "metadata": {},
   "outputs": [
    {
     "name": "stdout",
     "output_type": "stream",
     "text": [
      "Introduzca su edad3\n",
      "1\n",
      "2\n",
      "3\n"
     ]
    }
   ],
   "source": [
    "edad = int(input(\"Introduzca su edad\"))\n",
    "for n in range(1, edad+1):\n",
    "    print(n)"
   ]
  },
  {
   "cell_type": "code",
   "execution_count": 53,
   "id": "offensive-mainland",
   "metadata": {},
   "outputs": [
    {
     "name": "stdout",
     "output_type": "stream",
     "text": [
      "introduzca su edad 8\n",
      "[0, 1, 2, 3, 4, 5, 6, 7, 8]\n"
     ]
    }
   ],
   "source": [
    "edad = int(input(\"introduzca su edad \"))\n",
    "print (list(range(edad+1)))"
   ]
  },
  {
   "cell_type": "markdown",
   "id": "closing-pound",
   "metadata": {},
   "source": [
    "### Iteramos por strings"
   ]
  },
  {
   "cell_type": "code",
   "execution_count": 54,
   "id": "revolutionary-romantic",
   "metadata": {},
   "outputs": [
    {
     "name": "stdout",
     "output_type": "stream",
     "text": [
      "P\n",
      "y\n",
      "t\n",
      "h\n",
      "o\n",
      "n\n"
     ]
    }
   ],
   "source": [
    "palabra = \"Python\"\n",
    "for letra in palabra:\n",
    "    print(letra)"
   ]
  },
  {
   "cell_type": "markdown",
   "id": "worth-steps",
   "metadata": {},
   "source": [
    "### Iterate por una lista"
   ]
  },
  {
   "cell_type": "code",
   "execution_count": 56,
   "id": "careful-missile",
   "metadata": {},
   "outputs": [
    {
     "name": "stdout",
     "output_type": "stream",
     "text": [
      "[0, 2, 4, 6, 8]\n"
     ]
    }
   ],
   "source": [
    "nums = list(range(10))\n",
    "pares = []\n",
    "for n in nums:\n",
    "    if n % 2 == 0:\n",
    "        pares.append(n)\n",
    "    # print(pares)\n",
    "print(pares)"
   ]
  },
  {
   "cell_type": "markdown",
   "id": "accessible-trance",
   "metadata": {},
   "source": [
    "### Iteramos por listas sobre su índice\n",
    "- Built in functions --> https://docs.python.org/3/library/functions.html\n",
    "- Enumerate doc --> https://book.pythontips.com/en/latest/enumerate.html"
   ]
  },
  {
   "cell_type": "code",
   "execution_count": null,
   "id": "figured-library",
   "metadata": {},
   "outputs": [],
   "source": [
    "# ENUMERATE"
   ]
  },
  {
   "cell_type": "code",
   "execution_count": 57,
   "id": "thirty-coffee",
   "metadata": {},
   "outputs": [],
   "source": [
    "nombres = [\"Ras\", \"Sheriff\", \"Dobby\", \"Ana\", \"Pablo\"]"
   ]
  },
  {
   "cell_type": "code",
   "execution_count": 58,
   "id": "intimate-sacramento",
   "metadata": {},
   "outputs": [
    {
     "data": {
      "text/plain": [
       "[(0, 'Ras'), (1, 'Sheriff'), (2, 'Dobby'), (3, 'Ana'), (4, 'Pablo')]"
      ]
     },
     "execution_count": 58,
     "metadata": {},
     "output_type": "execute_result"
    }
   ],
   "source": [
    "list(enumerate(nombres))"
   ]
  },
  {
   "cell_type": "code",
   "execution_count": 62,
   "id": "restricted-insert",
   "metadata": {},
   "outputs": [],
   "source": [
    "import time"
   ]
  },
  {
   "cell_type": "code",
   "execution_count": 69,
   "id": "periodic-lodging",
   "metadata": {},
   "outputs": [
    {
     "name": "stdout",
     "output_type": "stream",
     "text": [
      "CPU times: user 3 µs, sys: 1e+03 ns, total: 4 µs\n",
      "Wall time: 6.91 µs\n",
      "El elemento es Ras y su posición en la lista es 0\n",
      "El elemento es Sheriff y su posición en la lista es 1\n",
      "El elemento es Dobby y su posición en la lista es 2\n",
      "El elemento es Ana y su posición en la lista es 3\n",
      "El elemento es Pablo y su posición en la lista es 4\n"
     ]
    }
   ],
   "source": [
    "%time\n",
    "for indice,nombre in enumerate(nombres):\n",
    "    print(f\"El elemento es {nombre} y su posición en la lista es {indice}\")"
   ]
  },
  {
   "cell_type": "code",
   "execution_count": 70,
   "id": "swiss-weather",
   "metadata": {},
   "outputs": [
    {
     "name": "stdout",
     "output_type": "stream",
     "text": [
      "CPU times: user 3 µs, sys: 1 µs, total: 4 µs\n",
      "Wall time: 6.91 µs\n",
      "El elemento es Ras y su posición en la lista es 0\n",
      "El elemento es Sheriff y su posición en la lista es 1\n",
      "El elemento es Dobby y su posición en la lista es 2\n",
      "El elemento es Ana y su posición en la lista es 3\n",
      "El elemento es Pablo y su posición en la lista es 4\n"
     ]
    }
   ],
   "source": [
    "%time\n",
    "for n in range(len(nombres)):\n",
    "    print(f\"El elemento es {nombres[n]} y su posición en la lista es {n}\")"
   ]
  },
  {
   "cell_type": "markdown",
   "id": "measured-founder",
   "metadata": {},
   "source": [
    "### Iteramos por dos listas al mismo tiempo"
   ]
  },
  {
   "cell_type": "markdown",
   "id": "level-palestinian",
   "metadata": {},
   "source": [
    "Os dejo la documentación de zip, recordad que no va a dar error si las listas son de diferente tamaño pero la última iteración será la de la lista más corta      \n",
    "[DOC](https://docs.python.org/3/library/functions.html)"
   ]
  },
  {
   "cell_type": "code",
   "execution_count": 73,
   "id": "egyptian-opening",
   "metadata": {},
   "outputs": [],
   "source": [
    "nombres = [\"Ras\", \"Sheriff\", \"Dobby\", \"Ana\", \"A ver si da error\"]\n",
    "emojis = [\"🚀\", \"👮\", \"🐶\", \"🍃\"]\n",
    "lista_2 = [1,2,3,4,5,56,67,78,9,90]"
   ]
  },
  {
   "cell_type": "code",
   "execution_count": 74,
   "id": "curious-curve",
   "metadata": {},
   "outputs": [
    {
     "name": "stdout",
     "output_type": "stream",
     "text": [
      "El nombre es Ras y su emoji es 🚀\n",
      "El nombre es Sheriff y su emoji es 👮\n",
      "El nombre es Dobby y su emoji es 🐶\n",
      "El nombre es Ana y su emoji es 🍃\n"
     ]
    }
   ],
   "source": [
    "for nombre, emoji in zip(nombres,emojis):\n",
    "    print(f\"El nombre es {nombre} y su emoji es {emoji}\")"
   ]
  },
  {
   "cell_type": "code",
   "execution_count": 75,
   "id": "excellent-equation",
   "metadata": {},
   "outputs": [
    {
     "name": "stdout",
     "output_type": "stream",
     "text": [
      "El nombre es Ras y su emoji es 🚀 y un número random de una lista es 1\n",
      "El nombre es Sheriff y su emoji es 👮 y un número random de una lista es 2\n",
      "El nombre es Dobby y su emoji es 🐶 y un número random de una lista es 3\n",
      "El nombre es Ana y su emoji es 🍃 y un número random de una lista es 4\n"
     ]
    }
   ],
   "source": [
    "for nombre,emoji,num in zip(nombres,emojis,lista_2):\n",
    "    print(f\"El nombre es {nombre} y su emoji es {emoji} y un número random de una lista es {num}\")"
   ]
  },
  {
   "cell_type": "code",
   "execution_count": 76,
   "id": "aerial-leonard",
   "metadata": {},
   "outputs": [],
   "source": [
    "# Enumerate + zip en el bucle directamente"
   ]
  },
  {
   "cell_type": "code",
   "execution_count": 79,
   "id": "random-detector",
   "metadata": {},
   "outputs": [
    {
     "data": {
      "text/plain": [
       "[(0, ('Ras', '🚀')),\n",
       " (1, ('Sheriff', '👮')),\n",
       " (2, ('Dobby', '🐶')),\n",
       " (3, ('Ana', '🍃'))]"
      ]
     },
     "execution_count": 79,
     "metadata": {},
     "output_type": "execute_result"
    }
   ],
   "source": [
    "list(enumerate(zip(nombres,emojis)))"
   ]
  },
  {
   "cell_type": "code",
   "execution_count": 77,
   "id": "numerous-ready",
   "metadata": {},
   "outputs": [
    {
     "name": "stdout",
     "output_type": "stream",
     "text": [
      "El nombre es Ras, su emoji es 🚀 y su posición en la lista es 0\n",
      "El nombre es Sheriff, su emoji es 👮 y su posición en la lista es 1\n",
      "El nombre es Dobby, su emoji es 🐶 y su posición en la lista es 2\n",
      "El nombre es Ana, su emoji es 🍃 y su posición en la lista es 3\n"
     ]
    }
   ],
   "source": [
    "for indice,(nombre,emoji) in enumerate(zip(nombres,emojis)):\n",
    "    print(f\"El nombre es {nombre}, su emoji es {emoji} y su posición en la lista es {indice}\")"
   ]
  },
  {
   "cell_type": "code",
   "execution_count": 96,
   "id": "manual-cycling",
   "metadata": {},
   "outputs": [
    {
     "name": "stdout",
     "output_type": "stream",
     "text": [
      "El nombre es Ras, su emoji es 🚀 y su posición en la lista es 0\n",
      "El nombre es Sheriff, su emoji es 👮 y su posición en la lista es 1\n",
      "El nombre es Dobby, su emoji es 🐶 y su posición en la lista es 2\n",
      "El nombre es Ana, su emoji es 🍃 y su posición en la lista es 3\n"
     ]
    }
   ],
   "source": [
    "for indice,(nombre,emoji,num) in enumerate(zip(nombres,emojis,lista_2)):\n",
    "    print(f\"El nombre es {nombre}, su emoji es {emoji} y su posición en la lista es {indice}\")"
   ]
  },
  {
   "cell_type": "markdown",
   "id": "virtual-tuner",
   "metadata": {},
   "source": [
    "### Iterar sobre los elementos de un diccionario"
   ]
  },
  {
   "cell_type": "code",
   "execution_count": 80,
   "id": "future-desperate",
   "metadata": {},
   "outputs": [],
   "source": [
    "diccionario = { \"Nombre\": \"Dobby\",\n",
    "               \"Raza\" : \"Galgo\",\n",
    "               \"Emoji\": \"🐶\",\n",
    "               \"Cosas que le gusta comer\": [{\"Carne\": [\"Pollo\", \"Ternera\"],\n",
    "                                            \"Fruta\": \"No come\"}]\n",
    "}"
   ]
  },
  {
   "cell_type": "code",
   "execution_count": 81,
   "id": "accredited-festival",
   "metadata": {},
   "outputs": [
    {
     "data": {
      "text/plain": [
       "dict_items([('Nombre', 'Dobby'), ('Raza', 'Galgo'), ('Emoji', '🐶'), ('Cosas que le gusta comer', [{'Carne': ['Pollo', 'Ternera'], 'Fruta': 'No come'}])])"
      ]
     },
     "execution_count": 81,
     "metadata": {},
     "output_type": "execute_result"
    }
   ],
   "source": [
    "diccionario.items()"
   ]
  },
  {
   "cell_type": "code",
   "execution_count": 82,
   "id": "naughty-belle",
   "metadata": {},
   "outputs": [
    {
     "data": {
      "text/plain": [
       "dict_keys(['Nombre', 'Raza', 'Emoji', 'Cosas que le gusta comer'])"
      ]
     },
     "execution_count": 82,
     "metadata": {},
     "output_type": "execute_result"
    }
   ],
   "source": [
    "diccionario.keys()"
   ]
  },
  {
   "cell_type": "code",
   "execution_count": 83,
   "id": "conceptual-replication",
   "metadata": {},
   "outputs": [
    {
     "data": {
      "text/plain": [
       "dict_values(['Dobby', 'Galgo', '🐶', [{'Carne': ['Pollo', 'Ternera'], 'Fruta': 'No come'}]])"
      ]
     },
     "execution_count": 83,
     "metadata": {},
     "output_type": "execute_result"
    }
   ],
   "source": [
    "diccionario.values()"
   ]
  },
  {
   "cell_type": "code",
   "execution_count": 84,
   "id": "neither-adrian",
   "metadata": {},
   "outputs": [
    {
     "name": "stdout",
     "output_type": "stream",
     "text": [
      "La key Nombre, el value Dobby\n",
      "La key Raza, el value Galgo\n",
      "La key Emoji, el value 🐶\n",
      "La key Cosas que le gusta comer, el value [{'Carne': ['Pollo', 'Ternera'], 'Fruta': 'No come'}]\n"
     ]
    }
   ],
   "source": [
    "for key,value in diccionario.items():\n",
    "    print(f\"La key {key}, el value {value}\")"
   ]
  },
  {
   "cell_type": "code",
   "execution_count": 85,
   "id": "motivated-syndrome",
   "metadata": {},
   "outputs": [
    {
     "name": "stdout",
     "output_type": "stream",
     "text": [
      "Nombre\n",
      "Raza\n",
      "Emoji\n",
      "Cosas que le gusta comer\n"
     ]
    }
   ],
   "source": [
    "# iteramos sobre las keys\n",
    "for key in diccionario.keys():\n",
    "    print(key)"
   ]
  },
  {
   "cell_type": "code",
   "execution_count": 88,
   "id": "micro-difficulty",
   "metadata": {},
   "outputs": [
    {
     "name": "stdout",
     "output_type": "stream",
     "text": [
      "Dobby\n"
     ]
    }
   ],
   "source": [
    "for key in diccionario.keys():\n",
    "    if key == \"Nombre\":\n",
    "        print(diccionario[key])"
   ]
  },
  {
   "cell_type": "code",
   "execution_count": 90,
   "id": "sacred-mystery",
   "metadata": {},
   "outputs": [
    {
     "name": "stdout",
     "output_type": "stream",
     "text": [
      "Dobby\n",
      "Galgo\n",
      "🐶\n",
      "[{'Carne': ['Pollo', 'Ternera'], 'Fruta': 'No come'}]\n"
     ]
    }
   ],
   "source": [
    "# iteramos sobre los values\n",
    "for valor in diccionario.values():\n",
    "    print(valor)"
   ]
  },
  {
   "cell_type": "markdown",
   "id": "banned-irish",
   "metadata": {},
   "source": [
    "## Break"
   ]
  },
  {
   "cell_type": "markdown",
   "id": "civilian-coordinate",
   "metadata": {},
   "source": [
    "Podemos literalmente \"romper\" una recursión cuando se cumple una condición"
   ]
  },
  {
   "cell_type": "code",
   "execution_count": 98,
   "id": "suitable-network",
   "metadata": {},
   "outputs": [],
   "source": [
    "grupos = [\"Rufus T. Firefly\", \"Viva Suecia\", \"Standstill\",\"Bowie\", \"Fuel Fandango\"]"
   ]
  },
  {
   "cell_type": "code",
   "execution_count": 99,
   "id": "reverse-religious",
   "metadata": {},
   "outputs": [
    {
     "name": "stdout",
     "output_type": "stream",
     "text": [
      "Rufus T. Firefly hace temazos\n",
      "16\n",
      "Viva Suecia hace temazos\n",
      "11\n",
      "a hace temazos\n",
      "1\n"
     ]
    }
   ],
   "source": [
    "for grupo in grupos:\n",
    "    print(f\"{grupo} hace temazos\")\n",
    "    print(len(grupo))\n",
    "    if len(grupo) <= 5:\n",
    "        break"
   ]
  },
  {
   "cell_type": "markdown",
   "id": "central-cowboy",
   "metadata": {},
   "source": [
    "## Let`s go"
   ]
  },
  {
   "cell_type": "markdown",
   "id": "loving-forth",
   "metadata": {},
   "source": [
    "Escribir un programa que pida al usuario un número entero positivo y muestre por pantalla todos los números impares desde 1 hasta ese número separados por comas."
   ]
  },
  {
   "cell_type": "markdown",
   "id": "animated-population",
   "metadata": {},
   "source": [
    "## Summary \n",
    "Es tu turno: ¿Qué hemos aprendido? 🚀\n",
    "- Iterar sobre todo (la vida, por ejemplo)\n",
    "- enumerate (itera sobre elementos e índices a la vez)\n",
    "- zip (para iterar sobre varias listas a la vez)\n",
    "- bucle for (itera sobre iterables)\n",
    "- pass mola\n",
    "- while / while true (itera hasta que condición se cumple)\n",
    "- format\n",
    "- break (para bucle)\n",
    "- condicionales en general \n",
    "- operadores += / // (división entera)"
   ]
  },
  {
   "cell_type": "markdown",
   "id": "worthy-disclosure",
   "metadata": {},
   "source": [
    "## Further materials\n",
    "https://aprendeconalf.es/docencia/python/ejercicios/\n"
   ]
  }
 ],
 "metadata": {
  "kernelspec": {
   "display_name": "Python 3",
   "language": "python",
   "name": "python3"
  },
  "language_info": {
   "codemirror_mode": {
    "name": "ipython",
    "version": 3
   },
   "file_extension": ".py",
   "mimetype": "text/x-python",
   "name": "python",
   "nbconvert_exporter": "python",
   "pygments_lexer": "ipython3",
   "version": "3.8.5"
  },
  "toc": {
   "base_numbering": 1,
   "nav_menu": {},
   "number_sections": true,
   "sideBar": true,
   "skip_h1_title": true,
   "title_cell": "Table of Contents",
   "title_sidebar": "Contents",
   "toc_cell": true,
   "toc_position": {},
   "toc_section_display": true,
   "toc_window_display": false
  }
 },
 "nbformat": 4,
 "nbformat_minor": 5
}
