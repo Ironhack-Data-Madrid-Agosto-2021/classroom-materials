{
 "cells": [
  {
   "cell_type": "markdown",
   "id": "raised-meter",
   "metadata": {
    "toc": true
   },
   "source": [
    "<h1>Table of Contents<span class=\"tocSkip\"></span></h1>\n",
    "<div class=\"toc\"><ul class=\"toc-item\"><li><span><a href=\"#La-sentencia-&quot;while&quot;\" data-toc-modified-id=\"La-sentencia-&quot;while&quot;-1\"><span class=\"toc-item-num\">1&nbsp;&nbsp;</span>La sentencia \"while\"</a></span><ul class=\"toc-item\"><li><ul class=\"toc-item\"><li><span><a href=\"#Tu-turno\" data-toc-modified-id=\"Tu-turno-1.0.1\"><span class=\"toc-item-num\">1.0.1&nbsp;&nbsp;</span>Tu turno</a></span></li></ul></li></ul></li><li><span><a href=\"#Pass\" data-toc-modified-id=\"Pass-2\"><span class=\"toc-item-num\">2&nbsp;&nbsp;</span>Pass</a></span></li><li><span><a href=\"#For\" data-toc-modified-id=\"For-3\"><span class=\"toc-item-num\">3&nbsp;&nbsp;</span>For</a></span><ul class=\"toc-item\"><li><ul class=\"toc-item\"><li><span><a href=\"#Tu-turno\" data-toc-modified-id=\"Tu-turno-3.0.1\"><span class=\"toc-item-num\">3.0.1&nbsp;&nbsp;</span>Tu turno</a></span></li></ul></li><li><span><a href=\"#Iteramos-por-strings\" data-toc-modified-id=\"Iteramos-por-strings-3.1\"><span class=\"toc-item-num\">3.1&nbsp;&nbsp;</span>Iteramos por strings</a></span></li><li><span><a href=\"#Iterate-por-una-lista\" data-toc-modified-id=\"Iterate-por-una-lista-3.2\"><span class=\"toc-item-num\">3.2&nbsp;&nbsp;</span>Iterate por una lista</a></span></li><li><span><a href=\"#Iteramos-por-listas-sobre-su-índice\" data-toc-modified-id=\"Iteramos-por-listas-sobre-su-índice-3.3\"><span class=\"toc-item-num\">3.3&nbsp;&nbsp;</span>Iteramos por listas sobre su índice</a></span></li><li><span><a href=\"#Iteramos-por-dos-listas-al-mismo-tiempo\" data-toc-modified-id=\"Iteramos-por-dos-listas-al-mismo-tiempo-3.4\"><span class=\"toc-item-num\">3.4&nbsp;&nbsp;</span>Iteramos por dos listas al mismo tiempo</a></span></li><li><span><a href=\"#Iterar-sobre-los-elementos-de-un-diccionario\" data-toc-modified-id=\"Iterar-sobre-los-elementos-de-un-diccionario-3.5\"><span class=\"toc-item-num\">3.5&nbsp;&nbsp;</span>Iterar sobre los elementos de un diccionario</a></span></li></ul></li><li><span><a href=\"#Break\" data-toc-modified-id=\"Break-4\"><span class=\"toc-item-num\">4&nbsp;&nbsp;</span>Break</a></span></li><li><span><a href=\"#Let`s-go\" data-toc-modified-id=\"Let`s-go-5\"><span class=\"toc-item-num\">5&nbsp;&nbsp;</span>Let`s go</a></span></li><li><span><a href=\"#Summary\" data-toc-modified-id=\"Summary-6\"><span class=\"toc-item-num\">6&nbsp;&nbsp;</span>Summary</a></span></li><li><span><a href=\"#Further-materials\" data-toc-modified-id=\"Further-materials-7\"><span class=\"toc-item-num\">7&nbsp;&nbsp;</span>Further materials</a></span></li></ul></div>"
   ]
  },
  {
   "cell_type": "markdown",
   "id": "constant-discovery",
   "metadata": {},
   "source": [
    "# Let's keep the flow going"
   ]
  },
  {
   "cell_type": "markdown",
   "id": "genetic-output",
   "metadata": {},
   "source": [
    "![FLOW](https://media.giphy.com/media/h8y265b9iKtzKT0pDj/giphy.gif)"
   ]
  },
  {
   "cell_type": "markdown",
   "id": "hungry-athletics",
   "metadata": {},
   "source": [
    "## La sentencia \"while\"\n",
    "\n",
    "A veces queremos ejecutar un programa hasta que se cumpla una condición. Podemos conseguirlo con la cláusula `while`.\n",
    "\n",
    "**Nota:** ¡Cuidado con las recursiones infinitas!"
   ]
  },
  {
   "cell_type": "code",
   "execution_count": 6,
   "id": "alive-nothing",
   "metadata": {},
   "outputs": [
    {
     "name": "stdout",
     "output_type": "stream",
     "text": [
      "Buenos días\n"
     ]
    }
   ],
   "source": [
    "# ¡La recursividad infinita es divertida!\n",
    "# ¿Qué atajo nos permite romper esta recursión infinita?\n"
   ]
  },
  {
   "cell_type": "code",
   "execution_count": 7,
   "id": "cloudy-bennett",
   "metadata": {},
   "outputs": [
    {
     "name": "stdout",
     "output_type": "stream",
     "text": [
      "hola\n",
      "hola\n",
      "hola\n",
      "hola\n"
     ]
    },
    {
     "ename": "KeyboardInterrupt",
     "evalue": "",
     "output_type": "error",
     "traceback": [
      "\u001b[0;31m---------------------------------------------------------------------------\u001b[0m",
      "\u001b[0;31mKeyboardInterrupt\u001b[0m                         Traceback (most recent call last)",
      "\u001b[0;32m<ipython-input-7-f0977cbd5fe5>\u001b[0m in \u001b[0;36m<module>\u001b[0;34m\u001b[0m\n\u001b[1;32m      2\u001b[0m \u001b[0;32mwhile\u001b[0m \u001b[0;34m\"a\"\u001b[0m \u001b[0;34m!=\u001b[0m \u001b[0;34m\"b\"\u001b[0m\u001b[0;34m:\u001b[0m\u001b[0;34m\u001b[0m\u001b[0;34m\u001b[0m\u001b[0m\n\u001b[1;32m      3\u001b[0m     \u001b[0mprint\u001b[0m\u001b[0;34m(\u001b[0m\u001b[0;34m\"hola\"\u001b[0m\u001b[0;34m)\u001b[0m\u001b[0;34m\u001b[0m\u001b[0;34m\u001b[0m\u001b[0m\n\u001b[0;32m----> 4\u001b[0;31m     \u001b[0mtime\u001b[0m\u001b[0;34m.\u001b[0m\u001b[0msleep\u001b[0m\u001b[0;34m(\u001b[0m\u001b[0;36m2\u001b[0m\u001b[0;34m)\u001b[0m\u001b[0;34m\u001b[0m\u001b[0;34m\u001b[0m\u001b[0m\n\u001b[0m",
      "\u001b[0;31mKeyboardInterrupt\u001b[0m: "
     ]
    }
   ],
   "source": []
  },
  {
   "cell_type": "code",
   "execution_count": 17,
   "id": "appropriate-truth",
   "metadata": {},
   "outputs": [
    {
     "name": "stdout",
     "output_type": "stream",
     "text": [
      "Introduce un número: 9\n",
      "Introduce un número: 0\n"
     ]
    }
   ],
   "source": [
    "# Pregunta al usuario por un número hasta que introduce 0.\n"
   ]
  },
  {
   "cell_type": "markdown",
   "id": "pressed-calcium",
   "metadata": {},
   "source": [
    "[NoneType](https://www.educative.io/edpresso/what-is-the-none-keyword-in-python#:~:text=In%20Python%2C%20None%20keyword%20is,not%20create%20other%20NoneType%20objects.)"
   ]
  },
  {
   "cell_type": "code",
   "execution_count": 18,
   "id": "operating-ghana",
   "metadata": {},
   "outputs": [
    {
     "data": {
      "text/plain": [
       "NoneType"
      ]
     },
     "execution_count": 18,
     "metadata": {},
     "output_type": "execute_result"
    }
   ],
   "source": []
  },
  {
   "cell_type": "markdown",
   "id": "accompanied-synthetic",
   "metadata": {},
   "source": [
    "En el caso de while True la expresión siempre va a ser evaluada como verdadera por definición. \n",
    "Equivaldría a:\n",
    "\n",
    "```python\n",
    "mientras verdadero sea verdadero:    \n",
    "    hacer algo\n",
    "   ````\n",
    "   \n",
    " Escribimos un programa que pide al usuario una letra entre a y d eternamente hasta que introduce una correctamente"
   ]
  },
  {
   "cell_type": "markdown",
   "id": "empty-seattle",
   "metadata": {},
   "source": []
  },
  {
   "cell_type": "code",
   "execution_count": 2,
   "id": "young-shooting",
   "metadata": {},
   "outputs": [
    {
     "name": "stdout",
     "output_type": "stream",
     "text": [
      "Introduce una letra que esté entre A y D: 0\n",
      "Tiene que estar entre A y D ....... \n",
      "Introduce una letra que esté entre A y D: a\n"
     ]
    }
   ],
   "source": []
  },
  {
   "cell_type": "markdown",
   "id": "reserved-encounter",
   "metadata": {},
   "source": [
    "#### Tu turno\n",
    "Lee los números enteros del teclado, hasta que el usuario introduzca el 0. Finalmente, muestra la suma de todos los números positivos introducidos."
   ]
  },
  {
   "cell_type": "code",
   "execution_count": 8,
   "id": "tamil-democracy",
   "metadata": {},
   "outputs": [
    {
     "name": "stdout",
     "output_type": "stream",
     "text": [
      "Introduce un número (0 para parar): 0\n",
      "La suma es 0\n",
      "La suma es 0\n"
     ]
    }
   ],
   "source": []
  },
  {
   "cell_type": "code",
   "execution_count": 9,
   "id": "acceptable-lebanon",
   "metadata": {},
   "outputs": [
    {
     "name": "stdout",
     "output_type": "stream",
     "text": [
      "Introduce un número: 0\n",
      "0\n"
     ]
    }
   ],
   "source": []
  },
  {
   "cell_type": "markdown",
   "id": "sunset-apache",
   "metadata": {},
   "source": [
    "Leer números enteros positivos del teclado, hasta que el usuario introduzca 0. Informar del mayor número introducido."
   ]
  },
  {
   "cell_type": "code",
   "execution_count": 20,
   "id": "tough-telling",
   "metadata": {},
   "outputs": [
    {
     "name": "stdout",
     "output_type": "stream",
     "text": [
      "Número positivo1\n",
      "Número positivo2\n",
      "Número positivo3\n",
      "Número positivo4\n",
      "Número positivo5\n",
      "Número positivo9\n",
      "Número positivo0\n",
      "El mayor número introducido es: 9\n"
     ]
    }
   ],
   "source": []
  },
  {
   "cell_type": "code",
   "execution_count": 24,
   "id": "adequate-history",
   "metadata": {},
   "outputs": [
    {
     "name": "stdout",
     "output_type": "stream",
     "text": [
      "Introduce un número1\n",
      "1\n",
      "Número positivo 2\n",
      "2\n",
      "Número positivo 1\n",
      "2\n",
      "Número positivo 0\n",
      "Mayor número ingresado: 2\n"
     ]
    }
   ],
   "source": []
  },
  {
   "cell_type": "code",
   "execution_count": null,
   "id": "beneficial-drilling",
   "metadata": {},
   "outputs": [],
   "source": [
    "# Explicación del format "
   ]
  },
  {
   "cell_type": "code",
   "execution_count": 12,
   "id": "mysterious-analyst",
   "metadata": {},
   "outputs": [
    {
     "name": "stdout",
     "output_type": "stream",
     "text": [
      "HOLA QUÉ TAL 6\n"
     ]
    }
   ],
   "source": []
  },
  {
   "cell_type": "code",
   "execution_count": 13,
   "id": "operational-public",
   "metadata": {},
   "outputs": [
    {
     "name": "stdout",
     "output_type": "stream",
     "text": [
      "Hola qué tal 2948752987\n"
     ]
    }
   ],
   "source": []
  },
  {
   "cell_type": "code",
   "execution_count": 18,
   "id": "prerequisite-settlement",
   "metadata": {},
   "outputs": [
    {
     "data": {
      "text/plain": [
       "str"
      ]
     },
     "execution_count": 18,
     "metadata": {},
     "output_type": "execute_result"
    }
   ],
   "source": []
  },
  {
   "cell_type": "code",
   "execution_count": 19,
   "id": "homeless-circular",
   "metadata": {},
   "outputs": [
    {
     "name": "stdout",
     "output_type": "stream",
     "text": [
      "El número es 3\n"
     ]
    }
   ],
   "source": []
  },
  {
   "cell_type": "code",
   "execution_count": 11,
   "id": "fifty-association",
   "metadata": {},
   "outputs": [
    {
     "data": {
      "text/plain": [
       "1"
      ]
     },
     "execution_count": 11,
     "metadata": {},
     "output_type": "execute_result"
    }
   ],
   "source": []
  },
  {
   "cell_type": "markdown",
   "id": "supreme-southwest",
   "metadata": {},
   "source": [
    "## Pass\n",
    "La sentencia pass no hace nada. Puede utilizarse cuando se requiere una sentencia sintáctica pero el programa no requiere ninguna acción (de los [docs](https://docs.python.org/3/tutorial/controlflow.html))           \n",
    "\n",
    "(Nuestra sentencia favorita de cara a nuestra jubilación)    \n",
    "Aunque pueda sorprendernos, resulta útil en varias situaciones. En Python no podemos tener sin definir un bloque de código (por ejemplo, el cuerpo de una función, el cuerpo de una condición o el de un bucle). Así que es habitual usar pass cuando estamos escribiendo la estructura de nuestro programa pero aún no hemos abordado la implementación de determinados bloques de código."
   ]
  },
  {
   "cell_type": "code",
   "execution_count": 26,
   "id": "welsh-estimate",
   "metadata": {},
   "outputs": [],
   "source": []
  },
  {
   "cell_type": "code",
   "execution_count": 27,
   "id": "international-search",
   "metadata": {},
   "outputs": [
    {
     "data": {
      "text/plain": [
       "[1, 2, 34, 4]"
      ]
     },
     "execution_count": 27,
     "metadata": {},
     "output_type": "execute_result"
    }
   ],
   "source": []
  },
  {
   "cell_type": "code",
   "execution_count": 30,
   "id": "concerned-alert",
   "metadata": {},
   "outputs": [],
   "source": []
  },
  {
   "cell_type": "markdown",
   "id": "classical-passenger",
   "metadata": {},
   "source": [
    "## For"
   ]
  },
  {
   "cell_type": "markdown",
   "id": "southeast-explorer",
   "metadata": {},
   "source": [
    "Es muy habitual escribir un código con bucles dentro de estas dos posibles situaciones:    \n",
    "    - 1: Cuando utilizamos un contador en el seno de una repetición. El contador es una variable que va incrementándose o disminuyendo de forma constante en cada iteración del bucle hasta alcanzar un valor límite que marca el fin de las repeticiones.   \n",
    "    - 2: Cuando iteramos sobre los elementos de un contenedor, por ejemplo, una lista, para operar sobre cada uno de ellos. También en este caso conocemos de antemano el número de repeticiones que tendrán lugar."
   ]
  },
  {
   "cell_type": "markdown",
   "id": "national-clock",
   "metadata": {},
   "source": [
    "La sentencia For, en Python, permite iterar sobre secuencias de valores (listas o cadenas) según un orden establecido. A diferencia de otros lenguajes, con el for de Python no se definen contadores o expresiones que cambien a cada iteración sino una secuencia sobre la cual la variable contador tomará sus valores. En cualquier caso, es la opción más adecuada para resolver los dos casos anteriores....vamos a poner un ejemplo:"
   ]
  },
  {
   "cell_type": "code",
   "execution_count": 31,
   "id": "early-bullet",
   "metadata": {},
   "outputs": [
    {
     "name": "stdout",
     "output_type": "stream",
     "text": [
      "2\n",
      "3\n",
      "35\n",
      "5\n"
     ]
    }
   ],
   "source": []
  },
  {
   "cell_type": "markdown",
   "id": "abroad-creature",
   "metadata": {},
   "source": [
    "La sentencia for, en Python, itera sobre colecciones. Por tanto, si necesitamos un contador que se incremente en cada iteración, Python proporciona la función range(), que genera listas de enteros. Esta función permite generar secuencias y es bastante versátil y podemos invocarla de diferentes maneras:"
   ]
  },
  {
   "cell_type": "markdown",
   "id": "green-meeting",
   "metadata": {},
   "source": [
    "- Con un solo argumento: genera enteros que van desde 0 hasta el anterior indicado como parámetro:"
   ]
  },
  {
   "cell_type": "code",
   "execution_count": 32,
   "id": "headed-planner",
   "metadata": {},
   "outputs": [
    {
     "name": "stdout",
     "output_type": "stream",
     "text": [
      "[0, 1, 2, 3, 4]\n"
     ]
    }
   ],
   "source": []
  },
  {
   "cell_type": "code",
   "execution_count": 33,
   "id": "nearby-sender",
   "metadata": {},
   "outputs": [
    {
     "name": "stdout",
     "output_type": "stream",
     "text": [
      "[0, 1, 2, 3, 4]\n"
     ]
    }
   ],
   "source": []
  },
  {
   "cell_type": "code",
   "execution_count": 34,
   "id": "numeric-solomon",
   "metadata": {},
   "outputs": [
    {
     "name": "stdout",
     "output_type": "stream",
     "text": [
      "[0, 1, 2, 3, 4, 5]\n"
     ]
    }
   ],
   "source": []
  },
  {
   "cell_type": "code",
   "execution_count": 36,
   "id": "canadian-petroleum",
   "metadata": {},
   "outputs": [
    {
     "name": "stdout",
     "output_type": "stream",
     "text": [
      "1\n",
      "3\n",
      "5\n"
     ]
    }
   ],
   "source": [
    "# Imprimo los impares de una lista a través de un rango\n"
   ]
  },
  {
   "cell_type": "markdown",
   "id": "latter-auction",
   "metadata": {},
   "source": [
    "- Con dos argumentos. El primer parámetro es el valor inicial y el segundo el valor por debajo del cual deben estar los elementos de la lista:"
   ]
  },
  {
   "cell_type": "code",
   "execution_count": 38,
   "id": "agreed-doctor",
   "metadata": {},
   "outputs": [
    {
     "name": "stdout",
     "output_type": "stream",
     "text": [
      "[5, 6, 7, 8, 9, 10]\n"
     ]
    }
   ],
   "source": []
  },
  {
   "cell_type": "markdown",
   "id": "adapted-microphone",
   "metadata": {},
   "source": [
    "- Con tres argumentos. Igual que en el anterior, pero el tercer parámetro indica el incremento que se produce de un elemento al siguiente:"
   ]
  },
  {
   "cell_type": "code",
   "execution_count": 39,
   "id": "resistant-medicare",
   "metadata": {},
   "outputs": [
    {
     "name": "stdout",
     "output_type": "stream",
     "text": [
      "[0, 2, 4, 6, 8, 10]\n"
     ]
    }
   ],
   "source": []
  },
  {
   "cell_type": "code",
   "execution_count": 41,
   "id": "eight-collector",
   "metadata": {},
   "outputs": [
    {
     "name": "stdout",
     "output_type": "stream",
     "text": [
      "0\n",
      "2\n",
      "4\n",
      "6\n",
      "8\n",
      "10\n",
      "12\n",
      "14\n",
      "16\n",
      "18\n",
      "20\n"
     ]
    }
   ],
   "source": []
  },
  {
   "cell_type": "markdown",
   "id": "identical-charm",
   "metadata": {},
   "source": [
    "#### Tu turno\n",
    "Escribe un programa que pregunte al usuario por su edad y muestre todos los años que ha alcanzado (desde el 1 hasta su edad)."
   ]
  },
  {
   "cell_type": "code",
   "execution_count": 43,
   "id": "moved-optimum",
   "metadata": {},
   "outputs": [
    {
     "name": "stdout",
     "output_type": "stream",
     "text": [
      "Introduce un entero7\n",
      "1\n",
      "2\n",
      "3\n",
      "4\n",
      "5\n",
      "6\n",
      "7\n"
     ]
    }
   ],
   "source": []
  },
  {
   "cell_type": "markdown",
   "id": "closing-pound",
   "metadata": {},
   "source": [
    "### Iteramos por strings"
   ]
  },
  {
   "cell_type": "code",
   "execution_count": 44,
   "id": "revolutionary-romantic",
   "metadata": {},
   "outputs": [
    {
     "name": "stdout",
     "output_type": "stream",
     "text": [
      "P\n",
      "y\n",
      "t\n",
      "h\n",
      "o\n",
      "n\n"
     ]
    }
   ],
   "source": []
  },
  {
   "cell_type": "markdown",
   "id": "worth-steps",
   "metadata": {},
   "source": [
    "### Iterate por una lista"
   ]
  },
  {
   "cell_type": "code",
   "execution_count": 46,
   "id": "careful-missile",
   "metadata": {},
   "outputs": [
    {
     "name": "stdout",
     "output_type": "stream",
     "text": [
      "[1, 3, 5, 7, 9, 11, 13]\n"
     ]
    }
   ],
   "source": []
  },
  {
   "cell_type": "markdown",
   "id": "accessible-trance",
   "metadata": {},
   "source": [
    "### Iteramos por listas sobre su índice\n",
    "- Built in functions --> https://docs.python.org/3/library/functions.html\n",
    "- Enumerate doc --> https://book.pythontips.com/en/latest/enumerate.html"
   ]
  },
  {
   "cell_type": "code",
   "execution_count": 47,
   "id": "figured-library",
   "metadata": {},
   "outputs": [],
   "source": [
    "# ENUMERATE"
   ]
  },
  {
   "cell_type": "code",
   "execution_count": 2,
   "id": "thirty-coffee",
   "metadata": {},
   "outputs": [],
   "source": [
    "nombres = [\"Ras\", \"Sheriff\", \"Dobby\", \"Bicicleta\"]"
   ]
  },
  {
   "cell_type": "code",
   "execution_count": 8,
   "id": "intimate-sacramento",
   "metadata": {},
   "outputs": [
    {
     "data": {
      "text/plain": [
       "enumerate"
      ]
     },
     "execution_count": 8,
     "metadata": {},
     "output_type": "execute_result"
    }
   ],
   "source": []
  },
  {
   "cell_type": "code",
   "execution_count": 3,
   "id": "periodic-lodging",
   "metadata": {},
   "outputs": [
    {
     "data": {
      "text/plain": [
       "[(0, 'Ras'), (1, 'Sheriff'), (2, 'Dobby'), (3, 'Bicicleta')]"
      ]
     },
     "execution_count": 3,
     "metadata": {},
     "output_type": "execute_result"
    }
   ],
   "source": []
  },
  {
   "cell_type": "code",
   "execution_count": 5,
   "id": "swiss-weather",
   "metadata": {},
   "outputs": [
    {
     "name": "stdout",
     "output_type": "stream",
     "text": [
      "El nombre es Ras y su posición en la lista es 0\n",
      "El nombre es Sheriff y su posición en la lista es 1\n",
      "El nombre es Dobby y su posición en la lista es 2\n",
      "El nombre es Bicicleta y su posición en la lista es 3\n"
     ]
    }
   ],
   "source": []
  },
  {
   "cell_type": "code",
   "execution_count": 7,
   "id": "exposed-advertiser",
   "metadata": {},
   "outputs": [
    {
     "name": "stdout",
     "output_type": "stream",
     "text": [
      "El nombre es Ras y su posición en la lista es 0\n",
      "El nombre es Sheriff y su posición en la lista es 1\n",
      "El nombre es Dobby y su posición en la lista es 2\n",
      "El nombre es Bicicleta y su posición en la lista es 3\n"
     ]
    }
   ],
   "source": []
  },
  {
   "cell_type": "markdown",
   "id": "measured-founder",
   "metadata": {},
   "source": [
    "### Iteramos por dos listas al mismo tiempo"
   ]
  },
  {
   "cell_type": "code",
   "execution_count": 12,
   "id": "egyptian-opening",
   "metadata": {},
   "outputs": [],
   "source": [
    "nombres = [\"Ras\", \"Sheriff\", \"Dobby\", \"Bicicleta\"]\n",
    "emojis = [\"🚀\", \"👮\", \"🐶\", \"🚲\"]\n",
    "lista_2 = [1,2,3,4,5,56,67,78,9,90]"
   ]
  },
  {
   "cell_type": "code",
   "execution_count": 13,
   "id": "curious-curve",
   "metadata": {},
   "outputs": [
    {
     "name": "stdout",
     "output_type": "stream",
     "text": [
      "Hola Ras ---> 🚀, y el número 1 \n",
      "Hola Sheriff ---> 👮, y el número 2 \n",
      "Hola Dobby ---> 🐶, y el número 3 \n",
      "Hola Bicicleta ---> 🚲, y el número 4 \n"
     ]
    }
   ],
   "source": []
  },
  {
   "cell_type": "code",
   "execution_count": null,
   "id": "aerial-leonard",
   "metadata": {},
   "outputs": [],
   "source": [
    "# Enumerate + zip en el bucle directamente"
   ]
  },
  {
   "cell_type": "code",
   "execution_count": 14,
   "id": "numerous-ready",
   "metadata": {},
   "outputs": [
    {
     "name": "stdout",
     "output_type": "stream",
     "text": [
      "El nombre es Ras su emoji es 🚀 y su índice en la lista es 0\n",
      "El nombre es Sheriff su emoji es 👮 y su índice en la lista es 1\n",
      "El nombre es Dobby su emoji es 🐶 y su índice en la lista es 2\n",
      "El nombre es Bicicleta su emoji es 🚲 y su índice en la lista es 3\n"
     ]
    }
   ],
   "source": []
  },
  {
   "cell_type": "markdown",
   "id": "virtual-tuner",
   "metadata": {},
   "source": [
    "### Iterar sobre los elementos de un diccionario"
   ]
  },
  {
   "cell_type": "code",
   "execution_count": 20,
   "id": "future-desperate",
   "metadata": {},
   "outputs": [],
   "source": [
    "diccionario = { \"Nombre\": \"Dobby\",\n",
    "               \"Raza\" : \"Galgo\",\n",
    "               \"Emoji\": \"🐶\",\n",
    "               \"Cosas que le gusta comer\": [{\"Carne\": [\"Pollo\", \"Ternera\"],\n",
    "                                            \"Fruta\": \"No come\"}]\n",
    "}"
   ]
  },
  {
   "cell_type": "code",
   "execution_count": 21,
   "id": "accredited-festival",
   "metadata": {},
   "outputs": [
    {
     "data": {
      "text/plain": [
       "dict_items([('Nombre', 'Dobby'), ('Raza', 'Galgo'), ('Emoji', '🐶'), ('Cosas que le gusta comer', [{'Carne': ['Pollo', 'Ternera'], 'Fruta': 'No come'}])])"
      ]
     },
     "execution_count": 21,
     "metadata": {},
     "output_type": "execute_result"
    }
   ],
   "source": []
  },
  {
   "cell_type": "code",
   "execution_count": 22,
   "id": "naughty-belle",
   "metadata": {},
   "outputs": [
    {
     "data": {
      "text/plain": [
       "dict_keys(['Nombre', 'Raza', 'Emoji', 'Cosas que le gusta comer'])"
      ]
     },
     "execution_count": 22,
     "metadata": {},
     "output_type": "execute_result"
    }
   ],
   "source": []
  },
  {
   "cell_type": "code",
   "execution_count": 23,
   "id": "conceptual-replication",
   "metadata": {},
   "outputs": [
    {
     "data": {
      "text/plain": [
       "dict_values(['Dobby', 'Galgo', '🐶', [{'Carne': ['Pollo', 'Ternera'], 'Fruta': 'No come'}]])"
      ]
     },
     "execution_count": 23,
     "metadata": {},
     "output_type": "execute_result"
    }
   ],
   "source": []
  },
  {
   "cell_type": "code",
   "execution_count": 24,
   "id": "neither-adrian",
   "metadata": {},
   "outputs": [
    {
     "name": "stdout",
     "output_type": "stream",
     "text": [
      "La key es Nombre y el value es Dobby\n",
      "La key es Raza y el value es Galgo\n",
      "La key es Emoji y el value es 🐶\n",
      "La key es Cosas que le gusta comer y el value es [{'Carne': ['Pollo', 'Ternera'], 'Fruta': 'No come'}]\n"
     ]
    }
   ],
   "source": []
  },
  {
   "cell_type": "code",
   "execution_count": 26,
   "id": "motivated-syndrome",
   "metadata": {},
   "outputs": [
    {
     "name": "stdout",
     "output_type": "stream",
     "text": [
      "Nombre\n",
      "Raza\n",
      "Emoji\n",
      "Cosas que le gusta comer\n"
     ]
    }
   ],
   "source": [
    "# iteramos sobre las keys\n"
   ]
  },
  {
   "cell_type": "code",
   "execution_count": 27,
   "id": "sacred-mystery",
   "metadata": {},
   "outputs": [
    {
     "name": "stdout",
     "output_type": "stream",
     "text": [
      "Dobby\n",
      "Galgo\n",
      "🐶\n",
      "[{'Carne': ['Pollo', 'Ternera'], 'Fruta': 'No come'}]\n"
     ]
    }
   ],
   "source": [
    "# iteramos sobre los values\n"
   ]
  },
  {
   "cell_type": "markdown",
   "id": "banned-irish",
   "metadata": {},
   "source": [
    "## Break"
   ]
  },
  {
   "cell_type": "markdown",
   "id": "civilian-coordinate",
   "metadata": {},
   "source": [
    "Podemos literalmente \"romper\" una recursión cuando se cumple una condición"
   ]
  },
  {
   "cell_type": "code",
   "execution_count": 1,
   "id": "suitable-network",
   "metadata": {},
   "outputs": [],
   "source": [
    "grupos = [\"Rufus T. Firefly\", \"Viva Suecia\", \"Standstill\",\"Bowie\", \"Fuel Fandango\"]"
   ]
  },
  {
   "cell_type": "code",
   "execution_count": 2,
   "id": "reverse-religious",
   "metadata": {},
   "outputs": [
    {
     "name": "stdout",
     "output_type": "stream",
     "text": [
      "Rufus T. Firefly hace temazos\n",
      "Viva Suecia hace temazos\n",
      "Standstill hace temazos\n",
      "Bowie hace temazos\n"
     ]
    }
   ],
   "source": []
  },
  {
   "cell_type": "markdown",
   "id": "central-cowboy",
   "metadata": {},
   "source": [
    "## Let`s go"
   ]
  },
  {
   "cell_type": "markdown",
   "id": "comparable-lafayette",
   "metadata": {},
   "source": [
    "Escribir un programa que pregunte al usuario su edad y muestre por pantalla todos los años que ha cumplido (desde 1 hasta su edad)."
   ]
  },
  {
   "cell_type": "markdown",
   "id": "loving-forth",
   "metadata": {},
   "source": [
    "Escribir un programa que pida al usuario un número entero positivo y muestre por pantalla todos los números impares desde 1 hasta ese número separados por comas."
   ]
  },
  {
   "cell_type": "markdown",
   "id": "animated-population",
   "metadata": {},
   "source": [
    "## Summary \n",
    "Es tu turno: Qué hemos aprendido?\n"
   ]
  },
  {
   "cell_type": "markdown",
   "id": "worthy-disclosure",
   "metadata": {},
   "source": [
    "## Further materials\n",
    "https://aprendeconalf.es/docencia/python/ejercicios/\n"
   ]
  }
 ],
 "metadata": {
  "kernelspec": {
   "display_name": "Python 3",
   "language": "python",
   "name": "python3"
  },
  "language_info": {
   "codemirror_mode": {
    "name": "ipython",
    "version": 3
   },
   "file_extension": ".py",
   "mimetype": "text/x-python",
   "name": "python",
   "nbconvert_exporter": "python",
   "pygments_lexer": "ipython3",
   "version": "3.8.5"
  },
  "toc": {
   "base_numbering": 1,
   "nav_menu": {},
   "number_sections": true,
   "sideBar": true,
   "skip_h1_title": true,
   "title_cell": "Table of Contents",
   "title_sidebar": "Contents",
   "toc_cell": true,
   "toc_position": {},
   "toc_section_display": true,
   "toc_window_display": false
  }
 },
 "nbformat": 4,
 "nbformat_minor": 5
}
