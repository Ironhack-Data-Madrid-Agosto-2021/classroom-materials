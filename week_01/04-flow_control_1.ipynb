{
 "cells": [
  {
   "cell_type": "markdown",
   "id": "subjective-quarter",
   "metadata": {
    "toc": true
   },
   "source": [
    "<h1>Table of Contents<span class=\"tocSkip\"></span></h1>\n",
    "<div class=\"toc\"><ul class=\"toc-item\"><li><span><a href=\"#Operadores-de-asignación\" data-toc-modified-id=\"Operadores-de-asignación-1\"><span class=\"toc-item-num\">1&nbsp;&nbsp;</span>Operadores de asignación</a></span></li><li><span><a href=\"#Operadores-aritméticos\" data-toc-modified-id=\"Operadores-aritméticos-2\"><span class=\"toc-item-num\">2&nbsp;&nbsp;</span>Operadores aritméticos</a></span></li><li><span><a href=\"#Operadores-relacionales\" data-toc-modified-id=\"Operadores-relacionales-3\"><span class=\"toc-item-num\">3&nbsp;&nbsp;</span>Operadores relacionales</a></span></li><li><span><a href=\"#Operadores-lógicos/booleanos\" data-toc-modified-id=\"Operadores-lógicos/booleanos-4\"><span class=\"toc-item-num\">4&nbsp;&nbsp;</span>Operadores lógicos/booleanos</a></span><ul class=\"toc-item\"><li><ul class=\"toc-item\"><li><span><a href=\"#Extra-para-Nerds-🤓\" data-toc-modified-id=\"Extra-para-Nerds-🤓-4.0.1\"><span class=\"toc-item-num\">4.0.1&nbsp;&nbsp;</span>Extra para Nerds 🤓</a></span></li></ul></li></ul></li><li><span><a href=\"#Identity-operators\" data-toc-modified-id=\"Identity-operators-5\"><span class=\"toc-item-num\">5&nbsp;&nbsp;</span>Identity operators</a></span></li><li><span><a href=\"#Casteo-en-Python\" data-toc-modified-id=\"Casteo-en-Python-6\"><span class=\"toc-item-num\">6&nbsp;&nbsp;</span>Casteo en Python</a></span><ul class=\"toc-item\"><li><span><a href=\"#Conversión-implícita\" data-toc-modified-id=\"Conversión-implícita-6.1\"><span class=\"toc-item-num\">6.1&nbsp;&nbsp;</span>Conversión implícita</a></span></li><li><span><a href=\"#Conversión-explícita\" data-toc-modified-id=\"Conversión-explícita-6.2\"><span class=\"toc-item-num\">6.2&nbsp;&nbsp;</span>Conversión explícita</a></span><ul class=\"toc-item\"><li><span><a href=\"#Convertir-float-a-int\" data-toc-modified-id=\"Convertir-float-a-int-6.2.1\"><span class=\"toc-item-num\">6.2.1&nbsp;&nbsp;</span>Convertir float a int</a></span></li><li><span><a href=\"#Convertir-un-float-en-un-string\" data-toc-modified-id=\"Convertir-un-float-en-un-string-6.2.2\"><span class=\"toc-item-num\">6.2.2&nbsp;&nbsp;</span>Convertir un float en un string</a></span></li><li><span><a href=\"#Convertir-string-a-int\" data-toc-modified-id=\"Convertir-string-a-int-6.2.3\"><span class=\"toc-item-num\">6.2.3&nbsp;&nbsp;</span>Convertir string a int</a></span></li></ul></li></ul></li><li><span><a href=\"#Input\" data-toc-modified-id=\"Input-7\"><span class=\"toc-item-num\">7&nbsp;&nbsp;</span>Input</a></span></li><li><span><a href=\"#Pseudocódigo\" data-toc-modified-id=\"Pseudocódigo-8\"><span class=\"toc-item-num\">8&nbsp;&nbsp;</span>Pseudocódigo</a></span></li><li><span><a href=\"#La-sentencia-&quot;If\" data-toc-modified-id=\"La-sentencia-&quot;If-9\"><span class=\"toc-item-num\">9&nbsp;&nbsp;</span>La sentencia \"If</a></span><ul class=\"toc-item\"><li><span><a href=\"#Vuestros-ejemplos-🚀\" data-toc-modified-id=\"Vuestros-ejemplos-🚀-9.1\"><span class=\"toc-item-num\">9.1&nbsp;&nbsp;</span>Vuestros ejemplos 🚀</a></span></li><li><span><a href=\"#else\" data-toc-modified-id=\"else-9.2\"><span class=\"toc-item-num\">9.2&nbsp;&nbsp;</span>else</a></span></li><li><span><a href=\"#elif\" data-toc-modified-id=\"elif-9.3\"><span class=\"toc-item-num\">9.3&nbsp;&nbsp;</span>elif</a></span></li></ul></li><li><span><a href=\"#Summary\" data-toc-modified-id=\"Summary-10\"><span class=\"toc-item-num\">10&nbsp;&nbsp;</span>Summary</a></span></li><li><span><a href=\"#Further-materials\" data-toc-modified-id=\"Further-materials-11\"><span class=\"toc-item-num\">11&nbsp;&nbsp;</span>Further materials</a></span></li></ul></div>"
   ]
  },
  {
   "cell_type": "markdown",
   "id": "italic-editor",
   "metadata": {},
   "source": [
    "# Control Flow    \n",
    "Let`s go with the flow"
   ]
  },
  {
   "cell_type": "markdown",
   "id": "published-emerald",
   "metadata": {},
   "source": [
    "![the_flow](https://media.giphy.com/media/SA6RvPmPJVlJoqYo7U/giphy.gif)"
   ]
  },
  {
   "cell_type": "markdown",
   "id": "looking-stylus",
   "metadata": {},
   "source": [
    "## Operadores de asignación"
   ]
  },
  {
   "cell_type": "markdown",
   "id": "civil-motorcycle",
   "metadata": {},
   "source": [
    "Los operadores de asignación son los que permiten dar un valor a una variable o modificarla. Python tiene ocho operadores de asignación diferentes: un operador de asignación simple y siete operadores de asignación compuestos."
   ]
  },
  {
   "cell_type": "markdown",
   "id": "convertible-disposal",
   "metadata": {},
   "source": [
    "* `=` Asignación simple `a=b`     \n",
    "* `+=` Asignación de adición `a+=b`   Equivalente simple `a=a+b`   \n",
    "* `-=` Asignación de sustracción `a-=b` Equivalente simple `a=a-b`       \n",
    "* `*=` Asignación de la multiplicación `a*=b` Equivalente simple `a=a*b`\n",
    "* `/=` Asignación de división `a/=b` Equivalente simple `a=a/b`   \n",
    "* `%=` Asignación de módulo`a/=b` Equivalente simple `a=a%b`    \n",
    "* `//=` Asignación de división entera `a//=b` Equivalente simple `a=a//b`  "
   ]
  },
  {
   "cell_type": "markdown",
   "id": "drawn-reason",
   "metadata": {},
   "source": [
    "El operador de asignación simple es el símbolo igual (=) y las operaciones realizadas con él tienen siempre la sintaxis: `variable = expresión`. En este tipo de operaciones, en primer lugar, se resuelve la expresión de la derecha y el valor resultante se asigna a la variable de la izquierda."
   ]
  },
  {
   "cell_type": "code",
   "execution_count": 3,
   "id": "checked-isaac",
   "metadata": {},
   "outputs": [],
   "source": [
    "a = 3"
   ]
  },
  {
   "cell_type": "code",
   "execution_count": 4,
   "id": "appropriate-poison",
   "metadata": {},
   "outputs": [],
   "source": [
    "b = 1"
   ]
  },
  {
   "cell_type": "code",
   "execution_count": 5,
   "id": "comparative-aggregate",
   "metadata": {},
   "outputs": [],
   "source": [
    "# Puedo igualar una variable con la suma\n",
    "c = a + b"
   ]
  },
  {
   "cell_type": "code",
   "execution_count": 7,
   "id": "vital-chase",
   "metadata": {},
   "outputs": [],
   "source": [
    "# Actualizo la varaiable a con la suma de b\n",
    "a += b"
   ]
  },
  {
   "cell_type": "code",
   "execution_count": 8,
   "id": "exempt-recognition",
   "metadata": {},
   "outputs": [
    {
     "data": {
      "text/plain": [
       "4"
      ]
     },
     "execution_count": 8,
     "metadata": {},
     "output_type": "execute_result"
    }
   ],
   "source": [
    "a"
   ]
  },
  {
   "cell_type": "code",
   "execution_count": 10,
   "id": "everyday-baghdad",
   "metadata": {},
   "outputs": [
    {
     "data": {
      "text/plain": [
       "3"
      ]
     },
     "execution_count": 10,
     "metadata": {},
     "output_type": "execute_result"
    }
   ],
   "source": [
    "# // división entera\n",
    "10 // 3"
   ]
  },
  {
   "cell_type": "code",
   "execution_count": 11,
   "id": "reflected-framework",
   "metadata": {},
   "outputs": [
    {
     "data": {
      "text/plain": [
       "3"
      ]
     },
     "execution_count": 11,
     "metadata": {},
     "output_type": "execute_result"
    }
   ],
   "source": [
    "int(10/3)"
   ]
  },
  {
   "cell_type": "markdown",
   "id": "recent-gambling",
   "metadata": {},
   "source": [
    "## Operadores aritméticos"
   ]
  },
  {
   "cell_type": "markdown",
   "id": "union-arbitration",
   "metadata": {},
   "source": [
    "Los operadores aritméticos se utilizan para realizar operaciones aritméticas, es decir, para manipular datos numéricos mediante operaciones matemáticas como la suma, la resta o la multiplicación....."
   ]
  },
  {
   "cell_type": "code",
   "execution_count": 12,
   "id": "driven-belly",
   "metadata": {},
   "outputs": [],
   "source": [
    "a = 3\n",
    "b = 4"
   ]
  },
  {
   "cell_type": "code",
   "execution_count": 13,
   "id": "boolean-princess",
   "metadata": {},
   "outputs": [
    {
     "data": {
      "text/plain": [
       "7"
      ]
     },
     "execution_count": 13,
     "metadata": {},
     "output_type": "execute_result"
    }
   ],
   "source": [
    "a +b"
   ]
  },
  {
   "cell_type": "code",
   "execution_count": 14,
   "id": "smooth-arlington",
   "metadata": {},
   "outputs": [
    {
     "data": {
      "text/plain": [
       "12"
      ]
     },
     "execution_count": 14,
     "metadata": {},
     "output_type": "execute_result"
    }
   ],
   "source": [
    "a * b "
   ]
  },
  {
   "cell_type": "code",
   "execution_count": 15,
   "id": "compatible-marketing",
   "metadata": {},
   "outputs": [
    {
     "data": {
      "text/plain": [
       "0"
      ]
     },
     "execution_count": 15,
     "metadata": {},
     "output_type": "execute_result"
    }
   ],
   "source": [
    "# División entera\n",
    "a // b"
   ]
  },
  {
   "cell_type": "markdown",
   "id": "boolean-diamond",
   "metadata": {},
   "source": [
    "## Operadores relacionales"
   ]
  },
  {
   "cell_type": "markdown",
   "id": "recorded-penetration",
   "metadata": {},
   "source": [
    "Los operadores relacionales son símbolos utilizados para comparar dos valores o expresiones. El resultado de la evaluación con estos dos operadores puede ser True, si la comparación es verdadera, o False, si la comparación es falsa."
   ]
  },
  {
   "cell_type": "markdown",
   "id": "infrared-accounting",
   "metadata": {},
   "source": [
    "*      `==` Igual a `a==b` \n",
    "*      `!=` Distinto de `a!=b` \n",
    "*      `>` Mayor que `a>b` \n",
    "*      `<` Menor que `a<b` \n",
    "*      `>=` Mayor o igual que `a>=b` \n",
    "*      `<=` Menor o igual que `a<=b` "
   ]
  },
  {
   "cell_type": "markdown",
   "id": "phantom-installation",
   "metadata": {},
   "source": [
    "Observe la diferencia entre un signo de igualdad simple (=), que es una asignación, y un signo de igualdad doble (==), que es un operador relacional    \n",
    "**Consejo: Utiliza los paréntesis para mantener el orden de las operaciones."
   ]
  },
  {
   "cell_type": "code",
   "execution_count": null,
   "id": "historical-poster",
   "metadata": {},
   "outputs": [],
   "source": [
    "# Juguemos!"
   ]
  },
  {
   "cell_type": "code",
   "execution_count": 16,
   "id": "descending-marsh",
   "metadata": {},
   "outputs": [],
   "source": [
    "x = 1\n",
    "y = 3"
   ]
  },
  {
   "cell_type": "code",
   "execution_count": 17,
   "id": "korean-weather",
   "metadata": {},
   "outputs": [
    {
     "name": "stdout",
     "output_type": "stream",
     "text": [
      "False\n"
     ]
    }
   ],
   "source": [
    "print ( x == y)"
   ]
  },
  {
   "cell_type": "code",
   "execution_count": 20,
   "id": "explicit-coral",
   "metadata": {},
   "outputs": [
    {
     "name": "stdout",
     "output_type": "stream",
     "text": [
      "True\n"
     ]
    }
   ],
   "source": [
    "print ( x != y )"
   ]
  },
  {
   "cell_type": "code",
   "execution_count": 21,
   "id": "later-special",
   "metadata": {},
   "outputs": [
    {
     "data": {
      "text/plain": [
       "False"
      ]
     },
     "execution_count": 21,
     "metadata": {},
     "output_type": "execute_result"
    }
   ],
   "source": [
    "x > y"
   ]
  },
  {
   "cell_type": "code",
   "execution_count": 22,
   "id": "widespread-active",
   "metadata": {},
   "outputs": [
    {
     "data": {
      "text/plain": [
       "True"
      ]
     },
     "execution_count": 22,
     "metadata": {},
     "output_type": "execute_result"
    }
   ],
   "source": [
    "x < y"
   ]
  },
  {
   "cell_type": "code",
   "execution_count": 23,
   "id": "excessive-fellowship",
   "metadata": {},
   "outputs": [
    {
     "name": "stdout",
     "output_type": "stream",
     "text": [
      "False\n"
     ]
    }
   ],
   "source": [
    "cadena = \"hola\"\n",
    "cadena2 = \"adiós\"\n",
    "print(cadena == cadena2)"
   ]
  },
  {
   "cell_type": "code",
   "execution_count": 26,
   "id": "liable-mailman",
   "metadata": {},
   "outputs": [
    {
     "name": "stdout",
     "output_type": "stream",
     "text": [
      "False\n"
     ]
    }
   ],
   "source": [
    "print(len(cadena) == len(cadena2))"
   ]
  },
  {
   "cell_type": "markdown",
   "id": "moved-constitution",
   "metadata": {},
   "source": [
    "## Operadores lógicos/booleanos"
   ]
  },
  {
   "cell_type": "markdown",
   "id": "indirect-butter",
   "metadata": {},
   "source": [
    "Los operadores lógicos o booleanos son los que permiten conectar dos expresiones de comparación y evaluarlas lógicamente, excepto el operador not, que invierte el valor lógico de la expresión a la que se aplica. En Python existen tres operadores lógicos: and(y), or(o) y not(no). Las operaciones con estos operadores siempre devuelven un valor booleano: Verdadero o Falso."
   ]
  },
  {
   "cell_type": "markdown",
   "id": "assumed-stand",
   "metadata": {},
   "source": [
    "Con sólo estos dos valores `Verdadero`|`Falso` podemos crear toda una rama de las matemáticas llamada [Álgebra de Boole](https://en.wikipedia.org/wiki/Boolean_algebra#Laws). Mientras que en el Álgebra regular las operaciones básicas son la suma y la multiplicación, las principales operaciones del Álgebra de Boole son la conjunción (y) denotada como ∧, la disyunción (o) denotada como ∨, y la negación (no) denotada como ¬. **Es el formalismo utilizado para describir las operaciones lógicas**.\n",
    "\n",
    "En [Python escribimos estas operaciones](https://www.geeksforgeeks.org/python-3-logical-operators/?ref=rp) como:\n",
    "\n",
    "* `x` and `y` \n",
    "* `x` or `y`\n",
    "* not `x`\n",
    "\n",
    "Aunque el significado de estas operaciones es claro, podemos definirlas completamente con la llamada \"tabla de verdad\":"
   ]
  },
  {
   "cell_type": "markdown",
   "id": "coral-armenia",
   "metadata": {},
   "source": [
    "![tablas](http://elclubdelautodidacta.es/wp/wp-content/uploads/2012/11/python-logicos.png)"
   ]
  },
  {
   "cell_type": "markdown",
   "id": "considered-violence",
   "metadata": {},
   "source": [
    "El operador **and** evalúa si las dos expresiones son verdaderas. Si ambas expresiones son verdaderas, devuelve True. Si alguna de las expresiones es falsa, devuelve Falso. Este tipo de tablas se conocen formalmente como \"tablas de verdad\"."
   ]
  },
  {
   "cell_type": "code",
   "execution_count": 27,
   "id": "fitted-madonna",
   "metadata": {},
   "outputs": [],
   "source": [
    "hola = True\n",
    "adios = False"
   ]
  },
  {
   "cell_type": "code",
   "execution_count": 36,
   "id": "sustainable-heart",
   "metadata": {},
   "outputs": [
    {
     "name": "stdout",
     "output_type": "stream",
     "text": [
      "False\n"
     ]
    }
   ],
   "source": [
    "print(hola and adios)"
   ]
  },
  {
   "cell_type": "code",
   "execution_count": 38,
   "id": "champion-wisdom",
   "metadata": {},
   "outputs": [
    {
     "data": {
      "text/plain": [
       "True"
      ]
     },
     "execution_count": 38,
     "metadata": {},
     "output_type": "execute_result"
    }
   ],
   "source": [
    "4 > 2 and 3 > 1"
   ]
  },
  {
   "cell_type": "code",
   "execution_count": 30,
   "id": "unauthorized-thong",
   "metadata": {},
   "outputs": [
    {
     "data": {
      "text/plain": [
       "True"
      ]
     },
     "execution_count": 30,
     "metadata": {},
     "output_type": "execute_result"
    }
   ],
   "source": [
    "hola and hola"
   ]
  },
  {
   "cell_type": "markdown",
   "id": "psychological-margin",
   "metadata": {},
   "source": [
    "El operador **or** evalúa si cualquiera de las expresiones es verdadera, es decir, devuelve True si cualquiera de las expresiones es verdadera y False cuando ambas expresiones son falsas."
   ]
  },
  {
   "cell_type": "code",
   "execution_count": 31,
   "id": "silver-flesh",
   "metadata": {},
   "outputs": [
    {
     "data": {
      "text/plain": [
       "True"
      ]
     },
     "execution_count": 31,
     "metadata": {},
     "output_type": "execute_result"
    }
   ],
   "source": [
    "hola or adios"
   ]
  },
  {
   "cell_type": "code",
   "execution_count": 33,
   "id": "greek-shadow",
   "metadata": {},
   "outputs": [],
   "source": [
    "ras_es_rica = False\n",
    "ras_vive_en_lavapies = True"
   ]
  },
  {
   "cell_type": "code",
   "execution_count": 39,
   "id": "collected-gibraltar",
   "metadata": {},
   "outputs": [
    {
     "data": {
      "text/plain": [
       "True"
      ]
     },
     "execution_count": 39,
     "metadata": {},
     "output_type": "execute_result"
    }
   ],
   "source": [
    "ras_es_rica or ras_vive_en_lavapies"
   ]
  },
  {
   "cell_type": "markdown",
   "id": "varied-species",
   "metadata": {},
   "source": [
    "Por último, el operador **not** es un operador que devuelve el valor opuesto a la expresión evaluada. Si la expresión tiene el valor True, devuelve False. Por el contrario, si la expresión tiene el valor False, devuelve True."
   ]
  },
  {
   "cell_type": "code",
   "execution_count": 40,
   "id": "located-annex",
   "metadata": {},
   "outputs": [],
   "source": [
    "verdad = True\n",
    "mentira = False"
   ]
  },
  {
   "cell_type": "code",
   "execution_count": 41,
   "id": "simplified-exchange",
   "metadata": {},
   "outputs": [
    {
     "data": {
      "text/plain": [
       "False"
      ]
     },
     "execution_count": 41,
     "metadata": {},
     "output_type": "execute_result"
    }
   ],
   "source": [
    "not verdad"
   ]
  },
  {
   "cell_type": "code",
   "execution_count": 42,
   "id": "attended-ghost",
   "metadata": {},
   "outputs": [
    {
     "data": {
      "text/plain": [
       "True"
      ]
     },
     "execution_count": 42,
     "metadata": {},
     "output_type": "execute_result"
    }
   ],
   "source": [
    "3 > 2"
   ]
  },
  {
   "cell_type": "code",
   "execution_count": 43,
   "id": "computational-radius",
   "metadata": {},
   "outputs": [
    {
     "data": {
      "text/plain": [
       "False"
      ]
     },
     "execution_count": 43,
     "metadata": {},
     "output_type": "execute_result"
    }
   ],
   "source": [
    "not 3 > 2"
   ]
  },
  {
   "cell_type": "markdown",
   "id": "civil-cookie",
   "metadata": {},
   "source": [
    "#### Extra para Nerds 🤓"
   ]
  },
  {
   "cell_type": "markdown",
   "id": "optimum-czech",
   "metadata": {},
   "source": [
    "Las cosas pueden complicarse cuando combinamos varias expresiones lógicas... Consideremos, por ejemplo, las llamadas [leyes de De Morgan](https://en.wikipedia.org/wiki/De_Morgan%27s_laws):\n",
    "\n",
    "Las reglas se pueden expresar en español como:\n",
    "- La negación de la conjunción es la disyunción de las negaciones.\n",
    "- La negación de la disyunción es la conjunción de las negaciones.\n",
    "\n",
    "\n",
    "* not (A o B) = not A y not B\n",
    "* not (A y B) = no A o no B\n",
    "\n",
    "El [álgebra booleana](https://en.wikipedia.org/wiki/Boolean_algebra#Laws) satisface muchas reglas comunes como la conmutatividad, la asociatividad, etc. Pero aquí tratamos de mantener la sencillez y aprender con la práctica."
   ]
  },
  {
   "cell_type": "code",
   "execution_count": 44,
   "id": "excited-climate",
   "metadata": {},
   "outputs": [],
   "source": [
    "a = False\n",
    "b = True"
   ]
  },
  {
   "cell_type": "code",
   "execution_count": 46,
   "id": "manual-rogers",
   "metadata": {},
   "outputs": [
    {
     "data": {
      "text/plain": [
       "False"
      ]
     },
     "execution_count": 46,
     "metadata": {},
     "output_type": "execute_result"
    }
   ],
   "source": [
    "not (a or b)"
   ]
  },
  {
   "cell_type": "code",
   "execution_count": 47,
   "id": "spanish-mineral",
   "metadata": {},
   "outputs": [
    {
     "data": {
      "text/plain": [
       "True"
      ]
     },
     "execution_count": 47,
     "metadata": {},
     "output_type": "execute_result"
    }
   ],
   "source": [
    "not (a and b)"
   ]
  },
  {
   "cell_type": "markdown",
   "id": "bizarre-subdivision",
   "metadata": {},
   "source": [
    "## Identity operators"
   ]
  },
  {
   "cell_type": "markdown",
   "id": "educated-involvement",
   "metadata": {},
   "source": [
    "Los operadores de pertenencia, también conocidos como operadores miembro, permiten comprobar si un dato forma parte o no de una colección: una lista, una tupla, un string, etc.\n",
    "    El operador `in` tiene la sintaxis `elemento in contenedor`. Se trata de un operador booleano que comprueba si el elemento forma parte del contenedor. En caso afirmativo devuelve True y en caso negativo False"
   ]
  },
  {
   "cell_type": "code",
   "execution_count": 51,
   "id": "natural-capitol",
   "metadata": {},
   "outputs": [],
   "source": [
    "nums = [1,2,3,4,5,6]"
   ]
  },
  {
   "cell_type": "code",
   "execution_count": 52,
   "id": "preceding-custom",
   "metadata": {},
   "outputs": [],
   "source": [
    "a = 4"
   ]
  },
  {
   "cell_type": "code",
   "execution_count": 53,
   "id": "beginning-grass",
   "metadata": {},
   "outputs": [
    {
     "data": {
      "text/plain": [
       "True"
      ]
     },
     "execution_count": 53,
     "metadata": {},
     "output_type": "execute_result"
    }
   ],
   "source": [
    "a in nums"
   ]
  },
  {
   "cell_type": "code",
   "execution_count": 54,
   "id": "compressed-subsection",
   "metadata": {},
   "outputs": [
    {
     "data": {
      "text/plain": [
       "False"
      ]
     },
     "execution_count": 54,
     "metadata": {},
     "output_type": "execute_result"
    }
   ],
   "source": [
    "\"b\" in nums"
   ]
  },
  {
   "cell_type": "code",
   "execution_count": 55,
   "id": "vital-denial",
   "metadata": {
    "scrolled": true
   },
   "outputs": [
    {
     "data": {
      "text/plain": [
       "False"
      ]
     },
     "execution_count": 55,
     "metadata": {},
     "output_type": "execute_result"
    }
   ],
   "source": [
    "cadena = \"hola buenos días\"\n",
    "\"z\" in cadena"
   ]
  },
  {
   "cell_type": "code",
   "execution_count": 56,
   "id": "pleased-drilling",
   "metadata": {},
   "outputs": [],
   "source": [
    "hola = \"b\""
   ]
  },
  {
   "cell_type": "code",
   "execution_count": 57,
   "id": "australian-static",
   "metadata": {},
   "outputs": [
    {
     "data": {
      "text/plain": [
       "True"
      ]
     },
     "execution_count": 57,
     "metadata": {},
     "output_type": "execute_result"
    }
   ],
   "source": [
    "hola in cadena"
   ]
  },
  {
   "cell_type": "markdown",
   "id": "professional-market",
   "metadata": {},
   "source": [
    "## Casteo en Python"
   ]
  },
  {
   "cell_type": "markdown",
   "id": "excellent-tolerance",
   "metadata": {},
   "source": [
    "Casting significa convertir un tipo de datos en otro. Anteriormente hemos visto tipos como int, string o float. Pues bien, es posible convertir de un tipo a otro.\n",
    "Pero antes de nada, veamos los diferentes tipos de cast o conversión de tipos que se pueden hacer. Hay dos:\n",
    "\n",
    "**Conversión implícita:** Esto lo hace Python de forma automática. Ocurre cuando realizamos ciertas operaciones con dos tipos diferentes.\n",
    "\n",
    "**Conversión explícita:** La hacemos nosotros explícitamente, como por ejemplo convertir str en int con str()."
   ]
  },
  {
   "cell_type": "markdown",
   "id": "acknowledged-chest",
   "metadata": {},
   "source": [
    "### Conversión implícita\n",
    "Esta conversión de tipos la realiza Python automáticamente, prácticamente sin que nos demos cuenta. Aun así, es importante conocer lo que ocurre por debajo para evitar futuros problemas.\n",
    "\n",
    "El ejemplo más sencillo donde podemos ver este comportamiento es el siguiente:"
   ]
  },
  {
   "cell_type": "code",
   "execution_count": 63,
   "id": "departmental-immunology",
   "metadata": {},
   "outputs": [
    {
     "name": "stdout",
     "output_type": "stream",
     "text": [
      "4.2\n"
     ]
    },
    {
     "data": {
      "text/plain": [
       "float"
      ]
     },
     "execution_count": 63,
     "metadata": {},
     "output_type": "execute_result"
    }
   ],
   "source": [
    "a = 1 # es un entero\n",
    "b = 3.2 # es un float\n",
    "\n",
    "c = x + y\n",
    "print(c)\n",
    "type(c)"
   ]
  },
  {
   "cell_type": "markdown",
   "id": "loving-candidate",
   "metadata": {},
   "source": [
    "a es un int   \n",
    "b es un float    \n",
    "Pero si sumamos a y b y almacenamos el resultado en a, podemos ver cómo internamente Python ha convertido el int a float para realizar la operación, y la variable resultante es float.\n",
    "Sin embargo, hay otros casos en los que Python no es tan inteligente y no es capaz de realizar la conversión. Si intentamos añadir un int a una cadena, obtendremos un TypeError."
   ]
  },
  {
   "cell_type": "code",
   "execution_count": 65,
   "id": "behavioral-attendance",
   "metadata": {},
   "outputs": [
    {
     "ename": "TypeError",
     "evalue": "unsupported operand type(s) for +: 'int' and 'str'",
     "output_type": "error",
     "traceback": [
      "\u001b[0;31m---------------------------------------------------------------------------\u001b[0m",
      "\u001b[0;31mTypeError\u001b[0m                                 Traceback (most recent call last)",
      "\u001b[0;32m<ipython-input-65-54d57f955f10>\u001b[0m in \u001b[0;36m<module>\u001b[0;34m\u001b[0m\n\u001b[1;32m      1\u001b[0m \u001b[0mh\u001b[0m \u001b[0;34m=\u001b[0m \u001b[0;34m\"hola\"\u001b[0m\u001b[0;34m\u001b[0m\u001b[0;34m\u001b[0m\u001b[0m\n\u001b[0;32m----> 2\u001b[0;31m \u001b[0ma\u001b[0m \u001b[0;34m+\u001b[0m \u001b[0mh\u001b[0m\u001b[0;34m\u001b[0m\u001b[0;34m\u001b[0m\u001b[0m\n\u001b[0m",
      "\u001b[0;31mTypeError\u001b[0m: unsupported operand type(s) for +: 'int' and 'str'"
     ]
    }
   ],
   "source": [
    "h = \"hola\"\n",
    "a + h"
   ]
  },
  {
   "cell_type": "markdown",
   "id": "banned-irish",
   "metadata": {},
   "source": [
    "### Conversión explícita\n",
    "Por otro lado, podemos realizar conversiones entre tipos o castings de forma explícita utilizando diferentes funciones que proporciona Python. Las más utilizadas son las siguientes:\n",
    "\n",
    "`float(), str(), int(), list(), set()`        \n",
    "Y algunas otras como `hex(), oct() y bin(). `           \n",
    "#### Convertir float a int \n",
    "Para convertir de float a int debemos utilizar int(). Pero cuidado, porque el tipo integer no puede almacenar decimales, por lo que perderemos lo que haya después del punto decimal."
   ]
  },
  {
   "cell_type": "code",
   "execution_count": 66,
   "id": "ambient-charger",
   "metadata": {},
   "outputs": [
    {
     "data": {
      "text/plain": [
       "3"
      ]
     },
     "execution_count": 66,
     "metadata": {},
     "output_type": "execute_result"
    }
   ],
   "source": [
    "a = 3.2\n",
    "int(a)"
   ]
  },
  {
   "cell_type": "markdown",
   "id": "chemical-theme",
   "metadata": {},
   "source": [
    "#### Convertir un float en un string\n",
    "Podemos convertir un flotador en una cadena con str(). Podemos ver en el siguiente código cómo cambia el tipo de a después del cast."
   ]
  },
  {
   "cell_type": "code",
   "execution_count": 68,
   "id": "similar-provider",
   "metadata": {},
   "outputs": [
    {
     "name": "stdout",
     "output_type": "stream",
     "text": [
      "3.2\n",
      "<class 'str'>\n"
     ]
    }
   ],
   "source": [
    "casteado = str(a)\n",
    "print(casteado)\n",
    "print(type(casteado))"
   ]
  },
  {
   "cell_type": "code",
   "execution_count": 69,
   "id": "beneficial-walnut",
   "metadata": {},
   "outputs": [
    {
     "data": {
      "text/plain": [
       "'3.23.23.23.2'"
      ]
     },
     "execution_count": 69,
     "metadata": {},
     "output_type": "execute_result"
    }
   ],
   "source": [
    "# Si multiplico b por un número lo que tengo es una multiplicación de un string\n",
    "casteado * 4"
   ]
  },
  {
   "cell_type": "markdown",
   "id": "collectible-vatican",
   "metadata": {},
   "source": [
    "#### Convertir string a int\n",
    "Al igual que la conversión a float anterior, podemos convertir de cadena a int utilizando int()."
   ]
  },
  {
   "cell_type": "code",
   "execution_count": 71,
   "id": "sunrise-canon",
   "metadata": {},
   "outputs": [
    {
     "name": "stdout",
     "output_type": "stream",
     "text": [
      "1\n"
     ]
    },
    {
     "data": {
      "text/plain": [
       "str"
      ]
     },
     "execution_count": 71,
     "metadata": {},
     "output_type": "execute_result"
    }
   ],
   "source": [
    "uno = \"1\"\n",
    "print(uno)\n",
    "type(uno)"
   ]
  },
  {
   "cell_type": "markdown",
   "id": "metropolitan-command",
   "metadata": {},
   "source": [
    "## Input\n",
    "Para asignar una variable a un valor introducido por el usuario en la consola, utilice la instrucción\n",
    "``python\n",
    "input(mensaje) : Muestra el mensaje de la cadena por el terminal y devuelve una cadena con la entrada \n",
    "  ``` "
   ]
  },
  {
   "cell_type": "code",
   "execution_count": 73,
   "id": "increased-equivalent",
   "metadata": {},
   "outputs": [
    {
     "name": "stdout",
     "output_type": "stream",
     "text": [
      "Introduce un número 77\n"
     ]
    }
   ],
   "source": [
    "dato = input(\"Introduce un número \")"
   ]
  },
  {
   "cell_type": "code",
   "execution_count": 74,
   "id": "medieval-gender",
   "metadata": {},
   "outputs": [
    {
     "data": {
      "text/plain": [
       "'77'"
      ]
     },
     "execution_count": 74,
     "metadata": {},
     "output_type": "execute_result"
    }
   ],
   "source": [
    "dato"
   ]
  },
  {
   "cell_type": "code",
   "execution_count": 75,
   "id": "unknown-cedar",
   "metadata": {},
   "outputs": [
    {
     "name": "stdout",
     "output_type": "stream",
     "text": [
      "introduce tu edad sdglhadglkh\n"
     ]
    },
    {
     "ename": "ValueError",
     "evalue": "invalid literal for int() with base 10: 'sdglhadglkh'",
     "output_type": "error",
     "traceback": [
      "\u001b[0;31m---------------------------------------------------------------------------\u001b[0m",
      "\u001b[0;31mValueError\u001b[0m                                Traceback (most recent call last)",
      "\u001b[0;32m<ipython-input-75-57575ee0be07>\u001b[0m in \u001b[0;36m<module>\u001b[0;34m\u001b[0m\n\u001b[0;32m----> 1\u001b[0;31m \u001b[0medad\u001b[0m \u001b[0;34m=\u001b[0m \u001b[0mint\u001b[0m\u001b[0;34m(\u001b[0m\u001b[0minput\u001b[0m\u001b[0;34m(\u001b[0m\u001b[0;34m\"introduce tu edad \"\u001b[0m\u001b[0;34m)\u001b[0m\u001b[0;34m)\u001b[0m\u001b[0;34m\u001b[0m\u001b[0;34m\u001b[0m\u001b[0m\n\u001b[0m",
      "\u001b[0;31mValueError\u001b[0m: invalid literal for int() with base 10: 'sdglhadglkh'"
     ]
    }
   ],
   "source": [
    "edad = int(input(\"introduce tu edad \"))"
   ]
  },
  {
   "cell_type": "code",
   "execution_count": 112,
   "id": "variable-premises",
   "metadata": {},
   "outputs": [
    {
     "name": "stdout",
     "output_type": "stream",
     "text": [
      "introduce un número 55\n"
     ]
    }
   ],
   "source": [
    "dato2 = input(\"introduce un número \")"
   ]
  },
  {
   "cell_type": "code",
   "execution_count": 113,
   "id": "legitimate-puppy",
   "metadata": {},
   "outputs": [
    {
     "name": "stdout",
     "output_type": "stream",
     "text": [
      "<class 'str'>\n"
     ]
    }
   ],
   "source": [
    "print(type(dato2))"
   ]
  },
  {
   "cell_type": "markdown",
   "id": "attended-assurance",
   "metadata": {},
   "source": [
    "# Control Flow"
   ]
  },
  {
   "cell_type": "markdown",
   "id": "environmental-medium",
   "metadata": {},
   "source": [
    "En los lenguajes imperativos, como Python, el ordenador sigue la secuencia de instrucciones del código y lo ejecuta línea a línea. Denominamos \"flujo\" de un programa al orden en la ejecución del código. Este orden secuencial puede alterarse. La llamada a una función, por ejemplo, lleva la ejecución al código en su interior (el \"cuerpo\" de la función) para regresar inmediatamente después de dicha llamada y continuar.    \n",
    "La ejecución es similar a nuestra atención en un proceso de limpieza de la casa, por ejemplo, solo podemos hacer una tarea a la vez. Estamos barriendo, pero al terminar de barrear golpeamos un jarrón (imagina que me lo regaló mi tía y qué ilusión) , entonces recogemos los trozos antes de ponernos a fregar. Fregando encontramos el chicle perdido de nuestro sobrino bajo el sofá, lo cual nos obliga a ir a buscar una espátula para quitarlo..... \n",
    "Pero solo podemos hacer una tarea a la vez. 🥲"
   ]
  },
  {
   "cell_type": "markdown",
   "id": "opening-gates",
   "metadata": {},
   "source": [
    "## Pseudocódigo"
   ]
  },
  {
   "cell_type": "markdown",
   "id": "joint-customs",
   "metadata": {},
   "source": [
    "El pseudocódigo es un método de planificación que permite al programador planificar sin preocuparse por la sintaxis."
   ]
  },
  {
   "cell_type": "markdown",
   "id": "short-survey",
   "metadata": {},
   "source": [
    "--> https://es.wikipedia.org/wiki/Pseudoc%C3%B3digo"
   ]
  },
  {
   "cell_type": "code",
   "execution_count": null,
   "id": "designed-addiction",
   "metadata": {},
   "outputs": [],
   "source": [
    "\"\"\"\n",
    "Comentario en \n",
    "diferentes líneas\n",
    "\"\"\"\n",
    "\n",
    "\"\"\"\n",
    "def function():\n",
    "    #condicional de la variable que entra y si sucede:\n",
    "        print(loquesea)\n",
    "\"\"\"\n",
    "# Comentario en una línea \n",
    "\n",
    "\n",
    "\"\"\"\n",
    "hago una función (¿argumentos?):\n",
    "    necesito un input\n",
    "    aquí hago un bucle y compruebo cosas\n",
    "\"\"\""
   ]
  },
  {
   "cell_type": "markdown",
   "id": "assured-guidance",
   "metadata": {},
   "source": [
    "## La sentencia \"If \n",
    "Esta es la opción más conocida para controlar el flujo de un programa. Las condiciones permiten elegir entre diferentes caminos en función del valor de una expresión.Cuando se quiere ejecutar una acción sólo cuando alguna condición es `Verdadera` se utiliza una sentencia \"if\":"
   ]
  },
  {
   "cell_type": "code",
   "execution_count": 76,
   "id": "pediatric-polyester",
   "metadata": {},
   "outputs": [
    {
     "name": "stdout",
     "output_type": "stream",
     "text": [
      "la condición se cumple\n"
     ]
    }
   ],
   "source": [
    "condicion = True\n",
    "if condicion:\n",
    "    print(\"la condición se cumple\")"
   ]
  },
  {
   "cell_type": "code",
   "execution_count": 84,
   "id": "absent-optics",
   "metadata": {},
   "outputs": [],
   "source": [
    "condicion2 = []\n",
    "if condicion2:\n",
    "    print(\"La condición se cumple\")"
   ]
  },
  {
   "cell_type": "code",
   "execution_count": 80,
   "id": "opened-maria",
   "metadata": {},
   "outputs": [
    {
     "name": "stdout",
     "output_type": "stream",
     "text": [
      "La condición se cumple\n"
     ]
    }
   ],
   "source": [
    "if 3 > 2:\n",
    "    print ( \"La condición se cumple\")"
   ]
  },
  {
   "cell_type": "markdown",
   "id": "southeast-shakespeare",
   "metadata": {},
   "source": [
    "Como podemos ver, el bloque de código asociado a la condición comienza después de los dos puntos \":\", con una sangría que determina el bloque de código. Todas las instrucciones pertenecientes al mismo bloque deben tener la misma sangría. El bloque termina cuando la sangría vuelve a la posición inicial de la sentencia if. Recuerde que Python utiliza la sangría para identificar los bloques de código."
   ]
  },
  {
   "cell_type": "code",
   "execution_count": 87,
   "id": "polyphonic-colon",
   "metadata": {},
   "outputs": [
    {
     "name": "stdout",
     "output_type": "stream",
     "text": [
      "adiós\n",
      "hola\n"
     ]
    }
   ],
   "source": [
    "if 3 > 2:\n",
    "    print(\"adiós\")\n",
    "print(\"hola\") # Este bloque de código no está indentado"
   ]
  },
  {
   "cell_type": "code",
   "execution_count": 88,
   "id": "hazardous-farmer",
   "metadata": {},
   "outputs": [
    {
     "ename": "IndentationError",
     "evalue": "expected an indented block (<ipython-input-88-9bb1d36ad676>, line 2)",
     "output_type": "error",
     "traceback": [
      "\u001b[0;36m  File \u001b[0;32m\"<ipython-input-88-9bb1d36ad676>\"\u001b[0;36m, line \u001b[0;32m2\u001b[0m\n\u001b[0;31m    print(\"hola\") # Este bloque de código no está indentado\u001b[0m\n\u001b[0m    ^\u001b[0m\n\u001b[0;31mIndentationError\u001b[0m\u001b[0;31m:\u001b[0m expected an indented block\n"
     ]
    }
   ],
   "source": [
    "if 3 > 2:\n",
    "print(\"hola\") # Este bloque de código no está indentado"
   ]
  },
  {
   "cell_type": "code",
   "execution_count": 90,
   "id": "ultimate-contrast",
   "metadata": {},
   "outputs": [
    {
     "name": "stdout",
     "output_type": "stream",
     "text": [
      "1\n",
      "[1, 2, 3, 4]\n",
      "2\n",
      "[1, 2, 3, 4]\n",
      "3\n",
      "[1, 2, 3, 4]\n",
      "4\n",
      "[1, 2, 3, 4]\n",
      "[1, 2, 3, 4]\n"
     ]
    }
   ],
   "source": [
    "lista = [1,2,3,4]\n",
    "for a in lista:\n",
    "    print(a)\n",
    "    print(lista)\n",
    "print(lista)"
   ]
  },
  {
   "cell_type": "code",
   "execution_count": null,
   "id": "thrown-money",
   "metadata": {},
   "outputs": [],
   "source": [
    "# es tu turno!\n",
    "# escribe un programa simple que imprima si bob puede entrar en la discoteca\n",
    "# para dos valores cualesquiera de las siguientes variables:"
   ]
  },
  {
   "cell_type": "code",
   "execution_count": 91,
   "id": "attended-steps",
   "metadata": {},
   "outputs": [
    {
     "name": "stdout",
     "output_type": "stream",
     "text": [
      "Bob, puedes entrar\n"
     ]
    }
   ],
   "source": [
    "#print(edad_bob,edad_minima)\n",
    "edad_bob = 25\n",
    "edad_minima = 18\n",
    "if edad_bob >= edad_minima:\n",
    "    print(\"Bob, puedes entrar\")"
   ]
  },
  {
   "cell_type": "markdown",
   "id": "described-bikini",
   "metadata": {},
   "source": [
    "### Vuestros ejemplos 🚀"
   ]
  },
  {
   "cell_type": "code",
   "execution_count": 92,
   "id": "analyzed-recipe",
   "metadata": {},
   "outputs": [
    {
     "name": "stdout",
     "output_type": "stream",
     "text": [
      "74\n",
      "Hola que edad tienes, 74\n",
      "Puedes entrar Bob\n"
     ]
    }
   ],
   "source": [
    "edad_bob = input()\n",
    "print(f\"Hola que edad tienes, {edad_bob}\")\n",
    "edad = int(edad_bob)\n",
    "if edad >= 18:\n",
    "    print(\"Puedes entrar Bob\")\n",
    "else:\n",
    "    print(\"No puedes entrar Bob\")"
   ]
  },
  {
   "cell_type": "code",
   "execution_count": 93,
   "id": "compatible-tribune",
   "metadata": {},
   "outputs": [
    {
     "name": "stdout",
     "output_type": "stream",
     "text": [
      "Introduzca tu edad por favor: adglkj\n",
      "Introduzca tu edad por favor (Debe ser un número): 21\n",
      " Puedes entrar a la discoteca\n"
     ]
    }
   ],
   "source": [
    "edad_minima = 18\n",
    "edad = input(\"Introduzca tu edad por favor: \")\n",
    "while (not edad.isnumeric()):\n",
    "    edad = input(\"Introduzca tu edad por favor (Debe ser un número): \")\n",
    "edad_int = int(edad)\n",
    "if edad_int >= 18:\n",
    "    print(\" Puedes entrar a la discoteca\")\n",
    "else:\n",
    "    print(\" No puedes entrar a la disco\")"
   ]
  },
  {
   "cell_type": "markdown",
   "id": "approximate-lexington",
   "metadata": {},
   "source": [
    "### else\n",
    "A veces se quiere que si la condición no se cumple (y sólo entonces) se ejecute otra acción. Son acciones mutuamente excluyentes. Esto se consigue con la sentencia `else`."
   ]
  },
  {
   "cell_type": "markdown",
   "id": "median-injection",
   "metadata": {},
   "source": [
    "![if](../images/if-else-statements.jpeg)"
   ]
  },
  {
   "cell_type": "code",
   "execution_count": 95,
   "id": "clean-selling",
   "metadata": {},
   "outputs": [
    {
     "name": "stdout",
     "output_type": "stream",
     "text": [
      "La condición no se cumple\n"
     ]
    }
   ],
   "source": [
    "condicion = False\n",
    "if condicion:\n",
    "    print(\"La condición se cumple\")\n",
    "else:\n",
    "    print(\"La condición no se cumple\")"
   ]
  },
  {
   "cell_type": "code",
   "execution_count": 96,
   "id": "irish-mongolia",
   "metadata": {},
   "outputs": [
    {
     "name": "stdout",
     "output_type": "stream",
     "text": [
      "La condición se cumple\n"
     ]
    }
   ],
   "source": [
    "condicion = True\n",
    "if condicion:\n",
    "    print(\"La condición se cumple\")\n",
    "else:\n",
    "    print(\"La condición no se cumple\")"
   ]
  },
  {
   "cell_type": "code",
   "execution_count": null,
   "id": "small-brooks",
   "metadata": {},
   "outputs": [],
   "source": [
    "# Modifica tu programa para que cuando Bob no pueda acceder a la disco haya un mensaje de impresión diferente:"
   ]
  },
  {
   "cell_type": "code",
   "execution_count": 99,
   "id": "committed-playback",
   "metadata": {},
   "outputs": [
    {
     "name": "stdout",
     "output_type": "stream",
     "text": [
      "Introduce tu edad 15\n",
      "Vete a casa Bob\n"
     ]
    }
   ],
   "source": [
    "edad_bob = int(input(\"Introduce tu edad \"))\n",
    "edad_minima = 18\n",
    "if edad_bob >= edad_minima:\n",
    "    print(\"Puedes pasar\")\n",
    "else:\n",
    "    print(\"Vete a casa Bob\")"
   ]
  },
  {
   "cell_type": "markdown",
   "id": "violent-speaker",
   "metadata": {},
   "source": [
    "### elif\n",
    "A veces hay más de dos posibilidades. Piensa en algo como:\n",
    "\"Si Bob puede entrar en la discoteca, déjale entrar. Si no, si tiene más de 16 años, recomiéndale la discoteca light cercana. Si no, envíalo a casa\".\n",
    "\n",
    "Podemos conseguirlo con la cláusula `elif` y los condicionales encadenados:"
   ]
  },
  {
   "cell_type": "markdown",
   "id": "behind-ghana",
   "metadata": {},
   "source": [
    "```python\n",
    "if nosequé:\n",
    "    nosecuantos\n",
    "if otracosa:\n",
    "    nosecuantitos\n",
    "```\n",
    "\n",
    "💩 Es computacionalmente más eficiente utilizar elif, aunque este código funciona, Python va a entrar a comprobar todos los if"
   ]
  },
  {
   "cell_type": "code",
   "execution_count": 101,
   "id": "stock-dependence",
   "metadata": {},
   "outputs": [
    {
     "name": "stdout",
     "output_type": "stream",
     "text": [
      "La condición 2 se cumple\n"
     ]
    }
   ],
   "source": [
    "condicion_1 = False\n",
    "condicion_2 = True\n",
    "\n",
    "if condicion_1:\n",
    "    print(\"La condición se cumple\")\n",
    "elif condicion_2:\n",
    "    print(\"La condición 2 se cumple\")\n",
    "else:\n",
    "    print (\"No se cumple ninguna de las condiciones\")"
   ]
  },
  {
   "cell_type": "code",
   "execution_count": null,
   "id": "foster-formation",
   "metadata": {},
   "outputs": [],
   "source": [
    "\"\"\"\n",
    "Modifica tu programa para que cuando Bob no pueda acceder a la discoteca pero esté por encima de la edad legal\n",
    "lo envíes a la disco light\n",
    "\"\"\""
   ]
  },
  {
   "cell_type": "markdown",
   "id": "significant-bulgarian",
   "metadata": {},
   "source": [
    "Vuestro código 🔥🔝"
   ]
  },
  {
   "cell_type": "code",
   "execution_count": 102,
   "id": "published-hunger",
   "metadata": {},
   "outputs": [
    {
     "name": "stdout",
     "output_type": "stream",
     "text": [
      "Introduzca tu edad por favor: ,znxfla\n",
      "Introduzca tu edad por favor (Debe ser un número): 15\n",
      "puedes entrar e la disco, pero no te emociones, es la disco light\n"
     ]
    }
   ],
   "source": [
    "edad_minima = 18\n",
    "edad_legal = 15\n",
    "edad = input(\"Introduzca tu edad por favor: \")\n",
    "\n",
    "while (not edad.isnumeric()):\n",
    "    edad = input(\"Introduzca tu edad por favor (Debe ser un número): \")\n",
    "    \n",
    "edad_int = int(edad)\n",
    "\n",
    "if edad_int >= 18:\n",
    "    print(\"Puedes entrar a la discoteca\")\n",
    "elif edad_int<edad_minima and edad_int>=edad_legal:\n",
    "    print(\"puedes entrar e la disco, pero no te emociones, es la disco light\")\n",
    "else:\n",
    "    print(\"Tira pa la casa con tu mami\")"
   ]
  },
  {
   "cell_type": "code",
   "execution_count": 104,
   "id": "hybrid-alfred",
   "metadata": {},
   "outputs": [
    {
     "name": "stdout",
     "output_type": "stream",
     "text": [
      "edad de bob57\n",
      "edad minima18\n",
      "pasa\n"
     ]
    }
   ],
   "source": [
    "bob = input(\"edad de bob\")\n",
    "mini= input(\"edad minima\")\n",
    "if bob >= mini:\n",
    "    print(\"pasa\")\n",
    "elif bob >= 16:\n",
    "    print(\"ve a disco light\")\n",
    "else:\n",
    "    print(\"fuera niño\")"
   ]
  },
  {
   "cell_type": "code",
   "execution_count": null,
   "id": "transparent-nickname",
   "metadata": {},
   "outputs": [],
   "source": [
    "# Por último, ¡las cosas pueden ser tan salvajes como queramos con los condicionales anidados!"
   ]
  },
  {
   "cell_type": "code",
   "execution_count": null,
   "id": "disciplinary-helena",
   "metadata": {},
   "outputs": [],
   "source": [
    "# Un simple programa de \"comparación de dos números\". ¿Puedes entenderlo?\n",
    "# Es el mismo ejemplo que anterior, pero con else anidado, sin elif"
   ]
  },
  {
   "cell_type": "markdown",
   "id": "continuous-identifier",
   "metadata": {},
   "source": [
    "Vuestro código 🔥🔝"
   ]
  },
  {
   "cell_type": "code",
   "execution_count": 106,
   "id": "aware-niagara",
   "metadata": {},
   "outputs": [
    {
     "name": "stdout",
     "output_type": "stream",
     "text": [
      "introduce tu edad:18\n",
      "Adelante\n"
     ]
    }
   ],
   "source": [
    "tu_edad = 'a'\n",
    "while not tu_edad.isnumeric():\n",
    "    tu_edad = input('introduce tu edad:')\n",
    "def entrar(x):\n",
    "    if x < edad_minima:\n",
    "        print('Acceso denegado')\n",
    "        if x >= 16:\n",
    "            print('Puedes ir a la discoteca light')\n",
    "    else:\n",
    "        print('Adelante')\n",
    "entrar(int(tu_edad))"
   ]
  },
  {
   "cell_type": "code",
   "execution_count": 108,
   "id": "dimensional-rachel",
   "metadata": {},
   "outputs": [
    {
     "name": "stdout",
     "output_type": "stream",
     "text": [
      "Bob, puedes ir a una discoteca light\n"
     ]
    }
   ],
   "source": [
    "bob = 17\n",
    "edad_minima = 18\n",
    "edad_legal = 16\n",
    "if bob >= edad_minima:\n",
    "    print('Bob, puedes pasar')\n",
    "else:\n",
    "    if bob > edad_legal:\n",
    "        print('Bob, puedes ir a una discoteca light')\n",
    "    else:\n",
    "        print('Bob a casa')"
   ]
  },
  {
   "cell_type": "code",
   "execution_count": 109,
   "id": "monetary-malpractice",
   "metadata": {},
   "outputs": [
    {
     "name": "stdout",
     "output_type": "stream",
     "text": [
      "Introduzca tu edad por favor: 20\n",
      "Puedes entrar a la discoteca\n"
     ]
    }
   ],
   "source": [
    "edad_minima = 18\n",
    "edad_legal = 15\n",
    "edad = input(\"Introduzca tu edad por favor: \")\n",
    "while (not edad.isnumeric()):\n",
    "    edad = input(\"Introduzca tu edad por favor (Debe ser un número): \")\n",
    "edad_int = int(edad)\n",
    "if edad_int >= 18:\n",
    "    print(\"Puedes entrar a la discoteca\")\n",
    "else:\n",
    "    \"\"\"\n",
    "    Si quiero poner una variable comprendida entre dos números uso and\n",
    "    \"\"\"\n",
    "    if (edad_int<edad_minima) and edad_int>=edad_legal:\n",
    "        print(\"puedes entrar e la disco, pero no te emociones, es la disco light\")\n",
    "    else:\n",
    "        print(\"Tira pa la casa con tu mami\")"
   ]
  },
  {
   "cell_type": "code",
   "execution_count": null,
   "id": "challenging-ebony",
   "metadata": {},
   "outputs": [],
   "source": [
    "\"\"\"\n",
    "Si quiero poner una variable comprendida entre dos números uso and\n",
    "\"\"\""
   ]
  },
  {
   "cell_type": "code",
   "execution_count": null,
   "id": "annoying-subscriber",
   "metadata": {},
   "outputs": [],
   "source": [
    "# Más ejemplos!"
   ]
  },
  {
   "cell_type": "markdown",
   "id": "joined-paradise",
   "metadata": {},
   "source": [
    "Imaginemos que estamos construyendo el programa para un robot clasificador de huevos por tamaño. Nuestro brazo robot recibe la información de una balanza, la cual le indica, en gramos, el peso del huevo que debe clasificar. El brazo debe, a partir del peso, ubicar el huevo en una caja u otra como sigue:   \n",
    "**Caja S** (pequeños) : peso menor a 53 gramos.   \n",
    "**Caja M** (medianos) : peso mayor o igual a 53 gramos e inferior a 63 gramos.   \n",
    "**Caja L** (grandes): peso mayor o igual a 63 gramos e inferior a 73 gramos.   \n",
    "**Caja XL** (súper grandes): peso mayor o igual a 73 gramos.   "
   ]
  },
  {
   "cell_type": "markdown",
   "id": "exact-messenger",
   "metadata": {},
   "source": [
    "Con lo que hemos visto ya somos capaces de resolver el problema, gracias a la posibilidad de anidar estructuras:"
   ]
  },
  {
   "cell_type": "code",
   "execution_count": null,
   "id": "seasonal-ribbon",
   "metadata": {},
   "outputs": [],
   "source": [
    "# Tu turno!"
   ]
  },
  {
   "cell_type": "code",
   "execution_count": 110,
   "id": "sporting-heavy",
   "metadata": {},
   "outputs": [
    {
     "name": "stdout",
     "output_type": "stream",
     "text": [
      "50\n",
      "El peso es:  50\n",
      "Lo enviamos a la caja pequeña\n"
     ]
    }
   ],
   "source": [
    "peso_balanza = input()\n",
    "print(f\"El peso es:  {peso_balanza}\")\n",
    "peso = int(peso_balanza)\n",
    "\n",
    "super_grandes = 73\n",
    "grandes = 63\n",
    "medianos = 53\n",
    "\n",
    "if peso >= super_grandes:\n",
    "    print(\"Lo enviamos a la caja super grande\")\n",
    "    \n",
    "elif peso < super_grandes and peso >= grandes:\n",
    "    print(\"Lo enviamos a la caja grande\")\n",
    "\n",
    "elif peso < grandes and peso >= medianos:\n",
    "    print(\"Lo enviamos a la caja mediana\")\n",
    "\n",
    "else:\n",
    "    print(\"Lo enviamos a la caja pequeña\")"
   ]
  },
  {
   "cell_type": "code",
   "execution_count": 115,
   "id": "trained-newport",
   "metadata": {},
   "outputs": [
    {
     "name": "stdout",
     "output_type": "stream",
     "text": [
      "Introduzca el peso del huevo por favor: 56\n",
      "almacenado en la caja M\n",
      "la caja s tiene almacenados:  0\n",
      "la caja m tiene almacenados:  1\n",
      "la caja l tiene almacenados:  0\n",
      "la caja xl tiene almacendos:  0\n"
     ]
    }
   ],
   "source": [
    "peso = input('Introduzca el peso del huevo por favor: ')\n",
    "\n",
    "while (not peso.isnumeric()):\n",
    "    peso = input('Introduzca el peso del huevo por favor: ')\n",
    "    \n",
    "peso_int= int(peso)\n",
    "\n",
    "caja_s = 0\n",
    "caja_m = 0\n",
    "caja_l = 0\n",
    "caja_xl = 0\n",
    "\n",
    "if peso_int < 53:\n",
    "    caja_s += 1\n",
    "    print('Almacenado en la caja S')\n",
    "elif peso_int >= 53 and peso_int < 63:\n",
    "    caja_m += 1\n",
    "    print('almacenado en la caja M')\n",
    "elif peso_int >= 63 and peso_int < 73:\n",
    "    caja_l += 1\n",
    "    print('Almacenado en la caja L')\n",
    "elif peso_int>= 73:\n",
    "    caja_xl += 1\n",
    "    print('Almacenado en la caja XL')\n",
    "print('la caja s tiene almacenados: ', caja_s)\n",
    "print('la caja m tiene almacenados: ', caja_m)\n",
    "print('la caja l tiene almacenados: ', caja_l)\n",
    "print('la caja xl tiene almacendos: ', caja_xl)"
   ]
  },
  {
   "cell_type": "code",
   "execution_count": 120,
   "id": "awful-fight",
   "metadata": {},
   "outputs": [],
   "source": [
    "#Sin elif"
   ]
  },
  {
   "cell_type": "code",
   "execution_count": 119,
   "id": "coastal-contact",
   "metadata": {},
   "outputs": [
    {
     "name": "stdout",
     "output_type": "stream",
     "text": [
      "Introudzca peso del huevo por favor: 89\n",
      "Caja XL (súper grandes)\n"
     ]
    }
   ],
   "source": [
    "peso = input(\"Introudzca peso del huevo por favor: \")\n",
    "while (not peso.isnumeric()):\n",
    "    peso_int = input(\"Introudzca peso del huevo por favor (Debe ser un número): \")\n",
    "peso_int = int(peso)\n",
    "\n",
    "if peso_int >= 73:\n",
    "    print(\"Caja XL (súper grandes)\")\n",
    "else:\n",
    "    if peso_int >= 63:\n",
    "        print(\"Caja L (grandes)\")\n",
    "    else:\n",
    "        if peso_int>=53:\n",
    "            print(\"Caja M (medianos)\")\n",
    "        else:\n",
    "            print(\"Caja S (pequeños)\")"
   ]
  },
  {
   "cell_type": "code",
   "execution_count": 121,
   "id": "maritime-subdivision",
   "metadata": {},
   "outputs": [],
   "source": [
    "import time"
   ]
  },
  {
   "cell_type": "code",
   "execution_count": 127,
   "id": "dedicated-family",
   "metadata": {},
   "outputs": [
    {
     "name": "stdout",
     "output_type": "stream",
     "text": [
      "CPU times: user 4 µs, sys: 6 µs, total: 10 µs\n",
      "Wall time: 8.11 µs\n",
      "Caja M (medianos)\n"
     ]
    }
   ],
   "source": [
    "%time\n",
    "peso_int = 55\n",
    "if peso_int >= 73:\n",
    "    print(\"Caja XL (súper grandes)\")\n",
    "else:\n",
    "    if peso_int >= 63:\n",
    "        print(\"Caja L (grandes)\")\n",
    "    else:\n",
    "        if peso_int>=53:\n",
    "            print(\"Caja M (medianos)\")\n",
    "        else:\n",
    "            print(\"Caja S (pequeños)\")"
   ]
  },
  {
   "cell_type": "code",
   "execution_count": 132,
   "id": "fatty-landing",
   "metadata": {},
   "outputs": [
    {
     "name": "stdout",
     "output_type": "stream",
     "text": [
      "CPU times: user 3 µs, sys: 1 µs, total: 4 µs\n",
      "Wall time: 7.15 µs\n",
      "Caja S (pequeños)\n"
     ]
    }
   ],
   "source": [
    "%time\n",
    "peso_int = 3\n",
    "if peso_int >= 73:\n",
    "    print(\"Caja XL (súper grandes)\")\n",
    "elif peso_int >= 63 and peso_int<73:\n",
    "    print(\"Caja L (grandes)\")\n",
    "elif peso_int>=53 and peso_int<63:\n",
    "    print(\"Caja M (medianos)\")\n",
    "else:\n",
    "    print(\"Caja S (pequeños)\")"
   ]
  },
  {
   "cell_type": "code",
   "execution_count": 133,
   "id": "promising-cotton",
   "metadata": {},
   "outputs": [
    {
     "name": "stdout",
     "output_type": "stream",
     "text": [
      "Cual es el peso del huevo?: 66\n",
      "El huevo va a la Caja L\n"
     ]
    }
   ],
   "source": [
    "peso_huevo = int(input('Cual es el peso del huevo?: '))\n",
    "if peso_huevo < 53:\n",
    "    print('El huevo va a la Caja S')\n",
    "elif peso_huevo >= 53 and peso_huevo < 63:\n",
    "    print('El huevo va a la Caja M')\n",
    "elif peso_huevo >= 63 and peso_huevo < 73:\n",
    "    print('El huevo va a la Caja L')\n",
    "elif peso_huevo > 73:\n",
    "    print('El huevo va a la Caja XL')"
   ]
  },
  {
   "cell_type": "markdown",
   "id": "dependent-viewer",
   "metadata": {},
   "source": [
    "## Summary \n",
    "Es tu turno: ¿Qué hemos aprendido?\n",
    "- Operadores de asignación\n",
    "- Operadores para comparar != / <=\n",
    "- If / Elif / Else\n",
    "- Operadores lógicos: and / not / or\n",
    "- Input\n",
    "- Casteo de tipos de datos \n",
    "- Pseudocódigo es importante y nos ayudará cuando estamos empezando a programar\n",
    "- If / Else anidados vs If / elif"
   ]
  },
  {
   "cell_type": "markdown",
   "id": "toxic-romance",
   "metadata": {},
   "source": [
    "## Further materials\n",
    "\n",
    "* [Python docs](https://docs.python.org/3/tutorial/controlflow.html)\n",
    "* Short tutorial on [Python Booleans](https://realpython.com/python-boolean/\n",
    "* Just a nice [talk by Feynman](https://www.youtube.com/watch?v=EKWGGDXe5MA) on the principles of computation"
   ]
  }
 ],
 "metadata": {
  "kernelspec": {
   "display_name": "ironhack",
   "language": "python",
   "name": "ironhack"
  },
  "language_info": {
   "codemirror_mode": {
    "name": "ipython",
    "version": 3
   },
   "file_extension": ".py",
   "mimetype": "text/x-python",
   "name": "python",
   "nbconvert_exporter": "python",
   "pygments_lexer": "ipython3",
   "version": "3.8.5"
  },
  "toc": {
   "base_numbering": 1,
   "nav_menu": {},
   "number_sections": true,
   "sideBar": true,
   "skip_h1_title": true,
   "title_cell": "Table of Contents",
   "title_sidebar": "Contents",
   "toc_cell": true,
   "toc_position": {},
   "toc_section_display": true,
   "toc_window_display": false
  }
 },
 "nbformat": 4,
 "nbformat_minor": 5
}
