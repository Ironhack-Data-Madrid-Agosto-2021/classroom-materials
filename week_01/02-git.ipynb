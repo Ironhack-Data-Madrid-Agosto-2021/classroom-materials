{
 "cells": [
  {
   "cell_type": "markdown",
   "id": "romance-consistency",
   "metadata": {},
   "source": [
    "# Intro to GIT and Version Control"
   ]
  },
  {
   "cell_type": "markdown",
   "id": "generic-notification",
   "metadata": {},
   "source": [
    "![git](https://media.giphy.com/media/kH6CqYiquZawmU1HI6/giphy.gif)"
   ]
  },
  {
   "cell_type": "markdown",
   "id": "negative-upper",
   "metadata": {
    "toc": true
   },
   "source": [
    "<h1>Table of Contents<span class=\"tocSkip\"></span></h1>\n",
    "<div class=\"toc\"><ul class=\"toc-item\"><li><span><a href=\"#What-is-Version-Control-and-why-should-you-care?\" data-toc-modified-id=\"What-is-Version-Control-and-why-should-you-care?-1\"><span class=\"toc-item-num\">1&nbsp;&nbsp;</span>What is Version Control and why should you care?</a></span></li><li><span><a href=\"#GIT´s-graph-model\" data-toc-modified-id=\"GIT´s-graph-model-2\"><span class=\"toc-item-num\">2&nbsp;&nbsp;</span>GIT´s graph model</a></span></li><li><span><a href=\"#Git-VS-Github\" data-toc-modified-id=\"Git-VS-Github-3\"><span class=\"toc-item-num\">3&nbsp;&nbsp;</span>Git VS Github</a></span></li><li><span><a href=\"#Terminology\" data-toc-modified-id=\"Terminology-4\"><span class=\"toc-item-num\">4&nbsp;&nbsp;</span>Terminology</a></span></li><li><span><a href=\"#Commands\" data-toc-modified-id=\"Commands-5\"><span class=\"toc-item-num\">5&nbsp;&nbsp;</span>Commands</a></span></li><li><span><a href=\"#Hands-on-tutorial!\" data-toc-modified-id=\"Hands-on-tutorial!-6\"><span class=\"toc-item-num\">6&nbsp;&nbsp;</span>Hands on tutorial!</a></span><ul class=\"toc-item\"><li><span><a href=\"#How-do-we-create-a-repository?\" data-toc-modified-id=\"How-do-we-create-a-repository?-6.1\"><span class=\"toc-item-num\">6.1&nbsp;&nbsp;</span>How do we create a repository?</a></span><ul class=\"toc-item\"><li><span><a href=\"#Can-create-a-local-repo-and-link-it\" data-toc-modified-id=\"Can-create-a-local-repo-and-link-it-6.1.1\"><span class=\"toc-item-num\">6.1.1&nbsp;&nbsp;</span>Can create a local repo and link it</a></span></li><li><span><a href=\"#Can-create-a-remote-repo-and-download-it\" data-toc-modified-id=\"Can-create-a-remote-repo-and-download-it-6.1.2\"><span class=\"toc-item-num\">6.1.2&nbsp;&nbsp;</span>Can create a remote repo and download it</a></span></li></ul></li><li><span><a href=\"#Forking-a-repo\" data-toc-modified-id=\"Forking-a-repo-6.2\"><span class=\"toc-item-num\">6.2&nbsp;&nbsp;</span>Forking a repo</a></span></li><li><span><a href=\"#Working-with-branches\" data-toc-modified-id=\"Working-with-branches-6.3\"><span class=\"toc-item-num\">6.3&nbsp;&nbsp;</span>Working with branches</a></span><ul class=\"toc-item\"><li><span><a href=\"#Contribute-to-a-forked-repository\" data-toc-modified-id=\"Contribute-to-a-forked-repository-6.3.1\"><span class=\"toc-item-num\">6.3.1&nbsp;&nbsp;</span>Contribute to a forked repository</a></span></li></ul></li></ul></li><li><span><a href=\"#Resumen\" data-toc-modified-id=\"Resumen-7\"><span class=\"toc-item-num\">7&nbsp;&nbsp;</span>Resumen</a></span></li><li><span><a href=\"#Further-materials\" data-toc-modified-id=\"Further-materials-8\"><span class=\"toc-item-num\">8&nbsp;&nbsp;</span>Further materials</a></span></li></ul></div>"
   ]
  },
  {
   "cell_type": "markdown",
   "id": "monthly-organizer",
   "metadata": {},
   "source": [
    "## What is Version Control and why should you care?"
   ]
  },
  {
   "cell_type": "markdown",
   "id": "literary-winner",
   "metadata": {},
   "source": [
    "What kind of dark magic is this?\n",
    "![gif](https://media.giphy.com/media/NmerZ36iBkmKk/giphy.gif)\n"
   ]
  },
  {
   "cell_type": "markdown",
   "id": "spare-protocol",
   "metadata": {},
   "source": [
    "Version control is a system that records changes to a file or set of files over time so that you can recall specific versions later. For the examples in this book, you will use software source code as the files being version controlled, though in reality you can do this with nearly any type of file on a computer.\n",
    "\n",
    "If you are a graphic or web designer and want to keep every version of an image or layout (which you would most certainly want to), a Version Control System (VCS) is a very wise thing to use. It allows you to revert selected files back to a previous state, revert the entire project back to a previous state, compare changes over time, see who last modified something that might be causing a problem, who introduced an issue and when, and more. Using a VCS also generally means that if you screw things up or lose files, you can easily recover. In addition, you get all this for very little overhead.\n",
    "\n",
    "GIT is a VCS system designed with the following goals in mind:\n",
    "\n",
    "* Speed\n",
    "\n",
    "* Simple design\n",
    "\n",
    "* Strong support for non-linear development (thousands of parallel branches)\n",
    "\n",
    "* Fully distributed\n",
    "\n",
    "* Able to handle large projects like the Linux kernel efficiently (speed and data size)\n",
    "\n",
    "Not enough reasons to learn GIT. Well, **it is an absolute industry standard** so... deal with it\n",
    "\n",
    "\n",
    "***Note:** Mainly extracted from the [docs](https://git-scm.com/book/en/v2/Getting-Started-About-Version-Control)\n"
   ]
  },
  {
   "cell_type": "markdown",
   "id": "seasonal-detection",
   "metadata": {},
   "source": [
    "## GIT´s graph model\n",
    "\n",
    "\n",
    "Git models the history of your projects as [directed acyclic graph](https://en.wikipedia.org/wiki/Directed_acyclic_graph) (a DAG). Let us understand these three words:\n",
    "\n",
    "* A **Graph** is a way to model connected things. More technically, a graph is a collection of \"nodes\" connected by \"edges\". Think for example of a social network, where individuals are the nodes and relationships are the \"edges\" (a.k.a. links).\n",
    "\n",
    "* **Acyclic** means that the graph contains no circles. This means that you cannot find a path where you start and finish on the same node following the direction of the edges.\n",
    "\n",
    "* **Directed** means that the edges can only go in one direction. Think for example of \"parent\", \"child\", and the relationship \"is son of\" --- nope, you cannot be parent and child of the same person.\n",
    "\n",
    "Furthermore:\n",
    "\n",
    "* The **graph as a whole** contains a [project's history](https://www.youtube.com/watch?v=zuRd_Eneuk8). \n",
    "\n",
    "* **Nodes** in Git represent commits (remember: snapshots of your project). \n",
    "\n",
    "* The **edges** point from a commit to its parents. \n",
    "\n",
    "* A **branch** occurs if a commit has more than one child. \n",
    "\n",
    "* A **merge** occurs when a commit has more than one parent. \n",
    "\n",
    "\n",
    "[Link to a super cool visualization!](https://agripongit.vincenttunru.com/)"
   ]
  },
  {
   "cell_type": "markdown",
   "id": "increasing-quantity",
   "metadata": {},
   "source": [
    "![cool_kid_dab](https://img.devrant.com/devrant/rant/r_361939_fGjf5.jpg)"
   ]
  },
  {
   "cell_type": "markdown",
   "id": "intellectual-lodging",
   "metadata": {},
   "source": [
    "## Git VS Github"
   ]
  },
  {
   "cell_type": "markdown",
   "id": "annoying-instrument",
   "metadata": {},
   "source": [
    "![gitvsgithub](https://blog.devmountain.com/hs-fs/hubfs/Imported_Blog_Media/Gitvs_Github-1a-1.jpg?width=1200&name=Gitvs_Github-1a-1.jpg)"
   ]
  },
  {
   "cell_type": "markdown",
   "id": "graduate-sheet",
   "metadata": {},
   "source": [
    "- **Git** is local VCS software that allows developers to save snapshots of their projects over time. It is generally best for individual use.   \n",
    "- **GitHub** is a web-based platform that incorporates the version control features of git so that they can be used collaboratively. It also includes project and team management features, as well as opportunities for networking and social coding.   "
   ]
  },
  {
   "cell_type": "markdown",
   "id": "intelligent-charge",
   "metadata": {},
   "source": [
    "## Terminology\n",
    "- `repository` | `repo` : storage location for a software package (\"a folder with git monitoring\")\n",
    "- `untracked` : a file or directory not monitored by git, does not belong to the repo\n",
    "- `tracked` : a file git was instructed to monitor (through the `add` command.)\n",
    "- `commit` : a point on the temporal line of a repository. A \"snapshot\" of all the changes we \"made official\", or the last state of staged files before we commited.\n",
    "Every commit has a unique id and must have a commit message. The more descriptive the message, the better.\n",
    "- `local repo` : A repository of code on the computer you are currently using\n",
    "- `remote` : A repository on a different machine (e.g.: Github)\n",
    "- `forking a repo` : creating an alternative timeline for a repo, usually someones repo we want to have a copy of our own.\n",
    "- `cloning a repo` : making a local copy of a remote repo\n",
    "- `push` : sending the changes from local repo to a remote.\n",
    "- `pull` : bringing changes of a remote repo to a local one\n",
    "- `.gitignore` : text file with files/folders we do not want git to track or ask about.\n",
    "    - e.g.:\n",
    "        \n",
    "        logo.jpg `# git ignores file with specific name`  \n",
    "\n",
    "        develop_test/ `# git ignores directory with specific name and all it's content. Mind the / after the name.` \n",
    "\n",
    "        *.jpg `# git ignores all files with given extension` \n",
    "- `branch` : the different `timelines` of a repository. It allows for parallel development. \n",
    "- `merge` : joining the changes of a branch into another. It is the opposite of forking, instead of separating, it unites two \"timelines\"\n",
    "- `pull request` : the act of asking the owner of a repository to merge the changes on your fork/branch. It is literally the request for him to `pull` your changes."
   ]
  },
  {
   "cell_type": "markdown",
   "id": "excessive-adolescent",
   "metadata": {},
   "source": [
    "## Commands\n",
    "\n",
    "`git init`\n",
    "- Turns a folder into an empty repository\n",
    "\n",
    "`git add <file>`\n",
    "- Adds a file to a repo stanging area\n",
    "\n",
    "`git restore --staged <file>`\n",
    "- Removes a file from staging area\n",
    "\n",
    "`git commit -m \"<message>\"`\n",
    "- Writes all changes on staging area to repo\n",
    "\n",
    "- `-a`\n",
    "    - Commits all changes to files belonging to repo (all files that were previously added)\n",
    "- `-m`\n",
    "    - Allows for the message to be typed into the command instead of opening vim.\n",
    "- `-am` == `-a -m`\n",
    "\n",
    "`git log`\n",
    "- Shows all commits on a repo\n",
    "\n",
    "`git reset --hard <commit_id>`\n",
    "- HARD resets branch to commit specified. \"Goes back in time\"\n",
    "\n",
    "`git remote add <name> <url>`\n",
    "- Connects the current local repo to a remote on `url` calling it `name`.\n",
    "\n",
    "`git clone <url>`\n",
    "- Makes local copy of remote repository\n",
    "\n",
    "`git pull <remote> <branch>`\n",
    "- e.g.: `git pull origin main`\n",
    "- Brings changes from `remote` `branch` into current one.\n",
    "\n",
    "`git push <remote> <branch>`\n",
    "- e.g.: `git push origin main`\n",
    "- Sends changes from local repo to `remote` `branch`\n",
    "\n",
    "`git branch`\n",
    "- Lists all branchs on current repo\n",
    "\n",
    "`git branch <name>`\n",
    "- Creates a branch of given name\n",
    "\n",
    "`git checkout <branch>`\n",
    "- Changes the active branch to the one given. It is how you change between branches, but only one can be active at a single time.\n",
    "\n",
    "`git checkout -b <branch>`\n",
    "- Creates and checkouts to a new branch with a single command.\n",
    "\n",
    "`git merge <branch>`\n",
    "- Brings in changes from \\<branch\\> to current one."
   ]
  },
  {
   "cell_type": "markdown",
   "id": "patient-potato",
   "metadata": {},
   "source": [
    "## Hands on tutorial!"
   ]
  },
  {
   "cell_type": "markdown",
   "id": "periodic-rehabilitation",
   "metadata": {},
   "source": [
    "We are going to create a repository to work on a project with a colleague.   \n",
    "We will always keep in mind... -->> [**OH SHIT, GIT!**](https://ohshitgit.com/)"
   ]
  },
  {
   "cell_type": "markdown",
   "id": "immune-clinic",
   "metadata": {},
   "source": [
    "### How do we create a repository?"
   ]
  },
  {
   "cell_type": "markdown",
   "id": "eastern-application",
   "metadata": {},
   "source": [
    "Two ways:\n",
    "#### Can create a local repo and link it"
   ]
  },
  {
   "cell_type": "code",
   "execution_count": 8,
   "id": "exclusive-apartment",
   "metadata": {},
   "outputs": [],
   "source": [
    "# $ cd                 \n",
    "# $ mkdir primerito_repo\n",
    "# $ cd primerito_repo\n",
    "# $ git init"
   ]
  },
  {
   "cell_type": "code",
   "execution_count": 9,
   "id": "minimal-copying",
   "metadata": {},
   "outputs": [],
   "source": [
    "# Extra: Let´s go deep! --> .git\n",
    "# $ ls -a"
   ]
  },
  {
   "cell_type": "markdown",
   "id": "important-dominican",
   "metadata": {},
   "source": [
    "To upload our local repository to an online repository, we must first create a repository on an online site such as GitHub."
   ]
  },
  {
   "cell_type": "code",
   "execution_count": 10,
   "id": "divided-ballet",
   "metadata": {},
   "outputs": [],
   "source": [
    "# $ git remote add origin <url of repo>"
   ]
  },
  {
   "cell_type": "markdown",
   "id": "blocked-folks",
   "metadata": {},
   "source": [
    "#### Can create a remote repo and download it"
   ]
  },
  {
   "cell_type": "code",
   "execution_count": 11,
   "id": "primary-variable",
   "metadata": {},
   "outputs": [],
   "source": [
    "# $ git clone <url of repo>"
   ]
  },
  {
   "cell_type": "markdown",
   "id": "southwest-circus",
   "metadata": {},
   "source": [
    "Much easier and less dangerous, what do you think?"
   ]
  },
  {
   "cell_type": "markdown",
   "id": "imported-witch",
   "metadata": {},
   "source": [
    "![think](https://media.giphy.com/media/IedrY2VP5IO5ivDQAD/giphy.gif)"
   ]
  },
  {
   "cell_type": "markdown",
   "id": "wrapped-intention",
   "metadata": {},
   "source": [
    "### Forking a repo"
   ]
  },
  {
   "cell_type": "markdown",
   "id": "available-coffee",
   "metadata": {},
   "source": [
    "Forking a repository means copying it. Copying a repository allows us to experiment freely without affecting the original project, obviously because our fork is a copy, which will be found in our github account.   \n",
    "- https://aprendegit.com/fork-de-repositorios-para-que-sirve/ "
   ]
  },
  {
   "cell_type": "markdown",
   "id": "polish-iraqi",
   "metadata": {},
   "source": [
    "### Working with branches"
   ]
  },
  {
   "cell_type": "markdown",
   "id": "pursuant-liquid",
   "metadata": {},
   "source": [
    "A branch in Git is simply a lightweight movable pointer to one of these commits. The default branch name in Git is main . As you start making commits, you're given a main branch that points to the last commit you made. Every time you commit, the main branch pointer moves forward automatically."
   ]
  },
  {
   "cell_type": "markdown",
   "id": "separated-period",
   "metadata": {},
   "source": [
    "![branches](../images/git_graph.png)"
   ]
  },
  {
   "cell_type": "markdown",
   "id": "regular-terror",
   "metadata": {},
   "source": [
    "- https://medium.com/faun/branching-with-git-the-multiverse-theory-83d3d1372746"
   ]
  },
  {
   "cell_type": "markdown",
   "id": "independent-ontario",
   "metadata": {},
   "source": [
    "#### Contribute to a forked repository "
   ]
  },
  {
   "cell_type": "markdown",
   "id": "meaning-return",
   "metadata": {},
   "source": [
    "A pull request (PR) is a request submitted to a GitHub repository to merge code into that project. The PR allows requested reviewers to view and discuss the proposed code. Once the PR passes all standards of reviews and all necessary revisions have been made, it can be merged into the code base.\n",
    "Let's go!"
   ]
  },
  {
   "cell_type": "markdown",
   "id": "lesser-turning",
   "metadata": {},
   "source": [
    "- https://www.freecodecamp.org/espanol/news/como-hacer-tu-primer-pull-request-en-github/"
   ]
  },
  {
   "cell_type": "markdown",
   "id": "traditional-petroleum",
   "metadata": {},
   "source": [
    "# Git Areas"
   ]
  },
  {
   "cell_type": "markdown",
   "id": "designing-poland",
   "metadata": {},
   "source": [
    "![git_areas](../images/git_areas.png)"
   ]
  },
  {
   "cell_type": "markdown",
   "id": "revolutionary-kitchen",
   "metadata": {},
   "source": [
    "# Workflow examples:\n",
    "\n",
    "- Working on my own repo which I started locally:\n",
    "    - `git init` to start repo\n",
    "    - `git add <files>` to track files\n",
    "    - `git commit -m \"<message>\"` to commit the changes\n",
    "    - `git remote add <name> <url>` to connect repo to a remote one (create an empty repo on github to avoid conflicts)\n",
    "\n",
    "- Working on a remote I have privileges to:\n",
    "    - `git clone <url>` to make a local copy\n",
    "    - `git add <files>` and `git commit -m \"<message>\"` to commit changes.\n",
    "    - `git pull` BEFORE pushing. We want to bring foreign changes before sending our own to avoid conflicts.\n",
    "    - `git push` to send our changes. \n",
    "    - Also good to `git pull` before begining the work each session to be sure we have the last version of the software.\n",
    "\n",
    "- Working on a remote I don't have privileges to:\n",
    "    - `fork` on github to create an alternate of our own\n",
    "    - `git clone` to copy our fork to local\n",
    "    - `git commit`, `git add`, `git push` to have our changes reflected on our remote copy\n",
    "    - `pull request` to see if owner accepts our changes"
   ]
  },
  {
   "cell_type": "markdown",
   "id": "earned-telescope",
   "metadata": {},
   "source": [
    "## Resumen\n",
    "Ahora es tu turno: ¿Qué hemos aprendido?"
   ]
  },
  {
   "cell_type": "markdown",
   "id": "affected-syndicate",
   "metadata": {},
   "source": [
    "## Further materials\n",
    "* Github for Dummies [here](https://github.com/firstcontributions/first-contributions)\n",
    "* Get to know Linus Torvals, the mind behind Linux and Git in this [interview at TED](https://www.ted.com/talks/linus_torvalds_the_mind_behind_linux?language=es)\n",
    "* See the [GIT docs](https://git-scm.com/) for the real deal...\n",
    "* More more more info!! (http://justinhileman.info/article/git-pretty/git-pretty.png)\n",
    "* Or a [simpler guide](https://rogerdudler.github.io/git-guide/index.html) for a quick reminder of basic concepts.\n",
    "* And don´t forget your [Cheatsheet](https://www.atlassian.com/dam/jcr:8132028b-024f-4b6b-953e-e68fcce0c5fa/atlassian-git-cheatsheet.pdf)!\n"
   ]
  }
 ],
 "metadata": {
  "kernelspec": {
   "display_name": "Python 3",
   "language": "python",
   "name": "python3"
  },
  "language_info": {
   "codemirror_mode": {
    "name": "ipython",
    "version": 3
   },
   "file_extension": ".py",
   "mimetype": "text/x-python",
   "name": "python",
   "nbconvert_exporter": "python",
   "pygments_lexer": "ipython3",
   "version": "3.8.5"
  },
  "toc": {
   "base_numbering": 1,
   "nav_menu": {},
   "number_sections": true,
   "sideBar": true,
   "skip_h1_title": true,
   "title_cell": "Table of Contents",
   "title_sidebar": "Contents",
   "toc_cell": true,
   "toc_position": {},
   "toc_section_display": true,
   "toc_window_display": false
  }
 },
 "nbformat": 4,
 "nbformat_minor": 5
}
