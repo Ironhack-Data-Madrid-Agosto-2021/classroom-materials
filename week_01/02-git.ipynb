{
 "cells": [
  {
   "cell_type": "markdown",
   "id": "romance-consistency",
   "metadata": {},
   "source": [
    "# Intro to GIT and Version Control"
   ]
  },
  {
   "cell_type": "markdown",
   "id": "generic-notification",
   "metadata": {},
   "source": [
    "![git](https://media.giphy.com/media/kH6CqYiquZawmU1HI6/giphy.gif)"
   ]
  },
  {
   "cell_type": "markdown",
   "id": "negative-upper",
   "metadata": {
    "toc": true
   },
   "source": [
    "<h1>Table of Contents<span class=\"tocSkip\"></span></h1>\n",
    "<div class=\"toc\"><ul class=\"toc-item\"><li><span><a href=\"#¿Qué-es-el-control-de-versiones-y-por-qué-debería-importarnos?\" data-toc-modified-id=\"¿Qué-es-el-control-de-versiones-y-por-qué-debería-importarnos?-1\"><span class=\"toc-item-num\">1&nbsp;&nbsp;</span>¿Qué es el control de versiones y por qué debería importarnos?</a></span></li><li><span><a href=\"#GIT´s-graph-model\" data-toc-modified-id=\"GIT´s-graph-model-2\"><span class=\"toc-item-num\">2&nbsp;&nbsp;</span>GIT´s graph model</a></span></li><li><span><a href=\"#Git-VS-Github\" data-toc-modified-id=\"Git-VS-Github-3\"><span class=\"toc-item-num\">3&nbsp;&nbsp;</span>Git VS Github</a></span></li><li><span><a href=\"#Terminología\" data-toc-modified-id=\"Terminología-4\"><span class=\"toc-item-num\">4&nbsp;&nbsp;</span>Terminología</a></span></li><li><span><a href=\"#Comandos\" data-toc-modified-id=\"Comandos-5\"><span class=\"toc-item-num\">5&nbsp;&nbsp;</span>Comandos</a></span></li><li><span><a href=\"#Hands-on-tutorial!\" data-toc-modified-id=\"Hands-on-tutorial!-6\"><span class=\"toc-item-num\">6&nbsp;&nbsp;</span>Hands on tutorial!</a></span><ul class=\"toc-item\"><li><span><a href=\"#¿Cómo-creamos-un-repositorio?\" data-toc-modified-id=\"¿Cómo-creamos-un-repositorio?-6.1\"><span class=\"toc-item-num\">6.1&nbsp;&nbsp;</span>¿Cómo creamos un repositorio?</a></span><ul class=\"toc-item\"><li><span><a href=\"#Podemos-crear-un-repositorio-de-forma-local-y-luego-enlazarlo\" data-toc-modified-id=\"Podemos-crear-un-repositorio-de-forma-local-y-luego-enlazarlo-6.1.1\"><span class=\"toc-item-num\">6.1.1&nbsp;&nbsp;</span>Podemos crear un repositorio de forma local y luego enlazarlo</a></span></li><li><span><a href=\"#Podemos-crear-un-repositorio-remoto-y-luego-descargarlo\" data-toc-modified-id=\"Podemos-crear-un-repositorio-remoto-y-luego-descargarlo-6.1.2\"><span class=\"toc-item-num\">6.1.2&nbsp;&nbsp;</span>Podemos crear un repositorio remoto y luego descargarlo</a></span></li></ul></li><li><span><a href=\"#Forkeando-un-repo\" data-toc-modified-id=\"Forkeando-un-repo-6.2\"><span class=\"toc-item-num\">6.2&nbsp;&nbsp;</span>Forkeando un repo</a></span></li><li><span><a href=\"#Trabajando-con-ramas\" data-toc-modified-id=\"Trabajando-con-ramas-6.3\"><span class=\"toc-item-num\">6.3&nbsp;&nbsp;</span>Trabajando con ramas</a></span><ul class=\"toc-item\"><li><span><a href=\"#Contribuir-a-un-repositorio-forkeado\" data-toc-modified-id=\"Contribuir-a-un-repositorio-forkeado-6.3.1\"><span class=\"toc-item-num\">6.3.1&nbsp;&nbsp;</span>Contribuir a un repositorio forkeado</a></span></li></ul></li></ul></li><li><span><a href=\"#Resumen-🚀🔥\" data-toc-modified-id=\"Resumen-🚀🔥-7\"><span class=\"toc-item-num\">7&nbsp;&nbsp;</span>Resumen 🚀🔥</a></span></li><li><span><a href=\"#Further-materials\" data-toc-modified-id=\"Further-materials-8\"><span class=\"toc-item-num\">8&nbsp;&nbsp;</span>Further materials</a></span></li></ul></div>"
   ]
  },
  {
   "cell_type": "markdown",
   "id": "monthly-organizer",
   "metadata": {},
   "source": [
    "## ¿Qué es el control de versiones y por qué debería importarnos?"
   ]
  },
  {
   "cell_type": "markdown",
   "id": "literary-winner",
   "metadata": {},
   "source": [
    "¿Qué clase de magia oscura es esta?\n",
    "![gif](https://media.giphy.com/media/NmerZ36iBkmKk/giphy.gif)\n"
   ]
  },
  {
   "cell_type": "markdown",
   "id": "spare-protocol",
   "metadata": {},
   "source": [
    "El control de versiones es un sistema que registra los cambios realizados en un archivo o conjunto de archivos a lo largo del tiempo para poder recuperar versiones específicas más adelante. Para los ejemplos de este libro, se utilizará el código fuente del software como los archivos que se controlan por versión, aunque en realidad se puede hacer esto con casi cualquier tipo de archivo en un ordenador.\n",
    "\n",
    "Si eres un diseñador gráfico o de páginas web y quieres conservar todas las versiones de una imagen o diseño (lo que sin duda querrás), un sistema de control de versiones (VCS) es algo muy inteligente. Te permite revertir archivos seleccionados a un estado anterior, revertir todo el proyecto a un estado anterior, comparar los cambios a lo largo del tiempo, ver quién fue el último en modificar algo que podría estar causando un problema, quién introdujo un problema y cuándo, y mucho más. El uso de un VCS también significa, en general, que si se estropean las cosas o se pierden archivos, se puede recuperar fácilmente. Además, todo esto se consigue con muy pocos gastos.\n",
    "\n",
    "GIT es un sistema VCS diseñado con los siguientes objetivos:\n",
    "\n",
    "* Velocidad\n",
    "\n",
    "* Diseño sencillo\n",
    "\n",
    "* Soporte fuerte para el desarrollo no lineal (miles de ramas paralelas)\n",
    "\n",
    "* Totalmente distribuido\n",
    "\n",
    "* Capaz de manejar grandes proyectos como el kernel de Linux de manera eficiente (velocidad y tamaño de los datos)\n",
    "\n",
    "No hay suficientes razones para aprender GIT. Bueno, **es un estándar absoluto de la industria** así que... a lidiar con él\n",
    "\n",
    "***Nota:** Documentación extraída principalmente de [docs](https://git-scm.com/book/en/v2/Getting-Started-About-Version-Control)\n"
   ]
  },
  {
   "cell_type": "markdown",
   "id": "seasonal-detection",
   "metadata": {},
   "source": [
    "## GIT´s graph model\n",
    "\n",
    "\n",
    "Git modela el historial de tus proyectos como [grafo acíclico dirigido](https://en.wikipedia.org/wiki/Directed_acyclic_graph) (a DAG). Entendamos estas tres palabras:\n",
    "\n",
    "* Un **Gráfico** es una forma de modelar cosas conectadas. Más técnicamente, un gráfico es una colección de \"nodos\" conectados por \"aristas\". Piensa, por ejemplo, en una red social, en la que los individuos son los nodos y las relaciones son las \"aristas\" (también llamadas enlaces).\n",
    "\n",
    "* **Acíclico** significa que el gráfico no contiene círculos. Esto significa que no se puede encontrar un camino en el que se empiece y termine en el mismo nodo siguiendo la dirección de las aristas.\n",
    "\n",
    "* **Dirigido** significa que los bordes sólo pueden ir en una dirección. Piensa por ejemplo en \"padre\", \"hijo\", y la relación \"es hijo de\" --- no, no puedes ser padre e hijo de la misma persona.\n",
    "\n",
    "Además:\n",
    "\n",
    "* El **gráfico en su conjunto** contiene un [historial del proyecto](https://www.youtube.com/watch?v=zuRd_Eneuk8). \n",
    "\n",
    "* **Los nodos** en Git representan los commits (recuerde: instantáneas de su proyecto)\n",
    "\n",
    "* Los **bordes** apuntan desde un commit a sus padres. \n",
    "\n",
    "* Se produce una **rama** si un commit tiene más de un hijo. \n",
    "\n",
    "* Un **merge** (o fusión) se produce cuando un commit tiene más de un padre. \n",
    "\n",
    "\n",
    "[¡Enlace a una visualización superchula!](https://agripongit.vincenttunru.com/)"
   ]
  },
  {
   "cell_type": "markdown",
   "id": "increasing-quantity",
   "metadata": {},
   "source": [
    "![cool_kid_dab](https://img.devrant.com/devrant/rant/r_361939_fGjf5.jpg)"
   ]
  },
  {
   "cell_type": "markdown",
   "id": "intellectual-lodging",
   "metadata": {},
   "source": [
    "## Git VS Github"
   ]
  },
  {
   "cell_type": "markdown",
   "id": "annoying-instrument",
   "metadata": {},
   "source": [
    "![gitvsgithub](https://blog.devmountain.com/hs-fs/hubfs/Imported_Blog_Media/Gitvs_Github-1a-1.jpg?width=1200&name=Gitvs_Github-1a-1.jpg)"
   ]
  },
  {
   "cell_type": "markdown",
   "id": "graduate-sheet",
   "metadata": {},
   "source": [
    "- **Git** es un software VCS local que permite a los desarrolladores guardar instantáneas de sus proyectos a lo largo del tiempo. Generalmente es mejor para uso individual.   \n",
    "- **GitHub** es una plataforma basada en la web que incorpora las características de control de versiones de git para que puedan ser utilizadas en colaboración. También incluye funciones de gestión de proyectos y equipos, así como oportunidades para la creación de redes y la codificación social.   "
   ]
  },
  {
   "cell_type": "markdown",
   "id": "intelligent-charge",
   "metadata": {},
   "source": [
    "## Terminología\n",
    "- `repository` | `repo` : lugar de almacenamiento de un paquete de software (\"una carpeta con seguimiento git\")\n",
    "- `untracked` : un archivo o directorio no supervisado por git, no pertenece al repositorio, pero puede estar dentro de la carpeta.\n",
    "- `tracked` : un archivo que git ha ordenado monitorizar (a través del comando `add`.)\n",
    "- `commit` : un punto en la línea temporal de un repositorio. Una \"instantánea\" de todos los cambios que hemos \"oficializado\", o el último estado de los archivos escaneados antes de hacer el commit.\n",
    "Cada commit tiene un identificador único y debe tener un mensaje de confirmación. Cuanto más descriptivo sea el mensaje, mejor.\n",
    "- `local repo` : Un repositorio de código en el ordenador que está utilizando actualmente.\n",
    "- `remote` : Un repositorio en una máquina diferente (por ejemplo: Github).\n",
    "- `forking a repo` : crear una línea de tiempo alternativa para un repo, normalmente el repo de alguien que queremos tener como copia del nuestro.\n",
    "- `cloning a repo` : hacer una copia local de un repo remoto.\n",
    "- `push` : enviar cambios del repositorio local al remoto.\n",
    "- `pull` : llevar los cambios de un repositorio remoto a uno local.\n",
    "- `.gitignore` : archivo de texto con los archivos/carpetas que no queremos que git rastree o pregunte.\n",
    "    - e.g.:\n",
    "        \n",
    "        logo.jpg `# git ignora el archivo con un nombre específico`  \n",
    "\n",
    "        develop_test/ `# git ignora el directorio con nombre específico y todo su contenido. Tenga en cuenta el / después del nombre.` \n",
    "\n",
    "        *.jpg `# git ignora todos los archivos con una extensión determinada` \n",
    "- `branch` : las diferentes `líneas de tiempo` de un repositorio. Permite el desarrollo en paralelo. \n",
    "- `merge` : unir los cambios de una rama en otra. Es lo contrario de la bifurcación, en lugar de separar, une dos \"líneas de tiempo\".\n",
    "- `pull request` : el acto de pedir al propietario de un repositorio que fusione los cambios en su bifurcación/rama. Es, literalmente, la petición de que `pull` tus cambios."
   ]
  },
  {
   "cell_type": "markdown",
   "id": "excessive-adolescent",
   "metadata": {},
   "source": [
    "## Comandos\n",
    "\n",
    "`git init`\n",
    "- Convierte una carpeta en un repositorio\n",
    "\n",
    "`git add <file>`\n",
    "- Añade un archivo a un área de almacenamiento de repo\n",
    "\n",
    "`git restore --staged <file>`\n",
    "- Elimina un archivo del área de preparación\n",
    "`git commit -m \"<message>\"`\n",
    "- Guarda los cambios con el mensaje que pongamos. Hace \"la foto\", \"la instantánea\" en la línea de tiempo.\n",
    "\n",
    "- `-a`\n",
    "    - \"Commiteaa\" todos los cambios en los archivos que pertenecen al repo (todos los archivos que fueron añadidos previamente)\n",
    "- `-m`\n",
    "    - Permite escribir el mensaje en el comando\n",
    "- `-am` == `-a -m`\n",
    "\n",
    "`git log`\n",
    "- Muestra todos los commits de un repo\n",
    "\n",
    "`git reset --hard <commit_id>`\n",
    "- HARD resets la rama al commit especificado. \"Retrocede en el tiempo\". Volvemos al punto en el que estaba en el repositorio cuando hicimos ese commit al que especificamos.\n",
    "\n",
    "`git remote add <name> <url>`\n",
    "- Conecta el repo local actual con un remoto en `url` llamándolo `nombre`.\n",
    "\n",
    "`git clone <url>`\n",
    "- Realiza una copia local del repositorio remoto\n",
    "\n",
    "`git pull <remote> <branch>`\n",
    "- e.g.: `git pull origin main`\n",
    "- Trae los cambios de la \"rama\" remota a la actual.\n",
    "\n",
    "`git push <remote> <branch>`\n",
    "- e.g.: `git push origin main`\n",
    "- Envía los cambios del repositorio local al `branch` remoto\n",
    "\n",
    "`git branch`\n",
    "- Lista todas las ramas del repositorio actual\n",
    "\n",
    "`git branch <name>`\n",
    "- Crea una rama con un nombre determinado\n",
    "`git checkout <branch>`\n",
    "- Cambia la rama activa por la indicada. Es la forma de cambiar entre ramas, pero sólo una puede estar activa a la vez.\n",
    "\n",
    "`git checkout -b <branch>`\n",
    "- Crea y hace checkout en una nueva rama con un solo comando.\n",
    "\n",
    "`git merge <branch>`\n",
    "- Trae los cambios de \\<branch\\> a la actual. Fusiona la rama que tenemos activa con la que le indiquemos."
   ]
  },
  {
   "cell_type": "markdown",
   "id": "patient-potato",
   "metadata": {},
   "source": [
    "## Hands on tutorial!"
   ]
  },
  {
   "cell_type": "markdown",
   "id": "periodic-rehabilitation",
   "metadata": {},
   "source": [
    "Vamos a crear nuestro propio repositorio y a jugar con él   \n",
    "Tenemos que tener siempr een mente esta maravilla... -->> [**OH SHIT, GIT!**](https://ohshitgit.com/) 🙃"
   ]
  },
  {
   "cell_type": "markdown",
   "id": "immune-clinic",
   "metadata": {},
   "source": [
    "### ¿Cómo creamos un repositorio?"
   ]
  },
  {
   "cell_type": "markdown",
   "id": "eastern-application",
   "metadata": {},
   "source": [
    "Hay dos maneras:\n",
    "#### Podemos crear un repositorio de forma local y luego enlazarlo"
   ]
  },
  {
   "cell_type": "code",
   "execution_count": 1,
   "id": "exclusive-apartment",
   "metadata": {},
   "outputs": [],
   "source": [
    "#Así lo creaamos de forma local \n",
    "# $ cd                 \n",
    "# $ mkdir primerito_repo\n",
    "# $ cd primerito_repo\n",
    "# $ git init"
   ]
  },
  {
   "cell_type": "code",
   "execution_count": 2,
   "id": "minimal-copying",
   "metadata": {},
   "outputs": [],
   "source": [
    "# Extra: Let´s go deep! --> .git comprobamos que la carpeta .git se ha creado al hacer ls -a\n",
    "# $ ls -a"
   ]
  },
  {
   "cell_type": "markdown",
   "id": "important-dominican",
   "metadata": {},
   "source": [
    "Para subir nuestro repositorio local a un repositorio online, primero debemos crear un repositorio en un sitio online como GitHub."
   ]
  },
  {
   "cell_type": "code",
   "execution_count": 3,
   "id": "divided-ballet",
   "metadata": {},
   "outputs": [],
   "source": [
    "# $ git remote add origin <url of repo>"
   ]
  },
  {
   "cell_type": "markdown",
   "id": "blocked-folks",
   "metadata": {},
   "source": [
    "#### Podemos crear un repositorio remoto y luego descargarlo"
   ]
  },
  {
   "cell_type": "code",
   "execution_count": 11,
   "id": "primary-variable",
   "metadata": {},
   "outputs": [],
   "source": [
    "# $ git clone <url of repo>"
   ]
  },
  {
   "cell_type": "markdown",
   "id": "southwest-circus",
   "metadata": {},
   "source": [
    "Mucho más fácil y menos peligroso ¿no crees?"
   ]
  },
  {
   "cell_type": "markdown",
   "id": "imported-witch",
   "metadata": {},
   "source": [
    "![think](https://media.giphy.com/media/IedrY2VP5IO5ivDQAD/giphy.gif)"
   ]
  },
  {
   "cell_type": "markdown",
   "id": "wrapped-intention",
   "metadata": {},
   "source": [
    "### Forkeando un repo"
   ]
  },
  {
   "cell_type": "markdown",
   "id": "available-coffee",
   "metadata": {},
   "source": [
    "Hacer un fork de un repositorio significa copiarlo. Copiar un repositorio nos permite experimentar libremente sin afectar al proyecto original, obviamente porque nuestro fork es una copia, que se encontrará en nuestra cuenta de github.   \n",
    "- https://aprendegit.com/fork-de-repositorios-para-que-sirve/ "
   ]
  },
  {
   "cell_type": "markdown",
   "id": "polish-iraqi",
   "metadata": {},
   "source": [
    "### Trabajando con ramas"
   ]
  },
  {
   "cell_type": "markdown",
   "id": "pursuant-liquid",
   "metadata": {},
   "source": [
    "Una rama en Git es simplemente una copia de cómo está el repositorio en el momento en el que la haces. El nombre de la rama por defecto en Git es main . Cuando empiezas a hacer commits, se te da una rama principal que apunta a la última confirmación que has hecho (commit). Cada vez que haces un commit, el puntero de la rama principal se mueve hacia adelante automáticamente. O la rama a la que hagas commit."
   ]
  },
  {
   "cell_type": "markdown",
   "id": "separated-period",
   "metadata": {},
   "source": [
    "![branches](../images/git_graph.png)"
   ]
  },
  {
   "cell_type": "markdown",
   "id": "regular-terror",
   "metadata": {},
   "source": [
    "- https://medium.com/faun/branching-with-git-the-multiverse-theory-83d3d1372746"
   ]
  },
  {
   "cell_type": "markdown",
   "id": "independent-ontario",
   "metadata": {},
   "source": [
    "#### Contribuir a un repositorio forkeado"
   ]
  },
  {
   "cell_type": "markdown",
   "id": "meaning-return",
   "metadata": {},
   "source": [
    "Un pull request (PR) es una solicitud enviada a un repositorio de GitHub para fusionar código en ese proyecto. El PR permite a los revisores solicitados ver y discutir el código propuesto. Una vez que el PR pasa todos los estándares de revisión y se han hecho todas las revisiones necesarias, se puede fusionar en la base de código.\n",
    "¡Vamos!"
   ]
  },
  {
   "cell_type": "markdown",
   "id": "lesser-turning",
   "metadata": {},
   "source": [
    "- https://www.freecodecamp.org/espanol/news/como-hacer-tu-primer-pull-request-en-github/"
   ]
  },
  {
   "cell_type": "markdown",
   "id": "traditional-petroleum",
   "metadata": {},
   "source": [
    "# Git Areas"
   ]
  },
  {
   "cell_type": "markdown",
   "id": "designing-poland",
   "metadata": {},
   "source": [
    "![git_areas](../images/git_areas.png)"
   ]
  },
  {
   "cell_type": "markdown",
   "id": "revolutionary-kitchen",
   "metadata": {},
   "source": [
    "# Ejemplos de flujos de trabajo:\n",
    "\n",
    "- Trabajando en mi propio repo que empecé localmente:\n",
    "    - `git init` para empezar el repo.\n",
    "    - `git add <files>` para trackear archivos.\n",
    "    - `git commit -m \"<message>\"` para commitear los cambios.\n",
    "    - `git remote add <name> <url>` para conectar el repo a uno remoto (crear un repo vacío en github para evitar conflictos).\n",
    "\n",
    "- Trabajando en un control remoto al que tengo privilegios:\n",
    "    - `git clone <url>` para hacer una copia loca\n",
    "    - `git add <files>` y `git commit -m \"<message>\"` para confirmar los cambios.\n",
    "    - `git pull` ANTES de hacer push. Queremos traer los cambios extranjeros antes de enviar los nuestros para evitar conflictos.\n",
    "    - `git push` para enviar nuestros cambios. \n",
    "    - También es bueno `git pull` antes de comenzar el trabajo de cada sesión para asegurarse de que tenemos la última versión del código.\n",
    "\n",
    "- Trabajando en un control remoto para el que no tengo privilegios:\n",
    "    - `fork` en github para crear una alternativa propia\n",
    "    - `git clone` para copiar nuestro fork en el local\n",
    "    - `git commit`, `git add`, `git push` para que nuestros cambios se reflejen en nuestra copia remota\n",
    "    - `pull request` para ver si el propietario acepta nuestros cambios."
   ]
  },
  {
   "cell_type": "markdown",
   "id": "earned-telescope",
   "metadata": {},
   "source": [
    "## Resumen 🚀🔥\n",
    "Ahora es vuestro turno: ¿Qué hemos aprendido?\n",
    "\n",
    "- git vs github (que no es lo mismo)\n",
    "- repositorio local y respositorio remoto (que tampoco es lo mismo)\n",
    "- creación de nuevos repositorios desde local con git init\n",
    "- creamos repositorios desde github porque es más fácil y más rápido\n",
    "- creamos una nueva rama y mergeamos \n",
    "- forkear un repo de otra persona\n",
    "- clonar (es descargarnos el repo que está en remoto)\n",
    "- hacer git pull (Traermos a local lo que está en remoto)\n",
    "- git pull / git pull upstream"
   ]
  },
  {
   "cell_type": "markdown",
   "id": "cleared-customs",
   "metadata": {},
   "source": [
    "Proceso para subir un lab: \n",
    "    - Forkeo    \n",
    "    - Copio el enlace de MI repositorio     \n",
    "    - Clono el fork con git clone     \n",
    "    - Trabajo en mi repositorio     \n",
    "    - En mi terminal, me voy a esa carpeta y:      \n",
    "        - Git add     \n",
    "        - Git commit -m \"pongo un mensaje\" \n",
    "        - Git push origin nombredelarama      \n",
    "    - Me meto en github en mi perfil, dentro del repo, y \"pull request\"     "
   ]
  },
  {
   "cell_type": "markdown",
   "id": "collect-right",
   "metadata": {},
   "source": [
    "![fire](https://gorkamudev.files.wordpress.com/2016/10/in-case-of-fire-1-git-commit-2-git-push-3-leave-building2.png?w=600)"
   ]
  },
  {
   "cell_type": "markdown",
   "id": "affected-syndicate",
   "metadata": {},
   "source": [
    "## Further materials\n",
    "* Github para Dummies [here](https://github.com/firstcontributions/first-contributions)\n",
    "* Conozca a Linus Torvals, la mente detrás de Linux y Git en esta [entrevista TED](https://www.ted.com/talks/linus_torvalds_the_mind_behind_linux?language=es)\n",
    "* Mira esteos [documentos de GIT](https://git-scm.com/)\n",
    "* ¡¡Más más más más infooooo!! (http://justinhileman.info/article/git-pretty/git-pretty.png)\n",
    "* O esta [simple guía](https://rogerdudler.github.io/git-guide/index.html) para recordar rápidamente los conceptos básicos.\n",
    "* ¡Y no olvides tu [Cheatsheet](https://www.atlassian.com/dam/jcr:8132028b-024f-4b6b-953e-e68fcce0c5fa/atlassian-git-cheatsheet.pdf) que te salvará la vida!\n"
   ]
  }
 ],
 "metadata": {
  "kernelspec": {
   "display_name": "Python 3",
   "language": "python",
   "name": "python3"
  },
  "language_info": {
   "codemirror_mode": {
    "name": "ipython",
    "version": 3
   },
   "file_extension": ".py",
   "mimetype": "text/x-python",
   "name": "python",
   "nbconvert_exporter": "python",
   "pygments_lexer": "ipython3",
   "version": "3.8.5"
  },
  "toc": {
   "base_numbering": 1,
   "nav_menu": {},
   "number_sections": true,
   "sideBar": true,
   "skip_h1_title": true,
   "title_cell": "Table of Contents",
   "title_sidebar": "Contents",
   "toc_cell": true,
   "toc_position": {},
   "toc_section_display": true,
   "toc_window_display": false
  }
 },
 "nbformat": 4,
 "nbformat_minor": 5
}
