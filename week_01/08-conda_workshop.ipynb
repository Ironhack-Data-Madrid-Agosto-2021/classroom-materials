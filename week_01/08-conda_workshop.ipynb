{
 "cells": [
  {
   "cell_type": "markdown",
   "id": "certified-apache",
   "metadata": {},
   "source": [
    "# Workshop Conda"
   ]
  },
  {
   "cell_type": "markdown",
   "id": "beginning-amateur",
   "metadata": {},
   "source": [
    "![anacaonda](https://media.giphy.com/media/26BRPVW5a4hx275Vm/giphy.gif)"
   ]
  },
  {
   "cell_type": "markdown",
   "id": "focused-excess",
   "metadata": {
    "toc": true
   },
   "source": [
    "<h1>Table of Contents<span class=\"tocSkip\"></span></h1>\n",
    "<div class=\"toc\"><ul class=\"toc-item\"><li><span><a href=\"#¿Qué-es-conda?-🤔\" data-toc-modified-id=\"¿Qué-es-conda?-🤔-1\"><span class=\"toc-item-num\">1&nbsp;&nbsp;</span>¿Qué es conda? 🤔</a></span></li><li><span><a href=\"#¿Qué-es-Anaconda-y-Miniconda?-🥸\" data-toc-modified-id=\"¿Qué-es-Anaconda-y-Miniconda?-🥸-2\"><span class=\"toc-item-num\">2&nbsp;&nbsp;</span>¿Qué es Anaconda y Miniconda? 🥸</a></span></li><li><span><a href=\"#Instalaciones------💻\" data-toc-modified-id=\"Instalaciones------💻-3\"><span class=\"toc-item-num\">3&nbsp;&nbsp;</span>Instalaciones      💻</a></span></li><li><span><a href=\"#Setup-⚙️\" data-toc-modified-id=\"Setup-⚙️-4\"><span class=\"toc-item-num\">4&nbsp;&nbsp;</span>Setup ⚙️</a></span></li><li><span><a href=\"#Creamos-entornos-🙌🏻\" data-toc-modified-id=\"Creamos-entornos-🙌🏻-5\"><span class=\"toc-item-num\">5&nbsp;&nbsp;</span>Creamos entornos 🙌🏻</a></span></li><li><span><a href=\"#Activamos-entornos-🔥\" data-toc-modified-id=\"Activamos-entornos-🔥-6\"><span class=\"toc-item-num\">6&nbsp;&nbsp;</span>Activamos entornos 🔥</a></span></li><li><span><a href=\"#Desactivamos-entornos-🔥\" data-toc-modified-id=\"Desactivamos-entornos-🔥-7\"><span class=\"toc-item-num\">7&nbsp;&nbsp;</span>Desactivamos entornos 🔥</a></span></li><li><span><a href=\"#Instalamos-librerías\" data-toc-modified-id=\"Instalamos-librerías-8\"><span class=\"toc-item-num\">8&nbsp;&nbsp;</span>Instalamos librerías</a></span></li><li><span><a href=\"#Podemos-seleccionar-el-kernel-de-CONDA-en-Jupyter-Notebook\" data-toc-modified-id=\"Podemos-seleccionar-el-kernel-de-CONDA-en-Jupyter-Notebook-9\"><span class=\"toc-item-num\">9&nbsp;&nbsp;</span>Podemos seleccionar el kernel de CONDA en Jupyter Notebook</a></span></li><li><span><a href=\"#Podemos-seleccionar-el-kernel-de-CONDA-en-Visual-Studio-Code\" data-toc-modified-id=\"Podemos-seleccionar-el-kernel-de-CONDA-en-Visual-Studio-Code-10\"><span class=\"toc-item-num\">10&nbsp;&nbsp;</span>Podemos seleccionar el kernel de CONDA en Visual Studio Code</a></span></li><li><span><a href=\"#Exportar-entorno\" data-toc-modified-id=\"Exportar-entorno-11\"><span class=\"toc-item-num\">11&nbsp;&nbsp;</span>Exportar entorno</a></span></li><li><span><a href=\"#Instalar-entorno-yml\" data-toc-modified-id=\"Instalar-entorno-yml-12\"><span class=\"toc-item-num\">12&nbsp;&nbsp;</span>Instalar entorno yml</a></span></li></ul></div>"
   ]
  },
  {
   "cell_type": "markdown",
   "id": "ethical-cricket",
   "metadata": {},
   "source": [
    "## ¿Qué es conda? 🤔\n",
    "Pues como  siempre, lo  primero que tenemos a mano es ... efectivamente, lo sabes: [la documentación](https://docs.conda.io/en/latest/)     \n",
    "     \n",
    "Conda es un sistema de gestión de paquetes de código abierto y un sistema de gestión de entornos que se ejecuta en Windows, macOS y Linux. Conda instala, ejecuta y actualiza rápidamente los paquetes y sus dependencias. Conda crea, guarda, carga y cambia fácilmente entre entornos en su ordenador local. Fue creado para programas de Python, pero puede empaquetar y distribuir software para cualquier lenguaje.\n",
    "\n",
    "Conda como gestor de paquetes te ayuda a encontrar e instalar paquetes. Si necesitas un paquete que requiere una versión diferente de Python, no necesitas cambiar a un gestor de entornos diferente, porque Conda es también un gestor de entornos. Con sólo unos pocos comandos, puedes configurar un entorno totalmente separado para ejecutar esa versión diferente de Python, mientras sigues ejecutando tu versión habitual de Python en tu entorno normal."
   ]
  },
  {
   "cell_type": "markdown",
   "id": "extensive-declaration",
   "metadata": {},
   "source": [
    "## ¿Qué es Anaconda y Miniconda? 🥸"
   ]
  },
  {
   "cell_type": "markdown",
   "id": "falling-cable",
   "metadata": {},
   "source": [
    "Realmente todo es lo mismo, todo viene de Conda... y   \n",
    "Hay dos opciones para instalar Conda:\n",
    " - Anaconda: incluye varias librerías de datos preinstaladas\n",
    " - Miniconda (ligero): no incluye librerías de datos preinstaladas. Se hace manualmente.\n",
    " \n",
    "Elige usar Anaconda o Miniconda libremente, yo usaré Miniconda 🙃"
   ]
  },
  {
   "cell_type": "markdown",
   "id": "apart-minneapolis",
   "metadata": {},
   "source": [
    "## Instalaciones      💻\n",
    "[Miniconda](https://docs.conda.io/en/latest/miniconda.html)"
   ]
  },
  {
   "cell_type": "markdown",
   "id": "owned-replication",
   "metadata": {},
   "source": [
    "## Setup ⚙️\n",
    "Open your terminal:\n",
    " - Windows: builtin\n",
    " - MacOS: cualquier terminal\n",
    " - Linux: cualquier terminal"
   ]
  },
  {
   "cell_type": "markdown",
   "id": "focused-address",
   "metadata": {},
   "source": [
    "![comprobandoconfig](../images/conda.png)"
   ]
  },
  {
   "cell_type": "markdown",
   "id": "norman-aggregate",
   "metadata": {},
   "source": [
    "Si al poner \"conda\" en la terminal obtenemos un mensaje parecido a esto está todo bien, si no, tenemos que hacer un par de configuraciones.    \n",
    "Hay que hacer:   \n",
    "```\n",
    "conda init <y  la terminal que estemos usando zsh o bash>     \n",
    "````\n",
    "\n",
    "Pero si no funciona, igual tenemos que hacer esto:       \n",
    "```\n",
    "source /Users/MINOMBEDEUSUARIOCAMBIALOPLS/opt/anaconda3/bin/activate; conda init zsh\n",
    "```"
   ]
  },
  {
   "cell_type": "markdown",
   "id": "visible-dating",
   "metadata": {},
   "source": [
    "## Creamos entornos 🙌🏻\n",
    "Yo siempre siempre siempre tengo a mano este [conda cheasheet](https://conda.io/projects/conda/en/latest/_downloads/843d9e0198f2a193a3484886fa28163c/conda-cheatsheet.pdf)\n",
    "\n",
    "Para crear un entorno con una versión de python específica\n",
    "```\n",
    "conda create --name ENVNAME python=3.6\n",
    "```\n",
    "\n",
    "BONUS: comprobar el ejecutable de python: \n",
    "`where python`"
   ]
  },
  {
   "cell_type": "markdown",
   "id": "documented-impossible",
   "metadata": {},
   "source": [
    "## Activamos entornos 🔥\n",
    "\n",
    "`conda activate envname`"
   ]
  },
  {
   "cell_type": "markdown",
   "id": "defensive-dating",
   "metadata": {},
   "source": [
    "## Desactivamos entornos 🔥\n",
    "`conda deactivate`"
   ]
  },
  {
   "cell_type": "markdown",
   "id": "persistent-listing",
   "metadata": {},
   "source": [
    "## Instalamos librerías\n",
    "Para instalar librerías en el entorno de conda, es lo mismo hacerlo desde pip que desde conda, simplemente es coger la librería del gestor de librerías e instalarlo dentro del entorno. Da igual instalar las librerías desde pip o desde conda, lo importante es instalarlas teniendo el entorno activado.    \n",
    "Yo uso siempre `pip install milibreríafavorita`"
   ]
  },
  {
   "cell_type": "markdown",
   "id": "shaped-effectiveness",
   "metadata": {},
   "source": [
    "## Podemos seleccionar el kernel de CONDA en Jupyter Notebook\n",
    "¿Cómo?    \n",
    "Primero instalamos la librería ipykernel\n",
    "```\n",
    "conda install -c anaconda ipykernel\n",
    "```\n",
    "o \n",
    "```\n",
    "pip install ipykernel\n",
    "```\n",
    "\n",
    "Y luego \n",
    "\n",
    "```\n",
    "python -m ipykernel install --user --name=ironhack\n",
    "\n",
    "```"
   ]
  },
  {
   "cell_type": "markdown",
   "id": "stainless-uganda",
   "metadata": {},
   "source": [
    "![capturajupyter](../images/jupyter.png)"
   ]
  },
  {
   "cell_type": "markdown",
   "id": "turned-swedish",
   "metadata": {},
   "source": [
    "## Podemos seleccionar el kernel de CONDA en Visual Studio Code"
   ]
  },
  {
   "cell_type": "markdown",
   "id": "plastic-generation",
   "metadata": {},
   "source": [
    "Así entendemos el poder de tener todas las librerías instaladas en el mismo entorno\n",
    "![vscode](../images/vs_code.png)"
   ]
  },
  {
   "cell_type": "markdown",
   "id": "front-adventure",
   "metadata": {},
   "source": [
    "## Exportar entorno "
   ]
  },
  {
   "cell_type": "markdown",
   "id": "political-block",
   "metadata": {},
   "source": [
    "`conda env export > nombredelentornoquelepongo.yml`"
   ]
  },
  {
   "cell_type": "markdown",
   "id": "spiritual-welcome",
   "metadata": {},
   "source": [
    "## Instalar entorno yml"
   ]
  },
  {
   "cell_type": "markdown",
   "id": "foreign-algorithm",
   "metadata": {},
   "source": [
    "`conda env create --file nombredelentornoquelehepuesto.yml`"
   ]
  }
 ],
 "metadata": {
  "kernelspec": {
   "display_name": "ironhack",
   "language": "python",
   "name": "ironhack"
  },
  "language_info": {
   "codemirror_mode": {
    "name": "ipython",
    "version": 3
   },
   "file_extension": ".py",
   "mimetype": "text/x-python",
   "name": "python",
   "nbconvert_exporter": "python",
   "pygments_lexer": "ipython3",
   "version": "3.8.5"
  },
  "toc": {
   "base_numbering": 1,
   "nav_menu": {},
   "number_sections": true,
   "sideBar": true,
   "skip_h1_title": true,
   "title_cell": "Table of Contents",
   "title_sidebar": "Contents",
   "toc_cell": true,
   "toc_position": {
    "height": "calc(100% - 180px)",
    "left": "10px",
    "top": "150px",
    "width": "288px"
   },
   "toc_section_display": true,
   "toc_window_display": false
  }
 },
 "nbformat": 4,
 "nbformat_minor": 5
}
