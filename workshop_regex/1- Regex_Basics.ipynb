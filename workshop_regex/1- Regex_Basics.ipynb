{
 "cells": [
  {
   "cell_type": "markdown",
   "id": "9899a501",
   "metadata": {
    "toc": true
   },
   "source": [
    "<h1>Table of Contents<span class=\"tocSkip\"></span></h1>\n",
    "<div class=\"toc\"><ul class=\"toc-item\"><li><span><a href=\"#What-is-regex?\" data-toc-modified-id=\"What-is-regex?-1\"><span class=\"toc-item-num\">1&nbsp;&nbsp;</span>What is regex?</a></span></li><li><span><a href=\"#Common-operators\" data-toc-modified-id=\"Common-operators-2\"><span class=\"toc-item-num\">2&nbsp;&nbsp;</span>Common operators</a></span></li><li><span><a href=\"#Syntax\" data-toc-modified-id=\"Syntax-3\"><span class=\"toc-item-num\">3&nbsp;&nbsp;</span>Syntax</a></span></li><li><span><a href=\"#Let's-get-to-work!-💪\" data-toc-modified-id=\"Let's-get-to-work!-💪-4\"><span class=\"toc-item-num\">4&nbsp;&nbsp;</span>Let's get to work! 💪</a></span></li><li><span><a href=\"#Usefull-links-🤓\" data-toc-modified-id=\"Usefull-links-🤓-5\"><span class=\"toc-item-num\">5&nbsp;&nbsp;</span>Usefull links 🤓</a></span></li></ul></div>"
   ]
  },
  {
   "attachments": {
    "portada_jup1.png": {
     "image/png": "[encoded data removed]"
    }
   },
   "cell_type": "markdown",
   "id": "127dbc56",
   "metadata": {},
   "source": [
    "![portada_jup1.png](attachment:portada_jup1.png)"
   ]
  },
  {
   "cell_type": "markdown",
   "id": "920576fe",
   "metadata": {},
   "source": [
    "### What is regex?"
   ]
  },
  {
   "cell_type": "markdown",
   "id": "0f228f58",
   "metadata": {},
   "source": [
    "Short for **regular expression**, a regex is a string of text that allows you to create patterns that help match, locate, and manage text(strings).\n",
    "\n",
    "\n",
    "Regular expressions provide a powerful, flexible, and efficient method for processing text. The extensive pattern-matching notation of regular expressions enables you to quickly parse large amounts of text to:\n",
    "\n",
    "- Find specific character patterns.\n",
    "- Validate text to ensure that it matches a predefined pattern (such as an email address).\n",
    "- Extract, edit, replace, or delete text substrings.\n"
   ]
  },
  {
   "cell_type": "markdown",
   "id": "8d27d67f",
   "metadata": {},
   "source": [
    "### Common operators"
   ]
  },
  {
   "cell_type": "markdown",
   "id": "e5d4e60a",
   "metadata": {},
   "source": [
    "- `+` : match the preceding character one or more times.\n",
    "    \n",
    "   For example `ab+c` matches **“abc”**, **“abbc”**, **“abbbc”** but it doesn’t match **“ac”**.\n",
    " \n",
    "\n",
    "- `*` : match the preceding character zero or more times or optional\n",
    "\n",
    "    For example `ab*c` matches **“abc”**, **“abbc”**, **“abbbc”** and **“ac”**\n",
    "\n",
    "\n",
    "- `?` : indicates zero or one occurences of the preceding element.\n",
    "\n",
    "    For example, `colou?r` matches both **\"color\"** and **\"colour\"**.\n",
    "    \n",
    "    \n",
    "- `.` : matches any single character.\n",
    "\n",
    "    For example `a.c` matches **“abc”**, **“adc”**, **“aec”** etc.\n",
    "    \n",
    "    If we wanted to match multiple characters before the letter “c”, we would just use the star `*` from above like this: `a.*c` and this would match **“abdefghc”**.\n",
    "    \n",
    "    \n",
    "- `^` : matches the starting position of any string\n",
    "\n",
    "    For example `^b` matches **bat**, **ball**, **basketball** etc. \n",
    "\n",
    "\n",
    "- `$` : matches the ending position of any string\n",
    "\n",
    "    For example `$t` matches **hat**, **cat** etc."
   ]
  },
  {
   "cell_type": "markdown",
   "id": "4600b97b",
   "metadata": {},
   "source": [
    "### Syntax"
   ]
  },
  {
   "cell_type": "markdown",
   "id": "1ca87ca4",
   "metadata": {},
   "source": [
    "\n",
    "- `\\w`, `\\d`, `\\s`, `\\n`, `\\W`, `\\D`, `\\S` : types of characters\n",
    "\n",
    "     \n",
    "- `()` : isolate just a part of our search pattern that we would like to return, i.e. capture a group\n",
    "\n",
    "\n",
    "\n",
    "- `[]` : include all the characters we would like to match and even include ranges like this: a-z and 0–9.\n",
    "\n",
    "    For example find all lower case characters in a string `[a-z]` \n",
    "    \n",
    "    \n",
    "     ⚠️ Here it simply refers to all lowercase alphabets from a to z. ⚠️\n",
    "    \n",
    "     To uppercase characters [A-Z]\n",
    "    \n",
    "     To numbers [0-9]\n",
    "    \n",
    "   🚨 **Note** `[^ch]` matches with all string **NOT** beginning with **ch**\n",
    "    \n",
    "    \n",
    "- `|` : Either or\n",
    "\n",
    "    For example `hello|hi` check if the string contains \"hello\" or \"hi\"\n",
    "    \n",
    "    \n",
    "- `\\` : signal a special sequence ( escape special characters)\n",
    "\n",
    "    For example `\\d` matches with all digits in the string. \n",
    "    \n",
    "\n",
    "- `{}`:\tExactly the specified number of occurrences\n",
    "\n",
    "    `{n}`: Exactly n times\n",
    "    \n",
    "    `{n,}`: At least n times\n",
    "    \n",
    "    `{n,m}`: Between n and m times\n",
    "\n",
    "    For example `al{2}` matches **all** but not with **alchemy* \n",
    "   "
   ]
  },
  {
   "cell_type": "markdown",
   "id": "5159d92f",
   "metadata": {},
   "source": [
    "### Let's get to work! 💪"
   ]
  },
  {
   "cell_type": "markdown",
   "id": "a1a77c0b",
   "metadata": {},
   "source": [
    "Let's practice a bit to put the basic regex operators into practice.\n",
    "\n",
    "[Learn Regular Expressions with simple, interactive exercises.](https://regexone.com/)"
   ]
  },
  {
   "cell_type": "markdown",
   "id": "a09fe45a",
   "metadata": {},
   "source": [
    "### Usefull links 🤓\n",
    "\n",
    "**1- Documentation**\n",
    "\n",
    "   - [The documentation](https://docs.python.org/3/howto/regex.html)\n",
    "\n",
    "**2- Cheat sheets**\n",
    "\n",
    "   - [Regex tutorial — A quick cheatsheet by examples](https://medium.com/factory-mind/regex-tutorial-a-simple-cheatsheet-by-examples-649dc1c3f285)\n",
    "   - [Regular Expressions Cheat Sheet](https://cheatography.com/davechild/cheat-sheets/regular-expressions/)\n",
    "\n",
    "**3- To practice and check patters**\n",
    "\n",
    "- [Regex One, to practise](https://regex101.com/)\n",
    "\n",
    "- [Regex101, to check patterns](https://regex101.com/)\n",
    "\n",
    "**4- More links**\n",
    "\n",
    "   - [DataCamp Tutorial](https://www.datacamp.com/community/tutorials/python-regular-expression-tutorial)\n",
    "   - [Python Regex for Data Scientists](https://www.dataquest.io/blog/regular-expressions-data-scientists/)\n",
    "   - [Build, test, and debug regex](https://regex101.com/)"
   ]
  },
  {
   "cell_type": "code",
   "execution_count": null,
   "id": "1dfb1a75",
   "metadata": {},
   "outputs": [],
   "source": []
  }
 ],
 "metadata": {
  "kernelspec": {
   "display_name": "ironhack",
   "language": "python",
   "name": "ironhack"
  },
  "language_info": {
   "codemirror_mode": {
    "name": "ipython",
    "version": 3
   },
   "file_extension": ".py",
   "mimetype": "text/x-python",
   "name": "python",
   "nbconvert_exporter": "python",
   "pygments_lexer": "ipython3",
   "version": "3.8.5"
  },
  "toc": {
   "base_numbering": 1,
   "nav_menu": {},
   "number_sections": true,
   "sideBar": true,
   "skip_h1_title": false,
   "title_cell": "Table of Contents",
   "title_sidebar": "Contents",
   "toc_cell": true,
   "toc_position": {},
   "toc_section_display": true,
   "toc_window_display": false
  }
 },
 "nbformat": 4,
 "nbformat_minor": 5
}
