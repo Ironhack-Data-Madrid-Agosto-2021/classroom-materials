{
 "cells": [
  {
   "cell_type": "markdown",
   "id": "sporting-delta",
   "metadata": {},
   "source": [
    "# <center>📦🧹🔍ETL 🔍🧹📦<center>"
   ]
  },
  {
   "cell_type": "markdown",
   "id": "different-luxembourg",
   "metadata": {
    "toc": true
   },
   "source": [
    "<h1>Table of Contents<span class=\"tocSkip\"></span></h1>\n",
    "<div class=\"toc\"><ul class=\"toc-item\"><li><span><a href=\"#¿Qué-significa-ETL?\" data-toc-modified-id=\"¿Qué-significa-ETL?-1\"><span class=\"toc-item-num\">1&nbsp;&nbsp;</span>¿Qué significa ETL?</a></span></li><li><span><a href=\"#¿Qué-vamos-a-hacer?\" data-toc-modified-id=\"¿Qué-vamos-a-hacer?-2\"><span class=\"toc-item-num\">2&nbsp;&nbsp;</span>¿Qué vamos a hacer?</a></span></li><li><span><a href=\"#Importamos-librerías\" data-toc-modified-id=\"Importamos-librerías-3\"><span class=\"toc-item-num\">3&nbsp;&nbsp;</span>Importamos librerías</a></span></li><li><span><a href=\"#Misión-1\" data-toc-modified-id=\"Misión-1-4\"><span class=\"toc-item-num\">4&nbsp;&nbsp;</span>Misión 1</a></span></li><li><span><a href=\"#Token-spotify\" data-toc-modified-id=\"Token-spotify-5\"><span class=\"toc-item-num\">5&nbsp;&nbsp;</span>Token spotify</a></span></li><li><span><a href=\"#Salvamos-el-token-en-nuestro-.env\" data-toc-modified-id=\"Salvamos-el-token-en-nuestro-.env-6\"><span class=\"toc-item-num\">6&nbsp;&nbsp;</span>Salvamos el token en nuestro .env</a></span></li><li><span><a href=\"#📚-Recap-hasta-ahora:\" data-toc-modified-id=\"📚-Recap-hasta-ahora:-7\"><span class=\"toc-item-num\">7&nbsp;&nbsp;</span>📚 Recap hasta ahora:</a></span></li><li><span><a href=\"#Misión-2\" data-toc-modified-id=\"Misión-2-8\"><span class=\"toc-item-num\">8&nbsp;&nbsp;</span>Misión 2</a></span><ul class=\"toc-item\"><li><span><a href=\"#Llamada-a-API-Spotify\" data-toc-modified-id=\"Llamada-a-API-Spotify-8.1\"><span class=\"toc-item-num\">8.1&nbsp;&nbsp;</span>Llamada a API Spotify</a></span><ul class=\"toc-item\"><li><span><a href=\"#Necesitamos-token-y-headers\" data-toc-modified-id=\"Necesitamos-token-y-headers-8.1.1\"><span class=\"toc-item-num\">8.1.1&nbsp;&nbsp;</span>Necesitamos token y headers</a></span></li><li><span><a href=\"#Url-+-endpoint\" data-toc-modified-id=\"Url-+-endpoint-8.1.2\"><span class=\"toc-item-num\">8.1.2&nbsp;&nbsp;</span>Url + endpoint</a></span></li><li><span><a href=\"#Hacemos-la-request\" data-toc-modified-id=\"Hacemos-la-request-8.1.3\"><span class=\"toc-item-num\">8.1.3&nbsp;&nbsp;</span>Hacemos la request</a></span></li></ul></li><li><span><a href=\"#Nos-enfrentamos-al-json-de-la-response\" data-toc-modified-id=\"Nos-enfrentamos-al-json-de-la-response-8.2\"><span class=\"toc-item-num\">8.2&nbsp;&nbsp;</span>Nos enfrentamos al json de la response</a></span><ul class=\"toc-item\"><li><span><a href=\"#Extraemos-las-canciones\" data-toc-modified-id=\"Extraemos-las-canciones-8.2.1\"><span class=\"toc-item-num\">8.2.1&nbsp;&nbsp;</span>Extraemos las canciones</a></span></li><li><span><a href=\"#Extraemos-el-nombre-de-las-canciones\" data-toc-modified-id=\"Extraemos-el-nombre-de-las-canciones-8.2.2\"><span class=\"toc-item-num\">8.2.2&nbsp;&nbsp;</span>Extraemos el nombre de las canciones</a></span></li><li><span><a href=\"#Extraemos-los-artistas-de-las-canciones\" data-toc-modified-id=\"Extraemos-los-artistas-de-las-canciones-8.2.3\"><span class=\"toc-item-num\">8.2.3&nbsp;&nbsp;</span>Extraemos los artistas de las canciones</a></span></li><li><span><a href=\"#Extraemos-los-users-que-han-añadido-la-canción-a-la-lista\" data-toc-modified-id=\"Extraemos-los-users-que-han-añadido-la-canción-a-la-lista-8.2.4\"><span class=\"toc-item-num\">8.2.4&nbsp;&nbsp;</span>Extraemos los users que han añadido la canción a la lista</a></span></li></ul></li><li><span><a href=\"#¡Nos-lo-llevamos-a-Pandas!-🐼\" data-toc-modified-id=\"¡Nos-lo-llevamos-a-Pandas!-🐼-8.3\"><span class=\"toc-item-num\">8.3&nbsp;&nbsp;</span>¡Nos lo llevamos a Pandas! 🐼</a></span></li></ul></li><li><span><a href=\"#Automatizamos-procesos\" data-toc-modified-id=\"Automatizamos-procesos-9\"><span class=\"toc-item-num\">9&nbsp;&nbsp;</span>Automatizamos procesos</a></span></li><li><span><a href=\"#Misión-3\" data-toc-modified-id=\"Misión-3-10\"><span class=\"toc-item-num\">10&nbsp;&nbsp;</span>Misión 3</a></span></li><li><span><a href=\"#Extraemos-letras-de-las-canciones!\" data-toc-modified-id=\"Extraemos-letras-de-las-canciones!-11\"><span class=\"toc-item-num\">11&nbsp;&nbsp;</span>Extraemos letras de las canciones!</a></span><ul class=\"toc-item\"><li><span><a href=\"#Necesitamos-crear-las-KEYs-para-esta-librería\" data-toc-modified-id=\"Necesitamos-crear-las-KEYs-para-esta-librería-11.1\"><span class=\"toc-item-num\">11.1&nbsp;&nbsp;</span>Necesitamos crear las KEYs para esta librería</a></span></li><li><span><a href=\"#Como-la-librería-necesita-las-keys,-las-sacamos-del-.env\" data-toc-modified-id=\"Como-la-librería-necesita-las-keys,-las-sacamos-del-.env-11.2\"><span class=\"toc-item-num\">11.2&nbsp;&nbsp;</span>Como la librería necesita las keys, las sacamos del .env</a></span></li><li><span><a href=\"#La-guardamos-en-una-variable\" data-toc-modified-id=\"La-guardamos-en-una-variable-11.3\"><span class=\"toc-item-num\">11.3&nbsp;&nbsp;</span>La guardamos en una variable</a></span></li><li><span><a href=\"#Buscamos-una-letra\" data-toc-modified-id=\"Buscamos-una-letra-11.4\"><span class=\"toc-item-num\">11.4&nbsp;&nbsp;</span>Buscamos una letra</a></span></li><li><span><a href=\"#¡¡Muchas-letras!!\" data-toc-modified-id=\"¡¡Muchas-letras!!-11.5\"><span class=\"toc-item-num\">11.5&nbsp;&nbsp;</span>¡¡Muchas letras!!</a></span></li><li><span><a href=\"#Arrelgamos-los-User-que-estaban-mal\" data-toc-modified-id=\"Arrelgamos-los-User-que-estaban-mal-11.6\"><span class=\"toc-item-num\">11.6&nbsp;&nbsp;</span>Arrelgamos los User que estaban mal</a></span></li><li><span><a href=\"#Creamos-una-columna-nueva-con-las-letras\" data-toc-modified-id=\"Creamos-una-columna-nueva-con-las-letras-11.7\"><span class=\"toc-item-num\">11.7&nbsp;&nbsp;</span>Creamos una columna nueva con las letras</a></span></li></ul></li></ul></div>"
   ]
  },
  {
   "cell_type": "markdown",
   "id": "sixth-transparency",
   "metadata": {},
   "source": [
    "![data](https://media.giphy.com/media/xT9C25UNTwfZuk85WP/giphy.gif)"
   ]
  },
  {
   "cell_type": "markdown",
   "id": "placed-williams",
   "metadata": {},
   "source": [
    "## ¿Qué significa ETL?\n",
    "**Extract**, **Transform** and **Load** es el proceso que permite a las organizaciones mover datos desde múltiples fuentes, reformatearlos y limpiarlos, y cargarlos en otra base de datos, data mart, o data warehouse para analizar, o en otro sistema operacional para apoyar un proceso de negocio."
   ]
  },
  {
   "cell_type": "markdown",
   "id": "differential-arkansas",
   "metadata": {},
   "source": [
    "## ¿Qué vamos a hacer?\n",
    "- Aprender a usar la API de spotify con Oauth\n",
    "- Extraer datos de dicha API\n",
    "- Limpiarlos y transformarlos\n",
    "- Enriquecerlos\n",
    "- Guardarlos en diferentes bases de datos\n",
    "- Hacer queries para hacer análisis de sentimientos con librerías NLP"
   ]
  },
  {
   "cell_type": "markdown",
   "id": "hungry-victoria",
   "metadata": {},
   "source": [
    "## Importamos librerías"
   ]
  },
  {
   "cell_type": "code",
   "execution_count": 95,
   "id": "statutory-shirt",
   "metadata": {},
   "outputs": [
    {
     "data": {
      "text/plain": [
       "True"
      ]
     },
     "execution_count": 95,
     "metadata": {},
     "output_type": "execute_result"
    }
   ],
   "source": [
    "import os\n",
    "import json\n",
    "import requests\n",
    "from dotenv import load_dotenv\n",
    "load_dotenv()"
   ]
  },
  {
   "cell_type": "markdown",
   "id": "polish-madison",
   "metadata": {},
   "source": [
    "## Misión 1\n",
    " # <center> Obtener el token de Spotify para hacer uso de su API 🗝</center> "
   ]
  },
  {
   "cell_type": "markdown",
   "id": "injured-reset",
   "metadata": {},
   "source": [
    "## Token spotify\n",
    "https://developer.spotify.com/dashboard/login     \n",
    "Necesitamos tener los token CLIENT_ID y SECRET_ID, y los guardamos en el .env. \n",
    "Para llamar a la aapi de spotify y conseguir el token que nos va a permitir hacer request, vamos a tener que guardar unas cuantas variables.   \n",
    "Leed la [Documentación](https://developer.spotify.com/documentation/general/guides/authorization-guide/)"
   ]
  },
  {
   "cell_type": "code",
   "execution_count": 10,
   "id": "tracked-performance",
   "metadata": {},
   "outputs": [],
   "source": [
    "# Autenticación\n",
    "CLIENT_ID=os.getenv(\"CLIENT_ID\")\n",
    "CLIENT_SECRET=os.getenv(\"CLIENT_SECRET\")\n",
    "\n",
    "#Scope del token\n",
    "body_params={'grant_type':'client_credentials'}\n",
    "\n",
    "#Url a la que pedimos el token\n",
    "url='https://accounts.spotify.com/api/token'\n",
    "\n",
    "#La request\n",
    "response = requests.post(url, data=body_params, auth = (CLIENT_ID, CLIENT_SECRET), verify=False)\n"
   ]
  },
  {
   "cell_type": "code",
   "execution_count": 17,
   "id": "southwest-courtesy",
   "metadata": {},
   "outputs": [],
   "source": [
    "#response.json()[\"access_token\"]"
   ]
  },
  {
   "cell_type": "code",
   "execution_count": 15,
   "id": "corrected-macintosh",
   "metadata": {},
   "outputs": [],
   "source": [
    "token = json.loads(response.text)"
   ]
  },
  {
   "cell_type": "code",
   "execution_count": 16,
   "id": "verified-subject",
   "metadata": {},
   "outputs": [
    {
     "data": {
      "text/plain": [
       "{'access_token': 'BQCOyvvyxtVgV2ZOdmbJRJBjG68w0GSyDv0Pk4HsOOovB5EtklsaMVEB2Tg4bB61bgwaHbVYwKKx83zwGjY',\n",
       " 'token_type': 'Bearer',\n",
       " 'expires_in': 3600}"
      ]
     },
     "execution_count": 16,
     "metadata": {},
     "output_type": "execute_result"
    }
   ],
   "source": [
    "token"
   ]
  },
  {
   "cell_type": "markdown",
   "id": "protective-abuse",
   "metadata": {},
   "source": [
    "Vamos a escribir todo esto en una función porque, como hemos visto, el token expira y así podemos llamarla cuando queramos y reutilizarla. ¡Para esto sirven las funciones!"
   ]
  },
  {
   "cell_type": "code",
   "execution_count": 28,
   "id": "final-silence",
   "metadata": {},
   "outputs": [],
   "source": [
    "def spotifyToken():\n",
    "    \"\"\"\n",
    "    Esta función hace una request a spotify para conseguir \n",
    "    el token que vamos a necesitar para hacer request y que nos dé información la api\n",
    "    \"\"\"\n",
    "    # Autenticación\n",
    "    CLIENT_ID=os.getenv(\"CLIENT_ID\")\n",
    "    CLIENT_SECRET=os.getenv(\"CLIENT_SECRET\")\n",
    "\n",
    "    #Scope del token\n",
    "    body_params={'grant_type':'client_credentials'}\n",
    "\n",
    "    #Url a la que pedimos el token\n",
    "    url='https://accounts.spotify.com/api/token'\n",
    "\n",
    "    #La request\n",
    "    response = requests.post(url, data=body_params, auth = (CLIENT_ID, CLIENT_SECRET), verify=False)\n",
    "    try:\n",
    "        token = response.json()[\"access_token\"]\n",
    "        return token\n",
    "    except: \n",
    "        return response"
   ]
  },
  {
   "cell_type": "code",
   "execution_count": 29,
   "id": "dirty-cornell",
   "metadata": {},
   "outputs": [
    {
     "name": "stderr",
     "output_type": "stream",
     "text": [
      "/usr/local/Caskroom/miniconda/base/envs/ironhack/lib/python3.8/site-packages/urllib3/connectionpool.py:1013: InsecureRequestWarning: Unverified HTTPS request is being made to host 'accounts.spotify.com'. Adding certificate verification is strongly advised. See: https://urllib3.readthedocs.io/en/latest/advanced-usage.html#ssl-warnings\n",
      "  warnings.warn(\n"
     ]
    }
   ],
   "source": [
    "eltoken = spotifyToken()"
   ]
  },
  {
   "cell_type": "code",
   "execution_count": 31,
   "id": "supreme-proportion",
   "metadata": {},
   "outputs": [],
   "source": [
    "#eltoken"
   ]
  },
  {
   "cell_type": "markdown",
   "id": "atmospheric-source",
   "metadata": {},
   "source": [
    "## Salvamos el token en nuestro .env"
   ]
  },
  {
   "cell_type": "code",
   "execution_count": 32,
   "id": "corresponding-yellow",
   "metadata": {},
   "outputs": [],
   "source": [
    "file = open(\"../.env\",\"a\")\n",
    "file.write(\"\\n\")\n",
    "file.write(f\"token_spotify={eltoken}\")\n",
    "file.close()"
   ]
  },
  {
   "cell_type": "markdown",
   "id": "republican-carry",
   "metadata": {},
   "source": [
    "Hacemos unan función que hace lo mismo para poder reutilizarla"
   ]
  },
  {
   "cell_type": "code",
   "execution_count": 33,
   "id": "obvious-diary",
   "metadata": {},
   "outputs": [],
   "source": [
    "def salva_env(nombre,key):\n",
    "    file = open(\"../.env\",\"a\")\n",
    "    file.write(\"\\n\")\n",
    "    file.write(f\"{nombre}={key}\")\n",
    "    file.close()"
   ]
  },
  {
   "cell_type": "code",
   "execution_count": 35,
   "id": "several-conservative",
   "metadata": {},
   "outputs": [
    {
     "name": "stderr",
     "output_type": "stream",
     "text": [
      "/usr/local/Caskroom/miniconda/base/envs/ironhack/lib/python3.8/site-packages/urllib3/connectionpool.py:1013: InsecureRequestWarning: Unverified HTTPS request is being made to host 'accounts.spotify.com'. Adding certificate verification is strongly advised. See: https://urllib3.readthedocs.io/en/latest/advanced-usage.html#ssl-warnings\n",
      "  warnings.warn(\n"
     ]
    }
   ],
   "source": [
    "salva_env(\"spotify\", spotifyToken())"
   ]
  },
  {
   "cell_type": "markdown",
   "id": "brief-adapter",
   "metadata": {},
   "source": [
    "## 📚 Recap hasta ahora:\n",
    "\n",
    "**Lo que hemos hecho**\n",
    "- 1. Conseguimos nuestra autentificación de Spotify\n",
    "- 2. Con eso, conseguimos nuestro `token` de spotify\n",
    "- 3. Guardamos el `token` en el .env <br>\n",
    "<br>\n",
    "\n",
    "**Para recordar**\n",
    "\n",
    "- **CLIENT_ID** & **CLIENT_SECRET** es sólo un medio para obtener el `token`, no la autenticidad en sí.\n",
    "- El `token` expira"
   ]
  },
  {
   "cell_type": "markdown",
   "id": "atlantic-disclosure",
   "metadata": {},
   "source": [
    " ## Misión 2\n",
    " # <center> Obtener la lista de canciones y artistas de la API de Spotify 🔥</center>\n",
    "Pero no vayamos a olvidarnos de la [documentación](https://developer.spotify.com/console/)   \n",
    "Lo primero que vamos a hacer es una llamada a la API    \n",
    "Recordemos la sintaxis:       \n",
    "\n",
    "       \n",
    "`request.get(url, headers)`"
   ]
  },
  {
   "cell_type": "markdown",
   "id": "designing-grant",
   "metadata": {},
   "source": [
    "### Llamada a API Spotify"
   ]
  },
  {
   "cell_type": "markdown",
   "id": "stopped-intermediate",
   "metadata": {},
   "source": [
    "#### Necesitamos token y headers"
   ]
  },
  {
   "cell_type": "code",
   "execution_count": 36,
   "id": "continuous-language",
   "metadata": {},
   "outputs": [
    {
     "name": "stderr",
     "output_type": "stream",
     "text": [
      "/usr/local/Caskroom/miniconda/base/envs/ironhack/lib/python3.8/site-packages/urllib3/connectionpool.py:1013: InsecureRequestWarning: Unverified HTTPS request is being made to host 'accounts.spotify.com'. Adding certificate verification is strongly advised. See: https://urllib3.readthedocs.io/en/latest/advanced-usage.html#ssl-warnings\n",
      "  warnings.warn(\n"
     ]
    }
   ],
   "source": [
    "# Por si necesitáramos el token, aunque ya lo tenemos\n",
    "token = spotifyToken()"
   ]
  },
  {
   "cell_type": "code",
   "execution_count": 38,
   "id": "outstanding-grenada",
   "metadata": {},
   "outputs": [],
   "source": [
    "#token"
   ]
  },
  {
   "cell_type": "code",
   "execution_count": 47,
   "id": "measured-singapore",
   "metadata": {},
   "outputs": [],
   "source": [
    "headers = {'Authorization': f\"Bearer {token}\"\n",
    "}"
   ]
  },
  {
   "cell_type": "markdown",
   "id": "compressed-annotation",
   "metadata": {},
   "source": [
    "Sacamos el ID de la lista del enlace de compartir que nos sale en spotify (Enlace de la canción)\n",
    "https://open.spotify.com/playlist/1TyJJHzEAEYg6DzmxgaWlN4?si=a6cbad03dda44d26"
   ]
  },
  {
   "cell_type": "markdown",
   "id": "exterior-gibraltar",
   "metadata": {},
   "source": [
    "#### Url + endpoint"
   ]
  },
  {
   "cell_type": "code",
   "execution_count": 39,
   "id": "operating-fleece",
   "metadata": {},
   "outputs": [],
   "source": [
    "url_base = \"https://api.spotify.com/v1/\""
   ]
  },
  {
   "cell_type": "code",
   "execution_count": 42,
   "id": "caroline-horizontal",
   "metadata": {},
   "outputs": [],
   "source": [
    "endpoint=f\"playlists/{id_lista}\""
   ]
  },
  {
   "cell_type": "markdown",
   "id": "cordless-queensland",
   "metadata": {},
   "source": [
    "El ID de la lista de la cual queremos hacer la request"
   ]
  },
  {
   "cell_type": "code",
   "execution_count": 41,
   "id": "embedded-hamburg",
   "metadata": {},
   "outputs": [],
   "source": [
    "id_lista=\"1TyJJHzEAEYg6DzmxgWlN4\""
   ]
  },
  {
   "cell_type": "code",
   "execution_count": 43,
   "id": "experienced-fancy",
   "metadata": {},
   "outputs": [],
   "source": [
    "query = url_base + endpoint"
   ]
  },
  {
   "cell_type": "markdown",
   "id": "wanted-bradford",
   "metadata": {},
   "source": [
    "#### Hacemos la request"
   ]
  },
  {
   "cell_type": "code",
   "execution_count": 49,
   "id": "signed-vampire",
   "metadata": {},
   "outputs": [],
   "source": [
    "response = requests.get(query, headers=headers).json()"
   ]
  },
  {
   "cell_type": "code",
   "execution_count": 51,
   "id": "honest-partner",
   "metadata": {},
   "outputs": [],
   "source": [
    "#response"
   ]
  },
  {
   "cell_type": "markdown",
   "id": "threatened-involvement",
   "metadata": {},
   "source": [
    "### Nos enfrentamos al json de la response"
   ]
  },
  {
   "cell_type": "code",
   "execution_count": 52,
   "id": "present-township",
   "metadata": {},
   "outputs": [],
   "source": [
    "import pyjsonviewer"
   ]
  },
  {
   "cell_type": "code",
   "execution_count": 73,
   "id": "pretty-people",
   "metadata": {},
   "outputs": [],
   "source": [
    "pyjsonviewer.view_data(json_data=response)"
   ]
  },
  {
   "cell_type": "code",
   "execution_count": null,
   "id": "vocational-tract",
   "metadata": {},
   "outputs": [],
   "source": [
    "# Gracias a esta librería vemos que la información de cada canción está en \"tracks/items\""
   ]
  },
  {
   "cell_type": "markdown",
   "id": "brief-vacation",
   "metadata": {},
   "source": [
    "#### Extraemos las canciones"
   ]
  },
  {
   "cell_type": "code",
   "execution_count": 55,
   "id": "prostate-copying",
   "metadata": {},
   "outputs": [],
   "source": [
    "# Vamos a obtener solo las canciones\n",
    "canciones = response[\"tracks\"][\"items\"]"
   ]
  },
  {
   "cell_type": "code",
   "execution_count": 56,
   "id": "continuous-portrait",
   "metadata": {},
   "outputs": [
    {
     "data": {
      "text/plain": [
       "42"
      ]
     },
     "execution_count": 56,
     "metadata": {},
     "output_type": "execute_result"
    }
   ],
   "source": [
    "len(canciones)"
   ]
  },
  {
   "cell_type": "code",
   "execution_count": 70,
   "id": "nuclear-quilt",
   "metadata": {},
   "outputs": [],
   "source": [
    "#canciones[0]"
   ]
  },
  {
   "cell_type": "markdown",
   "id": "straight-burton",
   "metadata": {},
   "source": [
    "#### Extraemos el nombre de las canciones"
   ]
  },
  {
   "cell_type": "code",
   "execution_count": 59,
   "id": "revolutionary-brunei",
   "metadata": {},
   "outputs": [
    {
     "data": {
      "text/plain": [
       "'Vuelta a Casa'"
      ]
     },
     "execution_count": 59,
     "metadata": {},
     "output_type": "execute_result"
    }
   ],
   "source": [
    "nombre = canciones[0][\"track\"][\"name\"]\n",
    "nombre"
   ]
  },
  {
   "cell_type": "markdown",
   "id": "addressed-business",
   "metadata": {},
   "source": [
    "#### Extraemos los artistas de las canciones"
   ]
  },
  {
   "cell_type": "code",
   "execution_count": 62,
   "id": "dangerous-sculpture",
   "metadata": {},
   "outputs": [
    {
     "data": {
      "text/plain": [
       "'Mama Jarana'"
      ]
     },
     "execution_count": 62,
     "metadata": {},
     "output_type": "execute_result"
    }
   ],
   "source": [
    "artista = canciones[0][\"track\"][\"artists\"][0]['name']\n",
    "artista"
   ]
  },
  {
   "cell_type": "markdown",
   "id": "imperial-operations",
   "metadata": {},
   "source": [
    "#### Extraemos los users que han añadido la canción a la lista"
   ]
  },
  {
   "cell_type": "code",
   "execution_count": 64,
   "id": "moved-quantity",
   "metadata": {},
   "outputs": [
    {
     "data": {
      "text/plain": [
       "'soyungalgo'"
      ]
     },
     "execution_count": 64,
     "metadata": {},
     "output_type": "execute_result"
    }
   ],
   "source": [
    "usuario = canciones[0][\"added_by\"][\"id\"]\n",
    "usuario"
   ]
  },
  {
   "cell_type": "markdown",
   "id": "higher-correspondence",
   "metadata": {},
   "source": [
    "### ¡Nos lo llevamos a Pandas! 🐼\n",
    "¿Cómo? Vamos a iterar por toda la lista de canciones y hacemos una lista de diccionarios con la información que necesitamos para hacernos un dataframe"
   ]
  },
  {
   "cell_type": "code",
   "execution_count": 65,
   "id": "found-retail",
   "metadata": {},
   "outputs": [],
   "source": [
    "import pandas as pd"
   ]
  },
  {
   "cell_type": "code",
   "execution_count": 66,
   "id": "adjacent-voice",
   "metadata": {},
   "outputs": [],
   "source": [
    "toda_info = []\n",
    "for tema in range(len(canciones)):\n",
    "    temporal = {}\n",
    "    temporal[\"artista\"] = canciones[tema][\"track\"][\"artists\"][0]['name']\n",
    "    temporal[\"nombre\"] = canciones[tema][\"track\"][\"name\"]\n",
    "    temporal[\"ironhacker\"] = canciones[tema][\"added_by\"][\"id\"]\n",
    "    toda_info.append(temporal)"
   ]
  },
  {
   "cell_type": "code",
   "execution_count": 74,
   "id": "experimental-biotechnology",
   "metadata": {},
   "outputs": [
    {
     "data": {
      "text/html": [
       "<div>\n",
       "<style scoped>\n",
       "    .dataframe tbody tr th:only-of-type {\n",
       "        vertical-align: middle;\n",
       "    }\n",
       "\n",
       "    .dataframe tbody tr th {\n",
       "        vertical-align: top;\n",
       "    }\n",
       "\n",
       "    .dataframe thead th {\n",
       "        text-align: right;\n",
       "    }\n",
       "</style>\n",
       "<table border=\"1\" class=\"dataframe\">\n",
       "  <thead>\n",
       "    <tr style=\"text-align: right;\">\n",
       "      <th></th>\n",
       "      <th>artista</th>\n",
       "      <th>nombre</th>\n",
       "      <th>ironhacker</th>\n",
       "    </tr>\n",
       "  </thead>\n",
       "  <tbody>\n",
       "    <tr>\n",
       "      <th>11</th>\n",
       "      <td>Esbe</td>\n",
       "      <td>Darling</td>\n",
       "      <td>rawlins7</td>\n",
       "    </tr>\n",
       "    <tr>\n",
       "      <th>4</th>\n",
       "      <td>Ojete Calor</td>\n",
       "      <td>Viejoven</td>\n",
       "      <td>señoritajones</td>\n",
       "    </tr>\n",
       "    <tr>\n",
       "      <th>30</th>\n",
       "      <td>David Bowie</td>\n",
       "      <td>\"Heroes\"</td>\n",
       "      <td>jy6e1jpolxinvpbow802bugky</td>\n",
       "    </tr>\n",
       "    <tr>\n",
       "      <th>21</th>\n",
       "      <td>Purple Disco Machine</td>\n",
       "      <td>Hypnotized</td>\n",
       "      <td>luciammu</td>\n",
       "    </tr>\n",
       "    <tr>\n",
       "      <th>1</th>\n",
       "      <td>trashi</td>\n",
       "      <td>mañaneo</td>\n",
       "      <td>soyungalgo</td>\n",
       "    </tr>\n",
       "    <tr>\n",
       "      <th>32</th>\n",
       "      <td>The Rolling Stones</td>\n",
       "      <td>Sympathy For The Devil</td>\n",
       "      <td>jy6e1jpolxinvpbow802bugky</td>\n",
       "    </tr>\n",
       "    <tr>\n",
       "      <th>38</th>\n",
       "      <td>Morcheeba</td>\n",
       "      <td>Rome Wasn't Built in a Day</td>\n",
       "      <td>1kw2fd60iuuzgtzlr74hv33b2</td>\n",
       "    </tr>\n",
       "    <tr>\n",
       "      <th>27</th>\n",
       "      <td>Lágrimas De Sangre</td>\n",
       "      <td>Voy a Celebrarlo</td>\n",
       "      <td>luciammu</td>\n",
       "    </tr>\n",
       "    <tr>\n",
       "      <th>0</th>\n",
       "      <td>Mama Jarana</td>\n",
       "      <td>Vuelta a Casa</td>\n",
       "      <td>soyungalgo</td>\n",
       "    </tr>\n",
       "    <tr>\n",
       "      <th>16</th>\n",
       "      <td>Queen</td>\n",
       "      <td>Bohemian Rhapsody</td>\n",
       "      <td>jy6e1jpolxinvpbow802bugky</td>\n",
       "    </tr>\n",
       "  </tbody>\n",
       "</table>\n",
       "</div>"
      ],
      "text/plain": [
       "                 artista                      nombre  \\\n",
       "11                  Esbe                     Darling   \n",
       "4            Ojete Calor                    Viejoven   \n",
       "30           David Bowie                    \"Heroes\"   \n",
       "21  Purple Disco Machine                  Hypnotized   \n",
       "1                 trashi                     mañaneo   \n",
       "32    The Rolling Stones      Sympathy For The Devil   \n",
       "38             Morcheeba  Rome Wasn't Built in a Day   \n",
       "27    Lágrimas De Sangre            Voy a Celebrarlo   \n",
       "0            Mama Jarana               Vuelta a Casa   \n",
       "16                 Queen           Bohemian Rhapsody   \n",
       "\n",
       "                   ironhacker  \n",
       "11                   rawlins7  \n",
       "4               señoritajones  \n",
       "30  jy6e1jpolxinvpbow802bugky  \n",
       "21                   luciammu  \n",
       "1                  soyungalgo  \n",
       "32  jy6e1jpolxinvpbow802bugky  \n",
       "38  1kw2fd60iuuzgtzlr74hv33b2  \n",
       "27                   luciammu  \n",
       "0                  soyungalgo  \n",
       "16  jy6e1jpolxinvpbow802bugky  "
      ]
     },
     "execution_count": 74,
     "metadata": {},
     "output_type": "execute_result"
    }
   ],
   "source": [
    "df = pd.DataFrame(toda_info)\n",
    "df.sample(10)"
   ]
  },
  {
   "cell_type": "code",
   "execution_count": 71,
   "id": "passing-direction",
   "metadata": {},
   "outputs": [
    {
     "data": {
      "text/plain": [
       "array(['soyungalgo', 'señoritajones', '1183037273', 'sgpnovoa',\n",
       "       'rawlins7', '31huhboq73gkvoitogge6xzasbfy',\n",
       "       'jy6e1jpolxinvpbow802bugky', 'luciammu',\n",
       "       '21is3wkectwliik4enve3vg7q', '1kw2fd60iuuzgtzlr74hv33b2'],\n",
       "      dtype=object)"
      ]
     },
     "execution_count": 71,
     "metadata": {},
     "output_type": "execute_result"
    }
   ],
   "source": [
    "df[\"ironhacker\"].unique()"
   ]
  },
  {
   "cell_type": "code",
   "execution_count": 75,
   "id": "wicked-hanging",
   "metadata": {},
   "outputs": [],
   "source": [
    "usuarios = { \"31huhboq73gkvoitogge6xzasbfy\": \"Diego Díaz\",\n",
    "            \"jy6e1jpolxinvpbow802bugky\": \"Alex\",\n",
    "            \"21is3wkectwliik4enve3vg7q\": \"Jorge\",\n",
    "            \"1kw2fd60iuuzgtzlr74hv33b2\": \"Julián\" }"
   ]
  },
  {
   "cell_type": "markdown",
   "id": "deluxe-geneva",
   "metadata": {},
   "source": [
    "## Automatizamos procesos\n",
    "Todo lo que vamos escribiendo en líneas de código, podemos hacerlo con funciones, y que estas funciones nos sirvan para poder hacer el mismo proceso con un par de funciones"
   ]
  },
  {
   "cell_type": "code",
   "execution_count": 87,
   "id": "loose-criminal",
   "metadata": {},
   "outputs": [],
   "source": [
    "def spotifyPlaylist(lista_id):\n",
    "    '''Esto devolverá la información de una determinada lista de reproducción de Spotify.\n",
    "    Args: playlist_id como string\n",
    "    Devuelve: json'''\n",
    "    token = spotifyToken()\n",
    "    headers = {'Authorization': f\"Bearer {token}\"}\n",
    "    url_base = \"https://api.spotify.com/v1/\"\n",
    "    endpoint=f\"playlists/{lista_id}\"\n",
    "    query = url_base + endpoint\n",
    "    response = requests.get(query, headers=headers).json()\n",
    "    return response"
   ]
  },
  {
   "cell_type": "code",
   "execution_count": 89,
   "id": "accomplished-telephone",
   "metadata": {},
   "outputs": [],
   "source": [
    "def getUserSongArtist(playlist):\n",
    "    \"\"\"\n",
    "    Extraemos la información que necesitamos de la lista\n",
    "    y devuelve un dataframae\n",
    "    \"\"\"\n",
    "    canciones = playlist[\"tracks\"][\"items\"]\n",
    "    toda_info = []\n",
    "    for tema in range(len(canciones)):\n",
    "        temporal = {}\n",
    "        temporal[\"artista\"] = canciones[tema][\"track\"][\"artists\"][0]['name']\n",
    "        temporal[\"nombre\"] = canciones[tema][\"track\"][\"name\"]\n",
    "        temporal[\"ironhacker\"] = canciones[tema][\"added_by\"][\"id\"]\n",
    "        toda_info.append(temporal)\n",
    "    return pd.DataFrame(toda_info)"
   ]
  },
  {
   "cell_type": "code",
   "execution_count": 90,
   "id": "fuzzy-kazakhstan",
   "metadata": {},
   "outputs": [],
   "source": [
    "def makeAll(playlist_id):\n",
    "    \"\"\"\n",
    "    Utiliza las dos funciones anteriores para recoger la información de la lista\n",
    "    y después devuelve el dataframe.\n",
    "    \"\"\"\n",
    "    playlist = spotifyPlaylist(playlist_id)\n",
    "    return getUserSongArtist(playlist)\n",
    "    "
   ]
  },
  {
   "cell_type": "code",
   "execution_count": 91,
   "id": "found-zoning",
   "metadata": {},
   "outputs": [
    {
     "name": "stderr",
     "output_type": "stream",
     "text": [
      "/usr/local/Caskroom/miniconda/base/envs/ironhack/lib/python3.8/site-packages/urllib3/connectionpool.py:1013: InsecureRequestWarning: Unverified HTTPS request is being made to host 'accounts.spotify.com'. Adding certificate verification is strongly advised. See: https://urllib3.readthedocs.io/en/latest/advanced-usage.html#ssl-warnings\n",
      "  warnings.warn(\n"
     ]
    }
   ],
   "source": [
    "lista_ras = makeAll(\"3D06jENvjjUXXQahT8C6qA\")"
   ]
  },
  {
   "cell_type": "code",
   "execution_count": 92,
   "id": "assisted-detection",
   "metadata": {},
   "outputs": [
    {
     "data": {
      "text/html": [
       "<div>\n",
       "<style scoped>\n",
       "    .dataframe tbody tr th:only-of-type {\n",
       "        vertical-align: middle;\n",
       "    }\n",
       "\n",
       "    .dataframe tbody tr th {\n",
       "        vertical-align: top;\n",
       "    }\n",
       "\n",
       "    .dataframe thead th {\n",
       "        text-align: right;\n",
       "    }\n",
       "</style>\n",
       "<table border=\"1\" class=\"dataframe\">\n",
       "  <thead>\n",
       "    <tr style=\"text-align: right;\">\n",
       "      <th></th>\n",
       "      <th>artista</th>\n",
       "      <th>nombre</th>\n",
       "      <th>ironhacker</th>\n",
       "    </tr>\n",
       "  </thead>\n",
       "  <tbody>\n",
       "    <tr>\n",
       "      <th>0</th>\n",
       "      <td>YEИDRY</td>\n",
       "      <td>Nena</td>\n",
       "      <td>soyungalgo</td>\n",
       "    </tr>\n",
       "    <tr>\n",
       "      <th>1</th>\n",
       "      <td>InnerCut</td>\n",
       "      <td>1996</td>\n",
       "      <td>soyungalgo</td>\n",
       "    </tr>\n",
       "    <tr>\n",
       "      <th>2</th>\n",
       "      <td>The Weeknd</td>\n",
       "      <td>Blinding Lights (with ROSALÍA) - Remix</td>\n",
       "      <td>soyungalgo</td>\n",
       "    </tr>\n",
       "    <tr>\n",
       "      <th>3</th>\n",
       "      <td>Gata Cattana</td>\n",
       "      <td>Banzai</td>\n",
       "      <td>soyungalgo</td>\n",
       "    </tr>\n",
       "    <tr>\n",
       "      <th>4</th>\n",
       "      <td>Xoel López</td>\n",
       "      <td>Vampiro Blanco</td>\n",
       "      <td>soyungalgo</td>\n",
       "    </tr>\n",
       "    <tr>\n",
       "      <th>...</th>\n",
       "      <td>...</td>\n",
       "      <td>...</td>\n",
       "      <td>...</td>\n",
       "    </tr>\n",
       "    <tr>\n",
       "      <th>95</th>\n",
       "      <td>Angel Stanich</td>\n",
       "      <td>Un Día Épico</td>\n",
       "      <td>soyungalgo</td>\n",
       "    </tr>\n",
       "    <tr>\n",
       "      <th>96</th>\n",
       "      <td>Gata Cattana</td>\n",
       "      <td>Papeles</td>\n",
       "      <td>soyungalgo</td>\n",
       "    </tr>\n",
       "    <tr>\n",
       "      <th>97</th>\n",
       "      <td>Pimp Flaco</td>\n",
       "      <td>Me Da Igual</td>\n",
       "      <td>soyungalgo</td>\n",
       "    </tr>\n",
       "    <tr>\n",
       "      <th>98</th>\n",
       "      <td>Kinder Malo</td>\n",
       "      <td>Un día cualquiera</td>\n",
       "      <td>soyungalgo</td>\n",
       "    </tr>\n",
       "    <tr>\n",
       "      <th>99</th>\n",
       "      <td>Supersubmarina</td>\n",
       "      <td>Elastica Galactica</td>\n",
       "      <td>soyungalgo</td>\n",
       "    </tr>\n",
       "  </tbody>\n",
       "</table>\n",
       "<p>100 rows × 3 columns</p>\n",
       "</div>"
      ],
      "text/plain": [
       "           artista                                  nombre  ironhacker\n",
       "0           YEИDRY                                    Nena  soyungalgo\n",
       "1         InnerCut                                    1996  soyungalgo\n",
       "2       The Weeknd  Blinding Lights (with ROSALÍA) - Remix  soyungalgo\n",
       "3     Gata Cattana                                  Banzai  soyungalgo\n",
       "4       Xoel López                          Vampiro Blanco  soyungalgo\n",
       "..             ...                                     ...         ...\n",
       "95   Angel Stanich                            Un Día Épico  soyungalgo\n",
       "96    Gata Cattana                                 Papeles  soyungalgo\n",
       "97      Pimp Flaco                             Me Da Igual  soyungalgo\n",
       "98     Kinder Malo                       Un día cualquiera  soyungalgo\n",
       "99  Supersubmarina                      Elastica Galactica  soyungalgo\n",
       "\n",
       "[100 rows x 3 columns]"
      ]
     },
     "execution_count": 92,
     "metadata": {},
     "output_type": "execute_result"
    }
   ],
   "source": [
    "lista_ras"
   ]
  },
  {
   "cell_type": "markdown",
   "id": "analyzed-mason",
   "metadata": {},
   "source": [
    "# 📚 Recap hasta ahora:\n",
    "\n",
    "**Lo que hicimos**\n",
    "- 1. Hicimos una llamada a la API de Spotify: para obtener la información de la lista\n",
    "- 2. Obtenemos sólo las canciones y los artistas del json\n",
    "- 3. Hacemos funcionoes que automatizan procesos y reutilizan códigoo\n",
    "- 4. Tenemos un dataframe\n",
    "<br>\n",
    "\n",
    "**Para recordar**\n",
    "\n",
    "- Añade el `.env` al `.gitignore`."
   ]
  },
  {
   "cell_type": "markdown",
   "id": "artistic-power",
   "metadata": {},
   "source": [
    " ## Misión 3\n",
    " # <center> Obtener las letras de las canciones con \"lyrics_extractor\"</center>\n",
    "## Extraemos letras de las canciones!\n",
    "Lyrics extractor es una librería que escrapea por nosotras algunas páginas de letras de canciones.     \n",
    "Echamos un ojo a la [documentación](https://pypi.org/project/lyrics-extractor/) SIEMPRE, sobre todo a la parte de **Requirements** que nos va a explicar las cosas que necesitamos tener para que funcione.  \n",
    "### Necesitamos crear las KEYs para esta librería\n",
    "1.1.1. **[Primero](https://cse.google.com/cse/create/new)**, crear un motor de búsqueda personalizado: seleccionar un sitio web de letras para raspar. por ejemplo: www.genius.com <br> \n",
    "1.1.2. **Segundo**, `Edita tu motor de búsqueda > selecciona tu web > Copia tu ID de motor de búsqueda`. \n",
    "Ahora tiene su **GCS_ENGINE_ID**<br>\n",
    "1.1.3. **[Entonces](https://developers.google.com/custom-search/v1/overview)**, `Obtener una clave > Seleccionar proyecto > copiar la clave API del buscador`. Ahora tiene su **GCS_API_KEY**."
   ]
  },
  {
   "cell_type": "code",
   "execution_count": 93,
   "id": "reflected-maryland",
   "metadata": {},
   "outputs": [],
   "source": [
    "from lyrics_extractor import SongLyrics"
   ]
  },
  {
   "cell_type": "markdown",
   "id": "silver-ribbon",
   "metadata": {},
   "source": [
    "### Como la librería necesita las keys, las sacamos del .env"
   ]
  },
  {
   "cell_type": "code",
   "execution_count": 98,
   "id": "advised-contrast",
   "metadata": {},
   "outputs": [],
   "source": [
    "GCS_API_KEY = os.getenv(\"GCS_API_KEY\")\n",
    "GCS_ENGINE_ID = os.getenv(\"GCS_ENGINE_ID\")"
   ]
  },
  {
   "cell_type": "markdown",
   "id": "featured-concern",
   "metadata": {},
   "source": [
    "### La guardamos en una variable\n",
    "Guardamos la librería en una variable llamando a SongLyrics y pasándole las claves "
   ]
  },
  {
   "cell_type": "code",
   "execution_count": 101,
   "id": "center-electric",
   "metadata": {},
   "outputs": [],
   "source": [
    "extract_lyrics = SongLyrics(GCS_API_KEY, GCS_ENGINE_ID)"
   ]
  },
  {
   "cell_type": "markdown",
   "id": "julian-lincoln",
   "metadata": {},
   "source": [
    "### Buscamos una letra"
   ]
  },
  {
   "cell_type": "code",
   "execution_count": 102,
   "id": "passive-shock",
   "metadata": {},
   "outputs": [],
   "source": [
    "data = extract_lyrics.get_lyrics(\"Shape of You\")"
   ]
  },
  {
   "cell_type": "code",
   "execution_count": 105,
   "id": "developing-breeding",
   "metadata": {},
   "outputs": [
    {
     "data": {
      "text/plain": [
       "dict_keys(['title', 'lyrics'])"
      ]
     },
     "execution_count": 105,
     "metadata": {},
     "output_type": "execute_result"
    }
   ],
   "source": [
    "data.keys()"
   ]
  },
  {
   "cell_type": "code",
   "execution_count": 106,
   "id": "unavailable-chicken",
   "metadata": {},
   "outputs": [],
   "source": [
    "# Esta librería nos devuelve un diccionario del que solo queremos un value concreto\n",
    "#data[\"lyrics\"]"
   ]
  },
  {
   "cell_type": "code",
   "execution_count": 107,
   "id": "optical-dryer",
   "metadata": {},
   "outputs": [],
   "source": [
    "letra = data[\"lyrics\"]"
   ]
  },
  {
   "cell_type": "code",
   "execution_count": 109,
   "id": "infectious-needle",
   "metadata": {},
   "outputs": [
    {
     "data": {
      "text/plain": [
       "\"[Verse 1]\\nThe club isn't the best place to find a lover\\nSo the bar is where I go\\nMe and my friends at the table doing shots\\nDrinking fast and then we talk slow\\nAnd you come over and start up a convers\""
      ]
     },
     "execution_count": 109,
     "metadata": {},
     "output_type": "execute_result"
    }
   ],
   "source": [
    "letra[0:200]"
   ]
  },
  {
   "cell_type": "markdown",
   "id": "recreational-weekend",
   "metadata": {},
   "source": [
    "### ¡¡Muchas letras!!"
   ]
  },
  {
   "cell_type": "code",
   "execution_count": 110,
   "id": "liked-controversy",
   "metadata": {},
   "outputs": [],
   "source": [
    "import numpy as np"
   ]
  },
  {
   "cell_type": "code",
   "execution_count": 111,
   "id": "happy-publicity",
   "metadata": {},
   "outputs": [],
   "source": [
    "def letras(tema):\n",
    "    try:\n",
    "        letra = extract_lyrics.get_lyrics(tema)\n",
    "        return letra[\"lyrics\"]\n",
    "    except:\n",
    "        return np.nan"
   ]
  },
  {
   "cell_type": "markdown",
   "id": "excess-nickel",
   "metadata": {},
   "source": [
    "### Arrelgamos los User que estaban mal"
   ]
  },
  {
   "cell_type": "code",
   "execution_count": 124,
   "id": "final-explanation",
   "metadata": {},
   "outputs": [
    {
     "name": "stderr",
     "output_type": "stream",
     "text": [
      "/usr/local/Caskroom/miniconda/base/envs/ironhack/lib/python3.8/site-packages/urllib3/connectionpool.py:1013: InsecureRequestWarning: Unverified HTTPS request is being made to host 'accounts.spotify.com'. Adding certificate verification is strongly advised. See: https://urllib3.readthedocs.io/en/latest/advanced-usage.html#ssl-warnings\n",
      "  warnings.warn(\n"
     ]
    }
   ],
   "source": [
    "df = makeAll(\"1TyJJHzEAEYg6DzmxgWlN4\")"
   ]
  },
  {
   "cell_type": "code",
   "execution_count": 125,
   "id": "concrete-miller",
   "metadata": {},
   "outputs": [
    {
     "data": {
      "text/html": [
       "<div>\n",
       "<style scoped>\n",
       "    .dataframe tbody tr th:only-of-type {\n",
       "        vertical-align: middle;\n",
       "    }\n",
       "\n",
       "    .dataframe tbody tr th {\n",
       "        vertical-align: top;\n",
       "    }\n",
       "\n",
       "    .dataframe thead th {\n",
       "        text-align: right;\n",
       "    }\n",
       "</style>\n",
       "<table border=\"1\" class=\"dataframe\">\n",
       "  <thead>\n",
       "    <tr style=\"text-align: right;\">\n",
       "      <th></th>\n",
       "      <th>artista</th>\n",
       "      <th>nombre</th>\n",
       "      <th>ironhacker</th>\n",
       "    </tr>\n",
       "  </thead>\n",
       "  <tbody>\n",
       "    <tr>\n",
       "      <th>0</th>\n",
       "      <td>Mama Jarana</td>\n",
       "      <td>Vuelta a Casa</td>\n",
       "      <td>soyungalgo</td>\n",
       "    </tr>\n",
       "    <tr>\n",
       "      <th>1</th>\n",
       "      <td>trashi</td>\n",
       "      <td>mañaneo</td>\n",
       "      <td>soyungalgo</td>\n",
       "    </tr>\n",
       "    <tr>\n",
       "      <th>2</th>\n",
       "      <td>ELYELLA</td>\n",
       "      <td>Todo Lo Que Importa</td>\n",
       "      <td>soyungalgo</td>\n",
       "    </tr>\n",
       "    <tr>\n",
       "      <th>3</th>\n",
       "      <td>Shinova</td>\n",
       "      <td>El Álbum</td>\n",
       "      <td>soyungalgo</td>\n",
       "    </tr>\n",
       "    <tr>\n",
       "      <th>4</th>\n",
       "      <td>Ojete Calor</td>\n",
       "      <td>Viejoven</td>\n",
       "      <td>señoritajones</td>\n",
       "    </tr>\n",
       "  </tbody>\n",
       "</table>\n",
       "</div>"
      ],
      "text/plain": [
       "       artista               nombre     ironhacker\n",
       "0  Mama Jarana        Vuelta a Casa     soyungalgo\n",
       "1       trashi              mañaneo     soyungalgo\n",
       "2      ELYELLA  Todo Lo Que Importa     soyungalgo\n",
       "3      Shinova             El Álbum     soyungalgo\n",
       "4  Ojete Calor             Viejoven  señoritajones"
      ]
     },
     "execution_count": 125,
     "metadata": {},
     "output_type": "execute_result"
    }
   ],
   "source": [
    "df.head()"
   ]
  },
  {
   "cell_type": "code",
   "execution_count": 128,
   "id": "excellent-romantic",
   "metadata": {},
   "outputs": [
    {
     "data": {
      "text/plain": [
       "{'31huhboq73gkvoitogge6xzasbfy': 'Diego Díaz',\n",
       " 'jy6e1jpolxinvpbow802bugky': 'Alex',\n",
       " '21is3wkectwliik4enve3vg7q': 'Jorge',\n",
       " '1kw2fd60iuuzgtzlr74hv33b2': 'Julián'}"
      ]
     },
     "execution_count": 128,
     "metadata": {},
     "output_type": "execute_result"
    }
   ],
   "source": [
    "usuarios"
   ]
  },
  {
   "cell_type": "code",
   "execution_count": 126,
   "id": "interior-maker",
   "metadata": {},
   "outputs": [],
   "source": [
    "df[\"ironhacker\"] = df.ironhacker.replace(usuarios)"
   ]
  },
  {
   "cell_type": "code",
   "execution_count": 129,
   "id": "floral-ceremony",
   "metadata": {},
   "outputs": [
    {
     "data": {
      "text/html": [
       "<div>\n",
       "<style scoped>\n",
       "    .dataframe tbody tr th:only-of-type {\n",
       "        vertical-align: middle;\n",
       "    }\n",
       "\n",
       "    .dataframe tbody tr th {\n",
       "        vertical-align: top;\n",
       "    }\n",
       "\n",
       "    .dataframe thead th {\n",
       "        text-align: right;\n",
       "    }\n",
       "</style>\n",
       "<table border=\"1\" class=\"dataframe\">\n",
       "  <thead>\n",
       "    <tr style=\"text-align: right;\">\n",
       "      <th></th>\n",
       "      <th>artista</th>\n",
       "      <th>nombre</th>\n",
       "      <th>ironhacker</th>\n",
       "    </tr>\n",
       "  </thead>\n",
       "  <tbody>\n",
       "    <tr>\n",
       "      <th>26</th>\n",
       "      <td>Kenndog</td>\n",
       "      <td>Beethoven</td>\n",
       "      <td>Jorge</td>\n",
       "    </tr>\n",
       "    <tr>\n",
       "      <th>41</th>\n",
       "      <td>Babasónicos</td>\n",
       "      <td>Irresponsables</td>\n",
       "      <td>Julián</td>\n",
       "    </tr>\n",
       "    <tr>\n",
       "      <th>13</th>\n",
       "      <td>DWYR</td>\n",
       "      <td>Underwater</td>\n",
       "      <td>Diego Díaz</td>\n",
       "    </tr>\n",
       "  </tbody>\n",
       "</table>\n",
       "</div>"
      ],
      "text/plain": [
       "        artista          nombre  ironhacker\n",
       "26      Kenndog       Beethoven       Jorge\n",
       "41  Babasónicos  Irresponsables      Julián\n",
       "13         DWYR      Underwater  Diego Díaz"
      ]
     },
     "execution_count": 129,
     "metadata": {},
     "output_type": "execute_result"
    }
   ],
   "source": [
    "df.sample(3)"
   ]
  },
  {
   "cell_type": "markdown",
   "id": "weekly-distribution",
   "metadata": {},
   "source": [
    "### Creamos una columna nueva con las letras"
   ]
  },
  {
   "cell_type": "code",
   "execution_count": 131,
   "id": "rational-director",
   "metadata": {},
   "outputs": [],
   "source": [
    "df[\"letra\"] = df.nombre.apply(letras)"
   ]
  },
  {
   "cell_type": "code",
   "execution_count": 132,
   "id": "sophisticated-merchant",
   "metadata": {},
   "outputs": [
    {
     "data": {
      "text/html": [
       "<div>\n",
       "<style scoped>\n",
       "    .dataframe tbody tr th:only-of-type {\n",
       "        vertical-align: middle;\n",
       "    }\n",
       "\n",
       "    .dataframe tbody tr th {\n",
       "        vertical-align: top;\n",
       "    }\n",
       "\n",
       "    .dataframe thead th {\n",
       "        text-align: right;\n",
       "    }\n",
       "</style>\n",
       "<table border=\"1\" class=\"dataframe\">\n",
       "  <thead>\n",
       "    <tr style=\"text-align: right;\">\n",
       "      <th></th>\n",
       "      <th>artista</th>\n",
       "      <th>nombre</th>\n",
       "      <th>ironhacker</th>\n",
       "      <th>letra</th>\n",
       "    </tr>\n",
       "  </thead>\n",
       "  <tbody>\n",
       "    <tr>\n",
       "      <th>0</th>\n",
       "      <td>Mama Jarana</td>\n",
       "      <td>Vuelta a Casa</td>\n",
       "      <td>soyungalgo</td>\n",
       "      <td>[Verso 1: Seth Condrey]\\nVagando por el mundo,...</td>\n",
       "    </tr>\n",
       "    <tr>\n",
       "      <th>1</th>\n",
       "      <td>trashi</td>\n",
       "      <td>mañaneo</td>\n",
       "      <td>soyungalgo</td>\n",
       "      <td>[Verso: Trashi]\\nBebé\\nSolo mirame a la cara, ...</td>\n",
       "    </tr>\n",
       "    <tr>\n",
       "      <th>2</th>\n",
       "      <td>ELYELLA</td>\n",
       "      <td>Todo Lo Que Importa</td>\n",
       "      <td>soyungalgo</td>\n",
       "      <td>[Estribillo: Swan Fyahbwoy]\\nSolo dime si esto...</td>\n",
       "    </tr>\n",
       "    <tr>\n",
       "      <th>3</th>\n",
       "      <td>Shinova</td>\n",
       "      <td>El Álbum</td>\n",
       "      <td>soyungalgo</td>\n",
       "      <td>[Letra de \"El Álbum\"]\\n\\n[Verso 1]\\nTu rostro ...</td>\n",
       "    </tr>\n",
       "    <tr>\n",
       "      <th>4</th>\n",
       "      <td>Ojete Calor</td>\n",
       "      <td>Viejoven</td>\n",
       "      <td>señoritajones</td>\n",
       "      <td>[Letra de \"Viejoven\"]\\n\\nNo sabría si llevarte...</td>\n",
       "    </tr>\n",
       "  </tbody>\n",
       "</table>\n",
       "</div>"
      ],
      "text/plain": [
       "       artista               nombre     ironhacker  \\\n",
       "0  Mama Jarana        Vuelta a Casa     soyungalgo   \n",
       "1       trashi              mañaneo     soyungalgo   \n",
       "2      ELYELLA  Todo Lo Que Importa     soyungalgo   \n",
       "3      Shinova             El Álbum     soyungalgo   \n",
       "4  Ojete Calor             Viejoven  señoritajones   \n",
       "\n",
       "                                               letra  \n",
       "0  [Verso 1: Seth Condrey]\\nVagando por el mundo,...  \n",
       "1  [Verso: Trashi]\\nBebé\\nSolo mirame a la cara, ...  \n",
       "2  [Estribillo: Swan Fyahbwoy]\\nSolo dime si esto...  \n",
       "3  [Letra de \"El Álbum\"]\\n\\n[Verso 1]\\nTu rostro ...  \n",
       "4  [Letra de \"Viejoven\"]\\n\\nNo sabría si llevarte...  "
      ]
     },
     "execution_count": 132,
     "metadata": {},
     "output_type": "execute_result"
    }
   ],
   "source": [
    "df.head()"
   ]
  },
  {
   "cell_type": "code",
   "execution_count": 133,
   "id": "consistent-tampa",
   "metadata": {},
   "outputs": [
    {
     "data": {
      "text/plain": [
       "'[Verso 1: Seth Condrey]\\nVagando por el mundo, buscando algo más\\nQue pueda darle vida a toda esta oscuridad\\nVi a la distancia una gran señal\\nDespierta mi esperanza, ya no vuelvo atrás\\nYa no vuelvo atrás\\n\\n[Coro: Seth Condrey]\\nA mi puerta Él llamó\\nSu gracia me levantó\\nNo me puedo escapar\\nRendido estoy\\nDe vuelta a casa voy\\n\\n[Verso 2: Seth Condrey]\\nMi fuerza en la prueba, la fuente de mi fe\\nO cada día nueva su misericordia es\\nTodo es perdonado, lo viejo muerto está\\nÉl me ha salvado, Su amor me llevará\\nHasta el final\\n\\n[Coro: Seth Condrey]\\nA mi puerta Él llamó\\nSu gracia me levantó\\nNo me puedo escapar\\nRendido estoy\\nDe vuelta a casa voy\\n[Puente: Andy Alemany]\\nEn la casa de mi Padre, quiero siempre estar\\nSentado en Su mesa libre de toda maldad\\nMe pude haber perdido pero Él me rescató\\nLlevándome de vuelta a Su gran amor, a Su gran amor\\nA Su gran amor\\n\\n[Coro: Seth Condrey]\\nA mi puerta Él llamó\\nSu gracia me levantó\\nNo me puedo escapar\\nRendido estoy\\nDe vuelta voy\\nA mi puerta Él llamó\\nSu gracia me levantó\\nNo me puedo escapar\\nRendido estoy\\nDe vuelta a casa, vuelta a casa voy'"
      ]
     },
     "execution_count": 133,
     "metadata": {},
     "output_type": "execute_result"
    }
   ],
   "source": [
    "df.loc[0][\"letra\"]"
   ]
  },
  {
   "cell_type": "code",
   "execution_count": 134,
   "id": "julian-teacher",
   "metadata": {},
   "outputs": [
    {
     "data": {
      "text/plain": [
       "artista       0\n",
       "nombre        0\n",
       "ironhacker    0\n",
       "letra         0\n",
       "dtype: int64"
      ]
     },
     "execution_count": 134,
     "metadata": {},
     "output_type": "execute_result"
    }
   ],
   "source": [
    "df.isna().sum()"
   ]
  },
  {
   "cell_type": "code",
   "execution_count": 135,
   "id": "blocked-status",
   "metadata": {},
   "outputs": [],
   "source": [
    "df.to_csv(\"output/agosto_21.csv\", index=False)"
   ]
  }
 ],
 "metadata": {
  "kernelspec": {
   "display_name": "ironhack",
   "language": "python",
   "name": "ironhack"
  },
  "language_info": {
   "codemirror_mode": {
    "name": "ipython",
    "version": 3
   },
   "file_extension": ".py",
   "mimetype": "text/x-python",
   "name": "python",
   "nbconvert_exporter": "python",
   "pygments_lexer": "ipython3",
   "version": "3.8.5"
  },
  "toc": {
   "base_numbering": 1,
   "nav_menu": {},
   "number_sections": true,
   "sideBar": true,
   "skip_h1_title": true,
   "title_cell": "Table of Contents",
   "title_sidebar": "Contents",
   "toc_cell": true,
   "toc_position": {},
   "toc_section_display": true,
   "toc_window_display": false
  }
 },
 "nbformat": 4,
 "nbformat_minor": 5
}
