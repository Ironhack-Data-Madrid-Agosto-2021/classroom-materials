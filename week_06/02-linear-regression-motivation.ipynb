{
 "cells": [
  {
   "cell_type": "markdown",
   "metadata": {
    "toc": true
   },
   "source": [
    "<h1>Table of Contents<span class=\"tocSkip\"></span></h1>\n",
    "<div class=\"toc\"><ul class=\"toc-item\"><li><span><a href=\"#The-problem\" data-toc-modified-id=\"The-problem-1\"><span class=\"toc-item-num\">1&nbsp;&nbsp;</span>The problem</a></span></li><li><span><a href=\"#Data-exporation\" data-toc-modified-id=\"Data-exporation-2\"><span class=\"toc-item-num\">2&nbsp;&nbsp;</span>Data exporation</a></span></li><li><span><a href=\"#The-linear-model\" data-toc-modified-id=\"The-linear-model-3\"><span class=\"toc-item-num\">3&nbsp;&nbsp;</span>The linear model</a></span><ul class=\"toc-item\"><li><span><a href=\"#Understanding-the-model-error-as-a-function-of-parameters-m-and-n\" data-toc-modified-id=\"Understanding-the-model-error-as-a-function-of-parameters-m-and-n-3.1\"><span class=\"toc-item-num\">3.1&nbsp;&nbsp;</span>Understanding the model error as a function of parameters <code>m</code> and <code>n</code></a></span></li></ul></li><li><span><a href=\"#The-optimal-linear-model\" data-toc-modified-id=\"The-optimal-linear-model-4\"><span class=\"toc-item-num\">4&nbsp;&nbsp;</span>The optimal linear model</a></span><ul class=\"toc-item\"><li><span><a href=\"#Understanding-lr-attributes-/-methods\" data-toc-modified-id=\"Understanding-lr-attributes-/-methods-4.1\"><span class=\"toc-item-num\">4.1&nbsp;&nbsp;</span>Understanding lr attributes / methods</a></span></li></ul></li><li><span><a href=\"#Align-with-business-to-decide-the-optimal-metric!!\" data-toc-modified-id=\"Align-with-business-to-decide-the-optimal-metric!!-5\"><span class=\"toc-item-num\">5&nbsp;&nbsp;</span>Align with business to decide the optimal metric!!</a></span></li></ul></div>"
   ]
  },
  {
   "cell_type": "markdown",
   "metadata": {},
   "source": [
    "# Linear regression motivation"
   ]
  },
  {
   "cell_type": "code",
   "execution_count": 1,
   "metadata": {},
   "outputs": [],
   "source": [
    "import pandas as pd\n",
    "import numpy as np\n",
    "\n",
    "import matplotlib.pyplot as plt\n",
    "import seaborn as sns"
   ]
  },
  {
   "cell_type": "markdown",
   "metadata": {},
   "source": [
    "## The problem"
   ]
  },
  {
   "cell_type": "code",
   "execution_count": 6,
   "metadata": {},
   "outputs": [],
   "source": [
    "data = pd.read_csv(\"../datasets/hours_vs_mark.csv\", index_col=0)"
   ]
  },
  {
   "cell_type": "markdown",
   "metadata": {},
   "source": [
    "We have 100 students, and we know:\n",
    " * how many hours they studied for their exam\n",
    " * what mark they got (0 to 100)"
   ]
  },
  {
   "cell_type": "code",
   "execution_count": 9,
   "metadata": {},
   "outputs": [
    {
     "data": {
      "text/html": [
       "<div>\n",
       "<style scoped>\n",
       "    .dataframe tbody tr th:only-of-type {\n",
       "        vertical-align: middle;\n",
       "    }\n",
       "\n",
       "    .dataframe tbody tr th {\n",
       "        vertical-align: top;\n",
       "    }\n",
       "\n",
       "    .dataframe thead th {\n",
       "        text-align: right;\n",
       "    }\n",
       "</style>\n",
       "<table border=\"1\" class=\"dataframe\">\n",
       "  <thead>\n",
       "    <tr style=\"text-align: right;\">\n",
       "      <th></th>\n",
       "      <th>hours</th>\n",
       "      <th>mark</th>\n",
       "    </tr>\n",
       "  </thead>\n",
       "  <tbody>\n",
       "    <tr>\n",
       "      <th>0</th>\n",
       "      <td>865</td>\n",
       "      <td>95</td>\n",
       "    </tr>\n",
       "    <tr>\n",
       "      <th>1</th>\n",
       "      <td>4</td>\n",
       "      <td>12</td>\n",
       "    </tr>\n",
       "    <tr>\n",
       "      <th>2</th>\n",
       "      <td>305</td>\n",
       "      <td>35</td>\n",
       "    </tr>\n",
       "    <tr>\n",
       "      <th>3</th>\n",
       "      <td>437</td>\n",
       "      <td>56</td>\n",
       "    </tr>\n",
       "    <tr>\n",
       "      <th>4</th>\n",
       "      <td>682</td>\n",
       "      <td>86</td>\n",
       "    </tr>\n",
       "  </tbody>\n",
       "</table>\n",
       "</div>"
      ],
      "text/plain": [
       "   hours  mark\n",
       "0    865    95\n",
       "1      4    12\n",
       "2    305    35\n",
       "3    437    56\n",
       "4    682    86"
      ]
     },
     "execution_count": 9,
     "metadata": {},
     "output_type": "execute_result"
    }
   ],
   "source": [
    "data.head()"
   ]
  },
  {
   "cell_type": "code",
   "execution_count": 8,
   "metadata": {},
   "outputs": [
    {
     "data": {
      "text/html": [
       "<div>\n",
       "<style scoped>\n",
       "    .dataframe tbody tr th:only-of-type {\n",
       "        vertical-align: middle;\n",
       "    }\n",
       "\n",
       "    .dataframe tbody tr th {\n",
       "        vertical-align: top;\n",
       "    }\n",
       "\n",
       "    .dataframe thead th {\n",
       "        text-align: right;\n",
       "    }\n",
       "</style>\n",
       "<table border=\"1\" class=\"dataframe\">\n",
       "  <thead>\n",
       "    <tr style=\"text-align: right;\">\n",
       "      <th></th>\n",
       "      <th>hours</th>\n",
       "      <th>mark</th>\n",
       "    </tr>\n",
       "  </thead>\n",
       "  <tbody>\n",
       "    <tr>\n",
       "      <th>96</th>\n",
       "      <td>49</td>\n",
       "      <td>21</td>\n",
       "    </tr>\n",
       "    <tr>\n",
       "      <th>6</th>\n",
       "      <td>367</td>\n",
       "      <td>26</td>\n",
       "    </tr>\n",
       "    <tr>\n",
       "      <th>31</th>\n",
       "      <td>60</td>\n",
       "      <td>19</td>\n",
       "    </tr>\n",
       "    <tr>\n",
       "      <th>0</th>\n",
       "      <td>865</td>\n",
       "      <td>95</td>\n",
       "    </tr>\n",
       "    <tr>\n",
       "      <th>15</th>\n",
       "      <td>980</td>\n",
       "      <td>90</td>\n",
       "    </tr>\n",
       "  </tbody>\n",
       "</table>\n",
       "</div>"
      ],
      "text/plain": [
       "    hours  mark\n",
       "96     49    21\n",
       "6     367    26\n",
       "31     60    19\n",
       "0     865    95\n",
       "15    980    90"
      ]
     },
     "execution_count": 8,
     "metadata": {},
     "output_type": "execute_result"
    }
   ],
   "source": [
    "data.sample(5)"
   ]
  },
  {
   "cell_type": "code",
   "execution_count": 13,
   "metadata": {},
   "outputs": [
    {
     "data": {
      "text/html": [
       "<div>\n",
       "<style scoped>\n",
       "    .dataframe tbody tr th:only-of-type {\n",
       "        vertical-align: middle;\n",
       "    }\n",
       "\n",
       "    .dataframe tbody tr th {\n",
       "        vertical-align: top;\n",
       "    }\n",
       "\n",
       "    .dataframe thead th {\n",
       "        text-align: right;\n",
       "    }\n",
       "</style>\n",
       "<table border=\"1\" class=\"dataframe\">\n",
       "  <thead>\n",
       "    <tr style=\"text-align: right;\">\n",
       "      <th></th>\n",
       "      <th>hours</th>\n",
       "      <th>mark</th>\n",
       "    </tr>\n",
       "  </thead>\n",
       "  <tbody>\n",
       "    <tr>\n",
       "      <th>hours</th>\n",
       "      <td>1.000000</td>\n",
       "      <td>0.867072</td>\n",
       "    </tr>\n",
       "    <tr>\n",
       "      <th>mark</th>\n",
       "      <td>0.867072</td>\n",
       "      <td>1.000000</td>\n",
       "    </tr>\n",
       "  </tbody>\n",
       "</table>\n",
       "</div>"
      ],
      "text/plain": [
       "          hours      mark\n",
       "hours  1.000000  0.867072\n",
       "mark   0.867072  1.000000"
      ]
     },
     "execution_count": 13,
     "metadata": {},
     "output_type": "execute_result"
    }
   ],
   "source": [
    "data.corr()"
   ]
  },
  {
   "cell_type": "markdown",
   "metadata": {},
   "source": [
    "We would like to understand the relationship $$mark = f(hours)$$\n",
    "\n",
    "So that we can **predict the expected mark** we will get by studying a given number of hours"
   ]
  },
  {
   "cell_type": "markdown",
   "metadata": {},
   "source": [
    "## Data exporation"
   ]
  },
  {
   "cell_type": "code",
   "execution_count": 17,
   "metadata": {},
   "outputs": [
    {
     "data": {
      "text/plain": [
       "<AxesSubplot:xlabel='hours', ylabel='Count'>"
      ]
     },
     "execution_count": 17,
     "metadata": {},
     "output_type": "execute_result"
    },
    {
     "data": {
      "image/png": "[encoded data removed]",
      "text/plain": [
       "<Figure size 432x288 with 1 Axes>"
      ]
     },
     "metadata": {
      "needs_background": "light"
     },
     "output_type": "display_data"
    }
   ],
   "source": [
    "sns.histplot(data.hours, bins=10)"
   ]
  },
  {
   "cell_type": "code",
   "execution_count": 19,
   "metadata": {},
   "outputs": [
    {
     "data": {
      "text/plain": [
       "<AxesSubplot:xlabel='mark', ylabel='Count'>"
      ]
     },
     "execution_count": 19,
     "metadata": {},
     "output_type": "execute_result"
    },
    {
     "data": {
      "image/png": "[encoded data removed]",
      "text/plain": [
       "<Figure size 432x288 with 1 Axes>"
      ]
     },
     "metadata": {
      "needs_background": "light"
     },
     "output_type": "display_data"
    }
   ],
   "source": [
    "sns.histplot(data.mark, bins=10)"
   ]
  },
  {
   "cell_type": "code",
   "execution_count": 21,
   "metadata": {},
   "outputs": [
    {
     "data": {
      "text/plain": [
       "<AxesSubplot:xlabel='hours', ylabel='mark'>"
      ]
     },
     "execution_count": 21,
     "metadata": {},
     "output_type": "execute_result"
    },
    {
     "data": {
      "image/png": "[encoded data removed]",
      "text/plain": [
       "<Figure size 432x288 with 1 Axes>"
      ]
     },
     "metadata": {
      "needs_background": "light"
     },
     "output_type": "display_data"
    }
   ],
   "source": [
    "sns.scatterplot(x=data[\"hours\"], y=data[\"mark\"])"
   ]
  },
  {
   "cell_type": "markdown",
   "metadata": {},
   "source": [
    "## The linear model"
   ]
  },
  {
   "cell_type": "markdown",
   "metadata": {},
   "source": [
    "Lets try a linear regression $$Y = m * X + n$$"
   ]
  },
  {
   "cell_type": "markdown",
   "metadata": {},
   "source": [
    "$m$ is the slope  \n",
    "$n$ is the value of $Y$ when $X=0$ "
   ]
  },
  {
   "cell_type": "markdown",
   "metadata": {},
   "source": [
    "$$mark = m * hours + n$$"
   ]
  },
  {
   "cell_type": "markdown",
   "metadata": {},
   "source": [
    "We want to find $m$ and $n$ that *best* model our data"
   ]
  },
  {
   "cell_type": "markdown",
   "metadata": {},
   "source": [
    "Lets guess:"
   ]
  },
  {
   "cell_type": "code",
   "execution_count": 24,
   "metadata": {},
   "outputs": [
    {
     "data": {
      "text/html": [
       "<div>\n",
       "<style scoped>\n",
       "    .dataframe tbody tr th:only-of-type {\n",
       "        vertical-align: middle;\n",
       "    }\n",
       "\n",
       "    .dataframe tbody tr th {\n",
       "        vertical-align: top;\n",
       "    }\n",
       "\n",
       "    .dataframe thead th {\n",
       "        text-align: right;\n",
       "    }\n",
       "</style>\n",
       "<table border=\"1\" class=\"dataframe\">\n",
       "  <thead>\n",
       "    <tr style=\"text-align: right;\">\n",
       "      <th></th>\n",
       "      <th>hours</th>\n",
       "      <th>mark</th>\n",
       "    </tr>\n",
       "  </thead>\n",
       "  <tbody>\n",
       "    <tr>\n",
       "      <th>0</th>\n",
       "      <td>865</td>\n",
       "      <td>95</td>\n",
       "    </tr>\n",
       "    <tr>\n",
       "      <th>1</th>\n",
       "      <td>4</td>\n",
       "      <td>12</td>\n",
       "    </tr>\n",
       "    <tr>\n",
       "      <th>2</th>\n",
       "      <td>305</td>\n",
       "      <td>35</td>\n",
       "    </tr>\n",
       "    <tr>\n",
       "      <th>3</th>\n",
       "      <td>437</td>\n",
       "      <td>56</td>\n",
       "    </tr>\n",
       "    <tr>\n",
       "      <th>4</th>\n",
       "      <td>682</td>\n",
       "      <td>86</td>\n",
       "    </tr>\n",
       "  </tbody>\n",
       "</table>\n",
       "</div>"
      ],
      "text/plain": [
       "   hours  mark\n",
       "0    865    95\n",
       "1      4    12\n",
       "2    305    35\n",
       "3    437    56\n",
       "4    682    86"
      ]
     },
     "execution_count": 24,
     "metadata": {},
     "output_type": "execute_result"
    }
   ],
   "source": [
    "data.head()"
   ]
  },
  {
   "cell_type": "markdown",
   "metadata": {},
   "source": [
    "$$mark =0.1*hours +10$$"
   ]
  },
  {
   "cell_type": "markdown",
   "metadata": {},
   "source": [
    "$$mark_2 =0.09*hours + 15$$"
   ]
  },
  {
   "cell_type": "markdown",
   "metadata": {},
   "source": [
    "Which model performs better?"
   ]
  },
  {
   "cell_type": "code",
   "execution_count": 27,
   "metadata": {},
   "outputs": [
    {
     "data": {
      "text/plain": [
       "(100, 2)"
      ]
     },
     "execution_count": 27,
     "metadata": {},
     "output_type": "execute_result"
    }
   ],
   "source": [
    "data.shape"
   ]
  },
  {
   "cell_type": "code",
   "execution_count": 28,
   "metadata": {},
   "outputs": [],
   "source": [
    "data[\"prediction_1\"] = 0.1 * data.hours + 10"
   ]
  },
  {
   "cell_type": "code",
   "execution_count": 29,
   "metadata": {},
   "outputs": [],
   "source": [
    "data[\"prediction_2\"] = 0.09 * data.hours + 15"
   ]
  },
  {
   "cell_type": "code",
   "execution_count": 31,
   "metadata": {},
   "outputs": [],
   "source": [
    "# semi-random prediction\n",
    "data[\"prediction_3\"] = np.random.uniform(40, 60, size=data.shape[0]).round(2)"
   ]
  },
  {
   "cell_type": "code",
   "execution_count": 32,
   "metadata": {
    "scrolled": true
   },
   "outputs": [
    {
     "data": {
      "text/html": [
       "<div>\n",
       "<style scoped>\n",
       "    .dataframe tbody tr th:only-of-type {\n",
       "        vertical-align: middle;\n",
       "    }\n",
       "\n",
       "    .dataframe tbody tr th {\n",
       "        vertical-align: top;\n",
       "    }\n",
       "\n",
       "    .dataframe thead th {\n",
       "        text-align: right;\n",
       "    }\n",
       "</style>\n",
       "<table border=\"1\" class=\"dataframe\">\n",
       "  <thead>\n",
       "    <tr style=\"text-align: right;\">\n",
       "      <th></th>\n",
       "      <th>hours</th>\n",
       "      <th>mark</th>\n",
       "      <th>prediction_1</th>\n",
       "      <th>prediction_2</th>\n",
       "      <th>prediction_3</th>\n",
       "    </tr>\n",
       "  </thead>\n",
       "  <tbody>\n",
       "    <tr>\n",
       "      <th>0</th>\n",
       "      <td>865</td>\n",
       "      <td>95</td>\n",
       "      <td>96.5</td>\n",
       "      <td>92.85</td>\n",
       "      <td>56.07</td>\n",
       "    </tr>\n",
       "    <tr>\n",
       "      <th>1</th>\n",
       "      <td>4</td>\n",
       "      <td>12</td>\n",
       "      <td>10.4</td>\n",
       "      <td>15.36</td>\n",
       "      <td>46.63</td>\n",
       "    </tr>\n",
       "    <tr>\n",
       "      <th>2</th>\n",
       "      <td>305</td>\n",
       "      <td>35</td>\n",
       "      <td>40.5</td>\n",
       "      <td>42.45</td>\n",
       "      <td>59.45</td>\n",
       "    </tr>\n",
       "    <tr>\n",
       "      <th>3</th>\n",
       "      <td>437</td>\n",
       "      <td>56</td>\n",
       "      <td>53.7</td>\n",
       "      <td>54.33</td>\n",
       "      <td>53.24</td>\n",
       "    </tr>\n",
       "    <tr>\n",
       "      <th>4</th>\n",
       "      <td>682</td>\n",
       "      <td>86</td>\n",
       "      <td>78.2</td>\n",
       "      <td>76.38</td>\n",
       "      <td>54.13</td>\n",
       "    </tr>\n",
       "    <tr>\n",
       "      <th>5</th>\n",
       "      <td>560</td>\n",
       "      <td>40</td>\n",
       "      <td>66.0</td>\n",
       "      <td>65.40</td>\n",
       "      <td>58.86</td>\n",
       "    </tr>\n",
       "    <tr>\n",
       "      <th>6</th>\n",
       "      <td>367</td>\n",
       "      <td>26</td>\n",
       "      <td>46.7</td>\n",
       "      <td>48.03</td>\n",
       "      <td>51.63</td>\n",
       "    </tr>\n",
       "    <tr>\n",
       "      <th>7</th>\n",
       "      <td>861</td>\n",
       "      <td>73</td>\n",
       "      <td>96.1</td>\n",
       "      <td>92.49</td>\n",
       "      <td>49.93</td>\n",
       "    </tr>\n",
       "    <tr>\n",
       "      <th>8</th>\n",
       "      <td>59</td>\n",
       "      <td>20</td>\n",
       "      <td>15.9</td>\n",
       "      <td>20.31</td>\n",
       "      <td>55.80</td>\n",
       "    </tr>\n",
       "    <tr>\n",
       "      <th>9</th>\n",
       "      <td>514</td>\n",
       "      <td>85</td>\n",
       "      <td>61.4</td>\n",
       "      <td>61.26</td>\n",
       "      <td>53.92</td>\n",
       "    </tr>\n",
       "  </tbody>\n",
       "</table>\n",
       "</div>"
      ],
      "text/plain": [
       "   hours  mark  prediction_1  prediction_2  prediction_3\n",
       "0    865    95          96.5         92.85         56.07\n",
       "1      4    12          10.4         15.36         46.63\n",
       "2    305    35          40.5         42.45         59.45\n",
       "3    437    56          53.7         54.33         53.24\n",
       "4    682    86          78.2         76.38         54.13\n",
       "5    560    40          66.0         65.40         58.86\n",
       "6    367    26          46.7         48.03         51.63\n",
       "7    861    73          96.1         92.49         49.93\n",
       "8     59    20          15.9         20.31         55.80\n",
       "9    514    85          61.4         61.26         53.92"
      ]
     },
     "execution_count": 32,
     "metadata": {},
     "output_type": "execute_result"
    }
   ],
   "source": [
    "data.head(10)"
   ]
  },
  {
   "cell_type": "markdown",
   "metadata": {},
   "source": [
    "Lets measure error of the three models"
   ]
  },
  {
   "cell_type": "markdown",
   "metadata": {},
   "source": [
    "Lets compute **Mean squared error**, which:\n",
    " - Turns every deviation positive (square power)\n",
    " - Penalizes specially big deviations (deviation of 3 is 9 times worse than deviation of 1)"
   ]
  },
  {
   "cell_type": "code",
   "execution_count": 33,
   "metadata": {},
   "outputs": [],
   "source": [
    "data['error_1'] = (data.mark - data.prediction_1) ** 2"
   ]
  },
  {
   "cell_type": "code",
   "execution_count": 34,
   "metadata": {},
   "outputs": [],
   "source": [
    "data['error_2'] = (data.mark - data.prediction_2)  ** 2"
   ]
  },
  {
   "cell_type": "code",
   "execution_count": 35,
   "metadata": {},
   "outputs": [],
   "source": [
    "data['error_3'] = (data.mark - data.prediction_3) ** 2"
   ]
  },
  {
   "cell_type": "code",
   "execution_count": 36,
   "metadata": {},
   "outputs": [
    {
     "data": {
      "text/html": [
       "<div>\n",
       "<style scoped>\n",
       "    .dataframe tbody tr th:only-of-type {\n",
       "        vertical-align: middle;\n",
       "    }\n",
       "\n",
       "    .dataframe tbody tr th {\n",
       "        vertical-align: top;\n",
       "    }\n",
       "\n",
       "    .dataframe thead th {\n",
       "        text-align: right;\n",
       "    }\n",
       "</style>\n",
       "<table border=\"1\" class=\"dataframe\">\n",
       "  <thead>\n",
       "    <tr style=\"text-align: right;\">\n",
       "      <th></th>\n",
       "      <th>hours</th>\n",
       "      <th>mark</th>\n",
       "      <th>prediction_1</th>\n",
       "      <th>prediction_2</th>\n",
       "      <th>prediction_3</th>\n",
       "      <th>error_1</th>\n",
       "      <th>error_2</th>\n",
       "      <th>error_3</th>\n",
       "    </tr>\n",
       "  </thead>\n",
       "  <tbody>\n",
       "    <tr>\n",
       "      <th>0</th>\n",
       "      <td>865</td>\n",
       "      <td>95</td>\n",
       "      <td>96.5</td>\n",
       "      <td>92.85</td>\n",
       "      <td>56.07</td>\n",
       "      <td>2.25</td>\n",
       "      <td>4.6225</td>\n",
       "      <td>1515.5449</td>\n",
       "    </tr>\n",
       "    <tr>\n",
       "      <th>1</th>\n",
       "      <td>4</td>\n",
       "      <td>12</td>\n",
       "      <td>10.4</td>\n",
       "      <td>15.36</td>\n",
       "      <td>46.63</td>\n",
       "      <td>2.56</td>\n",
       "      <td>11.2896</td>\n",
       "      <td>1199.2369</td>\n",
       "    </tr>\n",
       "    <tr>\n",
       "      <th>2</th>\n",
       "      <td>305</td>\n",
       "      <td>35</td>\n",
       "      <td>40.5</td>\n",
       "      <td>42.45</td>\n",
       "      <td>59.45</td>\n",
       "      <td>30.25</td>\n",
       "      <td>55.5025</td>\n",
       "      <td>597.8025</td>\n",
       "    </tr>\n",
       "    <tr>\n",
       "      <th>3</th>\n",
       "      <td>437</td>\n",
       "      <td>56</td>\n",
       "      <td>53.7</td>\n",
       "      <td>54.33</td>\n",
       "      <td>53.24</td>\n",
       "      <td>5.29</td>\n",
       "      <td>2.7889</td>\n",
       "      <td>7.6176</td>\n",
       "    </tr>\n",
       "    <tr>\n",
       "      <th>4</th>\n",
       "      <td>682</td>\n",
       "      <td>86</td>\n",
       "      <td>78.2</td>\n",
       "      <td>76.38</td>\n",
       "      <td>54.13</td>\n",
       "      <td>60.84</td>\n",
       "      <td>92.5444</td>\n",
       "      <td>1015.6969</td>\n",
       "    </tr>\n",
       "    <tr>\n",
       "      <th>5</th>\n",
       "      <td>560</td>\n",
       "      <td>40</td>\n",
       "      <td>66.0</td>\n",
       "      <td>65.40</td>\n",
       "      <td>58.86</td>\n",
       "      <td>676.00</td>\n",
       "      <td>645.1600</td>\n",
       "      <td>355.6996</td>\n",
       "    </tr>\n",
       "    <tr>\n",
       "      <th>6</th>\n",
       "      <td>367</td>\n",
       "      <td>26</td>\n",
       "      <td>46.7</td>\n",
       "      <td>48.03</td>\n",
       "      <td>51.63</td>\n",
       "      <td>428.49</td>\n",
       "      <td>485.3209</td>\n",
       "      <td>656.8969</td>\n",
       "    </tr>\n",
       "    <tr>\n",
       "      <th>7</th>\n",
       "      <td>861</td>\n",
       "      <td>73</td>\n",
       "      <td>96.1</td>\n",
       "      <td>92.49</td>\n",
       "      <td>49.93</td>\n",
       "      <td>533.61</td>\n",
       "      <td>379.8601</td>\n",
       "      <td>532.2249</td>\n",
       "    </tr>\n",
       "    <tr>\n",
       "      <th>8</th>\n",
       "      <td>59</td>\n",
       "      <td>20</td>\n",
       "      <td>15.9</td>\n",
       "      <td>20.31</td>\n",
       "      <td>55.80</td>\n",
       "      <td>16.81</td>\n",
       "      <td>0.0961</td>\n",
       "      <td>1281.6400</td>\n",
       "    </tr>\n",
       "    <tr>\n",
       "      <th>9</th>\n",
       "      <td>514</td>\n",
       "      <td>85</td>\n",
       "      <td>61.4</td>\n",
       "      <td>61.26</td>\n",
       "      <td>53.92</td>\n",
       "      <td>556.96</td>\n",
       "      <td>563.5876</td>\n",
       "      <td>965.9664</td>\n",
       "    </tr>\n",
       "  </tbody>\n",
       "</table>\n",
       "</div>"
      ],
      "text/plain": [
       "   hours  mark  prediction_1  prediction_2  prediction_3  error_1   error_2  \\\n",
       "0    865    95          96.5         92.85         56.07     2.25    4.6225   \n",
       "1      4    12          10.4         15.36         46.63     2.56   11.2896   \n",
       "2    305    35          40.5         42.45         59.45    30.25   55.5025   \n",
       "3    437    56          53.7         54.33         53.24     5.29    2.7889   \n",
       "4    682    86          78.2         76.38         54.13    60.84   92.5444   \n",
       "5    560    40          66.0         65.40         58.86   676.00  645.1600   \n",
       "6    367    26          46.7         48.03         51.63   428.49  485.3209   \n",
       "7    861    73          96.1         92.49         49.93   533.61  379.8601   \n",
       "8     59    20          15.9         20.31         55.80    16.81    0.0961   \n",
       "9    514    85          61.4         61.26         53.92   556.96  563.5876   \n",
       "\n",
       "     error_3  \n",
       "0  1515.5449  \n",
       "1  1199.2369  \n",
       "2   597.8025  \n",
       "3     7.6176  \n",
       "4  1015.6969  \n",
       "5   355.6996  \n",
       "6   656.8969  \n",
       "7   532.2249  \n",
       "8  1281.6400  \n",
       "9   965.9664  "
      ]
     },
     "execution_count": 36,
     "metadata": {},
     "output_type": "execute_result"
    }
   ],
   "source": [
    "data.head(10)"
   ]
  },
  {
   "cell_type": "code",
   "execution_count": 42,
   "metadata": {},
   "outputs": [
    {
     "data": {
      "text/plain": [
       "233.1216"
      ]
     },
     "execution_count": 42,
     "metadata": {},
     "output_type": "execute_result"
    }
   ],
   "source": [
    "data.error_1.mean()"
   ]
  },
  {
   "cell_type": "code",
   "execution_count": 43,
   "metadata": {},
   "outputs": [
    {
     "data": {
      "text/plain": [
       "223.54325599999996"
      ]
     },
     "execution_count": 43,
     "metadata": {},
     "output_type": "execute_result"
    }
   ],
   "source": [
    "data.error_2.mean()"
   ]
  },
  {
   "cell_type": "code",
   "execution_count": 39,
   "metadata": {},
   "outputs": [
    {
     "data": {
      "text/plain": [
       "811.6272890000001"
      ]
     },
     "execution_count": 39,
     "metadata": {},
     "output_type": "execute_result"
    }
   ],
   "source": [
    "data.error_3.mean()"
   ]
  },
  {
   "cell_type": "markdown",
   "metadata": {},
   "source": [
    "Considering Mean Squared Error criteria, model 2 performs better!"
   ]
  },
  {
   "cell_type": "markdown",
   "metadata": {},
   "source": [
    "Lets for a moment consider another criteria:   If pred and real distance is less than 5, good. Otherwise, bad"
   ]
  },
  {
   "cell_type": "code",
   "execution_count": 58,
   "metadata": {},
   "outputs": [],
   "source": [
    "data[\"error_1_bis\"] = (data.mark - data.prediction_1).abs() < 5"
   ]
  },
  {
   "cell_type": "code",
   "execution_count": 59,
   "metadata": {},
   "outputs": [],
   "source": [
    "data[\"error_2_bis\"] = (data.mark - data.prediction_2).abs() < 5"
   ]
  },
  {
   "cell_type": "code",
   "execution_count": 60,
   "metadata": {},
   "outputs": [
    {
     "data": {
      "text/html": [
       "<div>\n",
       "<style scoped>\n",
       "    .dataframe tbody tr th:only-of-type {\n",
       "        vertical-align: middle;\n",
       "    }\n",
       "\n",
       "    .dataframe tbody tr th {\n",
       "        vertical-align: top;\n",
       "    }\n",
       "\n",
       "    .dataframe thead th {\n",
       "        text-align: right;\n",
       "    }\n",
       "</style>\n",
       "<table border=\"1\" class=\"dataframe\">\n",
       "  <thead>\n",
       "    <tr style=\"text-align: right;\">\n",
       "      <th></th>\n",
       "      <th>hours</th>\n",
       "      <th>mark</th>\n",
       "      <th>prediction_1</th>\n",
       "      <th>prediction_2</th>\n",
       "      <th>prediction_3</th>\n",
       "      <th>error_1</th>\n",
       "      <th>error_2</th>\n",
       "      <th>error_3</th>\n",
       "      <th>error_1_bis</th>\n",
       "      <th>error_2_bis</th>\n",
       "    </tr>\n",
       "  </thead>\n",
       "  <tbody>\n",
       "    <tr>\n",
       "      <th>0</th>\n",
       "      <td>865</td>\n",
       "      <td>95</td>\n",
       "      <td>96.5</td>\n",
       "      <td>92.85</td>\n",
       "      <td>56.07</td>\n",
       "      <td>2.25</td>\n",
       "      <td>4.6225</td>\n",
       "      <td>1515.5449</td>\n",
       "      <td>True</td>\n",
       "      <td>True</td>\n",
       "    </tr>\n",
       "    <tr>\n",
       "      <th>1</th>\n",
       "      <td>4</td>\n",
       "      <td>12</td>\n",
       "      <td>10.4</td>\n",
       "      <td>15.36</td>\n",
       "      <td>46.63</td>\n",
       "      <td>2.56</td>\n",
       "      <td>11.2896</td>\n",
       "      <td>1199.2369</td>\n",
       "      <td>True</td>\n",
       "      <td>True</td>\n",
       "    </tr>\n",
       "    <tr>\n",
       "      <th>2</th>\n",
       "      <td>305</td>\n",
       "      <td>35</td>\n",
       "      <td>40.5</td>\n",
       "      <td>42.45</td>\n",
       "      <td>59.45</td>\n",
       "      <td>30.25</td>\n",
       "      <td>55.5025</td>\n",
       "      <td>597.8025</td>\n",
       "      <td>False</td>\n",
       "      <td>False</td>\n",
       "    </tr>\n",
       "    <tr>\n",
       "      <th>3</th>\n",
       "      <td>437</td>\n",
       "      <td>56</td>\n",
       "      <td>53.7</td>\n",
       "      <td>54.33</td>\n",
       "      <td>53.24</td>\n",
       "      <td>5.29</td>\n",
       "      <td>2.7889</td>\n",
       "      <td>7.6176</td>\n",
       "      <td>True</td>\n",
       "      <td>True</td>\n",
       "    </tr>\n",
       "    <tr>\n",
       "      <th>4</th>\n",
       "      <td>682</td>\n",
       "      <td>86</td>\n",
       "      <td>78.2</td>\n",
       "      <td>76.38</td>\n",
       "      <td>54.13</td>\n",
       "      <td>60.84</td>\n",
       "      <td>92.5444</td>\n",
       "      <td>1015.6969</td>\n",
       "      <td>False</td>\n",
       "      <td>False</td>\n",
       "    </tr>\n",
       "  </tbody>\n",
       "</table>\n",
       "</div>"
      ],
      "text/plain": [
       "   hours  mark  prediction_1  prediction_2  prediction_3  error_1  error_2  \\\n",
       "0    865    95          96.5         92.85         56.07     2.25   4.6225   \n",
       "1      4    12          10.4         15.36         46.63     2.56  11.2896   \n",
       "2    305    35          40.5         42.45         59.45    30.25  55.5025   \n",
       "3    437    56          53.7         54.33         53.24     5.29   2.7889   \n",
       "4    682    86          78.2         76.38         54.13    60.84  92.5444   \n",
       "\n",
       "     error_3  error_1_bis  error_2_bis  \n",
       "0  1515.5449         True         True  \n",
       "1  1199.2369         True         True  \n",
       "2   597.8025        False        False  \n",
       "3     7.6176         True         True  \n",
       "4  1015.6969        False        False  "
      ]
     },
     "execution_count": 60,
     "metadata": {},
     "output_type": "execute_result"
    }
   ],
   "source": [
    "data.head()"
   ]
  },
  {
   "cell_type": "code",
   "execution_count": 61,
   "metadata": {},
   "outputs": [
    {
     "data": {
      "text/plain": [
       "25"
      ]
     },
     "execution_count": 61,
     "metadata": {},
     "output_type": "execute_result"
    }
   ],
   "source": [
    "data.error_1_bis.sum()"
   ]
  },
  {
   "cell_type": "code",
   "execution_count": 62,
   "metadata": {},
   "outputs": [
    {
     "data": {
      "text/plain": [
       "26"
      ]
     },
     "execution_count": 62,
     "metadata": {},
     "output_type": "execute_result"
    }
   ],
   "source": [
    "data.error_2_bis.sum()"
   ]
  },
  {
   "cell_type": "markdown",
   "metadata": {},
   "source": [
    "This alternative metric would choose also model 2"
   ]
  },
  {
   "cell_type": "markdown",
   "metadata": {},
   "source": [
    "Lets plot our models"
   ]
  },
  {
   "cell_type": "markdown",
   "metadata": {},
   "source": [
    "$$mark =0.1*hours +10$$"
   ]
  },
  {
   "cell_type": "markdown",
   "metadata": {},
   "source": [
    "$$mark_2 =0.09*hours + 15$$"
   ]
  },
  {
   "cell_type": "code",
   "execution_count": 65,
   "metadata": {},
   "outputs": [
    {
     "data": {
      "application/javascript": [
       "/* Put everything inside the global mpl namespace */\n",
       "/* global mpl */\n",
       "window.mpl = {};\n",
       "\n",
       "mpl.get_websocket_type = function () {\n",
       "    if (typeof WebSocket !== 'undefined') {\n",
       "        return WebSocket;\n",
       "    } else if (typeof MozWebSocket !== 'undefined') {\n",
       "        return MozWebSocket;\n",
       "    } else {\n",
       "        alert(\n",
       "            'Your browser does not have WebSocket support. ' +\n",
       "                'Please try Chrome, Safari or Firefox ≥ 6. ' +\n",
       "                'Firefox 4 and 5 are also supported but you ' +\n",
       "                'have to enable WebSockets in about:config.'\n",
       "        );\n",
       "    }\n",
       "};\n",
       "\n",
       "mpl.figure = function (figure_id, websocket, ondownload, parent_element) {\n",
       "    this.id = figure_id;\n",
       "\n",
       "    this.ws = websocket;\n",
       "\n",
       "    this.supports_binary = this.ws.binaryType !== undefined;\n",
       "\n",
       "    if (!this.supports_binary) {\n",
       "        var warnings = document.getElementById('mpl-warnings');\n",
       "        if (warnings) {\n",
       "            warnings.style.display = 'block';\n",
       "            warnings.textContent =\n",
       "                'This browser does not support binary websocket messages. ' +\n",
       "                'Performance may be slow.';\n",
       "        }\n",
       "    }\n",
       "\n",
       "    this.imageObj = new Image();\n",
       "\n",
       "    this.context = undefined;\n",
       "    this.message = undefined;\n",
       "    this.canvas = undefined;\n",
       "    this.rubberband_canvas = undefined;\n",
       "    this.rubberband_context = undefined;\n",
       "    this.format_dropdown = undefined;\n",
       "\n",
       "    this.image_mode = 'full';\n",
       "\n",
       "    this.root = document.createElement('div');\n",
       "    this.root.setAttribute('style', 'display: inline-block');\n",
       "    this._root_extra_style(this.root);\n",
       "\n",
       "    parent_element.appendChild(this.root);\n",
       "\n",
       "    this._init_header(this);\n",
       "    this._init_canvas(this);\n",
       "    this._init_toolbar(this);\n",
       "\n",
       "    var fig = this;\n",
       "\n",
       "    this.waiting = false;\n",
       "\n",
       "    this.ws.onopen = function () {\n",
       "        fig.send_message('supports_binary', { value: fig.supports_binary });\n",
       "        fig.send_message('send_image_mode', {});\n",
       "        if (fig.ratio !== 1) {\n",
       "            fig.send_message('set_dpi_ratio', { dpi_ratio: fig.ratio });\n",
       "        }\n",
       "        fig.send_message('refresh', {});\n",
       "    };\n",
       "\n",
       "    this.imageObj.onload = function () {\n",
       "        if (fig.image_mode === 'full') {\n",
       "            // Full images could contain transparency (where diff images\n",
       "            // almost always do), so we need to clear the canvas so that\n",
       "            // there is no ghosting.\n",
       "            fig.context.clearRect(0, 0, fig.canvas.width, fig.canvas.height);\n",
       "        }\n",
       "        fig.context.drawImage(fig.imageObj, 0, 0);\n",
       "    };\n",
       "\n",
       "    this.imageObj.onunload = function () {\n",
       "        fig.ws.close();\n",
       "    };\n",
       "\n",
       "    this.ws.onmessage = this._make_on_message_function(this);\n",
       "\n",
       "    this.ondownload = ondownload;\n",
       "};\n",
       "\n",
       "mpl.figure.prototype._init_header = function () {\n",
       "    var titlebar = document.createElement('div');\n",
       "    titlebar.classList =\n",
       "        'ui-dialog-titlebar ui-widget-header ui-corner-all ui-helper-clearfix';\n",
       "    var titletext = document.createElement('div');\n",
       "    titletext.classList = 'ui-dialog-title';\n",
       "    titletext.setAttribute(\n",
       "        'style',\n",
       "        'width: 100%; text-align: center; padding: 3px;'\n",
       "    );\n",
       "    titlebar.appendChild(titletext);\n",
       "    this.root.appendChild(titlebar);\n",
       "    this.header = titletext;\n",
       "};\n",
       "\n",
       "mpl.figure.prototype._canvas_extra_style = function (_canvas_div) {};\n",
       "\n",
       "mpl.figure.prototype._root_extra_style = function (_canvas_div) {};\n",
       "\n",
       "mpl.figure.prototype._init_canvas = function () {\n",
       "    var fig = this;\n",
       "\n",
       "    var canvas_div = (this.canvas_div = document.createElement('div'));\n",
       "    canvas_div.setAttribute(\n",
       "        'style',\n",
       "        'border: 1px solid #ddd;' +\n",
       "            'box-sizing: content-box;' +\n",
       "            'clear: both;' +\n",
       "            'min-height: 1px;' +\n",
       "            'min-width: 1px;' +\n",
       "            'outline: 0;' +\n",
       "            'overflow: hidden;' +\n",
       "            'position: relative;' +\n",
       "            'resize: both;'\n",
       "    );\n",
       "\n",
       "    function on_keyboard_event_closure(name) {\n",
       "        return function (event) {\n",
       "            return fig.key_event(event, name);\n",
       "        };\n",
       "    }\n",
       "\n",
       "    canvas_div.addEventListener(\n",
       "        'keydown',\n",
       "        on_keyboard_event_closure('key_press')\n",
       "    );\n",
       "    canvas_div.addEventListener(\n",
       "        'keyup',\n",
       "        on_keyboard_event_closure('key_release')\n",
       "    );\n",
       "\n",
       "    this._canvas_extra_style(canvas_div);\n",
       "    this.root.appendChild(canvas_div);\n",
       "\n",
       "    var canvas = (this.canvas = document.createElement('canvas'));\n",
       "    canvas.classList.add('mpl-canvas');\n",
       "    canvas.setAttribute('style', 'box-sizing: content-box;');\n",
       "\n",
       "    this.context = canvas.getContext('2d');\n",
       "\n",
       "    var backingStore =\n",
       "        this.context.backingStorePixelRatio ||\n",
       "        this.context.webkitBackingStorePixelRatio ||\n",
       "        this.context.mozBackingStorePixelRatio ||\n",
       "        this.context.msBackingStorePixelRatio ||\n",
       "        this.context.oBackingStorePixelRatio ||\n",
       "        this.context.backingStorePixelRatio ||\n",
       "        1;\n",
       "\n",
       "    this.ratio = (window.devicePixelRatio || 1) / backingStore;\n",
       "    if (this.ratio !== 1) {\n",
       "        fig.send_message('set_dpi_ratio', { dpi_ratio: this.ratio });\n",
       "    }\n",
       "\n",
       "    var rubberband_canvas = (this.rubberband_canvas = document.createElement(\n",
       "        'canvas'\n",
       "    ));\n",
       "    rubberband_canvas.setAttribute(\n",
       "        'style',\n",
       "        'box-sizing: content-box; position: absolute; left: 0; top: 0; z-index: 1;'\n",
       "    );\n",
       "\n",
       "    var resizeObserver = new ResizeObserver(function (entries) {\n",
       "        var nentries = entries.length;\n",
       "        for (var i = 0; i < nentries; i++) {\n",
       "            var entry = entries[i];\n",
       "            var width, height;\n",
       "            if (entry.contentBoxSize) {\n",
       "                if (entry.contentBoxSize instanceof Array) {\n",
       "                    // Chrome 84 implements new version of spec.\n",
       "                    width = entry.contentBoxSize[0].inlineSize;\n",
       "                    height = entry.contentBoxSize[0].blockSize;\n",
       "                } else {\n",
       "                    // Firefox implements old version of spec.\n",
       "                    width = entry.contentBoxSize.inlineSize;\n",
       "                    height = entry.contentBoxSize.blockSize;\n",
       "                }\n",
       "            } else {\n",
       "                // Chrome <84 implements even older version of spec.\n",
       "                width = entry.contentRect.width;\n",
       "                height = entry.contentRect.height;\n",
       "            }\n",
       "\n",
       "            // Keep the size of the canvas and rubber band canvas in sync with\n",
       "            // the canvas container.\n",
       "            if (entry.devicePixelContentBoxSize) {\n",
       "                // Chrome 84 implements new version of spec.\n",
       "                canvas.setAttribute(\n",
       "                    'width',\n",
       "                    entry.devicePixelContentBoxSize[0].inlineSize\n",
       "                );\n",
       "                canvas.setAttribute(\n",
       "                    'height',\n",
       "                    entry.devicePixelContentBoxSize[0].blockSize\n",
       "                );\n",
       "            } else {\n",
       "                canvas.setAttribute('width', width * fig.ratio);\n",
       "                canvas.setAttribute('height', height * fig.ratio);\n",
       "            }\n",
       "            canvas.setAttribute(\n",
       "                'style',\n",
       "                'width: ' + width + 'px; height: ' + height + 'px;'\n",
       "            );\n",
       "\n",
       "            rubberband_canvas.setAttribute('width', width);\n",
       "            rubberband_canvas.setAttribute('height', height);\n",
       "\n",
       "            // And update the size in Python. We ignore the initial 0/0 size\n",
       "            // that occurs as the element is placed into the DOM, which should\n",
       "            // otherwise not happen due to the minimum size styling.\n",
       "            if (width != 0 && height != 0) {\n",
       "                fig.request_resize(width, height);\n",
       "            }\n",
       "        }\n",
       "    });\n",
       "    resizeObserver.observe(canvas_div);\n",
       "\n",
       "    function on_mouse_event_closure(name) {\n",
       "        return function (event) {\n",
       "            return fig.mouse_event(event, name);\n",
       "        };\n",
       "    }\n",
       "\n",
       "    rubberband_canvas.addEventListener(\n",
       "        'mousedown',\n",
       "        on_mouse_event_closure('button_press')\n",
       "    );\n",
       "    rubberband_canvas.addEventListener(\n",
       "        'mouseup',\n",
       "        on_mouse_event_closure('button_release')\n",
       "    );\n",
       "    // Throttle sequential mouse events to 1 every 20ms.\n",
       "    rubberband_canvas.addEventListener(\n",
       "        'mousemove',\n",
       "        on_mouse_event_closure('motion_notify')\n",
       "    );\n",
       "\n",
       "    rubberband_canvas.addEventListener(\n",
       "        'mouseenter',\n",
       "        on_mouse_event_closure('figure_enter')\n",
       "    );\n",
       "    rubberband_canvas.addEventListener(\n",
       "        'mouseleave',\n",
       "        on_mouse_event_closure('figure_leave')\n",
       "    );\n",
       "\n",
       "    canvas_div.addEventListener('wheel', function (event) {\n",
       "        if (event.deltaY < 0) {\n",
       "            event.step = 1;\n",
       "        } else {\n",
       "            event.step = -1;\n",
       "        }\n",
       "        on_mouse_event_closure('scroll')(event);\n",
       "    });\n",
       "\n",
       "    canvas_div.appendChild(canvas);\n",
       "    canvas_div.appendChild(rubberband_canvas);\n",
       "\n",
       "    this.rubberband_context = rubberband_canvas.getContext('2d');\n",
       "    this.rubberband_context.strokeStyle = '#000000';\n",
       "\n",
       "    this._resize_canvas = function (width, height, forward) {\n",
       "        if (forward) {\n",
       "            canvas_div.style.width = width + 'px';\n",
       "            canvas_div.style.height = height + 'px';\n",
       "        }\n",
       "    };\n",
       "\n",
       "    // Disable right mouse context menu.\n",
       "    this.rubberband_canvas.addEventListener('contextmenu', function (_e) {\n",
       "        event.preventDefault();\n",
       "        return false;\n",
       "    });\n",
       "\n",
       "    function set_focus() {\n",
       "        canvas.focus();\n",
       "        canvas_div.focus();\n",
       "    }\n",
       "\n",
       "    window.setTimeout(set_focus, 100);\n",
       "};\n",
       "\n",
       "mpl.figure.prototype._init_toolbar = function () {\n",
       "    var fig = this;\n",
       "\n",
       "    var toolbar = document.createElement('div');\n",
       "    toolbar.classList = 'mpl-toolbar';\n",
       "    this.root.appendChild(toolbar);\n",
       "\n",
       "    function on_click_closure(name) {\n",
       "        return function (_event) {\n",
       "            return fig.toolbar_button_onclick(name);\n",
       "        };\n",
       "    }\n",
       "\n",
       "    function on_mouseover_closure(tooltip) {\n",
       "        return function (event) {\n",
       "            if (!event.currentTarget.disabled) {\n",
       "                return fig.toolbar_button_onmouseover(tooltip);\n",
       "            }\n",
       "        };\n",
       "    }\n",
       "\n",
       "    fig.buttons = {};\n",
       "    var buttonGroup = document.createElement('div');\n",
       "    buttonGroup.classList = 'mpl-button-group';\n",
       "    for (var toolbar_ind in mpl.toolbar_items) {\n",
       "        var name = mpl.toolbar_items[toolbar_ind][0];\n",
       "        var tooltip = mpl.toolbar_items[toolbar_ind][1];\n",
       "        var image = mpl.toolbar_items[toolbar_ind][2];\n",
       "        var method_name = mpl.toolbar_items[toolbar_ind][3];\n",
       "\n",
       "        if (!name) {\n",
       "            /* Instead of a spacer, we start a new button group. */\n",
       "            if (buttonGroup.hasChildNodes()) {\n",
       "                toolbar.appendChild(buttonGroup);\n",
       "            }\n",
       "            buttonGroup = document.createElement('div');\n",
       "            buttonGroup.classList = 'mpl-button-group';\n",
       "            continue;\n",
       "        }\n",
       "\n",
       "        var button = (fig.buttons[name] = document.createElement('button'));\n",
       "        button.classList = 'mpl-widget';\n",
       "        button.setAttribute('role', 'button');\n",
       "        button.setAttribute('aria-disabled', 'false');\n",
       "        button.addEventListener('click', on_click_closure(method_name));\n",
       "        button.addEventListener('mouseover', on_mouseover_closure(tooltip));\n",
       "\n",
       "        var icon_img = document.createElement('img');\n",
       "        icon_img.src = '_images/' + image + '.png';\n",
       "        icon_img.srcset = '_images/' + image + '_large.png 2x';\n",
       "        icon_img.alt = tooltip;\n",
       "        button.appendChild(icon_img);\n",
       "\n",
       "        buttonGroup.appendChild(button);\n",
       "    }\n",
       "\n",
       "    if (buttonGroup.hasChildNodes()) {\n",
       "        toolbar.appendChild(buttonGroup);\n",
       "    }\n",
       "\n",
       "    var fmt_picker = document.createElement('select');\n",
       "    fmt_picker.classList = 'mpl-widget';\n",
       "    toolbar.appendChild(fmt_picker);\n",
       "    this.format_dropdown = fmt_picker;\n",
       "\n",
       "    for (var ind in mpl.extensions) {\n",
       "        var fmt = mpl.extensions[ind];\n",
       "        var option = document.createElement('option');\n",
       "        option.selected = fmt === mpl.default_extension;\n",
       "        option.innerHTML = fmt;\n",
       "        fmt_picker.appendChild(option);\n",
       "    }\n",
       "\n",
       "    var status_bar = document.createElement('span');\n",
       "    status_bar.classList = 'mpl-message';\n",
       "    toolbar.appendChild(status_bar);\n",
       "    this.message = status_bar;\n",
       "};\n",
       "\n",
       "mpl.figure.prototype.request_resize = function (x_pixels, y_pixels) {\n",
       "    // Request matplotlib to resize the figure. Matplotlib will then trigger a resize in the client,\n",
       "    // which will in turn request a refresh of the image.\n",
       "    this.send_message('resize', { width: x_pixels, height: y_pixels });\n",
       "};\n",
       "\n",
       "mpl.figure.prototype.send_message = function (type, properties) {\n",
       "    properties['type'] = type;\n",
       "    properties['figure_id'] = this.id;\n",
       "    this.ws.send(JSON.stringify(properties));\n",
       "};\n",
       "\n",
       "mpl.figure.prototype.send_draw_message = function () {\n",
       "    if (!this.waiting) {\n",
       "        this.waiting = true;\n",
       "        this.ws.send(JSON.stringify({ type: 'draw', figure_id: this.id }));\n",
       "    }\n",
       "};\n",
       "\n",
       "mpl.figure.prototype.handle_save = function (fig, _msg) {\n",
       "    var format_dropdown = fig.format_dropdown;\n",
       "    var format = format_dropdown.options[format_dropdown.selectedIndex].value;\n",
       "    fig.ondownload(fig, format);\n",
       "};\n",
       "\n",
       "mpl.figure.prototype.handle_resize = function (fig, msg) {\n",
       "    var size = msg['size'];\n",
       "    if (size[0] !== fig.canvas.width || size[1] !== fig.canvas.height) {\n",
       "        fig._resize_canvas(size[0], size[1], msg['forward']);\n",
       "        fig.send_message('refresh', {});\n",
       "    }\n",
       "};\n",
       "\n",
       "mpl.figure.prototype.handle_rubberband = function (fig, msg) {\n",
       "    var x0 = msg['x0'] / fig.ratio;\n",
       "    var y0 = (fig.canvas.height - msg['y0']) / fig.ratio;\n",
       "    var x1 = msg['x1'] / fig.ratio;\n",
       "    var y1 = (fig.canvas.height - msg['y1']) / fig.ratio;\n",
       "    x0 = Math.floor(x0) + 0.5;\n",
       "    y0 = Math.floor(y0) + 0.5;\n",
       "    x1 = Math.floor(x1) + 0.5;\n",
       "    y1 = Math.floor(y1) + 0.5;\n",
       "    var min_x = Math.min(x0, x1);\n",
       "    var min_y = Math.min(y0, y1);\n",
       "    var width = Math.abs(x1 - x0);\n",
       "    var height = Math.abs(y1 - y0);\n",
       "\n",
       "    fig.rubberband_context.clearRect(\n",
       "        0,\n",
       "        0,\n",
       "        fig.canvas.width / fig.ratio,\n",
       "        fig.canvas.height / fig.ratio\n",
       "    );\n",
       "\n",
       "    fig.rubberband_context.strokeRect(min_x, min_y, width, height);\n",
       "};\n",
       "\n",
       "mpl.figure.prototype.handle_figure_label = function (fig, msg) {\n",
       "    // Updates the figure title.\n",
       "    fig.header.textContent = msg['label'];\n",
       "};\n",
       "\n",
       "mpl.figure.prototype.handle_cursor = function (fig, msg) {\n",
       "    var cursor = msg['cursor'];\n",
       "    switch (cursor) {\n",
       "        case 0:\n",
       "            cursor = 'pointer';\n",
       "            break;\n",
       "        case 1:\n",
       "            cursor = 'default';\n",
       "            break;\n",
       "        case 2:\n",
       "            cursor = 'crosshair';\n",
       "            break;\n",
       "        case 3:\n",
       "            cursor = 'move';\n",
       "            break;\n",
       "    }\n",
       "    fig.rubberband_canvas.style.cursor = cursor;\n",
       "};\n",
       "\n",
       "mpl.figure.prototype.handle_message = function (fig, msg) {\n",
       "    fig.message.textContent = msg['message'];\n",
       "};\n",
       "\n",
       "mpl.figure.prototype.handle_draw = function (fig, _msg) {\n",
       "    // Request the server to send over a new figure.\n",
       "    fig.send_draw_message();\n",
       "};\n",
       "\n",
       "mpl.figure.prototype.handle_image_mode = function (fig, msg) {\n",
       "    fig.image_mode = msg['mode'];\n",
       "};\n",
       "\n",
       "mpl.figure.prototype.handle_history_buttons = function (fig, msg) {\n",
       "    for (var key in msg) {\n",
       "        if (!(key in fig.buttons)) {\n",
       "            continue;\n",
       "        }\n",
       "        fig.buttons[key].disabled = !msg[key];\n",
       "        fig.buttons[key].setAttribute('aria-disabled', !msg[key]);\n",
       "    }\n",
       "};\n",
       "\n",
       "mpl.figure.prototype.handle_navigate_mode = function (fig, msg) {\n",
       "    if (msg['mode'] === 'PAN') {\n",
       "        fig.buttons['Pan'].classList.add('active');\n",
       "        fig.buttons['Zoom'].classList.remove('active');\n",
       "    } else if (msg['mode'] === 'ZOOM') {\n",
       "        fig.buttons['Pan'].classList.remove('active');\n",
       "        fig.buttons['Zoom'].classList.add('active');\n",
       "    } else {\n",
       "        fig.buttons['Pan'].classList.remove('active');\n",
       "        fig.buttons['Zoom'].classList.remove('active');\n",
       "    }\n",
       "};\n",
       "\n",
       "mpl.figure.prototype.updated_canvas_event = function () {\n",
       "    // Called whenever the canvas gets updated.\n",
       "    this.send_message('ack', {});\n",
       "};\n",
       "\n",
       "// A function to construct a web socket function for onmessage handling.\n",
       "// Called in the figure constructor.\n",
       "mpl.figure.prototype._make_on_message_function = function (fig) {\n",
       "    return function socket_on_message(evt) {\n",
       "        if (evt.data instanceof Blob) {\n",
       "            /* FIXME: We get \"Resource interpreted as Image but\n",
       "             * transferred with MIME type text/plain:\" errors on\n",
       "             * Chrome.  But how to set the MIME type?  It doesn't seem\n",
       "             * to be part of the websocket stream */\n",
       "            evt.data.type = 'image/png';\n",
       "\n",
       "            /* Free the memory for the previous frames */\n",
       "            if (fig.imageObj.src) {\n",
       "                (window.URL || window.webkitURL).revokeObjectURL(\n",
       "                    fig.imageObj.src\n",
       "                );\n",
       "            }\n",
       "\n",
       "            fig.imageObj.src = (window.URL || window.webkitURL).createObjectURL(\n",
       "                evt.data\n",
       "            );\n",
       "            fig.updated_canvas_event();\n",
       "            fig.waiting = false;\n",
       "            return;\n",
       "        } else if (\n",
       "            typeof evt.data === 'string' &&\n",
       "            evt.data.slice(0, 21) === 'data:image/png;base64'\n",
       "        ) {\n",
       "            fig.imageObj.src = evt.data;\n",
       "            fig.updated_canvas_event();\n",
       "            fig.waiting = false;\n",
       "            return;\n",
       "        }\n",
       "\n",
       "        var msg = JSON.parse(evt.data);\n",
       "        var msg_type = msg['type'];\n",
       "\n",
       "        // Call the  \"handle_{type}\" callback, which takes\n",
       "        // the figure and JSON message as its only arguments.\n",
       "        try {\n",
       "            var callback = fig['handle_' + msg_type];\n",
       "        } catch (e) {\n",
       "            console.log(\n",
       "                \"No handler for the '\" + msg_type + \"' message type: \",\n",
       "                msg\n",
       "            );\n",
       "            return;\n",
       "        }\n",
       "\n",
       "        if (callback) {\n",
       "            try {\n",
       "                // console.log(\"Handling '\" + msg_type + \"' message: \", msg);\n",
       "                callback(fig, msg);\n",
       "            } catch (e) {\n",
       "                console.log(\n",
       "                    \"Exception inside the 'handler_\" + msg_type + \"' callback:\",\n",
       "                    e,\n",
       "                    e.stack,\n",
       "                    msg\n",
       "                );\n",
       "            }\n",
       "        }\n",
       "    };\n",
       "};\n",
       "\n",
       "// from http://stackoverflow.com/questions/1114465/getting-mouse-location-in-canvas\n",
       "mpl.findpos = function (e) {\n",
       "    //this section is from http://www.quirksmode.org/js/events_properties.html\n",
       "    var targ;\n",
       "    if (!e) {\n",
       "        e = window.event;\n",
       "    }\n",
       "    if (e.target) {\n",
       "        targ = e.target;\n",
       "    } else if (e.srcElement) {\n",
       "        targ = e.srcElement;\n",
       "    }\n",
       "    if (targ.nodeType === 3) {\n",
       "        // defeat Safari bug\n",
       "        targ = targ.parentNode;\n",
       "    }\n",
       "\n",
       "    // pageX,Y are the mouse positions relative to the document\n",
       "    var boundingRect = targ.getBoundingClientRect();\n",
       "    var x = e.pageX - (boundingRect.left + document.body.scrollLeft);\n",
       "    var y = e.pageY - (boundingRect.top + document.body.scrollTop);\n",
       "\n",
       "    return { x: x, y: y };\n",
       "};\n",
       "\n",
       "/*\n",
       " * return a copy of an object with only non-object keys\n",
       " * we need this to avoid circular references\n",
       " * http://stackoverflow.com/a/24161582/3208463\n",
       " */\n",
       "function simpleKeys(original) {\n",
       "    return Object.keys(original).reduce(function (obj, key) {\n",
       "        if (typeof original[key] !== 'object') {\n",
       "            obj[key] = original[key];\n",
       "        }\n",
       "        return obj;\n",
       "    }, {});\n",
       "}\n",
       "\n",
       "mpl.figure.prototype.mouse_event = function (event, name) {\n",
       "    var canvas_pos = mpl.findpos(event);\n",
       "\n",
       "    if (name === 'button_press') {\n",
       "        this.canvas.focus();\n",
       "        this.canvas_div.focus();\n",
       "    }\n",
       "\n",
       "    var x = canvas_pos.x * this.ratio;\n",
       "    var y = canvas_pos.y * this.ratio;\n",
       "\n",
       "    this.send_message(name, {\n",
       "        x: x,\n",
       "        y: y,\n",
       "        button: event.button,\n",
       "        step: event.step,\n",
       "        guiEvent: simpleKeys(event),\n",
       "    });\n",
       "\n",
       "    /* This prevents the web browser from automatically changing to\n",
       "     * the text insertion cursor when the button is pressed.  We want\n",
       "     * to control all of the cursor setting manually through the\n",
       "     * 'cursor' event from matplotlib */\n",
       "    event.preventDefault();\n",
       "    return false;\n",
       "};\n",
       "\n",
       "mpl.figure.prototype._key_event_extra = function (_event, _name) {\n",
       "    // Handle any extra behaviour associated with a key event\n",
       "};\n",
       "\n",
       "mpl.figure.prototype.key_event = function (event, name) {\n",
       "    // Prevent repeat events\n",
       "    if (name === 'key_press') {\n",
       "        if (event.which === this._key) {\n",
       "            return;\n",
       "        } else {\n",
       "            this._key = event.which;\n",
       "        }\n",
       "    }\n",
       "    if (name === 'key_release') {\n",
       "        this._key = null;\n",
       "    }\n",
       "\n",
       "    var value = '';\n",
       "    if (event.ctrlKey && event.which !== 17) {\n",
       "        value += 'ctrl+';\n",
       "    }\n",
       "    if (event.altKey && event.which !== 18) {\n",
       "        value += 'alt+';\n",
       "    }\n",
       "    if (event.shiftKey && event.which !== 16) {\n",
       "        value += 'shift+';\n",
       "    }\n",
       "\n",
       "    value += 'k';\n",
       "    value += event.which.toString();\n",
       "\n",
       "    this._key_event_extra(event, name);\n",
       "\n",
       "    this.send_message(name, { key: value, guiEvent: simpleKeys(event) });\n",
       "    return false;\n",
       "};\n",
       "\n",
       "mpl.figure.prototype.toolbar_button_onclick = function (name) {\n",
       "    if (name === 'download') {\n",
       "        this.handle_save(this, null);\n",
       "    } else {\n",
       "        this.send_message('toolbar_button', { name: name });\n",
       "    }\n",
       "};\n",
       "\n",
       "mpl.figure.prototype.toolbar_button_onmouseover = function (tooltip) {\n",
       "    this.message.textContent = tooltip;\n",
       "};\n",
       "mpl.toolbar_items = [[\"Home\", \"Reset original view\", \"fa fa-home icon-home\", \"home\"], [\"Back\", \"Back to previous view\", \"fa fa-arrow-left icon-arrow-left\", \"back\"], [\"Forward\", \"Forward to next view\", \"fa fa-arrow-right icon-arrow-right\", \"forward\"], [\"\", \"\", \"\", \"\"], [\"Pan\", \"Left button pans, Right button zooms\\nx/y fixes axis, CTRL fixes aspect\", \"fa fa-arrows icon-move\", \"pan\"], [\"Zoom\", \"Zoom to rectangle\\nx/y fixes axis, CTRL fixes aspect\", \"fa fa-square-o icon-check-empty\", \"zoom\"], [\"\", \"\", \"\", \"\"], [\"Download\", \"Download plot\", \"fa fa-floppy-o icon-save\", \"download\"]];\n",
       "\n",
       "mpl.extensions = [\"eps\", \"jpeg\", \"pdf\", \"png\", \"ps\", \"raw\", \"svg\", \"tif\"];\n",
       "\n",
       "mpl.default_extension = \"png\";/* global mpl */\n",
       "\n",
       "var comm_websocket_adapter = function (comm) {\n",
       "    // Create a \"websocket\"-like object which calls the given IPython comm\n",
       "    // object with the appropriate methods. Currently this is a non binary\n",
       "    // socket, so there is still some room for performance tuning.\n",
       "    var ws = {};\n",
       "\n",
       "    ws.close = function () {\n",
       "        comm.close();\n",
       "    };\n",
       "    ws.send = function (m) {\n",
       "        //console.log('sending', m);\n",
       "        comm.send(m);\n",
       "    };\n",
       "    // Register the callback with on_msg.\n",
       "    comm.on_msg(function (msg) {\n",
       "        //console.log('receiving', msg['content']['data'], msg);\n",
       "        // Pass the mpl event to the overridden (by mpl) onmessage function.\n",
       "        ws.onmessage(msg['content']['data']);\n",
       "    });\n",
       "    return ws;\n",
       "};\n",
       "\n",
       "mpl.mpl_figure_comm = function (comm, msg) {\n",
       "    // This is the function which gets called when the mpl process\n",
       "    // starts-up an IPython Comm through the \"matplotlib\" channel.\n",
       "\n",
       "    var id = msg.content.data.id;\n",
       "    // Get hold of the div created by the display call when the Comm\n",
       "    // socket was opened in Python.\n",
       "    var element = document.getElementById(id);\n",
       "    var ws_proxy = comm_websocket_adapter(comm);\n",
       "\n",
       "    function ondownload(figure, _format) {\n",
       "        window.open(figure.canvas.toDataURL());\n",
       "    }\n",
       "\n",
       "    var fig = new mpl.figure(id, ws_proxy, ondownload, element);\n",
       "\n",
       "    // Call onopen now - mpl needs it, as it is assuming we've passed it a real\n",
       "    // web socket which is closed, not our websocket->open comm proxy.\n",
       "    ws_proxy.onopen();\n",
       "\n",
       "    fig.parent_element = element;\n",
       "    fig.cell_info = mpl.find_output_cell(\"<div id='\" + id + \"'></div>\");\n",
       "    if (!fig.cell_info) {\n",
       "        console.error('Failed to find cell for figure', id, fig);\n",
       "        return;\n",
       "    }\n",
       "    fig.cell_info[0].output_area.element.one(\n",
       "        'cleared',\n",
       "        { fig: fig },\n",
       "        fig._remove_fig_handler\n",
       "    );\n",
       "};\n",
       "\n",
       "mpl.figure.prototype.handle_close = function (fig, msg) {\n",
       "    var width = fig.canvas.width / fig.ratio;\n",
       "    fig.cell_info[0].output_area.element.off(\n",
       "        'cleared',\n",
       "        fig._remove_fig_handler\n",
       "    );\n",
       "\n",
       "    // Update the output cell to use the data from the current canvas.\n",
       "    fig.push_to_output();\n",
       "    var dataURL = fig.canvas.toDataURL();\n",
       "    // Re-enable the keyboard manager in IPython - without this line, in FF,\n",
       "    // the notebook keyboard shortcuts fail.\n",
       "    IPython.keyboard_manager.enable();\n",
       "    fig.parent_element.innerHTML =\n",
       "        '<img src=\"' + dataURL + '\" width=\"' + width + '\">';\n",
       "    fig.close_ws(fig, msg);\n",
       "};\n",
       "\n",
       "mpl.figure.prototype.close_ws = function (fig, msg) {\n",
       "    fig.send_message('closing', msg);\n",
       "    // fig.ws.close()\n",
       "};\n",
       "\n",
       "mpl.figure.prototype.push_to_output = function (_remove_interactive) {\n",
       "    // Turn the data on the canvas into data in the output cell.\n",
       "    var width = this.canvas.width / this.ratio;\n",
       "    var dataURL = this.canvas.toDataURL();\n",
       "    this.cell_info[1]['text/html'] =\n",
       "        '<img src=\"' + dataURL + '\" width=\"' + width + '\">';\n",
       "};\n",
       "\n",
       "mpl.figure.prototype.updated_canvas_event = function () {\n",
       "    // Tell IPython that the notebook contents must change.\n",
       "    IPython.notebook.set_dirty(true);\n",
       "    this.send_message('ack', {});\n",
       "    var fig = this;\n",
       "    // Wait a second, then push the new image to the DOM so\n",
       "    // that it is saved nicely (might be nice to debounce this).\n",
       "    setTimeout(function () {\n",
       "        fig.push_to_output();\n",
       "    }, 1000);\n",
       "};\n",
       "\n",
       "mpl.figure.prototype._init_toolbar = function () {\n",
       "    var fig = this;\n",
       "\n",
       "    var toolbar = document.createElement('div');\n",
       "    toolbar.classList = 'btn-toolbar';\n",
       "    this.root.appendChild(toolbar);\n",
       "\n",
       "    function on_click_closure(name) {\n",
       "        return function (_event) {\n",
       "            return fig.toolbar_button_onclick(name);\n",
       "        };\n",
       "    }\n",
       "\n",
       "    function on_mouseover_closure(tooltip) {\n",
       "        return function (event) {\n",
       "            if (!event.currentTarget.disabled) {\n",
       "                return fig.toolbar_button_onmouseover(tooltip);\n",
       "            }\n",
       "        };\n",
       "    }\n",
       "\n",
       "    fig.buttons = {};\n",
       "    var buttonGroup = document.createElement('div');\n",
       "    buttonGroup.classList = 'btn-group';\n",
       "    var button;\n",
       "    for (var toolbar_ind in mpl.toolbar_items) {\n",
       "        var name = mpl.toolbar_items[toolbar_ind][0];\n",
       "        var tooltip = mpl.toolbar_items[toolbar_ind][1];\n",
       "        var image = mpl.toolbar_items[toolbar_ind][2];\n",
       "        var method_name = mpl.toolbar_items[toolbar_ind][3];\n",
       "\n",
       "        if (!name) {\n",
       "            /* Instead of a spacer, we start a new button group. */\n",
       "            if (buttonGroup.hasChildNodes()) {\n",
       "                toolbar.appendChild(buttonGroup);\n",
       "            }\n",
       "            buttonGroup = document.createElement('div');\n",
       "            buttonGroup.classList = 'btn-group';\n",
       "            continue;\n",
       "        }\n",
       "\n",
       "        button = fig.buttons[name] = document.createElement('button');\n",
       "        button.classList = 'btn btn-default';\n",
       "        button.href = '#';\n",
       "        button.title = name;\n",
       "        button.innerHTML = '<i class=\"fa ' + image + ' fa-lg\"></i>';\n",
       "        button.addEventListener('click', on_click_closure(method_name));\n",
       "        button.addEventListener('mouseover', on_mouseover_closure(tooltip));\n",
       "        buttonGroup.appendChild(button);\n",
       "    }\n",
       "\n",
       "    if (buttonGroup.hasChildNodes()) {\n",
       "        toolbar.appendChild(buttonGroup);\n",
       "    }\n",
       "\n",
       "    // Add the status bar.\n",
       "    var status_bar = document.createElement('span');\n",
       "    status_bar.classList = 'mpl-message pull-right';\n",
       "    toolbar.appendChild(status_bar);\n",
       "    this.message = status_bar;\n",
       "\n",
       "    // Add the close button to the window.\n",
       "    var buttongrp = document.createElement('div');\n",
       "    buttongrp.classList = 'btn-group inline pull-right';\n",
       "    button = document.createElement('button');\n",
       "    button.classList = 'btn btn-mini btn-primary';\n",
       "    button.href = '#';\n",
       "    button.title = 'Stop Interaction';\n",
       "    button.innerHTML = '<i class=\"fa fa-power-off icon-remove icon-large\"></i>';\n",
       "    button.addEventListener('click', function (_evt) {\n",
       "        fig.handle_close(fig, {});\n",
       "    });\n",
       "    button.addEventListener(\n",
       "        'mouseover',\n",
       "        on_mouseover_closure('Stop Interaction')\n",
       "    );\n",
       "    buttongrp.appendChild(button);\n",
       "    var titlebar = this.root.querySelector('.ui-dialog-titlebar');\n",
       "    titlebar.insertBefore(buttongrp, titlebar.firstChild);\n",
       "};\n",
       "\n",
       "mpl.figure.prototype._remove_fig_handler = function (event) {\n",
       "    var fig = event.data.fig;\n",
       "    fig.close_ws(fig, {});\n",
       "};\n",
       "\n",
       "mpl.figure.prototype._root_extra_style = function (el) {\n",
       "    el.style.boxSizing = 'content-box'; // override notebook setting of border-box.\n",
       "};\n",
       "\n",
       "mpl.figure.prototype._canvas_extra_style = function (el) {\n",
       "    // this is important to make the div 'focusable\n",
       "    el.setAttribute('tabindex', 0);\n",
       "    // reach out to IPython and tell the keyboard manager to turn it's self\n",
       "    // off when our div gets focus\n",
       "\n",
       "    // location in version 3\n",
       "    if (IPython.notebook.keyboard_manager) {\n",
       "        IPython.notebook.keyboard_manager.register_events(el);\n",
       "    } else {\n",
       "        // location in version 2\n",
       "        IPython.keyboard_manager.register_events(el);\n",
       "    }\n",
       "};\n",
       "\n",
       "mpl.figure.prototype._key_event_extra = function (event, _name) {\n",
       "    var manager = IPython.notebook.keyboard_manager;\n",
       "    if (!manager) {\n",
       "        manager = IPython.keyboard_manager;\n",
       "    }\n",
       "\n",
       "    // Check for shift+enter\n",
       "    if (event.shiftKey && event.which === 13) {\n",
       "        this.canvas_div.blur();\n",
       "        // select the cell after this one\n",
       "        var index = IPython.notebook.find_cell_index(this.cell_info[0]);\n",
       "        IPython.notebook.select(index + 1);\n",
       "    }\n",
       "};\n",
       "\n",
       "mpl.figure.prototype.handle_save = function (fig, _msg) {\n",
       "    fig.ondownload(fig, null);\n",
       "};\n",
       "\n",
       "mpl.find_output_cell = function (html_output) {\n",
       "    // Return the cell and output element which can be found *uniquely* in the notebook.\n",
       "    // Note - this is a bit hacky, but it is done because the \"notebook_saving.Notebook\"\n",
       "    // IPython event is triggered only after the cells have been serialised, which for\n",
       "    // our purposes (turning an active figure into a static one), is too late.\n",
       "    var cells = IPython.notebook.get_cells();\n",
       "    var ncells = cells.length;\n",
       "    for (var i = 0; i < ncells; i++) {\n",
       "        var cell = cells[i];\n",
       "        if (cell.cell_type === 'code') {\n",
       "            for (var j = 0; j < cell.output_area.outputs.length; j++) {\n",
       "                var data = cell.output_area.outputs[j];\n",
       "                if (data.data) {\n",
       "                    // IPython >= 3 moved mimebundle to data attribute of output\n",
       "                    data = data.data;\n",
       "                }\n",
       "                if (data['text/html'] === html_output) {\n",
       "                    return [cell, data, j];\n",
       "                }\n",
       "            }\n",
       "        }\n",
       "    }\n",
       "};\n",
       "\n",
       "// Register the function which deals with the matplotlib target/channel.\n",
       "// The kernel may be null if the page has been refreshed.\n",
       "if (IPython.notebook.kernel !== null) {\n",
       "    IPython.notebook.kernel.comm_manager.register_target(\n",
       "        'matplotlib',\n",
       "        mpl.mpl_figure_comm\n",
       "    );\n",
       "}\n"
      ],
      "text/plain": [
       "<IPython.core.display.Javascript object>"
      ]
     },
     "metadata": {},
     "output_type": "display_data"
    },
    {
     "data": {
      "text/html": [
       "<img src=\"data:image/png;base64,iVBORw0KGgoAAAANSUhEUgAAAyAAAAJYCAYAAACadoJwAAAAAXNSR0IArs4c6QAAIABJREFUeF7snQucldP6x5+5NDVGTTepVEauRUU41MghcitHxXFQjlwSucQ5JxS6HSlxKORO7pc/KtdCLseRyImU5IRIapRU0+k+zcz/s172nJlpv3u/715rv3u9e3/fz6cP2ut91rO+z7PH+s1az1pZlZWVlcIDAQhAAAIQgAAEIAABCEAgAAJZCJAAKNMFBCAAAQhAAAIQgAAEIOAQQICQCBCAAAQgAAEIQAACEIBAYAQQIIGhpiMIQAACEIAABCAAAQhAAAFCDkAAAhCAAAQgAAEIQAACgRFAgASGmo4gAAEIQAACEIAABCAAAQQIOQABCEAAAhCAAAQgAAEIBEYAARIYajqCAAQgAAEIQAACEIAABBAg5AAEIAABCEAAAhCAAAQgEBgBBEhgqOkIAhCAAAQgAAEIQAACEECAkAMQgAAEIAABCEAAAhCAQGAEECCBoaYjCEAAAhCAAAQgAAEIQAABQg5AAAIQgAAEIAABCEAAAoERQIAEhpqOIAABCEAAAhCAAAQgAAEECDkAAQhAAAIQgAAEIAABCARGAAESGGo6ggAEIAABCEAAAhCAAAQQIOQABCAAAQhAAAIQgAAEIBAYAQRIYKjpCAIQgAAEIAABCEAAAhBAgJADEIAABCAAAQhAAAIQgEBgBBAggaGmIwhAAAIQgAAEIAABCEAAAUIOQAACEIAABCAAAQhAAAKBEUCABIaajiAAAQhAAAIQgAAEIAABBAg5AAEIQAACEIAABCAAAQgERgABEhhqOoIABCAAAQhAAAIQgAAEECDkAAQgAAEIQAACEIAABCAQGAEESGCo6QgCEIAABCAAAQhAAAIQQICQAxCAAAQgAAEIQAACEIBAYAQQIIGhpiMIQAACEIAABCAAAQhAAAFCDkAAAhCAAAQgAAEIQAACgRFAgASGmo4gAAEIQAACEIAABCAAAQQIOQABCEAAAhCAAAQgAAEIBEYAARIYajqCAAQgAAEIQAACEIAABBAg5AAEIAABCEAAAhCAAAQgEBgBBEhgqOkIAhCAAAQgAAEIQAACEECAkAMQgAAEIAABCEAAAhCAQGAEECCBoaYjCEAAAhCAAAQgAAEIQAABQg5AAAIQgAAEIAABCEAAAoERQIAEhpqOIAABCEAAAhCAAAQgAAEECDkAAQhAAAIQgAAEIAABCARGAAESGGo6ggAEIAABCEAAAhCAAAQQIOQABCAAAQhAAAIQgAAEIBAYAQRIYKjpCAIQgAAEIAABCEAAAhBAgJADEIAABCAAAQhAAAIQgEBgBBAggaGmIwhAAAIQgAAEIAABCEAAAUIOQAACEIAABCAAAQhAAAKBEUCABIaajiAAAQhAAAIQgAAEIAABBAg5AAEIQAACEIAABCAAAQgERgABEhhqOoIABCAAAQhAAAIQgAAEECDkAAQgAAEIQAACEIAABCAQGAEESGCo6QgCEIAABCAAAQhAAAIQQICQAxCAAAQgAAEIQAACEIBAYAQQIIGhpiMIQAACEIAABCAAAQhAAAFCDkAAAhCAAAQgAAEIQAACgRFAgASGmo4gAAEIQAACEIAABCAAAQQIOQABCEAAAhCAAAQgAAEIBEYAARIYajqCAAQgAAEIQAACEIAABBAg5AAEIAABCEAAAhCAAAQgEBgBBEhgqOkIAhCAAAQgAAEIQAACEECAkAMQgAAEIAABCEAAAhCAQGAEECCBoaYjCEAAAhCAAAQgAAEIQAABQg5AAAIQgAAEIAABCEAAAoERQIAEhpqOIAABCEAAAhCAAAQgAAEECDkAAQhAAAIQgAAEIAABCARGAAESGGo6ggAEIAABCEAAAhCAAAQQIOQABCAAAQhAAAIQgAAEIBAYAQRIYKjpCAIQgAAEIAABCEAAAhBAgJADEIAABCAAAQhAAAIQgEBgBBAggaGmIwhAAAIQgAAEIAABCEAAAUIOQAACEIAABCAAAQhAAAKBEUCABIaajiAAAQhAAAIQgAAEIAABBAg5AAEIQAACEIAABCAAAQgERgABEhjq+B2tWbNG3njjDSkqKpL8/Pz4L9ACAhCAAAQgAAEIQCBQAlu2bJHvv/9eTjzxRGnatGmgfadLZwgQiyL51FNPSf/+/S3yCFcgAAEIQAACEIAABKIRePLJJ6Vfv37ASYAAAiQBaMl6Zfbs2XLUUUeJSuh27dolqxvsQgACEIAABCAAAQgkSGDx4sXOL4w/+OADKS4uTtBKZr+GALEo/p9++qkceuihMm/ePOncubNFnuEKBCAAAQhAAAIQgIAiwHxNPw8QIPoMjVkgoY2hxBAEIAABCEAAAhBICgHma/pYESD6DI1ZIKGNocQQBCAAAQhAAAIQSAoB5mv6WBEg+gyNWSChjaHEEAQgAAEIQAACEEgKAeZr+lgRIPoMjVkgoY2hxBAEIAABCEAAAhBICgHma/pYESD6DI1ZIKGNocQQBCAAAQhAAAIQSAoB5mv6WBEg+gyNWfCa0OXl5bJq1SrZunWrVFRUGOsfQ8EQyM7OltzcXGnQoIEUFhZKVlZWMB3TCwQgAAEIQAAC2gS8zte0O0pjAwgQi4LrJaGV+Pjhhx8c8aEmsjk5ORaNAFe8EFCiUcVRPfXq1ZPWrVs7goQHAhCAAAQgAAH7CXiZr9k/itR6iABJLf8avXtJ6JUrV0ppaak0bNhQmjdvzm/PLYqfH1fKyspk9erVsmHDBmnSpIk0a9bMz+u0hQAEIAABCEAgRQS8zNdS5FpoukWAWBQqLwm9dOlSUZPX/fbbD/FhUewScUWthHz99ddSp04dadu2bSImeAcCEIAABCAAgYAJeJmvBexS6LpDgFgUMi8J/c033zge77PPPhZ5jiuJEiCeiZLjPQhAAAIQgEBqCHiZr6XGs/D0igCxKFZeEpoJq0UBM+AK8TQAERMQgAAEIACBAAl4ma8F6E4ou0KAWBQ2LwnNhNWigBlwhXgagIgJCEAAAhCAQIAEvMzXAnQnlF0hQCwKm5eEZsJqUcAMuEI8DUDEBAQgAAEIQCBAAl7mawG6E8quECAWhc1LQjNhtShgBlwhngYgYgICEIAABCAQIAEv87UA3QllVwgQi8LmJaGZsFoUMAOuEE8DEDEBAQhAAAIQCJCAl/lagO6EsisEiEVh85LQTFgtCpgBV4inAYiYgAAEIAABCARIwMt8LUB3QtkVAsSisHlJaCasyQuYul+lsrJS8vLyktdJLcvEMzDUdAQBCEAAAulIoLJS5MsvRXbfXaRp00BG6GW+FogjIe4EAWJR8LwkdCZMWNUY9913X7nrrrvk8ssvdyKkLu1r2rSprFu3ThYvXiwHHHCA8/f//ve/5fDDD5cnnnhC+vfvL9u3b5dx48bJk08+KT/88IM0btxYevbsKWPHjpXd1Q+n355HH31Uzj//fHnttddk9uzZ8vjjj4u6ZX7evHly8MEHy0MPPSSTJ08W5YsSJS1atJDu3bvL/fffXyNjXn31Vbn11ltFxa68vNx59/rrr3f69PJkQjy9cKANBCAAAQhAwDeBZ54ROeecX19r2VJk+XKR7GzfZvy+4GW+5tdmprVHgFgUcS8JnSkT1latWsmRRx4pL7zwghOh+fPnyyGHHCLZ2dmOMLjkkkucv7/ttttk6NChsnz5clHv9O7dW1566SXp06ePHH/88fKf//xH7r33XmnTpo0jVho2bOi8FxEgBx10kHMTeb9+/Rzbp59+urzzzjuOODnttNPkxBNPdG6cVzfQv/LKK474iTxKIF155ZXSo0cPOeWUU5x2zzzzjMydO1eefvppOeuss+JmV6bEMy4IGkAAAhCAAAT8EMjK2rn11q0idev6sZJQWy/ztYQMZ9BLCBCLgu0loTNlwqoEwVtvvSWrVq1yJvaTJk2SMWPGyGGHHSaNGjWSZ5991oncqaee6ogCxWXGjBmOEFDiRImOyPPcc885YuC6665zVkeqC5D27ds7qx716tWraq/Ey5IlS2TRokWu2bFixQpp27atDBw4UO6+++6qdmoVpGvXrqI+VyswStTEejIlnhZ9zXAFAhCAAATCTOC220SGDt15BK+9JnLKKYGMzMt8LRBHQtwJAsSi4HlJ6JgT1n79RL76yp4RqW1STz2VkD8PPPCADBo0SBYuXChqlUKJAvUcccQRjhgpKSlxtmWpLVZq1eLhhx+WSy+9VO677z5n4t+6deuqftUWqn322Ufq1q0rX6p9otVWQO644w656qqravioVj+mTp0qr7/+uhQXF0f1/84775QhQ4bIJ598IkVFRTXa3HPPPTJy5Ej54osv5MADD0SAJJQBvAQBCEAAAhCoRSDaqodq8t//iuy6a2C4vMzXAnMmpB0hQCwKnJeEjilADj1U5NNP7RlR584i8+Yl5I9agdh///2dOpDLLrvMqf8YMWKEI0C6dOnirHps2rTJWRFR9RvnnnuunHTSSU49x3/VD6JaT69eveTtt9+WLVu21BAgL7/8srOKUv35+uuvna1X3333nbOt65hjjnHa9O3bV3Jzc52mgwcPrrHKEm2QaivXscceiwBJKAN4CQIQgAAEIPAbgUceEbnwwp1xdO0qMnt24Ji8zNcCdypkHSJALAqYl4TOlBUQFZaWLVs625mU8OjUqZNTB6JWFNQWLFX4vXnzZvnrX/8qy5Ytc2o8EhEgapuXqhWp/WzdutXZAjZr1ixHuKjtWJ07d5b3339fCgoKqlZb1EpJ/fr1o2aRaq9WaGI9bMGy6AuIKxCAAAQgYB8Bt1WPlStFWrRIib9e5mspcSxEnSJALAqWl4TOpAnr2Wef7Uz+1alSqv5jzZo1Tj2IEhqqmFwJELXNSRWIq8dtC5b6LLIFK1LXESlCdxMgtdMiUnCutnpdcMEF8o9//EP+9re/yZw5c5xi+USfTIpnoox4DwIQgAAEMpDA1Kkip58efeDq6N0UPl7mayl0LxRdI0AsCpOXhM6kCas68lYVlKsjd9WfadOmOdEaP368TJw4UbZt2+bUhjyilmZFZObMmXLyySc7W7aqF4Y///zzcuaZZ8qwYcPk5ptvdtrGEiBK6KgtX9WfDz74QLp16+acuhVZdVFHBavtWeooX3WSVvVn9erV0qxZs7jZlUnxjAuDBhCAAAQgAAFFwG3V49tvRdq2TTkjL/O1lDtpuQMIEIsC5CWhM2nC+tVXX0m7du2cCCnBoYq+1fPRRx85dSARIXHeeedVRTFyDK8qTFf3dqhaElUUrorS1WlXtY/hjbYCorZONWnSRI466iinBkSdxKXE0C+//CILFixwTr9Sj7Kr7ilR4kidsqW2jKm7RJR/aqVFbQ2L92RSPOOx4HMIQAACEMhwAm+/LRJlW7RDJcWrHtUj42W+luGRjDt8BEhcRME18JLQmTZhVRcA/vTTT079h6oDUc+OHTucOpCNGzfK999/L3vuuWdVkCIXEaqLCWtfRNi8efOqdrFWQB588EHnmF+1vWv9+vWy2267Oadh3XDDDdKhQ4caCaG2iKlVkY8//tgpileXHarLCNX2MfUn3pNp8YzHg88hAAEIQCBDCbiteixcKHLQQVZB8TJfs8phC51BgFgUFC8JzYTVooAZcIV4GoCICQhAAAIQCC+BuXPVGfvR/bdo1aO6g17ma+ENSDCeI0CC4eypFy8JzYTVE8rQNCKeoQkVjkIAAhCAgGkCbqseH34o8ttWa9NdmrDnZb5mop90toEAsSi6XhKaCatFATPgCvE0ABETEIAABCAQLgLqUmC3i3otXfVgBcRsiiFAzPLUsoYA0cIXypcRIKEMG05DAAIQgECiBNxWPWbOFDnxxEStBvqel/laoA6FsDMEiEVB85LQTFgtCpgBV4inAYiYgAAEIAAB+wl8/73IXntF9zMEqx6sgJhNMQSIWZ5a1hAgWvhC+TICJJRhw2kIQAACEPBDwG3V47nnRM48048lK9p6ma9Z4ajFTiBALAqOl4RmwmpRwAy4QjwNQMQEBCAAAQjYSWDVKpFqR+DXcDJkqx6sgJhNMQSIWZ5a1hAgWvhC+TICJJRhw2kIQAACEIhHwG3V4777RAYNive21Z97ma9ZPQALnEOAWBCEiAteEpoJq0UBM+AK8TQAERMQgAAEIGAPgZ9/FmnWLLo/SVj1WLVxlTy98Gk5qs1RcvgehwfCwct8LRBHQtwJAsSi4HlJaCasFgXMgCvE0wBETEAAAhCAgB0E3FY9xo4VGT7cqI+VlZWSPSa7ymbdnLqycfhGyc3ONdpPNGNe5mtJdyLkHSBALAqgl4RmwmpRwAy4QjwNQMQEBCAAAQiklsCGDSKFhYGtevR4oofMWjprp/7KbixDgKQ2Ezz3jgDxjCr5DREgyWdsWw8IENsigj8QgAAEIOCLgNuqR48eIm++6ctUvMaflXwmnR/oHLXZmqFrpMkuTeKZMPK5l/makY7S2AgCxKLgeknoTJmwPvroo3L++efLW2+9Jccff7xFUTLrSqbE0yw1rEEAAhCAQMoJbN0qkp8f3Y3ycpHs/22PMuFr1uisqGYuOfQSubfXvSa68GzDy3zNs7EMbYgAsSjwXhI6UyasyRAgiu/LL78sAwYMkKKiohqRnzp1qixYsEBGjRoVaEZkSjwDhUpnEIAABCCQXAJuqx7164uo7VgGn77P9ZVpX02LarF8RLlkZ5kVOl5c9zJf82Ink9sgQCyKvpeEzpQJazIEyEMPPSQDBw6Ud999V4455pgake/fv7889dRTooragnwyJZ5BMqUvCEAAAhBIEgG1spHrUuS9fbtInTrGOv5+/fey16ToN6e/dNZL8of9/2CsL7+GvMzX/NrMtPYIEIsi7iWhM2XCmk4CZPPmzbLLLrtEzbRMiadFXzNcgQAEIACBRAi0aSOyfHn0Nw3/8s5tu5XqvHJksL8ojDZgL/O1RBBn0jsIEIui7SWhM2XCGhEgr7/+uvzrX/8S9d/r1q2Tww47TO644w7nn5GnvLxc7rzzTpkyZYosWbJE8vPznRWOm2++Wdq1a+c0U1urRo8evVO01TvK9j//+c+dPvvuu++qtmp9+OGHctNNN8mcOXNky5YtcsABB8jVV18t5513Xo33srKypF+/fs6fkSNHysKFC2XQoEEyceJEBIhF3zVcgQAEIAABjwSUuHCr59i4UaSgwKOh+M3+8sZf5I6P7ojacNsN2yQvJy++kQBaeJmvBeBGqLtAgFgUPi8JnWkC5OCDD5YdO3Y4dRsbN26Uu+++W7Zu3SqffPKJIwLU88c//lGmT58u5557rvzud7+TX375Re655x7ZtGmT027fffd16juUSHn44Ydl+PDhVcKka9eu8u233zoCRYmMJ554oioj+vTpIwUFBY5t1Ufnzp3ljDPOcFYzVC3Jm2++Kbfccotcc801Ve8oAaL8KikpkUsuuUT23ntvadasmZx22mkIEIu+a7gCAQhAAAIeCLRsKVJSEr2hwVWPtVvWSpMJ0U+wuq/nfTLoMLtuTvcyX/NAN6ObZIQAURPX2267TebNmyf//ve/5aeffnJ+c61+8137Ub9Nv/XWW0XVCyxfvlxat24tF110kQwdOlRycnJqNPfT1kuWeUnoTBMgqlhciYf6qrBNRL744gvp1KmT9O7dW1588UV5/vnn5cwzz3T+qcRB5FmxYoW0b99eTjnlFHnmmWecv06kBkStdrRp00aOPPJIR3QogRF5VH9qhWblypXSsGFD568jn6sVlaOPPjpu2DMlnnFB0AACEIAABOwi4FZovmaNSBNzx93avt0qWlC8zNfsCqZ93mSEAPn+++9lr732khYtWsihhx4qr776qqsAGTx4sNx7773OEbDqt+OzZ892hIr6+8mTJ9eIoJ+2XkLvJaFjTVj7Te0nX635yktXgbQ5oOkB8lTfpxLqK7IFa+zYsc6KRfVHiYr33ntPNmzY4IiPjz/+WD7//POd+lHboBTTn3/+OWEBokSHWr1QYqe2oHjllVfkggsucPKpZ8+eVQJECaT58+d7GjcCxBMmGkEAAhAIJYF1m7bL1h3lsnbTdmlckCf1cnOkUYEd24hcgR56qMinn0b9eN3GbZ79jzf2SR9NkqveuCpqP+uvXS+F9VwuNrQgE7zM1yxw02oXMkKAbNu2TdasWSN77LGHs52nTp06UQWI2q+vJo9XXHGFTJo0qSpwQ4YMkbvuusuZ5Hbo0MH5ez9tvWaAl4SONWE99IFD5dOS6D80vPpgsl3nFp1l3sXzEjIZESBq4t+3b98aNlTthaqp+PHHH6VHjx6yePHimH2olars7OyEVkAmTJgg1157bUz7jzzyiCNY1aNWQJS/ym8vDwLECyXaQAACEAgXgS3by+W7NZtk2NQF8vmPpVXOd2pVKOP7dpSipgWSn1dzV4UVI3RZ9Tj64gflh0YtxIv/8ca+e2G2NLnt110NtZ/ru10vN3W/yQoUsZzwMl+zfhApdjAjBEh1xrEEyPXXX+8ULi9dutRZMYk8qhi5bdu2oj5Xhcjq8dPWa4y9JHSmrYDEEyDqkkIlMB944AFXzMcdd5wjDBLZgqVqPK677jpnVWyfffaJ2ofa6tVS7ZP9TYColZcnn3zSU9gRIJ4w0QgCEIBAqAh8uXKD9LlntmzbUbGT33Vzs2Xa4GJp37KBPWNSW5hdfnFWdO2rNfyM53+ssS/L7+U6ZhtOt/IaEC/zNa+2MrUdAqRa5E888URnlUPViNR+dt99dznkkENk5syZzkd+2npNLi8JnSkTVq9bsFShuNqOtXbtWmdlK9ajCtBVPU+0e0BUAbsSDbXvAVECSNV6qDqSs846K24oI6dgIUDioqIBBCAAgbQkoLYeDZgyt8bKR+2BHty6oUwZcLjn7UxJBeWy6tHzvImyqHn0X7y5+e829k3ZH8iauuOjDuPHq3+UPRrskdQhmjbuZb5mus90s4cAqRZRtb0qLy/PKVav/agTkMrKypytV+rx0zZa0qhTktSf6o/aSqQuxFP9q/6iPZkmQNyK0FVdhrq9XAmDc845xznyNtot5qtXr3ZOoVLPs88+K2effbbznhIu1R91YtX999/vCJlGjRpVfaQOMFA+NG/eXD766CPZdddda7yn6kuaNm1aVXyOAEm3H5GMBwIQgIA/AiXrt0iX8e/EfWnOsO7SojA/brukNbj6ahGXI+Jrr3pE8yGa/7XHXinl8kN+9FMgz+lwTsJ1oklj4tEwAsQjqBjNECDV4KgjU9VKhzqOtfajCtLVZDYiAPy0jcbf7V4K1RYBIk7hv6qriBzDq/5diQFVi6NOplLH66o7PtSKhRIVzz33nJxwwglOTYg6MWvZsmUyY8YMOfDAA6u2Q3399dey3377yeGHHy6XXnqpc1/IEUcc4Wy3i2zPUmLm5JNPltzcXDn11FOdY3hfeukl5xhelRvqOOA999zTyYXPPvvMORlLHfer2qsHAaL/QwkLEIAABMJMYNHKUul55wdxh/D6ld1Stw3L7YSrWbNkUbvDEva/+thjbbdaNLA0dWOPG5n4DRAg8RnFa4EAqUbIz6qGn7bRgsAKSOzUrH4R4fvvvy+PPfaYszqhLiC8/fbbnfs+Io8SIaoGRBWDL1q0yBEl6sCB4uJiGThwoHOaWeRRJ5mp95VAUcXp6iJCJSrU6taVV17prI6oVQ1lo/pFhEoUjhs3zrkUUV2IuNtuuznH/KrjgNVpaJHjdxEg8X7k8DkEIACB9CZQUrpFuoyzdAVkwgQRt4NVfrvXQ8d/9W6nW26Sn+veHDXILbZOlrzKPSXlqz+aKYgA0QSofmFbWXvTu75Nqy3EKkL3U9fhp61XIF4SOlO2YHllFvZ2xDPsEcR/CEAAAjUJWFsD4rbqoe7KqlbjmKj/ajqZPSY7ajrkVewtLbb9erqoVfUvCSavl/lagqYz5jUESLVQq/sm1G+53U7BUp+reynU46et12zyktBMWL3SDEc74hmOOOElBCAAAT8EFq/cIL1jnII1/bJiadcioFOwHn9c5Lzzorvvcpu5X/9jXSbYZssrkiW/XuKrTtAKdOx+guajrZf5mg9zGdkUAVIt7OoELHXSlds9IOpyuY4dOzpv+GnrNbO8JDQTVq80w9GOeIYjTngJAQhAwA+ByF0Yw6ctlPnL11e9qn77P65vBylqEtA9IG6rHqr4fMgQ1yF59f/9Ze/L7x/9fVQ7h9e/SVavPjh1Y/cTMJ9tvczXfJrMuOYZI0DuvvtuWb9+vVRUVDgnJimhEbng7g9/+EOVsIichqSKnlUNgboJXdUJDBo0SO67774aCeKnrZfM8pLQTFi9kAxPG+IZnljhKQQgAAG/BCK3ga/bVCaNCuoEdxO6ujLg5JOju+uy6hGtcSz/Y616qDs9UjZ2v0FKoL2X+VoCZjPqlYwRIOooVVV4HO2JFCKrz1SNiLr9Wp2KtGLFCqeYWd0dcc0111SddBSx4aetl6zyktBMWL2QDE8b4hmeWOEpBCAAgVAQcFv1GDpURBWhaz4NxjWQ/27/b1QrZTeWSW72r6dCpvPjZb6WzuM3MbaMESAmYCXbhpeEZsKa7CgEa594Bsub3iAAAQhEIxD5bf3aTdulcUFecCsVJsMxd67IEUdEt+hj1cPNpSW/LJH9794/6scjfz9SRh0zyuRorLblZb5m9QAscA4BYkEQIi54SWgmrBYFzIArxNMARExAAAIQSJBApNZh2NQFNW4u79SqUMb37ShFTQOq1UjQ/6rX3FY9zj5b5Omnda1LvO1W2h2EzICX+VrIhhS4uwiQwJG7d+gloZmwWhQwA64QTwMQMQEBCEAgQQJfrtwgfWKcVjVtcLHdF+YtWSKyf/RVCTGw6tH8tuayatOqqHQ3XLdB6tetnyD5cL/mZb4W7hEm33sESPIZe+7BS0KrI4LVpXnqRu/I5XeeO6ChVQTUgQjqdvY6depI27ZtrfINZyAAAQikO4FE77tC2CduAAAgAElEQVSwhovbqkeXLiIffqjlZsl/S6Tl7S2j2jjzwDPluTOe07If9pe9zNfCPsZk+48ASTZhH/a9JPTKlSultLRUGjZsKM2bN0eE+OBrU1MlIlevXi0bNmyQJk2aSLNmzWxyD18gAAEIpD2BkvVbpMt4S28sj0W/pESkZXRxYGLVI2zbrVJRv+Nlvpb2XyDNASJANAGafN1LQpeXl8sPP/wgW7dulezsbMnJyTHpArYCIKBWPlQc1VOvXj1p3br1TiesBeAGXUAAAhDIaAKLVpZKzzs/iMvg9Su72bMNy23Vo3lzESVMNJ6TnzpZZn4zM6qFb6/8Vto2smulPpX1O17maxqhyIhXESAWhdlrQqvJ66pVqxwRoiazPOEioIRjbm6uNGjQQAoLC1nFClf48BYCEEgTAiWlW6TLuJCsgKxfL9KoUXTyah7gJkw8xGpz2WYpuLnAtaW608PGJ5X1O17nazZys8UnBIgtkRAREtqiYOAKBCAAAQikNYHQ1IDEEheaheZh224VSchUx475mv6PBgSIPkNjFkhoYygxBAEIQAACEIhLYPHKDdI7xilY0y8rlnYtGsS1k5QGmzeLFERfmVj0wy/SuEF+wveVXPvWtTLhw+iXEn5w/gdS3KY4KUMyZTTV9TvM1/QjiQDRZ2jMAgltDCWGIAABCEAAAnEJROoIhk9bKPOXr69qf3DrhjKubwcpapKie0BirHoUXftqlZ9+7yupqKyQnDHutaO2breqHchU1+8wX4v71YrbAAESF1FwDUjo4FjTEwQgAAEIQCBCIHKS0rpNZdKooE7CKwvaRNUBJbm5Uc10vGaabMiqs9NndXOzxct9JWHdbhUNRqrrd5ivaWe6IED0GRqzQEIbQ4khCEAAAhCAQLgIxFj1OO2uf9W4qb32wNSKzZQBh0ujgrydxjzlsylywcsXRGXxZJ8npV/HfuHiJCLUgIQuZDs5jACxKIYIEIuCgSsQgAAEIACBIAioQvLs7Og9rVkjJTm7JHxfSTqtetQGlMr6HeZr+l8MBIg+Q2MWSGhjKDEEAQhAAAIQsJ+AhxOuEql3iCU8KkZUpMXx76ms32G+pv/VQoDoMzRmgYQ2hhJDEIAABCAAAbsJuImPpUtF9tqrync/9Q7/WfexHPvYsVHHPeLoETL62NF2M0nAu1TU7zBfSyBQtV5BgOgzNGaBhDaGEkMQgAAEIJAggciEbu2m7dK4IC91BdkJ+m/9a3l5ImVl0d2Mcq+H13qHl9Yc5Tr0sJxuZX3sfnOQ+Zp+pBAg+gyNWSChjaHEEAQgAAEI+CQQ2dIybOqCGgXPfo969dltZjV3W/X49FORQw5xZRGr3mFZfi/X9zYP3yz5dfIzi3EAo2W+pg8ZAaLP0JgFEtoYSgxBAAIQgIBPAl+u3CB9YlzK5+WoV59dZk7zjh1FFi70vOpRu2G0eoeyrBWyst6gqDb7HNBHpv5paubwDXikzNf0gSNA9Bkas0BCG0OJIQhAAAIQ8EHA6zYft6NefXSVeU3dVj3efFOkRw9fPCLb41pO3MX1PbZb+UKaUGPmawlhq/ESAkSfoTELJLQxlBiCAAQgAAEfBErWb0n4qFcf3WRW09NPF5nqsgoRpdbDC5zdbt1N1mxeE7Xpqr+tkmYFzbyYoY0mAeZrmgBFuIhQH6E5CyS0OZZYggAEIAAB7wQSOerVu/UMbOm26vHEEyL9+/sG8vOmn6XZbdHFRasGrWT51ct92+SFxAkwX0ucXeRNVkD0GRqzQEIbQ4khCEAAAhDwQcDPUa8tCilqdkX717+K3H579I8TXPVI58sEfaSoVU2Zr+mHAwGiz9CYBRLaGEoMQQACEICADwLUgPiA5dbUbdVj/HiRa6/13UHHezvKwtXRC9c/v+Rz6bh7R982ecEMAeZr+hwRIPoMjVkgoY2hxBAEIAABCPgkEOuo17q52TL9smJp16KBT6vhap7QHSgTJ4pcfbWxVY+tO7ZK/lj3VSaKzFOfU8zX9GOAANFnaMwCCW0MJYYgAAEIQMAngWhHvSoTB7duKOP6dpCiJgWSn5fj02o4mid8B4rbqsfgwSKTJ/sePNutfCNLyQvM1/SxI0D0GRqzQEIbQ4khCEAAAhBIkEBkFWDdpjJpVFAnI25C930HyvPPi5x5prFVj4tfuVge/PTBqPae7vu0nN3h7ASjyWvJIMB8TZ8qAkSfoTELJLQxlBiCAAQgAAEIeCLgu/7FbdXjpJNEZszw1GekUWVlpWSPyXZ9h+1WvnAG1pj5mj5qBIg+Q2MWSGhjKDEEAQhAAAIQ8ETA6x0onx6+Qxqf0dvYqkeytlslVMfiiZQdjSLj21pWLrvk5Uh5hci6zdulcUFeYKt1zNf0cwEBos/QmAUS2hhKDEEAAhCAAAQ8EfByB8r3t/SKbmvvvUW++cZTP5FGk+dOlstnXB71neFHDZexx431ZS/SOOE6loR6C/6l6uM7pE0jOemg5jLu9cXy+Y+lVc50alUo4/t2lKKmya1XYr6mH38EiD5DYxZIaGMoMQQBCEAAAhDwRCDWHSgH/vSNvPbYVdHtJHCvR7JWPZSDvutYPNGxp1FkfIe0aShXHb+fnPfIXNm2o2InB9WJbdMGF0v7lsk7sY35mn5eIED0GRqzQEIbQ4khCEAAAhCAgCcCbjUgrqseyqpP8RFLeJTdWCa52bmefHVr5LuORau34F+uPr4Hzj1UJr/7TY2Vj9oeqZPbpgw4XBoV5CXFWeZr+lgRIPoMjVkgoY2hxBAEIAABCEDAM4Hqd6C0Kl0lH9x3YfR3fQqPWUtnSY8nekS1deLeJ8rM/jM9+xirodc6ljnDukuybrJPZu1JZHwFeTnywqVd5eRJ/4rLLZljZb4WF3/cBgiQuIiCa0BCB8eaniAAAQhAAAIRApH6gvZ7FLpD8Sk+krndqraTXupY1DuvX9nN+NakIGpPIuNrUVhPbjm9o/z5kblxkzcZY410ynwtLv64DRAgcREF14CEDo41PUEAAhCAAASqCKxZI7LbbtGBVFSIuB29G+WNWMJj3bXrpGG9hsbBx6pjqd5ZMlYFgqg9iYyPFRDjqZMygwiQlKHfuWMEiEXBwBUIQAACEMgMArHEhY9VjyW/LJH9794/KrP83HzZfP3mpPFMVQ1IUP1SA5K01EmZYQRIytAjQCxCjysQgAAEIGAZgWTWFDhD3bJFZJddoo96+3aROnU8Ewlyu5WbU9XrWGq3USdDTb+sWNq1MHsyVJC1J5HxqVOwrj5+P2cbltspWMkYa3Wm/MLY81fDtSECRJ+hMQsktDGUGIIABCAAgZASCKKmIOaWKh+rHnl/z5OyirKopJdcvkT2bbJvYFGIcBs+baHMX76+ql91ItS4vh2kqIn5uzGCrD2pPj41JnUPyPgZXwU2VgSI2VRGgJjlqWUNAaKFj5chAAEIQCANCCS1pqC8XCTX5cjb9etFCmMUoVdju27LOmk8obEr7cqRlSmLRGTlaN2mMmlUUCept4OnovYkMr5tZRWS79yEXinrNyd/rAgQsymNADHLU8saAkQLHy9DAAIQgEDICSS1psBQrYcN261sCXNS42XLIKP4wXxNPzgIEH2GxiyQ0MZQYggCEIAABEJIIF5NwZFtG8uFR+0lB7YslHWbt0vjgrz4v+FXW6qys6PTWL5cpFUrT6TaT24vi9csjtr27T+/Ld336u7JTro1SkXtSaoZMl/TjwACRJ+hMQsktDGUGIIABCAAgRASiFVTMKBrkbPvf9zri2vcgt2pVaGM79tRippGqXEwsOpRVl4meTe536idyu1WNoQ4FbUnqR438zX9CCBA9Bkas0BCG0OJIQhAAAIQCCEBt5oCtfJx1fH7yXkxTj6aNri45iV7buLj889FOnb0RIftVp4wOY2CrD3x7lVyWjJf0+eKANFnaMwCCW0MJYYgAAEIQMAngaQfe+vBH7eaggfOPVQmv/tNjZWP2ubUyUhTBhwujXat696TxxOuBr48UB767KGodsYdN06uO+o6D6MJXxMbciAM1Jiv6UcJAaLP0JgFEtoYSgxBAAIQgIBHAoEce+vRF9Wsdk2Bn9uvv7+lV/Se3npL5PjjPXmRiasetuWAp0ClsBHzNX34CBB9hsYskNDGUGIIAhCAAAQ8EkjqsbcefajerHZNQYvCenLL6R2di+fcHlfhoV7wuOoRS3hUjKiQrFj1JAmM06ZXbMsBm9hE84X5mn6EECD6DI1ZIKGNocQQBCAAAQh4IGDzMaqR7UClm8ukQX4d6Tr+nagjchUfU6aIDBgQl8Kts2+Va2ZdE7Vd33Z95cUzX4xrI8wNbM4BW7kyX9OPDAJEn6ExCyS0MZQYggAEQkaAveepCVi8Y28jXs0Z1l1aFOanxsnfCpwHTJlbowZk5sOXyQFrlkX3ycCqR6acbhWWHEhZ8kXpmPmafjQQIPoMjVkgoY2hxBAEIBASAuw9T22gYh17W92z16/sVvOEqRS4Xb02xHXVY9QokZEj43oXa7vV5uGbJb9O6sRWXOcNNwhTDhgeesLmmK8ljK7qRQSIPkNjFkhoYygxBAEIhIQAe89TGyi3Y29re5XqFRDljxKrFd27S8Hs96NC27Jth+Tn5cQEOvObmXLyUye7tsmUVY/qAMKUA6n9tvyvd+Zr+pFAgOgzNGaBhDaGEkMQgEAICLD3PPVBClUMXIrAt511jtR95qm4MDPxdKu4UFy2t9V+r+qI4wL3Cxm99JUubZiv6UcSAaLP0JgFEtoYSgxBAAIhIMDeczuCVPvY2+pe1c3NlumXFUu7Fg1S5+wVV4jcfXf0/j3UesQSHsuuWiZtCtukbmyW9Gx9DljCKeIG8zX9gCBA9Bkas0BCG0OJIQhAIAQE2HtuR5BqH3sb8Ur91ntc3w5S1KQg7tampI3E7ejbNm1ElrkUoP/mzNe/fC373b2fq2uZuN3KDYbVOZC05ErcMPO1xNlF3kSA6DM0ZoGENoYSQxCAQAgIsPfcriBFTiJbt6lMGhXUkXq5OdIoVVtuhg0TGT8+KaseCA/3vLMqB+z6etTwhvmafnAQIPoMjVkgoY2hxBAEIBACAqGqPwgBz7RxMdaFf3G2XMXabvWv8/8lR7U5Km0wMZDUEWC+ps8eAaLP0JgFEtoYSgxBAAIhIcDe85AE6jc3k3pfy+TJIpdfntCqR+nWUml4S0NXmKx6hCvPbPeW+Zp+hBAg+gyNWSChjaHEEAQgEBIC7D0PR6CSfl9LklY9EB7hyK+wecl8TT9iCBB9hsYskNDGUGIIAhAIGQH2ntsdsKTd1zJjhsgppyS06tFucjv5as1XUd+9v9f9cvGhF9sNFe9CS4D5mn7oECD6DI1ZIKGNocQQBCAAAQgYIpC0Wp0EVz3KK8ol9++5rqNj1cNQ4DHjSoD5mn5yIED0GRqzQEIbQ4khCEAAAhAwRMD4fS0LFoh06pTQqgeXCRoKKma0CDBf08LnvIwA0WdozAIJbQwlhiAAAQhAwBABo/e1JLjqcdYLZ8lzi56LOqILD7lQHvrDQ4ZGixkIxCfAfC0+o3gtECDxCAX4OQkdIGy6ggAEIAABTwSM3NdSUiLSsmX0/nbsEMnJcfWFVQ9PYaJRgASYr+nDRoDoMzRmgYQ2hhJDEIAABCBgiIB2DUiCqx6xhMeOG3dITra7aDE0dMxAICoB5mv6iYEA0WdozAIJbQwlhiAAAQhAwCCBhO5r2bxZpKAguhcbN7p+NmzWMBk/O/ot6LvU2UU2Dd9kcGSYgoB/AszX/DOr/QYCRJ+hMQsktDGUGIIABCAAAYMEfN/XkoRVD063MhhQTGkRYL6mhc95GQGiz9CYBRLaGEoMQQACEIBAEgjEva+losK9nmPFCtc6kFjbrVb/bbXsVrBbEkaDSQgkRoD5WmLcqr+FAKnFcMWKFTJ69GiZNWuWlJSUyO677y5HH3203HDDDbLffvtVtS4vL5dbb71VHnroIVm+fLm0bt1aLrroIhk6dKjkxCimixUyElo/obEAAQhAAAIpIpDAqscLX74gf3z+j64Os+qRoljSbUwCzNf0EwQBUo3h2rVr5aCDDpJt27bJpZdeKnvttZd88803cu+990pWVpYsXLhQWrVq5bwxePBg5+/PP/986dq1q8yePVseffRR5+8nT56cUGRI6ISw8RIEIAABCKSagJv4mD/f9c4PTrdKddDoP1ECzNcSJfe/9xAg1RgqQaEExMsvvyynnnpq1ScvvviinHHGGXLHHXfIVVdd5QiRTp06yRVXXCGTJk2qajdkyBC566675PPPP5cOHTr4jg4J7RsZL0AAAhCAQCoJJLDqEUt4fHjBh9KldZdUjoi+IRCXAPO1uIjiNkCAVEM0fvx4GTZsmHzyySdy2GGHVX0yZ84cZ5Xj/vvvl4svvliuv/56ufnmm2Xp0qXOKknk+e6776Rt27bO5zfddFNc+LUbkNC+kfECBCAAAQikioCb+Hj1VZGePXfy6qs1X0m7ye1cvWW7VaoCSb9+CTBf80ts5/YIkGpM5s6dK0cccYQceeSRctttt0lRUZGzBesvf/mLbNy40REmDRo0kBNPPNFZ5fjpp592IqpqRg455BCZOXOm7+iQ0L6R8QIEIACBjCYQKQpfu2m7NC7Ik3q5OdKoIC+5TAyveiA8khsurJsnwHxNnykCpBZDtQ1LrWCsW7eu6hNVhD516lRp0qSJ83dqe1VeXp7Mmzdvpwh07txZysrKnG1asR5V4K7+VH8WL14s/fv3d+wqOzwQgAAEIACBaAQix+IOm7pAPv+xtKpJp1aFMr5vRylqWiD5eUm4qM9NfEyYIDJ06E6uxtpuddfJd8nlv7ucAEMgdAQQIPohQ4DUYvjKK6/IPffcIz169JB99tnHERLqtCtVnP7GG29IQUGB7L333s7pWB9++OFOEVBbtVavXu2snMR6Ro0a5Zy2Fe1BgOgnNhYgAAEIpDOBL1dukD73zJZtOyp2Gmbd3GyZNrhY2rdsYA6Bz1WPjds3Sv1x9V37Z9XDXGiwFDwBBIg+cwRINYYvvfSSU2yuEqt6Efmbb77pbLu65ZZb5JprrmEFRD/vsAABCEAAAgkSUNuuBkyZW2Plo7apg1s3lCkDDjezHctNfJx7rsjjj+80Ck63SjCwvBYaAggQ/VAhQKoxPPbYY2XVqlXy5Zdf7kRW1X6orVivvvoqNSD6eYcFCEAAAhBIkEDJ+i3SZfw7cd+eM6y7tCjMj9vOtYHPVY9YwuO0/U+T6WdN9+VLSupbfHlI40wlgADRjzwCpBrD/fff3/mv//znPzXIVlZWyq677irdunVzisuHDx8u48aNcz0FS30+duxY39EhoX0j4wUIQAACGUdg0cpS6XnnB3HH/fqV3RLfhuUmPtq3F1m0aKf/R2aPyXb1x+92q5TVt8QlSgMI/EqA+Zp+JiBAqjE87bTTRNWAqEsFu3T53znkL7zwgvzxj3+sOl5XnYClTrpyuwdk/vz50rFjR9/RIaF9I+MFCEAAAhlHoKR0i3QZl6QVEIOrHhUjKpxLfP0+gde3+HWQ9hlPgPmafgogQKoxVEXlxxxzjNStW9e5kFAVm6si9AceeEAaN24sn332mTRv3tx545JLLnHuBVE3oRcXFzuiZcqUKTJo0CC57777EooMCZ0QNl6CAAQgkFEEklYD4kN8/O7B38knKz8xtuoRMZS0sWVUhjDYZBNgvqZPGAFSi+GCBQtkzJgx8u9//1tWrlzpCA91Ipa6WHDPPfesar1jxw6ZMGGCPPTQQ7JixQrZY4895KKLLnKK1HNzcxOKDAmdEDZeggAEIJBxBBav3CC9Y5yCNf2yYmnXwuMpWHvvLbJ0aXSGlZU7/X2sWo8vBq7Xuo8ksPqWjMsYBmySAPM1fZoIEH2GxiyQ0MZQYggCEIBAWhOI1EkMn7ZQ5i9fXzVWdfrVuL4dpKiJx3tAfKx6xBIepzR+Sxat2FblR6L3kQRS35LWmcHggiDAfE2fMgJEn6ExCyS0MZQYggAEIJARBCInRa3bVCaNCup4vwm9Xz+Rp5/2tOox6r1RMvqf0e+tUgb2K3vd2H0kSa1vyYiMYJBBEGC+pk8ZAaLP0JgFEtoYSgxBAAIQgIAbAUOrHmv/ts34fSTUgJC2YSDAfE0/SggQfYbGLJDQxlBiCAIQgAAEahMYM0Zk5EhPqx6xtlstuXyJ7NtkX0lWvYbR+hayAAJJIMB8TR8qAkSfoTELJLQxlBiCAAQgAIHqBDyuery25DXp9UwvV3bV7/RIVr2GsfoWMgACSSLAfE0fLAJEn6ExCyS0MZQYggAEIAABRUDVeah6j2hPrROuYq16RLtMMNn1GgnXtxB5CCSZAPM1fcAIEH2GxiyQ0MZQYggCEIAABDyuesQSHtP+NE16H9A7KkvqNUixTCXAfE0/8ggQfYbGLJDQxlBiCAIQgEDmEpgzR6Rr1+jjr6gQ+U2YLF23VPa+c29XTtFWPWo3pl4jc9Msk0fOfE0/+ggQfYbGLJDQxlBiCAIQgEBmEjCw6uFFeETgUq+RmWmW6aNmvqafAQgQfYbGLJDQxlBiCAIQgEBmEVi+XKRNm+hj3rZNJC/P+SzWdqtzO54rj/d5PCFu1GskhI2XQkqA+Zp+4BAg+gyNWSChjaHEEAQgAIHMIeBh1WPrjq2SPzbflYmfVY/MActIIRCdAPM1/cxAgOgzNGaBhDaGEkMQgAAEjBCI/GZ/7abt0rggz/tN40Z6j2Nk82aRgoLojVatEmnWLO6qB8LDe6CszgXvw6ClAQLM1/QhIkD0GRqzQEIbQ4khCEAAAloEIrUNw6YukM9/LK2y1alVoYzv21GKmhZIfl6OVh9aL3tY9Yi13Ur1jfjwFgHrc8HbMGhlkADzNX2YCBB9hsYskNDGUGIIAhCAgBaBL1dukD73zJZtOyp2slM3N1umDS6W9i0baPWR0Mvq7o7s7OivfvGFyIEHOp/5vdMjIV8y5CVrcyFD+Ns4TOZr+lFBgOgzNGaBhDaGEkMQgAAEEiZg7f0Wmqse5SPKJTvLRbwkTCu9X7Q2F9Ibu/WjY76mHyIEiD5DYxZIaGMoMQQBCEAgYQIl67dIl/HvxH1/zrDu0qLQvbA7rgE/DdzExyuviPTqJc1vay6rNq1ytch2Kz+w/9fWhlyg9iSx2CXzLeZr+nQRIPoMjVkgoY2hxBAEIACBhAksWlkqPe/8IO77r1/ZLfnbsDRXPRAeccMYs0Eqc4HaE73YJfNt5mv6dBEg+gyNWSChjaHEEAQgAIGECZSUbpEu4yxYAXETHyNGiIweHbPO46e//iS777p7wgx48VcCqcwFak/szULma/qxQYDoMzRmgYQ2hhJDEIAABBImkPJ9/3FWPf76xl/l9o9udx0fqx4Jh36nF1OVC6nq1xy59LbEfE0/vggQfYbGLJDQxlBiCAIQgIAWgcUrN0jvGKdgTb+sWNq1SMIpWG7i44QTRN54g9OttKKa2MupyAUbak8So5UZbzFf048zAkSfoTELJLQxlBiCAAQgoEUgsv9++LSFMn/5+ipbB7duKOP6dpCiJobvAYmz6hHrWN13z3tXjik6Rmu8vOxOIPBcEJFU1p6QC/EJMF+LzyheCwRIPEIBfk5CBwibriAAAQh4IBA5gWjdpjJpVFAnOTehu4mPvDx5beFU6fVML1dP2W7lIYiGmgSSC7/5msraE0O40toM8zX98CJA9Bkas0BCG0OJIQhAAAL2E9BY9Vh51WZZu2m7NC7IS44osp9eWntIDYjd4WW+ph8fBIg+Q2MWSGhjKDEEAQhAwG4CMcRH1ih31/sfdKlsKDlHPv+xtKpRp1aFMr5vRylqanhbmN0E0967VNSepD1UQwNkvqYPEgGiz9CYBRLaGEoMQQACELCTQAzhsXLDCtnj9j1c/V40sFT6xCiMnza4OPn3kthJNS29SkXtSVqCTMKgmK/pQ0WA6DM0ZoGENoYSQxCAAATsI5Dgqoeq82BLjn3hDMqjIGtPghpT2PthvqYfQQSIPkNjFkhoYygxBAEIQMAeAgkKjwZ1G0jpdb9uteJYVnvCiScQYL6mnwMIEH2GxiyQ0MZQYggCEICAHQRcxEd5lkjuSHcXa59uxbGsdoQTLyCgCDBf088DBIg+Q2MWSGhjKDEEAQhAILUEuncXeffdqD7EKjJ3O1aXY1lTG056h0B1AszX9PMBAaLP0JgFEtoYSgxBAAIQSB0Bl1WPWMJDORvrTg9qQFIXTnqGQG0CzNf0cwIBos/QmAUS2hhKDEEAAhAInsD114vcfLOxVY/ahjiWNfiQ0iMEohFgvqafFwgQfYbGLJDQxlBiCAIQgECwBBJY9dhy/Rapl1vPs58cy+oZFQ0hkFQCzNf08SJA9Bkas0BCG0OJIQhAAALBEHj2WZGzz96pr4MvEfm8ubsLsbZbxXOcY1njEeJzCCSXAPM1fb4IEH2GxiyQ0MZQYggCEIBA8gkksOqhIzySPyB6gAAEvBBgvuaFUuw2CBB9hsYskNDGUGIIAhCAQPIIzJsncthhO9mPVWS++LLFckDTA5LnE5YhAIHACDBf00eNANFnaMwCCW0MJYYgAAEIJIdAlFWPW7uKXHOCe3eseiQnFFiFQKoIMF/TJ48A0WdozAIJbQwlhiAAAQiYJVBSItKypa9VD4SH2RBgDQK2EGC+ph8JBIg+Q2MWSGhjKDEEAQhAwByBKKsesbZbTTltigw4eIC5/rEEAQhYRYD5mn44ECD6DI1ZIKGNocQQBCCQQgKRU5rWbtoujQvypF5ujjQqyEuhRwl2vXWrSH5+jZc/3kPkyIHu9lj1SJA1r0EgRASYr+kHCwGiz9CYBRLaGEoMQQACKSAQuadi2NQF8vmPpVUedGpVKOP7dpSipgWSn5eTAs8S6NLnqgfCIwHGvAKBkBJgvqYfOASIPkNjFobAgGkAACAASURBVEhoYygxBAEIpIDAlys3SJ97Zsu2HRU79V43N1umDS6W9i0bpMAzH11WVopkZ9d4IdZ2q1P3O1VePvtlHx3QFAIQCDsB5mv6EUSA6DM0ZoGENoYSQxCAQMAE1LarAVPm1lj5qO3Cwa0bypQBh9u7HavWqsf6eiKNrnMHyapHwElGdxCwhADzNf1AIED0GRqzQEIbQ4mhJBJIm/39SWSUiaZL1m+RLuPfiTv0OcO6S4vCmnUVcV8KokEt8RFr1QPhEURA6AMC9hJgvqYfGwSIPkNjFkhoYygxlAQCabW/Pwl8Mt3kopWl0vPOD+JieP3KbnZtw/IhPNTgEB9xQ0wDCKQ9AeZr+iFGgOgzNGaBhDaGEkNJIJAW+/uTwAWTvxIoKd0iXcaFbAWkmvioFJHsUe7RRHiQ6RCAQIQA8zX9XECA6DM0ZoGENoYSQ4YJpMX+fsNMMFeTQKhyxMeqR8WICsmKciIW8YcABDKXAPM1/dgjQPQZGrNAQhtDiSHDBEK/v98wD8xFJ7B45QbpHeMUrOmXFUu7Fik+BauamIhV56FGyKoHmQ4BCEQjwHxNPy8QIPoMjVkgoY2hxJBhAqHd32+YA+ZiE4jUCQ2ftlDmL19f1VidfjWubwcpapLCe0B8rHogPMh0CEAgFgHma/r5gQDRZ2jMAgltDCWGDBMI5f5+wwww551A5KS0dZvKpFFBndTfhO5x1eOXa36RxvmNvQ+UlhCAQEYSYL6mH3YEiD5DYxZIaGMoMWSYQKj29xseO+ZCTKCa8PjD2SKv7O8+FlY97Igzx3zbEQe8iE2A+Zp+hiBA9Bkas0BCG0OJoSQQCMX+/iSMG5MhJeBx1QPhYUd8OebbjjjghTcCzNe8cYrVCgGiz9CYBRLaGEoMJYGA1fv7kzBeTIaUgEfh8f6A96Xbnt1COsj0c5tjvtMvpuk8IuZr+tFFgOgzNGaBhDaGEkNJJGDd/v4kjhXTISPwm/h49GCR83u7+86qh11xZYunXfHAm/gEmK/FZxSvBQIkHqEAPyehA4RNVxCAQPoQyMsTKStzxhPraF2Eh50h55hvO+OCV+4EmK/pZwcCRJ+hMQsktDGUGIIABDKFwG+rHrGEx41H3yhjjh2TKURCN06O+Q5dyDLeYeZr+imAANFnaMwCCW0MJYYgAIF0J3DKKSIzZsiSJiL7X+E+WFY97E8Ejvm2P0Z4WJMA8zX9jECA6DM0ZoGENoYSQxCAQDoT8LDqgfAITwJQAxKeWOHprwSYr+lnAgJEn6ExCyS0MZQYggAE0pHAmDEiI0fGrPPYs3BP+f6q79Nx9MbGZONdGxzzbSy8GAqAAPM1fcgIEH2GxiyQ0MZQYggCEEg3AllZsi1HpN6N7gNj1SN20G2+a4NjvtPtC5ve42G+ph9fBIg+Q2MWSGhjKDEEAQikC4GXXhLp3ZvTrQzEMwx3bXDMt4FAYyLpBJiv6SNGgOgzNGaBhDaGEkMQgEA6EMjKiik81BBZ9fAWaOosvHGiFQS8EGC+5oVS7DYIEH2GxiyQ0MZQYggCEAgzgQULRDp1YtWjVgx1aje4ayPMXwh8t40A8zX9iCBA9Bkas0BCG0OJIQhAIKwE4qx6lN1YJrnZuWEdXUJ+m6jd4K6NhNDzEgSiEmC+pp8YCBB9hsYskNDGUGIIAhAIG4HVqyXr3t1jep2p261M1G5w10bYvhD4azMB5mv60UGARGH4008/yd///nd59dVXRf1748aN5bDDDpPJkydLmzZtqt548MEHZdKkSfLNN9/IbrvtJuecc46MGjVK8vPzE4oMCZ0QNl6CAATCTiDOqkemCg8VVlO1G6bshD3V8B8CJggwX9OniACpxfDrr7+Wo48+WurWrSvnn3++tG7dWn755Rf5+OOP5cYbb5ROnTo5b0yYMEGuvfZaOe2006Rnz57y5Zdfyl133SUnnXSSI1wSeUjoRKjxDgQgEFoC27dL1ri6ru4vvXKp7NVor9AOz4TjJms3uGvDRESwAQEuIjSRAwiQahQrKyvliCOOkLKyMnn//felfv36URn//PPPsueee0qPHj3kJXVE5G/PHXfcIX/5y18cAaJEid8HAeKXGO0hAIGwEjjjT1nyYnt37zN51aM6FZO1G9y1EdZvC37bRoD5mn5EECDVGL7zzjty3HHHycsvvyynnnqqbN26VbKzsyUvL68GabX16uKLLxbV/thjj636bPPmzdKkSRM5/fTT5cknn/QdHRLaNzJegAAEQkgga3SWq9cIj5poklG7wV0bIfzS4LJVBJiv6YcDAVKN4TXXXCO33nqrs/px/fXXy7/+9S/JyspyVkVuv/126dKli9N60KBB8sADD4gSHLXrPVTb0tJS+eqrr3xHh4T2jYwXIACBEBGIJTwe6/2Y/LnTn0M0mmBcpXYjGM70AgE/BJiv+aEVvS0CpBqX3r17O1uqVEG5Ehv9+vVz6j9uuukmWbt2rcydO1c6dOjgrI58+OGHzme1n759+8pbb70l//3vf2NGp6SkRNSf6s/ixYulf//+Mm/ePOncubN+dLEAAQhAwAICzy96Xs584UxXT1j1iB0kajcsSGJcgEA1AggQ/XRAgFRjePzxx8vbb78tv//97+W9996r+kStZhx00EGixMX//d//Odu0lFhYuXLlThFQJ2GpNjt27IgZHXVa1ujRo6O2QYDoJzYWIAABOwiw3Uo/DtRu6DPEAgRMEkCA6NNEgFRjqFY2VAH5Qw89JBdeeGENusXFxc5xu6tWrWIFRD/vsAABCKQ5gVjC4+i19eWfkzakOQHzw6N2wzxTLEIgEQIIkESo1XwHAVKNxyWXXCL333+/vPLKK9KrV68apM444wynOH379u3UgOjnHRYgAIE0JbBiwwppdUcr19Gx3SpNA8+wIJBBBBAg+sG2SoDMmDFDTj755JijUndxqEsCk/E8/PDDctFFF8m9994rSoxUf1Rx+YoVK+THH390CtBVIbrbKVhqq9ZTTz3l20US2jcyXoBARhCI/OZ77abt0rggT+rl5kijgpqn89kAIuZ2q1EiUllpg5sZ6UNYcigjg8OgQ0eA+Zp+yKwSILvuuqu8+eab0rVr16gjGzZsmHMBYHl5uf7Io1hYs2aNc79Hu3bt5KOPPpLc3Fyn1SeffOKchHXBBRc427NWr17ttDvxxBNl+vTpVZYi94BEjvH16yQJ7ZcY7SGQ3gQie/+HTV0gn/9YWjXYTq0KZXzfjlLUtEDy83JSDiGW8FDOseqRuhCFJYdSR4ieIeCfAPM1/8xqv2GVAFHbntTpUqoAvGPHjjV8VUfk3nbbbaJEyNixY/VH7mJh0qRJctVVVzki6KyzzhIlStTfqbtAVHG4uhldPePHj3d8USdnqUsHFy1aJHfffbeoQna1kpPIQ0InQo13IJC+BL5cuUH63DNbtu2o2GmQdXOzZdrgYmnfskHKAFRUVkjOGHcBVMmqR8piE+nY9hxKOSAcgEACBJivJQCt1itWCRB18Z+6XVwVe8+ePVvatm3ruKtuF584caLccMMNMmbMGP1Rx7GgLhFU9358+eWXsssuuzg+jRs3rsqfyOuqXkSJk2+//dY5uvfss892TrZS7yTykNCJUOMdCKQnAdvvf2C7lf15Z3sO2U8QDyEQnQDzNf3MsEqAqOFs2LDBOQZXXeanLgK85ZZbnJWFkSNHOn/S+SGh0zm6jC3ZBNJtj3vJ+i3SZfw7cbHNGdZdWhTmx21nqkHc7VY+Vj3SLWamGJuyY2sOmRofdiCQKgLM1/TJWydA1JDUUbdHHXWU/Pzzz86FfmpVQa1+pPtDQqd7hBlfMgik6x73RStLpeedH8RF9vqV3QLbhmVq1SNdYxY3WAE3sDGHAkZAdxBICgHma/pYUypAli5d6jqC7777zrn4T9VhXHvttTXaRbZm6Q/fLgsktF3xwJtwEEjXPe4lpVukyzg7VkBiCY8NN4vU3+7vhKt0jZlt3xibcsg2NvgDAR0CzNd06P36bkoFSHZ2tmRlZbmOorKyMurnyToFSx+nngUSWo8fb2cegXTe4647NhPbm5rf1lxWbVrl/jPax3ariBHdcelmuQkuuj4k4/1o48rNzpL+D39c4wS12n0f3LqhTBlwuJXHOieDEzYhYIIA8zV9iikVIKNGjYopQNyGl661ICS0fkJjIbMIpPse98UrN0jvGKdgTb+sWNq1qHkKlqntTXG3W6lUS+Bej1TFzBQX275h8ca1S90cOeGO911PUouWQ7aNEX8gYBsB5mv6EUmpANF3P70skNDpFU9Gk3wC6b7HPTK5HD5tocxfvr4KqPqt9bi+HaSoyc73gOhub4olPD5+UOR3KxITHhHnUxUzXS7Jz+bEeog/rq6yS16uXPXcfM85lJgnvAWBzCHAfE0/1tYIkM2bN0u3bt2cm8gvvfRS/ZGF0AIJHcKg4XJKCWTKHvfI9pp1m8qkUUEd15vQdbY3DZs1TMbPHu8aT+dOjwRXPaobTUXMdLikNMHjdO5nXMrU1h3lEi+HbB4vvkHAFgLM1/QjYY0AUUNp2LCh3HrrrTJw4ED9kYXQAgkdwqClmcth2x/vZwLWqCAvzaK183AS3d6UrO1W0YCnImaJcrE9YdJ1XLZzxz8IMF/TzwGrBIi6Cb1Zs2byyCOP6I8shBZI6BAGLU1cjrePvKjpzlt9bBl6InUStvhu2g+/25tiCY/R74qM+OdvHiZQ6xFrbEHHzC8X03FJlr10HVeyeGEXAqYIMF/TJ2mVAPn666/luOOOk0GDBsnll18uhYWF+iMMkQUSOkTBSjNX4+8jLw7srgm/aBOpk/DbR1jae93eNOm8fOn9f8e5DsvUdiu3DoKOmVcuQV/qqJtX6TouXS68D4FkE2C+pk/YKgHSpk0bUbUg69atc0bWuHFjyc+vecOvOrZ32bJl+iO30AIJbWFQMsClVGyJSQZWr3USyejbFpteYrksv1d84aFaGF71iNZpUDHzwiWMx9Gm67hs+T7hBwTcCDBf088NqwTIMccc4+lY3nfffVd/5BZaIKEtDEoGuMQ+8vQKstv2pljCo+kmkZ9v/Y3Dtm0ieamtl0lGLVIyt30lw1+vWZnMcXn1IdPapTLemcba1vEyX9OPjFUCRH844bZAQoc7fmH1nn3kYY1cdL9rb2+qkE2yPP9P1qx6xKKdzFqkZGz7Sqa/XrMyGePy2nemtbMh3pnG3NbxMl/TjwwCRJ+hMQsktDGUGPJBgH3kPmCFqKn6LW3j2+p6Ex4//SSy++4pH10QtUgmt30F4a/XoJgcl9c+M62dTfHONPa2jZf5mn5EECD6DI1ZIKGNocSQDwLsI/cBKyRNY51upYZQVWTu/EelFaMKWx6GzV8rghxiJ4h3iIOXBNeZr+lDtU6AqPqOCRMmyCeffCLr16+Xyij/cywvL9cfuYUWSGgLg5IhLrGPPH0C7elODzXcuXNFDj/cmoGHrRYpbP5aE+iQOkK8Qxq4JLnNfE0frFUCZMaMGXLqqafKfvvtJ6og/b777pNzzjlHKioqZPr06dK+fXvn85EjR+qP3EILJLSFQckQl9hHHv5AxxIe5aNFsqsvdFiy6lGdethqkcLmb/gzPLUjIN6p5W9b78zX9CNilQA56qijZNOmTfLxxx/Lhg0bnEsJZ82aJd27dxd1R8iRRx7piJI//vGP+iO30AIJbWFQMswl9pGHL+C+tls9+qjIeedZOciw1SKFzV8rgx4ip4h3iIIVgKvM1/QhWyVA6tevL6NGjZK//vWvsnbtWmnatKm88cYb0qNHD2ekN9xwg6hVknnz5umP3EILJLSFQcElCFhMwPN2KzUGC1c9qqMN2x77sPlrcRqHwjXiHYowBeYk8zV91FYJkAYNGsg//vEPGThwoGzbts25hPCpp56Ss88+2xnpQw89JEOGDHFWSdLxIaHTMaqMCQLmCcQSHstvF2m1oVqfF16ofniadyIJFsNWixQ2f5MQsowySbwzKtwxB8t8TT8XrBIgHTt2dGo8xo4d64xsr732cmpBpkyZ4vx3//795Z///KcsX75cf+QWWiChLQwKLkHAIgJtJ7WV79Z/5+pRjdOtVCvLVz1qDyRstUhh89eiVA6lK8Q7lGFLitPM1/SxWiVArrrqKpk5c6Z89dVXzshGjBghN910kxx77LFOIfr7778vl19+uUyaNEl/5BZaIKEtDAouQcASAr62WxUUiGzcaInn/t0IWy1S2Pz1HxHeqE6AeJMPzNf0c8AqAVJSUiILFixwVj3q1q0rZWVlzparZ599VnJycqR3794yceJEKVD/c03Dh4ROw6AyJAhoEoglPJ58UaTfwlodhGzVQxMPr0MAAhAInADzNX3kVgkQ/eGE2wIJHe744X3yCER+47hW3e5dkCf1cnOkUUFe8jq0wPItH9wi1719nasnO223Ui0RHxZEDhcgAIF0J8B8TT/C1gkQdfHg22+/Ld9++61zElbtiwizsrJk2LBh+iO30AIJbWFQcCmlBCJ7rodNXSCf/1ha5UunVoUyvm9HKWpaIPl5OSn1MRmd+9puhfBIRgiwCQEIQMCVAPM1/eSwSoCo7VdnnHGGIz6i3YCuhqsECDeh6wceCxAIA4EvV26QPvfMlm07KnZyt25utkwbXCztWzYIw1A8+RhLeHRbJvL+r+dx1HxY9fDElkYQgAAETBFAgOiTtEqAqIsGv/jiC+cukC5dukjDhg2jjvDAAw/UH7mFFkhoC4OCSykjkEnn7i9YtUA63dfJlTXbrVKWhnQMAQhAYCcCzNf0k8IqAaLu/Rg+fLjceOON+iMLoQUSOoRBw+WkEShZv0W6jH8nrv05w7pLi8L8uO1sbeB7u5UaSJqtemRijY+t+YhfEIBAfALM1+IzitfCKgGy7777OsfsqpOvMvEhoTMx6ozZjcCilaXS884P4gJ6/cpuodyGFUt4OBpjVJShp5nwyNQan7hJTQMIQMBqAszX9MNjlQC566675JFHHpGPP/5Y8vLS+4SbaKEjofUTGgvpQ6CkdIt0GZd+KyDbdmyTemPruQYqqvBIw1UPNaRMq/FJn28nI4FAZhNgvqYff6sEiBrOhAkT5IEHHpA///nP0rp1a+f+j9qP+iwdHxI6HaPKmBIlkI41IDZvtwp6G1Q6xjfRXOc9CEAgXASYr+nHyyoBsnz5cunTp4+owLo9nIKlH3QsQCAsBBav3CC9Y5yCNf2yYmnXwv5TsBLabhXQqkeqtkFlSo1PWL5r+AkBCHgngADxzsp1Pl/pdt6tvm3fFk466SR55513nDqQ4uJi11OwjjvuON+2w/ACCR2GKOFjkAQik+Ph0xbK/OXrq7o+uHVDGde3gxQ1sf8eEJtXPRTQVG2DSvcanyC/J/QFAQgES4D5mj5vq1ZAdt11V0d8jB8/Xn9kIbRAQocwaLgcCIHI9qB1m8qkUUGdUNyEHkt4bLlJpN4OF3QBFpqnchtUutb4BPKFoBMIQCClBJiv6eO3SoComo9rr73WESGZ+JDQmRh1xmyaQNC1DLX9N73dKtp4crOzZOP2HbJ203ZpXJDnKsjisUjlNqhUih/TOYc9CEAgswgwX9OPt1UCZMSIEc4WrPfff1+ys7P1RxcyCyR0yAKGu1YRSFUtQ3UICW23UgairHrEGs8NvdrLawtK5NEPv3e679SqUMb37ShFTX/dkuaVRaq3QaVLjY9VXwScgQAEkk6A+Zo+YqsEyBtvvOFcRFinTh0ZOHCgtGnTJuopWN27d9cfuYUWSGgLg4JLoSGQqloGBSiW8Ph0n1vlkP5Do3OsqBDJyor6WbzxPHbB72TirCXy0dK1zvt1c7Nl2uBi506UeO9G2qV6G1Q61PiE5guCoxCAgDECzNf0UVolQGqveqgTr6o/ql6eU7D0g44FCKQbgVRt5znhiRPkraVvueJ0vdPDZdUjYsjreC49Zm8Z9MS8qv5Vcf6Dfz5ULnrs3/L5j6Wufql2UwYc7nw+YMpcT20bFSTvbqYw1vik23eI8UAAAt4JIEC8s3JraZUAeeyxxzyN6LzzzvPULmyNSOiwRQx/bSGQilqGmNut/rRYpF276Hg2bhQpKIiJzut4ZgzpJqff+6Fs3l7u2CvIy5E3r/69FN/i/QJHtkHZksX4AQEIhIUA8zX9SFklQPSHE24LJHS444f3qSMQZC1DLOEx8vcjZdSxo91BeDzhyut4nrjwdzL0+QXy04atTp8tCuvJ/f0PlT9Mnh03GK9f2c3ZrsU2qLioaAABCECgBgHma/oJgQDRZ2jMAgltDCWGMoxAELUMzy96Xs584UxXspVXl4oUFkb//JtvRPbe23NUvI4n2grIW3/5vXQd730FJOIU26A8h4eGEIBAhhNgvqafAAgQfYbGLJDQxlBiKMMIeK2ZUHUPidQyxNxuNbLStZDcCYPHVY/qIfM6Ht0akERYZFhqMVwIQAACOxFgvqafFAgQfYbGLJDQxlBiKAMI1L7joqKiUq6bulD+9fWanUavToiaflmxtGvRwBeZWMKjxa4tZOXVP4rk5ES3OWOGyEkn+eqveuN4tRmPX/A7uf2tJfLxd/87BSsyxnjvJsIi4YHwIgQgAIE0I8B8TT+gCBB9hsYskNDGUGIojQnEuuNibJ8OMvubNTJuxldVBNSJT+P6dpCiJr/ekeHlKflvibS8vaVr08okrHrU7ixWbcb1PdvVuAek9hip6/ASZdpAAAIQSIwA87XEuFV/CwGiz9CYBRLaGEoMpTGBeHdcTB3cVZo3qCerNmyTRgV1XG8Jd0MUd7uVetHl7g4ZPVpkxAij9KPVZkRuQl+3qSzmGKnrMBoKjEEAAhBwCDBf008EBIg+Q2MWSGhjKDGUpgS81kYkUusRS3gonEGseqRp2BgWBCAAgbQiwHxNP5wIEH2GxiyQ0MZQJsVQ7ZqDerk5CRU0J8W5DDHq9X6MOcO6S4vCfE9U1AWn2WOyXds6wkM9bqsePXqIvPmmp75oBAEIQAAC4SfAfE0/hggQfYbGLJDQxlAaNRSr5mB8345S1NR7bYFRxzLQmNf7MSJ3XMRDFGvVo2JEhWQp0eEmPJTxBE64iucTn0MAAhCAgN0EmK/pxwcBos/QmAUS2hhKo4bi1RxMG1zsXOjGk3wCXu/HiLcC4mm7VaxVD8RH8oNNDxCAAAQsJcB8TT8wCBB9hsYskNDGUBozlMyaA2NOZpAhE/HQKjJHeGRQtjFUCEAAAtEJMF/TzwwEiD5DYxZIaGMojRlKRs2BMecy1FCid1zEEh5rhq6RJrs0+ZUoW64yNLMYNgQgAAFvBJiveeMUqxUCRJ+hMQsktDGUxgyZrjkw5lgGG/J7x8UuY3eRLTu2uBKLW2TOqkcGZxtDhwAEILAzAeZr+lmBANFnaMwCCW0MpTFDpmoOjDmEoSoCXu648LTdilUPsgoCEIAABHwQYL7mA5ZLUwSIPkNjFkhoYyiNGTJRc2DMGQx5JhBLeLzR/w05Ye8TfrXFdivPTGkIAQhAAAK/EmC+pp8JCBB9hsYskNDGUBo1lGjNgVEnMOaJwMh3R8qY98e4tq3aboX48MTTbyPuyvFLjPYQgEAYCTBf048aAkSfoTELJLQxlEYN+a05MNo5xjwTYLuVZ1TGG3JXjnGkGIQABCwmwHxNPzgIEH2GxiyQ0MZQJsWQl5qDpHSM0ZgEYgmPwYcNlsk9J//vfbZcJSWbuCsnKVgxCgEIWEqA+Zp+YBAg+gyNWSChjaHEUAYQmLtirhzx0BGuI62x3apuXZHt26O35TZzrWyhTkoLHy9DAAIhJMB8TT9oCBB9hsYskNDGUGIozQl43m6lOLDqkdRs4K6cpOLFOAQgYCEB5mv6QUGA6DM0ZoGENoYSQ2lKIJbwUEOuserRu7fISy+x6pHkXOCunCQDxjwEIGAdAeZr+iFBgOgzNGaBhDaGEkNpRmDT9k2y67hdXUdVQ3iw6hFo9LkrJ1DcdAYBCFhAgPmafhAQIPoMjVkgoY2hxFAaEYi16rHyqs1SLzdHGhXk/Triu+4SufLKjF31SMUxuNSApNGXjaFAAAKeCDBf84QpZiMEiD5DYxZIaGMoMZQGBOJtt9pzy6vOKDu1KpTxfTtKuz0K3Ued5oXmqT4Gl7ty0uALxxAgAAHPBJiveUbl2hABos/QmAUS2hhKDIWcQCzxEREekSEe8cNCee6ZYdFHXF4ukp0dchrx3U/1MbjclRM/RrSAAATShwDzNf1YIkDiMHznnXfkuOOOc1p9/fXXss8++1S9sWXLFhk1apQ8/fTT8vPPPzufDRkyRAYOHJhQZEjohLDxUhoRiCU8Tm38nixYsbHGaL+/pVfGrnpEBm7TFijuykmjLyNDgQAEXAkwX9NPDgRIDIZlZWXSsWNHWb58uWzatGknAdKzZ09588035fLLL5f27dvLa6+9Ji+99JJMmDBBhg4d6js6JLR3ZKnY6+7dO1r6JRBvu9XKIZuly/h3qsw237BGPrp3QPRuSktFGjTw60Jo23MMrv/QZcrPj0wZp/8M4A0I6BFgvqbHT72NAInBcNy4cTJx4kQ555xznH9WXwF59dVX5dRTT5Xbb79drr766iorp512mrz11luybNky2W233XxFiISOjyvVe93je0gLvwS83OlR/ajXWKseX64olfYtM0d8KNYcg+s94zLl50emjNN75GkJAbMEmK/p80SAuDD84YcfpF27dnL33Xc7YmL06NE1BEi/fv1k6tSpsnbtWsnPz6+y8u6770r37t3lwQcflIsuushXhEjo+LhSvdc9voe08EoglvBYdtUyaVPYpsqUOur1mL/PlP/8o29U88dddK9826S1zBnWXVoU/u/76NWXMLfjGFzv0cuUnx+ZMk7vkaclBMwSYL6mzxMB4sKwT58+UlJSInPmzHHER20Bsv/++0ujRo3ko48+rhdMXAAAIABJREFUqmFh8+bNUlBQIIMGDZL77rvPV4RI6Ni4bNrr7iuwNK5B4KQnT5I3vn3DlcpOd3qoljFuMy+69tfTsA5u3VCmDDj8f0fyZgh3vhfeAp0pnDJlnN6iTisIJIcA8zV9rgiQKAxVLccf/vAH+fjjj+Wwww5zCs1rC5D69evLCSecIC+++OJOFho3bizFxcXyyiuvuEZIiRv1p/qzePFi6d+/v8ybN086d+6sH11NC7btH07FXne/DPy21wxR6F73st2qxqDU8bkup1gNOGOUvLf3YU7zurnZMv2yYmnXIrO2X0VYcQxu/K9CKn5+xPfKfItMGad5cliEgHcCCBDvrNxaIkBqkdm6dasceOCBVduo1MfRBEhOTo786U9/ck7Aqv20bNnSKUqfNWuWa4QiNqM1SLUAsXX/cJB73f0y8Nte/6sbLguxhMdTfZ+Sczqcs/OAPKx6qJfUyse4vh2kqEmB5OflhAuMIW85Bjc+yCB/fsT3JnktMmWcySOIZQjEJ4AAic8oXgsESC1CI0eOlLvuukuWLFkiTZs2dT7NtBUQW/cPB7nX3S8Dv+3jfTHT5fPHP39czpt+nutwom63Uq3dxMff/y7rrr5Gtu4ol3WbyqRRQZ2aN6GnC7gEx8ExuO7ggvz5kWD4jLyWKeM0AgsjEEiQAAIkQXDVXkOAVIOhtkTttddezqlWqoYj8qgTsCZNmiTvvfee83mbNm0kXWtAbN4/HJRvfvvx217/axsOC763W8USHuqzNL/NPBxRDa+XmfI9zZRxhjcT8TwdCCBA9KOIAKnGcP78+XLIIYfEpKoKzDdu3OgczTtt2jTXU7AeeOAB3xcS2pDQtu8fDmKvu18Gftvrf23tthBLePTct6e8es6vReM7PW6rHieeKDJzpt2DxrtQEAji54cNIDJlnDawxofMJGDDfC3s5BEg1SJYWloq6hjd2s+zzz4rzz33nNx7773SqlUr6dWrl1NgrgrV3e4B+f7776VZs2a+8sOGhLZ9/3AQe939MvDb3ldShKjxsvXLpGhSkavHvrdbseoRouiHw9Ugfn7YQCJTxmkDa3zITAI2zNfCTh4B4iGC0WpA1GsnnXSSvP3223LFFVc4RefqckJ1E7q6wPC6667zYLlmExsSOiz7h5O5190vA7/tfSdGCF5IaLuVGleMQnO2XIUg8CF1MZk/P2xCkinjtIk5vmQGARvma2EnjQDxEEE3AaLu/FBF688884z8/PPPsvfee8uQIUNq1I94MF/VxIaEZv+wiF8G8doX5OVIl72byK1ndEq7OypiCQ9nAWNkZfSvAMLDz48G2kIAAhCAgEUEbJivWYQjIVcQIAlhS85LtiQ0+4dF/DKI1v7Ito3lwqP2ktaNdpHt5RWyW/26aXNi046KHVLn73VcvwiuwoNVj+T88LDMKvfhWBYQ3IEABIwSsGW+ZnRQARtDgAQMPFZ3tiQ0+4dF/DKo3X5A1yI56aDmMu71xfL5j6VVYe/UqlDG9+0oRU3De2cF260s+qFhmSvch2NZQHAHAhBICgFb5mtJGVxARhEgAYH20o1tCc3+4V+3Y/m5c0K1r6islJWlW+WMez+UbTsqdgq9urV72uBiad8yXLd2J7zdilUPL1//tGjDfThpEUYGAQEIxCFg23wtjAFDgFgUNRLaomBouBKvJkSZVrd3TxlweGhqQlj10EiIDHk1HfM+Q0LHMCEAAZ8EmK/5BBalOQJEn6ExCyS0MZTGDfnZ027DvSB+/I0FK5bw2Dx8s+TXya/xevV+D9yjobtpLhU0nqOpNmhD3qeaAf1DAAKZQYD5mn6cESD6DI1ZIKGNoTRmKJE97am8FyQRf6PBqndTPdlWvs2VY+0i8+r9vnRFN4SHsQwMj6FU5n14KOEpBCCQDgSYr+lHEQGiz9CYBRLaGEpjhhLZ057Ke0ES8bc2rES2W0X6/c/YUxAfxrIvXIZSmffhIoW3EIBA2AkwX9OPIAJEn6ExCyS0MZRGDCW6pz3R93Sd1u03lvD4bNBncnDzg6O6qPr9+cCDZb9li6N+XnTtq6GredGNRSa+r5t/mciMMUMAAuEkwHxNP24IEH2GxiyQ0MZQGjGks6fd7z0iJhxO1N9hs4bJ+NnjXV2IeaeHeivGpYJKfESeOcO6S4vCmjUjfsdtqrbFb7+090YgFXnvzTNaQQACEDBHgPmaPksEiD5DYxZIaGMojRjS2dPu9x4REw4n4m8i262qfB06VOS226K6Xl14RBq8fmW3hI8eNlXbYoIzNtwJpCLviQcEIACBoAkwX9MnjgDRZ2jMAgltDKURQyb2tPu9R0THcT/+tpy4i2tXE0+cKEOOHBLbFY+rHtWN6KyAmKht0WHLu/4IBJn3/jyjNQQgAAF9AszX9BkiQPQZGrNAQhtDacRQ2Pa0e/G3VfPvZHbpFa584m63eu45kbPOivp+tFWPSEOde0+8jEvHvpFkwQgEIAABCGQMAeZr+qFGgOgzNGaBhDaG0pihsO1pj+XvsvxeiQsP9WaMVY/FK0ql9z2zXW9+n35ZsbRrkdjN74nWthhLAgwFRoAan8BQ0xEEIKBBgPmaBrzfXkWA6DM0ZoGENobSmKGw7WmP5m8s4dG5RWeZd/G82Lzmzxc55JDobcrKRHJzJZmcEqltMZYAGAqEADU+gWCmEwhAwBAB5mv6IBEg+gyNWSChjaE0bihse9qVvz9tXCPt79sjaaseEuU282Rw8lPbonvKlvHEwaAnAtT4eMJEIwhAwBICzNf0A4EA0WdozAIJbQxlWhvysk1F63QrRW/NGpHddovOUX3WpElgjKkB8Y/aS474t5qcN4hvcrhiFQIQSB4B5mv6bBEg+gyNWSChjaFMS0NetqnsMi435tjjFpmrt2PUekRb9QgCdthqcYJgEq0PLzmSn5eTKvei9kuNj1XhwBkIQMADAeZrHiDFaYIA0WdozAIJbQxlWhqKtU0lLzdLvq7T03XcnoTHjh0idepEt7FggUiHDinjmswak5QNKgkdh3ErEzU+SUgETEIAAkklwHxNHy8CRJ+hMQsktDGUaWco1jaVWEXmFSMqJCvWikaElIWrHtGCmIwak3RJFsXmb8/Pl4+WrpVN28ujDsvG44qp8UmXDGQcEMgcAszX9GONANFnaMxCpiZ0Kvarp6JPnUSJtk0llvBQfXla9VAN3cTHCy+InH66jtu8GxABlc9bysrlm9UbZbf6dWX52s3yyOzvHDFS+9G5EDJiy+T3hxqQgJKEbiAAAWMEMnW+ZgygmnpUVkY5ysZkD9jyTCDTEjoV+9VT0afnBIjRsPY2Fe07PWIJD0e9VJpwGxtJJhArn4ef0k5mfPGTPPrh9zW8eP3KbtK+ZWJ3siTr+0ONT5ITBfMQgIBRApk2XzMK7zdjCJBkUE3QZqYldCr2q6eizwTTocZrkW0qsYRHqy1Py9xhvcXTUbRuqx4jR4qMGmXCZWwEQCBePj92we9k4qwlNVZCdFZA4vU3bXBxQuKGGp8AkoUuIAABYwQybb5mDFw1QwiQZFBN0GYmJfT/t3cnUFYU9+LHfzLDAI6yKyKgAyQohl1NAogiQSHRKKJZFGMgIY/FIDE+UMAFDZvo30QNCBGFuL1oVDBqABeURCAiJCAqLmwKMgQJmwzDMAv/8+vkTma5S/ftvfvb57zzcrzVtXyq7lC/21Vdfiy78KPMLIdCrdu+/cSlsmTzyymzO734JTG1vj8kez2ccotyPmbH86i+7WXE4/8+bNLUGEmBZra8+UPPlSb5eVnRs8cnKzZuQgABjwXiNF9zi5YAxC3ZLPKN04D249WbfpSZxTCodUu6Mz008NCrXm4dWXR9b+nYMs3SmlTBR//+Iq++6kRVQ5GHk/sX/Gyw2fG8eGwfufKhlVJecSzzGEnTILPl2XnC4qcnZSOAAAJmBeI0XzNrYjUdAYhVMRfTx2lA+/HqTT/KtDNc0gUeLUpmSP2KTpW/ak8f3FkKmuVL0jMeeOphOLm1f8FOH9u51+x4fvynX5cFK7bJ/w44I/UYMVERs+XZ2WNiohokQQABBHwXiNN8zS1sAhC3ZLPIN04D2o9Xb/pRZhbDQBasWyDDXhiW8ta9/1siR8rKZV9RqTTJryv1c3NSL3kh+Kh0dGv/QjZ97MQ9Zsfzylv6SYO6acaIycqYLY8nICZBSYYAAqEViNN8za1OIgBxSzaLfOM0oL1YT16zC/wo0+owSPfUw/RrdbVQAo9q9GHoe6tjxes2eV2eVQ/SI4AAAl4JxGm+5pYpAYhbslnkG7cB7cerN/0o08xQSBd43NrnVvlVv18Z2Zjav0DwUYs8qvsX0o3nPl9tLjMGd5E6dUT2Fh2Vpvl56Z+WmRioQf3+mKg6SRBAAAHHBOI2X3MMrkpGBCBuqGaZZ9wGtB+v3vSjzHTDYdPeTfLVB7+aMkniqYep/Qv1clMXFfNzPaK6fyHVeJ7w7TOl11eay60LN8j6HQcqx0XX1o2MoKSgeYr9Qhn+dgXt+5Pln1puQwABBGwJxG2+Zgsrxc0EIG6oZplnXAe0H6/e9KPMmsPCynKrTPsXPpr6HYKPNN+7qO9fqDqeWzSsJ7sOHpHBs1dKSVlFLRV9Y1q253UkMgvC9yfLP7PchgACCNgWiOt8zTYcT0CcJHQuLwa0c5ZBzild4HFm8zNl4/Ubq1U/3dr7bXdfSuBhorPjtH8hTm010fUkQQABBBwXYL5mn5QnIPYNHcuBAe0YZSAzKikrkfpT66esW6pN5qn2LxB8WOvmuOxfiOp+F2u9TWoEEEDAPQHma/ZtCUDsGzqWAwPaMcrAZWRluVXNytfcv7DmwSHS/PB/1/VXSx/zvR7pOj4u+xeiut8lcF9qKoQAArEVYL5mv+sJQOwbOpYDA9oxysBklC7w0EqaebVu1f0L6Z56FO4/LC0bNQhM24NakajvX4j6fpegjivqhQAC8RFgvma/rwlA7Bs6lgMD2jHKQGRk56lH1QbohPnv/S6Xb61ekrRdBTe/JN3aNJb5Q89NfSBhIESohBcC7AHxQpkyEEAgzgLM1+z3PgGIfUPHcojbgDZ1poVjut5llC7wKL2tVHLrpHldbrJqpjnXQ4MPfavRout7S8eWDb1rJCUFWiAu+10C3QlUDgEEIisQt/maGx1JAOKGapZ5xmVAmzrTIi8nS0X/bhv4xEBZunlpygqYWW5V7ebf/lZkzJiUTz30A33yMX1wZylolt25Dv5pUbKbAnHZ7+KmIXkjgAACqQTiMl9zcwQQgLipazHvuAzoTGda2D2jwCK7I8mdWm5VWZk0Tz10r8e+olJpkl/X9snWjjSeTAIrEPX9LoGFp2IIIBBpgbjM19zsRAIQN3Ut5h2HAR219enpAo8dN+6QVg1bWRsFb7wh0q9f8nt4w5U1S1IjgAACCCDggkAc5msusFXLkgDEbWEL+cdhQEfljIIH3n5Axi4Zm7J3dbmV5T0uaZ56CMGHhW9S8JNaHhvBbxI1RAABBGIjEIf5mtudSQDitrCF/OMwoKNwRkGm5VaW97hs3SrSrl3ykVJSIpKXZ2EUkTTIApbHRpAbQ90QQACBmArEYb7mdtcSgLgtbCH/OAzoMJ9RkC7wWHbdMrmw7YVGb1va48JTDwvfkPAntTQ2wt9cWoAAAghEUiAO8zW3O44AxG1hC/nHYUCHcQ/Iul3rpPvc7il7surbrUy378ozpUnL5snz3L1b5KSTLIwckvohYHUZlemxwXkufnQnZSKAAAKmBeIwXzONkWVCApAs4dy4LS4DOkxnFGRablVzHJjZ45LuNHP2erjxzXI2z2yXUZkZG1rTVRP6CSfaO9tn5IYAAgg4KRCX+ZqTZjXzIgBxU9di3nEZ0GE4oyBd4DGz/0wZ13tc0t5Nt8fluGMVsnXmZclHxbvvinTubHHEkNwPgWyXUUVh/5Mf3pSJAAIIBE0gLvM1N90JQNzUtZh33AZ0EM8o2H9kvzS5u0nKnst0mGCqPS489bD4ZQhocjvLqMK8/ymg3UG1EEAAAV8E4jZfcwOZAMQN1SzzZEBnCefQbVaXWyUrNtkENWXwsXChyKBBDtWebLwQsLOMyk7w4kXbKAMBBBBAwJwA8zVzTulSEYDYN3QsBwa0Y5SWMkoXeHy3w3flT1f/yVJ+iT0uH039Tur7ONfDkmlQEttdRhWm/U9BMaceCCCAQNAEmK/Z7xECEPuGjuXAgHaM0lRGFccqJOeunJRpMy23SnWj7nFpUC836cdfjJskJ0y5UxrkpS7XVOVJ5IuA3WVUYdj/5AsshSKAAAIhEmC+Zr+zCEDsGzqWAwPaMcqMGTmx3CppIWnO9dh3qESa5HOoYMbOCXACp5ZRBXH/U4DZqRoCCCAQKAHma/a7gwDEvqFjOTCgHaNMmVGvR3rJqh2rHH/qYWSYKvj43vdEnnnG/cZRgicCLKPyhJlCEEAAgcAKMF+z3zUEIPYNHcuBAe0YZfKHE3ce523goaWx18PdTvUhd5ZR+YBOkQgggECABJiv2e8MAhD7ho7lwIB2jLJaRumWWx2ZdETq5dbLvuBUTz0uuEDkzTezz5c7Ay/AMqrAdxEVRAABBFwRYL5mn5UAxL6hYzkwoB2jNDK6a/ldcsebd/DUw1lWckMAAQQQQCDWAszX7Hc/AYh9Q8dyYEA7RimubTLXKqZ66lGnjuw7WCxHysplb9FRaZqfJ/Vzc9h47ly3khMCCCCAAAK+CzBfs98FBCD2DR3LgQFtnzJd4PHpLz6V0xqdln0had5wVVxSJlv3FMmE59+V9TsOVJbRtXUjmTG4ixQ0z+fVu9nLcycCCCCAAAKBEWC+Zr8rCEDsGzqWAwM6e8qlm5bKwCcHpswg2zM9KjNME3zoRvMPdh6UK2avkJKyilp1qJdbRxaO7i1nndow+wZyJwIIIIAAAggEQoD5mv1uIACxb+hYDgzo7ChdXW41cKDI0qXJK/afN1w5dTZEdq3nLgQQQAABBBDwUoD5mn1tAhD7ho7lENUBnXhbkNP7ItIFHq9c+4pc1P4ie32T4alHIvPC/cXSc8ayjGWtmtBPWjZqkDGdnQRuWdupE/cigAACCCAQJYGozte87CMCEC+1M5QVtQGdOC/B6X0RO7/cKa3ua5VS0/Zyq5tvFpk5M+1Tj6ofvr/zgFzywFsZR9Kfb+jj2jIst6wzNooECCCAAAIIxEwgavM1P7qPAMQP9RRlRm1Au7EvwtXlVtovJp96VO3CwgPF0nO6v09A3LAO0FeDqiCAAAIIIBAYgajN1/yAJQDxQz0GAUjNfRH5eTnSsEFdOVhcKkVHyw2Bbm0ay/yh55p6TW26wGPKhVNk0vmT7PXkggUiw4aZfupRNaHfe0D8Lt8ePHcjgAACCCAQLgECEPv9RQBi39CxHKI0oBP7Ir7Zrqn89Ly20rrJ8fLFlyVy0on1ZPvew/Loiq3yty17JdO+iKPlR6XelNQnldtebpXlU4+anb5x50EZlOYtWIuu7y0dW7rzFqwg7UFx7MvgcUbsnfEYnOIQQACBEAtEab7mVzcQgPgln6TcKA1o3RfxxzU7ZGCnU2T6nzfWOhtj4nc6yuL3dsn3z2mTcl+E68utli8X6ds3q6ceNW9K7MGYuHCDrNu+v/JjfcozfXBnKWjm3jkgQdiDEqCvkaWqsHfGEheJEUAAAQREJErzNb86lADEL/mIByD/OlQin+w+JD9+dHXKszF+/5Ovy1dPPkGanVD9CccFCy6Qv3z6l6Q9M+qcUTL7ktn2ey2LvR5mCk38kr6vqFSa5Nf15CT0IOxBMWMTxDTsnQlir1AnBBBAINgCBCD2+4cApIrhmjVr5IknnpBly5bJ1q1bJT8/X772ta/JhAkTpH///tW0y8vL5Z577pF58+bJ9u3bpU2bNjJ8+HAZN26c5OTkZNUzURrQX3x5RIb/fk21Jx81UfTpwMPXnS0nnVi/8iPXn3ps2SLSvn3y/qmoSL8JPatedf8m9oBkZ4xbdm7chQACCMRdIErzNb/6kgCkivxVV10ly5cvlyuvvFJ69Oghhw4dkvnz58t7770ns2fPllGjRlWmHj16tDz00EMybNgw6dWrl6xYsUIWLFgg+t9nzZqVVX9GaUCb3Zew8pZ+cqD4qJz1u8YpzSpur5Dj0j2xMKvt0lMPs8W7mc7PPShutsvNvM2O0Uz7lNysI3kjgAACCARPIErzNb90CUCqyGsQcc4550i9ev9dElRcXCzdunWTL774Qnbv3i25ubmyYcMG6dq1q4wZM0buv//+yhzGjh0rDz74oKxfv146d+5suU+jNKDN7ksY2PNvMnfdlKRWHZp1kI9+/pFlx1o37Nsn0rRp8nxKSkTy8uyX4XMOfu5B8bnpWRdvdoy6eX5L1pXnRgQQQAAB3wSiNF/zC5EAxIT8TTfdJPfdd5+x1Kp169YyadIkmTZtmmzZskXatm1bmYMu22rXrp3x+ZQpySfV6YqL0oA2sy/h0waXpuRw5O1WmnuEn3okw/NjD4qJr1Agk5gZo1pxnoAEsvuoFAIIIOCbQJTma34hEoCYkL/66qvl2WeflX379skJJ5wgAwYMMJ5y7Nq1q9bdLVq0kO7du8uSJUtM5Fw9SZQGdLr19ekCjzbFz0qPNqeYPh8kJfLRoyJVnmRVS6dPRBqnXvJlueO4IZQC7AEJZbdRaQQQQMB3gSjN1/zCJADJIL9x40ZjCdall14qzz33nJFal1fl5eXJ2rVra92te0dKS0uNZVrprsLCQtH/q3ppWddee62Rr+YT9qvmvoSjx22Rwvo3pGzW0qsKTZ8PktYmZk89wj5O/Kw/e2f81KdsBBBAIJwCBCD2+40AJI3hgQMHpGfPnrJz507jicfpp59upG7fvr3ok46VK1fWuls3pOtekU2bNqXtncmTJ8udd96ZNE1UApCq+xJe2HNeSo/Ti18yPuvaupGYOR8kZUbHjonUqZP8482bRdq1s/+NIYdICbB3JlLdSWMQQAABTwQIQOwzE4CkMNTN57rUavXq1bJ48WK58MILK1PyBMT8wOs2p5us/+f6pDe0Ln5ccqRJtc/q5daRVOeDpC2Vpx7mO4WUtQTYO8OgQAABBBAwK0AAYlYqdToCkCQ2R48elcsuu0xef/11Y+/H5ZdfXi0Ve0AyD7x9xfuk6czkb57KO66xtDz8RMpMkp0PklXwsWKFSK9emStLCgQQQAABBBBAwKQAAYhJqDTJCEBq4JSVlYmeB/Liiy/KY489JkOGDKnFN3HiRJk+fXrKt2Dp51OnTrXcO1EZ0OkOE9w59rD0nLEso42pNw/x1COjIwkQQAABBBBAwFmBqMzXnFWxlhsBSBWviooKueaaa+Tpp5+WOXPmyIgRI5Jq6n4QfdNVqnNA1q1bJ126dLHWEyIS9gE9+c3Jcufy5PtaNt+wWdo1aSeOnb2QKvh46imRq6+2bM8NCCCAAAIIIICAGYGwz9fMtNHtNAQgVYR/+ctfyq9//Ws5//zz5Wc/+1kt+4suusjYfK7XyJEjZe7cucZJ6L179zZOQtdT0zVo0eAlmyusA7q0vFTypiQ/zK9Xm16y4icrKjlsn73AU49shhb3IIAAAggggIBDAmGdrznUfEeyIQCpwti3b19Zvnx5Stg33nhDNI1eulRr5syZMm/ePPn888+lVatWMnz4cBk/frxxWno2VxgHdLrlVskOE7R19kKq4EPfJnb77dmQcw8CCCCAAAIIIGBJIIzzNUsN9CAxAYgHyGaLCNOAXrJpiXz7yW8nbdr6keulS4vUS9Asn73QoIHIkSPJGfXVu1wIIIAAAggggIBHAmGar3lEYrkYAhDLZO7dEIYBfezYMalzV/KzNgZ+ZaAsHrI4I5ClsxdSPfUYP17k7rszlkUCBBBAAAEEEEDASYEwzNecbK8beRGAuKGaZZ5BH9AdHuwgn+z9JGnrki23ysSQ9uyFb3xDZPXq5Fnw1CMTLZ8jgAACCCCAgEsCQZ+vudRsR7MlAHGU015mQR3Qa3eulXMePidp41YPXy3ntjrXXsNr3p3qqcf3vy/y9NPOlkVuCCCAAAIIIICABYGgztcsNMH3pAQgvnfBfysQxAGdapN528ZtZcvYLc7qDRsmsmABTz2cVSU3BBBAAAEEEHBQIIjzNQeb50lWBCCeMJsrJEgDesZbM2TC6xOSVrzi9go5Lt3rcM01t3qqVPl16iSyYUM2OXIPAggggAACCCDguECQ5muON86jDAlAPII2U0wQBvTuot3S4t5/n3VS83rp6pfkkg6XmGmK+TQPPCAydmzy9Oz1MO9ISgQQQAABBBDwRCAI8zVPGupiIQQgLuJazdrvAZ1qudVlZ1wmL/zwBavNyZyeQwUzG5ECAQQQQAABBAIl4Pd8LVAYWVaGACRLODdu82tAL1i3QIa9MCxpk0pvK5XcOtkdrJjSSA97/M+BjrXS8NTDjaFFnggggAACCCDgkIBf8zWHqh+IbAhAAtEN/66E1wO6pKxE6k+tn1TgtR+9Jt9q9y3ndXjq4bwpOSKAAAIIIICAZwJez9c8a5iHBRGAeIidqSgvB3TFsQqpP6W+lFaUVqtW1xZdZd3IdZmqav3zjz8WOeOM5Pfx1MO6J3cggAACCCCAgC8CXs7XfGmgB4USgHiAbLYILwf00fKjcvzU46X8WHll9Q5PPCwN6jYwW13z6XjqYd7K45SJwyD3Fh2Vpvl5Uj83R5rk53lci+AWh09w+4aaIYAAAn4JeDlf86uNbpdLAOK2sIX8vR7Qiz9ZLEs3L5XhPYZLp5M7WaipyaT79ok0bZo8MU89TCK6k6z4aLls3VMkE55/V9bvOFBZSNfWjWTG4C5S0DxfGuTluFN4CHLFJwSdRBURQAABnwS8nq/51ExXiyUAcZXXWuaRGtA89bDW+R6n/mDnQbli9gopKauoVXK93DpAZh6eAAAgAElEQVSycHRvOevUhh7XKjjF4ROcvqAmCCCAQNAEIjVf8wmXAMQn+GTFRmJAFxeLHH98ctWKChGnDzAMUP+FpSq6rGjo/NXVnnzUrHu3No1l/tBzY7kcC5+wjGTqiQACCPgjEIn5mj90laUSgPjcAVWLD/2Azs8XOXy4tmjnziLvvmtbmvX42RFWdWuWnycVx0R6zViWMbNVE/pJy0Yu7AnKWLK/CQr3F0tPfPztBEpHAAEEAiwQ+vlaAGwJQALQCYkqhHZAl5eL5KY4K6SsTCTH3l4C1uNnN0iTubVsVF/+3/e7yjUPv50x0z/f0CeWy7De33lALnngLXwyCpAAAQQQiKdAaOdrAeouApAAdUYoB/R114k8/nhtxRYtRHbtckSX9fjZMSZzy8/LkWdH9ZJv3//XjJnG9gnIgWLpOZ0nRBkHCAkQQACBmAqEcr4WsL4iAAlQh4RqQOtbrOrUSa535IhIvXqOyLIePzvGdG6/+9HZMuuNTewBSUHLmMtuzHEXAgggEBeBUM3XAtopBCAB6hivB3TWeypuuknkvvtqy/XqJbJihaOirMfPjjOd2zfbNZUb+3eQ6x5dnfItWIuu7y0dW8b3LVgbdx6UQWneEhZ3n+xGJXchgAAC0RDwer4WDbXqrSAACVCvejWgbe2pSPUWq6Ki1G+/smHMevzs8DK5De1VIAM7nSIzFn8o67bvryxE3341fXBnKWjGOSB6TsrEhRvwyW4IchcCCCAQWQGv5muRBRQRApAA9a5XAzqrPRXTpolMmlRbq6BAZOtW1xQLWY+fla0ZN30Scv8Pu0vFsWOyr6hUmuTX5ST0GtqJp4T4ZDUMuQkBBBCIpIBX87VI4v2nUQQgAepdLwZ0VuvbUz310JPOGzd2VTCr+rpao3Bkjls4+olaIoAAAgiET8CL+Vr4VKzVmADEmperqb0Y0Jb2VKx+S+Tii2u3OS9PpKTEVYuqmbMePztq3LJz4y4EEEAAAQTSCXgxX4t6DxCABKiHvRjQmfYGJDi23X1pcpnCQpFTTvFULbFnhfX41thxs+ZFagQQQAABBMwIeDFfM1OPMKchAAlQ73kxoDPtDeixY6M8/+S45Cr66l0fL9bjZ4ePW3Zu3IUAAggggEAyAS/ma1GXJwAJUA97MaDT7Q1I+dTjn/8UOfnkAElRFQQQQAABBBBAwB8BL+Zr/rTMu1IJQLyzzliSVwO65t6Ajru3yOL5N9SuX48eImvXZqw3CRBAAAEEEEAAgbgIeDVfi7InAUiAeterAV11b8C9t/9QvrJ3R22Fzz4TadMmQDpUBQEEEEAAAQQQ8F/Aq/ma/y11rwYEIO7ZWs7Z6wFd9vVvSO47q6vX87TTRD791HLduQEBBBBAAAEEEIiDgNfztSiaEoAEqFc9HdBHjog0aFC99R9/LPLVrwZIhKoggAACCCCAAALBEvB0vhaspjtWGwIQxyjtZ+T5gJ4wQWT+fJHRo0Vuv91+A8gBAQQQQAABBBCIuIDn87UIehKABKhTGdAB6gyqggACCCCAAAIIJBFgvmZ/WBCA2Dd0LAcGtGOUZIQAAggggAACCLgiwHzNPisBiH1Dx3KI+oBOHIi3t+ioNM3Pk/q5OdIkP88xPzJCAAEEEEAAAQTcFoj6fM1tP82fAMQLZZNlRHVAJ177O+H5d2X9jgOVGl1bN5IZg7tIQfN8aZCXY1KJZAgggAACCCCAgH8CUZ2veSlKAOKldoayojqgP9h5UK6YvUJKyipqCdTLrSMLR/eWs05tGKCeoCoIIIAAAggggEBygajO17zsbwIQL7VjGIDosquh81dXe/JRk6Fbm8Yyf+i5LMcK0FikKggggAACCCBAAOLWGCAAcUs2i3y9jKi92o9RuL9Yes5YllFj1YR+0rJRjXNJMt5FAgQQQAABBBBAwFsBL+dr3rbMu9IIQLyzzliSFwPa6/0Y7+88IJc88FbGtv/5hj4sw8qoRAIEEEAAAQQQ8FvAi/ma3210u3wCELeFLeTvxYD2ej9G4YFi6TmdJyAWhgFJEUAAAQQQQCDAAl7M1wLcfEeqRgDiCKMzmbg9oP3Yj+FHmc70BrkggAACCCCAAAK1Bdyer8XBnAAkQL3s9oD2az/Gxp0HZVCat2Atur63dGzJW7ACNBSpCgIIIIAAAgikEHB7vhYHeAKQAPWy2wPar/0YiX0nExdukHXb91eK69uvpg/uLAXNOAckQMOQqiCAAAIIIIBAGgG352txwCcACVAvuz2g/d6PkXjz1r6iUmmSX5eT0AM09qgKAggggAACCJgTcHu+Zq4W4U5FABKg/nN7QLMfI0CdTVUQQAABBBBAIJQCbs/XQolisdIEIBbB3EzuxYBmP4abPWg+b6/OYTFfI1IigAACCCCAgBkBL+ZrZuoR5jQEIAHqPS8GNPsx/O1wr89h8be1lI4AAggggED0BLyYr0VPrXqLCEAC1MNeDmj2Y/jT8V6fw+JPKykVAQQQQACB6Ap4OV+LqiIBSIB6lgEdoM5woSrswXEBlSwRQAABBBDwWID5mn1wAhD7ho7lEKcBHcc9EGbPYVl5Sz9pUDdHmuTnOTa2yAgBBBBAAAEEnBGI03zNGbHauRCAuCWbRb5xGNBx3gNh9hyWx3/6dZn/1lYZN+BMKWjOGSlZfJW4BQEEEEAAAdcE4jBfcw3vPxkTgLgtbCH/OAzoOO+BMHsOy+KxfeTKh1ZKecUxWTi6t5x1KqfEW/gakRQBBBBAAAFXBeIwX3MVUEQIQNwWtpB/mAe0mSVVcdkDkcrCbPtH9W0vIx5fa4wcPS1+/tBzWY5l4XtEUgQQQAABBNwUCPN8zU0XK3kTgFjRcjltGAe0lSVVZvdArJrQT1o2auCytvPZm7HYtqdIBs1eISVlFbUqUC+3jjz2k6/Lfa9+LG9v3Vv5eVg9nBcmRwQQQAABBPwXCON8zX+16jUgAAlQj4RxQFtZUmV2D8Sfb+gTymVHZizan5Qvm78okokLN8i67fsrR58+6Zjw7TNl8Xu7ZMHKbdVGZVg9AvTVoioIIIAAAgg4JhDG+ZpjjXcoIwIQhyCdyCZsA9rskqLEEiKzeyDC+Iu/VQtNX1xaLpu/OCTNT6gnn+09LI++tbXak4/EmAqjhxPfB/JAAAEEEEAgiAJhm68F0ZAAJEC9ErYBbXVJldVJeoC6JmNVrFpohupx0zPr5G9b98rho+VJy2APSEZ6EiCAAAIIIOCpQNjma57imCyMAMQklBfJwjags1lStXHnwbR7IBZd31s6tgzfW5+ysdAxFVUPL74vlIEAAggggIAfAmGbr/lhlKlMApBMQh5+HrYBnc2SqsRG7WR7IKYP7iwFzcJ57kU2Fjq0ourh4deGohBAAAEEEPBUIGzzNU9xTBZGAGISyotkYRvQdpZUJV5Vu6+oVJrk15X6ueE++duOhY6tqHl48X2hDAQQQAABBPwQCNt8zQ+jTGUSgGQS8vDzMA5olhD9d4Bg4eGXhaIQQAABBBDwSSCM8zWfqFIWSwASoB4J44BmCdF/BxAWAfoyURUEEEAAAQRcEgjjfM0liqyzJQDJms75G8M8oFlC9N/xgIXz3w1yRAABBBBAICgCYZ6vBcWQAMRGT5SXl8s999wj8+bNk+3bt0ubNm1k+PDhMm7cOMnJybGcMwPaMhk3IIAAAggggAACngowX7PPTQBiw3D06NHy0EMPybBhw6RXr16yYsUKWbBggeh/nzVrluWcozagE08C9hYdlab5eY5tNHcrX8sdxg0IIIAAAgggEDuBqM3X/OhAApAs1Tds2CBdu3aVMWPGyP3331+Zy9ixY+XBBx+U9evXS+fOnS3lHpUBndgLMeH5d2X9jgOVBl1bN5IZg7tIQfPsXrXrVr6WOonECCCAAAIIIBBrgajM1/zsRAKQLPUnTZok06ZNky1btkjbtm0rc9m6dau0a9dO9PMpU6ZYyj0qA/qDnQflitkrpKSsolb76+XWkYWje8tZp1o/bNCtfC11EokRQAABBBBAINYCUZmv+dmJBCBZ6g8YMMB4yrFr165aObRo0UK6d+8uS5YssZR7FAa03fMwUoG5la+lDiIxAggggAACCMReIArzNb87kQAkyx7Q5VV5eXmydu3aWjn06NFDSktLRZdppboKCwtF/6/qtXHjRrn22muNPDWPMF6F+4ul54xlGau+akI/admoQcZ0iQRu5Wu6AiREAAEEEEAAAQREhADE/jAgAMnSsH379qJPOlauXFkrB92Qvnv3btm0aVPK3CdPnix33nln0s/DHIC8v/OAXPLAWxlV/3xDH0vLsNzKN2NFSYAAAggggAACCFQRIACxPxwIQLI05AlIcrjCA8XSc7oLT0BcyjfL7uc2BBBAAAEEEIipAAGI/Y4nAMnSkD0gyeHc2qvhVr5Zdj+3IYAAAggggEBMBQhA7Hc8AUiWhhMnTpTp06enfAuWfj516lRLuUdlQG/ceVAGpXkL1qLre0vHltbfguVWvpY6icQIIIAAAgggEGuBqMzX/OxEApAs9fUNWPqmq1TngKxbt066dOliKfeoDOjEeR0TF26Qddv3Vxp0a9NYpg/uLAXN7J0D4nS+ljqJxAgggAACCCAQa4GozNf87EQCEBv6I0eOlLlz5xonoffu3ds4CX3+/PkyYsQImTNnjuWcozagEyeW7ysqlSb5dR0/Cd3pfC13GDcggAACCCCAQOwEojZf86MDCUBsqJeVlcnMmTNl3rx58vnnn0urVq1k+PDhMn78eMnNzbWcMwPaMhk3IIAAAggggAACngowX7PPTQBi39CxHBjQjlGSEQIIIIAAAggg4IoA8zX7rAQg9g0dy4EB7RglGSGAAAIIIIAAAq4IMF+zz0oAYt/QsRwY0I5RkhECCCCAAAIIIOCKAPM1+6wEIPYNHcuBAe0YJRkhgAACCCCAAAKuCDBfs89KAGLf0LEcGNCOUZIRAggggAACCCDgigDzNfusBCD2DR3LgQHtGCUZIYAAAggggAACrggwX7PPSgBi39CxHBjQjlGSEQIIIIAAAggg4IoA8zX7rAQg9g0dy4EB7RglGSGAAAIIIIAAAq4IMF+zz0oAYt/QsRwY0I5RkhECCCCAAAIIIOCKAPM1+6wEIPYNHcuBAe0YJRkhgAACCCCAAAKuCDBfs89KAGLf0LEcGNCOUZIRAggggAACCCDgigDzNfusBCD2DR3LgQHtGCUZIYAAAggggAACrggwX7PPSgBi39CxHBjQjlGSEQIIIIAAAggg4IoA8zX7rAQg9g0dy2HFihVy3nnnyRNPPCEdO3Z0LF8yQgABBBBAAAEEEHBGYOPGjXLttdfKW2+9Jb1793Ym05jlQgASoA5/8sknjQHNhQACCCCAAAIIIBBsAf3BeMiQIcGuZEBrRwASoI7Zs2ePLF26VAoKCqRBgwau1iwRvfO0xVVmTzKnLz1hdr0Q+tF1Ys8KoC89o3a1IPrRVV5PM3e6L4uLi2Xbtm0yYMAAad68uadtiUphBCBR6UmL7WD9okWwACenLwPcORaqRj9awAp4Uvoy4B1ksnr0o0moECSjL4PXSQQgwesTT2rEl9ETZk8KoS89YXa9EPrRdWLPCqAvPaN2tSD60VVeTzOnLz3lNlUYAYgppugl4ssYnT6lL6PRl/RjNPpRW0FfRqMv6cdo9CPfyWD2IwFIMPvF9Vrxh9V1Ys8KoC89o3a1IPrRVV5PM6cvPeV2rTD60TVazzOmLz0nz1ggAUhGomgmKCwslLlz58qIESOkZcuW0WxkTFpFX0ajo+nHaPSjtoK+jEZf0o/R6Ee+k8HsRwKQYPYLtUIAAQQQQAABBBBAIJICBCCR7FYahQACCCCAAAIIIIBAMAUIQILZL9QKAQQQQAABBBBAAIFIChCARLJbaRQCCCCAAAIIIIAAAsEUIAAJZr9QKwQQQAABBBBAAAEEIilAABLJbqVRCCCAAAIIIIAAAggEU4AAJJj94lqtysvL5Z577pF58+bJ9u3bpU2bNjJ8+HAZN26c5OTkuFYuGacXWLNmjTzxxBOybNky2bp1q+Tn58vXvvY1mTBhgvTv37/azVb60Epa+sg9Ae3Xb33rW0YBn3zyiXzlK1+pLKy4uFgmT54sTz31lHzxxRfGZ2PHjpWf/exntSpkJa17rYlXzrt27ZJf/epX8tJLL4n+76ZNm8o555wjs2bNktNOO60S4+GHH5b7779fNm3aJCeddJJcc801Rr82aNCgFpiVtPHSdq+1n3/+udx5553y2muvGa9JbtGihZx//vly6623SocOHSoLtvI300pa91oW3ZwPHTok9957r6xdu1b030j9/v34xz+WBQsW1Gq0lb5wK210e8KdlhGAuOMa2FxHjx4tDz30kAwbNkx69eolK1asML7M+t/1H1QufwSuuuoqWb58uVx55ZXSo0cP0T+88+fPl/fee09mz54to0aNqqyYlT60ktaflke/1NLSUunSpYsR8BcVFdUKQC655BJ55ZVX5Oc//7mcddZZ8vLLL8sLL7wgM2fONH4YqHpZSRt9WfdbqMGiTlLr1atn/M3UH2z+9a9/ydtvvy233XabdO3a1aiE9tXNN98sl19+uWgfffDBB/Lggw/KwIEDjcCl6mUlrfstjEcJe/fulU6dOklJSYnxt7Rt27ZGoKj/Fh533HGyYcMGad26tYFh5W+mlbTxkHa2ldu2bTP6Ss8qO/vss43vUqoAxEpfuJXW2dZHPzcCkOj3cWUL9Y+s/oM5ZswY45e6xKW/tuo/luvXr5fOnTvHSCQ4TdVAUH9V1YlO4tJfu7t162b8Kr57927Jzc01/qE024dW0gZHIno1mT59uvzmN78xfhHX/1/1CYj+g/rd735X7rvvPrnxxhsrG68T2VdffVU+/fRT49d0vaykjZ6i9y06duyYfOMb3xANIP/yl7/IiSeemLQS+v08/fTT5aKLLjICx8T161//Wn75y18a/aZBiV5W0nrf4uiWqIGGTjr/9Kc/Gd+3xPXcc8+J/vijffWLX/yCv68BGwIaMO7Zs0datWolZWVlUrdu3aQBiJV/69xKGzC6UFSHACQU3eRMJSdNmiTTpk2TLVu2GL8qJC5d8tOuXTvRz6dMmeJMYeTiiMBNN91kTE7113P9hc5KH1pJ60hlyaSWwGeffSYdO3aU3/72t0YwoUtAqgYgQ4YMkeeff170F9qqS3XeeOMN6devn+hSHV0iqZeVtHSFfYHEsrnEpPXIkSNSp04dycvLq5a59tH//M//GMsnL7zwwsrPDh8+LM2aNTOeaurySr2spLXfAnJICMyYMcNYzvrOO+8YP/QkrlWrVhkrAebOnWv0oZW/mVbS0hP2BdIFIFb6wq209lsYvxwIQGLU5wMGDDCecug6ypqXroft3r27LFmyJEYiwW/q1VdfLc8++6zs27dPTjjhBLHSh1bSBl8inDW84oorjPXmOtHR4KNmAHLGGWdIkyZN5G9/+1u1BurkVfcBjRgxQubMmWN8ZiVtOLWCVevx48cb++X06YdOWv76178ay3X0qYj+KNCzZ0+jwtpHv/vd70T7rOZ+D0174MAB+fDDDy2nDZZGuGuzevVqo9+++c1vGnsKCgoKjCVY+oRKl7tqYNKwYUP+vga4m9MFIFb+rXMrbYDpAls1ApDAdo3zFdPlVfrrnW7oqnnpvgNdaqCPJ7mCIbBx40ZjCdall14qulRALyt9aCVtMFocrVroXo7LLrvM2C+gv7rqhuSaAYgu67n44osr+7eqgG527t27t7z44ovGf7aSNlqS/rRm0KBBxpIqXQKnwYY+gdL9H/qUWJ9Y6aRWv2O6pGflypXGZzWvwYMHG0vpvvzyS+MjK2n9aXV0S9VlWBpI6o85iUv39+gTSH1Sxd/XYPd9ugDEyr91bqUNtl4wa0cAEsx+caVW7du3N978of9Y1rz0MbTuM9Bfhbj8F9BfTXXSs3PnTuOpla4x18tKH1pJ63+Lo1UDXa6jbzFLLKPS1iULQPTNcz/4wQ+MN2DVvE499VRjU7q+tUcvK2mjpelPa/Ttc6+//rpccMEF8uabb1ZWQp9m6IZmDS6eeeYZ4+1m+mOBfldrXrrvR9Po5EkvK2n9aXV0S9VAXl/ooXt19E1z+mObPuHSvly6dKnxxNHK30wraaOr6l3L0gUgVvrCrbTeSUSnJAKQ6PRlxpZYifwzZkYC1wR087k+JtZfWBcvXlxtXbmVPrSS1rXGxDTjO+64w3ixw8cffyzNmzc3FHgCEq7BoE8rdAO5vrL8pz/9abXK65Mp/bHmn//8p6WnGjwB8WcM6JMs3Wz+97//vdqLVvTtc/q39u677xZdcmflb6aVtP60Olql8gQkWv2prSEAiV6fpmyRlbWPMWIJVFOPHj1qLNvRX15174e+DanqZaUPraQNFELIK6N7PvQlD/pWK90fkLj0DVj69jn9NV0/1zMkrOzrsJI25ISBqP7IkSONzcn6y7kug6x66WRWN6fr95U9IIHorrSV0JcDaLCor0eueeneD12KpcGmlb+ZVtIGXyj4NWQPSPD7yGoNCUCsioU4/cSJE0VfCZrqLVj6+dSpU0PcwnBXXf/A6sRGJzyPPfaYsea85mWlD62kDbdcsGq/bt0644UO6S5d7qGbX3WJzsKFC1O+BUs3NycOJLSSNlgi4azNI488YryBTPcOaDBS9dINzXqw3Y4dO4wN6BqEpHoLli7VevLJJ43braQNp1owa63Bu14fffRRtQrqq5b15R59+vQxXsBi5W+mlbTBVAlXrdIFIFb6wq204dIMRm0JQILRD57UQvcS6MQo1TkgOnHSA9O4vBeoqKgwJqNPP/208dajqr+cV62NlT60ktb7Fke3RN2/o6/RrXn94Q9/MPpXJ7T6SmX9VV2DTX3ileocED2I6+STTzayspI2urretUzPH9C9V/oaZX1LmZ7Do5e+MUkDkJ/85CfG8izdO6fp9BfxRYsWVVYwcQ5I1bMnrKT1rqXRL0mfJOv3R89bSry9TFutT5m/973vVb6C3srfTCtpoy/sfgvTBSBW+sKttO4LRK8EApDo9WnaFiWWFeipvrqOWf8g64nbVV/3GTOSQDRXXwepExZdCpD4xbtqxXTjpL5AQC8rfWglbSAgIlyJZHtAtLl6WrYuudMfBnTTuS4F0TXr+rTylltuqSZiJW2EKT1rmi6Z0wPq9CUdP/zhD41D0fS/Jd4mqCej65U4Z0LfnKWHDr7//vvG2S+6kV33cVW9rKT1rKERL0hfvNK3b1/joFc9kFA3IusmdH0ipW+b+8c//iGnnHIKf18DOA70e7R//37RH+l0b53+iKpPFfXSH28SP5pa+bfOrbQB5At0lQhAAt09zldOf0WYOXOm8cudLiHQE0Z1mYFuwEv8wud8qeSYSUD/cVy+fHnKZPqLuqbRy0ofWkmbqY58bk8gVQCi50foP6z/93//Z5yUrZOjsWPHJn0KZiWtvdpyd0JADxHUJ1S6f+D444833qKkwaEe3lr10v0iGpxs3rzZeHWvnuGjr13We2peVtLSE84IvPvuu3LXXXfJmjVrjDeWaeChfamvVU68ZZC/r85YO5mLntmih7gmu/TH06FDh7r67yL/hjrZm9XzIgBxz5acEUAAAQQQQAABBBBAoIYAAQhDAgEEEEAAAQQQQAABBDwTIADxjJqCEEAAAQQQQAABBBBAgACEMYAAAggggAACCCCAAAKeCRCAeEZNQQgggAACCCCAAAIIIEAAwhhAAAEEEEAAAQQQQAABzwQIQDyjpiAEEEAAAQQQQAABBBAgAGEMIIAAAggggAACCCCAgGcCBCCeUVMQAggggAACCCCAAAIIEIAwBhBAAAEEEEAAAQQQQMAzAQIQz6gpCAEEEEAAAQQQQAABBAhAGAMIIIAAArJgwQIZNmyYvPrqq9K/f39EEEAAAQQQcE2AAMQ1WjJGAAEEwiNAABKevqKmCCCAQNgFCEDC3oPUHwEEEHBAgADEAUSyQAABBBAwJUAAYoqJRAgggEC0BYIYgBQVFUl+fn604WkdAgggEEMBApAYdjpNRgABBGoKJAKQJUuWyKpVq2TevHmyZ88eOfvss2X27NnStWvXylt27dolt956q7z88suyd+9eOe200+RHP/qRTJgwQerWrVuZrm/fvsb/fvPNN6sVlyhr69atUlBQYHw2dOhQ+f3vfy/bt2+X8ePHy9KlS6WiokL27dsnhw8flilTpsgf//hH2bFjh9SvX9+4b/jw4XL99dfTmQgggAACIRMgAAlZh1FdBBBAwA2BRFCgAcdxxx0n11xzjRw5ckTuvfdeadiwoXzyySeSm5trBAQ9evSQzz//XEaNGiVnnHGGvPbaa7Jw4UK58sor5dlnn7UVgHTq1Enat28vAwYMkIMHD8rNN99sBCdPPfWUjBw5Urp06SL6ZOT99983Pv/DH/7gBgd5IoAAAgi4KEAA4iIuWSOAAAJhEUgEIN27d5e333678knGokWL5IorrjCednznO98xAoKZM2caE/8f/OAHlc3TYGTOnDmiT1A0eNArmycg+iauRx99tBpbkyZNjIBo1qxZYeGknggggAACaQQIQBgeCCCAAAKVr+HVIGLEiBGVIvrEo2nTpvLAAw/ImDFjpGPHjlJaWiqbNm2qpvbZZ5/J6aefbjwV0SVb2QYg//jHP6Rbt27V8m7btq1Rh+eff94ogwsBBBBAINwCBCDh7j9qjwACCDgiUHUPSOIJRiJjXZI1efJkueOOO4z9FxdddJG8+OKLtco98cQT5bzzzpPFixdnHYDosirNp+qlT2F0j8mhQ4dEl2j169dPrrrqKunTp48jbScTBBBAAAFvBQhAvPWmNAQQQCCQAunegqUBiAYfGoRYCUAuvPBCOXbsWK1N6I888oixgTzZJnR9uqJ7TTiz5v0AAALbSURBVGpeuiH+pZdeMvJ65ZVXpLCw0HhSo09suBBAAAEEwiVAABKu/qK2CCCAgCsCZgOQVEuw9O1V+jas0aNHV+7VGDx4sGzevFnWr19frc6TJk2SadOmWQpAqmZQVlYmQ4YMkWeeecbIv127dq6YkCkCCCCAgDsCBCDuuJIrAgggECoBswHILbfcInfffbfxSlxdBpW49HW4uvdDX5978cUXG/9ZN6z/5je/kW3btknLli2N/3bgwAFjH4k+wTDzBKS8vFy+/PJLady4cTVPfS3vbbfdJmvWrDFeFcyFAAIIIBAeAQKQ8PQVNUUAAQRcEzAbgFR9Da8+7ejQoYMsW7ZMnnvuuVqv4dWN6meeeabxql5dLqXneTz88MPSrFkzeeedd0wFIPv375dTTz1VBg0aZGxO13s//PBD4ymLPvnQpys5OTmuuZAxAggggIDzAgQgzpuSIwIIIBA6AbMBiDZMn17UPIjwuuuuq3UQoabVN1fpkitdKqVLtG688UbjdHN93a6ZJyBHjx6V22+/3ThrZMuWLUYQ07p1a7nsssuM8k466aTQWVNhBBBAIO4CBCBxHwG0HwEEEEAAAQQQQAABDwUIQDzEpigEEEAAAQQQQAABBOIuQAAS9xFA+xFAAAEEEEAAAQQQ8FCAAMRDbIpCAAEEEEAAAQQQQCDuAgQgcR8BtB8BBBBAAAEEEEAAAQ8FCEA8xKYoBBBAAAEEEEAAAQTiLkAAEvcRQPsRQAABBBBAAAEEEPBQgADEQ2yKQgABBBBAAAEEEEAg7gIEIHEfAbQfAQQQQAABBBBAAAEPBQhAPMSmKAQQQAABBBBAAAEE4i5AABL3EUD7EUAAAQQQQAABBBDwUIAAxENsikIAAQQQQAABBBBAIO4CBCBxHwG0HwEEEEAAAQQQQAABDwUIQDzEpigEEEAAAQQQQAABBOIuQAAS9xFA+xFAAAEEEEAAAQQQ8FDg/wOyrp/V7HY7bgAAAABJRU5ErkJggg==\" width=\"640\">"
      ],
      "text/plain": [
       "<IPython.core.display.HTML object>"
      ]
     },
     "metadata": {},
     "output_type": "display_data"
    },
    {
     "data": {
      "text/plain": [
       "<matplotlib.legend.Legend at 0x7f40ff67c040>"
      ]
     },
     "execution_count": 65,
     "metadata": {},
     "output_type": "execute_result"
    }
   ],
   "source": [
    "fig, ax = plt.subplots()\n",
    "sns.scatterplot(x=data[\"hours\"], y=data[\"mark\"])\n",
    "\n",
    "plt.plot(data.hours, data.prediction_1, color='r', label='worse')\n",
    "plt.plot(data.hours, data.prediction_2, color='g', label='better')\n",
    "\n",
    "plt.legend()"
   ]
  },
  {
   "cell_type": "markdown",
   "metadata": {},
   "source": [
    "### Understanding the model error as a function of parameters `m` and `n`"
   ]
  },
  {
   "cell_type": "markdown",
   "metadata": {},
   "source": [
    "$$mark = m * hours + n$$"
   ]
  },
  {
   "cell_type": "markdown",
   "metadata": {},
   "source": [
    "`L` stands for loss (word used for \"error\" in Data Science literature)"
   ]
  },
  {
   "cell_type": "markdown",
   "metadata": {},
   "source": [
    "$$\\text{model_error} = L(m, n)$$"
   ]
  },
  {
   "cell_type": "markdown",
   "metadata": {},
   "source": [
    "$$mark = 0.1 * hours + 10$$"
   ]
  },
  {
   "cell_type": "markdown",
   "metadata": {},
   "source": [
    "$$L(0.1, 10) = 233$$"
   ]
  },
  {
   "cell_type": "markdown",
   "metadata": {},
   "source": [
    "$$mark_2 =0.09 * hours + 15$$"
   ]
  },
  {
   "cell_type": "markdown",
   "metadata": {},
   "source": [
    "$$L(0.09, 15) =223$$"
   ]
  },
  {
   "cell_type": "markdown",
   "metadata": {},
   "source": [
    "`L` being a function of 2 variables, it may have a global minimum.  "
   ]
  },
  {
   "cell_type": "markdown",
   "metadata": {},
   "source": [
    "If we call:\n",
    " - $y_i$ real value of student $i$\n",
    " - $\\hat{y_i}$ predicted value of student $i$  "
   ]
  },
  {
   "cell_type": "markdown",
   "metadata": {},
   "source": [
    "The loss is $$L(m, n) = \\frac{1}{N} \\sum (y_i - \\hat{y_i})^2 = \\frac{1}{N} \\sum (y_i - (m * x_i + n))^2 $$"
   ]
  },
  {
   "cell_type": "markdown",
   "metadata": {},
   "source": [
    "And being quadratic in `m` and `n`, the function `L` has 1 local (and global) minimum"
   ]
  },
  {
   "cell_type": "markdown",
   "metadata": {},
   "source": [
    "## The optimal linear model"
   ]
  },
  {
   "cell_type": "markdown",
   "metadata": {},
   "source": [
    "Can we find the **best**?"
   ]
  },
  {
   "cell_type": "markdown",
   "metadata": {},
   "source": [
    "`scikit-learn` is a Python library for building ML models"
   ]
  },
  {
   "cell_type": "markdown",
   "metadata": {},
   "source": [
    "Linear regression is now called a ML algorithm (years ago it was only basic statistical inference... you know, the hype)"
   ]
  },
  {
   "cell_type": "code",
   "execution_count": null,
   "metadata": {},
   "outputs": [],
   "source": [
    "!pip install scikit-learn"
   ]
  },
  {
   "cell_type": "code",
   "execution_count": 80,
   "metadata": {},
   "outputs": [],
   "source": [
    "from sklearn.linear_model import LinearRegression"
   ]
  },
  {
   "cell_type": "code",
   "execution_count": 81,
   "metadata": {},
   "outputs": [],
   "source": [
    "lr = LinearRegression()"
   ]
  },
  {
   "cell_type": "code",
   "execution_count": 82,
   "metadata": {},
   "outputs": [
    {
     "data": {
      "text/plain": [
       "LinearRegression()"
      ]
     },
     "execution_count": 82,
     "metadata": {},
     "output_type": "execute_result"
    }
   ],
   "source": [
    "lr"
   ]
  },
  {
   "cell_type": "code",
   "execution_count": 83,
   "metadata": {},
   "outputs": [
    {
     "data": {
      "text/plain": [
       "sklearn.linear_model._base.LinearRegression"
      ]
     },
     "execution_count": 83,
     "metadata": {},
     "output_type": "execute_result"
    }
   ],
   "source": [
    "type(lr)"
   ]
  },
  {
   "cell_type": "code",
   "execution_count": null,
   "metadata": {},
   "outputs": [],
   "source": [
    "data.head()"
   ]
  },
  {
   "cell_type": "code",
   "execution_count": 84,
   "metadata": {},
   "outputs": [
    {
     "data": {
      "text/plain": [
       "LinearRegression()"
      ]
     },
     "execution_count": 84,
     "metadata": {},
     "output_type": "execute_result"
    }
   ],
   "source": [
    "# train the model\n",
    "# X predictors: 1 or more columns\n",
    "# y target: 1 column\n",
    "lr.fit(\n",
    "    # X = data[[\"hours\", \"age\", \"n_hours_sleep\"]],\n",
    "    X = data[[\"hours\"]],\n",
    "    y = data.mark,\n",
    ")"
   ]
  },
  {
   "cell_type": "markdown",
   "metadata": {},
   "source": [
    "$$mark = m * hours + n$$"
   ]
  },
  {
   "cell_type": "code",
   "execution_count": 85,
   "metadata": {},
   "outputs": [
    {
     "data": {
      "text/plain": [
       "array([0.08437787])"
      ]
     },
     "execution_count": 85,
     "metadata": {},
     "output_type": "execute_result"
    }
   ],
   "source": [
    "# access coefficient(s) m: it has 1 entry per predictor variable\n",
    "lr.coef_"
   ]
  },
  {
   "cell_type": "markdown",
   "metadata": {},
   "source": [
    "Possible linear model with 3 predictors:\n",
    "$$mark = m_1 * hours + m_2 * age + m_3 * \\text{n_hours_sleep} + n$$"
   ]
  },
  {
   "cell_type": "code",
   "execution_count": 86,
   "metadata": {},
   "outputs": [],
   "source": [
    "optimal_m = lr.coef_[0]"
   ]
  },
  {
   "cell_type": "code",
   "execution_count": 87,
   "metadata": {},
   "outputs": [
    {
     "data": {
      "text/plain": [
       "0.08437787096170372"
      ]
     },
     "execution_count": 87,
     "metadata": {},
     "output_type": "execute_result"
    }
   ],
   "source": [
    "optimal_m"
   ]
  },
  {
   "cell_type": "code",
   "execution_count": 88,
   "metadata": {},
   "outputs": [],
   "source": [
    "optimal_n = lr.intercept_"
   ]
  },
  {
   "cell_type": "code",
   "execution_count": 89,
   "metadata": {},
   "outputs": [
    {
     "data": {
      "text/plain": [
       "11.78070717807148"
      ]
     },
     "execution_count": 89,
     "metadata": {},
     "output_type": "execute_result"
    }
   ],
   "source": [
    "optimal_n"
   ]
  },
  {
   "cell_type": "markdown",
   "metadata": {},
   "source": [
    "$$mark = 0.0844*hours + 11.78$$"
   ]
  },
  {
   "cell_type": "code",
   "execution_count": 90,
   "metadata": {},
   "outputs": [
    {
     "data": {
      "text/html": [
       "<div>\n",
       "<style scoped>\n",
       "    .dataframe tbody tr th:only-of-type {\n",
       "        vertical-align: middle;\n",
       "    }\n",
       "\n",
       "    .dataframe tbody tr th {\n",
       "        vertical-align: top;\n",
       "    }\n",
       "\n",
       "    .dataframe thead th {\n",
       "        text-align: right;\n",
       "    }\n",
       "</style>\n",
       "<table border=\"1\" class=\"dataframe\">\n",
       "  <thead>\n",
       "    <tr style=\"text-align: right;\">\n",
       "      <th></th>\n",
       "      <th>hours</th>\n",
       "      <th>mark</th>\n",
       "      <th>prediction_1</th>\n",
       "      <th>prediction_2</th>\n",
       "      <th>prediction_3</th>\n",
       "      <th>error_1</th>\n",
       "      <th>error_2</th>\n",
       "      <th>error_3</th>\n",
       "      <th>error_1_bis</th>\n",
       "      <th>error_2_bis</th>\n",
       "    </tr>\n",
       "  </thead>\n",
       "  <tbody>\n",
       "    <tr>\n",
       "      <th>0</th>\n",
       "      <td>865</td>\n",
       "      <td>95</td>\n",
       "      <td>96.5</td>\n",
       "      <td>92.85</td>\n",
       "      <td>56.07</td>\n",
       "      <td>2.25</td>\n",
       "      <td>4.6225</td>\n",
       "      <td>1515.5449</td>\n",
       "      <td>True</td>\n",
       "      <td>True</td>\n",
       "    </tr>\n",
       "    <tr>\n",
       "      <th>1</th>\n",
       "      <td>4</td>\n",
       "      <td>12</td>\n",
       "      <td>10.4</td>\n",
       "      <td>15.36</td>\n",
       "      <td>46.63</td>\n",
       "      <td>2.56</td>\n",
       "      <td>11.2896</td>\n",
       "      <td>1199.2369</td>\n",
       "      <td>True</td>\n",
       "      <td>True</td>\n",
       "    </tr>\n",
       "    <tr>\n",
       "      <th>2</th>\n",
       "      <td>305</td>\n",
       "      <td>35</td>\n",
       "      <td>40.5</td>\n",
       "      <td>42.45</td>\n",
       "      <td>59.45</td>\n",
       "      <td>30.25</td>\n",
       "      <td>55.5025</td>\n",
       "      <td>597.8025</td>\n",
       "      <td>False</td>\n",
       "      <td>False</td>\n",
       "    </tr>\n",
       "    <tr>\n",
       "      <th>3</th>\n",
       "      <td>437</td>\n",
       "      <td>56</td>\n",
       "      <td>53.7</td>\n",
       "      <td>54.33</td>\n",
       "      <td>53.24</td>\n",
       "      <td>5.29</td>\n",
       "      <td>2.7889</td>\n",
       "      <td>7.6176</td>\n",
       "      <td>True</td>\n",
       "      <td>True</td>\n",
       "    </tr>\n",
       "    <tr>\n",
       "      <th>4</th>\n",
       "      <td>682</td>\n",
       "      <td>86</td>\n",
       "      <td>78.2</td>\n",
       "      <td>76.38</td>\n",
       "      <td>54.13</td>\n",
       "      <td>60.84</td>\n",
       "      <td>92.5444</td>\n",
       "      <td>1015.6969</td>\n",
       "      <td>False</td>\n",
       "      <td>False</td>\n",
       "    </tr>\n",
       "  </tbody>\n",
       "</table>\n",
       "</div>"
      ],
      "text/plain": [
       "   hours  mark  prediction_1  prediction_2  prediction_3  error_1  error_2  \\\n",
       "0    865    95          96.5         92.85         56.07     2.25   4.6225   \n",
       "1      4    12          10.4         15.36         46.63     2.56  11.2896   \n",
       "2    305    35          40.5         42.45         59.45    30.25  55.5025   \n",
       "3    437    56          53.7         54.33         53.24     5.29   2.7889   \n",
       "4    682    86          78.2         76.38         54.13    60.84  92.5444   \n",
       "\n",
       "     error_3  error_1_bis  error_2_bis  \n",
       "0  1515.5449         True         True  \n",
       "1  1199.2369         True         True  \n",
       "2   597.8025        False        False  \n",
       "3     7.6176         True         True  \n",
       "4  1015.6969        False        False  "
      ]
     },
     "execution_count": 90,
     "metadata": {},
     "output_type": "execute_result"
    }
   ],
   "source": [
    "data.head()"
   ]
  },
  {
   "cell_type": "code",
   "execution_count": 91,
   "metadata": {},
   "outputs": [],
   "source": [
    "data[\"best_prediction\"] = (data.hours * optimal_m + optimal_n).round(2)"
   ]
  },
  {
   "cell_type": "code",
   "execution_count": 92,
   "metadata": {},
   "outputs": [],
   "source": [
    "data[\"best_prediction_error\"] = (data.best_prediction - data.mark) ** 2"
   ]
  },
  {
   "cell_type": "code",
   "execution_count": 93,
   "metadata": {},
   "outputs": [
    {
     "data": {
      "text/html": [
       "<div>\n",
       "<style scoped>\n",
       "    .dataframe tbody tr th:only-of-type {\n",
       "        vertical-align: middle;\n",
       "    }\n",
       "\n",
       "    .dataframe tbody tr th {\n",
       "        vertical-align: top;\n",
       "    }\n",
       "\n",
       "    .dataframe thead th {\n",
       "        text-align: right;\n",
       "    }\n",
       "</style>\n",
       "<table border=\"1\" class=\"dataframe\">\n",
       "  <thead>\n",
       "    <tr style=\"text-align: right;\">\n",
       "      <th></th>\n",
       "      <th>hours</th>\n",
       "      <th>mark</th>\n",
       "      <th>prediction_1</th>\n",
       "      <th>prediction_2</th>\n",
       "      <th>prediction_3</th>\n",
       "      <th>error_1</th>\n",
       "      <th>error_2</th>\n",
       "      <th>error_3</th>\n",
       "      <th>error_1_bis</th>\n",
       "      <th>error_2_bis</th>\n",
       "      <th>best_prediction</th>\n",
       "      <th>best_prediction_error</th>\n",
       "    </tr>\n",
       "  </thead>\n",
       "  <tbody>\n",
       "    <tr>\n",
       "      <th>0</th>\n",
       "      <td>865</td>\n",
       "      <td>95</td>\n",
       "      <td>96.5</td>\n",
       "      <td>92.85</td>\n",
       "      <td>56.07</td>\n",
       "      <td>2.25</td>\n",
       "      <td>4.6225</td>\n",
       "      <td>1515.5449</td>\n",
       "      <td>True</td>\n",
       "      <td>True</td>\n",
       "      <td>84.77</td>\n",
       "      <td>104.6529</td>\n",
       "    </tr>\n",
       "    <tr>\n",
       "      <th>1</th>\n",
       "      <td>4</td>\n",
       "      <td>12</td>\n",
       "      <td>10.4</td>\n",
       "      <td>15.36</td>\n",
       "      <td>46.63</td>\n",
       "      <td>2.56</td>\n",
       "      <td>11.2896</td>\n",
       "      <td>1199.2369</td>\n",
       "      <td>True</td>\n",
       "      <td>True</td>\n",
       "      <td>12.12</td>\n",
       "      <td>0.0144</td>\n",
       "    </tr>\n",
       "    <tr>\n",
       "      <th>2</th>\n",
       "      <td>305</td>\n",
       "      <td>35</td>\n",
       "      <td>40.5</td>\n",
       "      <td>42.45</td>\n",
       "      <td>59.45</td>\n",
       "      <td>30.25</td>\n",
       "      <td>55.5025</td>\n",
       "      <td>597.8025</td>\n",
       "      <td>False</td>\n",
       "      <td>False</td>\n",
       "      <td>37.52</td>\n",
       "      <td>6.3504</td>\n",
       "    </tr>\n",
       "    <tr>\n",
       "      <th>3</th>\n",
       "      <td>437</td>\n",
       "      <td>56</td>\n",
       "      <td>53.7</td>\n",
       "      <td>54.33</td>\n",
       "      <td>53.24</td>\n",
       "      <td>5.29</td>\n",
       "      <td>2.7889</td>\n",
       "      <td>7.6176</td>\n",
       "      <td>True</td>\n",
       "      <td>True</td>\n",
       "      <td>48.65</td>\n",
       "      <td>54.0225</td>\n",
       "    </tr>\n",
       "    <tr>\n",
       "      <th>4</th>\n",
       "      <td>682</td>\n",
       "      <td>86</td>\n",
       "      <td>78.2</td>\n",
       "      <td>76.38</td>\n",
       "      <td>54.13</td>\n",
       "      <td>60.84</td>\n",
       "      <td>92.5444</td>\n",
       "      <td>1015.6969</td>\n",
       "      <td>False</td>\n",
       "      <td>False</td>\n",
       "      <td>69.33</td>\n",
       "      <td>277.8889</td>\n",
       "    </tr>\n",
       "  </tbody>\n",
       "</table>\n",
       "</div>"
      ],
      "text/plain": [
       "   hours  mark  prediction_1  prediction_2  prediction_3  error_1  error_2  \\\n",
       "0    865    95          96.5         92.85         56.07     2.25   4.6225   \n",
       "1      4    12          10.4         15.36         46.63     2.56  11.2896   \n",
       "2    305    35          40.5         42.45         59.45    30.25  55.5025   \n",
       "3    437    56          53.7         54.33         53.24     5.29   2.7889   \n",
       "4    682    86          78.2         76.38         54.13    60.84  92.5444   \n",
       "\n",
       "     error_3  error_1_bis  error_2_bis  best_prediction  best_prediction_error  \n",
       "0  1515.5449         True         True            84.77               104.6529  \n",
       "1  1199.2369         True         True            12.12                 0.0144  \n",
       "2   597.8025        False        False            37.52                 6.3504  \n",
       "3     7.6176         True         True            48.65                54.0225  \n",
       "4  1015.6969        False        False            69.33               277.8889  "
      ]
     },
     "execution_count": 93,
     "metadata": {},
     "output_type": "execute_result"
    }
   ],
   "source": [
    "data.head()"
   ]
  },
  {
   "cell_type": "code",
   "execution_count": 94,
   "metadata": {},
   "outputs": [
    {
     "data": {
      "text/plain": [
       "189.308348"
      ]
     },
     "execution_count": 94,
     "metadata": {},
     "output_type": "execute_result"
    }
   ],
   "source": [
    "data.best_prediction_error.mean()"
   ]
  },
  {
   "cell_type": "code",
   "execution_count": 134,
   "metadata": {},
   "outputs": [],
   "source": [
    "%matplotlib inline"
   ]
  },
  {
   "cell_type": "code",
   "execution_count": 135,
   "metadata": {
    "scrolled": false
   },
   "outputs": [
    {
     "data": {
      "text/plain": [
       "<matplotlib.legend.Legend at 0x7f40f9d480d0>"
      ]
     },
     "execution_count": 135,
     "metadata": {},
     "output_type": "execute_result"
    },
    {
     "data": {
      "image/png": "[encoded data removed]",
      "text/plain": [
       "<Figure size 432x288 with 1 Axes>"
      ]
     },
     "metadata": {
      "needs_background": "light"
     },
     "output_type": "display_data"
    }
   ],
   "source": [
    "fig, ax = plt.subplots()\n",
    "sns.scatterplot(x=data[\"hours\"], y=data[\"mark\"])\n",
    "\n",
    "plt.plot(data.hours, data.prediction_1, color='r', label='worse')\n",
    "plt.plot(data.hours, data.prediction_2, color='g', label='better')\n",
    "plt.plot(data.hours, data.best_prediction, color='y', label='best')\n",
    "\n",
    "plt.legend()"
   ]
  },
  {
   "cell_type": "markdown",
   "metadata": {},
   "source": [
    "If we wanted to check if the model is better according to our second criteria, we just compute:"
   ]
  },
  {
   "cell_type": "code",
   "execution_count": 98,
   "metadata": {},
   "outputs": [],
   "source": [
    "data[\"error_best_bis\"] = (data.mark - data.best_prediction).abs() < 5"
   ]
  },
  {
   "cell_type": "code",
   "execution_count": 99,
   "metadata": {},
   "outputs": [
    {
     "data": {
      "text/plain": [
       "28"
      ]
     },
     "execution_count": 99,
     "metadata": {},
     "output_type": "execute_result"
    }
   ],
   "source": [
    "data.error_best_bis.sum()"
   ]
  },
  {
   "cell_type": "markdown",
   "metadata": {},
   "source": [
    "### Understanding lr attributes / methods"
   ]
  },
  {
   "cell_type": "code",
   "execution_count": 101,
   "metadata": {},
   "outputs": [
    {
     "data": {
      "text/html": [
       "<div>\n",
       "<style scoped>\n",
       "    .dataframe tbody tr th:only-of-type {\n",
       "        vertical-align: middle;\n",
       "    }\n",
       "\n",
       "    .dataframe tbody tr th {\n",
       "        vertical-align: top;\n",
       "    }\n",
       "\n",
       "    .dataframe thead th {\n",
       "        text-align: right;\n",
       "    }\n",
       "</style>\n",
       "<table border=\"1\" class=\"dataframe\">\n",
       "  <thead>\n",
       "    <tr style=\"text-align: right;\">\n",
       "      <th></th>\n",
       "      <th>hours</th>\n",
       "      <th>mark</th>\n",
       "      <th>prediction_1</th>\n",
       "      <th>prediction_2</th>\n",
       "      <th>prediction_3</th>\n",
       "      <th>error_1</th>\n",
       "      <th>error_2</th>\n",
       "      <th>error_3</th>\n",
       "      <th>error_1_bis</th>\n",
       "      <th>error_2_bis</th>\n",
       "      <th>best_prediction</th>\n",
       "      <th>best_prediction_error</th>\n",
       "      <th>error_best_bis</th>\n",
       "    </tr>\n",
       "  </thead>\n",
       "  <tbody>\n",
       "    <tr>\n",
       "      <th>0</th>\n",
       "      <td>865</td>\n",
       "      <td>95</td>\n",
       "      <td>96.5</td>\n",
       "      <td>92.85</td>\n",
       "      <td>56.07</td>\n",
       "      <td>2.25</td>\n",
       "      <td>4.6225</td>\n",
       "      <td>1515.5449</td>\n",
       "      <td>True</td>\n",
       "      <td>True</td>\n",
       "      <td>84.77</td>\n",
       "      <td>104.6529</td>\n",
       "      <td>False</td>\n",
       "    </tr>\n",
       "    <tr>\n",
       "      <th>1</th>\n",
       "      <td>4</td>\n",
       "      <td>12</td>\n",
       "      <td>10.4</td>\n",
       "      <td>15.36</td>\n",
       "      <td>46.63</td>\n",
       "      <td>2.56</td>\n",
       "      <td>11.2896</td>\n",
       "      <td>1199.2369</td>\n",
       "      <td>True</td>\n",
       "      <td>True</td>\n",
       "      <td>12.12</td>\n",
       "      <td>0.0144</td>\n",
       "      <td>True</td>\n",
       "    </tr>\n",
       "    <tr>\n",
       "      <th>2</th>\n",
       "      <td>305</td>\n",
       "      <td>35</td>\n",
       "      <td>40.5</td>\n",
       "      <td>42.45</td>\n",
       "      <td>59.45</td>\n",
       "      <td>30.25</td>\n",
       "      <td>55.5025</td>\n",
       "      <td>597.8025</td>\n",
       "      <td>False</td>\n",
       "      <td>False</td>\n",
       "      <td>37.52</td>\n",
       "      <td>6.3504</td>\n",
       "      <td>True</td>\n",
       "    </tr>\n",
       "    <tr>\n",
       "      <th>3</th>\n",
       "      <td>437</td>\n",
       "      <td>56</td>\n",
       "      <td>53.7</td>\n",
       "      <td>54.33</td>\n",
       "      <td>53.24</td>\n",
       "      <td>5.29</td>\n",
       "      <td>2.7889</td>\n",
       "      <td>7.6176</td>\n",
       "      <td>True</td>\n",
       "      <td>True</td>\n",
       "      <td>48.65</td>\n",
       "      <td>54.0225</td>\n",
       "      <td>False</td>\n",
       "    </tr>\n",
       "    <tr>\n",
       "      <th>4</th>\n",
       "      <td>682</td>\n",
       "      <td>86</td>\n",
       "      <td>78.2</td>\n",
       "      <td>76.38</td>\n",
       "      <td>54.13</td>\n",
       "      <td>60.84</td>\n",
       "      <td>92.5444</td>\n",
       "      <td>1015.6969</td>\n",
       "      <td>False</td>\n",
       "      <td>False</td>\n",
       "      <td>69.33</td>\n",
       "      <td>277.8889</td>\n",
       "      <td>False</td>\n",
       "    </tr>\n",
       "  </tbody>\n",
       "</table>\n",
       "</div>"
      ],
      "text/plain": [
       "   hours  mark  prediction_1  prediction_2  prediction_3  error_1  error_2  \\\n",
       "0    865    95          96.5         92.85         56.07     2.25   4.6225   \n",
       "1      4    12          10.4         15.36         46.63     2.56  11.2896   \n",
       "2    305    35          40.5         42.45         59.45    30.25  55.5025   \n",
       "3    437    56          53.7         54.33         53.24     5.29   2.7889   \n",
       "4    682    86          78.2         76.38         54.13    60.84  92.5444   \n",
       "\n",
       "     error_3  error_1_bis  error_2_bis  best_prediction  \\\n",
       "0  1515.5449         True         True            84.77   \n",
       "1  1199.2369         True         True            12.12   \n",
       "2   597.8025        False        False            37.52   \n",
       "3     7.6176         True         True            48.65   \n",
       "4  1015.6969        False        False            69.33   \n",
       "\n",
       "   best_prediction_error  error_best_bis  \n",
       "0               104.6529           False  \n",
       "1                 0.0144            True  \n",
       "2                 6.3504            True  \n",
       "3                54.0225           False  \n",
       "4               277.8889           False  "
      ]
     },
     "execution_count": 101,
     "metadata": {},
     "output_type": "execute_result"
    }
   ],
   "source": [
    "data.head()"
   ]
  },
  {
   "cell_type": "code",
   "execution_count": 104,
   "metadata": {},
   "outputs": [
    {
     "data": {
      "text/plain": [
       "array([49.8, 39.6])"
      ]
     },
     "execution_count": 104,
     "metadata": {},
     "output_type": "execute_result"
    }
   ],
   "source": [
    "# lets predict for 2 students\n",
    "lr.predict(np.array([[450], [330]])).round(1)"
   ]
  },
  {
   "cell_type": "code",
   "execution_count": 106,
   "metadata": {},
   "outputs": [
    {
     "data": {
      "text/plain": [
       "array([84.77, 12.12, 37.52, 48.65, 69.33, 59.03, 42.75, 84.43, 16.76,\n",
       "       55.15, 34.06, 74.3 , 58.86, 23.26, 88.4 , 94.47, 86.2 , 80.04,\n",
       "       24.61, 81.9 , 94.98, 52.87, 88.9 , 78.95, 16.84, 50.43, 24.61,\n",
       "       28.32, 29.25, 48.4 , 15.58, 16.84, 13.3 , 60.64, 21.32, 55.49,\n",
       "       47.3 , 18.95, 80.21, 29.58, 65.78, 47.89, 18.62, 62.07, 68.06,\n",
       "       37.26, 22.83, 16.67, 71.52, 53.13, 37.68, 26.63, 67.55, 30.09,\n",
       "       26.12, 24.69, 54.98, 28.07, 74.64, 40.13, 51.94, 74.73, 46.54,\n",
       "       38.95, 54.64, 48.82, 44.86, 31.69, 68.48, 66.8 , 75.57, 16.25,\n",
       "       48.74, 41.73, 40.81, 23.09, 66.12, 25.03, 66.54, 70.68, 91.18,\n",
       "       53.21, 25.2 , 18.87, 94.81, 17.01, 48.15, 38.53, 31.02, 11.95,\n",
       "       46.63, 14.82, 15.83, 55.24, 69.66, 33.04, 15.92, 78.61, 37.94,\n",
       "       90.59])"
      ]
     },
     "execution_count": 106,
     "metadata": {},
     "output_type": "execute_result"
    }
   ],
   "source": [
    "# lets predict for whole training dataset\n",
    "lr.predict(data[[\"hours\"]]).round(2)"
   ]
  },
  {
   "cell_type": "markdown",
   "metadata": {},
   "source": [
    "`score` returns the coefficient of determination  \n",
    "In the case of Linear Regression, it is exactly the correlation squared"
   ]
  },
  {
   "cell_type": "code",
   "execution_count": 111,
   "metadata": {},
   "outputs": [
    {
     "data": {
      "text/html": [
       "<div>\n",
       "<style scoped>\n",
       "    .dataframe tbody tr th:only-of-type {\n",
       "        vertical-align: middle;\n",
       "    }\n",
       "\n",
       "    .dataframe tbody tr th {\n",
       "        vertical-align: top;\n",
       "    }\n",
       "\n",
       "    .dataframe thead th {\n",
       "        text-align: right;\n",
       "    }\n",
       "</style>\n",
       "<table border=\"1\" class=\"dataframe\">\n",
       "  <thead>\n",
       "    <tr style=\"text-align: right;\">\n",
       "      <th></th>\n",
       "      <th>hours</th>\n",
       "      <th>mark</th>\n",
       "      <th>prediction_1</th>\n",
       "      <th>prediction_2</th>\n",
       "      <th>prediction_3</th>\n",
       "      <th>error_1</th>\n",
       "      <th>error_2</th>\n",
       "      <th>error_3</th>\n",
       "      <th>error_1_bis</th>\n",
       "      <th>error_2_bis</th>\n",
       "      <th>best_prediction</th>\n",
       "      <th>best_prediction_error</th>\n",
       "      <th>error_best_bis</th>\n",
       "    </tr>\n",
       "  </thead>\n",
       "  <tbody>\n",
       "    <tr>\n",
       "      <th>0</th>\n",
       "      <td>865</td>\n",
       "      <td>95</td>\n",
       "      <td>96.5</td>\n",
       "      <td>92.85</td>\n",
       "      <td>56.07</td>\n",
       "      <td>2.25</td>\n",
       "      <td>4.6225</td>\n",
       "      <td>1515.5449</td>\n",
       "      <td>True</td>\n",
       "      <td>True</td>\n",
       "      <td>84.77</td>\n",
       "      <td>104.6529</td>\n",
       "      <td>False</td>\n",
       "    </tr>\n",
       "    <tr>\n",
       "      <th>1</th>\n",
       "      <td>4</td>\n",
       "      <td>12</td>\n",
       "      <td>10.4</td>\n",
       "      <td>15.36</td>\n",
       "      <td>46.63</td>\n",
       "      <td>2.56</td>\n",
       "      <td>11.2896</td>\n",
       "      <td>1199.2369</td>\n",
       "      <td>True</td>\n",
       "      <td>True</td>\n",
       "      <td>12.12</td>\n",
       "      <td>0.0144</td>\n",
       "      <td>True</td>\n",
       "    </tr>\n",
       "    <tr>\n",
       "      <th>2</th>\n",
       "      <td>305</td>\n",
       "      <td>35</td>\n",
       "      <td>40.5</td>\n",
       "      <td>42.45</td>\n",
       "      <td>59.45</td>\n",
       "      <td>30.25</td>\n",
       "      <td>55.5025</td>\n",
       "      <td>597.8025</td>\n",
       "      <td>False</td>\n",
       "      <td>False</td>\n",
       "      <td>37.52</td>\n",
       "      <td>6.3504</td>\n",
       "      <td>True</td>\n",
       "    </tr>\n",
       "    <tr>\n",
       "      <th>3</th>\n",
       "      <td>437</td>\n",
       "      <td>56</td>\n",
       "      <td>53.7</td>\n",
       "      <td>54.33</td>\n",
       "      <td>53.24</td>\n",
       "      <td>5.29</td>\n",
       "      <td>2.7889</td>\n",
       "      <td>7.6176</td>\n",
       "      <td>True</td>\n",
       "      <td>True</td>\n",
       "      <td>48.65</td>\n",
       "      <td>54.0225</td>\n",
       "      <td>False</td>\n",
       "    </tr>\n",
       "    <tr>\n",
       "      <th>4</th>\n",
       "      <td>682</td>\n",
       "      <td>86</td>\n",
       "      <td>78.2</td>\n",
       "      <td>76.38</td>\n",
       "      <td>54.13</td>\n",
       "      <td>60.84</td>\n",
       "      <td>92.5444</td>\n",
       "      <td>1015.6969</td>\n",
       "      <td>False</td>\n",
       "      <td>False</td>\n",
       "      <td>69.33</td>\n",
       "      <td>277.8889</td>\n",
       "      <td>False</td>\n",
       "    </tr>\n",
       "    <tr>\n",
       "      <th>...</th>\n",
       "      <td>...</td>\n",
       "      <td>...</td>\n",
       "      <td>...</td>\n",
       "      <td>...</td>\n",
       "      <td>...</td>\n",
       "      <td>...</td>\n",
       "      <td>...</td>\n",
       "      <td>...</td>\n",
       "      <td>...</td>\n",
       "      <td>...</td>\n",
       "      <td>...</td>\n",
       "      <td>...</td>\n",
       "      <td>...</td>\n",
       "    </tr>\n",
       "    <tr>\n",
       "      <th>95</th>\n",
       "      <td>252</td>\n",
       "      <td>66</td>\n",
       "      <td>35.2</td>\n",
       "      <td>37.68</td>\n",
       "      <td>47.79</td>\n",
       "      <td>948.64</td>\n",
       "      <td>802.0224</td>\n",
       "      <td>331.6041</td>\n",
       "      <td>False</td>\n",
       "      <td>False</td>\n",
       "      <td>33.04</td>\n",
       "      <td>1086.3616</td>\n",
       "      <td>False</td>\n",
       "    </tr>\n",
       "    <tr>\n",
       "      <th>96</th>\n",
       "      <td>49</td>\n",
       "      <td>21</td>\n",
       "      <td>14.9</td>\n",
       "      <td>19.41</td>\n",
       "      <td>58.98</td>\n",
       "      <td>37.21</td>\n",
       "      <td>2.5281</td>\n",
       "      <td>1442.4804</td>\n",
       "      <td>False</td>\n",
       "      <td>True</td>\n",
       "      <td>15.92</td>\n",
       "      <td>25.8064</td>\n",
       "      <td>False</td>\n",
       "    </tr>\n",
       "    <tr>\n",
       "      <th>97</th>\n",
       "      <td>792</td>\n",
       "      <td>97</td>\n",
       "      <td>89.2</td>\n",
       "      <td>86.28</td>\n",
       "      <td>45.74</td>\n",
       "      <td>60.84</td>\n",
       "      <td>114.9184</td>\n",
       "      <td>2627.5876</td>\n",
       "      <td>False</td>\n",
       "      <td>False</td>\n",
       "      <td>78.61</td>\n",
       "      <td>338.1921</td>\n",
       "      <td>False</td>\n",
       "    </tr>\n",
       "    <tr>\n",
       "      <th>98</th>\n",
       "      <td>310</td>\n",
       "      <td>46</td>\n",
       "      <td>41.0</td>\n",
       "      <td>42.90</td>\n",
       "      <td>40.72</td>\n",
       "      <td>25.00</td>\n",
       "      <td>9.6100</td>\n",
       "      <td>27.8784</td>\n",
       "      <td>False</td>\n",
       "      <td>True</td>\n",
       "      <td>37.94</td>\n",
       "      <td>64.9636</td>\n",
       "      <td>False</td>\n",
       "    </tr>\n",
       "    <tr>\n",
       "      <th>99</th>\n",
       "      <td>934</td>\n",
       "      <td>89</td>\n",
       "      <td>103.4</td>\n",
       "      <td>99.06</td>\n",
       "      <td>49.94</td>\n",
       "      <td>207.36</td>\n",
       "      <td>101.2036</td>\n",
       "      <td>1525.6836</td>\n",
       "      <td>False</td>\n",
       "      <td>False</td>\n",
       "      <td>90.59</td>\n",
       "      <td>2.5281</td>\n",
       "      <td>True</td>\n",
       "    </tr>\n",
       "  </tbody>\n",
       "</table>\n",
       "<p>100 rows × 13 columns</p>\n",
       "</div>"
      ],
      "text/plain": [
       "    hours  mark  prediction_1  prediction_2  prediction_3  error_1   error_2  \\\n",
       "0     865    95          96.5         92.85         56.07     2.25    4.6225   \n",
       "1       4    12          10.4         15.36         46.63     2.56   11.2896   \n",
       "2     305    35          40.5         42.45         59.45    30.25   55.5025   \n",
       "3     437    56          53.7         54.33         53.24     5.29    2.7889   \n",
       "4     682    86          78.2         76.38         54.13    60.84   92.5444   \n",
       "..    ...   ...           ...           ...           ...      ...       ...   \n",
       "95    252    66          35.2         37.68         47.79   948.64  802.0224   \n",
       "96     49    21          14.9         19.41         58.98    37.21    2.5281   \n",
       "97    792    97          89.2         86.28         45.74    60.84  114.9184   \n",
       "98    310    46          41.0         42.90         40.72    25.00    9.6100   \n",
       "99    934    89         103.4         99.06         49.94   207.36  101.2036   \n",
       "\n",
       "      error_3  error_1_bis  error_2_bis  best_prediction  \\\n",
       "0   1515.5449         True         True            84.77   \n",
       "1   1199.2369         True         True            12.12   \n",
       "2    597.8025        False        False            37.52   \n",
       "3      7.6176         True         True            48.65   \n",
       "4   1015.6969        False        False            69.33   \n",
       "..        ...          ...          ...              ...   \n",
       "95   331.6041        False        False            33.04   \n",
       "96  1442.4804        False         True            15.92   \n",
       "97  2627.5876        False        False            78.61   \n",
       "98    27.8784        False         True            37.94   \n",
       "99  1525.6836        False        False            90.59   \n",
       "\n",
       "    best_prediction_error  error_best_bis  \n",
       "0                104.6529           False  \n",
       "1                  0.0144            True  \n",
       "2                  6.3504            True  \n",
       "3                 54.0225           False  \n",
       "4                277.8889           False  \n",
       "..                    ...             ...  \n",
       "95              1086.3616           False  \n",
       "96                25.8064           False  \n",
       "97               338.1921           False  \n",
       "98                64.9636           False  \n",
       "99                 2.5281            True  \n",
       "\n",
       "[100 rows x 13 columns]"
      ]
     },
     "execution_count": 111,
     "metadata": {},
     "output_type": "execute_result"
    }
   ],
   "source": [
    "data"
   ]
  },
  {
   "cell_type": "markdown",
   "metadata": {},
   "source": [
    "Lets plot reality vs prediction"
   ]
  },
  {
   "cell_type": "code",
   "execution_count": 110,
   "metadata": {},
   "outputs": [
    {
     "data": {
      "text/plain": [
       "<AxesSubplot:xlabel='mark', ylabel='best_prediction'>"
      ]
     },
     "execution_count": 110,
     "metadata": {},
     "output_type": "execute_result"
    },
    {
     "data": {
      "image/png": "[encoded data removed]",
      "text/plain": [
       "<Figure size 432x288 with 1 Axes>"
      ]
     },
     "metadata": {
      "needs_background": "light"
     },
     "output_type": "display_data"
    }
   ],
   "source": [
    "%matplotlib inline\n",
    "sns.scatterplot(x=data.mark, y=data.best_prediction)"
   ]
  },
  {
   "cell_type": "markdown",
   "metadata": {},
   "source": [
    "We can evaluate other metrics on our model"
   ]
  },
  {
   "cell_type": "code",
   "execution_count": 112,
   "metadata": {},
   "outputs": [],
   "source": [
    "from sklearn.metrics import mean_absolute_error"
   ]
  },
  {
   "cell_type": "code",
   "execution_count": 113,
   "metadata": {},
   "outputs": [
    {
     "data": {
      "text/html": [
       "<div>\n",
       "<style scoped>\n",
       "    .dataframe tbody tr th:only-of-type {\n",
       "        vertical-align: middle;\n",
       "    }\n",
       "\n",
       "    .dataframe tbody tr th {\n",
       "        vertical-align: top;\n",
       "    }\n",
       "\n",
       "    .dataframe thead th {\n",
       "        text-align: right;\n",
       "    }\n",
       "</style>\n",
       "<table border=\"1\" class=\"dataframe\">\n",
       "  <thead>\n",
       "    <tr style=\"text-align: right;\">\n",
       "      <th></th>\n",
       "      <th>hours</th>\n",
       "      <th>mark</th>\n",
       "      <th>prediction_1</th>\n",
       "      <th>prediction_2</th>\n",
       "      <th>prediction_3</th>\n",
       "      <th>error_1</th>\n",
       "      <th>error_2</th>\n",
       "      <th>error_3</th>\n",
       "      <th>error_1_bis</th>\n",
       "      <th>error_2_bis</th>\n",
       "      <th>best_prediction</th>\n",
       "      <th>best_prediction_error</th>\n",
       "      <th>error_best_bis</th>\n",
       "    </tr>\n",
       "  </thead>\n",
       "  <tbody>\n",
       "    <tr>\n",
       "      <th>0</th>\n",
       "      <td>865</td>\n",
       "      <td>95</td>\n",
       "      <td>96.5</td>\n",
       "      <td>92.85</td>\n",
       "      <td>56.07</td>\n",
       "      <td>2.25</td>\n",
       "      <td>4.6225</td>\n",
       "      <td>1515.5449</td>\n",
       "      <td>True</td>\n",
       "      <td>True</td>\n",
       "      <td>84.77</td>\n",
       "      <td>104.6529</td>\n",
       "      <td>False</td>\n",
       "    </tr>\n",
       "    <tr>\n",
       "      <th>1</th>\n",
       "      <td>4</td>\n",
       "      <td>12</td>\n",
       "      <td>10.4</td>\n",
       "      <td>15.36</td>\n",
       "      <td>46.63</td>\n",
       "      <td>2.56</td>\n",
       "      <td>11.2896</td>\n",
       "      <td>1199.2369</td>\n",
       "      <td>True</td>\n",
       "      <td>True</td>\n",
       "      <td>12.12</td>\n",
       "      <td>0.0144</td>\n",
       "      <td>True</td>\n",
       "    </tr>\n",
       "    <tr>\n",
       "      <th>2</th>\n",
       "      <td>305</td>\n",
       "      <td>35</td>\n",
       "      <td>40.5</td>\n",
       "      <td>42.45</td>\n",
       "      <td>59.45</td>\n",
       "      <td>30.25</td>\n",
       "      <td>55.5025</td>\n",
       "      <td>597.8025</td>\n",
       "      <td>False</td>\n",
       "      <td>False</td>\n",
       "      <td>37.52</td>\n",
       "      <td>6.3504</td>\n",
       "      <td>True</td>\n",
       "    </tr>\n",
       "    <tr>\n",
       "      <th>3</th>\n",
       "      <td>437</td>\n",
       "      <td>56</td>\n",
       "      <td>53.7</td>\n",
       "      <td>54.33</td>\n",
       "      <td>53.24</td>\n",
       "      <td>5.29</td>\n",
       "      <td>2.7889</td>\n",
       "      <td>7.6176</td>\n",
       "      <td>True</td>\n",
       "      <td>True</td>\n",
       "      <td>48.65</td>\n",
       "      <td>54.0225</td>\n",
       "      <td>False</td>\n",
       "    </tr>\n",
       "    <tr>\n",
       "      <th>4</th>\n",
       "      <td>682</td>\n",
       "      <td>86</td>\n",
       "      <td>78.2</td>\n",
       "      <td>76.38</td>\n",
       "      <td>54.13</td>\n",
       "      <td>60.84</td>\n",
       "      <td>92.5444</td>\n",
       "      <td>1015.6969</td>\n",
       "      <td>False</td>\n",
       "      <td>False</td>\n",
       "      <td>69.33</td>\n",
       "      <td>277.8889</td>\n",
       "      <td>False</td>\n",
       "    </tr>\n",
       "  </tbody>\n",
       "</table>\n",
       "</div>"
      ],
      "text/plain": [
       "   hours  mark  prediction_1  prediction_2  prediction_3  error_1  error_2  \\\n",
       "0    865    95          96.5         92.85         56.07     2.25   4.6225   \n",
       "1      4    12          10.4         15.36         46.63     2.56  11.2896   \n",
       "2    305    35          40.5         42.45         59.45    30.25  55.5025   \n",
       "3    437    56          53.7         54.33         53.24     5.29   2.7889   \n",
       "4    682    86          78.2         76.38         54.13    60.84  92.5444   \n",
       "\n",
       "     error_3  error_1_bis  error_2_bis  best_prediction  \\\n",
       "0  1515.5449         True         True            84.77   \n",
       "1  1199.2369         True         True            12.12   \n",
       "2   597.8025        False        False            37.52   \n",
       "3     7.6176         True         True            48.65   \n",
       "4  1015.6969        False        False            69.33   \n",
       "\n",
       "   best_prediction_error  error_best_bis  \n",
       "0               104.6529           False  \n",
       "1                 0.0144            True  \n",
       "2                 6.3504            True  \n",
       "3                54.0225           False  \n",
       "4               277.8889           False  "
      ]
     },
     "execution_count": 113,
     "metadata": {},
     "output_type": "execute_result"
    }
   ],
   "source": [
    "data.head()"
   ]
  },
  {
   "cell_type": "code",
   "execution_count": 114,
   "metadata": {},
   "outputs": [
    {
     "data": {
      "text/plain": [
       "11.4026"
      ]
     },
     "execution_count": 114,
     "metadata": {},
     "output_type": "execute_result"
    }
   ],
   "source": [
    "mean_absolute_error(data.mark, data.best_prediction)"
   ]
  },
  {
   "cell_type": "code",
   "execution_count": 115,
   "metadata": {},
   "outputs": [
    {
     "data": {
      "text/plain": [
       "12.200999999999999"
      ]
     },
     "execution_count": 115,
     "metadata": {},
     "output_type": "execute_result"
    }
   ],
   "source": [
    "mean_absolute_error(data.mark, data.prediction_2)"
   ]
  },
  {
   "cell_type": "markdown",
   "metadata": {},
   "source": [
    "## Align with business to decide the optimal metric!!"
   ]
  },
  {
   "cell_type": "code",
   "execution_count": 116,
   "metadata": {},
   "outputs": [],
   "source": [
    "data2 = pd.DataFrame({\"boxes\": [100, 150, 160, 90, 220], \"pred_1\": [105, 153, 172, 93, 244], \"pred_2\": [98, 146, 166, 88, 214]})"
   ]
  },
  {
   "cell_type": "code",
   "execution_count": 118,
   "metadata": {},
   "outputs": [
    {
     "data": {
      "text/html": [
       "<div>\n",
       "<style scoped>\n",
       "    .dataframe tbody tr th:only-of-type {\n",
       "        vertical-align: middle;\n",
       "    }\n",
       "\n",
       "    .dataframe tbody tr th {\n",
       "        vertical-align: top;\n",
       "    }\n",
       "\n",
       "    .dataframe thead th {\n",
       "        text-align: right;\n",
       "    }\n",
       "</style>\n",
       "<table border=\"1\" class=\"dataframe\">\n",
       "  <thead>\n",
       "    <tr style=\"text-align: right;\">\n",
       "      <th></th>\n",
       "      <th>boxes</th>\n",
       "      <th>pred_1</th>\n",
       "      <th>pred_2</th>\n",
       "    </tr>\n",
       "  </thead>\n",
       "  <tbody>\n",
       "    <tr>\n",
       "      <th>0</th>\n",
       "      <td>100</td>\n",
       "      <td>105</td>\n",
       "      <td>98</td>\n",
       "    </tr>\n",
       "    <tr>\n",
       "      <th>1</th>\n",
       "      <td>150</td>\n",
       "      <td>153</td>\n",
       "      <td>146</td>\n",
       "    </tr>\n",
       "    <tr>\n",
       "      <th>2</th>\n",
       "      <td>160</td>\n",
       "      <td>172</td>\n",
       "      <td>166</td>\n",
       "    </tr>\n",
       "    <tr>\n",
       "      <th>3</th>\n",
       "      <td>90</td>\n",
       "      <td>93</td>\n",
       "      <td>88</td>\n",
       "    </tr>\n",
       "    <tr>\n",
       "      <th>4</th>\n",
       "      <td>220</td>\n",
       "      <td>244</td>\n",
       "      <td>214</td>\n",
       "    </tr>\n",
       "  </tbody>\n",
       "</table>\n",
       "</div>"
      ],
      "text/plain": [
       "   boxes  pred_1  pred_2\n",
       "0    100     105      98\n",
       "1    150     153     146\n",
       "2    160     172     166\n",
       "3     90      93      88\n",
       "4    220     244     214"
      ]
     },
     "execution_count": 118,
     "metadata": {},
     "output_type": "execute_result"
    }
   ],
   "source": [
    "data2"
   ]
  },
  {
   "cell_type": "code",
   "execution_count": 119,
   "metadata": {},
   "outputs": [],
   "source": [
    "data2[\"mse_1\"] = (data2[\"boxes\"] - data2[\"pred_1\"]) ** 2\n",
    "data2[\"mse_2\"] = (data2[\"boxes\"] - data2[\"pred_2\"]) ** 2"
   ]
  },
  {
   "cell_type": "code",
   "execution_count": 120,
   "metadata": {},
   "outputs": [
    {
     "data": {
      "text/html": [
       "<div>\n",
       "<style scoped>\n",
       "    .dataframe tbody tr th:only-of-type {\n",
       "        vertical-align: middle;\n",
       "    }\n",
       "\n",
       "    .dataframe tbody tr th {\n",
       "        vertical-align: top;\n",
       "    }\n",
       "\n",
       "    .dataframe thead th {\n",
       "        text-align: right;\n",
       "    }\n",
       "</style>\n",
       "<table border=\"1\" class=\"dataframe\">\n",
       "  <thead>\n",
       "    <tr style=\"text-align: right;\">\n",
       "      <th></th>\n",
       "      <th>boxes</th>\n",
       "      <th>pred_1</th>\n",
       "      <th>pred_2</th>\n",
       "      <th>mse_1</th>\n",
       "      <th>mse_2</th>\n",
       "    </tr>\n",
       "  </thead>\n",
       "  <tbody>\n",
       "    <tr>\n",
       "      <th>0</th>\n",
       "      <td>100</td>\n",
       "      <td>105</td>\n",
       "      <td>98</td>\n",
       "      <td>25</td>\n",
       "      <td>4</td>\n",
       "    </tr>\n",
       "    <tr>\n",
       "      <th>1</th>\n",
       "      <td>150</td>\n",
       "      <td>153</td>\n",
       "      <td>146</td>\n",
       "      <td>9</td>\n",
       "      <td>16</td>\n",
       "    </tr>\n",
       "    <tr>\n",
       "      <th>2</th>\n",
       "      <td>160</td>\n",
       "      <td>172</td>\n",
       "      <td>166</td>\n",
       "      <td>144</td>\n",
       "      <td>36</td>\n",
       "    </tr>\n",
       "    <tr>\n",
       "      <th>3</th>\n",
       "      <td>90</td>\n",
       "      <td>93</td>\n",
       "      <td>88</td>\n",
       "      <td>9</td>\n",
       "      <td>4</td>\n",
       "    </tr>\n",
       "    <tr>\n",
       "      <th>4</th>\n",
       "      <td>220</td>\n",
       "      <td>244</td>\n",
       "      <td>214</td>\n",
       "      <td>576</td>\n",
       "      <td>36</td>\n",
       "    </tr>\n",
       "  </tbody>\n",
       "</table>\n",
       "</div>"
      ],
      "text/plain": [
       "   boxes  pred_1  pred_2  mse_1  mse_2\n",
       "0    100     105      98     25      4\n",
       "1    150     153     146      9     16\n",
       "2    160     172     166    144     36\n",
       "3     90      93      88      9      4\n",
       "4    220     244     214    576     36"
      ]
     },
     "execution_count": 120,
     "metadata": {},
     "output_type": "execute_result"
    }
   ],
   "source": [
    "data2.head()"
   ]
  },
  {
   "cell_type": "code",
   "execution_count": 121,
   "metadata": {},
   "outputs": [
    {
     "data": {
      "text/plain": [
       "152.6"
      ]
     },
     "execution_count": 121,
     "metadata": {},
     "output_type": "execute_result"
    }
   ],
   "source": [
    "data2.mse_1.mean()"
   ]
  },
  {
   "cell_type": "code",
   "execution_count": 122,
   "metadata": {},
   "outputs": [
    {
     "data": {
      "text/plain": [
       "19.2"
      ]
     },
     "execution_count": 122,
     "metadata": {},
     "output_type": "execute_result"
    }
   ],
   "source": [
    "data2.mse_2.mean()"
   ]
  },
  {
   "cell_type": "markdown",
   "metadata": {},
   "source": [
    "Estimate customer lifetime value (CLV)  \n",
    "20 + 0.96 * 20 + 0.96 **2 * 20 + ..."
   ]
  },
  {
   "cell_type": "code",
   "execution_count": 123,
   "metadata": {},
   "outputs": [
    {
     "data": {
      "text/plain": [
       "499.99999999999955"
      ]
     },
     "execution_count": 123,
     "metadata": {},
     "output_type": "execute_result"
    }
   ],
   "source": [
    "20 / (1 - 0.96)"
   ]
  },
  {
   "cell_type": "code",
   "execution_count": 125,
   "metadata": {},
   "outputs": [],
   "source": [
    "loss_demand = 3\n",
    "# suppose we lose 1 of 2 clients if non-provided\n",
    "loss_offer = 250"
   ]
  },
  {
   "cell_type": "code",
   "execution_count": 126,
   "metadata": {},
   "outputs": [],
   "source": [
    "data2[\"loss_demand_1\"] = (data2[\"pred_1\"] - data2[\"boxes\"]) * (data2[\"pred_1\"] - data2[\"boxes\"] > 0) * loss_demand"
   ]
  },
  {
   "cell_type": "code",
   "execution_count": 127,
   "metadata": {},
   "outputs": [],
   "source": [
    "data2[\"loss_offer_1\"] = (- data2[\"pred_1\"] + data2[\"boxes\"]) * (data2[\"pred_1\"] - data2[\"boxes\"] < 0) * loss_offer"
   ]
  },
  {
   "cell_type": "code",
   "execution_count": 128,
   "metadata": {},
   "outputs": [],
   "source": [
    "data2[\"loss_demand_2\"] = (data2[\"pred_2\"] - data2[\"boxes\"]) * (data2[\"pred_2\"] - data2[\"boxes\"] > 0) * loss_demand"
   ]
  },
  {
   "cell_type": "code",
   "execution_count": 129,
   "metadata": {},
   "outputs": [],
   "source": [
    "data2[\"loss_offer_2\"] = (- data2[\"pred_2\"] + data2[\"boxes\"]) * (data2[\"pred_2\"] - data2[\"boxes\"] < 0) * loss_offer"
   ]
  },
  {
   "cell_type": "code",
   "execution_count": 130,
   "metadata": {},
   "outputs": [],
   "source": [
    "data2[\"loss_1\"] = data2.loss_demand_1 + data2.loss_offer_1\n",
    "data2[\"loss_2\"] = data2.loss_demand_2 + data2.loss_offer_2"
   ]
  },
  {
   "cell_type": "code",
   "execution_count": 131,
   "metadata": {},
   "outputs": [
    {
     "data": {
      "text/html": [
       "<div>\n",
       "<style scoped>\n",
       "    .dataframe tbody tr th:only-of-type {\n",
       "        vertical-align: middle;\n",
       "    }\n",
       "\n",
       "    .dataframe tbody tr th {\n",
       "        vertical-align: top;\n",
       "    }\n",
       "\n",
       "    .dataframe thead th {\n",
       "        text-align: right;\n",
       "    }\n",
       "</style>\n",
       "<table border=\"1\" class=\"dataframe\">\n",
       "  <thead>\n",
       "    <tr style=\"text-align: right;\">\n",
       "      <th></th>\n",
       "      <th>boxes</th>\n",
       "      <th>pred_1</th>\n",
       "      <th>pred_2</th>\n",
       "      <th>mse_1</th>\n",
       "      <th>mse_2</th>\n",
       "      <th>loss_demand_1</th>\n",
       "      <th>loss_offer_1</th>\n",
       "      <th>loss_demand_2</th>\n",
       "      <th>loss_offer_2</th>\n",
       "      <th>loss_1</th>\n",
       "      <th>loss_2</th>\n",
       "    </tr>\n",
       "  </thead>\n",
       "  <tbody>\n",
       "    <tr>\n",
       "      <th>0</th>\n",
       "      <td>100</td>\n",
       "      <td>105</td>\n",
       "      <td>98</td>\n",
       "      <td>25</td>\n",
       "      <td>4</td>\n",
       "      <td>15</td>\n",
       "      <td>0</td>\n",
       "      <td>0</td>\n",
       "      <td>500</td>\n",
       "      <td>15</td>\n",
       "      <td>500</td>\n",
       "    </tr>\n",
       "    <tr>\n",
       "      <th>1</th>\n",
       "      <td>150</td>\n",
       "      <td>153</td>\n",
       "      <td>146</td>\n",
       "      <td>9</td>\n",
       "      <td>16</td>\n",
       "      <td>9</td>\n",
       "      <td>0</td>\n",
       "      <td>0</td>\n",
       "      <td>1000</td>\n",
       "      <td>9</td>\n",
       "      <td>1000</td>\n",
       "    </tr>\n",
       "    <tr>\n",
       "      <th>2</th>\n",
       "      <td>160</td>\n",
       "      <td>172</td>\n",
       "      <td>166</td>\n",
       "      <td>144</td>\n",
       "      <td>36</td>\n",
       "      <td>36</td>\n",
       "      <td>0</td>\n",
       "      <td>18</td>\n",
       "      <td>0</td>\n",
       "      <td>36</td>\n",
       "      <td>18</td>\n",
       "    </tr>\n",
       "    <tr>\n",
       "      <th>3</th>\n",
       "      <td>90</td>\n",
       "      <td>93</td>\n",
       "      <td>88</td>\n",
       "      <td>9</td>\n",
       "      <td>4</td>\n",
       "      <td>9</td>\n",
       "      <td>0</td>\n",
       "      <td>0</td>\n",
       "      <td>500</td>\n",
       "      <td>9</td>\n",
       "      <td>500</td>\n",
       "    </tr>\n",
       "    <tr>\n",
       "      <th>4</th>\n",
       "      <td>220</td>\n",
       "      <td>244</td>\n",
       "      <td>214</td>\n",
       "      <td>576</td>\n",
       "      <td>36</td>\n",
       "      <td>72</td>\n",
       "      <td>0</td>\n",
       "      <td>0</td>\n",
       "      <td>1500</td>\n",
       "      <td>72</td>\n",
       "      <td>1500</td>\n",
       "    </tr>\n",
       "  </tbody>\n",
       "</table>\n",
       "</div>"
      ],
      "text/plain": [
       "   boxes  pred_1  pred_2  mse_1  mse_2  loss_demand_1  loss_offer_1  \\\n",
       "0    100     105      98     25      4             15             0   \n",
       "1    150     153     146      9     16              9             0   \n",
       "2    160     172     166    144     36             36             0   \n",
       "3     90      93      88      9      4              9             0   \n",
       "4    220     244     214    576     36             72             0   \n",
       "\n",
       "   loss_demand_2  loss_offer_2  loss_1  loss_2  \n",
       "0              0           500      15     500  \n",
       "1              0          1000       9    1000  \n",
       "2             18             0      36      18  \n",
       "3              0           500       9     500  \n",
       "4              0          1500      72    1500  "
      ]
     },
     "execution_count": 131,
     "metadata": {},
     "output_type": "execute_result"
    }
   ],
   "source": [
    "data2"
   ]
  },
  {
   "cell_type": "code",
   "execution_count": 132,
   "metadata": {},
   "outputs": [
    {
     "data": {
      "text/plain": [
       "141"
      ]
     },
     "execution_count": 132,
     "metadata": {},
     "output_type": "execute_result"
    }
   ],
   "source": [
    "data2.loss_1.sum()"
   ]
  },
  {
   "cell_type": "code",
   "execution_count": 133,
   "metadata": {},
   "outputs": [
    {
     "data": {
      "text/plain": [
       "3518"
      ]
     },
     "execution_count": 133,
     "metadata": {},
     "output_type": "execute_result"
    }
   ],
   "source": [
    "data2.loss_2.sum()"
   ]
  }
 ],
 "metadata": {
  "kernelspec": {
   "display_name": "Python 3",
   "language": "python",
   "name": "python3"
  },
  "language_info": {
   "codemirror_mode": {
    "name": "ipython",
    "version": 3
   },
   "file_extension": ".py",
   "mimetype": "text/x-python",
   "name": "python",
   "nbconvert_exporter": "python",
   "pygments_lexer": "ipython3",
   "version": "3.8.5"
  },
  "toc": {
   "base_numbering": 1,
   "nav_menu": {},
   "number_sections": true,
   "sideBar": true,
   "skip_h1_title": true,
   "title_cell": "Table of Contents",
   "title_sidebar": "Contents",
   "toc_cell": true,
   "toc_position": {},
   "toc_section_display": true,
   "toc_window_display": true
  },
  "varInspector": {
   "cols": {
    "lenName": 16,
    "lenType": 16,
    "lenVar": 40
   },
   "kernels_config": {
    "python": {
     "delete_cmd_postfix": "",
     "delete_cmd_prefix": "del ",
     "library": "var_list.py",
     "varRefreshCmd": "print(var_dic_list())"
    },
    "r": {
     "delete_cmd_postfix": ") ",
     "delete_cmd_prefix": "rm(",
     "library": "var_list.r",
     "varRefreshCmd": "cat(var_dic_list()) "
    }
   },
   "types_to_exclude": [
    "module",
    "function",
    "builtin_function_or_method",
    "instance",
    "_Feature"
   ],
   "window_display": false
  }
 },
 "nbformat": 4,
 "nbformat_minor": 2
}
