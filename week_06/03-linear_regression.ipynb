{
 "cells": [
  {
   "cell_type": "markdown",
   "metadata": {},
   "source": [
    "# Regresión lineal"
   ]
  },
  {
   "cell_type": "markdown",
   "metadata": {},
   "source": [
    "![memesitodeldía](../images/linear.jpeg)"
   ]
  },
  {
   "cell_type": "markdown",
   "metadata": {
    "toc": true
   },
   "source": [
    "<h1>Table of Contents<span class=\"tocSkip\"></span></h1>\n",
    "<div class=\"toc\"><ul class=\"toc-item\"><li><span><a href=\"#Simple-linear-regression\" data-toc-modified-id=\"Simple-linear-regression-1\"><span class=\"toc-item-num\">1&nbsp;&nbsp;</span>Simple linear regression</a></span></li><li><span><a href=\"#Generamos-datos-para-explicar-de-forma-&quot;inversa&quot;-a-lo-visto-ayer-en-clase\" data-toc-modified-id=\"Generamos-datos-para-explicar-de-forma-&quot;inversa&quot;-a-lo-visto-ayer-en-clase-2\"><span class=\"toc-item-num\">2&nbsp;&nbsp;</span>Generamos datos para explicar de forma \"inversa\" a lo visto ayer en clase</a></span></li><li><span><a href=\"#Configuraciones-para-poner-mono-el-plot-de-seaborn\" data-toc-modified-id=\"Configuraciones-para-poner-mono-el-plot-de-seaborn-3\"><span class=\"toc-item-num\">3&nbsp;&nbsp;</span>Configuraciones para poner mono el plot de seaborn</a></span></li><li><span><a href=\"#¿Cómo-de-bueno-es-nuestro-modelo?\" data-toc-modified-id=\"¿Cómo-de-bueno-es-nuestro-modelo?-4\"><span class=\"toc-item-num\">4&nbsp;&nbsp;</span>¿Cómo de bueno es nuestro modelo?</a></span></li><li><span><a href=\"#Calculamos-el-R2-del-modelo\" data-toc-modified-id=\"Calculamos-el-R2-del-modelo-5\"><span class=\"toc-item-num\">5&nbsp;&nbsp;</span>Calculamos el R2 del modelo</a></span></li><li><span><a href=\"#Regresión-lineal-con-sklearn\" data-toc-modified-id=\"Regresión-lineal-con-sklearn-6\"><span class=\"toc-item-num\">6&nbsp;&nbsp;</span>Regresión lineal con sklearn</a></span></li><li><span><a href=\"#Regresión-lineal-con-statsmodels\" data-toc-modified-id=\"Regresión-lineal-con-statsmodels-7\"><span class=\"toc-item-num\">7&nbsp;&nbsp;</span>Regresión lineal con statsmodels</a></span></li><li><span><a href=\"#Conceptos-del-OLS\" data-toc-modified-id=\"Conceptos-del-OLS-8\"><span class=\"toc-item-num\">8&nbsp;&nbsp;</span>Conceptos del OLS</a></span></li><li><span><a href=\"#Regresión-lineal-múltiple\" data-toc-modified-id=\"Regresión-lineal-múltiple-9\"><span class=\"toc-item-num\">9&nbsp;&nbsp;</span>Regresión lineal múltiple</a></span></li><li><span><a href=\"#Variables-categóricas\" data-toc-modified-id=\"Variables-categóricas-10\"><span class=\"toc-item-num\">10&nbsp;&nbsp;</span>Variables categóricas</a></span></li><li><span><a href=\"#Extensiones-del-modelo-lineal\" data-toc-modified-id=\"Extensiones-del-modelo-lineal-11\"><span class=\"toc-item-num\">11&nbsp;&nbsp;</span>Extensiones del modelo lineal</a></span><ul class=\"toc-item\"><li><span><a href=\"#Desafiando-la-suposición-aditiva:-la-sinergia\" data-toc-modified-id=\"Desafiando-la-suposición-aditiva:-la-sinergia-11.1\"><span class=\"toc-item-num\">11.1&nbsp;&nbsp;</span>Desafiando la suposición aditiva: la sinergia</a></span></li></ul></li><li><span><a href=\"#Manos-a-la-obra\" data-toc-modified-id=\"Manos-a-la-obra-12\"><span class=\"toc-item-num\">12&nbsp;&nbsp;</span>Manos a la obra</a></span></li><li><span><a href=\"#Selección-de-modelo\" data-toc-modified-id=\"Selección-de-modelo-13\"><span class=\"toc-item-num\">13&nbsp;&nbsp;</span>Selección de modelo</a></span><ul class=\"toc-item\"><li><span><a href=\"#$R^2$-Ajustado\" data-toc-modified-id=\"$R^2$-Ajustado-13.1\"><span class=\"toc-item-num\">13.1&nbsp;&nbsp;</span>$R^2$ Ajustado</a></span></li></ul></li><li><span><a href=\"#Selección-por-pasos\" data-toc-modified-id=\"Selección-por-pasos-14\"><span class=\"toc-item-num\">14&nbsp;&nbsp;</span>Selección por pasos</a></span><ul class=\"toc-item\"><li><span><a href=\"#Best-subset-selection\" data-toc-modified-id=\"Best-subset-selection-14.1\"><span class=\"toc-item-num\">14.1&nbsp;&nbsp;</span>Best subset selection</a></span></li><li><span><a href=\"#Modelo-nulo\" data-toc-modified-id=\"Modelo-nulo-14.2\"><span class=\"toc-item-num\">14.2&nbsp;&nbsp;</span>Modelo nulo</a></span></li><li><span><a href=\"#Forward-stepwise-selection\" data-toc-modified-id=\"Forward-stepwise-selection-14.3\"><span class=\"toc-item-num\">14.3&nbsp;&nbsp;</span>Forward stepwise selection</a></span></li></ul></li><li><span><a href=\"#Problemas-potenciales-en-la-regresión-lineal\" data-toc-modified-id=\"Problemas-potenciales-en-la-regresión-lineal-15\"><span class=\"toc-item-num\">15&nbsp;&nbsp;</span>Problemas potenciales en la regresión lineal</a></span></li><li><span><a href=\"#Resumen\" data-toc-modified-id=\"Resumen-16\"><span class=\"toc-item-num\">16&nbsp;&nbsp;</span>Resumen</a></span></li><li><span><a href=\"#Further-Materials\" data-toc-modified-id=\"Further-Materials-17\"><span class=\"toc-item-num\">17&nbsp;&nbsp;</span>Further Materials</a></span></li></ul></div>"
   ]
  },
  {
   "cell_type": "code",
   "execution_count": 32,
   "metadata": {},
   "outputs": [],
   "source": [
    "#Visualización\n",
    "from matplotlib import pyplot as plt\n",
    "from matplotlib import cm\n",
    "\n",
    "%matplotlib inline\n",
    "%config Inlinebackend.figure_format = 'retina'\n",
    "\n",
    "import seaborn as sns\n",
    "\n",
    "# Librerías de modelado\n",
    "import statsmodels.formula.api as smf\n",
    "from sklearn.linear_model import LinearRegression\n",
    "\n",
    "import pandas as pd\n",
    "import numpy as np"
   ]
  },
  {
   "cell_type": "markdown",
   "metadata": {},
   "source": [
    "## Simple linear regression\n",
    "\n",
    "Regresión lineal simple un modelo estadístico que supone una relación lineal entre un predictor y una variable objetivo. Matemáticamente, se puede expresar como:"
   ]
  },
  {
   "cell_type": "markdown",
   "metadata": {},
   "source": [
    "![formula](../images/formula.png)"
   ]
  },
  {
   "cell_type": "markdown",
   "metadata": {},
   "source": [
    "Si profundizamos un poco más, podemos encontrar esta otra expresión:\n",
    "\n",
    " $$ Y = \\beta_0 +  \\beta_1 X + \\epsilon$$\n",
    "\n",
    "Donde:\n",
    " * $X$ = variable predictora\n",
    " * $Y$ = variable objetivo\n",
    " * $\\beta_0$ = intercept\n",
    " * $\\beta_1$ = pendiente / slope\n",
    " * $\\epsilon$ = ruido (gaussiano)\n",
    "\n",
    "\n",
    "La ecuación anterior se conoce como *línea de regresión poblacional*.\n",
    "La línea de regresión lineal simple suele tener la forma que se muestra en la fórmula anterior, donde β0 y β1 son constantes desconocidas, que representan el intercepto y la pendiente de la línea de regresión, respectivamente.\n",
    "\n",
    "El intercepto es el valor de la variable dependiente (Y) cuando la variable independiente (X) tiene un valor de cero (0). La pendiente es una medida de la velocidad a la que cambia la variable dependiente (Y) cuando la variable independiente (X) cambia en uno (1). Las constantes desconocidas se denominan coeficientes o parámetros del modelo. Esta forma de la línea de regresión se conoce a veces como línea de regresión poblacional y, como modelo probabilístico, se ajusta al conjunto de datos de forma aproximada de ahí el uso del símbolo (≈) en la imagen. El modelo se denomina probabilístico porque no modela toda la variabilidad de la variable dependiente (Y) : El modelo se llama probabilístico porque no modela toda la variabilidad de la variable dependiente (Y)"
   ]
  },
  {
   "cell_type": "code",
   "execution_count": 2,
   "metadata": {},
   "outputs": [],
   "source": [
    "import pandas as pd"
   ]
  },
  {
   "cell_type": "code",
   "execution_count": 3,
   "metadata": {},
   "outputs": [],
   "source": [
    "data = pd.read_csv(\"../datasets/hours_vs_mark.csv\", index_col=0)"
   ]
  },
  {
   "cell_type": "code",
   "execution_count": 4,
   "metadata": {},
   "outputs": [
    {
     "data": {
      "text/html": [
       "<div>\n",
       "<style scoped>\n",
       "    .dataframe tbody tr th:only-of-type {\n",
       "        vertical-align: middle;\n",
       "    }\n",
       "\n",
       "    .dataframe tbody tr th {\n",
       "        vertical-align: top;\n",
       "    }\n",
       "\n",
       "    .dataframe thead th {\n",
       "        text-align: right;\n",
       "    }\n",
       "</style>\n",
       "<table border=\"1\" class=\"dataframe\">\n",
       "  <thead>\n",
       "    <tr style=\"text-align: right;\">\n",
       "      <th></th>\n",
       "      <th>hours</th>\n",
       "      <th>mark</th>\n",
       "    </tr>\n",
       "  </thead>\n",
       "  <tbody>\n",
       "    <tr>\n",
       "      <th>0</th>\n",
       "      <td>865</td>\n",
       "      <td>95</td>\n",
       "    </tr>\n",
       "    <tr>\n",
       "      <th>1</th>\n",
       "      <td>4</td>\n",
       "      <td>12</td>\n",
       "    </tr>\n",
       "    <tr>\n",
       "      <th>2</th>\n",
       "      <td>305</td>\n",
       "      <td>35</td>\n",
       "    </tr>\n",
       "    <tr>\n",
       "      <th>3</th>\n",
       "      <td>437</td>\n",
       "      <td>56</td>\n",
       "    </tr>\n",
       "    <tr>\n",
       "      <th>4</th>\n",
       "      <td>682</td>\n",
       "      <td>86</td>\n",
       "    </tr>\n",
       "  </tbody>\n",
       "</table>\n",
       "</div>"
      ],
      "text/plain": [
       "   hours  mark\n",
       "0    865    95\n",
       "1      4    12\n",
       "2    305    35\n",
       "3    437    56\n",
       "4    682    86"
      ]
     },
     "execution_count": 4,
     "metadata": {},
     "output_type": "execute_result"
    }
   ],
   "source": [
    "data.head()"
   ]
  },
  {
   "cell_type": "code",
   "execution_count": null,
   "metadata": {},
   "outputs": [],
   "source": [
    "## Hacíamos predicciones en base a una inferencia de beta_0 y beta_1 (m,n / pendiente, intercept"
   ]
  },
  {
   "cell_type": "code",
   "execution_count": 5,
   "metadata": {},
   "outputs": [],
   "source": [
    "# Del ejemplo visto ayer en clase\n",
    "beta_0 = 11.78\n",
    "beta_1 = 0.0844"
   ]
  },
  {
   "cell_type": "code",
   "execution_count": 6,
   "metadata": {},
   "outputs": [],
   "source": [
    "data[\"predict\"] = beta_1 * data.hours + beta_0"
   ]
  },
  {
   "cell_type": "code",
   "execution_count": 7,
   "metadata": {},
   "outputs": [
    {
     "data": {
      "text/html": [
       "<div>\n",
       "<style scoped>\n",
       "    .dataframe tbody tr th:only-of-type {\n",
       "        vertical-align: middle;\n",
       "    }\n",
       "\n",
       "    .dataframe tbody tr th {\n",
       "        vertical-align: top;\n",
       "    }\n",
       "\n",
       "    .dataframe thead th {\n",
       "        text-align: right;\n",
       "    }\n",
       "</style>\n",
       "<table border=\"1\" class=\"dataframe\">\n",
       "  <thead>\n",
       "    <tr style=\"text-align: right;\">\n",
       "      <th></th>\n",
       "      <th>hours</th>\n",
       "      <th>mark</th>\n",
       "      <th>predict</th>\n",
       "    </tr>\n",
       "  </thead>\n",
       "  <tbody>\n",
       "    <tr>\n",
       "      <th>0</th>\n",
       "      <td>865</td>\n",
       "      <td>95</td>\n",
       "      <td>84.7860</td>\n",
       "    </tr>\n",
       "    <tr>\n",
       "      <th>1</th>\n",
       "      <td>4</td>\n",
       "      <td>12</td>\n",
       "      <td>12.1176</td>\n",
       "    </tr>\n",
       "    <tr>\n",
       "      <th>2</th>\n",
       "      <td>305</td>\n",
       "      <td>35</td>\n",
       "      <td>37.5220</td>\n",
       "    </tr>\n",
       "    <tr>\n",
       "      <th>3</th>\n",
       "      <td>437</td>\n",
       "      <td>56</td>\n",
       "      <td>48.6628</td>\n",
       "    </tr>\n",
       "    <tr>\n",
       "      <th>4</th>\n",
       "      <td>682</td>\n",
       "      <td>86</td>\n",
       "      <td>69.3408</td>\n",
       "    </tr>\n",
       "  </tbody>\n",
       "</table>\n",
       "</div>"
      ],
      "text/plain": [
       "   hours  mark  predict\n",
       "0    865    95  84.7860\n",
       "1      4    12  12.1176\n",
       "2    305    35  37.5220\n",
       "3    437    56  48.6628\n",
       "4    682    86  69.3408"
      ]
     },
     "execution_count": 7,
     "metadata": {},
     "output_type": "execute_result"
    }
   ],
   "source": [
    "data.head()"
   ]
  },
  {
   "cell_type": "code",
   "execution_count": null,
   "metadata": {},
   "outputs": [],
   "source": [
    "## Calculábamos el error "
   ]
  },
  {
   "cell_type": "code",
   "execution_count": 11,
   "metadata": {},
   "outputs": [],
   "source": [
    "data[\"error\"] = (data.mark - data.predict) ** 2"
   ]
  },
  {
   "cell_type": "code",
   "execution_count": 12,
   "metadata": {},
   "outputs": [
    {
     "data": {
      "text/html": [
       "<div>\n",
       "<style scoped>\n",
       "    .dataframe tbody tr th:only-of-type {\n",
       "        vertical-align: middle;\n",
       "    }\n",
       "\n",
       "    .dataframe tbody tr th {\n",
       "        vertical-align: top;\n",
       "    }\n",
       "\n",
       "    .dataframe thead th {\n",
       "        text-align: right;\n",
       "    }\n",
       "</style>\n",
       "<table border=\"1\" class=\"dataframe\">\n",
       "  <thead>\n",
       "    <tr style=\"text-align: right;\">\n",
       "      <th></th>\n",
       "      <th>hours</th>\n",
       "      <th>mark</th>\n",
       "      <th>predict</th>\n",
       "      <th>error</th>\n",
       "    </tr>\n",
       "  </thead>\n",
       "  <tbody>\n",
       "    <tr>\n",
       "      <th>0</th>\n",
       "      <td>865</td>\n",
       "      <td>95</td>\n",
       "      <td>84.7860</td>\n",
       "      <td>104.325796</td>\n",
       "    </tr>\n",
       "    <tr>\n",
       "      <th>1</th>\n",
       "      <td>4</td>\n",
       "      <td>12</td>\n",
       "      <td>12.1176</td>\n",
       "      <td>0.013830</td>\n",
       "    </tr>\n",
       "    <tr>\n",
       "      <th>2</th>\n",
       "      <td>305</td>\n",
       "      <td>35</td>\n",
       "      <td>37.5220</td>\n",
       "      <td>6.360484</td>\n",
       "    </tr>\n",
       "    <tr>\n",
       "      <th>3</th>\n",
       "      <td>437</td>\n",
       "      <td>56</td>\n",
       "      <td>48.6628</td>\n",
       "      <td>53.834504</td>\n",
       "    </tr>\n",
       "    <tr>\n",
       "      <th>4</th>\n",
       "      <td>682</td>\n",
       "      <td>86</td>\n",
       "      <td>69.3408</td>\n",
       "      <td>277.528945</td>\n",
       "    </tr>\n",
       "  </tbody>\n",
       "</table>\n",
       "</div>"
      ],
      "text/plain": [
       "   hours  mark  predict       error\n",
       "0    865    95  84.7860  104.325796\n",
       "1      4    12  12.1176    0.013830\n",
       "2    305    35  37.5220    6.360484\n",
       "3    437    56  48.6628   53.834504\n",
       "4    682    86  69.3408  277.528945"
      ]
     },
     "execution_count": 12,
     "metadata": {},
     "output_type": "execute_result"
    }
   ],
   "source": [
    "data.head()"
   ]
  },
  {
   "cell_type": "code",
   "execution_count": 13,
   "metadata": {},
   "outputs": [
    {
     "data": {
      "text/plain": [
       "189.31620751359998"
      ]
     },
     "execution_count": 13,
     "metadata": {},
     "output_type": "execute_result"
    }
   ],
   "source": [
    "# MSE (MEAN SQUARED ERROR)\n",
    "data.error.mean()"
   ]
  },
  {
   "cell_type": "markdown",
   "metadata": {},
   "source": [
    "## Generamos datos para explicar de forma \"inversa\" a lo visto ayer en clase"
   ]
  },
  {
   "cell_type": "code",
   "execution_count": 14,
   "metadata": {},
   "outputs": [],
   "source": [
    "# Del ejemplo visto ayer en clase \n",
    "beta_0 = 10\n",
    "beta_1 = 0.08\n",
    "num_notas = 100"
   ]
  },
  {
   "cell_type": "markdown",
   "metadata": {},
   "source": [
    "Documentación de np.random normal --> https://numpy.org/doc/stable/reference/random/generated/numpy.random.normal.html    \n",
    "Parámetros : \n",
    "- Media\n",
    "- Desviación estándar\n",
    "- Tamaño de la muestra"
   ]
  },
  {
   "cell_type": "code",
   "execution_count": 15,
   "metadata": {},
   "outputs": [],
   "source": [
    "# Generamos las horas de estudio\n",
    "X = np.random.normal(600,150,num_notas)"
   ]
  },
  {
   "cell_type": "markdown",
   "metadata": {},
   "source": [
    "A la hora de generar las notas metemos ese np.random.normal que va a ser un número aleatorio para cada nota que va a hacer que la nota varie. Es un error aleatorio. Lo ponemos porque nos estamos inventando los datos y si lo hacemos simplemente a través de la fórmula de una recta, evidentemente, tendremos unos datos que se ajusten a una regresión A LA PERFECCIÓN y eso no es real."
   ]
  },
  {
   "cell_type": "code",
   "execution_count": 17,
   "metadata": {},
   "outputs": [],
   "source": [
    "# Generamos las notas\n",
    "y = beta_0 + (beta_1 * X) + np.random.normal(loc=0, scale=5, size=num_notas)"
   ]
  },
  {
   "cell_type": "code",
   "execution_count": 18,
   "metadata": {},
   "outputs": [],
   "source": [
    "# Generamos el dataframe\n",
    "data = pd.DataFrame({\"horas\": X, \"nota\":y}).round().astype(int)"
   ]
  },
  {
   "cell_type": "code",
   "execution_count": 19,
   "metadata": {},
   "outputs": [
    {
     "data": {
      "text/html": [
       "<div>\n",
       "<style scoped>\n",
       "    .dataframe tbody tr th:only-of-type {\n",
       "        vertical-align: middle;\n",
       "    }\n",
       "\n",
       "    .dataframe tbody tr th {\n",
       "        vertical-align: top;\n",
       "    }\n",
       "\n",
       "    .dataframe thead th {\n",
       "        text-align: right;\n",
       "    }\n",
       "</style>\n",
       "<table border=\"1\" class=\"dataframe\">\n",
       "  <thead>\n",
       "    <tr style=\"text-align: right;\">\n",
       "      <th></th>\n",
       "      <th>horas</th>\n",
       "      <th>nota</th>\n",
       "    </tr>\n",
       "  </thead>\n",
       "  <tbody>\n",
       "    <tr>\n",
       "      <th>0</th>\n",
       "      <td>630</td>\n",
       "      <td>61</td>\n",
       "    </tr>\n",
       "    <tr>\n",
       "      <th>1</th>\n",
       "      <td>532</td>\n",
       "      <td>53</td>\n",
       "    </tr>\n",
       "    <tr>\n",
       "      <th>2</th>\n",
       "      <td>579</td>\n",
       "      <td>61</td>\n",
       "    </tr>\n",
       "    <tr>\n",
       "      <th>3</th>\n",
       "      <td>469</td>\n",
       "      <td>51</td>\n",
       "    </tr>\n",
       "    <tr>\n",
       "      <th>4</th>\n",
       "      <td>703</td>\n",
       "      <td>62</td>\n",
       "    </tr>\n",
       "  </tbody>\n",
       "</table>\n",
       "</div>"
      ],
      "text/plain": [
       "   horas  nota\n",
       "0    630    61\n",
       "1    532    53\n",
       "2    579    61\n",
       "3    469    51\n",
       "4    703    62"
      ]
     },
     "execution_count": 19,
     "metadata": {},
     "output_type": "execute_result"
    }
   ],
   "source": [
    "data.head()"
   ]
  },
  {
   "cell_type": "code",
   "execution_count": 20,
   "metadata": {},
   "outputs": [],
   "source": [
    "import seaborn as sns"
   ]
  },
  {
   "cell_type": "code",
   "execution_count": 21,
   "metadata": {},
   "outputs": [
    {
     "name": "stderr",
     "output_type": "stream",
     "text": [
      "/home/sheriff/miniconda3/envs/ironhack/lib/python3.8/site-packages/seaborn/_decorators.py:36: FutureWarning: Pass the following variables as keyword args: x, y. From version 0.12, the only valid positional argument will be `data`, and passing other arguments without an explicit keyword will result in an error or misinterpretation.\n",
      "  warnings.warn(\n"
     ]
    },
    {
     "data": {
      "text/plain": [
       "<AxesSubplot:xlabel='horas', ylabel='nota'>"
      ]
     },
     "execution_count": 21,
     "metadata": {},
     "output_type": "execute_result"
    },
    {
     "data": {
      "image/png": "[encoded data removed]",
      "text/plain": [
       "<Figure size 432x288 with 1 Axes>"
      ]
     },
     "metadata": {
      "needs_background": "light"
     },
     "output_type": "display_data"
    }
   ],
   "source": [
    "sns.scatterplot(data.horas, data.nota)"
   ]
  },
  {
   "cell_type": "markdown",
   "metadata": {},
   "source": [
    "## Configuraciones para poner mono el plot de seaborn"
   ]
  },
  {
   "cell_type": "code",
   "execution_count": 22,
   "metadata": {},
   "outputs": [],
   "source": [
    "sns.set_context('poster')\n",
    "sns.set(rc={'figure.figsize': (16., 9.)})\n",
    "sns.set_style('whitegrid')"
   ]
  },
  {
   "cell_type": "code",
   "execution_count": 23,
   "metadata": {},
   "outputs": [
    {
     "data": {
      "text/plain": [
       "<AxesSubplot:xlabel='horas', ylabel='nota'>"
      ]
     },
     "execution_count": 23,
     "metadata": {},
     "output_type": "execute_result"
    },
    {
     "data": {
      "image/png": "[encoded data removed]",
      "text/plain": [
       "<Figure size 1152x648 with 1 Axes>"
      ]
     },
     "metadata": {},
     "output_type": "display_data"
    }
   ],
   "source": [
    "## Pintamos la línea de regresión de los datos que acabamos de generar\n",
    "sns.regplot(x=\"horas\", y=\"nota\", data=data)"
   ]
  },
  {
   "cell_type": "code",
   "execution_count": null,
   "metadata": {},
   "outputs": [],
   "source": [
    "### Pintamos un ejemplo de los datos SIN ERROR ALEATORIO"
   ]
  },
  {
   "cell_type": "code",
   "execution_count": 24,
   "metadata": {},
   "outputs": [],
   "source": [
    "# Generamos las horas de estudio\n",
    "beta_0 = 10\n",
    "beta_1 = 0.08\n",
    "num_notas = 100\n",
    "X_irreal = np.random.normal(600,150,num_notas)\n",
    "# la y es simplemente la ecuación de la recta y es la nota que sacas\n",
    "y_irreal = beta_0 + (beta_1 * X_irreal)"
   ]
  },
  {
   "cell_type": "code",
   "execution_count": 29,
   "metadata": {},
   "outputs": [],
   "source": [
    "data_irreal = pd.DataFrame({\"horas\": X_irreal, \"nota\":y_irreal})"
   ]
  },
  {
   "cell_type": "code",
   "execution_count": 30,
   "metadata": {},
   "outputs": [
    {
     "data": {
      "text/plain": [
       "<AxesSubplot:xlabel='horas', ylabel='nota'>"
      ]
     },
     "execution_count": 30,
     "metadata": {},
     "output_type": "execute_result"
    },
    {
     "data": {
      "image/png": "[encoded data removed]",
      "text/plain": [
       "<Figure size 1152x648 with 1 Axes>"
      ]
     },
     "metadata": {},
     "output_type": "display_data"
    }
   ],
   "source": [
    "sns.regplot(x=\"horas\", y=\"nota\", data=data_irreal)"
   ]
  },
  {
   "cell_type": "markdown",
   "metadata": {},
   "source": [
    "Por supuesto, en la vida real no conocemos los verdaderos parámetros del modelo, ¡¡¡ni si el modelo es real!!! Hoy vamos a aprender una [valiosa lección](https://en.wikipedia.org/wiki/All_models_are_wrong):\n",
    "\n",
    "\n",
    "\n",
    "<center> <b>\"Todos los modelos son erróneos, pero algunos son útiles\"</b> </center>\n",
    "\n",
    "\n",
    "En la práctica lo que hacemos es, tras ver un gráfico de dispersión como el de arriba, intentar inferir los parámetros del modelo $\\beta_0$ y la pendiente, $\\beta_1$.  Una vez estimados, el ajuste estimado se convierte en $$ \\hat{Y} = \\hat{beta_0} + \\hat{beta_1} X$$"
   ]
  },
  {
   "cell_type": "code",
   "execution_count": 33,
   "metadata": {},
   "outputs": [],
   "source": [
    "lr = LinearRegression()"
   ]
  },
  {
   "cell_type": "markdown",
   "metadata": {},
   "source": [
    "Vamos a entrenar un modelo de regresión que saque los coeficientes con sklearn y lo hacemos con el primer modelo que hemos generado que llevaba RUIDO/ERROR"
   ]
  },
  {
   "cell_type": "code",
   "execution_count": 34,
   "metadata": {},
   "outputs": [
    {
     "data": {
      "text/plain": [
       "LinearRegression()"
      ]
     },
     "execution_count": 34,
     "metadata": {},
     "output_type": "execute_result"
    }
   ],
   "source": [
    "lr.fit(\n",
    "    X = data[[\"horas\"]],\n",
    "    y = data.nota\n",
    ")"
   ]
  },
  {
   "cell_type": "markdown",
   "metadata": {},
   "source": [
    "Reminder para la vida sintaxis de un modelo de ML\n",
    "\n",
    "```python\n",
    "SINTAXIS = MODELO.FIT (X,y)\n",
    "```"
   ]
  },
  {
   "cell_type": "code",
   "execution_count": 35,
   "metadata": {},
   "outputs": [],
   "source": [
    "beta_1 = lr.coef_[0]\n",
    "beta_0 = lr.intercept_"
   ]
  },
  {
   "cell_type": "code",
   "execution_count": 36,
   "metadata": {},
   "outputs": [
    {
     "name": "stdout",
     "output_type": "stream",
     "text": [
      "beta_1\n",
      "0.07570267164581937\n",
      "beta_0\n",
      "12.541797248070324\n"
     ]
    }
   ],
   "source": [
    "print(\"beta_1\")\n",
    "print(beta_1)\n",
    "print(\"beta_0\")\n",
    "print(beta_0)"
   ]
  },
  {
   "cell_type": "code",
   "execution_count": null,
   "metadata": {},
   "outputs": [],
   "source": [
    "# Ahora lo hacemos con los datos QUE NO LLEVAN RUIDO"
   ]
  },
  {
   "cell_type": "code",
   "execution_count": 37,
   "metadata": {},
   "outputs": [
    {
     "data": {
      "text/plain": [
       "LinearRegression()"
      ]
     },
     "execution_count": 37,
     "metadata": {},
     "output_type": "execute_result"
    }
   ],
   "source": [
    "lr.fit(\n",
    "    X = data_irreal[[\"horas\"]],\n",
    "    y = data_irreal.nota\n",
    ")"
   ]
  },
  {
   "cell_type": "code",
   "execution_count": 38,
   "metadata": {},
   "outputs": [],
   "source": [
    "beta_1_irreal = lr.coef_[0]\n",
    "beta_0_irreal = lr.intercept_"
   ]
  },
  {
   "cell_type": "code",
   "execution_count": 39,
   "metadata": {},
   "outputs": [
    {
     "name": "stdout",
     "output_type": "stream",
     "text": [
      "beta_1\n",
      "0.08\n",
      "beta_0\n",
      "9.999999999999993\n"
     ]
    }
   ],
   "source": [
    "print(\"beta_1\")\n",
    "print(beta_1_irreal)\n",
    "print(\"beta_0\")\n",
    "print(beta_0_irreal)"
   ]
  },
  {
   "cell_type": "code",
   "execution_count": 48,
   "metadata": {},
   "outputs": [],
   "source": [
    "%matplotlib inline"
   ]
  },
  {
   "cell_type": "code",
   "execution_count": 50,
   "metadata": {},
   "outputs": [
    {
     "data": {
      "image/png": "[encoded data removed]",
      "text/plain": [
       "<Figure size 1080x720 with 1 Axes>"
      ]
     },
     "metadata": {
      "needs_background": "light"
     },
     "output_type": "display_data"
    }
   ],
   "source": [
    "fig, ax = plt.subplots(figsize=(15, 10))\n",
    "# Vamos a pintar la línea de regresión con el residuo\n",
    "y_hat = beta_0 + beta_1 * X # Línea de regresión\n",
    "plt.scatter(X,y) # pintar los puntos\n",
    "plt.plot(X,  y_hat, lw=2) #pintamos la línea de regresión\n",
    "plt.vlines(X, y_hat, y, lw=0.4) #pintamos las líneas que van desde los puntos a la línea de regresión (Residuo)\n",
    "plt.xlabel(\"horas\")\n",
    "plt.ylabel(\"nota\")\n",
    "plt.show()"
   ]
  },
  {
   "cell_type": "markdown",
   "metadata": {},
   "source": [
    "## ¿Cómo de bueno es nuestro modelo?"
   ]
  },
  {
   "cell_type": "markdown",
   "metadata": {},
   "source": [
    "La diferencia numérica entre la *línea de regresión de mínimos cuadrados* y el valor real se llama *residuo* , y representa el error en la estimación: $e = y_i - \\hat{y}$.     \n",
    "La línea de regresión minimizó la *Suma de cuadrados residual* (RSS)     \n",
    "\n",
    "$$RSS = e_1^2 + e_2^2 + \\dots + e_n ^2$$"
   ]
  },
  {
   "cell_type": "markdown",
   "metadata": {},
   "source": [
    "Si sólo utilizamos la media como valor predicho para cada predicción, el error que cometeríamos es (*suma total de cuadrados*)\n",
    "\n",
    "$$TSS=\\Sigma(y_i - \\bar{y}_i)^2$$\n",
    "Consideremos esto nuestro punto de partida, hagamos una predicción y la ploteamos"
   ]
  },
  {
   "cell_type": "code",
   "execution_count": 51,
   "metadata": {},
   "outputs": [],
   "source": [
    "# Vamos a meterlo en un dataframe para verlo más claro"
   ]
  },
  {
   "cell_type": "code",
   "execution_count": 52,
   "metadata": {},
   "outputs": [
    {
     "data": {
      "text/html": [
       "<div>\n",
       "<style scoped>\n",
       "    .dataframe tbody tr th:only-of-type {\n",
       "        vertical-align: middle;\n",
       "    }\n",
       "\n",
       "    .dataframe tbody tr th {\n",
       "        vertical-align: top;\n",
       "    }\n",
       "\n",
       "    .dataframe thead th {\n",
       "        text-align: right;\n",
       "    }\n",
       "</style>\n",
       "<table border=\"1\" class=\"dataframe\">\n",
       "  <thead>\n",
       "    <tr style=\"text-align: right;\">\n",
       "      <th></th>\n",
       "      <th>horas</th>\n",
       "      <th>nota</th>\n",
       "      <th>mean_predict</th>\n",
       "    </tr>\n",
       "  </thead>\n",
       "  <tbody>\n",
       "    <tr>\n",
       "      <th>0</th>\n",
       "      <td>630</td>\n",
       "      <td>61</td>\n",
       "      <td>57.22</td>\n",
       "    </tr>\n",
       "    <tr>\n",
       "      <th>1</th>\n",
       "      <td>532</td>\n",
       "      <td>53</td>\n",
       "      <td>57.22</td>\n",
       "    </tr>\n",
       "    <tr>\n",
       "      <th>2</th>\n",
       "      <td>579</td>\n",
       "      <td>61</td>\n",
       "      <td>57.22</td>\n",
       "    </tr>\n",
       "    <tr>\n",
       "      <th>3</th>\n",
       "      <td>469</td>\n",
       "      <td>51</td>\n",
       "      <td>57.22</td>\n",
       "    </tr>\n",
       "    <tr>\n",
       "      <th>4</th>\n",
       "      <td>703</td>\n",
       "      <td>62</td>\n",
       "      <td>57.22</td>\n",
       "    </tr>\n",
       "  </tbody>\n",
       "</table>\n",
       "</div>"
      ],
      "text/plain": [
       "   horas  nota  mean_predict\n",
       "0    630    61         57.22\n",
       "1    532    53         57.22\n",
       "2    579    61         57.22\n",
       "3    469    51         57.22\n",
       "4    703    62         57.22"
      ]
     },
     "execution_count": 52,
     "metadata": {},
     "output_type": "execute_result"
    }
   ],
   "source": [
    "data[\"mean_predict\"] = data.nota.mean()\n",
    "data.head()"
   ]
  },
  {
   "cell_type": "code",
   "execution_count": 53,
   "metadata": {},
   "outputs": [
    {
     "data": {
      "image/png": "[encoded data removed]",
      "text/plain": [
       "<Figure size 432x288 with 1 Axes>"
      ]
     },
     "metadata": {
      "needs_background": "light"
     },
     "output_type": "display_data"
    }
   ],
   "source": [
    "mean_predict = [data.nota.mean()] * num_notas\n",
    "plt.scatter(X,y)\n",
    "plt.plot(X, mean_predict, lw=3)\n",
    "plt.vlines(X, mean_predict, y, lw=0.4)\n",
    "plt.show()"
   ]
  },
  {
   "cell_type": "code",
   "execution_count": 54,
   "metadata": {},
   "outputs": [
    {
     "data": {
      "text/plain": [
       "15729.16"
      ]
     },
     "execution_count": 54,
     "metadata": {},
     "output_type": "execute_result"
    }
   ],
   "source": [
    "# Calculamos TSS para el modelo anterior\n",
    "TSS = ((data.nota - data.mean_predict)** 2).sum()\n",
    "TSS"
   ]
  },
  {
   "cell_type": "markdown",
   "metadata": {},
   "source": [
    "Recordemos que los coeficientes de la regresión lineal minimizan el $RSS=Sigma(y_i - \\hat{y_i})^2$, es decir, la cantidad de variabilidad que queda sin explicar después de realizar la regresión. El [coeficiente de determinación](https://en.wikipedia.org/wiki/Coefficient_of_determination):\n",
    "\n",
    "$$R^2 = \\frac{TSS -RSS}{TSS} = 1-\\frac{RSS}{TSS}$$\n",
    "\n",
    "mide la \"*proporción de variabilidad en Y que puede explicarse mediante X*\". Es una medida de la relación lineal que existe entre $X$ e $y$.\n",
    "\n",
    "**Nota:** en el caso de la regresión lineal simple, el coeficiente $R^2$ no es más que el cuadrado del coeficiente de correlación de *Pearson* que ya conocemos. "
   ]
  },
  {
   "cell_type": "markdown",
   "metadata": {},
   "source": [
    "## Calculamos el R2 del modelo"
   ]
  },
  {
   "cell_type": "code",
   "execution_count": 55,
   "metadata": {},
   "outputs": [
    {
     "data": {
      "text/html": [
       "<div>\n",
       "<style scoped>\n",
       "    .dataframe tbody tr th:only-of-type {\n",
       "        vertical-align: middle;\n",
       "    }\n",
       "\n",
       "    .dataframe tbody tr th {\n",
       "        vertical-align: top;\n",
       "    }\n",
       "\n",
       "    .dataframe thead th {\n",
       "        text-align: right;\n",
       "    }\n",
       "</style>\n",
       "<table border=\"1\" class=\"dataframe\">\n",
       "  <thead>\n",
       "    <tr style=\"text-align: right;\">\n",
       "      <th></th>\n",
       "      <th>horas</th>\n",
       "      <th>nota</th>\n",
       "      <th>mean_predict</th>\n",
       "    </tr>\n",
       "  </thead>\n",
       "  <tbody>\n",
       "    <tr>\n",
       "      <th>0</th>\n",
       "      <td>630</td>\n",
       "      <td>61</td>\n",
       "      <td>57.22</td>\n",
       "    </tr>\n",
       "    <tr>\n",
       "      <th>1</th>\n",
       "      <td>532</td>\n",
       "      <td>53</td>\n",
       "      <td>57.22</td>\n",
       "    </tr>\n",
       "    <tr>\n",
       "      <th>2</th>\n",
       "      <td>579</td>\n",
       "      <td>61</td>\n",
       "      <td>57.22</td>\n",
       "    </tr>\n",
       "    <tr>\n",
       "      <th>3</th>\n",
       "      <td>469</td>\n",
       "      <td>51</td>\n",
       "      <td>57.22</td>\n",
       "    </tr>\n",
       "    <tr>\n",
       "      <th>4</th>\n",
       "      <td>703</td>\n",
       "      <td>62</td>\n",
       "      <td>57.22</td>\n",
       "    </tr>\n",
       "  </tbody>\n",
       "</table>\n",
       "</div>"
      ],
      "text/plain": [
       "   horas  nota  mean_predict\n",
       "0    630    61         57.22\n",
       "1    532    53         57.22\n",
       "2    579    61         57.22\n",
       "3    469    51         57.22\n",
       "4    703    62         57.22"
      ]
     },
     "execution_count": 55,
     "metadata": {},
     "output_type": "execute_result"
    }
   ],
   "source": [
    "data.head()"
   ]
  },
  {
   "cell_type": "code",
   "execution_count": 56,
   "metadata": {},
   "outputs": [
    {
     "data": {
      "text/html": [
       "<div>\n",
       "<style scoped>\n",
       "    .dataframe tbody tr th:only-of-type {\n",
       "        vertical-align: middle;\n",
       "    }\n",
       "\n",
       "    .dataframe tbody tr th {\n",
       "        vertical-align: top;\n",
       "    }\n",
       "\n",
       "    .dataframe thead th {\n",
       "        text-align: right;\n",
       "    }\n",
       "</style>\n",
       "<table border=\"1\" class=\"dataframe\">\n",
       "  <thead>\n",
       "    <tr style=\"text-align: right;\">\n",
       "      <th></th>\n",
       "      <th>horas</th>\n",
       "      <th>nota</th>\n",
       "      <th>mean_predict</th>\n",
       "      <th>predict_model</th>\n",
       "    </tr>\n",
       "  </thead>\n",
       "  <tbody>\n",
       "    <tr>\n",
       "      <th>0</th>\n",
       "      <td>630</td>\n",
       "      <td>61</td>\n",
       "      <td>57.22</td>\n",
       "      <td>60.234480</td>\n",
       "    </tr>\n",
       "    <tr>\n",
       "      <th>1</th>\n",
       "      <td>532</td>\n",
       "      <td>53</td>\n",
       "      <td>57.22</td>\n",
       "      <td>52.815619</td>\n",
       "    </tr>\n",
       "    <tr>\n",
       "      <th>2</th>\n",
       "      <td>579</td>\n",
       "      <td>61</td>\n",
       "      <td>57.22</td>\n",
       "      <td>56.373644</td>\n",
       "    </tr>\n",
       "    <tr>\n",
       "      <th>3</th>\n",
       "      <td>469</td>\n",
       "      <td>51</td>\n",
       "      <td>57.22</td>\n",
       "      <td>48.046350</td>\n",
       "    </tr>\n",
       "    <tr>\n",
       "      <th>4</th>\n",
       "      <td>703</td>\n",
       "      <td>62</td>\n",
       "      <td>57.22</td>\n",
       "      <td>65.760775</td>\n",
       "    </tr>\n",
       "  </tbody>\n",
       "</table>\n",
       "</div>"
      ],
      "text/plain": [
       "   horas  nota  mean_predict  predict_model\n",
       "0    630    61         57.22      60.234480\n",
       "1    532    53         57.22      52.815619\n",
       "2    579    61         57.22      56.373644\n",
       "3    469    51         57.22      48.046350\n",
       "4    703    62         57.22      65.760775"
      ]
     },
     "execution_count": 56,
     "metadata": {},
     "output_type": "execute_result"
    }
   ],
   "source": [
    "data[\"predict_model\"] = data.horas * beta_1 + beta_0\n",
    "data.head()"
   ]
  },
  {
   "cell_type": "code",
   "execution_count": 57,
   "metadata": {},
   "outputs": [
    {
     "data": {
      "text/plain": [
       "3287.120076216139"
      ]
     },
     "execution_count": 57,
     "metadata": {},
     "output_type": "execute_result"
    }
   ],
   "source": [
    "RSS = ((data.nota - data.predict_model) **2 ).sum()\n",
    "RSS"
   ]
  },
  {
   "cell_type": "code",
   "execution_count": 59,
   "metadata": {},
   "outputs": [
    {
     "data": {
      "text/plain": [
       "0.7910174430029233"
      ]
     },
     "execution_count": 59,
     "metadata": {},
     "output_type": "execute_result"
    }
   ],
   "source": [
    "# R^2\n",
    "r2 = (TSS - RSS) / (TSS)\n",
    "r2"
   ]
  },
  {
   "cell_type": "markdown",
   "metadata": {},
   "source": [
    "$R^2$ mide lo bueno que es nuestro modelo de regresión. Cuanto más grande, mejor. Es un valor entre 0 y 1    \n",
    "**NOTA**: es computable para cualquier modelo, no importa si es lineal o no. Sólo se necesitan los valores reales y los predichos.  "
   ]
  },
  {
   "cell_type": "markdown",
   "metadata": {},
   "source": [
    "## Regresión lineal con sklearn"
   ]
  },
  {
   "cell_type": "code",
   "execution_count": 60,
   "metadata": {},
   "outputs": [
    {
     "data": {
      "text/html": [
       "<div>\n",
       "<style scoped>\n",
       "    .dataframe tbody tr th:only-of-type {\n",
       "        vertical-align: middle;\n",
       "    }\n",
       "\n",
       "    .dataframe tbody tr th {\n",
       "        vertical-align: top;\n",
       "    }\n",
       "\n",
       "    .dataframe thead th {\n",
       "        text-align: right;\n",
       "    }\n",
       "</style>\n",
       "<table border=\"1\" class=\"dataframe\">\n",
       "  <thead>\n",
       "    <tr style=\"text-align: right;\">\n",
       "      <th></th>\n",
       "      <th>horas</th>\n",
       "      <th>nota</th>\n",
       "      <th>mean_predict</th>\n",
       "      <th>predict_model</th>\n",
       "    </tr>\n",
       "  </thead>\n",
       "  <tbody>\n",
       "    <tr>\n",
       "      <th>0</th>\n",
       "      <td>630</td>\n",
       "      <td>61</td>\n",
       "      <td>57.22</td>\n",
       "      <td>60.234480</td>\n",
       "    </tr>\n",
       "    <tr>\n",
       "      <th>1</th>\n",
       "      <td>532</td>\n",
       "      <td>53</td>\n",
       "      <td>57.22</td>\n",
       "      <td>52.815619</td>\n",
       "    </tr>\n",
       "    <tr>\n",
       "      <th>2</th>\n",
       "      <td>579</td>\n",
       "      <td>61</td>\n",
       "      <td>57.22</td>\n",
       "      <td>56.373644</td>\n",
       "    </tr>\n",
       "    <tr>\n",
       "      <th>3</th>\n",
       "      <td>469</td>\n",
       "      <td>51</td>\n",
       "      <td>57.22</td>\n",
       "      <td>48.046350</td>\n",
       "    </tr>\n",
       "    <tr>\n",
       "      <th>4</th>\n",
       "      <td>703</td>\n",
       "      <td>62</td>\n",
       "      <td>57.22</td>\n",
       "      <td>65.760775</td>\n",
       "    </tr>\n",
       "  </tbody>\n",
       "</table>\n",
       "</div>"
      ],
      "text/plain": [
       "   horas  nota  mean_predict  predict_model\n",
       "0    630    61         57.22      60.234480\n",
       "1    532    53         57.22      52.815619\n",
       "2    579    61         57.22      56.373644\n",
       "3    469    51         57.22      48.046350\n",
       "4    703    62         57.22      65.760775"
      ]
     },
     "execution_count": 60,
     "metadata": {},
     "output_type": "execute_result"
    }
   ],
   "source": [
    "data.head()"
   ]
  },
  {
   "cell_type": "code",
   "execution_count": 61,
   "metadata": {},
   "outputs": [],
   "source": [
    "# Guardo las variables x,y\n",
    "X = data[[\"horas\"]]\n",
    "y = data.nota"
   ]
  },
  {
   "cell_type": "code",
   "execution_count": 62,
   "metadata": {},
   "outputs": [
    {
     "data": {
      "text/plain": [
       "LinearRegression()"
      ]
     },
     "execution_count": 62,
     "metadata": {},
     "output_type": "execute_result"
    }
   ],
   "source": [
    "#Entreno el algoritmo\n",
    "lr.fit(X,y)"
   ]
  },
  {
   "cell_type": "code",
   "execution_count": 63,
   "metadata": {},
   "outputs": [],
   "source": [
    "data[\"notas_sklearn\"] = lr.predict(X)"
   ]
  },
  {
   "cell_type": "code",
   "execution_count": 64,
   "metadata": {},
   "outputs": [
    {
     "data": {
      "text/html": [
       "<div>\n",
       "<style scoped>\n",
       "    .dataframe tbody tr th:only-of-type {\n",
       "        vertical-align: middle;\n",
       "    }\n",
       "\n",
       "    .dataframe tbody tr th {\n",
       "        vertical-align: top;\n",
       "    }\n",
       "\n",
       "    .dataframe thead th {\n",
       "        text-align: right;\n",
       "    }\n",
       "</style>\n",
       "<table border=\"1\" class=\"dataframe\">\n",
       "  <thead>\n",
       "    <tr style=\"text-align: right;\">\n",
       "      <th></th>\n",
       "      <th>horas</th>\n",
       "      <th>nota</th>\n",
       "      <th>mean_predict</th>\n",
       "      <th>predict_model</th>\n",
       "      <th>notas_sklearn</th>\n",
       "    </tr>\n",
       "  </thead>\n",
       "  <tbody>\n",
       "    <tr>\n",
       "      <th>0</th>\n",
       "      <td>630</td>\n",
       "      <td>61</td>\n",
       "      <td>57.22</td>\n",
       "      <td>60.234480</td>\n",
       "      <td>60.234480</td>\n",
       "    </tr>\n",
       "    <tr>\n",
       "      <th>1</th>\n",
       "      <td>532</td>\n",
       "      <td>53</td>\n",
       "      <td>57.22</td>\n",
       "      <td>52.815619</td>\n",
       "      <td>52.815619</td>\n",
       "    </tr>\n",
       "    <tr>\n",
       "      <th>2</th>\n",
       "      <td>579</td>\n",
       "      <td>61</td>\n",
       "      <td>57.22</td>\n",
       "      <td>56.373644</td>\n",
       "      <td>56.373644</td>\n",
       "    </tr>\n",
       "    <tr>\n",
       "      <th>3</th>\n",
       "      <td>469</td>\n",
       "      <td>51</td>\n",
       "      <td>57.22</td>\n",
       "      <td>48.046350</td>\n",
       "      <td>48.046350</td>\n",
       "    </tr>\n",
       "    <tr>\n",
       "      <th>4</th>\n",
       "      <td>703</td>\n",
       "      <td>62</td>\n",
       "      <td>57.22</td>\n",
       "      <td>65.760775</td>\n",
       "      <td>65.760775</td>\n",
       "    </tr>\n",
       "  </tbody>\n",
       "</table>\n",
       "</div>"
      ],
      "text/plain": [
       "   horas  nota  mean_predict  predict_model  notas_sklearn\n",
       "0    630    61         57.22      60.234480      60.234480\n",
       "1    532    53         57.22      52.815619      52.815619\n",
       "2    579    61         57.22      56.373644      56.373644\n",
       "3    469    51         57.22      48.046350      48.046350\n",
       "4    703    62         57.22      65.760775      65.760775"
      ]
     },
     "execution_count": 64,
     "metadata": {},
     "output_type": "execute_result"
    }
   ],
   "source": [
    "data.head()"
   ]
  },
  {
   "cell_type": "code",
   "execution_count": 65,
   "metadata": {},
   "outputs": [],
   "source": [
    "from sklearn import metrics"
   ]
  },
  {
   "cell_type": "code",
   "execution_count": 66,
   "metadata": {},
   "outputs": [
    {
     "name": "stdout",
     "output_type": "stream",
     "text": [
      "MAE:  4.5444246251057265\n",
      "MSE:  32.871200762161386\n",
      "RMSE:  5.7333411517335495\n"
     ]
    }
   ],
   "source": [
    "print(\"MAE: \", metrics.mean_absolute_error(data.nota, data.notas_sklearn))\n",
    "print(\"MSE: \", metrics.mean_squared_error(data.nota, data.notas_sklearn))\n",
    "print(\"RMSE: \" , np.sqrt(metrics.mean_squared_error(data.nota, data.notas_sklearn)))"
   ]
  },
  {
   "cell_type": "markdown",
   "metadata": {},
   "source": [
    "** Cálculo del error medio absoluto, del error medio cuadrático y del error medio cuadrático\n",
    "\n",
    "- **MAE** es el más fácil de entender, porque es el error medio.\n",
    "- **El MSE** es más popular que el MAE, porque el MSE \"castiga\" los errores más grandes, lo que suele ser útil en el mundo real.\n",
    "- **RMSE** es aún más popular que MSE, es la raíz cuadrada del MSE y mide la desviación estándar de los residuos.\n",
    "\n",
    "Todas estas son **funciones de pérdida**, porque queremos minimizarlas."
   ]
  },
  {
   "cell_type": "markdown",
   "metadata": {},
   "source": [
    "Lee más sobre MAE, MSE, RMSE Y R2 [AQUÍ](http://medium.com/analytics-vidhya/mae-mse-rmse-coefficient-of-determination-adjusted-r-squared-which-metric-is-better-cd0326a5697e)"
   ]
  },
  {
   "cell_type": "markdown",
   "metadata": {},
   "source": [
    "## Regresión lineal con statsmodels"
   ]
  },
  {
   "cell_type": "markdown",
   "metadata": {},
   "source": [
    "Para no variar, un poquito de [documentación](https://www.statsmodels.org/stable/generated/statsmodels.regression.linear_model.OLS.html)      \n",
    "Y [este artículo](https://jyotiyadav99111.medium.com/statistics-how-should-i-interpret-results-of-ols-3bde1ebeec01) que resume cómo interpretar la información del summary del OLS"
   ]
  },
  {
   "cell_type": "code",
   "execution_count": 67,
   "metadata": {},
   "outputs": [],
   "source": [
    "import statsmodels.formula.api as smf"
   ]
  },
  {
   "cell_type": "code",
   "execution_count": 68,
   "metadata": {},
   "outputs": [
    {
     "data": {
      "text/html": [
       "<table class=\"simpletable\">\n",
       "<caption>OLS Regression Results</caption>\n",
       "<tr>\n",
       "  <th>Dep. Variable:</th>          <td>nota</td>       <th>  R-squared:         </th> <td>   0.791</td>\n",
       "</tr>\n",
       "<tr>\n",
       "  <th>Model:</th>                   <td>OLS</td>       <th>  Adj. R-squared:    </th> <td>   0.789</td>\n",
       "</tr>\n",
       "<tr>\n",
       "  <th>Method:</th>             <td>Least Squares</td>  <th>  F-statistic:       </th> <td>   370.9</td>\n",
       "</tr>\n",
       "<tr>\n",
       "  <th>Date:</th>             <td>Fri, 17 Sep 2021</td> <th>  Prob (F-statistic):</th> <td>4.37e-35</td>\n",
       "</tr>\n",
       "<tr>\n",
       "  <th>Time:</th>                 <td>12:42:07</td>     <th>  Log-Likelihood:    </th> <td> -316.52</td>\n",
       "</tr>\n",
       "<tr>\n",
       "  <th>No. Observations:</th>      <td>   100</td>      <th>  AIC:               </th> <td>   637.0</td>\n",
       "</tr>\n",
       "<tr>\n",
       "  <th>Df Residuals:</th>          <td>    98</td>      <th>  BIC:               </th> <td>   642.3</td>\n",
       "</tr>\n",
       "<tr>\n",
       "  <th>Df Model:</th>              <td>     1</td>      <th>                     </th>     <td> </td>   \n",
       "</tr>\n",
       "<tr>\n",
       "  <th>Covariance Type:</th>      <td>nonrobust</td>    <th>                     </th>     <td> </td>   \n",
       "</tr>\n",
       "</table>\n",
       "<table class=\"simpletable\">\n",
       "<tr>\n",
       "      <td></td>         <th>coef</th>     <th>std err</th>      <th>t</th>      <th>P>|t|</th>  <th>[0.025</th>    <th>0.975]</th>  \n",
       "</tr>\n",
       "<tr>\n",
       "  <th>Intercept</th> <td>   12.5418</td> <td>    2.391</td> <td>    5.245</td> <td> 0.000</td> <td>    7.797</td> <td>   17.287</td>\n",
       "</tr>\n",
       "<tr>\n",
       "  <th>horas</th>     <td>    0.0757</td> <td>    0.004</td> <td>   19.260</td> <td> 0.000</td> <td>    0.068</td> <td>    0.084</td>\n",
       "</tr>\n",
       "</table>\n",
       "<table class=\"simpletable\">\n",
       "<tr>\n",
       "  <th>Omnibus:</th>       <td> 0.073</td> <th>  Durbin-Watson:     </th> <td>   1.731</td>\n",
       "</tr>\n",
       "<tr>\n",
       "  <th>Prob(Omnibus):</th> <td> 0.964</td> <th>  Jarque-Bera (JB):  </th> <td>   0.037</td>\n",
       "</tr>\n",
       "<tr>\n",
       "  <th>Skew:</th>          <td> 0.040</td> <th>  Prob(JB):          </th> <td>   0.982</td>\n",
       "</tr>\n",
       "<tr>\n",
       "  <th>Kurtosis:</th>      <td> 2.950</td> <th>  Cond. No.          </th> <td>2.51e+03</td>\n",
       "</tr>\n",
       "</table><br/><br/>Notes:<br/>[1] Standard Errors assume that the covariance matrix of the errors is correctly specified.<br/>[2] The condition number is large, 2.51e+03. This might indicate that there are<br/>strong multicollinearity or other numerical problems."
      ],
      "text/plain": [
       "<class 'statsmodels.iolib.summary.Summary'>\n",
       "\"\"\"\n",
       "                            OLS Regression Results                            \n",
       "==============================================================================\n",
       "Dep. Variable:                   nota   R-squared:                       0.791\n",
       "Model:                            OLS   Adj. R-squared:                  0.789\n",
       "Method:                 Least Squares   F-statistic:                     370.9\n",
       "Date:                Fri, 17 Sep 2021   Prob (F-statistic):           4.37e-35\n",
       "Time:                        12:42:07   Log-Likelihood:                -316.52\n",
       "No. Observations:                 100   AIC:                             637.0\n",
       "Df Residuals:                      98   BIC:                             642.3\n",
       "Df Model:                           1                                         \n",
       "Covariance Type:            nonrobust                                         \n",
       "==============================================================================\n",
       "                 coef    std err          t      P>|t|      [0.025      0.975]\n",
       "------------------------------------------------------------------------------\n",
       "Intercept     12.5418      2.391      5.245      0.000       7.797      17.287\n",
       "horas          0.0757      0.004     19.260      0.000       0.068       0.084\n",
       "==============================================================================\n",
       "Omnibus:                        0.073   Durbin-Watson:                   1.731\n",
       "Prob(Omnibus):                  0.964   Jarque-Bera (JB):                0.037\n",
       "Skew:                           0.040   Prob(JB):                        0.982\n",
       "Kurtosis:                       2.950   Cond. No.                     2.51e+03\n",
       "==============================================================================\n",
       "\n",
       "Notes:\n",
       "[1] Standard Errors assume that the covariance matrix of the errors is correctly specified.\n",
       "[2] The condition number is large, 2.51e+03. This might indicate that there are\n",
       "strong multicollinearity or other numerical problems.\n",
       "\"\"\""
      ]
     },
     "execution_count": 68,
     "metadata": {},
     "output_type": "execute_result"
    }
   ],
   "source": [
    "results = smf.ols(\"nota ~ horas\", data=data).fit()\n",
    "results.summary()"
   ]
  },
  {
   "cell_type": "markdown",
   "metadata": {},
   "source": [
    "## Conceptos del OLS"
   ]
  },
  {
   "cell_type": "markdown",
   "metadata": {},
   "source": [
    "-  <b>R2</b> : El coeficiente de determinación mide cuanta de la variación de 𝑦 es explicada por el modelo.\n",
    "Si la varianza de los errores o residuales 𝜎2𝑒 es cero, el modelo explica el 100% de la variable 𝑦. Si 𝜎2𝑒 es igual a la varianza de 𝑦 el modelo no explica nada y 𝑅2 vale cero.\n",
    "\n",
    "\n",
    "- <b>𝑅¯2 </b> : El coeficiente de correlación ajustado 𝑅¯2 corrige el valor de 𝑅2 por la cantidad de variables 𝑘 (igual a 2 para el caso analizado) y la cantidad de datos  𝑁\n",
    "\n",
    "- <b>P value </b> Un p-valor bajo (< 0.05) indica que la variable ayuda a predecir mejor"
   ]
  },
  {
   "cell_type": "markdown",
   "metadata": {},
   "source": [
    "## Regresión lineal múltiple\n",
    "\n",
    "Por supuesto, las horas que uno estudia no son el único factor importante para sacar buenas notas en el mundo real. Podemos pensar en el cociente intelectual, por ejemplo, como otro factor determinante. De hecho, podemos generalizar un modelo lineal para tener tantas variables como queramos:\n",
    "\n",
    " $$ Y = \\beta_0 + \\beta_1 X_1 + \\beta_2 X_2 + \\dots + \\beta_2 X_m + \\epsilon$$\n",
    " \n",
    " En este caso lo que vamos a hacer, es añadir una variable que nos resta de la nota, las horas de fiesta.\n",
    " Imaginemos que por cada hora que salimos de fiesta mueren neuronas en nuestro cerebro y se nos olvida información, por tanto, nos restará nota (recordad que estamos inventando datos)"
   ]
  },
  {
   "cell_type": "code",
   "execution_count": 69,
   "metadata": {},
   "outputs": [],
   "source": [
    "# Volvemos a crear el dataframe con las notas\n",
    "# Del ejemplo visto ayer en clase \n",
    "beta_0 = 10\n",
    "beta_1 = 0.08\n",
    "beta_2 = -0.03\n",
    "num_notas = 100"
   ]
  },
  {
   "cell_type": "code",
   "execution_count": 70,
   "metadata": {},
   "outputs": [],
   "source": [
    "horas_estudio = np.random.normal(500,200,num_notas)\n",
    "horas_fiesta = np.random.normal(500,200, num_notas)\n",
    "y = (beta_0) + (beta_1 * horas_estudio) + (beta_2 * horas_fiesta) + (np.random.normal(loc=0, scale=5, size=num_notas))"
   ]
  },
  {
   "cell_type": "code",
   "execution_count": 71,
   "metadata": {},
   "outputs": [],
   "source": [
    "data = pd.DataFrame(\n",
    "    {\"notas\": y,\n",
    "    \"horas_estudio\":  horas_estudio,\n",
    "    \"horas_fiesta\": horas_fiesta}\n",
    ").astype(int)"
   ]
  },
  {
   "cell_type": "code",
   "execution_count": 72,
   "metadata": {},
   "outputs": [
    {
     "data": {
      "text/html": [
       "<div>\n",
       "<style scoped>\n",
       "    .dataframe tbody tr th:only-of-type {\n",
       "        vertical-align: middle;\n",
       "    }\n",
       "\n",
       "    .dataframe tbody tr th {\n",
       "        vertical-align: top;\n",
       "    }\n",
       "\n",
       "    .dataframe thead th {\n",
       "        text-align: right;\n",
       "    }\n",
       "</style>\n",
       "<table border=\"1\" class=\"dataframe\">\n",
       "  <thead>\n",
       "    <tr style=\"text-align: right;\">\n",
       "      <th></th>\n",
       "      <th>notas</th>\n",
       "      <th>horas_estudio</th>\n",
       "      <th>horas_fiesta</th>\n",
       "    </tr>\n",
       "  </thead>\n",
       "  <tbody>\n",
       "    <tr>\n",
       "      <th>0</th>\n",
       "      <td>69</td>\n",
       "      <td>977</td>\n",
       "      <td>746</td>\n",
       "    </tr>\n",
       "    <tr>\n",
       "      <th>1</th>\n",
       "      <td>13</td>\n",
       "      <td>296</td>\n",
       "      <td>860</td>\n",
       "    </tr>\n",
       "    <tr>\n",
       "      <th>2</th>\n",
       "      <td>32</td>\n",
       "      <td>582</td>\n",
       "      <td>948</td>\n",
       "    </tr>\n",
       "    <tr>\n",
       "      <th>3</th>\n",
       "      <td>36</td>\n",
       "      <td>457</td>\n",
       "      <td>582</td>\n",
       "    </tr>\n",
       "    <tr>\n",
       "      <th>4</th>\n",
       "      <td>-11</td>\n",
       "      <td>78</td>\n",
       "      <td>866</td>\n",
       "    </tr>\n",
       "  </tbody>\n",
       "</table>\n",
       "</div>"
      ],
      "text/plain": [
       "   notas  horas_estudio  horas_fiesta\n",
       "0     69            977           746\n",
       "1     13            296           860\n",
       "2     32            582           948\n",
       "3     36            457           582\n",
       "4    -11             78           866"
      ]
     },
     "execution_count": 72,
     "metadata": {},
     "output_type": "execute_result"
    }
   ],
   "source": [
    "data.head()"
   ]
  },
  {
   "cell_type": "code",
   "execution_count": 73,
   "metadata": {},
   "outputs": [
    {
     "data": {
      "text/plain": [
       "<seaborn.axisgrid.PairGrid at 0x7fd7e197b8e0>"
      ]
     },
     "execution_count": 73,
     "metadata": {},
     "output_type": "execute_result"
    },
    {
     "data": {
      "image/png": "[encoded data removed]",
      "text/plain": [
       "<Figure size 540x540 with 12 Axes>"
      ]
     },
     "metadata": {
      "needs_background": "light"
     },
     "output_type": "display_data"
    }
   ],
   "source": [
    "sns.pairplot(data)"
   ]
  },
  {
   "cell_type": "markdown",
   "metadata": {},
   "source": [
    "Los coeficientes de la regresión lineal múltiple se calculan de forma similar al caso de la regresión lineal simple: minimizan\n",
    "\n",
    "$$RSS = \\Sigma(y_i - \\hat{y_i})^2$$\n",
    "\n",
    "\n",
    "donde:\n",
    "\n",
    " $$ \\hat{y} = \\hat{beta_0} + \\hat{beta_1 X_1} + \\hat{beta_2} X_2 + \\hat + \\hat{\\beta_2} X_m$$"
   ]
  },
  {
   "cell_type": "code",
   "execution_count": null,
   "metadata": {},
   "outputs": [],
   "source": [
    "# Analizamos los resultados con el OLS"
   ]
  },
  {
   "cell_type": "code",
   "execution_count": 87,
   "metadata": {
    "scrolled": true
   },
   "outputs": [],
   "source": [
    "results = smf.ols(\"notas ~ horas_estudio + horas_fiesta\", data=data).fit()"
   ]
  },
  {
   "cell_type": "code",
   "execution_count": 88,
   "metadata": {},
   "outputs": [
    {
     "data": {
      "text/html": [
       "<table class=\"simpletable\">\n",
       "<caption>OLS Regression Results</caption>\n",
       "<tr>\n",
       "  <th>Dep. Variable:</th>          <td>notas</td>      <th>  R-squared:         </th> <td>   0.930</td>\n",
       "</tr>\n",
       "<tr>\n",
       "  <th>Model:</th>                   <td>OLS</td>       <th>  Adj. R-squared:    </th> <td>   0.929</td>\n",
       "</tr>\n",
       "<tr>\n",
       "  <th>Method:</th>             <td>Least Squares</td>  <th>  F-statistic:       </th> <td>   645.0</td>\n",
       "</tr>\n",
       "<tr>\n",
       "  <th>Date:</th>             <td>Fri, 17 Sep 2021</td> <th>  Prob (F-statistic):</th> <td>9.29e-57</td>\n",
       "</tr>\n",
       "<tr>\n",
       "  <th>Time:</th>                 <td>13:03:35</td>     <th>  Log-Likelihood:    </th> <td> -301.59</td>\n",
       "</tr>\n",
       "<tr>\n",
       "  <th>No. Observations:</th>      <td>   100</td>      <th>  AIC:               </th> <td>   609.2</td>\n",
       "</tr>\n",
       "<tr>\n",
       "  <th>Df Residuals:</th>          <td>    97</td>      <th>  BIC:               </th> <td>   617.0</td>\n",
       "</tr>\n",
       "<tr>\n",
       "  <th>Df Model:</th>              <td>     2</td>      <th>                     </th>     <td> </td>   \n",
       "</tr>\n",
       "<tr>\n",
       "  <th>Covariance Type:</th>      <td>nonrobust</td>    <th>                     </th>     <td> </td>   \n",
       "</tr>\n",
       "</table>\n",
       "<table class=\"simpletable\">\n",
       "<tr>\n",
       "        <td></td>           <th>coef</th>     <th>std err</th>      <th>t</th>      <th>P>|t|</th>  <th>[0.025</th>    <th>0.975]</th>  \n",
       "</tr>\n",
       "<tr>\n",
       "  <th>Intercept</th>     <td>    7.5058</td> <td>    1.901</td> <td>    3.949</td> <td> 0.000</td> <td>    3.733</td> <td>   11.278</td>\n",
       "</tr>\n",
       "<tr>\n",
       "  <th>horas_estudio</th> <td>    0.0814</td> <td>    0.002</td> <td>   32.639</td> <td> 0.000</td> <td>    0.076</td> <td>    0.086</td>\n",
       "</tr>\n",
       "<tr>\n",
       "  <th>horas_fiesta</th>  <td>   -0.0280</td> <td>    0.002</td> <td>  -12.169</td> <td> 0.000</td> <td>   -0.033</td> <td>   -0.023</td>\n",
       "</tr>\n",
       "</table>\n",
       "<table class=\"simpletable\">\n",
       "<tr>\n",
       "  <th>Omnibus:</th>       <td> 3.206</td> <th>  Durbin-Watson:     </th> <td>   1.896</td>\n",
       "</tr>\n",
       "<tr>\n",
       "  <th>Prob(Omnibus):</th> <td> 0.201</td> <th>  Jarque-Bera (JB):  </th> <td>   2.046</td>\n",
       "</tr>\n",
       "<tr>\n",
       "  <th>Skew:</th>          <td> 0.122</td> <th>  Prob(JB):          </th> <td>   0.359</td>\n",
       "</tr>\n",
       "<tr>\n",
       "  <th>Kurtosis:</th>      <td> 2.343</td> <th>  Cond. No.          </th> <td>2.89e+03</td>\n",
       "</tr>\n",
       "</table><br/><br/>Notes:<br/>[1] Standard Errors assume that the covariance matrix of the errors is correctly specified.<br/>[2] The condition number is large, 2.89e+03. This might indicate that there are<br/>strong multicollinearity or other numerical problems."
      ],
      "text/plain": [
       "<class 'statsmodels.iolib.summary.Summary'>\n",
       "\"\"\"\n",
       "                            OLS Regression Results                            \n",
       "==============================================================================\n",
       "Dep. Variable:                  notas   R-squared:                       0.930\n",
       "Model:                            OLS   Adj. R-squared:                  0.929\n",
       "Method:                 Least Squares   F-statistic:                     645.0\n",
       "Date:                Fri, 17 Sep 2021   Prob (F-statistic):           9.29e-57\n",
       "Time:                        13:03:35   Log-Likelihood:                -301.59\n",
       "No. Observations:                 100   AIC:                             609.2\n",
       "Df Residuals:                      97   BIC:                             617.0\n",
       "Df Model:                           2                                         \n",
       "Covariance Type:            nonrobust                                         \n",
       "=================================================================================\n",
       "                    coef    std err          t      P>|t|      [0.025      0.975]\n",
       "---------------------------------------------------------------------------------\n",
       "Intercept         7.5058      1.901      3.949      0.000       3.733      11.278\n",
       "horas_estudio     0.0814      0.002     32.639      0.000       0.076       0.086\n",
       "horas_fiesta     -0.0280      0.002    -12.169      0.000      -0.033      -0.023\n",
       "==============================================================================\n",
       "Omnibus:                        3.206   Durbin-Watson:                   1.896\n",
       "Prob(Omnibus):                  0.201   Jarque-Bera (JB):                2.046\n",
       "Skew:                           0.122   Prob(JB):                        0.359\n",
       "Kurtosis:                       2.343   Cond. No.                     2.89e+03\n",
       "==============================================================================\n",
       "\n",
       "Notes:\n",
       "[1] Standard Errors assume that the covariance matrix of the errors is correctly specified.\n",
       "[2] The condition number is large, 2.89e+03. This might indicate that there are\n",
       "strong multicollinearity or other numerical problems.\n",
       "\"\"\""
      ]
     },
     "execution_count": 88,
     "metadata": {},
     "output_type": "execute_result"
    }
   ],
   "source": [
    "results.summary()"
   ]
  },
  {
   "cell_type": "markdown",
   "metadata": {},
   "source": [
    "## Variables categóricas\n",
    "\n",
    "Muy a menudo nos enfrentamos a situaciones en las que los predictores son de naturaleza *cualitativa*. Un buen ejemplo podría ser el sexo de una persona, que puede tomar los valores $M$ o $F$. "
   ]
  },
  {
   "cell_type": "code",
   "execution_count": 89,
   "metadata": {},
   "outputs": [
    {
     "data": {
      "text/html": [
       "<div>\n",
       "<style scoped>\n",
       "    .dataframe tbody tr th:only-of-type {\n",
       "        vertical-align: middle;\n",
       "    }\n",
       "\n",
       "    .dataframe tbody tr th {\n",
       "        vertical-align: top;\n",
       "    }\n",
       "\n",
       "    .dataframe thead th {\n",
       "        text-align: right;\n",
       "    }\n",
       "</style>\n",
       "<table border=\"1\" class=\"dataframe\">\n",
       "  <thead>\n",
       "    <tr style=\"text-align: right;\">\n",
       "      <th></th>\n",
       "      <th>notas</th>\n",
       "      <th>horas_estudio</th>\n",
       "      <th>horas_fiesta</th>\n",
       "      <th>sex</th>\n",
       "    </tr>\n",
       "  </thead>\n",
       "  <tbody>\n",
       "    <tr>\n",
       "      <th>0</th>\n",
       "      <td>69</td>\n",
       "      <td>977</td>\n",
       "      <td>746</td>\n",
       "      <td>M</td>\n",
       "    </tr>\n",
       "    <tr>\n",
       "      <th>1</th>\n",
       "      <td>13</td>\n",
       "      <td>296</td>\n",
       "      <td>860</td>\n",
       "      <td>M</td>\n",
       "    </tr>\n",
       "    <tr>\n",
       "      <th>2</th>\n",
       "      <td>32</td>\n",
       "      <td>582</td>\n",
       "      <td>948</td>\n",
       "      <td>M</td>\n",
       "    </tr>\n",
       "    <tr>\n",
       "      <th>3</th>\n",
       "      <td>36</td>\n",
       "      <td>457</td>\n",
       "      <td>582</td>\n",
       "      <td>H</td>\n",
       "    </tr>\n",
       "    <tr>\n",
       "      <th>4</th>\n",
       "      <td>-11</td>\n",
       "      <td>78</td>\n",
       "      <td>866</td>\n",
       "      <td>H</td>\n",
       "    </tr>\n",
       "  </tbody>\n",
       "</table>\n",
       "</div>"
      ],
      "text/plain": [
       "   notas  horas_estudio  horas_fiesta sex\n",
       "0     69            977           746   M\n",
       "1     13            296           860   M\n",
       "2     32            582           948   M\n",
       "3     36            457           582   H\n",
       "4    -11             78           866   H"
      ]
     },
     "execution_count": 89,
     "metadata": {},
     "output_type": "execute_result"
    }
   ],
   "source": [
    "data[\"sex\"] = np.random.choice([\"M\", \"H\"], num_notas)\n",
    "data.head()"
   ]
  },
  {
   "cell_type": "code",
   "execution_count": null,
   "metadata": {},
   "outputs": [],
   "source": [
    "## ¿Cómo trabajamos estas variables? "
   ]
  },
  {
   "cell_type": "code",
   "execution_count": 94,
   "metadata": {},
   "outputs": [
    {
     "data": {
      "text/html": [
       "<div>\n",
       "<style scoped>\n",
       "    .dataframe tbody tr th:only-of-type {\n",
       "        vertical-align: middle;\n",
       "    }\n",
       "\n",
       "    .dataframe tbody tr th {\n",
       "        vertical-align: top;\n",
       "    }\n",
       "\n",
       "    .dataframe thead th {\n",
       "        text-align: right;\n",
       "    }\n",
       "</style>\n",
       "<table border=\"1\" class=\"dataframe\">\n",
       "  <thead>\n",
       "    <tr style=\"text-align: right;\">\n",
       "      <th></th>\n",
       "      <th>notas</th>\n",
       "      <th>horas_estudio</th>\n",
       "      <th>horas_fiesta</th>\n",
       "      <th>sex_H</th>\n",
       "      <th>sex_M</th>\n",
       "    </tr>\n",
       "  </thead>\n",
       "  <tbody>\n",
       "    <tr>\n",
       "      <th>0</th>\n",
       "      <td>69</td>\n",
       "      <td>977</td>\n",
       "      <td>746</td>\n",
       "      <td>0</td>\n",
       "      <td>1</td>\n",
       "    </tr>\n",
       "    <tr>\n",
       "      <th>1</th>\n",
       "      <td>13</td>\n",
       "      <td>296</td>\n",
       "      <td>860</td>\n",
       "      <td>0</td>\n",
       "      <td>1</td>\n",
       "    </tr>\n",
       "    <tr>\n",
       "      <th>2</th>\n",
       "      <td>32</td>\n",
       "      <td>582</td>\n",
       "      <td>948</td>\n",
       "      <td>0</td>\n",
       "      <td>1</td>\n",
       "    </tr>\n",
       "    <tr>\n",
       "      <th>3</th>\n",
       "      <td>36</td>\n",
       "      <td>457</td>\n",
       "      <td>582</td>\n",
       "      <td>1</td>\n",
       "      <td>0</td>\n",
       "    </tr>\n",
       "    <tr>\n",
       "      <th>4</th>\n",
       "      <td>-11</td>\n",
       "      <td>78</td>\n",
       "      <td>866</td>\n",
       "      <td>1</td>\n",
       "      <td>0</td>\n",
       "    </tr>\n",
       "    <tr>\n",
       "      <th>...</th>\n",
       "      <td>...</td>\n",
       "      <td>...</td>\n",
       "      <td>...</td>\n",
       "      <td>...</td>\n",
       "      <td>...</td>\n",
       "    </tr>\n",
       "    <tr>\n",
       "      <th>95</th>\n",
       "      <td>22</td>\n",
       "      <td>373</td>\n",
       "      <td>644</td>\n",
       "      <td>1</td>\n",
       "      <td>0</td>\n",
       "    </tr>\n",
       "    <tr>\n",
       "      <th>96</th>\n",
       "      <td>58</td>\n",
       "      <td>598</td>\n",
       "      <td>271</td>\n",
       "      <td>1</td>\n",
       "      <td>0</td>\n",
       "    </tr>\n",
       "    <tr>\n",
       "      <th>97</th>\n",
       "      <td>12</td>\n",
       "      <td>344</td>\n",
       "      <td>758</td>\n",
       "      <td>0</td>\n",
       "      <td>1</td>\n",
       "    </tr>\n",
       "    <tr>\n",
       "      <th>98</th>\n",
       "      <td>50</td>\n",
       "      <td>807</td>\n",
       "      <td>846</td>\n",
       "      <td>0</td>\n",
       "      <td>1</td>\n",
       "    </tr>\n",
       "    <tr>\n",
       "      <th>99</th>\n",
       "      <td>32</td>\n",
       "      <td>434</td>\n",
       "      <td>720</td>\n",
       "      <td>1</td>\n",
       "      <td>0</td>\n",
       "    </tr>\n",
       "  </tbody>\n",
       "</table>\n",
       "<p>100 rows × 5 columns</p>\n",
       "</div>"
      ],
      "text/plain": [
       "    notas  horas_estudio  horas_fiesta  sex_H  sex_M\n",
       "0      69            977           746      0      1\n",
       "1      13            296           860      0      1\n",
       "2      32            582           948      0      1\n",
       "3      36            457           582      1      0\n",
       "4     -11             78           866      1      0\n",
       "..    ...            ...           ...    ...    ...\n",
       "95     22            373           644      1      0\n",
       "96     58            598           271      1      0\n",
       "97     12            344           758      0      1\n",
       "98     50            807           846      0      1\n",
       "99     32            434           720      1      0\n",
       "\n",
       "[100 rows x 5 columns]"
      ]
     },
     "execution_count": 94,
     "metadata": {},
     "output_type": "execute_result"
    }
   ],
   "source": [
    "pd.get_dummies(data)"
   ]
  },
  {
   "cell_type": "code",
   "execution_count": 95,
   "metadata": {},
   "outputs": [
    {
     "data": {
      "text/html": [
       "<div>\n",
       "<style scoped>\n",
       "    .dataframe tbody tr th:only-of-type {\n",
       "        vertical-align: middle;\n",
       "    }\n",
       "\n",
       "    .dataframe tbody tr th {\n",
       "        vertical-align: top;\n",
       "    }\n",
       "\n",
       "    .dataframe thead th {\n",
       "        text-align: right;\n",
       "    }\n",
       "</style>\n",
       "<table border=\"1\" class=\"dataframe\">\n",
       "  <thead>\n",
       "    <tr style=\"text-align: right;\">\n",
       "      <th></th>\n",
       "      <th>notas</th>\n",
       "      <th>horas_estudio</th>\n",
       "      <th>horas_fiesta</th>\n",
       "      <th>sex</th>\n",
       "      <th>es_mujer</th>\n",
       "    </tr>\n",
       "  </thead>\n",
       "  <tbody>\n",
       "    <tr>\n",
       "      <th>0</th>\n",
       "      <td>69</td>\n",
       "      <td>977</td>\n",
       "      <td>746</td>\n",
       "      <td>M</td>\n",
       "      <td>1</td>\n",
       "    </tr>\n",
       "    <tr>\n",
       "      <th>1</th>\n",
       "      <td>13</td>\n",
       "      <td>296</td>\n",
       "      <td>860</td>\n",
       "      <td>M</td>\n",
       "      <td>1</td>\n",
       "    </tr>\n",
       "    <tr>\n",
       "      <th>2</th>\n",
       "      <td>32</td>\n",
       "      <td>582</td>\n",
       "      <td>948</td>\n",
       "      <td>M</td>\n",
       "      <td>1</td>\n",
       "    </tr>\n",
       "    <tr>\n",
       "      <th>3</th>\n",
       "      <td>36</td>\n",
       "      <td>457</td>\n",
       "      <td>582</td>\n",
       "      <td>H</td>\n",
       "      <td>0</td>\n",
       "    </tr>\n",
       "    <tr>\n",
       "      <th>4</th>\n",
       "      <td>-11</td>\n",
       "      <td>78</td>\n",
       "      <td>866</td>\n",
       "      <td>H</td>\n",
       "      <td>0</td>\n",
       "    </tr>\n",
       "  </tbody>\n",
       "</table>\n",
       "</div>"
      ],
      "text/plain": [
       "   notas  horas_estudio  horas_fiesta sex  es_mujer\n",
       "0     69            977           746   M         1\n",
       "1     13            296           860   M         1\n",
       "2     32            582           948   M         1\n",
       "3     36            457           582   H         0\n",
       "4    -11             78           866   H         0"
      ]
     },
     "execution_count": 95,
     "metadata": {},
     "output_type": "execute_result"
    }
   ],
   "source": [
    "data[\"es_mujer\"] = data.sex.str.get_dummies()[\"M\"]\n",
    "data.head()"
   ]
  },
  {
   "cell_type": "markdown",
   "metadata": {},
   "source": [
    "Incluimos esta información en el modelo a través de una variable *dummy*:\n",
    "$$\n",
    "x_i= \\left\\{\n",
    "\\begin{array}{ll}\n",
    "      1  \\quad \\text{si la persona es mujer} \\\\\n",
    "      0  \\quad \\text{si la persona es hombre} \\\\\n",
    "\\end{array} \n",
    "\\right. \n",
    "$$\n",
    "\n",
    "\n",
    "Si esta es nuestra única variable, esto resulta en un modelo:\n",
    "\n",
    "$$y_i = \\beta_0 + \\beta_1 x_i +\\epsilon_i = \\left\\{\n",
    "\\begin{array}{ll}\n",
    "      \\beta_0 + \\beta_1 +\\epsilon_i  \\quad \\text{si la persona es mujer} \\\\\n",
    "      \\beta_0 + \\epsilon_i  \\quad \\text{si la persona es hombre} \\\\\n",
    "\\end{array} \n",
    "\\right.  $$\n",
    "\n",
    "En este caso, $\\beta_0$ representa la nota media de los hombres, y $\\beta_0 + \\beta_1$ la nota media de las mujeres."
   ]
  },
  {
   "cell_type": "code",
   "execution_count": 96,
   "metadata": {},
   "outputs": [
    {
     "data": {
      "text/html": [
       "<table class=\"simpletable\">\n",
       "<caption>OLS Regression Results</caption>\n",
       "<tr>\n",
       "  <th>Dep. Variable:</th>          <td>notas</td>      <th>  R-squared:         </th> <td>   0.931</td>\n",
       "</tr>\n",
       "<tr>\n",
       "  <th>Model:</th>                   <td>OLS</td>       <th>  Adj. R-squared:    </th> <td>   0.929</td>\n",
       "</tr>\n",
       "<tr>\n",
       "  <th>Method:</th>             <td>Least Squares</td>  <th>  F-statistic:       </th> <td>   430.7</td>\n",
       "</tr>\n",
       "<tr>\n",
       "  <th>Date:</th>             <td>Fri, 17 Sep 2021</td> <th>  Prob (F-statistic):</th> <td>1.56e-55</td>\n",
       "</tr>\n",
       "<tr>\n",
       "  <th>Time:</th>                 <td>13:07:33</td>     <th>  Log-Likelihood:    </th> <td> -301.03</td>\n",
       "</tr>\n",
       "<tr>\n",
       "  <th>No. Observations:</th>      <td>   100</td>      <th>  AIC:               </th> <td>   610.1</td>\n",
       "</tr>\n",
       "<tr>\n",
       "  <th>Df Residuals:</th>          <td>    96</td>      <th>  BIC:               </th> <td>   620.5</td>\n",
       "</tr>\n",
       "<tr>\n",
       "  <th>Df Model:</th>              <td>     3</td>      <th>                     </th>     <td> </td>   \n",
       "</tr>\n",
       "<tr>\n",
       "  <th>Covariance Type:</th>      <td>nonrobust</td>    <th>                     </th>     <td> </td>   \n",
       "</tr>\n",
       "</table>\n",
       "<table class=\"simpletable\">\n",
       "<tr>\n",
       "        <td></td>           <th>coef</th>     <th>std err</th>      <th>t</th>      <th>P>|t|</th>  <th>[0.025</th>    <th>0.975]</th>  \n",
       "</tr>\n",
       "<tr>\n",
       "  <th>Intercept</th>     <td>    8.2088</td> <td>    2.017</td> <td>    4.069</td> <td> 0.000</td> <td>    4.205</td> <td>   12.213</td>\n",
       "</tr>\n",
       "<tr>\n",
       "  <th>horas_estudio</th> <td>    0.0812</td> <td>    0.003</td> <td>   32.470</td> <td> 0.000</td> <td>    0.076</td> <td>    0.086</td>\n",
       "</tr>\n",
       "<tr>\n",
       "  <th>horas_fiesta</th>  <td>   -0.0281</td> <td>    0.002</td> <td>  -12.214</td> <td> 0.000</td> <td>   -0.033</td> <td>   -0.024</td>\n",
       "</tr>\n",
       "<tr>\n",
       "  <th>es_mujer</th>      <td>   -1.0448</td> <td>    1.007</td> <td>   -1.038</td> <td> 0.302</td> <td>   -3.043</td> <td>    0.954</td>\n",
       "</tr>\n",
       "</table>\n",
       "<table class=\"simpletable\">\n",
       "<tr>\n",
       "  <th>Omnibus:</th>       <td> 2.563</td> <th>  Durbin-Watson:     </th> <td>   1.891</td>\n",
       "</tr>\n",
       "<tr>\n",
       "  <th>Prob(Omnibus):</th> <td> 0.278</td> <th>  Jarque-Bera (JB):  </th> <td>   1.793</td>\n",
       "</tr>\n",
       "<tr>\n",
       "  <th>Skew:</th>          <td> 0.119</td> <th>  Prob(JB):          </th> <td>   0.408</td>\n",
       "</tr>\n",
       "<tr>\n",
       "  <th>Kurtosis:</th>      <td> 2.388</td> <th>  Cond. No.          </th> <td>3.12e+03</td>\n",
       "</tr>\n",
       "</table><br/><br/>Notes:<br/>[1] Standard Errors assume that the covariance matrix of the errors is correctly specified.<br/>[2] The condition number is large, 3.12e+03. This might indicate that there are<br/>strong multicollinearity or other numerical problems."
      ],
      "text/plain": [
       "<class 'statsmodels.iolib.summary.Summary'>\n",
       "\"\"\"\n",
       "                            OLS Regression Results                            \n",
       "==============================================================================\n",
       "Dep. Variable:                  notas   R-squared:                       0.931\n",
       "Model:                            OLS   Adj. R-squared:                  0.929\n",
       "Method:                 Least Squares   F-statistic:                     430.7\n",
       "Date:                Fri, 17 Sep 2021   Prob (F-statistic):           1.56e-55\n",
       "Time:                        13:07:33   Log-Likelihood:                -301.03\n",
       "No. Observations:                 100   AIC:                             610.1\n",
       "Df Residuals:                      96   BIC:                             620.5\n",
       "Df Model:                           3                                         \n",
       "Covariance Type:            nonrobust                                         \n",
       "=================================================================================\n",
       "                    coef    std err          t      P>|t|      [0.025      0.975]\n",
       "---------------------------------------------------------------------------------\n",
       "Intercept         8.2088      2.017      4.069      0.000       4.205      12.213\n",
       "horas_estudio     0.0812      0.003     32.470      0.000       0.076       0.086\n",
       "horas_fiesta     -0.0281      0.002    -12.214      0.000      -0.033      -0.024\n",
       "es_mujer         -1.0448      1.007     -1.038      0.302      -3.043       0.954\n",
       "==============================================================================\n",
       "Omnibus:                        2.563   Durbin-Watson:                   1.891\n",
       "Prob(Omnibus):                  0.278   Jarque-Bera (JB):                1.793\n",
       "Skew:                           0.119   Prob(JB):                        0.408\n",
       "Kurtosis:                       2.388   Cond. No.                     3.12e+03\n",
       "==============================================================================\n",
       "\n",
       "Notes:\n",
       "[1] Standard Errors assume that the covariance matrix of the errors is correctly specified.\n",
       "[2] The condition number is large, 3.12e+03. This might indicate that there are\n",
       "strong multicollinearity or other numerical problems.\n",
       "\"\"\""
      ]
     },
     "execution_count": 96,
     "metadata": {},
     "output_type": "execute_result"
    }
   ],
   "source": [
    "results = smf.ols(\"notas ~ horas_estudio + horas_fiesta + es_mujer\", data = data).fit()\n",
    "results.summary()"
   ]
  },
  {
   "cell_type": "markdown",
   "metadata": {},
   "source": [
    "## Extensiones del modelo lineal\n",
    "\n",
    "Hay varios supuestos que se utilizan al ajustar un modelo lineal.        \n",
    "Asunciones del modelo líneal [VÍDEO](https://www.youtube.com/watch?v=hVe2F9krrWk)\n",
    "* Los errores se distribuyen normalmente y tienen una varianza constante\n",
    "* Los errores no están correlacionados entre sí\n",
    "* **Supuesto aditivo** El efecto de los cambios en un predictor $X_j$ sobre la respuesta $Y$ es independiente de los valores de los otros predictores.\n",
    "* **Supuesto lineal** El cambio en la respuesta para un aumento de una unidad en $X_j$ es el mismo sin importar el valor de $X_j$.\n",
    "\n",
    "### Desafiando la suposición aditiva: la sinergia\n",
    "\n",
    "A veces nuestras variables tendrán interacciones naturales. Por ejemplo, podemos pensar que cuanto más se escuchen nuestros anuncios en la radio, más eficaces serán nuestros anuncios en la televisión. Es decir, el efecto de ambos es *mayor* (o *menor*) que la suma de las partes.\n",
    "\n",
    "Este es un tema comúnmente estudiado en [marketing](https://smallbusiness.chron.com/definition-synergy-marketing-21786.html)"
   ]
  },
  {
   "cell_type": "code",
   "execution_count": 98,
   "metadata": {},
   "outputs": [],
   "source": [
    "df_adv = pd.read_csv('../datasets/Advertising.csv')"
   ]
  },
  {
   "cell_type": "markdown",
   "metadata": {},
   "source": [
    "## Manos a la obra\n",
    "* Crear tres modelos independientes de regresión lineal simple\n",
    "    * Interpretar los resultados\n",
    "* Crear un modelo multivariante con los tres predictores\n",
    "    * Interpretar los resultados"
   ]
  },
  {
   "cell_type": "code",
   "execution_count": 99,
   "metadata": {},
   "outputs": [
    {
     "data": {
      "text/html": [
       "<div>\n",
       "<style scoped>\n",
       "    .dataframe tbody tr th:only-of-type {\n",
       "        vertical-align: middle;\n",
       "    }\n",
       "\n",
       "    .dataframe tbody tr th {\n",
       "        vertical-align: top;\n",
       "    }\n",
       "\n",
       "    .dataframe thead th {\n",
       "        text-align: right;\n",
       "    }\n",
       "</style>\n",
       "<table border=\"1\" class=\"dataframe\">\n",
       "  <thead>\n",
       "    <tr style=\"text-align: right;\">\n",
       "      <th></th>\n",
       "      <th>TV</th>\n",
       "      <th>Radio</th>\n",
       "      <th>Newspaper</th>\n",
       "      <th>Sales</th>\n",
       "    </tr>\n",
       "  </thead>\n",
       "  <tbody>\n",
       "    <tr>\n",
       "      <th>0</th>\n",
       "      <td>230.1</td>\n",
       "      <td>37.8</td>\n",
       "      <td>69.2</td>\n",
       "      <td>22.1</td>\n",
       "    </tr>\n",
       "    <tr>\n",
       "      <th>1</th>\n",
       "      <td>44.5</td>\n",
       "      <td>39.3</td>\n",
       "      <td>45.1</td>\n",
       "      <td>10.4</td>\n",
       "    </tr>\n",
       "    <tr>\n",
       "      <th>2</th>\n",
       "      <td>17.2</td>\n",
       "      <td>45.9</td>\n",
       "      <td>69.3</td>\n",
       "      <td>9.3</td>\n",
       "    </tr>\n",
       "    <tr>\n",
       "      <th>3</th>\n",
       "      <td>151.5</td>\n",
       "      <td>41.3</td>\n",
       "      <td>58.5</td>\n",
       "      <td>18.5</td>\n",
       "    </tr>\n",
       "    <tr>\n",
       "      <th>4</th>\n",
       "      <td>180.8</td>\n",
       "      <td>10.8</td>\n",
       "      <td>58.4</td>\n",
       "      <td>12.9</td>\n",
       "    </tr>\n",
       "    <tr>\n",
       "      <th>...</th>\n",
       "      <td>...</td>\n",
       "      <td>...</td>\n",
       "      <td>...</td>\n",
       "      <td>...</td>\n",
       "    </tr>\n",
       "    <tr>\n",
       "      <th>195</th>\n",
       "      <td>38.2</td>\n",
       "      <td>3.7</td>\n",
       "      <td>13.8</td>\n",
       "      <td>7.6</td>\n",
       "    </tr>\n",
       "    <tr>\n",
       "      <th>196</th>\n",
       "      <td>94.2</td>\n",
       "      <td>4.9</td>\n",
       "      <td>8.1</td>\n",
       "      <td>9.7</td>\n",
       "    </tr>\n",
       "    <tr>\n",
       "      <th>197</th>\n",
       "      <td>177.0</td>\n",
       "      <td>9.3</td>\n",
       "      <td>6.4</td>\n",
       "      <td>12.8</td>\n",
       "    </tr>\n",
       "    <tr>\n",
       "      <th>198</th>\n",
       "      <td>283.6</td>\n",
       "      <td>42.0</td>\n",
       "      <td>66.2</td>\n",
       "      <td>25.5</td>\n",
       "    </tr>\n",
       "    <tr>\n",
       "      <th>199</th>\n",
       "      <td>232.1</td>\n",
       "      <td>8.6</td>\n",
       "      <td>8.7</td>\n",
       "      <td>13.4</td>\n",
       "    </tr>\n",
       "  </tbody>\n",
       "</table>\n",
       "<p>200 rows × 4 columns</p>\n",
       "</div>"
      ],
      "text/plain": [
       "        TV  Radio  Newspaper  Sales\n",
       "0    230.1   37.8       69.2   22.1\n",
       "1     44.5   39.3       45.1   10.4\n",
       "2     17.2   45.9       69.3    9.3\n",
       "3    151.5   41.3       58.5   18.5\n",
       "4    180.8   10.8       58.4   12.9\n",
       "..     ...    ...        ...    ...\n",
       "195   38.2    3.7       13.8    7.6\n",
       "196   94.2    4.9        8.1    9.7\n",
       "197  177.0    9.3        6.4   12.8\n",
       "198  283.6   42.0       66.2   25.5\n",
       "199  232.1    8.6        8.7   13.4\n",
       "\n",
       "[200 rows x 4 columns]"
      ]
     },
     "execution_count": 99,
     "metadata": {},
     "output_type": "execute_result"
    }
   ],
   "source": [
    "df_adv"
   ]
  },
  {
   "cell_type": "code",
   "execution_count": 112,
   "metadata": {},
   "outputs": [
    {
     "data": {
      "text/plain": [
       "<seaborn.axisgrid.PairGrid at 0x7fd7e0881370>"
      ]
     },
     "execution_count": 112,
     "metadata": {},
     "output_type": "execute_result"
    },
    {
     "data": {
      "image/png": "[encoded data removed]",
      "text/plain": [
       "<Figure size 720x720 with 20 Axes>"
      ]
     },
     "metadata": {
      "needs_background": "light"
     },
     "output_type": "display_data"
    }
   ],
   "source": [
    "sns.pairplot(df_adv)"
   ]
  },
  {
   "cell_type": "code",
   "execution_count": 113,
   "metadata": {},
   "outputs": [
    {
     "data": {
      "text/html": [
       "<div>\n",
       "<style scoped>\n",
       "    .dataframe tbody tr th:only-of-type {\n",
       "        vertical-align: middle;\n",
       "    }\n",
       "\n",
       "    .dataframe tbody tr th {\n",
       "        vertical-align: top;\n",
       "    }\n",
       "\n",
       "    .dataframe thead th {\n",
       "        text-align: right;\n",
       "    }\n",
       "</style>\n",
       "<table border=\"1\" class=\"dataframe\">\n",
       "  <thead>\n",
       "    <tr style=\"text-align: right;\">\n",
       "      <th></th>\n",
       "      <th>TV</th>\n",
       "      <th>Radio</th>\n",
       "      <th>Newspaper</th>\n",
       "      <th>Sales</th>\n",
       "    </tr>\n",
       "  </thead>\n",
       "  <tbody>\n",
       "    <tr>\n",
       "      <th>TV</th>\n",
       "      <td>1.000000</td>\n",
       "      <td>0.054809</td>\n",
       "      <td>0.056648</td>\n",
       "      <td>0.782224</td>\n",
       "    </tr>\n",
       "    <tr>\n",
       "      <th>Radio</th>\n",
       "      <td>0.054809</td>\n",
       "      <td>1.000000</td>\n",
       "      <td>0.354104</td>\n",
       "      <td>0.576223</td>\n",
       "    </tr>\n",
       "    <tr>\n",
       "      <th>Newspaper</th>\n",
       "      <td>0.056648</td>\n",
       "      <td>0.354104</td>\n",
       "      <td>1.000000</td>\n",
       "      <td>0.228299</td>\n",
       "    </tr>\n",
       "    <tr>\n",
       "      <th>Sales</th>\n",
       "      <td>0.782224</td>\n",
       "      <td>0.576223</td>\n",
       "      <td>0.228299</td>\n",
       "      <td>1.000000</td>\n",
       "    </tr>\n",
       "  </tbody>\n",
       "</table>\n",
       "</div>"
      ],
      "text/plain": [
       "                 TV     Radio  Newspaper     Sales\n",
       "TV         1.000000  0.054809   0.056648  0.782224\n",
       "Radio      0.054809  1.000000   0.354104  0.576223\n",
       "Newspaper  0.056648  0.354104   1.000000  0.228299\n",
       "Sales      0.782224  0.576223   0.228299  1.000000"
      ]
     },
     "execution_count": 113,
     "metadata": {},
     "output_type": "execute_result"
    }
   ],
   "source": [
    "# Regalo para el lab de hoy \n",
    "df_adv.corr()"
   ]
  },
  {
   "cell_type": "code",
   "execution_count": 115,
   "metadata": {},
   "outputs": [
    {
     "data": {
      "text/html": [
       "<div>\n",
       "<style scoped>\n",
       "    .dataframe tbody tr th:only-of-type {\n",
       "        vertical-align: middle;\n",
       "    }\n",
       "\n",
       "    .dataframe tbody tr th {\n",
       "        vertical-align: top;\n",
       "    }\n",
       "\n",
       "    .dataframe thead th {\n",
       "        text-align: right;\n",
       "    }\n",
       "</style>\n",
       "<table border=\"1\" class=\"dataframe\">\n",
       "  <thead>\n",
       "    <tr style=\"text-align: right;\">\n",
       "      <th></th>\n",
       "      <th>TV</th>\n",
       "      <th>Radio</th>\n",
       "      <th>Newspaper</th>\n",
       "      <th>Sales</th>\n",
       "    </tr>\n",
       "  </thead>\n",
       "  <tbody>\n",
       "    <tr>\n",
       "      <th>TV</th>\n",
       "      <td>1.000000</td>\n",
       "      <td>0.003004</td>\n",
       "      <td>0.003209</td>\n",
       "      <td>0.611875</td>\n",
       "    </tr>\n",
       "    <tr>\n",
       "      <th>Radio</th>\n",
       "      <td>0.003004</td>\n",
       "      <td>1.000000</td>\n",
       "      <td>0.125389</td>\n",
       "      <td>0.332032</td>\n",
       "    </tr>\n",
       "    <tr>\n",
       "      <th>Newspaper</th>\n",
       "      <td>0.003209</td>\n",
       "      <td>0.125389</td>\n",
       "      <td>1.000000</td>\n",
       "      <td>0.052120</td>\n",
       "    </tr>\n",
       "    <tr>\n",
       "      <th>Sales</th>\n",
       "      <td>0.611875</td>\n",
       "      <td>0.332032</td>\n",
       "      <td>0.052120</td>\n",
       "      <td>1.000000</td>\n",
       "    </tr>\n",
       "  </tbody>\n",
       "</table>\n",
       "</div>"
      ],
      "text/plain": [
       "                 TV     Radio  Newspaper     Sales\n",
       "TV         1.000000  0.003004   0.003209  0.611875\n",
       "Radio      0.003004  1.000000   0.125389  0.332032\n",
       "Newspaper  0.003209  0.125389   1.000000  0.052120\n",
       "Sales      0.611875  0.332032   0.052120  1.000000"
      ]
     },
     "execution_count": 115,
     "metadata": {},
     "output_type": "execute_result"
    }
   ],
   "source": [
    "# Regalo para el lab de hoy \n",
    "df_adv.corr() ** 2"
   ]
  },
  {
   "cell_type": "code",
   "execution_count": 114,
   "metadata": {},
   "outputs": [
    {
     "data": {
      "text/html": [
       "<table class=\"simpletable\">\n",
       "<caption>OLS Regression Results</caption>\n",
       "<tr>\n",
       "  <th>Dep. Variable:</th>          <td>Sales</td>      <th>  R-squared:         </th> <td>   0.612</td>\n",
       "</tr>\n",
       "<tr>\n",
       "  <th>Model:</th>                   <td>OLS</td>       <th>  Adj. R-squared:    </th> <td>   0.610</td>\n",
       "</tr>\n",
       "<tr>\n",
       "  <th>Method:</th>             <td>Least Squares</td>  <th>  F-statistic:       </th> <td>   312.1</td>\n",
       "</tr>\n",
       "<tr>\n",
       "  <th>Date:</th>             <td>Fri, 17 Sep 2021</td> <th>  Prob (F-statistic):</th> <td>1.47e-42</td>\n",
       "</tr>\n",
       "<tr>\n",
       "  <th>Time:</th>                 <td>13:19:02</td>     <th>  Log-Likelihood:    </th> <td> -519.05</td>\n",
       "</tr>\n",
       "<tr>\n",
       "  <th>No. Observations:</th>      <td>   200</td>      <th>  AIC:               </th> <td>   1042.</td>\n",
       "</tr>\n",
       "<tr>\n",
       "  <th>Df Residuals:</th>          <td>   198</td>      <th>  BIC:               </th> <td>   1049.</td>\n",
       "</tr>\n",
       "<tr>\n",
       "  <th>Df Model:</th>              <td>     1</td>      <th>                     </th>     <td> </td>   \n",
       "</tr>\n",
       "<tr>\n",
       "  <th>Covariance Type:</th>      <td>nonrobust</td>    <th>                     </th>     <td> </td>   \n",
       "</tr>\n",
       "</table>\n",
       "<table class=\"simpletable\">\n",
       "<tr>\n",
       "      <td></td>         <th>coef</th>     <th>std err</th>      <th>t</th>      <th>P>|t|</th>  <th>[0.025</th>    <th>0.975]</th>  \n",
       "</tr>\n",
       "<tr>\n",
       "  <th>Intercept</th> <td>    7.0326</td> <td>    0.458</td> <td>   15.360</td> <td> 0.000</td> <td>    6.130</td> <td>    7.935</td>\n",
       "</tr>\n",
       "<tr>\n",
       "  <th>TV</th>        <td>    0.0475</td> <td>    0.003</td> <td>   17.668</td> <td> 0.000</td> <td>    0.042</td> <td>    0.053</td>\n",
       "</tr>\n",
       "</table>\n",
       "<table class=\"simpletable\">\n",
       "<tr>\n",
       "  <th>Omnibus:</th>       <td> 0.531</td> <th>  Durbin-Watson:     </th> <td>   1.935</td>\n",
       "</tr>\n",
       "<tr>\n",
       "  <th>Prob(Omnibus):</th> <td> 0.767</td> <th>  Jarque-Bera (JB):  </th> <td>   0.669</td>\n",
       "</tr>\n",
       "<tr>\n",
       "  <th>Skew:</th>          <td>-0.089</td> <th>  Prob(JB):          </th> <td>   0.716</td>\n",
       "</tr>\n",
       "<tr>\n",
       "  <th>Kurtosis:</th>      <td> 2.779</td> <th>  Cond. No.          </th> <td>    338.</td>\n",
       "</tr>\n",
       "</table><br/><br/>Notes:<br/>[1] Standard Errors assume that the covariance matrix of the errors is correctly specified."
      ],
      "text/plain": [
       "<class 'statsmodels.iolib.summary.Summary'>\n",
       "\"\"\"\n",
       "                            OLS Regression Results                            \n",
       "==============================================================================\n",
       "Dep. Variable:                  Sales   R-squared:                       0.612\n",
       "Model:                            OLS   Adj. R-squared:                  0.610\n",
       "Method:                 Least Squares   F-statistic:                     312.1\n",
       "Date:                Fri, 17 Sep 2021   Prob (F-statistic):           1.47e-42\n",
       "Time:                        13:19:02   Log-Likelihood:                -519.05\n",
       "No. Observations:                 200   AIC:                             1042.\n",
       "Df Residuals:                     198   BIC:                             1049.\n",
       "Df Model:                           1                                         \n",
       "Covariance Type:            nonrobust                                         \n",
       "==============================================================================\n",
       "                 coef    std err          t      P>|t|      [0.025      0.975]\n",
       "------------------------------------------------------------------------------\n",
       "Intercept      7.0326      0.458     15.360      0.000       6.130       7.935\n",
       "TV             0.0475      0.003     17.668      0.000       0.042       0.053\n",
       "==============================================================================\n",
       "Omnibus:                        0.531   Durbin-Watson:                   1.935\n",
       "Prob(Omnibus):                  0.767   Jarque-Bera (JB):                0.669\n",
       "Skew:                          -0.089   Prob(JB):                        0.716\n",
       "Kurtosis:                       2.779   Cond. No.                         338.\n",
       "==============================================================================\n",
       "\n",
       "Notes:\n",
       "[1] Standard Errors assume that the covariance matrix of the errors is correctly specified.\n",
       "\"\"\""
      ]
     },
     "execution_count": 114,
     "metadata": {},
     "output_type": "execute_result"
    }
   ],
   "source": [
    "results = smf.ols(\"Sales ~ TV\", data = df_adv).fit()\n",
    "results.summary()"
   ]
  },
  {
   "cell_type": "code",
   "execution_count": 117,
   "metadata": {},
   "outputs": [
    {
     "data": {
      "text/html": [
       "<table class=\"simpletable\">\n",
       "<caption>OLS Regression Results</caption>\n",
       "<tr>\n",
       "  <th>Dep. Variable:</th>          <td>Sales</td>      <th>  R-squared:         </th> <td>   0.897</td>\n",
       "</tr>\n",
       "<tr>\n",
       "  <th>Model:</th>                   <td>OLS</td>       <th>  Adj. R-squared:    </th> <td>   0.896</td>\n",
       "</tr>\n",
       "<tr>\n",
       "  <th>Method:</th>             <td>Least Squares</td>  <th>  F-statistic:       </th> <td>   570.3</td>\n",
       "</tr>\n",
       "<tr>\n",
       "  <th>Date:</th>             <td>Fri, 17 Sep 2021</td> <th>  Prob (F-statistic):</th> <td>1.58e-96</td>\n",
       "</tr>\n",
       "<tr>\n",
       "  <th>Time:</th>                 <td>13:25:56</td>     <th>  Log-Likelihood:    </th> <td> -386.18</td>\n",
       "</tr>\n",
       "<tr>\n",
       "  <th>No. Observations:</th>      <td>   200</td>      <th>  AIC:               </th> <td>   780.4</td>\n",
       "</tr>\n",
       "<tr>\n",
       "  <th>Df Residuals:</th>          <td>   196</td>      <th>  BIC:               </th> <td>   793.6</td>\n",
       "</tr>\n",
       "<tr>\n",
       "  <th>Df Model:</th>              <td>     3</td>      <th>                     </th>     <td> </td>   \n",
       "</tr>\n",
       "<tr>\n",
       "  <th>Covariance Type:</th>      <td>nonrobust</td>    <th>                     </th>     <td> </td>   \n",
       "</tr>\n",
       "</table>\n",
       "<table class=\"simpletable\">\n",
       "<tr>\n",
       "      <td></td>         <th>coef</th>     <th>std err</th>      <th>t</th>      <th>P>|t|</th>  <th>[0.025</th>    <th>0.975]</th>  \n",
       "</tr>\n",
       "<tr>\n",
       "  <th>Intercept</th> <td>    2.9389</td> <td>    0.312</td> <td>    9.422</td> <td> 0.000</td> <td>    2.324</td> <td>    3.554</td>\n",
       "</tr>\n",
       "<tr>\n",
       "  <th>TV</th>        <td>    0.0458</td> <td>    0.001</td> <td>   32.809</td> <td> 0.000</td> <td>    0.043</td> <td>    0.049</td>\n",
       "</tr>\n",
       "<tr>\n",
       "  <th>Radio</th>     <td>    0.1885</td> <td>    0.009</td> <td>   21.893</td> <td> 0.000</td> <td>    0.172</td> <td>    0.206</td>\n",
       "</tr>\n",
       "<tr>\n",
       "  <th>Newspaper</th> <td>   -0.0010</td> <td>    0.006</td> <td>   -0.177</td> <td> 0.860</td> <td>   -0.013</td> <td>    0.011</td>\n",
       "</tr>\n",
       "</table>\n",
       "<table class=\"simpletable\">\n",
       "<tr>\n",
       "  <th>Omnibus:</th>       <td>60.414</td> <th>  Durbin-Watson:     </th> <td>   2.084</td>\n",
       "</tr>\n",
       "<tr>\n",
       "  <th>Prob(Omnibus):</th> <td> 0.000</td> <th>  Jarque-Bera (JB):  </th> <td> 151.241</td>\n",
       "</tr>\n",
       "<tr>\n",
       "  <th>Skew:</th>          <td>-1.327</td> <th>  Prob(JB):          </th> <td>1.44e-33</td>\n",
       "</tr>\n",
       "<tr>\n",
       "  <th>Kurtosis:</th>      <td> 6.332</td> <th>  Cond. No.          </th> <td>    454.</td>\n",
       "</tr>\n",
       "</table><br/><br/>Notes:<br/>[1] Standard Errors assume that the covariance matrix of the errors is correctly specified."
      ],
      "text/plain": [
       "<class 'statsmodels.iolib.summary.Summary'>\n",
       "\"\"\"\n",
       "                            OLS Regression Results                            \n",
       "==============================================================================\n",
       "Dep. Variable:                  Sales   R-squared:                       0.897\n",
       "Model:                            OLS   Adj. R-squared:                  0.896\n",
       "Method:                 Least Squares   F-statistic:                     570.3\n",
       "Date:                Fri, 17 Sep 2021   Prob (F-statistic):           1.58e-96\n",
       "Time:                        13:25:56   Log-Likelihood:                -386.18\n",
       "No. Observations:                 200   AIC:                             780.4\n",
       "Df Residuals:                     196   BIC:                             793.6\n",
       "Df Model:                           3                                         \n",
       "Covariance Type:            nonrobust                                         \n",
       "==============================================================================\n",
       "                 coef    std err          t      P>|t|      [0.025      0.975]\n",
       "------------------------------------------------------------------------------\n",
       "Intercept      2.9389      0.312      9.422      0.000       2.324       3.554\n",
       "TV             0.0458      0.001     32.809      0.000       0.043       0.049\n",
       "Radio          0.1885      0.009     21.893      0.000       0.172       0.206\n",
       "Newspaper     -0.0010      0.006     -0.177      0.860      -0.013       0.011\n",
       "==============================================================================\n",
       "Omnibus:                       60.414   Durbin-Watson:                   2.084\n",
       "Prob(Omnibus):                  0.000   Jarque-Bera (JB):              151.241\n",
       "Skew:                          -1.327   Prob(JB):                     1.44e-33\n",
       "Kurtosis:                       6.332   Cond. No.                         454.\n",
       "==============================================================================\n",
       "\n",
       "Notes:\n",
       "[1] Standard Errors assume that the covariance matrix of the errors is correctly specified.\n",
       "\"\"\""
      ]
     },
     "execution_count": 117,
     "metadata": {},
     "output_type": "execute_result"
    }
   ],
   "source": [
    "results = smf.ols(\"Sales ~ TV + Radio + Newspaper\", data = df_adv).fit()\n",
    "results.summary()"
   ]
  },
  {
   "cell_type": "code",
   "execution_count": 118,
   "metadata": {},
   "outputs": [
    {
     "data": {
      "text/html": [
       "<table class=\"simpletable\">\n",
       "<caption>OLS Regression Results</caption>\n",
       "<tr>\n",
       "  <th>Dep. Variable:</th>          <td>Sales</td>      <th>  R-squared:         </th> <td>   0.897</td>\n",
       "</tr>\n",
       "<tr>\n",
       "  <th>Model:</th>                   <td>OLS</td>       <th>  Adj. R-squared:    </th> <td>   0.896</td>\n",
       "</tr>\n",
       "<tr>\n",
       "  <th>Method:</th>             <td>Least Squares</td>  <th>  F-statistic:       </th> <td>   859.6</td>\n",
       "</tr>\n",
       "<tr>\n",
       "  <th>Date:</th>             <td>Fri, 17 Sep 2021</td> <th>  Prob (F-statistic):</th> <td>4.83e-98</td>\n",
       "</tr>\n",
       "<tr>\n",
       "  <th>Time:</th>                 <td>13:26:54</td>     <th>  Log-Likelihood:    </th> <td> -386.20</td>\n",
       "</tr>\n",
       "<tr>\n",
       "  <th>No. Observations:</th>      <td>   200</td>      <th>  AIC:               </th> <td>   778.4</td>\n",
       "</tr>\n",
       "<tr>\n",
       "  <th>Df Residuals:</th>          <td>   197</td>      <th>  BIC:               </th> <td>   788.3</td>\n",
       "</tr>\n",
       "<tr>\n",
       "  <th>Df Model:</th>              <td>     2</td>      <th>                     </th>     <td> </td>   \n",
       "</tr>\n",
       "<tr>\n",
       "  <th>Covariance Type:</th>      <td>nonrobust</td>    <th>                     </th>     <td> </td>   \n",
       "</tr>\n",
       "</table>\n",
       "<table class=\"simpletable\">\n",
       "<tr>\n",
       "      <td></td>         <th>coef</th>     <th>std err</th>      <th>t</th>      <th>P>|t|</th>  <th>[0.025</th>    <th>0.975]</th>  \n",
       "</tr>\n",
       "<tr>\n",
       "  <th>Intercept</th> <td>    2.9211</td> <td>    0.294</td> <td>    9.919</td> <td> 0.000</td> <td>    2.340</td> <td>    3.502</td>\n",
       "</tr>\n",
       "<tr>\n",
       "  <th>TV</th>        <td>    0.0458</td> <td>    0.001</td> <td>   32.909</td> <td> 0.000</td> <td>    0.043</td> <td>    0.048</td>\n",
       "</tr>\n",
       "<tr>\n",
       "  <th>Radio</th>     <td>    0.1880</td> <td>    0.008</td> <td>   23.382</td> <td> 0.000</td> <td>    0.172</td> <td>    0.204</td>\n",
       "</tr>\n",
       "</table>\n",
       "<table class=\"simpletable\">\n",
       "<tr>\n",
       "  <th>Omnibus:</th>       <td>60.022</td> <th>  Durbin-Watson:     </th> <td>   2.081</td>\n",
       "</tr>\n",
       "<tr>\n",
       "  <th>Prob(Omnibus):</th> <td> 0.000</td> <th>  Jarque-Bera (JB):  </th> <td> 148.679</td>\n",
       "</tr>\n",
       "<tr>\n",
       "  <th>Skew:</th>          <td>-1.323</td> <th>  Prob(JB):          </th> <td>5.19e-33</td>\n",
       "</tr>\n",
       "<tr>\n",
       "  <th>Kurtosis:</th>      <td> 6.292</td> <th>  Cond. No.          </th> <td>    425.</td>\n",
       "</tr>\n",
       "</table><br/><br/>Notes:<br/>[1] Standard Errors assume that the covariance matrix of the errors is correctly specified."
      ],
      "text/plain": [
       "<class 'statsmodels.iolib.summary.Summary'>\n",
       "\"\"\"\n",
       "                            OLS Regression Results                            \n",
       "==============================================================================\n",
       "Dep. Variable:                  Sales   R-squared:                       0.897\n",
       "Model:                            OLS   Adj. R-squared:                  0.896\n",
       "Method:                 Least Squares   F-statistic:                     859.6\n",
       "Date:                Fri, 17 Sep 2021   Prob (F-statistic):           4.83e-98\n",
       "Time:                        13:26:54   Log-Likelihood:                -386.20\n",
       "No. Observations:                 200   AIC:                             778.4\n",
       "Df Residuals:                     197   BIC:                             788.3\n",
       "Df Model:                           2                                         \n",
       "Covariance Type:            nonrobust                                         \n",
       "==============================================================================\n",
       "                 coef    std err          t      P>|t|      [0.025      0.975]\n",
       "------------------------------------------------------------------------------\n",
       "Intercept      2.9211      0.294      9.919      0.000       2.340       3.502\n",
       "TV             0.0458      0.001     32.909      0.000       0.043       0.048\n",
       "Radio          0.1880      0.008     23.382      0.000       0.172       0.204\n",
       "==============================================================================\n",
       "Omnibus:                       60.022   Durbin-Watson:                   2.081\n",
       "Prob(Omnibus):                  0.000   Jarque-Bera (JB):              148.679\n",
       "Skew:                          -1.323   Prob(JB):                     5.19e-33\n",
       "Kurtosis:                       6.292   Cond. No.                         425.\n",
       "==============================================================================\n",
       "\n",
       "Notes:\n",
       "[1] Standard Errors assume that the covariance matrix of the errors is correctly specified.\n",
       "\"\"\""
      ]
     },
     "execution_count": 118,
     "metadata": {},
     "output_type": "execute_result"
    }
   ],
   "source": [
    "results = smf.ols(\"Sales ~ TV + Radio\", data = df_adv).fit()\n",
    "results.summary()"
   ]
  },
  {
   "cell_type": "code",
   "execution_count": 119,
   "metadata": {},
   "outputs": [
    {
     "data": {
      "text/html": [
       "<table class=\"simpletable\">\n",
       "<caption>OLS Regression Results</caption>\n",
       "<tr>\n",
       "  <th>Dep. Variable:</th>          <td>Sales</td>      <th>  R-squared:         </th> <td>   0.968</td> \n",
       "</tr>\n",
       "<tr>\n",
       "  <th>Model:</th>                   <td>OLS</td>       <th>  Adj. R-squared:    </th> <td>   0.967</td> \n",
       "</tr>\n",
       "<tr>\n",
       "  <th>Method:</th>             <td>Least Squares</td>  <th>  F-statistic:       </th> <td>   1963.</td> \n",
       "</tr>\n",
       "<tr>\n",
       "  <th>Date:</th>             <td>Fri, 17 Sep 2021</td> <th>  Prob (F-statistic):</th> <td>6.68e-146</td>\n",
       "</tr>\n",
       "<tr>\n",
       "  <th>Time:</th>                 <td>13:27:53</td>     <th>  Log-Likelihood:    </th> <td> -270.14</td> \n",
       "</tr>\n",
       "<tr>\n",
       "  <th>No. Observations:</th>      <td>   200</td>      <th>  AIC:               </th> <td>   548.3</td> \n",
       "</tr>\n",
       "<tr>\n",
       "  <th>Df Residuals:</th>          <td>   196</td>      <th>  BIC:               </th> <td>   561.5</td> \n",
       "</tr>\n",
       "<tr>\n",
       "  <th>Df Model:</th>              <td>     3</td>      <th>                     </th>     <td> </td>    \n",
       "</tr>\n",
       "<tr>\n",
       "  <th>Covariance Type:</th>      <td>nonrobust</td>    <th>                     </th>     <td> </td>    \n",
       "</tr>\n",
       "</table>\n",
       "<table class=\"simpletable\">\n",
       "<tr>\n",
       "      <td></td>         <th>coef</th>     <th>std err</th>      <th>t</th>      <th>P>|t|</th>  <th>[0.025</th>    <th>0.975]</th>  \n",
       "</tr>\n",
       "<tr>\n",
       "  <th>Intercept</th> <td>    6.7502</td> <td>    0.248</td> <td>   27.233</td> <td> 0.000</td> <td>    6.261</td> <td>    7.239</td>\n",
       "</tr>\n",
       "<tr>\n",
       "  <th>TV</th>        <td>    0.0191</td> <td>    0.002</td> <td>   12.699</td> <td> 0.000</td> <td>    0.016</td> <td>    0.022</td>\n",
       "</tr>\n",
       "<tr>\n",
       "  <th>Radio</th>     <td>    0.0289</td> <td>    0.009</td> <td>    3.241</td> <td> 0.001</td> <td>    0.011</td> <td>    0.046</td>\n",
       "</tr>\n",
       "<tr>\n",
       "  <th>TV:Radio</th>  <td>    0.0011</td> <td> 5.24e-05</td> <td>   20.727</td> <td> 0.000</td> <td>    0.001</td> <td>    0.001</td>\n",
       "</tr>\n",
       "</table>\n",
       "<table class=\"simpletable\">\n",
       "<tr>\n",
       "  <th>Omnibus:</th>       <td>128.132</td> <th>  Durbin-Watson:     </th> <td>   2.224</td> \n",
       "</tr>\n",
       "<tr>\n",
       "  <th>Prob(Omnibus):</th> <td> 0.000</td>  <th>  Jarque-Bera (JB):  </th> <td>1183.719</td> \n",
       "</tr>\n",
       "<tr>\n",
       "  <th>Skew:</th>          <td>-2.323</td>  <th>  Prob(JB):          </th> <td>9.09e-258</td>\n",
       "</tr>\n",
       "<tr>\n",
       "  <th>Kurtosis:</th>      <td>13.975</td>  <th>  Cond. No.          </th> <td>1.80e+04</td> \n",
       "</tr>\n",
       "</table><br/><br/>Notes:<br/>[1] Standard Errors assume that the covariance matrix of the errors is correctly specified.<br/>[2] The condition number is large, 1.8e+04. This might indicate that there are<br/>strong multicollinearity or other numerical problems."
      ],
      "text/plain": [
       "<class 'statsmodels.iolib.summary.Summary'>\n",
       "\"\"\"\n",
       "                            OLS Regression Results                            \n",
       "==============================================================================\n",
       "Dep. Variable:                  Sales   R-squared:                       0.968\n",
       "Model:                            OLS   Adj. R-squared:                  0.967\n",
       "Method:                 Least Squares   F-statistic:                     1963.\n",
       "Date:                Fri, 17 Sep 2021   Prob (F-statistic):          6.68e-146\n",
       "Time:                        13:27:53   Log-Likelihood:                -270.14\n",
       "No. Observations:                 200   AIC:                             548.3\n",
       "Df Residuals:                     196   BIC:                             561.5\n",
       "Df Model:                           3                                         \n",
       "Covariance Type:            nonrobust                                         \n",
       "==============================================================================\n",
       "                 coef    std err          t      P>|t|      [0.025      0.975]\n",
       "------------------------------------------------------------------------------\n",
       "Intercept      6.7502      0.248     27.233      0.000       6.261       7.239\n",
       "TV             0.0191      0.002     12.699      0.000       0.016       0.022\n",
       "Radio          0.0289      0.009      3.241      0.001       0.011       0.046\n",
       "TV:Radio       0.0011   5.24e-05     20.727      0.000       0.001       0.001\n",
       "==============================================================================\n",
       "Omnibus:                      128.132   Durbin-Watson:                   2.224\n",
       "Prob(Omnibus):                  0.000   Jarque-Bera (JB):             1183.719\n",
       "Skew:                          -2.323   Prob(JB):                    9.09e-258\n",
       "Kurtosis:                      13.975   Cond. No.                     1.80e+04\n",
       "==============================================================================\n",
       "\n",
       "Notes:\n",
       "[1] Standard Errors assume that the covariance matrix of the errors is correctly specified.\n",
       "[2] The condition number is large, 1.8e+04. This might indicate that there are\n",
       "strong multicollinearity or other numerical problems.\n",
       "\"\"\""
      ]
     },
     "execution_count": 119,
     "metadata": {},
     "output_type": "execute_result"
    }
   ],
   "source": [
    "results = smf.ols(\"Sales ~  TV + Radio + TV * Radio\", data = df_adv).fit()\n",
    "results.summary()"
   ]
  },
  {
   "cell_type": "code",
   "execution_count": 122,
   "metadata": {},
   "outputs": [],
   "source": [
    "df_adv[\"sinergia\"] = df_adv.Radio * df_adv.TV"
   ]
  },
  {
   "cell_type": "code",
   "execution_count": 123,
   "metadata": {},
   "outputs": [
    {
     "data": {
      "text/html": [
       "<div>\n",
       "<style scoped>\n",
       "    .dataframe tbody tr th:only-of-type {\n",
       "        vertical-align: middle;\n",
       "    }\n",
       "\n",
       "    .dataframe tbody tr th {\n",
       "        vertical-align: top;\n",
       "    }\n",
       "\n",
       "    .dataframe thead th {\n",
       "        text-align: right;\n",
       "    }\n",
       "</style>\n",
       "<table border=\"1\" class=\"dataframe\">\n",
       "  <thead>\n",
       "    <tr style=\"text-align: right;\">\n",
       "      <th></th>\n",
       "      <th>TV</th>\n",
       "      <th>Radio</th>\n",
       "      <th>Newspaper</th>\n",
       "      <th>Sales</th>\n",
       "      <th>sinergia</th>\n",
       "    </tr>\n",
       "  </thead>\n",
       "  <tbody>\n",
       "    <tr>\n",
       "      <th>0</th>\n",
       "      <td>230.1</td>\n",
       "      <td>37.8</td>\n",
       "      <td>69.2</td>\n",
       "      <td>22.1</td>\n",
       "      <td>8697.78</td>\n",
       "    </tr>\n",
       "    <tr>\n",
       "      <th>1</th>\n",
       "      <td>44.5</td>\n",
       "      <td>39.3</td>\n",
       "      <td>45.1</td>\n",
       "      <td>10.4</td>\n",
       "      <td>1748.85</td>\n",
       "    </tr>\n",
       "    <tr>\n",
       "      <th>2</th>\n",
       "      <td>17.2</td>\n",
       "      <td>45.9</td>\n",
       "      <td>69.3</td>\n",
       "      <td>9.3</td>\n",
       "      <td>789.48</td>\n",
       "    </tr>\n",
       "    <tr>\n",
       "      <th>3</th>\n",
       "      <td>151.5</td>\n",
       "      <td>41.3</td>\n",
       "      <td>58.5</td>\n",
       "      <td>18.5</td>\n",
       "      <td>6256.95</td>\n",
       "    </tr>\n",
       "    <tr>\n",
       "      <th>4</th>\n",
       "      <td>180.8</td>\n",
       "      <td>10.8</td>\n",
       "      <td>58.4</td>\n",
       "      <td>12.9</td>\n",
       "      <td>1952.64</td>\n",
       "    </tr>\n",
       "  </tbody>\n",
       "</table>\n",
       "</div>"
      ],
      "text/plain": [
       "      TV  Radio  Newspaper  Sales  sinergia\n",
       "0  230.1   37.8       69.2   22.1   8697.78\n",
       "1   44.5   39.3       45.1   10.4   1748.85\n",
       "2   17.2   45.9       69.3    9.3    789.48\n",
       "3  151.5   41.3       58.5   18.5   6256.95\n",
       "4  180.8   10.8       58.4   12.9   1952.64"
      ]
     },
     "execution_count": 123,
     "metadata": {},
     "output_type": "execute_result"
    }
   ],
   "source": [
    "df_adv.head()"
   ]
  },
  {
   "cell_type": "markdown",
   "metadata": {},
   "source": [
    "La diferencia es que la covarianza nos da la dirección (positiva o negativa) entre las variables y la correlación nos da esto más la fuerza de esta."
   ]
  },
  {
   "cell_type": "markdown",
   "metadata": {},
   "source": [
    "Recuerde el **principio jerárquico:**\n",
    "\n",
    "\"*Si incluimos una interacción en un modelo, debemos incluir también los efectos principales, incluso si los valores p que se asocian a sus coeficientes no son significativos*\""
   ]
  },
  {
   "cell_type": "markdown",
   "metadata": {},
   "source": [
    "## Selección de modelo"
   ]
  },
  {
   "cell_type": "markdown",
   "metadata": {},
   "source": [
    "###  $R^2$ Ajustado \n",
    "Hay una cosa curiosa con $R^2$. ¡¡Mira lo que pasa cuando incluimos variables *al azar*!!"
   ]
  },
  {
   "cell_type": "code",
   "execution_count": 124,
   "metadata": {},
   "outputs": [],
   "source": [
    "df_adv['rand_1'] = np.random.normal(size=200)\n",
    "df_adv['rand_2'] = np.random.normal(size=200)\n",
    "df_adv['rand_3'] = np.random.normal(size=200)\n",
    "df_adv['rand_4'] = np.random.normal(size=200)\n",
    "df_adv['rand_5'] = np.random.normal(size=200)\n",
    "df_adv['rand_6'] = np.random.normal(size=200)\n",
    "df_adv['rand_7'] = np.random.normal(size=200)\n",
    "df_adv['rand_8'] = np.random.normal(size=200)"
   ]
  },
  {
   "cell_type": "code",
   "execution_count": 125,
   "metadata": {
    "scrolled": true
   },
   "outputs": [
    {
     "data": {
      "text/html": [
       "<div>\n",
       "<style scoped>\n",
       "    .dataframe tbody tr th:only-of-type {\n",
       "        vertical-align: middle;\n",
       "    }\n",
       "\n",
       "    .dataframe tbody tr th {\n",
       "        vertical-align: top;\n",
       "    }\n",
       "\n",
       "    .dataframe thead th {\n",
       "        text-align: right;\n",
       "    }\n",
       "</style>\n",
       "<table border=\"1\" class=\"dataframe\">\n",
       "  <thead>\n",
       "    <tr style=\"text-align: right;\">\n",
       "      <th></th>\n",
       "      <th>TV</th>\n",
       "      <th>Radio</th>\n",
       "      <th>Newspaper</th>\n",
       "      <th>Sales</th>\n",
       "      <th>sinergia</th>\n",
       "      <th>rand_1</th>\n",
       "      <th>rand_2</th>\n",
       "      <th>rand_3</th>\n",
       "      <th>rand_4</th>\n",
       "      <th>rand_5</th>\n",
       "      <th>rand_6</th>\n",
       "      <th>rand_7</th>\n",
       "      <th>rand_8</th>\n",
       "    </tr>\n",
       "  </thead>\n",
       "  <tbody>\n",
       "    <tr>\n",
       "      <th>0</th>\n",
       "      <td>230.1</td>\n",
       "      <td>37.8</td>\n",
       "      <td>69.2</td>\n",
       "      <td>22.1</td>\n",
       "      <td>8697.78</td>\n",
       "      <td>0.439668</td>\n",
       "      <td>-0.566408</td>\n",
       "      <td>-1.974329</td>\n",
       "      <td>-0.198292</td>\n",
       "      <td>-1.036348</td>\n",
       "      <td>1.176306</td>\n",
       "      <td>-0.969452</td>\n",
       "      <td>0.261087</td>\n",
       "    </tr>\n",
       "    <tr>\n",
       "      <th>1</th>\n",
       "      <td>44.5</td>\n",
       "      <td>39.3</td>\n",
       "      <td>45.1</td>\n",
       "      <td>10.4</td>\n",
       "      <td>1748.85</td>\n",
       "      <td>0.073097</td>\n",
       "      <td>-0.528124</td>\n",
       "      <td>0.881876</td>\n",
       "      <td>1.213754</td>\n",
       "      <td>0.211665</td>\n",
       "      <td>-0.094818</td>\n",
       "      <td>-1.411623</td>\n",
       "      <td>-1.097303</td>\n",
       "    </tr>\n",
       "    <tr>\n",
       "      <th>2</th>\n",
       "      <td>17.2</td>\n",
       "      <td>45.9</td>\n",
       "      <td>69.3</td>\n",
       "      <td>9.3</td>\n",
       "      <td>789.48</td>\n",
       "      <td>-1.211537</td>\n",
       "      <td>-0.659925</td>\n",
       "      <td>1.044786</td>\n",
       "      <td>-1.392697</td>\n",
       "      <td>1.554856</td>\n",
       "      <td>-2.092217</td>\n",
       "      <td>0.262871</td>\n",
       "      <td>0.345307</td>\n",
       "    </tr>\n",
       "    <tr>\n",
       "      <th>3</th>\n",
       "      <td>151.5</td>\n",
       "      <td>41.3</td>\n",
       "      <td>58.5</td>\n",
       "      <td>18.5</td>\n",
       "      <td>6256.95</td>\n",
       "      <td>0.302010</td>\n",
       "      <td>0.101246</td>\n",
       "      <td>0.999318</td>\n",
       "      <td>-0.774784</td>\n",
       "      <td>-0.735447</td>\n",
       "      <td>0.856927</td>\n",
       "      <td>0.599619</td>\n",
       "      <td>0.951723</td>\n",
       "    </tr>\n",
       "    <tr>\n",
       "      <th>4</th>\n",
       "      <td>180.8</td>\n",
       "      <td>10.8</td>\n",
       "      <td>58.4</td>\n",
       "      <td>12.9</td>\n",
       "      <td>1952.64</td>\n",
       "      <td>0.081466</td>\n",
       "      <td>-0.981297</td>\n",
       "      <td>0.978977</td>\n",
       "      <td>0.961889</td>\n",
       "      <td>1.436369</td>\n",
       "      <td>0.653216</td>\n",
       "      <td>0.606895</td>\n",
       "      <td>0.935259</td>\n",
       "    </tr>\n",
       "  </tbody>\n",
       "</table>\n",
       "</div>"
      ],
      "text/plain": [
       "      TV  Radio  Newspaper  Sales  sinergia    rand_1    rand_2    rand_3  \\\n",
       "0  230.1   37.8       69.2   22.1   8697.78  0.439668 -0.566408 -1.974329   \n",
       "1   44.5   39.3       45.1   10.4   1748.85  0.073097 -0.528124  0.881876   \n",
       "2   17.2   45.9       69.3    9.3    789.48 -1.211537 -0.659925  1.044786   \n",
       "3  151.5   41.3       58.5   18.5   6256.95  0.302010  0.101246  0.999318   \n",
       "4  180.8   10.8       58.4   12.9   1952.64  0.081466 -0.981297  0.978977   \n",
       "\n",
       "     rand_4    rand_5    rand_6    rand_7    rand_8  \n",
       "0 -0.198292 -1.036348  1.176306 -0.969452  0.261087  \n",
       "1  1.213754  0.211665 -0.094818 -1.411623 -1.097303  \n",
       "2 -1.392697  1.554856 -2.092217  0.262871  0.345307  \n",
       "3 -0.774784 -0.735447  0.856927  0.599619  0.951723  \n",
       "4  0.961889  1.436369  0.653216  0.606895  0.935259  "
      ]
     },
     "execution_count": 125,
     "metadata": {},
     "output_type": "execute_result"
    }
   ],
   "source": [
    "df_adv.head()"
   ]
  },
  {
   "cell_type": "code",
   "execution_count": 126,
   "metadata": {},
   "outputs": [
    {
     "data": {
      "text/html": [
       "<table class=\"simpletable\">\n",
       "<caption>OLS Regression Results</caption>\n",
       "<tr>\n",
       "  <th>Dep. Variable:</th>          <td>Sales</td>      <th>  R-squared:         </th> <td>   0.969</td> \n",
       "</tr>\n",
       "<tr>\n",
       "  <th>Model:</th>                   <td>OLS</td>       <th>  Adj. R-squared:    </th> <td>   0.967</td> \n",
       "</tr>\n",
       "<tr>\n",
       "  <th>Method:</th>             <td>Least Squares</td>  <th>  F-statistic:       </th> <td>   533.0</td> \n",
       "</tr>\n",
       "<tr>\n",
       "  <th>Date:</th>             <td>Fri, 17 Sep 2021</td> <th>  Prob (F-statistic):</th> <td>2.72e-135</td>\n",
       "</tr>\n",
       "<tr>\n",
       "  <th>Time:</th>                 <td>13:31:28</td>     <th>  Log-Likelihood:    </th> <td> -266.53</td> \n",
       "</tr>\n",
       "<tr>\n",
       "  <th>No. Observations:</th>      <td>   200</td>      <th>  AIC:               </th> <td>   557.1</td> \n",
       "</tr>\n",
       "<tr>\n",
       "  <th>Df Residuals:</th>          <td>   188</td>      <th>  BIC:               </th> <td>   596.6</td> \n",
       "</tr>\n",
       "<tr>\n",
       "  <th>Df Model:</th>              <td>    11</td>      <th>                     </th>     <td> </td>    \n",
       "</tr>\n",
       "<tr>\n",
       "  <th>Covariance Type:</th>      <td>nonrobust</td>    <th>                     </th>     <td> </td>    \n",
       "</tr>\n",
       "</table>\n",
       "<table class=\"simpletable\">\n",
       "<tr>\n",
       "      <td></td>         <th>coef</th>     <th>std err</th>      <th>t</th>      <th>P>|t|</th>  <th>[0.025</th>    <th>0.975]</th>  \n",
       "</tr>\n",
       "<tr>\n",
       "  <th>Intercept</th> <td>    6.7108</td> <td>    0.260</td> <td>   25.819</td> <td> 0.000</td> <td>    6.198</td> <td>    7.224</td>\n",
       "</tr>\n",
       "<tr>\n",
       "  <th>TV</th>        <td>    0.0190</td> <td>    0.002</td> <td>   12.196</td> <td> 0.000</td> <td>    0.016</td> <td>    0.022</td>\n",
       "</tr>\n",
       "<tr>\n",
       "  <th>Radio</th>     <td>    0.0303</td> <td>    0.009</td> <td>    3.269</td> <td> 0.001</td> <td>    0.012</td> <td>    0.049</td>\n",
       "</tr>\n",
       "<tr>\n",
       "  <th>TV:Radio</th>  <td>    0.0011</td> <td>  5.4e-05</td> <td>   20.069</td> <td> 0.000</td> <td>    0.001</td> <td>    0.001</td>\n",
       "</tr>\n",
       "<tr>\n",
       "  <th>rand_1</th>    <td>    0.0291</td> <td>    0.064</td> <td>    0.454</td> <td> 0.651</td> <td>   -0.097</td> <td>    0.156</td>\n",
       "</tr>\n",
       "<tr>\n",
       "  <th>rand_2</th>    <td>   -0.0153</td> <td>    0.070</td> <td>   -0.219</td> <td> 0.827</td> <td>   -0.153</td> <td>    0.122</td>\n",
       "</tr>\n",
       "<tr>\n",
       "  <th>rand_3</th>    <td>   -0.0511</td> <td>    0.070</td> <td>   -0.733</td> <td> 0.465</td> <td>   -0.189</td> <td>    0.086</td>\n",
       "</tr>\n",
       "<tr>\n",
       "  <th>rand_4</th>    <td>    0.0335</td> <td>    0.073</td> <td>    0.459</td> <td> 0.647</td> <td>   -0.111</td> <td>    0.178</td>\n",
       "</tr>\n",
       "<tr>\n",
       "  <th>rand_5</th>    <td>    0.0364</td> <td>    0.069</td> <td>    0.527</td> <td> 0.599</td> <td>   -0.100</td> <td>    0.173</td>\n",
       "</tr>\n",
       "<tr>\n",
       "  <th>rand_6</th>    <td>   -0.0108</td> <td>    0.073</td> <td>   -0.149</td> <td> 0.882</td> <td>   -0.154</td> <td>    0.132</td>\n",
       "</tr>\n",
       "<tr>\n",
       "  <th>rand_7</th>    <td>    0.1540</td> <td>    0.070</td> <td>    2.209</td> <td> 0.028</td> <td>    0.017</td> <td>    0.292</td>\n",
       "</tr>\n",
       "<tr>\n",
       "  <th>rand_8</th>    <td>    0.0084</td> <td>    0.065</td> <td>    0.131</td> <td> 0.896</td> <td>   -0.119</td> <td>    0.136</td>\n",
       "</tr>\n",
       "</table>\n",
       "<table class=\"simpletable\">\n",
       "<tr>\n",
       "  <th>Omnibus:</th>       <td>126.406</td> <th>  Durbin-Watson:     </th> <td>   2.143</td> \n",
       "</tr>\n",
       "<tr>\n",
       "  <th>Prob(Omnibus):</th> <td> 0.000</td>  <th>  Jarque-Bera (JB):  </th> <td>1200.487</td> \n",
       "</tr>\n",
       "<tr>\n",
       "  <th>Skew:</th>          <td>-2.267</td>  <th>  Prob(JB):          </th> <td>2.08e-261</td>\n",
       "</tr>\n",
       "<tr>\n",
       "  <th>Kurtosis:</th>      <td>14.113</td>  <th>  Cond. No.          </th> <td>1.89e+04</td> \n",
       "</tr>\n",
       "</table><br/><br/>Notes:<br/>[1] Standard Errors assume that the covariance matrix of the errors is correctly specified.<br/>[2] The condition number is large, 1.89e+04. This might indicate that there are<br/>strong multicollinearity or other numerical problems."
      ],
      "text/plain": [
       "<class 'statsmodels.iolib.summary.Summary'>\n",
       "\"\"\"\n",
       "                            OLS Regression Results                            \n",
       "==============================================================================\n",
       "Dep. Variable:                  Sales   R-squared:                       0.969\n",
       "Model:                            OLS   Adj. R-squared:                  0.967\n",
       "Method:                 Least Squares   F-statistic:                     533.0\n",
       "Date:                Fri, 17 Sep 2021   Prob (F-statistic):          2.72e-135\n",
       "Time:                        13:31:28   Log-Likelihood:                -266.53\n",
       "No. Observations:                 200   AIC:                             557.1\n",
       "Df Residuals:                     188   BIC:                             596.6\n",
       "Df Model:                          11                                         \n",
       "Covariance Type:            nonrobust                                         \n",
       "==============================================================================\n",
       "                 coef    std err          t      P>|t|      [0.025      0.975]\n",
       "------------------------------------------------------------------------------\n",
       "Intercept      6.7108      0.260     25.819      0.000       6.198       7.224\n",
       "TV             0.0190      0.002     12.196      0.000       0.016       0.022\n",
       "Radio          0.0303      0.009      3.269      0.001       0.012       0.049\n",
       "TV:Radio       0.0011    5.4e-05     20.069      0.000       0.001       0.001\n",
       "rand_1         0.0291      0.064      0.454      0.651      -0.097       0.156\n",
       "rand_2        -0.0153      0.070     -0.219      0.827      -0.153       0.122\n",
       "rand_3        -0.0511      0.070     -0.733      0.465      -0.189       0.086\n",
       "rand_4         0.0335      0.073      0.459      0.647      -0.111       0.178\n",
       "rand_5         0.0364      0.069      0.527      0.599      -0.100       0.173\n",
       "rand_6        -0.0108      0.073     -0.149      0.882      -0.154       0.132\n",
       "rand_7         0.1540      0.070      2.209      0.028       0.017       0.292\n",
       "rand_8         0.0084      0.065      0.131      0.896      -0.119       0.136\n",
       "==============================================================================\n",
       "Omnibus:                      126.406   Durbin-Watson:                   2.143\n",
       "Prob(Omnibus):                  0.000   Jarque-Bera (JB):             1200.487\n",
       "Skew:                          -2.267   Prob(JB):                    2.08e-261\n",
       "Kurtosis:                      14.113   Cond. No.                     1.89e+04\n",
       "==============================================================================\n",
       "\n",
       "Notes:\n",
       "[1] Standard Errors assume that the covariance matrix of the errors is correctly specified.\n",
       "[2] The condition number is large, 1.89e+04. This might indicate that there are\n",
       "strong multicollinearity or other numerical problems.\n",
       "\"\"\""
      ]
     },
     "execution_count": 126,
     "metadata": {},
     "output_type": "execute_result"
    }
   ],
   "source": [
    "results = smf.ols(\"Sales ~  TV + Radio + TV * Radio + rand_1 + rand_2 + rand_3 + rand_4 + rand_5 + rand_6 + rand_7 + rand_8\", data = df_adv).fit()\n",
    "results.summary()"
   ]
  },
  {
   "cell_type": "markdown",
   "metadata": {},
   "source": [
    "El coeficiente `Adj. R-cuadrado` pretende penalizar el $R^2$ de un modelo cuando se incluyen *demasiadas* varaibles. \n",
    "$$\\bar R^2 = 1-\\frac{(1-R^2)(n-1)}{n-p-1}$$\n",
    "donde  \n",
    " * $n$ número de observaciones (filas)\n",
    " * $p$ número de variables"
   ]
  },
  {
   "cell_type": "markdown",
   "metadata": {},
   "source": [
    "## Selección por pasos\n",
    "Siempre hay que intentar tener un modelo lo más sencillo posible. Habrá otras formas de hacerlo utilizando la **regularización**, veremos más adelante cómo hay librerías que nos ayudarán a decidir si nos quedamos con unas u otras variables, pero hasta ahora los métodos que describimos aquí son bastante útiles."
   ]
  },
  {
   "cell_type": "markdown",
   "metadata": {},
   "source": [
    "### Best subset selection"
   ]
  },
  {
   "cell_type": "markdown",
   "metadata": {},
   "source": [
    "El proceso de best subset selection consiste en evaluar todos los posibles modelos que se pueden crear por combinación de los predictores disponibles. El algoritmo a seguir para k predictores es:\n",
    "\n",
    "- Se genera lo que se conoce como modelo nulo (M0), que es el modelo sin ningún predictor.\n",
    "\n",
    "- Se generan todos los posibles modelos que contienen un único predictor y se selecciona el que tiene menor error de entrenamiento. Al modelo seleccionado se denomina (M1).\n",
    "\n",
    "- Se repite el paso anterior para modelos con dos predictores y así sucesivamente hasta llegar al modelo con todos los predictores (Mk).\n",
    "\n",
    "- De entre los mejores modelos seleccionados para cada número de predictores (M0, M1, M2,…,Mk) se identifica el mejor modelo, esta vez empleando una métrica de validación (R2 Ajustado).     \n",
    "\n",
    "A pesar de que este método explora todas las posibilidades, tiene dos limitaciones fundamentales:\n",
    "Requerimientos computacionales: Se requiere calcular 2p modelos distintos, lo que lo hace inviable para más de 40 predictores.\n",
    "Problemas de overfitting. Al generarse tantos modelos, por simple azar se pueden encontrar buenos resultados. Por esta razón best subset selection no se ecominda si hay más de 10 predictores."
   ]
  },
  {
   "cell_type": "markdown",
   "metadata": {},
   "source": [
    "### Modelo nulo"
   ]
  },
  {
   "cell_type": "code",
   "execution_count": 127,
   "metadata": {},
   "outputs": [
    {
     "data": {
      "text/html": [
       "<table class=\"simpletable\">\n",
       "<caption>OLS Regression Results</caption>\n",
       "<tr>\n",
       "  <th>Dep. Variable:</th>          <td>Sales</td>      <th>  R-squared:         </th> <td>   0.000</td>\n",
       "</tr>\n",
       "<tr>\n",
       "  <th>Model:</th>                   <td>OLS</td>       <th>  Adj. R-squared:    </th> <td>   0.000</td>\n",
       "</tr>\n",
       "<tr>\n",
       "  <th>Method:</th>             <td>Least Squares</td>  <th>  F-statistic:       </th> <td>     nan</td>\n",
       "</tr>\n",
       "<tr>\n",
       "  <th>Date:</th>             <td>Fri, 17 Sep 2021</td> <th>  Prob (F-statistic):</th>  <td>   nan</td> \n",
       "</tr>\n",
       "<tr>\n",
       "  <th>Time:</th>                 <td>13:35:03</td>     <th>  Log-Likelihood:    </th> <td> -613.69</td>\n",
       "</tr>\n",
       "<tr>\n",
       "  <th>No. Observations:</th>      <td>   200</td>      <th>  AIC:               </th> <td>   1229.</td>\n",
       "</tr>\n",
       "<tr>\n",
       "  <th>Df Residuals:</th>          <td>   199</td>      <th>  BIC:               </th> <td>   1233.</td>\n",
       "</tr>\n",
       "<tr>\n",
       "  <th>Df Model:</th>              <td>     0</td>      <th>                     </th>     <td> </td>   \n",
       "</tr>\n",
       "<tr>\n",
       "  <th>Covariance Type:</th>      <td>nonrobust</td>    <th>                     </th>     <td> </td>   \n",
       "</tr>\n",
       "</table>\n",
       "<table class=\"simpletable\">\n",
       "<tr>\n",
       "      <td></td>         <th>coef</th>     <th>std err</th>      <th>t</th>      <th>P>|t|</th>  <th>[0.025</th>    <th>0.975]</th>  \n",
       "</tr>\n",
       "<tr>\n",
       "  <th>Intercept</th> <td>   14.0225</td> <td>    0.369</td> <td>   38.009</td> <td> 0.000</td> <td>   13.295</td> <td>   14.750</td>\n",
       "</tr>\n",
       "</table>\n",
       "<table class=\"simpletable\">\n",
       "<tr>\n",
       "  <th>Omnibus:</th>       <td> 7.344</td> <th>  Durbin-Watson:     </th> <td>   1.969</td>\n",
       "</tr>\n",
       "<tr>\n",
       "  <th>Prob(Omnibus):</th> <td> 0.025</td> <th>  Jarque-Bera (JB):  </th> <td>   6.985</td>\n",
       "</tr>\n",
       "<tr>\n",
       "  <th>Skew:</th>          <td> 0.405</td> <th>  Prob(JB):          </th> <td>  0.0304</td>\n",
       "</tr>\n",
       "<tr>\n",
       "  <th>Kurtosis:</th>      <td> 2.571</td> <th>  Cond. No.          </th> <td>    1.00</td>\n",
       "</tr>\n",
       "</table><br/><br/>Notes:<br/>[1] Standard Errors assume that the covariance matrix of the errors is correctly specified."
      ],
      "text/plain": [
       "<class 'statsmodels.iolib.summary.Summary'>\n",
       "\"\"\"\n",
       "                            OLS Regression Results                            \n",
       "==============================================================================\n",
       "Dep. Variable:                  Sales   R-squared:                       0.000\n",
       "Model:                            OLS   Adj. R-squared:                  0.000\n",
       "Method:                 Least Squares   F-statistic:                       nan\n",
       "Date:                Fri, 17 Sep 2021   Prob (F-statistic):                nan\n",
       "Time:                        13:35:03   Log-Likelihood:                -613.69\n",
       "No. Observations:                 200   AIC:                             1229.\n",
       "Df Residuals:                     199   BIC:                             1233.\n",
       "Df Model:                           0                                         \n",
       "Covariance Type:            nonrobust                                         \n",
       "==============================================================================\n",
       "                 coef    std err          t      P>|t|      [0.025      0.975]\n",
       "------------------------------------------------------------------------------\n",
       "Intercept     14.0225      0.369     38.009      0.000      13.295      14.750\n",
       "==============================================================================\n",
       "Omnibus:                        7.344   Durbin-Watson:                   1.969\n",
       "Prob(Omnibus):                  0.025   Jarque-Bera (JB):                6.985\n",
       "Skew:                           0.405   Prob(JB):                       0.0304\n",
       "Kurtosis:                       2.571   Cond. No.                         1.00\n",
       "==============================================================================\n",
       "\n",
       "Notes:\n",
       "[1] Standard Errors assume that the covariance matrix of the errors is correctly specified.\n",
       "\"\"\""
      ]
     },
     "execution_count": 127,
     "metadata": {},
     "output_type": "execute_result"
    }
   ],
   "source": [
    "results = smf.ols(\"Sales ~ 1\", data=df_adv).fit()\n",
    "results.summary()"
   ]
  },
  {
   "cell_type": "markdown",
   "metadata": {},
   "source": [
    "### Forward stepwise selection\n",
    "\n",
    "Forward stepwise selection es una alternativa computacionalmente más eficiente que best subset selection, en la que no se evalúan todas las posibles combinaciones de predictores sino solo un subconjunto. El proceso se inicia generando el modelo nulo (M0) sin predictores. A continuación, se generan todos los posibles modelos que se pueden crear añadiendo un predictor al modelo nulo. De entre todos estos modelos con 1 predictor se selecciona el mejor basándose en el error de entrenamiento, al modelo elegido se denomina M1. Se repite el paso anterior, pero esta vez partiendo del último modelo seleccionado y así sucesivamente hasta llegar al modelo con todos los predictores. De entre los mejores modelos seleccionados para cada número de predictores (M0, M1, M2,…,Mk), se identifica el mejor, esta vez empleando una métrica de validación (validación cruzada, Cp, AIC, BIC o R2ajustado).\n",
    "\n",
    "Al crear modelos anidados, en los que el modelo k se construye a partir del modelo k−1, el método forward stepwise selection no garantiza que se seleccione el mejor modelo de entre todos los posibles, ya que no se evalúan todas las posibles combinaciones. Sin embargo, suele llegar a modelos óptimos consiguiendo un buen rendimiento computacional y evitando el overfitting. Otra ventaja añadida es que, forward stepwise selection puede emplearse incluso cuando el número de predictores es mayor que el de observaciones"
   ]
  },
  {
   "cell_type": "markdown",
   "metadata": {},
   "source": [
    "Primero:  \n",
    "1. Todos los modelos con una sola variable. Uno gana. Ganador A\n",
    "2. Añade a este modelo todas las variables, una por una. Uno gana. Ganador B \n",
    "3. Añade a este modelo todas las variables, una por una. Uno gana. Ganador C\n",
    "...\n",
    "...\n",
    "\n",
    "FIN: tomar el ganador entre A, B, C, D...\n",
    "\n",
    "Si R2 tiene dos decimales iguales, consideramos el modelo con más variables representativas."
   ]
  },
  {
   "cell_type": "markdown",
   "metadata": {},
   "source": [
    "## Problemas potenciales en la regresión lineal\n",
    "\n",
    "Los principales supuestos de un modelo lineal son:\n",
    "\n",
    "* Los datos son lineales \n",
    "* Los errores no están correlacionados\n",
    "* La varianza de los términos de error es constante\n",
    "\n",
    "¿Qué ocurre si no se cumplen estos supuestos? \n",
    "\n",
    "Además, nuestros modelos pueden sufrir otros problemas como:\n",
    "* Valores atípicos\n",
    "* Puntos de apalancamiento elevados\n",
    "* Colinealidad\n",
    "* Valores perdidos\n",
    "\n",
    "Ved este [vídeo](https://www.youtube.com/watch?v=hVe2F9krrWk) para una introducción al tema.     "
   ]
  },
  {
   "cell_type": "markdown",
   "metadata": {},
   "source": [
    "Estos cuatro conjuntos de datos son distintos, pero resulta que tienen la misma media aritmética y varianza de los valores x e y, la misma correlación, el mismo coeficiente de correlación y la misma recta de regresión. algunos con 2 ó 3 decimales. Son el Cuarteto de Anscombe, llamado así por F.J. Anscombe, un matemático estadista que los publicó en 1973. Se suelen utilizara para enseñar que además de calcular las propiedades estadística de los datos, conviene visualizarlos.\n",
    "\n",
    "En todos los casos las representaciones nos dicen algo más sobre los datos: los primeros parecen un tanto aleatorios pero relacionados, los segundos muestran un patrón claro pero notablemente diferente; en el tercero y el cuarto hay otros patrones enturbiados por algunos valores anómalos. Estos valores pueden ser errores, datos reales que simplemente están fuera de lo normal o incluso datos producidos artificialmente para que todo encaje.\n",
    "\n",
    "Moraleja: no te fíes ciegamente de los datos y tampoco de las estadísticas que obtenga de ellos; procura montar además una visualización para entenderlos.\n",
    "![anscombe](../images/anscombe.png)"
   ]
  },
  {
   "cell_type": "markdown",
   "metadata": {},
   "source": [
    "Echa un ojo a [Wikipedia](https://en.wikipedia.org/wiki/Anscombe%27s_quartet) que dice que:       \n",
    "El cuarteto de Anscombe consta de cuatro conjuntos de datos que tienen estadísticas descriptivas simples casi idénticas, pero que tienen distribuciones muy diferentes y aparecen de forma muy distinta cuando se grafican. Cada conjunto de datos consta de once puntos (x,y). Fueron construidos en 1973 por el estadístico Francis Anscombe para demostrar tanto la importancia de graficar los datos antes de analizarlos como el efecto de los valores atípicos y otras observaciones influyentes en las propiedades estadísticas. Describió el artículo como un intento de contrarrestar la impresión entre los estadísticos de que \"los cálculos numéricos son exactos, pero los gráficos son toscos\""
   ]
  },
  {
   "cell_type": "markdown",
   "metadata": {},
   "source": [
    "## Resumen "
   ]
  },
  {
   "cell_type": "markdown",
   "metadata": {},
   "source": [
    "- Cómo evaluar a partir de distintas métricas si nuestro modelo es bueno o malo (R2,RMSE,MSE,MAE)\n",
    "- P valor importante: nos ayuda a saber si las variables predictoras son significativas o no\n",
    "- Tener en cuenta posibles efectos multiplicadores sobre las variables (desafiamos la suposición aditiva, tenemos dominio de los datos)\n",
    "- R2 Ajustado siempre va a ser menor que el R2 porque resta por cada columna/variable\n",
    "- Variables categóricas - Las encodeamos con GET DUMMIES \n",
    "- Summary del OLS no solo vemos los coeficientes (intercept / coef de cada variable) si no también la importancia de esas variables, el R2 y otras pruebas estadísticas\n",
    "- Al final lo que queremos calcular cuando hacemos una regresión o nos enfrentamos a un problema de regresión lineal ya sea con una variable o multivariable es LA ECUACIÓN DE UNA RECTA por eso tendremos la ordenada en el origen y la pendiente, será una recta de N dimensiones si tengo N variables\n"
   ]
  },
  {
   "cell_type": "markdown",
   "metadata": {},
   "source": [
    "## Further Materials \n",
    "\n",
    "* One example of [linear regression with the Boston data set](https://towardsdatascience.com/linear-regression-on-boston-housing-dataset-f409b7e4a155)"
   ]
  }
 ],
 "metadata": {
  "kernelspec": {
   "display_name": "Python 3",
   "language": "python",
   "name": "python3"
  },
  "language_info": {
   "codemirror_mode": {
    "name": "ipython",
    "version": 3
   },
   "file_extension": ".py",
   "mimetype": "text/x-python",
   "name": "python",
   "nbconvert_exporter": "python",
   "pygments_lexer": "ipython3",
   "version": "3.8.5"
  },
  "toc": {
   "base_numbering": 1,
   "nav_menu": {},
   "number_sections": true,
   "sideBar": true,
   "skip_h1_title": true,
   "title_cell": "Table of Contents",
   "title_sidebar": "Contents",
   "toc_cell": true,
   "toc_position": {
    "height": "calc(100% - 180px)",
    "left": "10px",
    "top": "150px",
    "width": "288px"
   },
   "toc_section_display": true,
   "toc_window_display": true
  },
  "varInspector": {
   "cols": {
    "lenName": 16,
    "lenType": 16,
    "lenVar": 40
   },
   "kernels_config": {
    "python": {
     "delete_cmd_postfix": "",
     "delete_cmd_prefix": "del ",
     "library": "var_list.py",
     "varRefreshCmd": "print(var_dic_list())"
    },
    "r": {
     "delete_cmd_postfix": ") ",
     "delete_cmd_prefix": "rm(",
     "library": "var_list.r",
     "varRefreshCmd": "cat(var_dic_list()) "
    }
   },
   "types_to_exclude": [
    "module",
    "function",
    "builtin_function_or_method",
    "instance",
    "_Feature"
   ],
   "window_display": false
  }
 },
 "nbformat": 4,
 "nbformat_minor": 5
}
