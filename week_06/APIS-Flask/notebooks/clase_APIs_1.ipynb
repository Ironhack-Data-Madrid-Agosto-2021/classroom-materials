{
 "cells": [
  {
   "cell_type": "markdown",
   "metadata": {
    "toc": true
   },
   "source": [
    "<h1>Table of Contents<span class=\"tocSkip\"></span></h1>\n",
    "<div class=\"toc\"><ul class=\"toc-item\"><li><span><a href=\"#¿Qué-es-Flask?\" data-toc-modified-id=\"¿Qué-es-Flask?-1\"><span class=\"toc-item-num\">1&nbsp;&nbsp;</span>¿Qué es Flask?</a></span><ul class=\"toc-item\"><li><span><a href=\"#Doc-de-Flask\" data-toc-modified-id=\"Doc-de-Flask-1.1\"><span class=\"toc-item-num\">1.1&nbsp;&nbsp;</span>Doc de Flask</a></span></li><li><span><a href=\"#Otros-frameworks\" data-toc-modified-id=\"Otros-frameworks-1.2\"><span class=\"toc-item-num\">1.2&nbsp;&nbsp;</span>Otros frameworks</a></span></li></ul></li><li><span><a href=\"#Introducción-a-los-decoradores\" data-toc-modified-id=\"Introducción-a-los-decoradores-2\"><span class=\"toc-item-num\">2&nbsp;&nbsp;</span>Introducción a los decoradores</a></span><ul class=\"toc-item\"><li><span><a href=\"#¿Qué-son-los-decoradores?\" data-toc-modified-id=\"¿Qué-son-los-decoradores?-2.1\"><span class=\"toc-item-num\">2.1&nbsp;&nbsp;</span>¿Qué son los decoradores?</a></span></li><li><span><a href=\"#Estructura\" data-toc-modified-id=\"Estructura-2.2\"><span class=\"toc-item-num\">2.2&nbsp;&nbsp;</span>Estructura</a></span></li><li><span><a href=\"#Vamos-allá\" data-toc-modified-id=\"Vamos-allá-2.3\"><span class=\"toc-item-num\">2.3&nbsp;&nbsp;</span>Vamos allá</a></span></li><li><span><a href=\"#Otro-ejemplo-que-nos-puede-servir-para-hacer-funciones-de-Error-Handling\" data-toc-modified-id=\"Otro-ejemplo-que-nos-puede-servir-para-hacer-funciones-de-Error-Handling-2.4\"><span class=\"toc-item-num\">2.4&nbsp;&nbsp;</span>Otro ejemplo que nos puede servir para hacer funciones de Error Handling</a></span><ul class=\"toc-item\"><li><span><a href=\"#¡¡Hagámoslo!!-🚀\" data-toc-modified-id=\"¡¡Hagámoslo!!-🚀-2.4.1\"><span class=\"toc-item-num\">2.4.1&nbsp;&nbsp;</span>¡¡Hagámoslo!! 🚀</a></span></li></ul></li></ul></li><li><span><a href=\"#Vamos-a-crear-una-API\" data-toc-modified-id=\"Vamos-a-crear-una-API-3\"><span class=\"toc-item-num\">3&nbsp;&nbsp;</span>Vamos a crear una API</a></span><ul class=\"toc-item\"><li><span><a href=\"#Allá-vamos-🔥\" data-toc-modified-id=\"Allá-vamos-🔥-3.1\"><span class=\"toc-item-num\">3.1&nbsp;&nbsp;</span>Allá vamos 🔥</a></span></li></ul></li><li><span><a href=\"#Resumen\" data-toc-modified-id=\"Resumen-4\"><span class=\"toc-item-num\">4&nbsp;&nbsp;</span>Resumen</a></span></li></ul></div>"
   ]
  },
  {
   "cell_type": "markdown",
   "metadata": {},
   "source": [
    "# API CON PYTHON"
   ]
  },
  {
   "cell_type": "markdown",
   "metadata": {},
   "source": [
    "![cover](../images/cover.jpg)"
   ]
  },
  {
   "cell_type": "markdown",
   "metadata": {},
   "source": [
    "## ¿Qué es Flask?"
   ]
  },
  {
   "cell_type": "markdown",
   "metadata": {},
   "source": [
    "Flask es un framework minimalista escrito en Python que permite crear aplicaciones web rápidamente y con un mínimo número de líneas de código"
   ]
  },
  {
   "cell_type": "markdown",
   "metadata": {},
   "source": [
    "### Doc de Flask"
   ]
  },
  {
   "cell_type": "markdown",
   "metadata": {},
   "source": [
    "- https://flask.palletsprojects.com/en/1.1.x/"
   ]
  },
  {
   "cell_type": "markdown",
   "metadata": {},
   "source": [
    "### Otros frameworks"
   ]
  },
  {
   "cell_type": "markdown",
   "metadata": {},
   "source": [
    "- https://www.streamlit.io/\n",
    "- https://fastapi.tiangolo.com/"
   ]
  },
  {
   "cell_type": "markdown",
   "metadata": {},
   "source": [
    "## Introducción a los decoradores"
   ]
  },
  {
   "cell_type": "markdown",
   "metadata": {},
   "source": [
    "### ¿Qué son los decoradores?"
   ]
  },
  {
   "cell_type": "markdown",
   "metadata": {},
   "source": [
    "Los decoradores son en sí mismos funciones, que toman como argumento una función y retornan otra función. \n",
    "Funciones que añaden \"funcionalidades\" a otras funciones.\n",
    "Realmente son 3 funciones:\n",
    "A, B Y C\n",
    "Donde:\n",
    "A es una función que recibe como parámetro B para devolver C\n",
    "\n",
    "\n",
    "Decoradores\n",
    "Los decoradores se añadieron en Python 2.4 para facilitar la lectura y la comprensión de la envoltura de funciones y métodos (una función que recibe una función y devuelve otra mejorada). El caso de uso original era poder definir los métodos como métodos de clase o métodos estáticos, en la cabeza de su definición. La sintaxis antes de los decoradores era:\n",
    "\n",
    "```python\n",
    "class WhatFor(object):\n",
    "    def it(cls):\n",
    "        print 'work with %s' % cls\n",
    "    it = classmethod(it)\n",
    "    def uncommon():\n",
    "        print 'I could be a global function'\n",
    "    uncommon = staticmethod(uncommon)\n",
    "```\n",
    "\n",
    "Esta sintaxis se hacía difícil de leer cuando los métodos se hacían grandes, o se hacían varias transformaciones sobre los métodos.\n",
    "La sintaxis del decorador es más ligera y fácil de entender:\n",
    "\n",
    "```python\n",
    "class WhatFor(object):\n",
    "    @classmethod\n",
    "    def it(cls):\n",
    "        print 'work with %s' % cls\n",
    "    @staticmethod\n",
    "    def uncommon():\n",
    "        print 'I could be a global function'\n",
    "```"
   ]
  },
  {
   "cell_type": "markdown",
   "metadata": {},
   "source": [
    "### Estructura\n",
    "Cómo escribir un decorador\n",
    "Hay muchas formas de escribir decoradores personalizados, pero la forma más sencilla y legible es escribir una función que devuelva una subfunción que envuelva la llamada a la función original.\n",
    "Un patrón genérico es:\n",
    "\n",
    "```python\n",
    "def mydecorator(function):\n",
    "    def _mydecorator(*args, **kw):\n",
    "        # do some stuff before the real\n",
    "        # function gets called\n",
    "        res = function(*args, **kw)\n",
    "```"
   ]
  },
  {
   "cell_type": "markdown",
   "metadata": {},
   "source": [
    "### Vamos allá\n",
    "Recordamos 🤔    \n",
    "Realmente son 3 funciones:\n",
    "A, B Y C    \n",
    "Donde:    \n",
    "A es una función que recibe como parámetro B para devolver C"
   ]
  },
  {
   "cell_type": "code",
   "execution_count": null,
   "metadata": {},
   "outputs": [],
   "source": [
    "def función_decorador(función): \n",
    "    def función_interna(*args,**kw): \n",
    "        #código de la función interna\n",
    "        pass\n",
    "    return función_interna\n",
    "\n",
    "#función_decorador = Función A\n",
    "#función = Función B\n",
    "#función_interna = #Función C"
   ]
  },
  {
   "cell_type": "code",
   "execution_count": null,
   "metadata": {},
   "outputs": [],
   "source": [
    "import random"
   ]
  },
  {
   "cell_type": "code",
   "execution_count": null,
   "metadata": {},
   "outputs": [],
   "source": [
    "def rosalia(fn):\n",
    "    def wrapper(*args,**kw):\n",
    "        #acciones adicionales que decoran\n",
    "        print(*args)\n",
    "        frase = random.choice([\"Malamente\", \"Trá Trá\", \"Con Altura\", \"La Rosalía\"])\n",
    "        otrochoice = random.choice(*args)\n",
    "        return f\"{fn(*args, **kw)} dice {frase} por las mañanas a {otrochoice}\"\n",
    "    return wrapper"
   ]
  },
  {
   "cell_type": "code",
   "execution_count": null,
   "metadata": {},
   "outputs": [],
   "source": [
    "@rosalia\n",
    "def escoge(lista):\n",
    "    persona = random.choice(lista)\n",
    "    return persona"
   ]
  },
  {
   "cell_type": "code",
   "execution_count": null,
   "metadata": {},
   "outputs": [],
   "source": [
    "personas = [\"Ana\", \"Víctor\", \"Ras\", \"Sheriff\", \"Clase\"]"
   ]
  },
  {
   "cell_type": "code",
   "execution_count": null,
   "metadata": {},
   "outputs": [],
   "source": [
    "escoge(personas)"
   ]
  },
  {
   "cell_type": "markdown",
   "metadata": {},
   "source": [
    "### Otro ejemplo que nos puede servir para hacer funciones de Error Handling"
   ]
  },
  {
   "cell_type": "code",
   "execution_count": null,
   "metadata": {},
   "outputs": [],
   "source": [
    "def check(fn):\n",
    "    def wrapper(*args,**kw):\n",
    "        try:\n",
    "            print(\"Ejecutando tu función\")\n",
    "            return fn(*args,**kw)\n",
    "        except Exception as e:\n",
    "            print(\"error 404\")\n",
    "            return { \"error\": str(e)\n",
    "            }\n",
    "    return wrapper"
   ]
  },
  {
   "cell_type": "code",
   "execution_count": null,
   "metadata": {},
   "outputs": [],
   "source": [
    "import requests"
   ]
  },
  {
   "cell_type": "code",
   "execution_count": null,
   "metadata": {},
   "outputs": [],
   "source": [
    "@check\n",
    "def request(web):\n",
    "    response = requests.get(f\"{web}\")\n",
    "    return response"
   ]
  },
  {
   "cell_type": "code",
   "execution_count": null,
   "metadata": {},
   "outputs": [],
   "source": [
    "request(\"https://elpais.com\")"
   ]
  },
  {
   "cell_type": "code",
   "execution_count": null,
   "metadata": {},
   "outputs": [],
   "source": [
    "request(\"https://elpaldfhais.com\")"
   ]
  },
  {
   "cell_type": "markdown",
   "metadata": {},
   "source": [
    "#### ¡¡Hagámoslo!! 🚀\n",
    "- Crea una función básica que realice una suma, resta o alguna funcionalidad muy sencilla.\n",
    "- Crea un decorador que imprima un mensaje por pantalla cada vez que esa función es llamada"
   ]
  },
  {
   "cell_type": "markdown",
   "metadata": {},
   "source": [
    "## Vamos a crear una API"
   ]
  },
  {
   "cell_type": "markdown",
   "metadata": {},
   "source": [
    "API significa interfaz de programación de aplicaciones.\n",
    "Las API permiten que sus productos y servicios se comuniquen con otros, sin necesidad de saber cómo están implementados.\n",
    "Vamos a utilizar una API como elemento intermediario entre una base de datos y un usuario que quiere consultarla sin saber programación."
   ]
  },
  {
   "cell_type": "code",
   "execution_count": null,
   "metadata": {},
   "outputs": [],
   "source": [
    "!pip install Flask"
   ]
  },
  {
   "cell_type": "markdown",
   "metadata": {},
   "source": [
    "### Allá vamos 🔥"
   ]
  },
  {
   "cell_type": "code",
   "execution_count": null,
   "metadata": {},
   "outputs": [],
   "source": [
    "from flask import Flask\n",
    "app = Flask(__name__)\n",
    "\n",
    "\n",
    "@app.route(\"/\")\n",
    "def inicial():\n",
    "    return \"hola mundo\"\n",
    "\n",
    "@app.route(\"/otro\")\n",
    "def otracosa():\n",
    "    print(\"qué pasa\")\n",
    "    variable = 3\n",
    "    return \"hola qué tal\"\n",
    "\n",
    "if __name__ == '__main__':\n",
    "    app.run(debug=False)"
   ]
  },
  {
   "cell_type": "markdown",
   "metadata": {},
   "source": [
    "## Resumen"
   ]
  },
  {
   "cell_type": "markdown",
   "metadata": {},
   "source": [
    "Es tu turno ¿Qué hemos visto hoy?"
   ]
  },
  {
   "cell_type": "code",
   "execution_count": null,
   "metadata": {},
   "outputs": [],
   "source": []
  }
 ],
 "metadata": {
  "kernelspec": {
   "display_name": "ironhack",
   "language": "python",
   "name": "ironhack"
  },
  "language_info": {
   "codemirror_mode": {
    "name": "ipython",
    "version": 3
   },
   "file_extension": ".py",
   "mimetype": "text/x-python",
   "name": "python",
   "nbconvert_exporter": "python",
   "pygments_lexer": "ipython3",
   "version": "3.8.5"
  },
  "toc": {
   "base_numbering": 1,
   "nav_menu": {},
   "number_sections": true,
   "sideBar": true,
   "skip_h1_title": true,
   "title_cell": "Table of Contents",
   "title_sidebar": "Contents",
   "toc_cell": true,
   "toc_position": {
    "height": "calc(100% - 180px)",
    "left": "10px",
    "top": "150px",
    "width": "288px"
   },
   "toc_section_display": true,
   "toc_window_display": false
  }
 },
 "nbformat": 4,
 "nbformat_minor": 4
}
