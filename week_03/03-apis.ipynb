{
 "cells": [
  {
   "cell_type": "markdown",
   "id": "looking-favor",
   "metadata": {},
   "source": [
    "# APIS "
   ]
  },
  {
   "cell_type": "markdown",
   "id": "aggregate-occurrence",
   "metadata": {},
   "source": [
    "![apis_gif](https://media.giphy.com/media/wepUQluC5smgEd4Qz4/giphy.gif)"
   ]
  },
  {
   "cell_type": "markdown",
   "id": "ceramic-advocate",
   "metadata": {
    "toc": true
   },
   "source": [
    "<h1>Table of Contents<span class=\"tocSkip\"></span></h1>\n",
    "<div class=\"toc\"><ul class=\"toc-item\"><li><span><a href=\"#Resumen-de-librerías\" data-toc-modified-id=\"Resumen-de-librerías-1\"><span class=\"toc-item-num\">1&nbsp;&nbsp;</span>Resumen de librerías</a></span></li><li><span><a href=\"#Internet,-DNS,-IPs\" data-toc-modified-id=\"Internet,-DNS,-IPs-2\"><span class=\"toc-item-num\">2&nbsp;&nbsp;</span>Internet, DNS, IPs</a></span></li><li><span><a href=\"#HTTP\" data-toc-modified-id=\"HTTP-3\"><span class=\"toc-item-num\">3&nbsp;&nbsp;</span>HTTP</a></span><ul class=\"toc-item\"><li><span><a href=\"#URL\" data-toc-modified-id=\"URL-3.1\"><span class=\"toc-item-num\">3.1&nbsp;&nbsp;</span>URL</a></span></li><li><span><a href=\"#HTTP-vs-HTTPS\" data-toc-modified-id=\"HTTP-vs-HTTPS-3.2\"><span class=\"toc-item-num\">3.2&nbsp;&nbsp;</span>HTTP vs HTTPS</a></span></li><li><span><a href=\"#Requests\" data-toc-modified-id=\"Requests-3.3\"><span class=\"toc-item-num\">3.3&nbsp;&nbsp;</span>Requests</a></span></li><li><span><a href=\"#Response\" data-toc-modified-id=\"Response-3.4\"><span class=\"toc-item-num\">3.4&nbsp;&nbsp;</span>Response</a></span></li></ul></li><li><span><a href=\"#API\" data-toc-modified-id=\"API-4\"><span class=\"toc-item-num\">4&nbsp;&nbsp;</span>API</a></span><ul class=\"toc-item\"><li><span><a href=\"#RESTful-APIs\" data-toc-modified-id=\"RESTful-APIs-4.1\"><span class=\"toc-item-num\">4.1&nbsp;&nbsp;</span>RESTful APIs</a></span></li></ul></li><li><span><a href=\"#Let's-go\" data-toc-modified-id=\"Let's-go-5\"><span class=\"toc-item-num\">5&nbsp;&nbsp;</span>Let's go</a></span><ul class=\"toc-item\"><li><span><a href=\"#Requests-en-Python\" data-toc-modified-id=\"Requests-en-Python-5.1\"><span class=\"toc-item-num\">5.1&nbsp;&nbsp;</span>Requests en Python</a></span></li><li><span><a href=\"#HTML-response\" data-toc-modified-id=\"HTML-response-5.2\"><span class=\"toc-item-num\">5.2&nbsp;&nbsp;</span>HTML response</a></span></li><li><span><a href=\"#JSON-response\" data-toc-modified-id=\"JSON-response-5.3\"><span class=\"toc-item-num\">5.3&nbsp;&nbsp;</span>JSON response</a></span></li><li><span><a href=\"#Managing-data-in-pandas\" data-toc-modified-id=\"Managing-data-in-pandas-5.4\"><span class=\"toc-item-num\">5.4&nbsp;&nbsp;</span>Managing data in pandas</a></span></li><li><span><a href=\"#Parámetros\" data-toc-modified-id=\"Parámetros-5.5\"><span class=\"toc-item-num\">5.5&nbsp;&nbsp;</span>Parámetros</a></span></li></ul></li><li><span><a href=\"#¡¡Es-tu-momento!!\" data-toc-modified-id=\"¡¡Es-tu-momento!!-6\"><span class=\"toc-item-num\">6&nbsp;&nbsp;</span>¡¡Es tu momento!!</a></span></li><li><span><a href=\"#Headers\" data-toc-modified-id=\"Headers-7\"><span class=\"toc-item-num\">7&nbsp;&nbsp;</span>Headers</a></span></li><li><span><a href=\"#API-Keys\" data-toc-modified-id=\"API-Keys-8\"><span class=\"toc-item-num\">8&nbsp;&nbsp;</span>API Keys</a></span></li><li><span><a href=\"#API-Wrappers\" data-toc-modified-id=\"API-Wrappers-9\"><span class=\"toc-item-num\">9&nbsp;&nbsp;</span>API Wrappers</a></span><ul class=\"toc-item\"><li><span><a href=\"#Acceder-a-la-API-de-Twitter-con-Python\" data-toc-modified-id=\"Acceder-a-la-API-de-Twitter-con-Python-9.1\"><span class=\"toc-item-num\">9.1&nbsp;&nbsp;</span>Acceder a la API de Twitter con Python</a></span></li></ul></li><li><span><a href=\"#Clientes-API\" data-toc-modified-id=\"Clientes-API-10\"><span class=\"toc-item-num\">10&nbsp;&nbsp;</span>Clientes API</a></span></li><li><span><a href=\"#Resumen\" data-toc-modified-id=\"Resumen-11\"><span class=\"toc-item-num\">11&nbsp;&nbsp;</span>Resumen</a></span><ul class=\"toc-item\"><li><span><a href=\"#Recorrido:\" data-toc-modified-id=\"Recorrido:-11.1\"><span class=\"toc-item-num\">11.1&nbsp;&nbsp;</span>Recorrido:</a></span></li></ul></li><li><span><a href=\"#Further-materials\" data-toc-modified-id=\"Further-materials-12\"><span class=\"toc-item-num\">12&nbsp;&nbsp;</span>Further materials</a></span></li></ul></div>"
   ]
  },
  {
   "cell_type": "markdown",
   "id": "moved-sapphire",
   "metadata": {},
   "source": [
    "## Resumen de librerías"
   ]
  },
  {
   "cell_type": "code",
   "execution_count": null,
   "id": "planned-satisfaction",
   "metadata": {},
   "outputs": [],
   "source": [
    "import requests \n",
    "import json\n",
    "import os\n",
    "from dotenv import load_dotenv\n",
    "import pandas as pd\n",
    "from pandas import json_normalize\n",
    "import tweepy\n",
    "import time"
   ]
  },
  {
   "cell_type": "markdown",
   "id": "chief-turkey",
   "metadata": {},
   "source": [
    "PAR FAVAAAA ACORDAOS DE \n",
    "\n",
    "\n",
    "```python\n",
    "load_dotenv()\n",
    "````\n"
   ]
  },
  {
   "cell_type": "markdown",
   "id": "cosmetic-creator",
   "metadata": {},
   "source": [
    "## Internet, DNS, IPs"
   ]
  },
  {
   "cell_type": "markdown",
   "id": "suspended-macedonia",
   "metadata": {},
   "source": [
    "![enjuto](https://www.publico.es/files/article_main/uploads//2014/12/13/548bb18f1d9ef.jpg)"
   ]
  },
  {
   "cell_type": "markdown",
   "id": "postal-disco",
   "metadata": {},
   "source": [
    "[¿Cómo nos conectamos con www.google.com?](https://www.youtube.com/watch?v=sUhEqT_HSBI&ab_channel=ProfeSang)"
   ]
  },
  {
   "cell_type": "markdown",
   "id": "suspected-coordinator",
   "metadata": {},
   "source": [
    " * DNS (servidor de nombres de dominio): asigna la dirección de Internet www.google.com a la IP del servidor: 216.58.222.196\n",
    " * IP: identificación del servidor. |código que permite que la información sea enviada y recibida por las partes correctas   \n",
    " * Proveedores de dominios: venden y compran dominios de Internet"
   ]
  },
  {
   "cell_type": "markdown",
   "id": "different-healing",
   "metadata": {},
   "source": [
    "[inserta tu arte aquí, Ras]()"
   ]
  },
  {
   "cell_type": "markdown",
   "id": "oriented-bride",
   "metadata": {},
   "source": [
    "## HTTP"
   ]
  },
  {
   "cell_type": "markdown",
   "id": "actual-baseball",
   "metadata": {},
   "source": [
    "**H**yper **T**ext **T**transferencia **P**rotocolo   \n",
    "HTTP es un protocolo de comunicaciones que proporciona una estructura para las peticiones entre el cliente y el servidor en una red.    \n",
    "Por ejemplo, el navegador web en el ordenador del usuario (el cliente) emplea el protocolo HTTP para solicitar información de un sitio web en un servidor. "
   ]
  },
  {
   "cell_type": "markdown",
   "id": "aquatic-forty",
   "metadata": {},
   "source": [
    "### URL\n",
    "Contiene información sobre el recurso que se está solicitando al SERVIDOR.\n",
    "Ejemplos:\n",
    "\n",
    "- https://www.google.com/webhp?authuser=2\n",
    "- https://www.towardsdatascience.com\n",
    "- https://www.ironhack.com/\n",
    "- Protocolo: https (https == http es lo mismo pero https está encriptado)\n",
    "- Nombre de dominio --> IRONHACK\n",
    "- TLD --> .com"
   ]
  },
  {
   "cell_type": "markdown",
   "id": "apart-romantic",
   "metadata": {},
   "source": [
    "### HTTP vs HTTPS\n",
    "\n",
    "- HTTP transfiere los datos en texto plano mientras que HTTPS lo hace en texto cifrado. \n",
    "- HTTP es más rápido que HTTPS porque este último consume potencia de cálculo para cifrar el canal de comunicación."
   ]
  },
  {
   "cell_type": "markdown",
   "id": "elegant-british",
   "metadata": {},
   "source": [
    "### Requests"
   ]
  },
  {
   "cell_type": "markdown",
   "id": "based-paintball",
   "metadata": {},
   "source": [
    "Las **Requests** son preguntas que formulamos a un SERVIDOR para recibir una información (una **respuesta/response**).        \n",
    "Tipos de request (verbo):\n",
    " * GET: leer la información del recurso, y no modificarla de ninguna manera. El acceso a la página web desde el navegador **obtiene** información.\n",
    " * POST\n",
    " * PUT\n",
    " * DELETE\n",
    " * PATCH\n",
    " * ..."
   ]
  },
  {
   "cell_type": "markdown",
   "id": "painted-retrieval",
   "metadata": {},
   "source": [
    "### Response\n",
    "Las response pueden ser de varios tipos:\n",
    " * un JSON (similar al diccionario de Python)\n",
    " * una imagen\n",
    " * un vídeo\n",
    " * una página HTML\n",
    " * un archivo PDF\n",
    " * ..."
   ]
  },
  {
   "cell_type": "markdown",
   "id": "casual-contributor",
   "metadata": {},
   "source": [
    "Las respuestas siguen la siguiente estructura. Tienen:\n",
    " * una sección HEADER: contiene metadatos sobre el comportamiento del servidor\n",
    " * un CUERPO: contiene la información deseada\n",
    "Una parte importante del HEADER es el **código de estado**. Este código es un código numérico que indica el resultado del servidor. Hay diferentes códigos de estado dependiendo de si el servidor ha conseguido realizar la petición o no ha conseguido hacer nada. Estos son algunos grupos de códigos de estado:\n",
    "\n",
    "- **2xx** successful__: la solicitud fue recibida, entendida y aceptada con éxito\n",
    "- **3xx** redirección__: es necesario realizar más acciones para completar la solicitud\n",
    "- **4xx** error del cliente__: la solicitud contiene una sintaxis incorrecta o no se puede cumplir\n",
    "- **5xx** error del servidor__: el servidor no ha podido completar una solicitud aparentemente válida\n",
    "\n",
    "Lista completa:    \n",
    "https://en.wikipedia.org/wiki/List_of_HTTP_status_codes    \n",
    "Mucho más divertido:    \n",
    "https://http.cat/   "
   ]
  },
  {
   "cell_type": "markdown",
   "id": "going-question",
   "metadata": {},
   "source": [
    "## API"
   ]
  },
  {
   "cell_type": "markdown",
   "id": "retained-success",
   "metadata": {},
   "source": [
    "**A**pplication **P**rogramming **I**nterface\n",
    "* En la era de la nube, los programas necesitan comunicarse a través de Internet.\n",
    "* Dentro de un proyecto, el backend puede querer compartir información con el frontend sin acceso a la base de datos.\n",
    "* Es un contrato entre productos de software. \n",
    "* Es un manual de instrucciones para utilizar un software.\n",
    "* El cliente llama al servidor a través de una API, el servidor responde."
   ]
  },
  {
   "cell_type": "markdown",
   "id": "headed-quarterly",
   "metadata": {},
   "source": [
    "### RESTful APIs"
   ]
  },
  {
   "cell_type": "markdown",
   "id": "geographic-implement",
   "metadata": {},
   "source": [
    "La mayoría de las API interactivas siguen la lógica de REST, una serie de reglas   \n",
    "- [Principios rectores de REST](https://restfulapi.net/)   \n",
    "- [Qué es una API RESTful (vídeo)](https://www.youtube.com/watch?v=JD6VNRdGl98&ab_channel=LeonardoKuffo)   \n",
    "\n",
    "Quién hace qué:  \n",
    "* Nosotros (cliente) enviamos una petición\n",
    "* Ellos (servidor) devuelven una respuesta, generalmente en formato JSON      \n",
    "\n",
    "Las APIs siempre tienen que ofrecer documentación de sus diferentes servicios: **endpoints**  \n",
    "Cada endpoint es una URL diferente"
   ]
  },
  {
   "cell_type": "markdown",
   "id": "respiratory-settle",
   "metadata": {},
   "source": [
    "## Let's go"
   ]
  },
  {
   "cell_type": "markdown",
   "id": "empty-prediction",
   "metadata": {},
   "source": [
    "### Requests en Python"
   ]
  },
  {
   "cell_type": "code",
   "execution_count": null,
   "id": "expected-yemen",
   "metadata": {},
   "outputs": [],
   "source": [
    "# Recuerda, tienes que leer la documentación  --> Request, HTTP for Humans."
   ]
  },
  {
   "cell_type": "markdown",
   "id": "parallel-makeup",
   "metadata": {},
   "source": [
    "https://requests.readthedocs.io/en/master/"
   ]
  },
  {
   "cell_type": "code",
   "execution_count": null,
   "id": "immediate-headset",
   "metadata": {},
   "outputs": [],
   "source": [
    "#!pip3 install requests"
   ]
  },
  {
   "cell_type": "code",
   "execution_count": null,
   "id": "lesser-customs",
   "metadata": {},
   "outputs": [],
   "source": [
    "import requests"
   ]
  },
  {
   "cell_type": "markdown",
   "id": "opponent-missouri",
   "metadata": {},
   "source": [
    "### HTML response"
   ]
  },
  {
   "cell_type": "markdown",
   "id": "emotional-norway",
   "metadata": {},
   "source": [
    "Puedo llamar a una url y tener todo el html, toda la respuesta del servidor."
   ]
  },
  {
   "cell_type": "code",
   "execution_count": null,
   "id": "active-intelligence",
   "metadata": {},
   "outputs": [],
   "source": []
  },
  {
   "cell_type": "code",
   "execution_count": null,
   "id": "sacred-perspective",
   "metadata": {},
   "outputs": [],
   "source": []
  },
  {
   "cell_type": "code",
   "execution_count": null,
   "id": "varying-tissue",
   "metadata": {},
   "outputs": [],
   "source": []
  },
  {
   "cell_type": "code",
   "execution_count": null,
   "id": "verbal-argentina",
   "metadata": {},
   "outputs": [],
   "source": []
  },
  {
   "cell_type": "code",
   "execution_count": null,
   "id": "realistic-converter",
   "metadata": {},
   "outputs": [],
   "source": []
  },
  {
   "cell_type": "code",
   "execution_count": null,
   "id": "nasty-worry",
   "metadata": {},
   "outputs": [],
   "source": []
  },
  {
   "cell_type": "code",
   "execution_count": null,
   "id": "italic-conjunction",
   "metadata": {},
   "outputs": [],
   "source": []
  },
  {
   "cell_type": "markdown",
   "id": "northern-indian",
   "metadata": {},
   "source": [
    "### JSON response"
   ]
  },
  {
   "cell_type": "markdown",
   "id": "appointed-ready",
   "metadata": {},
   "source": [
    "JSON: Java Script Object Notation"
   ]
  },
  {
   "cell_type": "markdown",
   "id": "automotive-muslim",
   "metadata": {},
   "source": [
    "Obtengamos información de la ISS (estación espacial internacional)"
   ]
  },
  {
   "cell_type": "markdown",
   "id": "biblical-consultation",
   "metadata": {},
   "source": [
    "[ISS API documentation](https://wheretheiss.at/w/developer)"
   ]
  },
  {
   "cell_type": "code",
   "execution_count": null,
   "id": "civic-banana",
   "metadata": {},
   "outputs": [],
   "source": [
    "url = \"https://api.wheretheiss.at/v1/satellites/\""
   ]
  },
  {
   "cell_type": "code",
   "execution_count": null,
   "id": "mature-principal",
   "metadata": {},
   "outputs": [],
   "source": []
  },
  {
   "cell_type": "code",
   "execution_count": null,
   "id": "separate-camera",
   "metadata": {},
   "outputs": [],
   "source": []
  },
  {
   "cell_type": "code",
   "execution_count": null,
   "id": "imperial-librarian",
   "metadata": {},
   "outputs": [],
   "source": []
  },
  {
   "cell_type": "code",
   "execution_count": null,
   "id": "north-magazine",
   "metadata": {},
   "outputs": [],
   "source": []
  },
  {
   "cell_type": "code",
   "execution_count": null,
   "id": "copyrighted-basic",
   "metadata": {},
   "outputs": [],
   "source": []
  },
  {
   "cell_type": "markdown",
   "id": "cognitive-christopher",
   "metadata": {},
   "source": [
    "Si el Content-Type de la respuesta es json, podemos acceder a él con `.json()`    \n",
    "[Documentación](https://docs.python.org/3/library/json.html)"
   ]
  },
  {
   "cell_type": "code",
   "execution_count": null,
   "id": "raised-lightweight",
   "metadata": {},
   "outputs": [],
   "source": [
    "import json"
   ]
  },
  {
   "cell_type": "code",
   "execution_count": null,
   "id": "interesting-colony",
   "metadata": {},
   "outputs": [],
   "source": []
  },
  {
   "cell_type": "code",
   "execution_count": null,
   "id": "cognitive-coaching",
   "metadata": {},
   "outputs": [],
   "source": []
  },
  {
   "cell_type": "code",
   "execution_count": null,
   "id": "veterinary-terry",
   "metadata": {},
   "outputs": [],
   "source": []
  },
  {
   "cell_type": "code",
   "execution_count": null,
   "id": "egyptian-completion",
   "metadata": {},
   "outputs": [],
   "source": []
  },
  {
   "cell_type": "code",
   "execution_count": null,
   "id": "legislative-acoustic",
   "metadata": {},
   "outputs": [],
   "source": []
  },
  {
   "cell_type": "code",
   "execution_count": null,
   "id": "liable-flashing",
   "metadata": {},
   "outputs": [],
   "source": []
  },
  {
   "cell_type": "code",
   "execution_count": null,
   "id": "maritime-bahamas",
   "metadata": {},
   "outputs": [],
   "source": []
  },
  {
   "cell_type": "code",
   "execution_count": null,
   "id": "small-webcam",
   "metadata": {},
   "outputs": [],
   "source": []
  },
  {
   "cell_type": "code",
   "execution_count": null,
   "id": "photographic-romance",
   "metadata": {},
   "outputs": [],
   "source": []
  },
  {
   "cell_type": "code",
   "execution_count": null,
   "id": "increasing-portfolio",
   "metadata": {},
   "outputs": [],
   "source": [
    "#Vamos a hacer una request mal para ver el código de error"
   ]
  },
  {
   "cell_type": "code",
   "execution_count": null,
   "id": "administrative-length",
   "metadata": {},
   "outputs": [],
   "source": []
  },
  {
   "cell_type": "code",
   "execution_count": null,
   "id": "greenhouse-chapel",
   "metadata": {},
   "outputs": [],
   "source": []
  },
  {
   "cell_type": "code",
   "execution_count": null,
   "id": "meaningful-tract",
   "metadata": {},
   "outputs": [],
   "source": []
  },
  {
   "cell_type": "code",
   "execution_count": null,
   "id": "destroyed-magazine",
   "metadata": {},
   "outputs": [],
   "source": []
  },
  {
   "cell_type": "markdown",
   "id": "anticipated-native",
   "metadata": {},
   "source": [
    "### Gestión de datos en pandas"
   ]
  },
  {
   "cell_type": "code",
   "execution_count": null,
   "id": "small-movie",
   "metadata": {},
   "outputs": [],
   "source": [
    "# Vamos a convertir a dataframe los datos que nos devuelve una API"
   ]
  },
  {
   "cell_type": "code",
   "execution_count": null,
   "id": "ongoing-georgia",
   "metadata": {},
   "outputs": [],
   "source": [
    "import pandas as pd"
   ]
  },
  {
   "cell_type": "code",
   "execution_count": null,
   "id": "higher-county",
   "metadata": {},
   "outputs": [],
   "source": []
  },
  {
   "cell_type": "code",
   "execution_count": null,
   "id": "urban-composite",
   "metadata": {},
   "outputs": [],
   "source": []
  },
  {
   "cell_type": "code",
   "execution_count": null,
   "id": "imposed-attachment",
   "metadata": {},
   "outputs": [],
   "source": []
  },
  {
   "cell_type": "code",
   "execution_count": null,
   "id": "deluxe-yorkshire",
   "metadata": {},
   "outputs": [],
   "source": []
  },
  {
   "cell_type": "code",
   "execution_count": null,
   "id": "statewide-surname",
   "metadata": {},
   "outputs": [],
   "source": []
  },
  {
   "cell_type": "code",
   "execution_count": null,
   "id": "solved-mexico",
   "metadata": {},
   "outputs": [],
   "source": []
  },
  {
   "cell_type": "code",
   "execution_count": null,
   "id": "military-capitol",
   "metadata": {},
   "outputs": [],
   "source": []
  },
  {
   "cell_type": "code",
   "execution_count": null,
   "id": "specified-drain",
   "metadata": {},
   "outputs": [],
   "source": []
  },
  {
   "cell_type": "code",
   "execution_count": null,
   "id": "aquatic-healthcare",
   "metadata": {},
   "outputs": [],
   "source": [
    "# Pandas hace esto por nosotras con json normalize 🐼"
   ]
  },
  {
   "cell_type": "code",
   "execution_count": null,
   "id": "artistic-bristol",
   "metadata": {},
   "outputs": [],
   "source": [
    "from pandas import json_normalize"
   ]
  },
  {
   "cell_type": "code",
   "execution_count": null,
   "id": "familiar-pierce",
   "metadata": {},
   "outputs": [],
   "source": []
  },
  {
   "cell_type": "code",
   "execution_count": null,
   "id": "north-cleveland",
   "metadata": {},
   "outputs": [],
   "source": []
  },
  {
   "cell_type": "code",
   "execution_count": null,
   "id": "early-spank",
   "metadata": {},
   "outputs": [],
   "source": []
  },
  {
   "cell_type": "code",
   "execution_count": null,
   "id": "occupational-dublin",
   "metadata": {},
   "outputs": [],
   "source": [
    "#Vamos a hacer varias requests seguidas para obtener más información, ponemos el time sleep para que la ISS se mueva"
   ]
  },
  {
   "cell_type": "code",
   "execution_count": null,
   "id": "beneficial-stomach",
   "metadata": {},
   "outputs": [],
   "source": []
  },
  {
   "cell_type": "code",
   "execution_count": null,
   "id": "sound-portable",
   "metadata": {},
   "outputs": [],
   "source": []
  },
  {
   "cell_type": "code",
   "execution_count": null,
   "id": "imposed-major",
   "metadata": {},
   "outputs": [],
   "source": []
  },
  {
   "cell_type": "code",
   "execution_count": null,
   "id": "classical-annual",
   "metadata": {},
   "outputs": [],
   "source": []
  },
  {
   "cell_type": "code",
   "execution_count": null,
   "id": "southeast-begin",
   "metadata": {},
   "outputs": [],
   "source": []
  },
  {
   "cell_type": "markdown",
   "id": "organizational-lightning",
   "metadata": {},
   "source": [
    "### Parámetros"
   ]
  },
  {
   "cell_type": "markdown",
   "id": "foreign-community",
   "metadata": {},
   "source": [
    "Recuerda.... La documentación de la API   \n",
    "https://wheretheiss.at/w/developer"
   ]
  },
  {
   "cell_type": "markdown",
   "id": "round-miracle",
   "metadata": {},
   "source": [
    "![captura](../images/parameters.png)"
   ]
  },
  {
   "cell_type": "markdown",
   "id": "thrown-might",
   "metadata": {},
   "source": [
    "A veces queremos pasar algunos parámetros a un punto final de la API.   \n",
    "Similar a las funciones de python que reciben parámetros para un comportamiento diferente"
   ]
  },
  {
   "cell_type": "markdown",
   "id": "private-recall",
   "metadata": {},
   "source": [
    "Los parámetros se pasan con `?param1=value1&param2=value2...` al final de la URL"
   ]
  },
  {
   "cell_type": "code",
   "execution_count": null,
   "id": "vital-grace",
   "metadata": {},
   "outputs": [],
   "source": []
  },
  {
   "cell_type": "code",
   "execution_count": null,
   "id": "ceramic-butter",
   "metadata": {},
   "outputs": [],
   "source": []
  },
  {
   "cell_type": "code",
   "execution_count": null,
   "id": "desperate-slave",
   "metadata": {},
   "outputs": [],
   "source": []
  },
  {
   "cell_type": "markdown",
   "id": "furnished-sailing",
   "metadata": {},
   "source": [
    "La librería `requests` pasemos los parámetros como un diccionario"
   ]
  },
  {
   "cell_type": "code",
   "execution_count": null,
   "id": "simple-january",
   "metadata": {},
   "outputs": [],
   "source": [
    "url_base= \"https://api.wheretheiss.at/v1/satellites/25544\""
   ]
  },
  {
   "cell_type": "code",
   "execution_count": null,
   "id": "eligible-elder",
   "metadata": {},
   "outputs": [],
   "source": []
  },
  {
   "cell_type": "code",
   "execution_count": null,
   "id": "allied-uncertainty",
   "metadata": {},
   "outputs": [],
   "source": []
  },
  {
   "cell_type": "markdown",
   "id": "living-allocation",
   "metadata": {},
   "source": [
    "## ¡¡Es tu momento!!"
   ]
  },
  {
   "cell_type": "markdown",
   "id": "opposite-factory",
   "metadata": {},
   "source": [
    "- https://official-joke-api.appspot.com/   \n",
    "- https://jokeapi.dev/\n",
    "- https://github.com/thenamesweretakenalready/Sv443s-JokeAPI-Python-Wrapper#readme "
   ]
  },
  {
   "cell_type": "markdown",
   "id": "handled-performance",
   "metadata": {},
   "source": [
    "Consulte esta API... 👆o cualquier otra, [PUEDES MIRAR AQUÍ](https://github.com/public-apis/public-apis) para hacer el ejercicio.     \n",
    "Intenta llamar a una API, con o sin parámetros y... ¡¡obten algo de información!!"
   ]
  },
  {
   "cell_type": "code",
   "execution_count": null,
   "id": "strategic-communications",
   "metadata": {},
   "outputs": [],
   "source": [
    "url_random_joke = \"https://official-joke-api.appspot.com/random_joke\""
   ]
  },
  {
   "cell_type": "code",
   "execution_count": null,
   "id": "fancy-printer",
   "metadata": {},
   "outputs": [],
   "source": []
  },
  {
   "cell_type": "code",
   "execution_count": null,
   "id": "formal-belle",
   "metadata": {},
   "outputs": [],
   "source": []
  },
  {
   "cell_type": "code",
   "execution_count": null,
   "id": "entertaining-equipment",
   "metadata": {},
   "outputs": [],
   "source": []
  },
  {
   "cell_type": "markdown",
   "id": "dried-cedar",
   "metadata": {},
   "source": [
    "Ojo, en esta API no podemos meter los parámetros como diccionario porque esta API no está preparada para que le metamos los parámetros de esa manera. Miramos la DOC siempre. \n",
    "https://github.com/thenamesweretakenalready/Sv443s-JokeAPI-Python-Wrapper"
   ]
  },
  {
   "cell_type": "markdown",
   "id": "mexican-links",
   "metadata": {},
   "source": [
    "## Headers"
   ]
  },
  {
   "cell_type": "markdown",
   "id": "manual-sperm",
   "metadata": {},
   "source": [
    "Las cabeceras HTTP son una parte importante de la solicitud y la respuesta de la API, ya que representan los metadatos asociados a la solicitud y la respuesta de la API. Las cabeceras llevan información para:\n",
    "\n",
    "* Cuerpo de la solicitud y de la respuesta\n",
    "* Autorización de la solicitud\n",
    "* Caché de la respuesta \n",
    "* Cookies de respuesta"
   ]
  },
  {
   "cell_type": "markdown",
   "id": "sustained-respect",
   "metadata": {},
   "source": [
    "## API Keys\n",
    "Alguna de las APIs que usemos, requerirá autenticación."
   ]
  },
  {
   "cell_type": "markdown",
   "id": "educated-rotation",
   "metadata": {},
   "source": [
    "- https://github.com/settings/tokens\n",
    "- https://docs.github.com/es/rest/guides/getting-started-with-the-rest-api\n",
    "- https://pypi.org/project/python-dotenv/"
   ]
  },
  {
   "cell_type": "code",
   "execution_count": null,
   "id": "dirty-pearl",
   "metadata": {},
   "outputs": [],
   "source": [
    "#!pip3 install python-dotenv"
   ]
  },
  {
   "cell_type": "code",
   "execution_count": null,
   "id": "attractive-breathing",
   "metadata": {},
   "outputs": [],
   "source": [
    "import os\n",
    "from dotenv import load_dotenv\n",
    "#activamos el entorno para poder conectar el jupyter y extraer las variables\n",
    "load_dotenv()"
   ]
  },
  {
   "cell_type": "code",
   "execution_count": null,
   "id": "competent-national",
   "metadata": {},
   "outputs": [],
   "source": []
  },
  {
   "cell_type": "code",
   "execution_count": null,
   "id": "female-magazine",
   "metadata": {},
   "outputs": [],
   "source": []
  },
  {
   "cell_type": "code",
   "execution_count": null,
   "id": "committed-mauritius",
   "metadata": {},
   "outputs": [],
   "source": []
  },
  {
   "cell_type": "code",
   "execution_count": null,
   "id": "alpine-lease",
   "metadata": {},
   "outputs": [],
   "source": []
  },
  {
   "cell_type": "code",
   "execution_count": null,
   "id": "physical-following",
   "metadata": {},
   "outputs": [],
   "source": []
  },
  {
   "cell_type": "code",
   "execution_count": null,
   "id": "duplicate-report",
   "metadata": {},
   "outputs": [],
   "source": []
  },
  {
   "cell_type": "code",
   "execution_count": null,
   "id": "cleared-mounting",
   "metadata": {},
   "outputs": [],
   "source": []
  },
  {
   "cell_type": "code",
   "execution_count": null,
   "id": "hungry-corner",
   "metadata": {},
   "outputs": [],
   "source": []
  },
  {
   "cell_type": "code",
   "execution_count": null,
   "id": "vital-universal",
   "metadata": {},
   "outputs": [],
   "source": []
  },
  {
   "cell_type": "code",
   "execution_count": null,
   "id": "corporate-candle",
   "metadata": {},
   "outputs": [],
   "source": []
  },
  {
   "cell_type": "markdown",
   "id": "departmental-float",
   "metadata": {},
   "source": [
    "## API Wrappers\n",
    "La mayoría de las aplicaciones a las que querrás solicitar datos (redes sociales, motores de búsqueda, etc.) querrán saber quién accede a su aplicación, cómo piensan hacerlo y qué piensan hacer con los datos.\n",
    "\n",
    "Para estas aplicaciones populares, también hay wrappers de Python que se han escrito para sus APIs que hacen que la interacción con ellos sea mucho más fácil de lo que sería de otra manera. 🙌🏻"
   ]
  },
  {
   "cell_type": "markdown",
   "id": "driven-lightning",
   "metadata": {},
   "source": [
    "### Acceder a la API de Twitter con Python\n",
    "Un ejemplo es la biblioteca tweepy que hace que obtener datos de la API de Twitter sea relativamente sencillo.\n",
    "\n",
    "Antes de poder utilizarla, necesitamos crear una cuenta de desarrollador (si no tenemos ya una, crear una aplicación y obtener las credenciales de Twitter. Para crear una cuenta de desarrollador, sigue los siguientes pasos.\n",
    "\n",
    "Ve a https://developer.twitter.com/en/apply-for-access.html.\n",
    "Haga clic en Solicitar una cuenta de desarrollador.\n",
    "Sigue las instrucciones y proporciona la información necesaria para crear una cuenta de desarrollador para uso personal.\n",
    "Twitter revisará tu solicitud y aprobará tu cuenta (suponiendo que no hayas dicho que harás algo que viole sus condiciones de servicio).\n",
    "Tras recibir la confirmación de que tu cuenta de desarrollador ha sido aprobada, deberás crear una aplicación accediendo a tu cuenta y siguiendo los pasos para crear una nueva app. Una vez creada la aplicación, el siguiente paso es obtener tus credenciales. Estas credenciales te darán permiso para acceder a la API de Twitter. Las credenciales consisten en una clave API, una clave secreta API, un token de acceso y un token secreto de acceso. Puedes encontrarlas viendo los detalles de tu aplicación y haciendo clic en la pestaña Claves y Tokens.\n",
    "\n",
    "Advertencia: Debes guardar tus credenciales en un lugar seguro, nunca las compartas y nunca las subas a Github.\n",
    "\n",
    "Ahora que hemos obtenido nuestras credenciales, podemos utilizar tweepy para acceder a la API de Twitter como sigue. Recuerda que tendrás que reemplazar las credenciales de abajo con tus credenciales reales para que este código funcione."
   ]
  },
  {
   "cell_type": "code",
   "execution_count": null,
   "id": "ranking-healing",
   "metadata": {},
   "outputs": [],
   "source": [
    "#Importamos la librería tweepy\n",
    "import tweepy"
   ]
  },
  {
   "cell_type": "code",
   "execution_count": null,
   "id": "allied-legislature",
   "metadata": {},
   "outputs": [],
   "source": [
    "# Tenemos que importar todas estas KEY que nos da la app de twitter development\n",
    "API_KEY = os.getenv(\"API_KEY\")\n",
    "API_SECRET = os.getenv(\"API_SECRET\")\n",
    "ACCESS_TOKEN = os.getenv(\"ACCESS_TOKEN\")\n",
    "ACCESS_TOKEN_SECRET = os.getenv(\"ACCESS_TOKEN_SECRET\")"
   ]
  },
  {
   "cell_type": "markdown",
   "id": "round-nicholas",
   "metadata": {},
   "source": [
    "Nos autenticamos --> Documentación con más info [aquí](https://docs.tweepy.org/en/latest/auth_tutorial.html)"
   ]
  },
  {
   "cell_type": "code",
   "execution_count": null,
   "id": "sophisticated-mystery",
   "metadata": {},
   "outputs": [],
   "source": []
  },
  {
   "cell_type": "code",
   "execution_count": null,
   "id": "delayed-rochester",
   "metadata": {},
   "outputs": [],
   "source": []
  },
  {
   "cell_type": "code",
   "execution_count": null,
   "id": "continent-aircraft",
   "metadata": {},
   "outputs": [],
   "source": []
  },
  {
   "cell_type": "code",
   "execution_count": null,
   "id": "alpha-legislature",
   "metadata": {},
   "outputs": [],
   "source": []
  },
  {
   "cell_type": "code",
   "execution_count": null,
   "id": "waiting-mouse",
   "metadata": {},
   "outputs": [],
   "source": []
  },
  {
   "cell_type": "code",
   "execution_count": null,
   "id": "recorded-executive",
   "metadata": {},
   "outputs": [],
   "source": []
  },
  {
   "cell_type": "code",
   "execution_count": null,
   "id": "former-theater",
   "metadata": {},
   "outputs": [],
   "source": []
  },
  {
   "cell_type": "markdown",
   "id": "prescription-evidence",
   "metadata": {},
   "source": [
    "## Clientes API"
   ]
  },
  {
   "cell_type": "markdown",
   "id": "vulnerable-tolerance",
   "metadata": {},
   "source": [
    "Vemos insomnia --> https://insomnia.rest/download"
   ]
  },
  {
   "cell_type": "markdown",
   "id": "worthy-coordinate",
   "metadata": {},
   "source": [
    "En insomnia podemos guardar diferentes apis para poder llamarlas a golpe de click, os dejo capturas"
   ]
  },
  {
   "cell_type": "markdown",
   "id": "prime-liability",
   "metadata": {},
   "source": [
    "![insomnia](../images/in_1.png)\n",
    "![insomnia](../images/in_2.png)\n",
    "![insomnia](../images/in_3.png)\n",
    "![insomnia](../images/in_4.png)"
   ]
  },
  {
   "cell_type": "code",
   "execution_count": null,
   "id": "resistant-editing",
   "metadata": {},
   "outputs": [],
   "source": [
    "import requests\n",
    "\n",
    "url = \"https://cat-fact.herokuapp.com/facts\"\n",
    "\n",
    "payload = \"\"\n",
    "headers = {\"cookie\": \"connect.sid=s%253AiZNrW6QgE7YvhxRJd_K6NxuG4AoUEhuK.XGlVUi0h3zwAOwje%252F%252FY4F8LbUc1VIhajgStME%252Fj3lKE\"}\n",
    "\n",
    "response = requests.request(\"GET\", url, data=payload, headers=headers)\n",
    "\n",
    "print(response.text)"
   ]
  },
  {
   "cell_type": "markdown",
   "id": "seeing-bahrain",
   "metadata": {},
   "source": [
    "## Resumen   \n",
    "Es tu turno ¿Qué hemos aprendido?\n"
   ]
  },
  {
   "cell_type": "markdown",
   "id": "accompanied-edition",
   "metadata": {},
   "source": [
    "### Recorrido:\n",
    "- Importo requests\n",
    "- Me guardo las contraseñas si esa  api las necesita / api_key / oauth\n",
    "- Hago request.get al endpoint de la api (en la doc de dicha api me pueden enseñar que hay varios endpoints)\n",
    "- Esa api me devuelve un json \n",
    "- Ese  json puede ser un dataframe o puedo investigar dentro de los elementos del json (lista  de diccionarios)"
   ]
  },
  {
   "cell_type": "markdown",
   "id": "plastic-cleaner",
   "metadata": {},
   "source": [
    "## Further materials"
   ]
  },
  {
   "cell_type": "markdown",
   "id": "logical-essence",
   "metadata": {},
   "source": [
    "- [5 Simple-To-Use APIs for Beginners](https://dev.to/alanconstantino/5-simple-to-use-apis-for-beginners-2e0n)\n",
    "- [RapidAPI](https://rapidapi.com/category/Sports): access thousands of APIs!!\n",
    "- [muchasapis](https://github.com/public-apis/public-apis)"
   ]
  }
 ],
 "metadata": {
  "kernelspec": {
   "display_name": "Python 3",
   "language": "python",
   "name": "python3"
  },
  "language_info": {
   "codemirror_mode": {
    "name": "ipython",
    "version": 3
   },
   "file_extension": ".py",
   "mimetype": "text/x-python",
   "name": "python",
   "nbconvert_exporter": "python",
   "pygments_lexer": "ipython3",
   "version": "3.8.5"
  },
  "toc": {
   "base_numbering": 1,
   "nav_menu": {},
   "number_sections": true,
   "sideBar": true,
   "skip_h1_title": true,
   "title_cell": "Table of Contents",
   "title_sidebar": "Contents",
   "toc_cell": true,
   "toc_position": {},
   "toc_section_display": true,
   "toc_window_display": false
  }
 },
 "nbformat": 4,
 "nbformat_minor": 5
}
