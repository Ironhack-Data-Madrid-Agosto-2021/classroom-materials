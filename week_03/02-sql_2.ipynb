{
 "cells": [
  {
   "cell_type": "markdown",
   "id": "activated-ownership",
   "metadata": {},
   "source": [
    "# Seguimos con SQL "
   ]
  },
  {
   "cell_type": "markdown",
   "id": "outdoor-murder",
   "metadata": {},
   "source": [
    "![keepcoding](https://media.giphy.com/media/26vACLXgansDXwHzzI/giphy.gif)"
   ]
  },
  {
   "cell_type": "markdown",
   "id": "supposed-glance",
   "metadata": {
    "toc": true
   },
   "source": [
    "<h1>Table of Contents<span class=\"tocSkip\"></span></h1>\n",
    "<div class=\"toc\"><ul class=\"toc-item\"><li><span><a href=\"#Bases-de-datos-que-nos-vamos-a-instalar:\" data-toc-modified-id=\"Bases-de-datos-que-nos-vamos-a-instalar:-1\"><span class=\"toc-item-num\">1&nbsp;&nbsp;</span>Bases de datos que nos vamos a instalar:</a></span></li><li><span><a href=\"#SQL-Alchemy\" data-toc-modified-id=\"SQL-Alchemy-2\"><span class=\"toc-item-num\">2&nbsp;&nbsp;</span>SQL Alchemy</a></span><ul class=\"toc-item\"><li><span><a href=\"#Recuerda-instalarlo-🤔\" data-toc-modified-id=\"Recuerda-instalarlo-🤔-2.1\"><span class=\"toc-item-num\">2.1&nbsp;&nbsp;</span>Recuerda instalarlo 🤔</a></span></li><li><span><a href=\"#Conexiones\" data-toc-modified-id=\"Conexiones-2.2\"><span class=\"toc-item-num\">2.2&nbsp;&nbsp;</span>Conexiones</a></span></li></ul></li><li><span><a href=\"#Recordatorio-de-JOINs-en-SQL:\" data-toc-modified-id=\"Recordatorio-de-JOINs-en-SQL:-3\"><span class=\"toc-item-num\">3&nbsp;&nbsp;</span>Recordatorio de JOINs en SQL:</a></span></li><li><span><a href=\"#Vemos-que-las-queries-se-copian-igual-y-podemos-hacer-dataframes-con-la-información-🐼❤️\" data-toc-modified-id=\"Vemos-que-las-queries-se-copian-igual-y-podemos-hacer-dataframes-con-la-información-🐼❤️-4\"><span class=\"toc-item-num\">4&nbsp;&nbsp;</span>Vemos que las queries se copian igual y podemos hacer dataframes con la información 🐼❤️</a></span></li><li><span><a href=\"#Sub-queries\" data-toc-modified-id=\"Sub-queries-5\"><span class=\"toc-item-num\">5&nbsp;&nbsp;</span>Sub-queries</a></span><ul class=\"toc-item\"><li><span><a href=\"#Subconsultas-no-relacionadas\" data-toc-modified-id=\"Subconsultas-no-relacionadas-5.1\"><span class=\"toc-item-num\">5.1&nbsp;&nbsp;</span>Subconsultas no relacionadas</a></span></li><li><span><a href=\"#Subconsultas-de-varias-filas-y-una-columna\" data-toc-modified-id=\"Subconsultas-de-varias-filas-y-una-columna-5.2\"><span class=\"toc-item-num\">5.2&nbsp;&nbsp;</span>Subconsultas de varias filas y una columna</a></span><ul class=\"toc-item\"><li><span><a href=\"#Los-operadores-in-y-not-in\" data-toc-modified-id=\"Los-operadores-in-y-not-in-5.2.1\"><span class=\"toc-item-num\">5.2.1&nbsp;&nbsp;</span>Los operadores in y not in</a></span></li></ul></li></ul></li><li><span><a href=\"#Tablas-derivadas\" data-toc-modified-id=\"Tablas-derivadas-6\"><span class=\"toc-item-num\">6&nbsp;&nbsp;</span>Tablas derivadas</a></span></li></ul></div>"
   ]
  },
  {
   "cell_type": "markdown",
   "id": "entitled-software",
   "metadata": {},
   "source": [
    "## Bases de datos que nos vamos a instalar:\n",
    "- [Sakila Database](https://www.informaticabiomedica.com/2019/10/cargar-sakila-data-base-en-mysql.html)\n",
    "- [Employees](https://github.com/datacharmer/test_db)    \n",
    "-->(Estas dos bases de datos las puedes encontrar en la página oficial de mysql), puedes encontrar más información [aquí](https://dev.mysql.com/doc/index-other.html)<--\n",
    "- [Publications](https://github.com/Ironhack-Data-Madrid-Agosto-2021/classroom-materials/tree/main/week_03/SQL_data)"
   ]
  },
  {
   "cell_type": "markdown",
   "id": "steady-emerald",
   "metadata": {},
   "source": [
    "## SQL Alchemy\n",
    "SQLAlchemy is the Python SQL toolkit and Object Relational Mapper that gives application developers the full power and flexibility of SQL.\n",
    "\n",
    "It provides a full suite of well known enterprise-level persistence patterns, designed for efficient and high-performing database access, adapted into a simple and Pythonic domain language."
   ]
  },
  {
   "cell_type": "markdown",
   "id": "municipal-bikini",
   "metadata": {},
   "source": [
    "### Recuerda instalarlo 🤔"
   ]
  },
  {
   "cell_type": "code",
   "execution_count": null,
   "id": "lonely-italian",
   "metadata": {},
   "outputs": [],
   "source": [
    "#!pip install sqlalchemy\n",
    "#!pip install pymysql"
   ]
  },
  {
   "cell_type": "code",
   "execution_count": 1,
   "id": "outstanding-laser",
   "metadata": {},
   "outputs": [],
   "source": [
    "import pandas as pd\n",
    "import sqlalchemy as alch"
   ]
  },
  {
   "cell_type": "markdown",
   "id": "classified-rolling",
   "metadata": {},
   "source": [
    "Lo primero que hay que hacer para trabajar con SQLAlchemy es crear un engine. El engine es el punto de entrada a la base de datos, es decir, el que permite a SQLAlchemy comunicarse con esta.\n",
    "El motor se usa principalmente para manejar dos elementos: los pools de conexiones y el dialecto a utilizar"
   ]
  },
  {
   "cell_type": "markdown",
   "id": "motivated-incidence",
   "metadata": {},
   "source": [
    "Tutoriales y documentación \n",
    "- https://j2logo.com/python/sqlalchemy-tutorial-de-python-sqlalchemy-guia-de-inicio/\n",
    "- https://docs.sqlalchemy.org/en/14/"
   ]
  },
  {
   "cell_type": "markdown",
   "id": "rotary-avenue",
   "metadata": {},
   "source": [
    "### Conexiones\n",
    "Vamos a almacenar la contraseña, hay varios modos de hacerlo, de momento, vamos a hacerlo fácil"
   ]
  },
  {
   "cell_type": "code",
   "execution_count": 2,
   "id": "separated-clothing",
   "metadata": {},
   "outputs": [],
   "source": [
    "from getpass import getpass"
   ]
  },
  {
   "cell_type": "code",
   "execution_count": 3,
   "id": "wrapped-platform",
   "metadata": {},
   "outputs": [
    {
     "name": "stdout",
     "output_type": "stream",
     "text": [
      "Introduce tu contraseña del server mysql si es que la sabes ········\n"
     ]
    }
   ],
   "source": [
    "# Almacenamos contraseña y ruta de conexión\n",
    "password = getpass(\"Introduce tu contraseña del server mysql si es que la sabes \")"
   ]
  },
  {
   "cell_type": "code",
   "execution_count": null,
   "id": "narrative-roots",
   "metadata": {},
   "outputs": [],
   "source": [
    "db_name = \"publications\"\n"
   ]
  },
  {
   "cell_type": "markdown",
   "id": "overall-ballot",
   "metadata": {},
   "source": [
    "Otra forma de almacenar una contraseña es hacerlo mediante una variable de entorno, vamos allá"
   ]
  },
  {
   "cell_type": "code",
   "execution_count": null,
   "id": "important-colors",
   "metadata": {},
   "outputs": [],
   "source": [
    "#!pip install python-dotenv"
   ]
  },
  {
   "cell_type": "code",
   "execution_count": null,
   "id": "historic-corner",
   "metadata": {},
   "outputs": [],
   "source": [
    "# P E N D I E N T E "
   ]
  },
  {
   "cell_type": "markdown",
   "id": "structural-multiple",
   "metadata": {},
   "source": [
    "Creamos la conexión entre Python y el server MySQL con create_engine de SQLAlchemy, llamamos a la variable \"engine\""
   ]
  },
  {
   "cell_type": "code",
   "execution_count": null,
   "id": "horizontal-marathon",
   "metadata": {},
   "outputs": [],
   "source": []
  },
  {
   "cell_type": "markdown",
   "id": "religious-mauritius",
   "metadata": {},
   "source": [
    "## Recordatorio de JOINs en SQL:\n",
    "\n",
    "**(INNER) JOIN**: Devuelve los registros que tienen valores coincidentes en ambas tablas     \n",
    "**LEFT (OUTER) JOIN**: Devuelve todos los registros de la tabla izquierda y los registros coincidentes de la tabla derecha    \n",
    "**RIGHT (OUTER) JOIN**: Devuelve todos los registros de la tabla derecha y los registros coincidentes de la tabla izquierda    \n",
    "**FULL (OUTER) JOIN**: Devuelve todos los registros cuando hay una coincidencia en la tabla izquierda o derecha"
   ]
  },
  {
   "cell_type": "markdown",
   "id": "built-exhibit",
   "metadata": {},
   "source": [
    "![joins](../images/joins.png)"
   ]
  },
  {
   "cell_type": "markdown",
   "id": "narrow-alert",
   "metadata": {},
   "source": [
    "Lo vemos hand`s on en workbench y dejamos el script :) [aquí](https://github.com/Ironhack-Data-Madrid-Mayo-2021/Classroom-Materials/tree/main/week_03/SQL_scripts) "
   ]
  },
  {
   "cell_type": "markdown",
   "id": "adaptive-latvia",
   "metadata": {},
   "source": [
    "## Vemos que las queries se copian igual y podemos hacer dataframes con la información 🐼❤️"
   ]
  },
  {
   "cell_type": "code",
   "execution_count": null,
   "id": "higher-tiffany",
   "metadata": {},
   "outputs": [],
   "source": []
  },
  {
   "cell_type": "code",
   "execution_count": null,
   "id": "related-business",
   "metadata": {},
   "outputs": [],
   "source": []
  },
  {
   "cell_type": "markdown",
   "id": "split-conversion",
   "metadata": {},
   "source": [
    "## Sub-queries"
   ]
  },
  {
   "cell_type": "markdown",
   "id": "juvenile-emission",
   "metadata": {},
   "source": [
    "¿Qué es una subquery?\n",
    "Una subconsulta es una consulta contenida dentro de otra sentencia SQL. Una subquery siempre está encerrada entre paréntesis, y normalmente se ejecuta antes de la sentencia contenedora. Como cualquier consulta, una subconsulta devuelve un conjunto de resultados que puede consistir en\n",
    "\n",
    "- Una sola fila con una sola columna\n",
    "- Varias filas con una sola columna\n",
    "- Varias filas con varias columnas\n",
    "\n",
    "El tipo de resultado devuelto por la subconsulta determina cómo puede utilizarse y qué operadores puede utilizar la sentencia contenedora para interactuar con los datos que devuelve la subconsulta. Cuando la sentencia contenedora ha terminado de ejecutarse, los datos devueltos por cualquier subconsulta se descartan, haciendo que una subconsulta actúe como una tabla temporal con alcance de sentencia (lo que significa que el servidor libera cualquier memoria asignada a los resultados de la subconsulta después de que la sentencia SQL haya terminado de ejecutarse).\n"
   ]
  },
  {
   "cell_type": "code",
   "execution_count": null,
   "id": "brown-talent",
   "metadata": {},
   "outputs": [],
   "source": []
  },
  {
   "cell_type": "code",
   "execution_count": null,
   "id": "patient-afternoon",
   "metadata": {},
   "outputs": [],
   "source": []
  },
  {
   "cell_type": "markdown",
   "id": "under-deficit",
   "metadata": {},
   "source": [
    "En este ejemplo, la subconsulta devuelve el valor máximo encontrado en la columna customer_id de la tabla customer, y la sentencia contenedora devuelve entonces los datos sobre ese cliente. Si alguna vez está confundido sobre lo que hace una subconsulta, puede ejecutar la subconsulta por sí misma (sin los paréntesis) para ver lo que devuelve. Aquí está la subconsulta del ejemplo anterior:"
   ]
  },
  {
   "cell_type": "code",
   "execution_count": null,
   "id": "brown-source",
   "metadata": {},
   "outputs": [],
   "source": []
  },
  {
   "cell_type": "markdown",
   "id": "restricted-consultation",
   "metadata": {},
   "source": [
    "Entonces, para tener el nombre y los apellidos de este customer_id necesitaríamos saber primero cuál es el máximo y entonces ejecutar esta consulta"
   ]
  },
  {
   "cell_type": "code",
   "execution_count": null,
   "id": "champion-sword",
   "metadata": {},
   "outputs": [],
   "source": []
  },
  {
   "cell_type": "markdown",
   "id": "trained-martial",
   "metadata": {},
   "source": [
    "La subquery es útil en este caso porque le permite recuperar información sobre el cliente con el ID más alto en una sola consulta, en lugar de recuperar el máximo customer_id usando una consulta y luego escribir una segunda consulta para recuperar los datos deseados de la tabla de clientes. Como verá, las subconsultas también son útiles en muchas otras situaciones y pueden convertirse en una de las herramientas más poderosas de su caja de herramientas SQL."
   ]
  },
  {
   "cell_type": "markdown",
   "id": "sharing-living",
   "metadata": {},
   "source": [
    "### Subconsultas no relacionadas\n",
    "El ejemplo anterior es una subconsulta no correlacionada; puede ser ejecutada sola y no hace referencia a nada de la sentencia que la contiene. La mayoría de las qubqueries que encuentres serán de este tipo, a menos que esté escribiendo sentencias de actualización o de borrado, las cuales frecuentemente hacen uso de subconsultas correlacionadas. \n",
    "Además de no estar correlacionadas, el ejemplo de antes del capítulo también devuelve un conjunto de resultados que contiene una sola fila y columna. Este tipo de subconsulta se conoce como subconsulta escalar y puede aparecer a ambos lados de una condición utilizando los operadores habituales (=, <>, <, >, <=, >=).    \n",
    "El siguiente ejemplo muestra cómo se puede utilizar una subconsulta escalar en una condición de desigualdad:      \n",
    "**Vamos a sacar todas las ciudades que no sean de India**"
   ]
  },
  {
   "cell_type": "code",
   "execution_count": null,
   "id": "written-integrity",
   "metadata": {},
   "outputs": [],
   "source": [
    "## Exploramos la tabla de países\n"
   ]
  },
  {
   "cell_type": "code",
   "execution_count": null,
   "id": "native-martial",
   "metadata": {},
   "outputs": [],
   "source": [
    "## Exploramos la tabla de ciudades\n"
   ]
  },
  {
   "cell_type": "code",
   "execution_count": null,
   "id": "latin-drama",
   "metadata": {},
   "outputs": [],
   "source": [
    "## Sacamos el country_id de India\n"
   ]
  },
  {
   "cell_type": "code",
   "execution_count": null,
   "id": "bizarre-bundle",
   "metadata": {},
   "outputs": [],
   "source": [
    "## Montamos la query completa con la subquery incluída\n"
   ]
  },
  {
   "cell_type": "markdown",
   "id": "labeled-encounter",
   "metadata": {},
   "source": [
    "Esta consulta devuelve todas las ciudades que no están en India. La subquery, que se encuentra en la última línea de la sentencia, devuelve el ID de país de la India, y la consulta contenedora devuelve todas las ciudades que no tienen ese ID de país. Aunque la subconsulta de este ejemplo es bastante sencilla, las subconsultas pueden ser tan complejas como se necesites y pueden utilizar todas las cláusulas de consulta disponibles (select, from, where, group by, having y order by).\n",
    "\n",
    "Si utiliza una subconsulta en una condición de igualdad pero la subconsulta devuelve más de una fila, recibirá un error. Por ejemplo, si modificamos la consulta anterior de forma que la subconsulta devuelva todos los países excepto India, recibiremos el siguiente error:    \n",
    "`ERROR 1242 (21000): Subquery returns more than 1 row`\n",
    "\n",
    "\n",
    "```MySQL\n",
    "SELECT city_id, city\n",
    "FROM city\n",
    "WHERE country_id <>\n",
    "(SELECT country_id FROM country WHERE country <> 'India');\n",
    "```\n",
    "\n"
   ]
  },
  {
   "cell_type": "code",
   "execution_count": null,
   "id": "japanese-census",
   "metadata": {},
   "outputs": [],
   "source": []
  },
  {
   "cell_type": "markdown",
   "id": "above-chemistry",
   "metadata": {},
   "source": [
    "### Subconsultas de varias filas y una columna\n",
    "Si su subconsulta devuelve más de una fila, no podrá utilizarla en un lado de una condición de igualdad, como se demostró en el ejemplo anterior. Sin embargo, hay cuatro operadores adicionales que puedes utilizar para construir condiciones con este tipo de subconsultas.\n",
    "\n",
    "#### Los operadores in y not in\n",
    "Aunque no se puede equiparar un único valor a un conjunto de valores, se puede comprobar si un único valor puede encontrarse dentro de un conjunto de valores."
   ]
  },
  {
   "cell_type": "code",
   "execution_count": null,
   "id": "productive-heating",
   "metadata": {},
   "outputs": [],
   "source": []
  },
  {
   "cell_type": "markdown",
   "id": "medical-lease",
   "metadata": {},
   "source": [
    "## Tablas derivadas\n",
    "Cuando una subconsulta comienza en la cláusula FROM (en lugar de la cláusula WHERE), el conjunto de resultados se denomina tabla derivada (también conocida como subconsulta materializada).    \n",
    "En este caso, a la subquery hay que ponerle un alias"
   ]
  },
  {
   "cell_type": "code",
   "execution_count": null,
   "id": "accomplished-testimony",
   "metadata": {},
   "outputs": [],
   "source": []
  },
  {
   "cell_type": "code",
   "execution_count": null,
   "id": "olympic-money",
   "metadata": {},
   "outputs": [],
   "source": []
  }
 ],
 "metadata": {
  "kernelspec": {
   "display_name": "ironhack",
   "language": "python",
   "name": "ironhack"
  },
  "language_info": {
   "codemirror_mode": {
    "name": "ipython",
    "version": 3
   },
   "file_extension": ".py",
   "mimetype": "text/x-python",
   "name": "python",
   "nbconvert_exporter": "python",
   "pygments_lexer": "ipython3",
   "version": "3.8.5"
  },
  "toc": {
   "base_numbering": 1,
   "nav_menu": {},
   "number_sections": true,
   "sideBar": true,
   "skip_h1_title": true,
   "title_cell": "Table of Contents",
   "title_sidebar": "Contents",
   "toc_cell": true,
   "toc_position": {
    "height": "calc(100% - 180px)",
    "left": "10px",
    "top": "150px",
    "width": "288px"
   },
   "toc_section_display": true,
   "toc_window_display": false
  }
 },
 "nbformat": 4,
 "nbformat_minor": 5
}
