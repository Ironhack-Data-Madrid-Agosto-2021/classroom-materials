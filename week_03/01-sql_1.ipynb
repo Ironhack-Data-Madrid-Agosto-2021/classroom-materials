{
 "cells": [
  {
   "cell_type": "markdown",
   "id": "other-music",
   "metadata": {
    "toc": true
   },
   "source": [
    "<h1>Table of Contents<span class=\"tocSkip\"></span></h1>\n",
    "<div class=\"toc\"><ul class=\"toc-item\"><li><span><a href=\"#Bases-de-datos\" data-toc-modified-id=\"Bases-de-datos-1\"><span class=\"toc-item-num\">1&nbsp;&nbsp;</span>Bases de datos</a></span></li><li><span><a href=\"#El-modelo-relacional\" data-toc-modified-id=\"El-modelo-relacional-2\"><span class=\"toc-item-num\">2&nbsp;&nbsp;</span>El modelo relacional</a></span><ul class=\"toc-item\"><li><span><a href=\"#Algunos-términos\" data-toc-modified-id=\"Algunos-términos-2.1\"><span class=\"toc-item-num\">2.1&nbsp;&nbsp;</span>Algunos términos</a></span></li></ul></li><li><span><a href=\"#SQL\" data-toc-modified-id=\"SQL-3\"><span class=\"toc-item-num\">3&nbsp;&nbsp;</span>SQL</a></span></li><li><span><a href=\"#Tipos-de-bases-de-datos\" data-toc-modified-id=\"Tipos-de-bases-de-datos-4\"><span class=\"toc-item-num\">4&nbsp;&nbsp;</span>Tipos de bases de datos</a></span><ul class=\"toc-item\"><li><span><a href=\"#MySQL-vs-MongoDB\" data-toc-modified-id=\"MySQL-vs-MongoDB-4.1\"><span class=\"toc-item-num\">4.1&nbsp;&nbsp;</span>MySQL vs MongoDB</a></span></li><li><span><a href=\"#Relacional-y-no-relacional-¿esto-qué-es?-🥸\" data-toc-modified-id=\"Relacional-y-no-relacional-¿esto-qué-es?-🥸-4.2\"><span class=\"toc-item-num\">4.2&nbsp;&nbsp;</span>Relacional y no relacional ¿esto qué es? 🥸</a></span></li></ul></li><li><span><a href=\"#Query\" data-toc-modified-id=\"Query-5\"><span class=\"toc-item-num\">5&nbsp;&nbsp;</span>Query</a></span></li><li><span><a href=\"#SQL-Sublenguajes\" data-toc-modified-id=\"SQL-Sublenguajes-6\"><span class=\"toc-item-num\">6&nbsp;&nbsp;</span>SQL Sublenguajes</a></span></li><li><span><a href=\"#Comprobemos-instalaciones\" data-toc-modified-id=\"Comprobemos-instalaciones-7\"><span class=\"toc-item-num\">7&nbsp;&nbsp;</span>Comprobemos instalaciones</a></span></li><li><span><a href=\"#Esquemas-relacionales\" data-toc-modified-id=\"Esquemas-relacionales-8\"><span class=\"toc-item-num\">8&nbsp;&nbsp;</span>Esquemas relacionales</a></span></li><li><span><a href=\"#Tipos-de-datos-de-MySQL\" data-toc-modified-id=\"Tipos-de-datos-de-MySQL-9\"><span class=\"toc-item-num\">9&nbsp;&nbsp;</span>Tipos de datos de MySQL</a></span><ul class=\"toc-item\"><li><span><a href=\"#Char\" data-toc-modified-id=\"Char-9.1\"><span class=\"toc-item-num\">9.1&nbsp;&nbsp;</span>Char</a></span></li><li><span><a href=\"#Numéricos\" data-toc-modified-id=\"Numéricos-9.2\"><span class=\"toc-item-num\">9.2&nbsp;&nbsp;</span>Numéricos</a></span></li><li><span><a href=\"#Datos-temporales\" data-toc-modified-id=\"Datos-temporales-9.3\"><span class=\"toc-item-num\">9.3&nbsp;&nbsp;</span>Datos temporales</a></span></li><li><span><a href=\"#Timestamp-vs-Datetime\" data-toc-modified-id=\"Timestamp-vs-Datetime-9.4\"><span class=\"toc-item-num\">9.4&nbsp;&nbsp;</span>Timestamp vs Datetime</a></span></li><li><span><a href=\"#Manos-a-la-obra!\" data-toc-modified-id=\"Manos-a-la-obra!-9.5\"><span class=\"toc-item-num\">9.5&nbsp;&nbsp;</span>Manos a la obra!</a></span></li></ul></li><li><span><a href=\"#Summary\" data-toc-modified-id=\"Summary-10\"><span class=\"toc-item-num\">10&nbsp;&nbsp;</span>Summary</a></span></li><li><span><a href=\"#Further-Materials\" data-toc-modified-id=\"Further-Materials-11\"><span class=\"toc-item-num\">11&nbsp;&nbsp;</span>Further Materials</a></span></li></ul></div>"
   ]
  },
  {
   "cell_type": "markdown",
   "id": "better-leone",
   "metadata": {},
   "source": [
    "# SQL"
   ]
  },
  {
   "cell_type": "markdown",
   "id": "requested-murray",
   "metadata": {},
   "source": [
    "![míticogif](https://media.giphy.com/media/vISmwpBJUNYzukTnVx/giphy.gif)"
   ]
  },
  {
   "cell_type": "markdown",
   "id": "statewide-characteristic",
   "metadata": {},
   "source": [
    "## Bases de datos "
   ]
  },
  {
   "cell_type": "markdown",
   "id": "equal-andrews",
   "metadata": {},
   "source": [
    "Una base de datos no es más que un conjunto de información relacionada.    \n",
    "\n",
    "Una guía telefónica, por ejemplo, es una base de datos con los nombres, números de teléfono y direcciones de todas las personas que viven en una región determinada. Aunque una guía telefónica es ciertamente una base de datos omnipresente y de uso frecuente, adolece de lo siguiente:\n",
    "\n",
    "Encontrar el número de teléfono de una persona puede llevar mucho tiempo, especialmente si la guía telefónica contiene un gran número de entradas.\n",
    "\n",
    "La guía telefónica está indexada sólo por apellidos y nombres, por lo que encontrar los nombres de las personas que viven en una dirección concreta, aunque es posible en teoría, no es un uso práctico para esta base de datos.\n",
    "\n",
    "Desde el momento en que se imprime la guía telefónica, la información es cada vez menos precisa, ya que las personas entran o salen de una región, cambian de número de teléfono o se trasladan a otra localidad dentro de la misma región.\n",
    "\n",
    "Los mismos inconvenientes que se atribuyen a las guías telefónicas pueden aplicarse a cualquier sistema manual de almacenamiento de datos, como los historiales de los pacientes almacenados en un archivador. Debido a la naturaleza engorrosa de las bases de datos en papel, algunas de las primeras aplicaciones informáticas desarrolladas fueron sistemas de bases de datos, que son mecanismos informatizados de almacenamiento y recuperación de datos. Como un sistema de base de datos almacena los datos electrónicamente en lugar de en papel, un sistema de base de datos es capaz de recuperar los datos más rápidamente, indexar los datos de múltiples maneras y ofrecer información actualizada a su comunidad de usuarios.\n",
    "\n",
    "Los primeros sistemas de bases de datos gestionaban datos almacenados en cintas magnéticas. Como generalmente había muchas más cintas que lectores de cintas, los técnicos se encargaban de cargar y descargar las cintas a medida que se solicitaban datos específicos. Como los ordenadores de aquella época tenían muy poca memoria, las múltiples solicitudes de los mismos datos solían requerir que éstos se leyeran de la cinta varias veces. Aunque estos sistemas de bases de datos suponían una mejora significativa respecto a las bases de datos en papel, están muy lejos de lo que es posible con la tecnología actual. (Los sistemas de bases de datos modernos pueden gestionar petabytes de datos, a los que se accede mediante clusters de servidores que almacenan cada uno decenas de gigabytes de esos datos en memoria de alta velocidad, pero me estoy adelantando un poco)."
   ]
  },
  {
   "cell_type": "markdown",
   "id": "emotional-showcase",
   "metadata": {},
   "source": [
    "## El modelo relacional\n",
    "En 1970, el Dr. E. F. Codd, del laboratorio de investigación de IBM, publicó un artículo titulado \"A Relational Model of Data for Large Shared Data Banks\" (Un modelo relacional de datos para grandes bancos de datos compartidos) en el que proponía que los datos se representaran como conjuntos de tablas. En lugar de utilizar punteros para navegar entre entidades relacionadas, se utilizan datos redundantes para enlazar registros en diferentes tablas. La Figura 1-3 muestra cómo aparecería la información de las cuentas de George y Sue en este contexto.\n"
   ]
  },
  {
   "cell_type": "markdown",
   "id": "stretch-sucking",
   "metadata": {},
   "source": [
    "![sql1](../images/sql1.png)"
   ]
  },
  {
   "cell_type": "markdown",
   "id": "looking-yahoo",
   "metadata": {},
   "source": [
    "La imagen representa las cuatro tablas comentadas hasta ahora: cliente, producto, cuenta y transacción. Si se observa la parte superior de la tabla de clientes de la Figura 1-3, se pueden ver tres columnas: cust_id (que contiene el número de identificación del cliente), fname (que contiene el nombre del cliente) y lname (que contiene el apellido del cliente). Si se mira el lado de la tabla de clientes, se pueden ver dos filas, una que contiene los datos de George Blake y la otra que contiene los datos de Sue Smith. El número de columnas que puede contener una tabla difiere de un servidor a otro, pero suele ser lo suficientemente grande como para no suponer un problema (Microsoft SQL Server, por ejemplo, permite hasta 1.024 columnas por tabla). El número de filas que puede contener una tabla depende más de los límites físicos (es decir, del espacio disponible en la unidad de disco) y de la capacidad de mantenimiento (es decir, del tamaño que puede alcanzar una tabla antes de que sea difícil trabajar con ella) que de las limitaciones del servidor de bases de datos.\n",
    "\n",
    "Cada tabla de una base de datos relacional incluye información que identifica de forma exclusiva una fila de esa tabla (conocida como clave primaria), junto con información adicional necesaria para describir la entidad por completo. Volviendo a la tabla de clientes, la columna cust_id contiene un número diferente para cada cliente; George Blake, por ejemplo, puede ser identificado de forma única por el ID de cliente 1. A ningún otro cliente se le asignará ese identificador, y no se necesita ninguna otra información para localizar los datos de George Blake en la tabla de clientes."
   ]
  },
  {
   "cell_type": "markdown",
   "id": "casual-control",
   "metadata": {},
   "source": [
    "### Algunos términos"
   ]
  },
  {
   "cell_type": "markdown",
   "id": "fifty-amount",
   "metadata": {},
   "source": [
    "**Entidad**\n",
    "Cada tabla posee una serie de campos que representan valores que queremos almacenar para cada entidad. Por ejemplo, un producto posee los siguientes atributos que se traducen en los campos correspondientes para almacenar su información: en este casao, Nombre, Apellidos, product_cd, cust_id....\n",
    "\n",
    "\n",
    "**Columna**\n",
    "\n",
    "Un dato individual almacenado en una tabla.\n",
    "\n",
    "**Fila**\n",
    "\n",
    "Conjunto de columnas que, en conjunto, describen completamente una entidad o alguna acción sobre una entidad. También se denomina registro.\n",
    "\n",
    "**Tabla**\n",
    "\n",
    "Conjunto de filas que se mantiene en memoria (no persistente) o en almacenamiento permanente (persistente).\n",
    "\n",
    "**Conjunto de resultados**\n",
    "\n",
    "Otro nombre para una tabla no persistente, generalmente el resultado de una consulta SQL.\n",
    "\n",
    "**Clave primaria** (PK)\n",
    "\n",
    "Una o varias columnas que pueden utilizarse como identificador único para cada fila de una tabla.\n",
    "\n",
    "**Clave externa** (FK)\n",
    "\n",
    "Una o varias columnas que pueden utilizarse conjuntamente para identificar una fila en otra tabla."
   ]
  },
  {
   "cell_type": "markdown",
   "id": "another-malaysia",
   "metadata": {},
   "source": [
    "## SQL"
   ]
  },
  {
   "cell_type": "markdown",
   "id": "developed-characterization",
   "metadata": {},
   "source": [
    "**S**tructured **Q**uery **L**language es un lenguaje de base de datos estándar que se utiliza para crear, gestionar y consultar datos de bases de datos relacionales"
   ]
  },
  {
   "cell_type": "markdown",
   "id": "republican-falls",
   "metadata": {},
   "source": [
    "## Tipos de bases de datos"
   ]
  },
  {
   "cell_type": "markdown",
   "id": "nearby-makeup",
   "metadata": {},
   "source": [
    "- Relacionales\n",
    "- No relacionales (las veremos más adelante)"
   ]
  },
  {
   "cell_type": "markdown",
   "id": "suspended-attraction",
   "metadata": {},
   "source": [
    "![tipos](https://www.freelancermap.com/blog/wp-content/uploads/2020/06/gestores-de-bases-de-datos-tipos-relacionales-no-relacionales.png)"
   ]
  },
  {
   "cell_type": "markdown",
   "id": "endless-colors",
   "metadata": {},
   "source": [
    "Para interactuar con el objeto físico que es la base de datos, utilizamos software (programas) llamados **DBMS**.     \n",
    "Durante el bootcamp aprenderemos dos de los más conocidos y utilizados:      \n",
    "    - **R**elational **D**atabase **M**anagement **S**ystem (RDBMS)     \n",
    "    ----> - MySQL    \n",
    "    - **N**on-**R**elational **D**atabase **M**anagement **S**ystem (NRDBMS)     \n",
    "    ----> - mongoDB    "
   ]
  },
  {
   "cell_type": "markdown",
   "id": "lined-lawsuit",
   "metadata": {},
   "source": [
    "### MySQL vs MongoDB"
   ]
  },
  {
   "cell_type": "markdown",
   "id": "weird-praise",
   "metadata": {},
   "source": [
    "![mysql_vs_mongodb](https://blog.panoply.io/hs-fs/hubfs/MySQL%20vs%20MongoDB.png?width=750&height=317&name=MySQL%20vs%20MongoDB.png)"
   ]
  },
  {
   "cell_type": "markdown",
   "id": "diverse-officer",
   "metadata": {},
   "source": [
    "Os dejo [aquí](https://blog.panoply.io/mongodb-and-mysql) el enlace al artículo "
   ]
  },
  {
   "cell_type": "markdown",
   "id": "comparative-buffalo",
   "metadata": {},
   "source": [
    "### Relacional y no relacional ¿esto qué es? 🥸"
   ]
  },
  {
   "cell_type": "markdown",
   "id": "desirable-evidence",
   "metadata": {},
   "source": [
    "Bases de datos **relacionales**:    \n",
    "- Están basadas en [álgebra relacional](https://es.wikipedia.org/wiki/%C3%81lgebra_relacional)      \n",
    "- Almacenan la información en forma tabular\n",
    "- Usan SQL"
   ]
  },
  {
   "cell_type": "markdown",
   "id": "orange-division",
   "metadata": {},
   "source": [
    "![relacionales](https://ayudaleyprotecciondatos.es/wp-content/uploads/2020/09/Modelo-base-de-datos-relacional.jpg)"
   ]
  },
  {
   "cell_type": "markdown",
   "id": "preliminary-netscape",
   "metadata": {},
   "source": [
    "Bases de datos **no relacionales**\n",
    "- Almacenan los datos en forma no-tabular (\"documentos\")\n",
    "- Utilizan NoSQL"
   ]
  },
  {
   "cell_type": "markdown",
   "id": "boring-planner",
   "metadata": {},
   "source": [
    "![norelacional](https://aukera.es/blog/imagenes/tabla-codigo.png)"
   ]
  },
  {
   "cell_type": "markdown",
   "id": "advised-allah",
   "metadata": {},
   "source": [
    "Estas bases de datos se han vuelto muy populares en los últimos años, puedes ir construyendo la base de datos de una forma más orgánica porque es mucho más flexible."
   ]
  },
  {
   "cell_type": "markdown",
   "id": "criminal-doubt",
   "metadata": {},
   "source": [
    "![sorpresa](../images/no-database.png)"
   ]
  },
  {
   "cell_type": "markdown",
   "id": "after-romania",
   "metadata": {},
   "source": [
    "[¿Por qué no debemos usar excel como base de datos?](https://www.bbc.com/news/technology-54423988)"
   ]
  },
  {
   "cell_type": "markdown",
   "id": "explicit-cemetery",
   "metadata": {},
   "source": [
    "## Query"
   ]
  },
  {
   "cell_type": "markdown",
   "id": "sunrise-simple",
   "metadata": {},
   "source": [
    "Hemos visto al principio que SQL significaba **S**tructured **Q**uery **L**anguaje ...     \n",
    "Query es \"consulta\", es un trozo de código que utilizamos para conectar con la base de datos y extraer datos, pero....no siempre vamos a realizar queries para \"obtener información\" de nuestra base de datos si no que a veces también vamos a utilizar queries para introducir datos.     \n",
    "Por ejemplo ¿Cuántos productos hay en mi base de datos?\n",
    "```SQL\n",
    "SELECT COUNT (product_id) FROM products; \n",
    "```"
   ]
  },
  {
   "cell_type": "markdown",
   "id": "filled-resolution",
   "metadata": {},
   "source": [
    "## SQL Sublenguajes"
   ]
  },
  {
   "cell_type": "markdown",
   "id": "forty-branch",
   "metadata": {},
   "source": [
    "- **Data Definition Language (DDL)** : se refiere a la parte del lenguaje que utilizamos para definir las estructuras para el almacenamiento de los datos.      \n",
    "                  \n",
    "- **Data Manipulation Language (DML)** : DML podremos manipular los datos propiamente dichos, efectuando consultas para recuperar datos, modificaciones, borrados, etc.    Las operaciones fundamentales de manipulación de datos son cuatro y consecuentemente cuatro los comando  DML que necesitaremos para poder llevarlas a cabo (ahora las vemos)\n",
    "\n",
    "- **Data Control Language (DCL)** : mucho menos conocidos que los anteriores este lenguaje se compone de sentencias especificas para garantizar la seguridad de acceso a los datos, facilitando la gestión de usuarios y el otorgamiento o denegación de los permisos necesarios para operar cada elemento de la base de datos.      \n",
    "      \n",
    "- **Transaction Control Language (TCL)** : TCL (Transactional Control Language): Permite administrar diferentes transacciones que ocurren dentro de una base de datos. (no se usa demasiado en MySQL.)"
   ]
  },
  {
   "cell_type": "markdown",
   "id": "ancient-rebecca",
   "metadata": {},
   "source": [
    "**DDL**\n",
    "```SQL\n",
    "\n",
    "CREATE : Utilizado para crear nuevas tablas, campos e índices.\n",
    "\n",
    "ALTER : Utilizado para modificar las tablas agregando campos o cambiando la definición de los campos.\n",
    "\n",
    "DROP : Empleado para eliminar tablas e índices.\n",
    "\n",
    "TRUNCATE : Empleado para eliminar todos los registros de una tabla.\n",
    "\n",
    "RENAME : Tal como su nombre lo indica es utilizado para renombrar objetos.\n",
    "\n",
    "```"
   ]
  },
  {
   "cell_type": "markdown",
   "id": "strategic-tuner",
   "metadata": {},
   "source": [
    "**DML**\n",
    "\n",
    "```SQL\n",
    "SELECT : La sentencia DML por excelencia se utiliza para ejecutar consulta de recuperación de datos.\n",
    " \n",
    "INSERT : Su finalidad es insertar nuevas filas en una tabla.\n",
    " \n",
    "UPDATE : Con este comando es posible cambiar la información alojada en una o mas filas.\n",
    "\n",
    "DELETE: Se utiliza para eliminar una o mas filas.     \n",
    "```"
   ]
  },
  {
   "cell_type": "markdown",
   "id": "beneficial-earth",
   "metadata": {},
   "source": [
    "**DCL**\n",
    "```SQL\n",
    "GRANT : Da permisos a la base de datos \n",
    "\n",
    "REVOKE : Revoca permisos a la base de datos\n",
    "```"
   ]
  },
  {
   "cell_type": "markdown",
   "id": "accompanied-article",
   "metadata": {},
   "source": [
    "**TCL**\n",
    "```SQL\n",
    "COMMIT: Guarda los cambios que hemos hecho en la base de datos, no se pueden deshacer.\n",
    "\n",
    "ROLLBACK: Revierte los cambios al estado del último commit\n",
    "\n",
    "```\n",
    "No lo vamos a usar, porque MySQL tiene autocommit y cualquier cosa que hacemos directamente se queda guardado en la base de datos. Pero debéis saber que existe. "
   ]
  },
  {
   "cell_type": "markdown",
   "id": "criminal-blackberry",
   "metadata": {},
   "source": [
    "![resumen](../images/resumen.png)"
   ]
  },
  {
   "cell_type": "markdown",
   "id": "anonymous-coach",
   "metadata": {},
   "source": [
    "## Comprobemos instalaciones"
   ]
  },
  {
   "cell_type": "markdown",
   "id": "greenhouse-bishop",
   "metadata": {},
   "source": [
    "Abrimos la terminal y escribimos el siguiente comando: "
   ]
  },
  {
   "cell_type": "code",
   "execution_count": 5,
   "id": "unable-beijing",
   "metadata": {},
   "outputs": [],
   "source": [
    "# mysql -u root -p ---> mac\n",
    "# winpty mysql -ur root -p --> windows"
   ]
  },
  {
   "cell_type": "markdown",
   "id": "thick-beverage",
   "metadata": {},
   "source": [
    "Abrimos MySQL Workbench y comprobamos la conexión "
   ]
  },
  {
   "cell_type": "markdown",
   "id": "powered-receptor",
   "metadata": {},
   "source": [
    "## Esquemas relacionales"
   ]
  },
  {
   "cell_type": "markdown",
   "id": "negative-freeze",
   "metadata": {},
   "source": [
    "Utilizamos un esquema relacional para describir el aspecto de nuestra base de datos. Los componentes clave de cualquier esquema relacional son:\n",
    "![relaciones](../images/relaciones.png)\n",
    "Nota: [aquí](https://towardsdatascience.com/designing-a-relational-database-and-creating-an-entity-relationship-diagram-89c1c19320b2) tienes una serie de posts súper bonitos en towardsdatascience donde se discuten estos conceptos. Nuestra clase de hoy los seguirá de cerca, ¡así que consúltalos para repasar o profundizar!"
   ]
  },
  {
   "cell_type": "markdown",
   "id": "homeless-alaska",
   "metadata": {},
   "source": [
    "**Primary Key** (pk)      \n",
    "Un atributo (o un conjunto de artributos) cuyo valor existe (no puede ser nulo) y es único para cada registro de una tabla.\n",
    "Cada tabla puede tener una y sólo una clave primaria. Son los identificadores únicos de una tabla."
   ]
  },
  {
   "cell_type": "markdown",
   "id": "legal-exception",
   "metadata": {},
   "source": [
    "**Foreign Keys** (fk)\n",
    "Una columna (o un conjunto de columnas) que identifica la relación entre una tabla (hija) y otra (padre) --a través de la clave primaria de esta última."
   ]
  },
  {
   "cell_type": "markdown",
   "id": "chicken-class",
   "metadata": {},
   "source": [
    " Las relaciones indican la cantidad de datos de una clave externa que pueden verse en la(s) columna(s) de clave primaria de la tabla con la que se relacionan los datos, y viceversa. Hay tres tipos principales:   \n",
    "    \n",
    "● one-to-one    \n",
    "● one-to-many    \n",
    "● many-to-many   \n",
    "     \n",
    "Nota: El proceso de definición de estas relaciones suele denominarse normalización."
   ]
  },
  {
   "cell_type": "markdown",
   "id": "gothic-significance",
   "metadata": {},
   "source": [
    "## Tipos de datos de MySQL\n",
    "En general, todos los servidores de bases de datos populares tienen la capacidad de almacenar los mismos tipos de datos, como cadenas, fechas y números. Donde suelen diferir es en los tipos de datos especiales, como los documentos XML y JSON o los datos espaciales. Hablaremos de los tipos de datos básicos y más utilizados:\n",
    "- char\n",
    "- numéricos\n",
    "- date"
   ]
  },
  {
   "cell_type": "markdown",
   "id": "offshore-architecture",
   "metadata": {},
   "source": [
    "### Char"
   ]
  },
  {
   "cell_type": "markdown",
   "id": "swiss-utilization",
   "metadata": {},
   "source": [
    "Los datos de caracteres pueden almacenarse como cadenas de longitud fija o variable; la diferencia es que las cadenas de longitud fija se rellenan con espacios a la derecha y siempre consumen el mismo número de bytes, y las cadenas de longitud variable no se rellenan con espacios a la derecha y no siempre consumen el mismo número de bytes. Al definir una columna de caracteres, debe especificar el tamaño máximo de cualquier cadena que se vaya a almacenar en la columna. Por ejemplo, si desea almacenar cadenas de hasta 20 caracteres de longitud, puede utilizar cualquiera de las siguientes definiciones:\n",
    "\n",
    "```SQL\n",
    "char(20) /* de longitud fija */\n",
    "varchar(20) /* longitud variable */\n",
    "``` \n",
    "La longitud máxima de las columnas char es actualmente de 255 bytes, mientras que las columnas varchar pueden tener hasta 65.535 bytes. Si necesitas almacenar cadenas más largas (como correos electrónicos, documentos XML, etc.), entonces querrás utilizar uno de los tipos de texto (mediumtext y longtext).\n",
    "En general, se debe utilizar el tipo char cuando todas las cadenas que se van a almacenar en la columna tienen la misma longitud, como las abreviaturas del estado, y el tipo varchar cuando las cadenas que se van a almacenar en la columna tienen longitudes diferentes. Tanto char como varchar se utilizan de forma similar en los principales servidores de bases de datos."
   ]
  },
  {
   "cell_type": "markdown",
   "id": "organizational-corner",
   "metadata": {},
   "source": [
    "### Numéricos"
   ]
  },
  {
   "cell_type": "markdown",
   "id": "dutch-franklin",
   "metadata": {},
   "source": [
    "Aunque podría parecer razonable tener un único tipo de datos numéricos llamado \"numérico\", en realidad hay varios tipos de datos numéricos diferentes que reflejan las diversas formas en que se utilizan los números, como se ilustra aquí:"
   ]
  },
  {
   "cell_type": "markdown",
   "id": "electrical-jacksonville",
   "metadata": {},
   "source": [
    "![int](../images/int.png)\n",
    "![float](../images/float.png)"
   ]
  },
  {
   "cell_type": "markdown",
   "id": "valuable-spain",
   "metadata": {},
   "source": [
    "### Datos temporales\n",
    "Junto con las cadenas y los números, es casi seguro que trabajarás con información sobre fechas y/u horas. Este tipo de datos se denomina temporal, y algunos ejemplos de datos temporales en una base de datos son:\n",
    "\n",
    "- La fecha futura en la que se espera que ocurra un evento concreto, como el envío del pedido de un cliente\n",
    "- La fecha en que se envió el pedido de un cliente\n",
    "- La fecha y hora en que un usuario modificó una fila concreta de una tabla\n",
    "- La fecha de nacimiento de un empleado\n",
    "- El año correspondiente a una fila de una tabla de hechos yearly_sales en un almacén de datos\n",
    "- El tiempo transcurrido para completar un mazo de cables en una línea de montaje de automóviles\n",
    "\n",
    "MySQL incluye tipos de datos para manejar todas estas situaciones. La imagen de abajo muestra los tipos de datos temporales soportados por MySQL."
   ]
  },
  {
   "cell_type": "markdown",
   "id": "removed-native",
   "metadata": {},
   "source": [
    "![temporales](../images/temporal.png)"
   ]
  },
  {
   "cell_type": "markdown",
   "id": "tired-cosmetic",
   "metadata": {},
   "source": [
    "### Timestamp vs Datetime \n",
    "https://es.stackoverflow.com/questions/35/debo-utilizar-un-campo-de-tipo-datetime-o-timestamp-en-mysql"
   ]
  },
  {
   "cell_type": "markdown",
   "id": "constant-norway",
   "metadata": {},
   "source": [
    "### Manos a la obra!\n",
    "Ahora trabajaremos en nuestro cliente favoryto de MySQL (Workbench preferiblemente, aunque también vale Sequel Pro)"
   ]
  },
  {
   "cell_type": "markdown",
   "id": "fresh-turtle",
   "metadata": {},
   "source": [
    "PK - Primary Key\n",
    "\n",
    "NN - Not Null\n",
    "\n",
    "BIN - Binary (stores data as binary strings. There is no character set so sorting and comparison is based on the numeric values of the bytes in the values.)\n",
    "\n",
    "UN - Unsigned (non-negative numbers only. so if the range is -500 to 500, instead its 0 - 1000, the range is the same but it starts at 0)\n",
    "\n",
    "UQ - Unique Key\n",
    "\n",
    "ZF - Zero-Filled (if the length is 5 like INT(5) then every field is filled with 0’s to the 5th digit. 12 = 00012, 400 = 00400, etc. )\n",
    "\n",
    "AI - Auto Increment\n",
    "\n",
    "G - Generated column. i.e. value generated by a formula based on the other columns"
   ]
  },
  {
   "cell_type": "markdown",
   "id": "honest-defense",
   "metadata": {},
   "source": [
    "## Summary"
   ]
  },
  {
   "cell_type": "markdown",
   "id": "fallen-alabama",
   "metadata": {},
   "source": [
    "## Further Materials\n",
    "\n",
    "- https://towardsdatascience.com/designing-a-relational-database-and-creating-an-entity-relationship-diagram-89c1c19320b2\n"
   ]
  }
 ],
 "metadata": {
  "kernelspec": {
   "display_name": "Python 3",
   "language": "python",
   "name": "python3"
  },
  "language_info": {
   "codemirror_mode": {
    "name": "ipython",
    "version": 3
   },
   "file_extension": ".py",
   "mimetype": "text/x-python",
   "name": "python",
   "nbconvert_exporter": "python",
   "pygments_lexer": "ipython3",
   "version": "3.8.5"
  },
  "toc": {
   "base_numbering": 1,
   "nav_menu": {},
   "number_sections": true,
   "sideBar": true,
   "skip_h1_title": true,
   "title_cell": "Table of Contents",
   "title_sidebar": "Contents",
   "toc_cell": true,
   "toc_position": {},
   "toc_section_display": true,
   "toc_window_display": false
  }
 },
 "nbformat": 4,
 "nbformat_minor": 5
}
