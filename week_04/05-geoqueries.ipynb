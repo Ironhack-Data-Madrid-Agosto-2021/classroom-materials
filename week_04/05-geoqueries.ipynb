{
 "cells": [
  {
   "cell_type": "markdown",
   "id": "nominated-holmes",
   "metadata": {},
   "source": [
    "# Geoqueries en Mongo"
   ]
  },
  {
   "cell_type": "markdown",
   "id": "supported-dividend",
   "metadata": {
    "toc": true
   },
   "source": [
    "<h1>Table of Contents<span class=\"tocSkip\"></span></h1>\n",
    "<div class=\"toc\"><ul class=\"toc-item\"><li><span><a href=\"#¿Qué-podemos-hacer-con-las-geoqueries?\" data-toc-modified-id=\"¿Qué-podemos-hacer-con-las-geoqueries?-1\"><span class=\"toc-item-num\">1&nbsp;&nbsp;</span>¿Qué podemos hacer con las geoqueries?</a></span></li><li><span><a href=\"#Generamos-la-conexión-con-Mongo\" data-toc-modified-id=\"Generamos-la-conexión-con-Mongo-2\"><span class=\"toc-item-num\">2&nbsp;&nbsp;</span>Generamos la conexión con Mongo</a></span></li><li><span><a href=\"#Importar-colecciones\" data-toc-modified-id=\"Importar-colecciones-3\"><span class=\"toc-item-num\">3&nbsp;&nbsp;</span>Importar colecciones</a></span></li><li><span><a href=\"#Crear-indexes\" data-toc-modified-id=\"Crear-indexes-4\"><span class=\"toc-item-num\">4&nbsp;&nbsp;</span>Crear indexes</a></span></li><li><span><a href=\"#Generamos-las-conexiones-con-la-base-de-datos\" data-toc-modified-id=\"Generamos-las-conexiones-con-la-base-de-datos-5\"><span class=\"toc-item-num\">5&nbsp;&nbsp;</span>Generamos las conexiones con la base de datos</a></span></li><li><span><a href=\"#Empezamos-con-las-Geoqueries\" data-toc-modified-id=\"Empezamos-con-las-Geoqueries-6\"><span class=\"toc-item-num\">6&nbsp;&nbsp;</span>Empezamos con las Geoqueries</a></span></li><li><span><a href=\"#Intersects\" data-toc-modified-id=\"Intersects-7\"><span class=\"toc-item-num\">7&nbsp;&nbsp;</span>Intersects</a></span></li><li><span><a href=\"#GeoWithin\" data-toc-modified-id=\"GeoWithin-8\"><span class=\"toc-item-num\">8&nbsp;&nbsp;</span>GeoWithin</a></span></li><li><span><a href=\"#Near\" data-toc-modified-id=\"Near-9\"><span class=\"toc-item-num\">9&nbsp;&nbsp;</span>Near</a></span></li><li><span><a href=\"#Extra,-extra!!-mis-datos-extraídos-de-Foursquare-en-Mongo\" data-toc-modified-id=\"Extra,-extra!!-mis-datos-extraídos-de-Foursquare-en-Mongo-10\"><span class=\"toc-item-num\">10&nbsp;&nbsp;</span>Extra, extra!! mis datos extraídos de Foursquare en Mongo</a></span><ul class=\"toc-item\"><li><span><a href=\"#Voy-a-traerme-todos-los-restaurantes-veganos-de-Madrid\" data-toc-modified-id=\"Voy-a-traerme-todos-los-restaurantes-veganos-de-Madrid-10.1\"><span class=\"toc-item-num\">10.1&nbsp;&nbsp;</span>Voy a traerme todos los restaurantes veganos de Madrid</a></span></li></ul></li><li><span><a href=\"#Vamos-a-ver-si-hay-alguno-cerca-del-matadero-/-también-las-fruterías\" data-toc-modified-id=\"Vamos-a-ver-si-hay-alguno-cerca-del-matadero-/-también-las-fruterías-11\"><span class=\"toc-item-num\">11&nbsp;&nbsp;</span>Vamos a ver si hay alguno cerca del matadero / también las fruterías</a></span><ul class=\"toc-item\"><li><span><a href=\"#Los-veganos\" data-toc-modified-id=\"Los-veganos-11.1\"><span class=\"toc-item-num\">11.1&nbsp;&nbsp;</span>Los veganos</a></span></li></ul></li></ul></div>"
   ]
  },
  {
   "cell_type": "markdown",
   "id": "bridal-strategy",
   "metadata": {},
   "source": [
    "## ¿Qué podemos hacer con las geoqueries?\n",
    "Con las geoquerías podemos responder a preguntas como las siguientes\n",
    " * ¿Dónde están las farmacias más cercanas a mi ubicación?\n",
    " * ¿Qué restaurantes hay en esta poligonal?"
   ]
  },
  {
   "cell_type": "markdown",
   "id": "selective-discharge",
   "metadata": {},
   "source": [
    "Cada punto de la Tierra se caracteriza por dos números:\n",
    " * Longitud: ángulo respecto al meridiano de Greenwich. Va de -180° (antiGreenwich) a +180° (también antiGreenwich)\n",
    " * Latitud: ángulo con respecto al ecuador. Va de -90° (sur) a +90° (norte)"
   ]
  },
  {
   "cell_type": "markdown",
   "id": "signal-kuwait",
   "metadata": {},
   "source": [
    "![latierra](../images/latlon.gif)"
   ]
  },
  {
   "cell_type": "markdown",
   "id": "killing-adams",
   "metadata": {},
   "source": [
    "## Generamos la conexión con Mongo"
   ]
  },
  {
   "cell_type": "code",
   "execution_count": 3,
   "id": "continuing-world",
   "metadata": {},
   "outputs": [],
   "source": [
    "from pymongo import MongoClient\n",
    "client = MongoClient(\"localhost:27017\")\n",
    "db = client.get_database(\"ironhack\")"
   ]
  },
  {
   "cell_type": "code",
   "execution_count": 4,
   "id": "regulation-turner",
   "metadata": {},
   "outputs": [
    {
     "data": {
      "text/plain": [
       "Database(MongoClient(host=['localhost:27017'], document_class=dict, tz_aware=False, connect=True), 'ironhack')"
      ]
     },
     "execution_count": 4,
     "metadata": {},
     "output_type": "execute_result"
    }
   ],
   "source": [
    "db"
   ]
  },
  {
   "cell_type": "markdown",
   "id": "functioning-cylinder",
   "metadata": {},
   "source": [
    "## Importar colecciones     \n",
    "Sigamos la documentación oficial de Mongo: [Mongo Geo Example](https://docs.mongodb.com/manual/tutorial/geospatial-tutorial/)\n",
    "Creamos estas dos colecciones nuevas:\n",
    " * `restaurants2`\n",
    " * `neighborhoods`"
   ]
  },
  {
   "cell_type": "markdown",
   "id": "peripheral-spelling",
   "metadata": {},
   "source": [
    "## Crear indexes\n",
    "La indexación geoespacial de MongoDB permite ejecutar eficientemente **consultas espaciales** sobre una colección que contiene formas y puntos geoespaciales.\n",
    "Vamos a crear un índice geográfico para que Mongo sepa que queremos hacer geo-consultas en esta colección.  \n",
    "Esto sólo debe hacerse una vez, y ahora la colección de Mongo está correctamente indexada para siempre."
   ]
  },
  {
   "cell_type": "code",
   "execution_count": 5,
   "id": "marked-offset",
   "metadata": {},
   "outputs": [],
   "source": [
    "from pymongo import GEOSPHERE"
   ]
  },
  {
   "cell_type": "code",
   "execution_count": 8,
   "id": "northern-tender",
   "metadata": {},
   "outputs": [
    {
     "data": {
      "text/plain": [
       "'geometry_2dsphere'"
      ]
     },
     "execution_count": 8,
     "metadata": {},
     "output_type": "execute_result"
    }
   ],
   "source": [
    "# Creamos el  index 2dsphere desde pymongo\n",
    "db.barrios.create_index([(\"geometry\", GEOSPHERE)])"
   ]
  },
  {
   "cell_type": "markdown",
   "id": "brave-singles",
   "metadata": {},
   "source": [
    "Es importante indicarle el campo donde tenemos tanto el tipo de elemento (polígonos o  puntos (point)) como las coordenadas."
   ]
  },
  {
   "cell_type": "code",
   "execution_count": 10,
   "id": "printable-shareware",
   "metadata": {},
   "outputs": [],
   "source": [
    "# Si quiero crear el de restaurants\n",
    "db.restaurants2.create_index([(\"location\", GEOSPHERE)])"
   ]
  },
  {
   "cell_type": "markdown",
   "id": "thermal-truth",
   "metadata": {},
   "source": [
    "## Generamos las conexiones con la base de datos"
   ]
  },
  {
   "cell_type": "code",
   "execution_count": 11,
   "id": "loaded-billion",
   "metadata": {},
   "outputs": [],
   "source": [
    "r = db.get_collection(\"restaurants2\")\n",
    "b = db.get_collection(\"barrios\")"
   ]
  },
  {
   "cell_type": "markdown",
   "id": "auburn-sixth",
   "metadata": {},
   "source": [
    "## Empezamos con las Geoqueries   \n",
    "¿En qué barrio estoy?      \n",
    "¿Qué elementos **intersecan** el elemento dado?"
   ]
  },
  {
   "cell_type": "markdown",
   "id": "material-relationship",
   "metadata": {},
   "source": [
    "## Intersects"
   ]
  },
  {
   "cell_type": "markdown",
   "id": "positive-gregory",
   "metadata": {},
   "source": [
    "Necesitamos tener los datos  con tipo polígono en este caso tenemos una colección con barrios donde cada barrio  tiene dentro  el polígono que lo delimita. Y cada barrio es un documento, por eso cuando  intersecta me devuelve el documento y yo veo  que es el barrio  en concreto.    \n",
    "Selecciona los documentos cuyos datos geoespaciales se cruzan con un objeto GeoJSON especificado; es decir, cuando la intersección de los datos y el objeto especificado no está vacía."
   ]
  },
  {
   "cell_type": "code",
   "execution_count": 13,
   "id": "distinguished-nelson",
   "metadata": {},
   "outputs": [],
   "source": [
    "def type_point(lista):\n",
    "    return {\"type\": \"Point\", \n",
    "            \"coordinates\": lista\n",
    "    }"
   ]
  },
  {
   "cell_type": "code",
   "execution_count": 12,
   "id": "enormous-camel",
   "metadata": {},
   "outputs": [],
   "source": [
    "coordenadas = [-73.93, 40.82]"
   ]
  },
  {
   "cell_type": "code",
   "execution_count": 14,
   "id": "configured-symphony",
   "metadata": {},
   "outputs": [
    {
     "data": {
      "text/plain": [
       "{'type': 'Point', 'coordinates': [-73.93, 40.82]}"
      ]
     },
     "execution_count": 14,
     "metadata": {},
     "output_type": "execute_result"
    }
   ],
   "source": [
    "type_point(coordenadas)"
   ]
  },
  {
   "cell_type": "code",
   "execution_count": 15,
   "id": "compliant-cologne",
   "metadata": {},
   "outputs": [],
   "source": [
    "proj = {\"_id\": 0, \"name\": 1}"
   ]
  },
  {
   "cell_type": "code",
   "execution_count": 17,
   "id": "different-style",
   "metadata": {},
   "outputs": [
    {
     "data": {
      "text/plain": [
       "dict_keys(['_id', 'geometry', 'name'])"
      ]
     },
     "execution_count": 17,
     "metadata": {},
     "output_type": "execute_result"
    }
   ],
   "source": [
    "b.find_one().keys()"
   ]
  },
  {
   "cell_type": "markdown",
   "id": "outdoor-destination",
   "metadata": {},
   "source": [
    "El geometry que va sin dolar es porque vamos a buscar en la colección de barrios y donde está la información es dentro de la key geometry, se ve justo aquí arriba 👆🏻. El geometry que lleva dolar es la sintaxis de mongo para todas las queries geoespaciales. \n",
    "Para hacer una query geoespacial a Mongo tengo que pasarle las coordenadas en tipo point"
   ]
  },
  {
   "cell_type": "code",
   "execution_count": 18,
   "id": "bound-blake",
   "metadata": {},
   "outputs": [
    {
     "data": {
      "text/plain": [
       "{'name': 'West Concourse'}"
      ]
     },
     "execution_count": 18,
     "metadata": {},
     "output_type": "execute_result"
    }
   ],
   "source": [
    "b.find_one({\"geometry\": {\"$geoIntersects\": {\"$geometry\":type_point(coordenadas) }}}, proj)"
   ]
  },
  {
   "cell_type": "code",
   "execution_count": 23,
   "id": "urban-caribbean",
   "metadata": {},
   "outputs": [],
   "source": [
    "# LO QUE LLAMÁBAMOS FILTRO A LA HORA DE HACER LA QUERY\n",
    "filtro = {\"geometry\": {\"$geoIntersects\": {\"$geometry\":type_point(coordenadas)}}}"
   ]
  },
  {
   "cell_type": "code",
   "execution_count": 26,
   "id": "democratic-rider",
   "metadata": {},
   "outputs": [],
   "source": [
    "#list(b.find(filtro))"
   ]
  },
  {
   "cell_type": "code",
   "execution_count": 27,
   "id": "dynamic-spending",
   "metadata": {},
   "outputs": [
    {
     "data": {
      "text/plain": [
       "[{'name': 'West Concourse'}]"
      ]
     },
     "execution_count": 27,
     "metadata": {},
     "output_type": "execute_result"
    }
   ],
   "source": [
    "list(b.find(filtro, proj))"
   ]
  },
  {
   "cell_type": "markdown",
   "id": "timely-amazon",
   "metadata": {},
   "source": [
    "## GeoWithin"
   ]
  },
  {
   "cell_type": "markdown",
   "id": "greek-regular",
   "metadata": {},
   "source": [
    "¿Qué elementos están **contenidos** en el elemento dado?     \n",
    "¿Qué restaurantes hay en este barrio (polígono)?"
   ]
  },
  {
   "cell_type": "code",
   "execution_count": 28,
   "id": "registered-thirty",
   "metadata": {},
   "outputs": [
    {
     "data": {
      "text/plain": [
       "dict_keys(['_id', 'geometry', 'name'])"
      ]
     },
     "execution_count": 28,
     "metadata": {},
     "output_type": "execute_result"
    }
   ],
   "source": [
    "# Vemos la estructura de los documentos sacando uno y viendo sus keys\n",
    "b.find_one({}).keys()"
   ]
  },
  {
   "cell_type": "code",
   "execution_count": 29,
   "id": "extensive-cincinnati",
   "metadata": {},
   "outputs": [],
   "source": [
    "#bUSCAMOS UN barrio en  concreto\n",
    "barrio = b.find_one({\"name\": \"West Concourse\"})"
   ]
  },
  {
   "cell_type": "code",
   "execution_count": 32,
   "id": "tribal-ceramic",
   "metadata": {},
   "outputs": [],
   "source": [
    "#Extraigo las coordenadas\n",
    "coordenadas = barrio[\"geometry\"]"
   ]
  },
  {
   "cell_type": "code",
   "execution_count": 33,
   "id": "level-reception",
   "metadata": {},
   "outputs": [
    {
     "data": {
      "text/plain": [
       "dict_keys(['_id', 'location', 'name'])"
      ]
     },
     "execution_count": 33,
     "metadata": {},
     "output_type": "execute_result"
    }
   ],
   "source": [
    "#Saco las keys de un documento de la coleccción  de restaurantes\n",
    "r.find_one({}).keys()"
   ]
  },
  {
   "cell_type": "code",
   "execution_count": null,
   "id": "laughing-productivity",
   "metadata": {},
   "outputs": [],
   "source": [
    "# ER FIRTRO\n",
    "#Location porque la key de la colección donde están las coordenadas se llama location"
   ]
  },
  {
   "cell_type": "code",
   "execution_count": 41,
   "id": "million-priest",
   "metadata": {},
   "outputs": [],
   "source": [
    "query = r.find({\"location\": {\"$geoWithin\": {\"$geometry\": coordenadas}}})"
   ]
  },
  {
   "cell_type": "code",
   "execution_count": 42,
   "id": "allied-original",
   "metadata": {},
   "outputs": [],
   "source": [
    "restaurantes_west = list(query)"
   ]
  },
  {
   "cell_type": "code",
   "execution_count": 43,
   "id": "loving-third",
   "metadata": {},
   "outputs": [
    {
     "data": {
      "text/plain": [
       "125"
      ]
     },
     "execution_count": 43,
     "metadata": {},
     "output_type": "execute_result"
    }
   ],
   "source": [
    "len(restaurantes_west)"
   ]
  },
  {
   "cell_type": "code",
   "execution_count": 46,
   "id": "hungry-masters",
   "metadata": {},
   "outputs": [],
   "source": [
    "import pandas as pd\n",
    "df = pd.DataFrame(restaurantes_west)"
   ]
  },
  {
   "cell_type": "code",
   "execution_count": 47,
   "id": "current-durham",
   "metadata": {},
   "outputs": [
    {
     "data": {
      "text/html": [
       "<div>\n",
       "<style scoped>\n",
       "    .dataframe tbody tr th:only-of-type {\n",
       "        vertical-align: middle;\n",
       "    }\n",
       "\n",
       "    .dataframe tbody tr th {\n",
       "        vertical-align: top;\n",
       "    }\n",
       "\n",
       "    .dataframe thead th {\n",
       "        text-align: right;\n",
       "    }\n",
       "</style>\n",
       "<table border=\"1\" class=\"dataframe\">\n",
       "  <thead>\n",
       "    <tr style=\"text-align: right;\">\n",
       "      <th></th>\n",
       "      <th>_id</th>\n",
       "      <th>location</th>\n",
       "      <th>name</th>\n",
       "    </tr>\n",
       "  </thead>\n",
       "  <tbody>\n",
       "    <tr>\n",
       "      <th>0</th>\n",
       "      <td>55cba2476c522cafdb056004</td>\n",
       "      <td>{'coordinates': [-73.9259201, 40.8278293], 'ty...</td>\n",
       "      <td>Hard Rock Cafe</td>\n",
       "    </tr>\n",
       "    <tr>\n",
       "      <th>1</th>\n",
       "      <td>55cba2476c522cafdb056005</td>\n",
       "      <td>{'coordinates': [-73.9259201, 40.8278293], 'ty...</td>\n",
       "      <td>Nyy Steak</td>\n",
       "    </tr>\n",
       "    <tr>\n",
       "      <th>2</th>\n",
       "      <td>55cba2476c522cafdb058ae9</td>\n",
       "      <td>{'coordinates': [-73.9259245, 40.827435], 'typ...</td>\n",
       "      <td>Dunkin Donuts</td>\n",
       "    </tr>\n",
       "    <tr>\n",
       "      <th>3</th>\n",
       "      <td>55cba2476c522cafdb0543cb</td>\n",
       "      <td>{'coordinates': [-73.92594439999999, 40.827212...</td>\n",
       "      <td>Billy'S Sport Bar Restaurant &amp; Lounge</td>\n",
       "    </tr>\n",
       "    <tr>\n",
       "      <th>4</th>\n",
       "      <td>55cba2476c522cafdb056784</td>\n",
       "      <td>{'coordinates': [-73.9262845, 40.8266956999999...</td>\n",
       "      <td>Stan'S Sports Bar</td>\n",
       "    </tr>\n",
       "  </tbody>\n",
       "</table>\n",
       "</div>"
      ],
      "text/plain": [
       "                        _id  \\\n",
       "0  55cba2476c522cafdb056004   \n",
       "1  55cba2476c522cafdb056005   \n",
       "2  55cba2476c522cafdb058ae9   \n",
       "3  55cba2476c522cafdb0543cb   \n",
       "4  55cba2476c522cafdb056784   \n",
       "\n",
       "                                            location  \\\n",
       "0  {'coordinates': [-73.9259201, 40.8278293], 'ty...   \n",
       "1  {'coordinates': [-73.9259201, 40.8278293], 'ty...   \n",
       "2  {'coordinates': [-73.9259245, 40.827435], 'typ...   \n",
       "3  {'coordinates': [-73.92594439999999, 40.827212...   \n",
       "4  {'coordinates': [-73.9262845, 40.8266956999999...   \n",
       "\n",
       "                                    name  \n",
       "0                         Hard Rock Cafe  \n",
       "1                              Nyy Steak  \n",
       "2                          Dunkin Donuts  \n",
       "3  Billy'S Sport Bar Restaurant & Lounge  \n",
       "4                      Stan'S Sports Bar  "
      ]
     },
     "execution_count": 47,
     "metadata": {},
     "output_type": "execute_result"
    }
   ],
   "source": [
    "df.head()"
   ]
  },
  {
   "cell_type": "markdown",
   "id": "lightweight-section",
   "metadata": {},
   "source": [
    "## Near"
   ]
  },
  {
   "cell_type": "markdown",
   "id": "wound-campus",
   "metadata": {},
   "source": [
    "¿Qué elementos se encuentran a una distancia de una geometría determinada?     \n",
    "`$nearSphere`/`$near` y `$maxDistance` nos ayudan a encontrar todos los elementos dentro de `maxDistance` metros de la geometría deseada, **ordenados** de más cercano a más lejano."
   ]
  },
  {
   "cell_type": "code",
   "execution_count": 48,
   "id": "dental-radar",
   "metadata": {},
   "outputs": [],
   "source": [
    "#  Mi posición, voy a buscar restaurantes cercanos a  ESTE punto\n",
    "coordenadas2 = [-73.93, 40.82]"
   ]
  },
  {
   "cell_type": "code",
   "execution_count": 53,
   "id": "digital-young",
   "metadata": {},
   "outputs": [],
   "source": [
    "# Km que quiero  caminar\n",
    "metros = 300"
   ]
  },
  {
   "cell_type": "code",
   "execution_count": 54,
   "id": "flying-essex",
   "metadata": {},
   "outputs": [],
   "source": [
    "coord = type_point(coordenadas2)"
   ]
  },
  {
   "cell_type": "code",
   "execution_count": 55,
   "id": "twenty-queens",
   "metadata": {},
   "outputs": [],
   "source": [
    "query = {\"location\": {\"$near\": {\"$geometry\": coord,\"$minDistance\":100 ,\"$maxDistance\": metros}}}"
   ]
  },
  {
   "cell_type": "code",
   "execution_count": 57,
   "id": "competitive-heavy",
   "metadata": {},
   "outputs": [
    {
     "data": {
      "text/plain": [
       "{'_id': ObjectId('55cba2476c522cafdb05517e'),\n",
       " 'location': {'coordinates': [-73.92856720000002, 40.8190635],\n",
       "  'type': 'Point'},\n",
       " 'name': 'Glacken Bar'}"
      ]
     },
     "execution_count": 57,
     "metadata": {},
     "output_type": "execute_result"
    }
   ],
   "source": [
    "list(r.find(query))[0]"
   ]
  },
  {
   "cell_type": "code",
   "execution_count": 64,
   "id": "concrete-lambda",
   "metadata": {},
   "outputs": [
    {
     "data": {
      "text/html": [
       "<div>\n",
       "<style scoped>\n",
       "    .dataframe tbody tr th:only-of-type {\n",
       "        vertical-align: middle;\n",
       "    }\n",
       "\n",
       "    .dataframe tbody tr th {\n",
       "        vertical-align: top;\n",
       "    }\n",
       "\n",
       "    .dataframe thead th {\n",
       "        text-align: right;\n",
       "    }\n",
       "</style>\n",
       "<table border=\"1\" class=\"dataframe\">\n",
       "  <thead>\n",
       "    <tr style=\"text-align: right;\">\n",
       "      <th></th>\n",
       "      <th>_id</th>\n",
       "      <th>location</th>\n",
       "      <th>name</th>\n",
       "    </tr>\n",
       "  </thead>\n",
       "  <tbody>\n",
       "    <tr>\n",
       "      <th>0</th>\n",
       "      <td>55cba2476c522cafdb05517e</td>\n",
       "      <td>{'coordinates': [-73.92856720000002, 40.819063...</td>\n",
       "      <td>Glacken Bar</td>\n",
       "    </tr>\n",
       "    <tr>\n",
       "      <th>1</th>\n",
       "      <td>55cba2476c522cafdb055dae</td>\n",
       "      <td>{'coordinates': [-73.9284026, 40.8190186], 'ty...</td>\n",
       "      <td>Sunlight Restaurant</td>\n",
       "    </tr>\n",
       "    <tr>\n",
       "      <th>2</th>\n",
       "      <td>55cba2476c522cafdb055ab1</td>\n",
       "      <td>{'coordinates': [-73.9280411, 40.8189109], 'ty...</td>\n",
       "      <td>The News Room Jazz Club</td>\n",
       "    </tr>\n",
       "    <tr>\n",
       "      <th>3</th>\n",
       "      <td>55cba2476c522cafdb054247</td>\n",
       "      <td>{'coordinates': [-73.92789290000002, 40.818967...</td>\n",
       "      <td>Glen Roy Bar And Grill</td>\n",
       "    </tr>\n",
       "    <tr>\n",
       "      <th>4</th>\n",
       "      <td>55cba2486c522cafdb059dad</td>\n",
       "      <td>{'coordinates': [-73.92778, 40.819083], 'type'...</td>\n",
       "      <td></td>\n",
       "    </tr>\n",
       "  </tbody>\n",
       "</table>\n",
       "</div>"
      ],
      "text/plain": [
       "                        _id  \\\n",
       "0  55cba2476c522cafdb05517e   \n",
       "1  55cba2476c522cafdb055dae   \n",
       "2  55cba2476c522cafdb055ab1   \n",
       "3  55cba2476c522cafdb054247   \n",
       "4  55cba2486c522cafdb059dad   \n",
       "\n",
       "                                            location                     name  \n",
       "0  {'coordinates': [-73.92856720000002, 40.819063...              Glacken Bar  \n",
       "1  {'coordinates': [-73.9284026, 40.8190186], 'ty...      Sunlight Restaurant  \n",
       "2  {'coordinates': [-73.9280411, 40.8189109], 'ty...  The News Room Jazz Club  \n",
       "3  {'coordinates': [-73.92789290000002, 40.818967...   Glen Roy Bar And Grill  \n",
       "4  {'coordinates': [-73.92778, 40.819083], 'type'...                           "
      ]
     },
     "execution_count": 64,
     "metadata": {},
     "output_type": "execute_result"
    }
   ],
   "source": [
    "res = pd.DataFrame(list(r.find(query)))\n",
    "res.head()"
   ]
  },
  {
   "cell_type": "code",
   "execution_count": 61,
   "id": "saved-ethics",
   "metadata": {},
   "outputs": [],
   "source": [
    "barrio_cerca = {\"geometry\": {\"$near\": {\"$geometry\": coord,\"$minDistance\":100 ,\"$maxDistance\": 300}}}"
   ]
  },
  {
   "cell_type": "code",
   "execution_count": 62,
   "id": "sound-employer",
   "metadata": {},
   "outputs": [
    {
     "data": {
      "text/plain": [
       "[{'name': 'East Concourse-Concourse Village'},\n",
       " {'name': 'Mott Haven-Port Morris'}]"
      ]
     },
     "execution_count": 62,
     "metadata": {},
     "output_type": "execute_result"
    }
   ],
   "source": [
    "list(b.find(barrio_cerca, proj))"
   ]
  },
  {
   "cell_type": "markdown",
   "id": "hybrid-despite",
   "metadata": {},
   "source": [
    "## Extra, extra!! mis datos extraídos de Foursquare en Mongo"
   ]
  },
  {
   "cell_type": "markdown",
   "id": "driving-dublin",
   "metadata": {},
   "source": [
    "### Voy a traerme todos los restaurantes veganos de Madrid"
   ]
  },
  {
   "cell_type": "code",
   "execution_count": 101,
   "id": "tight-spiritual",
   "metadata": {},
   "outputs": [
    {
     "data": {
      "text/plain": [
       "True"
      ]
     },
     "execution_count": 101,
     "metadata": {},
     "output_type": "execute_result"
    }
   ],
   "source": [
    "import requests\n",
    "import json\n",
    "from dotenv import load_dotenv\n",
    "import os\n",
    "import pandas as pd\n",
    "load_dotenv()"
   ]
  },
  {
   "cell_type": "code",
   "execution_count": 194,
   "id": "patient-wonder",
   "metadata": {},
   "outputs": [],
   "source": [
    "def geocode(direccion):\n",
    "    \"\"\"\n",
    "    Esta función saca las coordenadas de la dirección que le pases\n",
    "    \"\"\"\n",
    "    data = requests.get(f\"https://geocode.xyz/{direccion}?json=1\").json()\n",
    "    try:\n",
    "        return {\n",
    "            \"type\": \"Point\",\n",
    "            \"coordinates\": [float(data[\"latt\"]), float(data[\"longt\"])]\n",
    "        }\n",
    "    \n",
    "    except:\n",
    "        return data"
   ]
  },
  {
   "cell_type": "code",
   "execution_count": 106,
   "id": "sacred-investigator",
   "metadata": {},
   "outputs": [
    {
     "data": {
      "text/plain": [
       "{'type': 'Point', 'coordinates': ['40.42955', '-3.67930']}"
      ]
     },
     "execution_count": 106,
     "metadata": {},
     "output_type": "execute_result"
    }
   ],
   "source": [
    "dondebuscamos = geocode(\"Madrid\")\n",
    "dondebuscamos"
   ]
  },
  {
   "cell_type": "code",
   "execution_count": 115,
   "id": "popular-shanghai",
   "metadata": {},
   "outputs": [],
   "source": [
    "url_query = 'https://api.foursquare.com/v2/venues/explore'"
   ]
  },
  {
   "cell_type": "code",
   "execution_count": 116,
   "id": "cleared-narrow",
   "metadata": {},
   "outputs": [],
   "source": [
    "client_id = os.getenv(\"tok1\")\n",
    "client_secret = os.getenv(\"tok2\")"
   ]
  },
  {
   "cell_type": "code",
   "execution_count": 117,
   "id": "removable-affair",
   "metadata": {},
   "outputs": [],
   "source": [
    "parametros = {\n",
    "    \"client_id\": client_id,\n",
    "    \"client_secret\": client_secret,\n",
    "    \"v\": \"20180323\",\n",
    "    \"ll\": f\"{dondebuscamos['coordinates'][0]}, {dondebuscamos['coordinates'][1]}\",\n",
    "    \"query\": \"Vegan\",\n",
    "    \"limit\": 200   \n",
    "}"
   ]
  },
  {
   "cell_type": "code",
   "execution_count": 120,
   "id": "prescribed-answer",
   "metadata": {},
   "outputs": [],
   "source": [
    "resp = requests.get(url_query, params=parametros).json()[\"response\"][\"groups\"][0][\"items\"]"
   ]
  },
  {
   "cell_type": "code",
   "execution_count": 124,
   "id": "animal-middle",
   "metadata": {},
   "outputs": [],
   "source": [
    "mapa_nombre = [\"venue\", \"name\"]\n",
    "mapa_latitud = [\"venue\", \"location\", \"lat\"]\n",
    "mapa_longitud = [\"venue\", \"location\", \"lng\"]\n",
    "mapa_direccion = [\"venue\", \"location\", \"formattedAddress\"]"
   ]
  },
  {
   "cell_type": "code",
   "execution_count": 128,
   "id": "incomplete-while",
   "metadata": {},
   "outputs": [],
   "source": [
    "def getFromDict(diccionario, mapa):\n",
    "    from functools import reduce\n",
    "    import operator\n",
    "    return reduce(operator.getitem,mapa,diccionario)"
   ]
  },
  {
   "cell_type": "code",
   "execution_count": 129,
   "id": "collectible-literature",
   "metadata": {},
   "outputs": [],
   "source": [
    "unjsonnuevo = []\n",
    "for dic in resp:\n",
    "    paralista= {}\n",
    "    paralista[\"nombre\"]= getFromDict(dic,mapa_nombre)\n",
    "    paralista[\"latitud\"]= getFromDict(dic,mapa_latitud)\n",
    "    paralista[\"longitud\"]= getFromDict(dic,mapa_longitud)\n",
    "    paralista[\"dirección\"]= getFromDict(dic,mapa_direccion)\n",
    "    paralista[\"location\"]=  type_point([paralista[\"latitud\"],paralista[\"longitud\"]])\n",
    "    unjsonnuevo.append(paralista)"
   ]
  },
  {
   "cell_type": "code",
   "execution_count": 130,
   "id": "sacred-mercy",
   "metadata": {},
   "outputs": [
    {
     "data": {
      "text/plain": [
       "{'nombre': 'Planet Organic Food&Life',\n",
       " 'latitud': 40.428808,\n",
       " 'longitud': -3.681333,\n",
       " 'dirección': ['63 Calle Castelló', '28001 Madrid Madrid', 'España'],\n",
       " 'location': {'type': 'Point', 'coordinates': [40.428808, -3.681333]}}"
      ]
     },
     "execution_count": 130,
     "metadata": {},
     "output_type": "execute_result"
    }
   ],
   "source": [
    "unjsonnuevo[0]"
   ]
  },
  {
   "cell_type": "code",
   "execution_count": 139,
   "id": "signal-boost",
   "metadata": {},
   "outputs": [
    {
     "data": {
      "text/html": [
       "<div>\n",
       "<style scoped>\n",
       "    .dataframe tbody tr th:only-of-type {\n",
       "        vertical-align: middle;\n",
       "    }\n",
       "\n",
       "    .dataframe tbody tr th {\n",
       "        vertical-align: top;\n",
       "    }\n",
       "\n",
       "    .dataframe thead th {\n",
       "        text-align: right;\n",
       "    }\n",
       "</style>\n",
       "<table border=\"1\" class=\"dataframe\">\n",
       "  <thead>\n",
       "    <tr style=\"text-align: right;\">\n",
       "      <th></th>\n",
       "      <th>nombre</th>\n",
       "      <th>latitud</th>\n",
       "      <th>longitud</th>\n",
       "      <th>dirección</th>\n",
       "      <th>location</th>\n",
       "    </tr>\n",
       "  </thead>\n",
       "  <tbody>\n",
       "    <tr>\n",
       "      <th>2</th>\n",
       "      <td>Bunny's Deli</td>\n",
       "      <td>40.423935</td>\n",
       "      <td>-3.697158</td>\n",
       "      <td>[Calle San Gregorio 17, 28004 Madrid Madrid, E...</td>\n",
       "      <td>{'type': 'Point', 'coordinates': [40.423935, -...</td>\n",
       "    </tr>\n",
       "  </tbody>\n",
       "</table>\n",
       "</div>"
      ],
      "text/plain": [
       "         nombre    latitud  longitud  \\\n",
       "2  Bunny's Deli  40.423935 -3.697158   \n",
       "\n",
       "                                           dirección  \\\n",
       "2  [Calle San Gregorio 17, 28004 Madrid Madrid, E...   \n",
       "\n",
       "                                            location  \n",
       "2  {'type': 'Point', 'coordinates': [40.423935, -...  "
      ]
     },
     "execution_count": 139,
     "metadata": {},
     "output_type": "execute_result"
    }
   ],
   "source": [
    "df = pd.DataFrame(unjsonnuevo)\n",
    "df.sample()"
   ]
  },
  {
   "cell_type": "code",
   "execution_count": 138,
   "id": "worth-variety",
   "metadata": {},
   "outputs": [],
   "source": [
    "# Voy a hacer un geodataframe por si quiero utilizar carto"
   ]
  },
  {
   "cell_type": "code",
   "execution_count": 142,
   "id": "flush-fourth",
   "metadata": {},
   "outputs": [
    {
     "data": {
      "text/html": [
       "<div>\n",
       "<style scoped>\n",
       "    .dataframe tbody tr th:only-of-type {\n",
       "        vertical-align: middle;\n",
       "    }\n",
       "\n",
       "    .dataframe tbody tr th {\n",
       "        vertical-align: top;\n",
       "    }\n",
       "\n",
       "    .dataframe thead th {\n",
       "        text-align: right;\n",
       "    }\n",
       "</style>\n",
       "<table border=\"1\" class=\"dataframe\">\n",
       "  <thead>\n",
       "    <tr style=\"text-align: right;\">\n",
       "      <th></th>\n",
       "      <th>nombre</th>\n",
       "      <th>latitud</th>\n",
       "      <th>longitud</th>\n",
       "      <th>dirección</th>\n",
       "      <th>location</th>\n",
       "      <th>geometry</th>\n",
       "    </tr>\n",
       "  </thead>\n",
       "  <tbody>\n",
       "    <tr>\n",
       "      <th>7</th>\n",
       "      <td>Honest Greens</td>\n",
       "      <td>40.428914</td>\n",
       "      <td>-3.687266</td>\n",
       "      <td>[28001 Madrid Madrid, España]</td>\n",
       "      <td>{'type': 'Point', 'coordinates': [40.428914, -...</td>\n",
       "      <td>POINT (-3.68727 40.42891)</td>\n",
       "    </tr>\n",
       "  </tbody>\n",
       "</table>\n",
       "</div>"
      ],
      "text/plain": [
       "          nombre    latitud  longitud                      dirección  \\\n",
       "7  Honest Greens  40.428914 -3.687266  [28001 Madrid Madrid, España]   \n",
       "\n",
       "                                            location  \\\n",
       "7  {'type': 'Point', 'coordinates': [40.428914, -...   \n",
       "\n",
       "                    geometry  \n",
       "7  POINT (-3.68727 40.42891)  "
      ]
     },
     "execution_count": 142,
     "metadata": {},
     "output_type": "execute_result"
    }
   ],
   "source": [
    "import geopandas as gpd\n",
    "gdf = gpd.GeoDataFrame(df, geometry = gpd.points_from_xy(df.longitud, df.latitud))\n",
    "gdf.sample()"
   ]
  },
  {
   "cell_type": "code",
   "execution_count": 171,
   "id": "thorough-prison",
   "metadata": {},
   "outputs": [],
   "source": [
    "import json\n",
    "with open('vegan.json', 'w') as f:\n",
    "    json.dump(unjsonnuevo,f)"
   ]
  },
  {
   "cell_type": "markdown",
   "id": "alert-passenger",
   "metadata": {},
   "source": [
    "Los importo a una colección de Mongo llamada vegan"
   ]
  },
  {
   "cell_type": "markdown",
   "id": "dried-motion",
   "metadata": {},
   "source": [
    "## Vamos a ver si hay alguno cerca del matadero / también las fruterías"
   ]
  },
  {
   "cell_type": "code",
   "execution_count": 65,
   "id": "rolled-complement",
   "metadata": {},
   "outputs": [],
   "source": [
    "frut = db.get_collection(\"frut\")"
   ]
  },
  {
   "cell_type": "code",
   "execution_count": 68,
   "id": "operating-financing",
   "metadata": {},
   "outputs": [
    {
     "data": {
      "text/plain": [
       "{'_id': ObjectId('6130ab0bf57cd4cd4b93554e'),\n",
       " 'nombre': 'Platea Madrid',\n",
       " 'latitud': 40.426083288964996,\n",
       " 'longitud': -3.68866416486341,\n",
       " 'location': {'type': 'Point',\n",
       "  'coordinates': [40.426083288964996, -3.68866416486341]}}"
      ]
     },
     "execution_count": 68,
     "metadata": {},
     "output_type": "execute_result"
    }
   ],
   "source": [
    "frut.find_one({})"
   ]
  },
  {
   "cell_type": "code",
   "execution_count": 90,
   "id": "retained-classic",
   "metadata": {},
   "outputs": [],
   "source": [
    "coord = [40.3930059,-3.7010902]\n",
    "lavapi = [40.408808, -3.7034796]"
   ]
  },
  {
   "cell_type": "code",
   "execution_count": 100,
   "id": "parliamentary-pride",
   "metadata": {},
   "outputs": [
    {
     "data": {
      "text/plain": [
       "<function __main__.type_point(lista)>"
      ]
     },
     "execution_count": 100,
     "metadata": {},
     "output_type": "execute_result"
    }
   ],
   "source": [
    "type_point"
   ]
  },
  {
   "cell_type": "code",
   "execution_count": 97,
   "id": "burning-background",
   "metadata": {},
   "outputs": [],
   "source": [
    "query = {\"location\": {\"$near\":{\"$geometry\": type_point(lavapi), \"$maxDistance\": 900}}}"
   ]
  },
  {
   "cell_type": "code",
   "execution_count": 98,
   "id": "absent-assistant",
   "metadata": {},
   "outputs": [
    {
     "data": {
      "text/plain": [
       "[{'_id': ObjectId('6130ab0bf57cd4cd4b935555'),\n",
       "  'nombre': 'Fruteria Toledo',\n",
       "  'latitud': 40.408692002017396,\n",
       "  'longitud': -3.710762120782159,\n",
       "  'location': {'type': 'Point',\n",
       "   'coordinates': [40.408692002017396, -3.710762120782159]}}]"
      ]
     },
     "execution_count": 98,
     "metadata": {},
     "output_type": "execute_result"
    }
   ],
   "source": [
    "list(frut.find(query))"
   ]
  },
  {
   "cell_type": "markdown",
   "id": "interpreted-regression",
   "metadata": {},
   "source": [
    "### Los veganos"
   ]
  },
  {
   "cell_type": "code",
   "execution_count": 178,
   "id": "present-solomon",
   "metadata": {},
   "outputs": [],
   "source": [
    "veg = db.get_collection(\"vegan\")"
   ]
  },
  {
   "cell_type": "code",
   "execution_count": 207,
   "id": "turkish-length",
   "metadata": {},
   "outputs": [
    {
     "data": {
      "text/plain": [
       "{'_id': ObjectId('6130b2cbc5c899dec404edec'),\n",
       " 'nombre': 'Planet Organic Food&Life',\n",
       " 'latitud': 40.428808,\n",
       " 'longitud': -3.681333,\n",
       " 'dirección': ['63 Calle Castelló', '28001 Madrid Madrid', 'España'],\n",
       " 'location': {'type': 'Point', 'coordinates': [40.428808, -3.681333]}}"
      ]
     },
     "execution_count": 207,
     "metadata": {},
     "output_type": "execute_result"
    }
   ],
   "source": [
    "veg.find_one({})"
   ]
  },
  {
   "cell_type": "markdown",
   "id": "wrapped-threat",
   "metadata": {},
   "source": [
    "Creamos el Index 2dsphere a través de MongoDB compass"
   ]
  },
  {
   "cell_type": "code",
   "execution_count": 197,
   "id": "multiple-toolbox",
   "metadata": {},
   "outputs": [
    {
     "data": {
      "text/plain": [
       "{'type': 'Point', 'coordinates': [40.46338, -3.70338]}"
      ]
     },
     "execution_count": 197,
     "metadata": {},
     "output_type": "execute_result"
    }
   ],
   "source": [
    "ironhack = geocode(\"Matadero de Madrid\")\n",
    "ironhack"
   ]
  },
  {
   "cell_type": "code",
   "execution_count": 221,
   "id": "fewer-solomon",
   "metadata": {},
   "outputs": [],
   "source": [
    "veganoscerca = {\"location\": {\"$near\":{\"$geometry\": ironhack, \"$maxDistance\": 4000}}}"
   ]
  },
  {
   "cell_type": "code",
   "execution_count": 222,
   "id": "empty-influence",
   "metadata": {},
   "outputs": [
    {
     "data": {
      "text/plain": [
       "[{'_id': ObjectId('6130b2cbc5c899dec404edf6'),\n",
       "  'nombre': 'Goiko Grill',\n",
       "  'latitud': 40.437772891427834,\n",
       "  'longitud': -3.686615310483156,\n",
       "  'dirección': ['C. María de Molina, 20', '28006 Madrid Madrid', 'España'],\n",
       "  'location': {'type': 'Point',\n",
       "   'coordinates': [40.437772891427834, -3.686615310483156]}}]"
      ]
     },
     "execution_count": 222,
     "metadata": {},
     "output_type": "execute_result"
    }
   ],
   "source": [
    "list(veg.find(veganoscerca))"
   ]
  }
 ],
 "metadata": {
  "kernelspec": {
   "display_name": "ironhack",
   "language": "python",
   "name": "ironhack"
  },
  "language_info": {
   "codemirror_mode": {
    "name": "ipython",
    "version": 3
   },
   "file_extension": ".py",
   "mimetype": "text/x-python",
   "name": "python",
   "nbconvert_exporter": "python",
   "pygments_lexer": "ipython3",
   "version": "3.8.5"
  },
  "toc": {
   "base_numbering": 1,
   "nav_menu": {},
   "number_sections": true,
   "sideBar": true,
   "skip_h1_title": true,
   "title_cell": "Table of Contents",
   "title_sidebar": "Contents",
   "toc_cell": true,
   "toc_position": {
    "height": "calc(100% - 180px)",
    "left": "10px",
    "top": "150px",
    "width": "288px"
   },
   "toc_section_display": true,
   "toc_window_display": false
  }
 },
 "nbformat": 4,
 "nbformat_minor": 5
}
