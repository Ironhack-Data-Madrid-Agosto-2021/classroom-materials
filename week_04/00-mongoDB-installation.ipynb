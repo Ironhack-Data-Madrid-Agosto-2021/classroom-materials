{
 "cells": [
  {
   "cell_type": "markdown",
   "metadata": {},
   "source": [
    "# MongoDB"
   ]
  },
  {
   "cell_type": "markdown",
   "metadata": {},
   "source": [
    "![quenosemeinstala](https://media.giphy.com/media/ySpxjJmsq9gsw/giphy.gif)"
   ]
  },
  {
   "cell_type": "markdown",
   "metadata": {
    "toc": true
   },
   "source": [
    "<h1>Table of Contents<span class=\"tocSkip\"></span></h1>\n",
    "<div class=\"toc\"><ul class=\"toc-item\"><li><span><a href=\"#macOS\" data-toc-modified-id=\"macOS-1\"><span class=\"toc-item-num\">1&nbsp;&nbsp;</span>macOS</a></span><ul class=\"toc-item\"><li><span><a href=\"#Server\" data-toc-modified-id=\"Server-1.1\"><span class=\"toc-item-num\">1.1&nbsp;&nbsp;</span>Server</a></span><ul class=\"toc-item\"><li><span><a href=\"#Dependencies\" data-toc-modified-id=\"Dependencies-1.1.1\"><span class=\"toc-item-num\">1.1.1&nbsp;&nbsp;</span>Dependencies</a></span></li><li><span><a href=\"#Installation\" data-toc-modified-id=\"Installation-1.1.2\"><span class=\"toc-item-num\">1.1.2&nbsp;&nbsp;</span>Installation</a></span></li><li><span><a href=\"#Starting-and-stoping-Server\" data-toc-modified-id=\"Starting-and-stoping-Server-1.1.3\"><span class=\"toc-item-num\">1.1.3&nbsp;&nbsp;</span>Starting and stoping Server</a></span></li></ul></li><li><span><a href=\"#Mongo-Compass\" data-toc-modified-id=\"Mongo-Compass-1.2\"><span class=\"toc-item-num\">1.2&nbsp;&nbsp;</span>Mongo Compass</a></span><ul class=\"toc-item\"><li><span><a href=\"#Installation\" data-toc-modified-id=\"Installation-1.2.1\"><span class=\"toc-item-num\">1.2.1&nbsp;&nbsp;</span>Installation</a></span></li></ul></li><li><span><a href=\"#pymongo\" data-toc-modified-id=\"pymongo-1.3\"><span class=\"toc-item-num\">1.3&nbsp;&nbsp;</span>pymongo</a></span></li><li><span><a href=\"#Documentation\" data-toc-modified-id=\"Documentation-1.4\"><span class=\"toc-item-num\">1.4&nbsp;&nbsp;</span>Documentation</a></span></li></ul></li><li><span><a href=\"#Windows\" data-toc-modified-id=\"Windows-2\"><span class=\"toc-item-num\">2&nbsp;&nbsp;</span>Windows</a></span><ul class=\"toc-item\"><li><span><a href=\"#Server\" data-toc-modified-id=\"Server-2.1\"><span class=\"toc-item-num\">2.1&nbsp;&nbsp;</span>Server</a></span><ul class=\"toc-item\"><li><span><a href=\"#Installation\" data-toc-modified-id=\"Installation-2.1.1\"><span class=\"toc-item-num\">2.1.1&nbsp;&nbsp;</span>Installation</a></span></li><li><span><a href=\"#Starting-and-stoping-Server\" data-toc-modified-id=\"Starting-and-stoping-Server-2.1.2\"><span class=\"toc-item-num\">2.1.2&nbsp;&nbsp;</span>Starting and stoping Server</a></span></li></ul></li><li><span><a href=\"#Mongo-Compass\" data-toc-modified-id=\"Mongo-Compass-2.2\"><span class=\"toc-item-num\">2.2&nbsp;&nbsp;</span>Mongo Compass</a></span><ul class=\"toc-item\"><li><span><a href=\"#Installation\" data-toc-modified-id=\"Installation-2.2.1\"><span class=\"toc-item-num\">2.2.1&nbsp;&nbsp;</span>Installation</a></span></li></ul></li><li><span><a href=\"#pymongo\" data-toc-modified-id=\"pymongo-2.3\"><span class=\"toc-item-num\">2.3&nbsp;&nbsp;</span>pymongo</a></span></li><li><span><a href=\"#Documentation\" data-toc-modified-id=\"Documentation-2.4\"><span class=\"toc-item-num\">2.4&nbsp;&nbsp;</span>Documentation</a></span></li></ul></li><li><span><a href=\"#Ubuntu\" data-toc-modified-id=\"Ubuntu-3\"><span class=\"toc-item-num\">3&nbsp;&nbsp;</span>Ubuntu</a></span><ul class=\"toc-item\"><li><span><a href=\"#Server\" data-toc-modified-id=\"Server-3.1\"><span class=\"toc-item-num\">3.1&nbsp;&nbsp;</span>Server</a></span><ul class=\"toc-item\"><li><span><a href=\"#Dependencies\" data-toc-modified-id=\"Dependencies-3.1.1\"><span class=\"toc-item-num\">3.1.1&nbsp;&nbsp;</span>Dependencies</a></span></li><li><span><a href=\"#Installation\" data-toc-modified-id=\"Installation-3.1.2\"><span class=\"toc-item-num\">3.1.2&nbsp;&nbsp;</span>Installation</a></span></li><li><span><a href=\"#Starting-and-stoping-Server\" data-toc-modified-id=\"Starting-and-stoping-Server-3.1.3\"><span class=\"toc-item-num\">3.1.3&nbsp;&nbsp;</span>Starting and stoping Server</a></span></li></ul></li><li><span><a href=\"#Mongo-Compass\" data-toc-modified-id=\"Mongo-Compass-3.2\"><span class=\"toc-item-num\">3.2&nbsp;&nbsp;</span>Mongo Compass</a></span><ul class=\"toc-item\"><li><span><a href=\"#Installation\" data-toc-modified-id=\"Installation-3.2.1\"><span class=\"toc-item-num\">3.2.1&nbsp;&nbsp;</span>Installation</a></span></li></ul></li><li><span><a href=\"#pymongo\" data-toc-modified-id=\"pymongo-3.3\"><span class=\"toc-item-num\">3.3&nbsp;&nbsp;</span>pymongo</a></span></li><li><span><a href=\"#Documentation\" data-toc-modified-id=\"Documentation-3.4\"><span class=\"toc-item-num\">3.4&nbsp;&nbsp;</span>Documentation</a></span></li></ul></li></ul></div>"
   ]
  },
  {
   "cell_type": "markdown",
   "metadata": {},
   "source": [
    "\n",
    "![](https://lh3.googleusercontent.com/proxy/SB_X181yQGIQtTUCw3Dz0xbEKubOyoeC8dQKKSKFjRvq6jllISiB52ZQxUKWyHVqQuehEFS7JOPZQ_qOBVVvp0me_pQs_u0mG5XcHbMSYEMvnNSJmNMh9v0)\n",
    "\n",
    "# Installation\n",
    "\n",
    "There are three parts to the installation.\n",
    "- MongoDB Server\n",
    "- Mongo Compass \n",
    "- pymongo\n",
    "\n",
    "Follow these instructions depending on your Operating System"
   ]
  },
  {
   "cell_type": "markdown",
   "metadata": {},
   "source": [
    "## macOS\n",
    "\n",
    "### Server\n",
    "#### Dependencies\n",
    "\n",
    "- You'll neeb homebrew, but you should already have it by now.\n",
    "- Make sure you have Xcode installed\n",
    "```bash\n",
    "xcode-select --install\n",
    "```\n",
    "You should see the following output if you already have it installed, otherwise, it will install:\n",
    "\n",
    ">```\n",
    "xcode-select: error: command line tools are already installed, use \"Software Update\" to install updates\n",
    ">```\n",
    "\n",
    "#### Installation\n",
    "\n",
    "Run the following two commands in order to install the server.\n",
    "\n",
    "```bash\n",
    "brew tap mongodb/brew\n",
    "```\n",
    "\n",
    "```bash\n",
    "brew install mongodb-community\n",
    "```\n",
    "\n",
    "#### Starting and stoping Server\n",
    "\n",
    "```bash\n",
    "brew services start mongodb-community\n",
    "```\n",
    "\n",
    "```bash\n",
    "brew services stop mongodb-community\n",
    "```\n",
    "\n",
    "### Mongo Compass\n",
    "This is our GUI.\n",
    "\n",
    "#### Installation\n",
    "You will find the installer for download on this [link](https://www.mongodb.com/try/download/compass).\n",
    "\n",
    "Just download it for your OS, double click and follow the instructions on screen.\n",
    "\n",
    "### pymongo\n",
    "\n",
    "```bash\n",
    "pip install pymongo\n",
    "```\n",
    "\n",
    "### Documentation\n",
    "- [Install MongoDB Server on macOS](https://docs.mongodb.com/manual/tutorial/install-mongodb-on-os-x/)\n",
    "- [Install Mongo Compass](https://docs.mongodb.com/compass/master/install)\n",
    "- [Install pymongo](https://pymongo.readthedocs.io/en/stable/installation.html)"
   ]
  },
  {
   "cell_type": "markdown",
   "metadata": {},
   "source": [
    "![](https://www.livelifekingsize.net/wp-content/uploads/2017/10/separator-green.png)"
   ]
  },
  {
   "cell_type": "markdown",
   "metadata": {},
   "source": [
    "## Windows\n",
    "\n",
    "### Server\n",
    "\n",
    "#### Installation\n",
    "Download `.msi` installer from this [link](https://www.mongodb.com/try/download/community?tck=docs_server).\n",
    "\n",
    "Execute the installer, follow the instructions on screen. Choose a complete instalation and to install it as a Windows Service when prompted.\n",
    "\n",
    "![](https://docs.mongodb.com/manual/_images/windows-installer.png)\n",
    "\n",
    "Also:\n",
    "\n",
    "`Choose the option to install Mongo Compass.`\n",
    "\n",
    "This way we do two things at once and can skip the next installation.\n",
    "\n",
    "#### Starting and stoping Server\n",
    "\n",
    "Open the Services Console, just search for Services on the Start Button.\n",
    "\n",
    "Right-click on the MongoDB service and click Start or Stop.\n",
    "\n",
    "\n",
    "### Mongo Compass\n",
    "This is our GUI.\n",
    "\n",
    "#### Installation\n",
    "If you have `not` installed it with the server, you should download and install Mongo Compass.\n",
    "\n",
    "You will find the installer for download on this [link](https://www.mongodb.com/try/download/compass).\n",
    "\n",
    "Just download it for your OS, double click and follow the instructions on screen.\n",
    "\n",
    "### pymongo\n",
    "\n",
    "```bash\n",
    "pip install pymongo\n",
    "```\n",
    "\n",
    "### Documentation\n",
    "- [Install MongoDB Server on Windows](https://docs.mongodb.com/manual/tutorial/install-mongodb-on-windows/#install-mongodb-community-edition)\n",
    "- [Install Mongo Compass](https://docs.mongodb.com/compass/master/install)\n",
    "- [Install pymongo](https://pymongo.readthedocs.io/en/stable/installation.html)"
   ]
  },
  {
   "cell_type": "markdown",
   "metadata": {},
   "source": [
    "![](https://www.livelifekingsize.net/wp-content/uploads/2017/10/separator-green.png)"
   ]
  },
  {
   "cell_type": "markdown",
   "metadata": {},
   "source": [
    "## Ubuntu\n",
    "\n",
    "### Server\n",
    "#### Dependencies\n",
    "\n",
    "- You will need to add MongoDB to apt, execute the following command on the terminal.\n",
    "\n",
    "```bash\n",
    "wget -qO - https://www.mongodb.org/static/pgp/server-4.4.asc | sudo apt-key add -\n",
    "```\n",
    "It should return an OK.\n",
    "\n",
    "---\n",
    "`IF` and only `IF` you have an error indicating gnupg is not installed, type the following commands:\n",
    "\n",
    ">```bash\n",
    "sudo apt-get install gnupg\n",
    ">```\n",
    "then\n",
    ">```bash\n",
    "wget -qO - https://www.mongodb.org/static/pgp/server-4.4.asc | sudo apt-key add -\n",
    ">```\n",
    "---\n",
    "\n",
    "\n",
    "Finally (whether you had to install gnupg or `not`, either way), execute the following:\n",
    "\n",
    "```bash\n",
    "echo \"deb [ arch=amd64,arm64 ] https://repo.mongodb.org/apt/ubuntu focal/mongodb-org/4.4 multiverse\" | sudo tee /etc/apt/sources.list.d/mongodb-org-4.4.list\n",
    "```\n",
    "\n",
    "#### Installation\n",
    "\n",
    "Just execute this and wait.\n",
    "\n",
    "```bash\n",
    "sudo apt-get install -y mongodb-org\n",
    "```\n",
    "\n",
    "#### Starting and stoping Server\n",
    "\n",
    "```bash\n",
    "sudo systemctl start mongod\n",
    "```\n",
    "\n",
    "```bash\n",
    "sudo systemctl stop mongod\n",
    "```\n",
    "\n",
    "### Mongo Compass\n",
    "This is our GUI.\n",
    "\n",
    "#### Installation\n",
    "You will find the installer for download on this [link](https://www.mongodb.com/try/download/compass).\n",
    "\n",
    "Just download it for your OS, double click and follow the instructions on screen.\n",
    "\n",
    "### pymongo\n",
    "\n",
    "```bash\n",
    "pip install pymongo\n",
    "```\n",
    "\n",
    "### Documentation\n",
    "- [Install MongoDB Server on Ubuntu](https://docs.mongodb.com/manual/tutorial/install-mongodb-on-ubuntu/#install-mongodb-community-edition)\n",
    "- [Install Mongo Compass](https://docs.mongodb.com/compass/master/install)\n",
    "- [Install pymongo](https://pymongo.readthedocs.io/en/stable/installation.html)"
   ]
  },
  {
   "cell_type": "markdown",
   "metadata": {},
   "source": [
    "![](https://www.livelifekingsize.net/wp-content/uploads/2017/10/separator-green.png)"
   ]
  }
 ],
 "metadata": {
  "kernelspec": {
   "display_name": "Python 3",
   "language": "python",
   "name": "python3"
  },
  "language_info": {
   "codemirror_mode": {
    "name": "ipython",
    "version": 3
   },
   "file_extension": ".py",
   "mimetype": "text/x-python",
   "name": "python",
   "nbconvert_exporter": "python",
   "pygments_lexer": "ipython3",
   "version": "3.8.5"
  },
  "toc": {
   "base_numbering": 1,
   "nav_menu": {},
   "number_sections": true,
   "sideBar": true,
   "skip_h1_title": true,
   "title_cell": "Table of Contents",
   "title_sidebar": "Contents",
   "toc_cell": true,
   "toc_position": {
    "height": "calc(100% - 180px)",
    "left": "10px",
    "top": "150px",
    "width": "259px"
   },
   "toc_section_display": true,
   "toc_window_display": true
  }
 },
 "nbformat": 4,
 "nbformat_minor": 4
}
