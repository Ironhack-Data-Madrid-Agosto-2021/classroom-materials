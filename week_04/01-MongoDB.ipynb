{
 "cells": [
  {
   "cell_type": "markdown",
   "id": "mighty-crowd",
   "metadata": {},
   "source": [
    "# MongoDB"
   ]
  },
  {
   "cell_type": "markdown",
   "id": "incoming-mortgage",
   "metadata": {},
   "source": [
    "![memesmongo](../images/mongo.png)"
   ]
  },
  {
   "cell_type": "markdown",
   "id": "greatest-neighborhood",
   "metadata": {
    "toc": true
   },
   "source": [
    "<h1>Table of Contents<span class=\"tocSkip\"></span></h1>\n",
    "<div class=\"toc\"><ul class=\"toc-item\"><li><span><a href=\"#¿Qué-es-MongoDB?\" data-toc-modified-id=\"¿Qué-es-MongoDB?-1\"><span class=\"toc-item-num\">1&nbsp;&nbsp;</span>¿Qué es MongoDB?</a></span></li><li><span><a href=\"#¿Qué-es-la-base-de-datos-MongoDB?\" data-toc-modified-id=\"¿Qué-es-la-base-de-datos-MongoDB?-2\"><span class=\"toc-item-num\">2&nbsp;&nbsp;</span>¿Qué es la base de datos MongoDB?</a></span><ul class=\"toc-item\"><li><span><a href=\"#Pequeña-explicación-animada-🤔\" data-toc-modified-id=\"Pequeña-explicación-animada-🤔-2.1\"><span class=\"toc-item-num\">2.1&nbsp;&nbsp;</span>Pequeña explicación animada 🤔</a></span></li></ul></li><li><span><a href=\"#Instalaciones\" data-toc-modified-id=\"Instalaciones-3\"><span class=\"toc-item-num\">3&nbsp;&nbsp;</span>Instalaciones</a></span></li><li><span><a href=\"#Creación-de-bases-de-datos\" data-toc-modified-id=\"Creación-de-bases-de-datos-4\"><span class=\"toc-item-num\">4&nbsp;&nbsp;</span>Creación de bases de datos</a></span></li><li><span><a href=\"#Conexión-con-Python\" data-toc-modified-id=\"Conexión-con-Python-5\"><span class=\"toc-item-num\">5&nbsp;&nbsp;</span>Conexión con Python</a></span><ul class=\"toc-item\"><li><span><a href=\"#Nos-conectamos-al-servidor\" data-toc-modified-id=\"Nos-conectamos-al-servidor-5.1\"><span class=\"toc-item-num\">5.1&nbsp;&nbsp;</span>Nos conectamos al servidor</a></span></li><li><span><a href=\"#Nos-conectamos-con-la-base-de-datos\" data-toc-modified-id=\"Nos-conectamos-con-la-base-de-datos-5.2\"><span class=\"toc-item-num\">5.2&nbsp;&nbsp;</span>Nos conectamos con la base de datos</a></span></li></ul></li><li><span><a href=\"#Operaciones-básicas-de-gestión-de-bases-de-datos\" data-toc-modified-id=\"Operaciones-básicas-de-gestión-de-bases-de-datos-6\"><span class=\"toc-item-num\">6&nbsp;&nbsp;</span>Operaciones básicas de gestión de bases de datos</a></span><ul class=\"toc-item\"><li><span><a href=\"#Creamos-y-borramos-colecciones-desde-python\" data-toc-modified-id=\"Creamos-y-borramos-colecciones-desde-python-6.1\"><span class=\"toc-item-num\">6.1&nbsp;&nbsp;</span>Creamos y borramos colecciones desde python</a></span></li><li><span><a href=\"#Nos-conectamos-a-una-colección-en-concreto-para-hacer-las-consultas\" data-toc-modified-id=\"Nos-conectamos-a-una-colección-en-concreto-para-hacer-las-consultas-6.2\"><span class=\"toc-item-num\">6.2&nbsp;&nbsp;</span>Nos conectamos a una colección en concreto para hacer las consultas</a></span></li></ul></li><li><span><a href=\"#Consultas-en-Mongo\" data-toc-modified-id=\"Consultas-en-Mongo-7\"><span class=\"toc-item-num\">7&nbsp;&nbsp;</span>Consultas en Mongo</a></span><ul class=\"toc-item\"><li><span><a href=\"#Método-find_one\" data-toc-modified-id=\"Método-find_one-7.1\"><span class=\"toc-item-num\">7.1&nbsp;&nbsp;</span>Método <code>find_one</code></a></span></li><li><span><a href=\"#Método-find\" data-toc-modified-id=\"Método-find-7.2\"><span class=\"toc-item-num\">7.2&nbsp;&nbsp;</span>Método <code>find</code></a></span></li></ul></li><li><span><a href=\"#Proyección\" data-toc-modified-id=\"Proyección-8\"><span class=\"toc-item-num\">8&nbsp;&nbsp;</span>Proyección</a></span></li><li><span><a href=\"#Otros-métodos\" data-toc-modified-id=\"Otros-métodos-9\"><span class=\"toc-item-num\">9&nbsp;&nbsp;</span>Otros métodos</a></span><ul class=\"toc-item\"><li><span><a href=\"#distinct\" data-toc-modified-id=\"distinct-9.1\"><span class=\"toc-item-num\">9.1&nbsp;&nbsp;</span><code>distinct</code></a></span></li><li><span><a href=\"#count\" data-toc-modified-id=\"count-9.2\"><span class=\"toc-item-num\">9.2&nbsp;&nbsp;</span><code>count</code></a></span></li><li><span><a href=\"#sort\" data-toc-modified-id=\"sort-9.3\"><span class=\"toc-item-num\">9.3&nbsp;&nbsp;</span><code>sort</code></a></span></li><li><span><a href=\"#limit\" data-toc-modified-id=\"limit-9.4\"><span class=\"toc-item-num\">9.4&nbsp;&nbsp;</span><code>limit</code></a></span></li><li><span><a href=\"#skip\" data-toc-modified-id=\"skip-9.5\"><span class=\"toc-item-num\">9.5&nbsp;&nbsp;</span><code>skip</code></a></span></li></ul></li><li><span><a href=\"#Operadores-de-consulta-típicos\" data-toc-modified-id=\"Operadores-de-consulta-típicos-10\"><span class=\"toc-item-num\">10&nbsp;&nbsp;</span>Operadores de consulta típicos</a></span><ul class=\"toc-item\"><li><span><a href=\"#Mayor-que-/-Menor-que\" data-toc-modified-id=\"Mayor-que-/-Menor-que-10.1\"><span class=\"toc-item-num\">10.1&nbsp;&nbsp;</span>Mayor que / Menor que</a></span></li><li><span><a href=\"#exists\" data-toc-modified-id=\"exists-10.2\"><span class=\"toc-item-num\">10.2&nbsp;&nbsp;</span><code>exists</code></a></span></li><li><span><a href=\"#regex\" data-toc-modified-id=\"regex-10.3\"><span class=\"toc-item-num\">10.3&nbsp;&nbsp;</span><code>regex</code></a></span></li><li><span><a href=\"#and\" data-toc-modified-id=\"and-10.4\"><span class=\"toc-item-num\">10.4&nbsp;&nbsp;</span><code>and</code></a></span></li><li><span><a href=\"#or\" data-toc-modified-id=\"or-10.5\"><span class=\"toc-item-num\">10.5&nbsp;&nbsp;</span><code>or</code></a></span></li><li><span><a href=\"#ne\" data-toc-modified-id=\"ne-10.6\"><span class=\"toc-item-num\">10.6&nbsp;&nbsp;</span><code>ne</code></a></span></li><li><span><a href=\"#in\" data-toc-modified-id=\"in-10.7\"><span class=\"toc-item-num\">10.7&nbsp;&nbsp;</span><code>in</code></a></span></li><li><span><a href=\"#nin\" data-toc-modified-id=\"nin-10.8\"><span class=\"toc-item-num\">10.8&nbsp;&nbsp;</span><code>nin</code></a></span></li></ul></li><li><span><a href=\"#Update\" data-toc-modified-id=\"Update-11\"><span class=\"toc-item-num\">11&nbsp;&nbsp;</span>Update</a></span></li><li><span><a href=\"#Delete\" data-toc-modified-id=\"Delete-12\"><span class=\"toc-item-num\">12&nbsp;&nbsp;</span>Delete</a></span></li><li><span><a href=\"#Insert\" data-toc-modified-id=\"Insert-13\"><span class=\"toc-item-num\">13&nbsp;&nbsp;</span>Insert</a></span></li><li><span><a href=\"#Info-extra\" data-toc-modified-id=\"Info-extra-14\"><span class=\"toc-item-num\">14&nbsp;&nbsp;</span>Info extra</a></span></li><li><span><a href=\"#Resumen\" data-toc-modified-id=\"Resumen-15\"><span class=\"toc-item-num\">15&nbsp;&nbsp;</span>Resumen</a></span></li><li><span><a href=\"#Further-Materials\" data-toc-modified-id=\"Further-Materials-16\"><span class=\"toc-item-num\">16&nbsp;&nbsp;</span>Further Materials</a></span></li></ul></div>"
   ]
  },
  {
   "cell_type": "markdown",
   "id": "logical-pattern",
   "metadata": {},
   "source": [
    "## ¿Qué es MongoDB?    \n",
    "   \n",
    "MongoDB (del inglés humongous, \"enorme\") es un sistema de base de datos NoSQL, orientado a documentos y de código abierto.\n",
    "En lugar de guardar los datos en tablas, tal y como se hace en las bases de datos relacionales, MongoDB guarda estructuras de datos BSON (una especificación similar a JSON) con un esquema dinámico, haciendo que la integración de los datos en ciertas aplicaciones sea más fácil y rápida.\n",
    "MongoDB es una base de datos adecuada para su uso en producción y con múltiples funcionalidades. Esta base de datos se utiliza mucho en la industria, contando con implantaciones en empresas como MTV Network,  Craiglist, Foursquare.       \n",
    "El código fuente está disponible para los sistemas operativos --> Windows, GNU/Linux, OS X y Solaris."
   ]
  },
  {
   "cell_type": "markdown",
   "id": "classified-answer",
   "metadata": {},
   "source": [
    "## ¿Qué es la base de datos MongoDB?\n",
    "\n",
    "Una base de datos, es decir, una forma estructurada de almacenar y acceder a los datos, más específicamente, es una base de datos NoSQL.\n",
    "NoSQL es un término muy genérico que se utiliza para describir cualquier almacén de datos que no utiliza el enfoque heredado de tablas de datos relacionadas.\n",
    "Esto significa que está almacenando sus datos de una manera organizada, pero no en filas y columnas Un ejemplo de bases de datos NoSQL puede ser cualquier cosa, desde un catálogo de tarjetas de biblioteca, a un almacén de datos más sofisticado como MongoDB.\n",
    "Dado que el rango de lo que significa NoSQL es tan amplio, debemos acotar más nuestra definición.\n",
    "MongoDB es una base de datos de documentos NoSQL.\n",
    "Esto significa que los datos en MongoDB se almacenan como documentos, estos documentos se almacenan a su vez en lo que llamamos colecciones de documentos, Por eso MongoDB se clasifica como una base de datos de documentos NoSQL.\n",
    "\n",
    "En conclusión, la base de datos MongoDB es una base de datos de documentos NoSQL."
   ]
  },
  {
   "cell_type": "markdown",
   "id": "checked-sigma",
   "metadata": {},
   "source": [
    "### Pequeña explicación animada 🤔\n",
    "Veamos juntas [este](https://www.youtube.com/watch?v=DM4gD6Z5zFU) vídeo"
   ]
  },
  {
   "cell_type": "markdown",
   "id": "dominican-proposal",
   "metadata": {},
   "source": [
    "## Instalaciones\n",
    "Encontrarás todo lo referente a las instalaciones [AQUÍ](https://github.com/Ironhack-Data-Madrid-Agosto-2021/classroom-materials/blob/main/week_04/00-mongoDB-installation.ipynb)"
   ]
  },
  {
   "cell_type": "markdown",
   "id": "surgical-graduation",
   "metadata": {},
   "source": [
    "## Creación de bases de datos\n",
    "Hemos visto que a través de MongoDB compass podíamos crear una base de datos, una colección e importar los datos en formato JSON de manera sencilla. \n",
    "También podemos hacerlo mediante la interfaz de comandos o CLI de mongo."
   ]
  },
  {
   "cell_type": "code",
   "execution_count": null,
   "id": "emotional-pharmacy",
   "metadata": {},
   "outputs": [],
   "source": [
    "#$ mongoimport --db nombredelabasededatos --collection nombredelacolección --file archivo.json"
   ]
  },
  {
   "cell_type": "markdown",
   "id": "electronic-inclusion",
   "metadata": {},
   "source": [
    "Nos ubicamos en la terminal en la carpeta donde hayamos descargado el json de \"companies\". El comando lo que hace es importar a la base de daatos de ironhack, dentro de la colección companies, ese json. Si introducimos un nombre de base de datos que no existe o de colección que no existe, MongoDB lo crea por nosotras automáticamente. "
   ]
  },
  {
   "cell_type": "markdown",
   "id": "another-neutral",
   "metadata": {},
   "source": [
    "## Conexión con Python"
   ]
  },
  {
   "cell_type": "markdown",
   "id": "tired-portal",
   "metadata": {},
   "source": [
    "Lo primero que vamos a necesitar para conectar python con el servidor de bases de datos de MongoDB es instalar la siguiente librería\n",
    "```python\n",
    "#!pip install pymongo\n",
    "```\n",
    "Y recuerda: Tienes que [leer la documentación](https://pymongo.readthedocs.io/en/stable/)"
   ]
  },
  {
   "cell_type": "code",
   "execution_count": 1,
   "id": "medieval-venue",
   "metadata": {},
   "outputs": [],
   "source": [
    "from pymongo import MongoClient"
   ]
  },
  {
   "cell_type": "markdown",
   "id": "solved-crisis",
   "metadata": {},
   "source": [
    "### Nos conectamos al servidor\n",
    "El servidor de Mongo tiene que estar activo y normalmente está corriendo en el puerto 27017, siempre se conecta a este puerto por defecto"
   ]
  },
  {
   "cell_type": "code",
   "execution_count": 2,
   "id": "material-mexican",
   "metadata": {},
   "outputs": [],
   "source": [
    "# Con el comando MongoClient establecemos conexión con el servidor\n",
    "client = MongoClient(\"localhost:27017\")"
   ]
  },
  {
   "cell_type": "code",
   "execution_count": 3,
   "id": "electrical-shopper",
   "metadata": {},
   "outputs": [
    {
     "data": {
      "text/plain": [
       "MongoClient(host=['localhost:27017'], document_class=dict, tz_aware=False, connect=True)"
      ]
     },
     "execution_count": 3,
     "metadata": {},
     "output_type": "execute_result"
    }
   ],
   "source": [
    "client"
   ]
  },
  {
   "cell_type": "code",
   "execution_count": null,
   "id": "linear-latin",
   "metadata": {},
   "outputs": [],
   "source": [
    "# Mostrar los nombres de las bases de datos existentes"
   ]
  },
  {
   "cell_type": "code",
   "execution_count": 4,
   "id": "equivalent-privacy",
   "metadata": {},
   "outputs": [
    {
     "data": {
      "text/plain": [
       "['HP', 'admin', 'config', 'ironhack', 'local', 'spotify']"
      ]
     },
     "execution_count": 4,
     "metadata": {},
     "output_type": "execute_result"
    }
   ],
   "source": [
    "client.list_database_names()"
   ]
  },
  {
   "cell_type": "markdown",
   "id": "exterior-ecuador",
   "metadata": {},
   "source": [
    "### Nos conectamos con la base de datos"
   ]
  },
  {
   "cell_type": "code",
   "execution_count": 5,
   "id": "civilian-bankruptcy",
   "metadata": {},
   "outputs": [
    {
     "data": {
      "text/plain": [
       "Database(MongoClient(host=['localhost:27017'], document_class=dict, tz_aware=False, connect=True), 'ironhack')"
      ]
     },
     "execution_count": 5,
     "metadata": {},
     "output_type": "execute_result"
    }
   ],
   "source": [
    "# Para crear una conexión con la base de datos en la que vayamos a trabajar\n",
    "db = client.get_database(\"ironhack\")\n",
    "db"
   ]
  },
  {
   "cell_type": "code",
   "execution_count": 6,
   "id": "level-fantasy",
   "metadata": {},
   "outputs": [
    {
     "data": {
      "text/plain": [
       "['restaurants']"
      ]
     },
     "execution_count": 6,
     "metadata": {},
     "output_type": "execute_result"
    }
   ],
   "source": [
    "db.list_collection_names()"
   ]
  },
  {
   "cell_type": "markdown",
   "id": "primary-vertical",
   "metadata": {},
   "source": [
    "## Operaciones básicas de gestión de bases de datos"
   ]
  },
  {
   "cell_type": "code",
   "execution_count": 7,
   "id": "thousand-subsection",
   "metadata": {},
   "outputs": [
    {
     "data": {
      "text/plain": [
       "['restaurants']"
      ]
     },
     "execution_count": 7,
     "metadata": {},
     "output_type": "execute_result"
    }
   ],
   "source": [
    "db.list_collection_names()"
   ]
  },
  {
   "cell_type": "markdown",
   "id": "monetary-patch",
   "metadata": {},
   "source": [
    "### Creamos y borramos colecciones desde python"
   ]
  },
  {
   "cell_type": "code",
   "execution_count": null,
   "id": "artificial-allen",
   "metadata": {},
   "outputs": [],
   "source": [
    "# Podemos crear colecciones como hemos visto antes con la GUI de MongoDB (Mongo Compass) o desde aquí mismo"
   ]
  },
  {
   "cell_type": "code",
   "execution_count": 8,
   "id": "temporal-arcade",
   "metadata": {},
   "outputs": [
    {
     "data": {
      "text/plain": [
       "Collection(Database(MongoClient(host=['localhost:27017'], document_class=dict, tz_aware=False, connect=True), 'ironhack'), 'PRUEBA')"
      ]
     },
     "execution_count": 8,
     "metadata": {},
     "output_type": "execute_result"
    }
   ],
   "source": [
    "# Creamos la colección\n",
    "db.create_collection(\"PRUEBA\")"
   ]
  },
  {
   "cell_type": "code",
   "execution_count": 9,
   "id": "proud-undergraduate",
   "metadata": {},
   "outputs": [
    {
     "data": {
      "text/plain": [
       "['PRUEBA', 'restaurants']"
      ]
     },
     "execution_count": 9,
     "metadata": {},
     "output_type": "execute_result"
    }
   ],
   "source": [
    "# Listamos las colecciones y vemos si se ha creado la colección\n",
    "db.list_collection_names()"
   ]
  },
  {
   "cell_type": "code",
   "execution_count": 10,
   "id": "superb-harassment",
   "metadata": {},
   "outputs": [
    {
     "data": {
      "text/plain": [
       "{'nIndexesWas': 1, 'ns': 'ironhack.PRUEBA', 'ok': 1.0}"
      ]
     },
     "execution_count": 10,
     "metadata": {},
     "output_type": "execute_result"
    }
   ],
   "source": [
    "# Borramos la colección que acabamos de crear\n",
    "db.drop_collection(\"PRUEBA\")"
   ]
  },
  {
   "cell_type": "code",
   "execution_count": 11,
   "id": "critical-fruit",
   "metadata": {},
   "outputs": [
    {
     "data": {
      "text/plain": [
       "['restaurants']"
      ]
     },
     "execution_count": 11,
     "metadata": {},
     "output_type": "execute_result"
    }
   ],
   "source": [
    "# Comprobamos de nuevo\n",
    "db.list_collection_names()"
   ]
  },
  {
   "cell_type": "markdown",
   "id": "beginning-mechanics",
   "metadata": {},
   "source": [
    "### Nos conectamos a una colección en concreto para hacer las consultas"
   ]
  },
  {
   "cell_type": "code",
   "execution_count": null,
   "id": "turkish-advantage",
   "metadata": {},
   "outputs": [],
   "source": [
    "# Elegimos la colección con la que vamos a trabajar\n"
   ]
  },
  {
   "cell_type": "code",
   "execution_count": 12,
   "id": "dress-running",
   "metadata": {},
   "outputs": [
    {
     "data": {
      "text/plain": [
       "Collection(Database(MongoClient(host=['localhost:27017'], document_class=dict, tz_aware=False, connect=True), 'ironhack'), 'restaurants')"
      ]
     },
     "execution_count": 12,
     "metadata": {},
     "output_type": "execute_result"
    }
   ],
   "source": [
    "collection = db.get_collection(\"restaurants\")\n",
    "collection"
   ]
  },
  {
   "cell_type": "markdown",
   "id": "deadly-aurora",
   "metadata": {},
   "source": [
    "## Consultas en Mongo"
   ]
  },
  {
   "cell_type": "markdown",
   "id": "generous-being",
   "metadata": {},
   "source": [
    "Para explorar cómo son los documentos en mi colección, qué forma y qué campos tienen, puedo irme a Mongo Compass y explorar la colección, o puedo elegir un documento sin filtrar. "
   ]
  },
  {
   "cell_type": "markdown",
   "id": "metric-information",
   "metadata": {},
   "source": [
    "![undocumento](../images/compass1.png)"
   ]
  },
  {
   "cell_type": "code",
   "execution_count": null,
   "id": "satisfied-syntax",
   "metadata": {},
   "outputs": [],
   "source": [
    "## Hagámoslo en Python "
   ]
  },
  {
   "cell_type": "markdown",
   "id": "dietary-musician",
   "metadata": {},
   "source": [
    "### Método `find_one` \n",
    "`collection.find_one(filter)`"
   ]
  },
  {
   "cell_type": "code",
   "execution_count": 13,
   "id": "double-gabriel",
   "metadata": {},
   "outputs": [
    {
     "data": {
      "text/plain": [
       "{'_id': ObjectId('55f14312c7447c3da7051b27'),\n",
       " 'URL': 'http://www.just-eat.co.uk/restaurants-atthai-ss9/menu',\n",
       " 'address': '376 Rayleigh Road',\n",
       " 'address line 2': 'Essex',\n",
       " 'name': '@ Thai',\n",
       " 'outcode': 'SS9',\n",
       " 'postcode': '5PT',\n",
       " 'rating': 5.5,\n",
       " 'type_of_food': 'Thai'}"
      ]
     },
     "execution_count": 13,
     "metadata": {},
     "output_type": "execute_result"
    }
   ],
   "source": [
    "# Si no pongo ningún filtro, me dará el primer documento\n",
    "collection.find_one()"
   ]
  },
  {
   "cell_type": "code",
   "execution_count": 14,
   "id": "worldwide-spectacular",
   "metadata": {},
   "outputs": [
    {
     "data": {
      "text/plain": [
       "dict_keys(['_id', 'URL', 'address', 'address line 2', 'name', 'outcode', 'postcode', 'rating', 'type_of_food'])"
      ]
     },
     "execution_count": 14,
     "metadata": {},
     "output_type": "execute_result"
    }
   ],
   "source": [
    "# Ojo, porque no todos los documentos tienen por qué tener las mismas keys, Mongo es flexible para esto\n",
    "collection.find_one().keys()"
   ]
  },
  {
   "cell_type": "code",
   "execution_count": 15,
   "id": "every-jurisdiction",
   "metadata": {},
   "outputs": [
    {
     "data": {
      "text/plain": [
       "dict"
      ]
     },
     "execution_count": 15,
     "metadata": {},
     "output_type": "execute_result"
    }
   ],
   "source": [
    "type(collection.find_one())"
   ]
  },
  {
   "cell_type": "markdown",
   "id": "checked-least",
   "metadata": {},
   "source": [
    "# Queremos buscar los restaurantes tailandeses\n",
    "Este sería el filtro 👇🏻\n",
    "```python\n",
    "{\"type_of_food\": \"Thai\"}\n",
    "```"
   ]
  },
  {
   "cell_type": "markdown",
   "id": "proprietary-violin",
   "metadata": {},
   "source": [
    "SELECT *\n",
    "WHERE \"type_of_food\" = \"Thai\""
   ]
  },
  {
   "cell_type": "code",
   "execution_count": 18,
   "id": "dried-sector",
   "metadata": {},
   "outputs": [
    {
     "data": {
      "text/plain": [
       "{'_id': ObjectId('55f14312c7447c3da7051b27'),\n",
       " 'URL': 'http://www.just-eat.co.uk/restaurants-atthai-ss9/menu',\n",
       " 'address': '376 Rayleigh Road',\n",
       " 'address line 2': 'Essex',\n",
       " 'name': '@ Thai',\n",
       " 'outcode': 'SS9',\n",
       " 'postcode': '5PT',\n",
       " 'rating': 5.5,\n",
       " 'type_of_food': 'Thai'}"
      ]
     },
     "execution_count": 18,
     "metadata": {},
     "output_type": "execute_result"
    }
   ],
   "source": [
    "collection.find_one({\"type_of_food\": \"Thai\"})"
   ]
  },
  {
   "cell_type": "markdown",
   "id": "forty-challenge",
   "metadata": {},
   "source": [
    "### Método `find` \n",
    "`collection.find(filter)`"
   ]
  },
  {
   "cell_type": "code",
   "execution_count": 37,
   "id": "adolescent-pricing",
   "metadata": {},
   "outputs": [],
   "source": [
    "documentos = collection.find()"
   ]
  },
  {
   "cell_type": "code",
   "execution_count": 20,
   "id": "gentle-pantyhose",
   "metadata": {},
   "outputs": [
    {
     "data": {
      "text/plain": [
       "<pymongo.cursor.Cursor at 0x7fe7c70abcd0>"
      ]
     },
     "execution_count": 20,
     "metadata": {},
     "output_type": "execute_result"
    }
   ],
   "source": [
    "documentos"
   ]
  },
  {
   "cell_type": "code",
   "execution_count": 21,
   "id": "creative-setting",
   "metadata": {},
   "outputs": [
    {
     "data": {
      "text/plain": [
       "pymongo.cursor.Cursor"
      ]
     },
     "execution_count": 21,
     "metadata": {},
     "output_type": "execute_result"
    }
   ],
   "source": [
    "type(documentos)"
   ]
  },
  {
   "cell_type": "markdown",
   "id": "animated-surfing",
   "metadata": {},
   "source": [
    "El método de colección `pymongo` devuelve un Cursor:\n",
    " * un Cursor es un iterador\n",
    " * un Cursor tiene el método `__next__` (la función `next` devuelve el siguiente elemento en el flujo)\n",
    " * `pymongo` no trae información a la memoria hasta que se necesita\n",
    " * un Cursor no tiene `len`."
   ]
  },
  {
   "cell_type": "code",
   "execution_count": 24,
   "id": "global-gathering",
   "metadata": {},
   "outputs": [
    {
     "data": {
      "text/plain": [
       "{'_id': ObjectId('55f14312c7447c3da7051b28'),\n",
       " 'URL': 'http://www.just-eat.co.uk/restaurants-atthairestaurant/menu',\n",
       " 'address': '30 Greyhound Road Hammersmith',\n",
       " 'address line 2': 'London',\n",
       " 'name': '@ Thai Restaurant',\n",
       " 'outcode': 'W6',\n",
       " 'postcode': '8NX',\n",
       " 'rating': 4.5,\n",
       " 'type_of_food': 'Thai'}"
      ]
     },
     "execution_count": 24,
     "metadata": {},
     "output_type": "execute_result"
    }
   ],
   "source": [
    "documentos.next()"
   ]
  },
  {
   "cell_type": "code",
   "execution_count": 25,
   "id": "assigned-passenger",
   "metadata": {},
   "outputs": [
    {
     "ename": "TypeError",
     "evalue": "object of type 'Cursor' has no len()",
     "output_type": "error",
     "traceback": [
      "\u001b[0;31m---------------------------------------------------------------------------\u001b[0m",
      "\u001b[0;31mTypeError\u001b[0m                                 Traceback (most recent call last)",
      "\u001b[0;32m<ipython-input-25-a31fe995dc8c>\u001b[0m in \u001b[0;36m<module>\u001b[0;34m\u001b[0m\n\u001b[0;32m----> 1\u001b[0;31m \u001b[0mlen\u001b[0m\u001b[0;34m(\u001b[0m\u001b[0mdocumentos\u001b[0m\u001b[0;34m)\u001b[0m\u001b[0;34m\u001b[0m\u001b[0;34m\u001b[0m\u001b[0m\n\u001b[0m",
      "\u001b[0;31mTypeError\u001b[0m: object of type 'Cursor' has no len()"
     ]
    }
   ],
   "source": [
    "len(documentos)"
   ]
  },
  {
   "cell_type": "code",
   "execution_count": 36,
   "id": "together-liberia",
   "metadata": {},
   "outputs": [],
   "source": [
    "#list(documentos)"
   ]
  },
  {
   "cell_type": "code",
   "execution_count": 38,
   "id": "sorted-incentive",
   "metadata": {},
   "outputs": [],
   "source": [
    "variable = list(documentos)"
   ]
  },
  {
   "cell_type": "code",
   "execution_count": 39,
   "id": "ordinary-contributor",
   "metadata": {},
   "outputs": [
    {
     "data": {
      "text/plain": [
       "2548"
      ]
     },
     "execution_count": 39,
     "metadata": {},
     "output_type": "execute_result"
    }
   ],
   "source": [
    "len(variable)"
   ]
  },
  {
   "cell_type": "code",
   "execution_count": 41,
   "id": "indie-probe",
   "metadata": {},
   "outputs": [
    {
     "data": {
      "text/plain": [
       "list"
      ]
     },
     "execution_count": 41,
     "metadata": {},
     "output_type": "execute_result"
    }
   ],
   "source": [
    "type(variable)"
   ]
  },
  {
   "cell_type": "code",
   "execution_count": 42,
   "id": "maritime-private",
   "metadata": {},
   "outputs": [
    {
     "name": "stdout",
     "output_type": "stream",
     "text": [
      "{'_id': ObjectId('55f14312c7447c3da7051b27'), 'URL': 'http://www.just-eat.co.uk/restaurants-atthai-ss9/menu', 'address': '376 Rayleigh Road', 'address line 2': 'Essex', 'name': '@ Thai', 'outcode': 'SS9', 'postcode': '5PT', 'rating': 5.5, 'type_of_food': 'Thai'}\n"
     ]
    }
   ],
   "source": [
    "print(variable[0])"
   ]
  },
  {
   "cell_type": "code",
   "execution_count": null,
   "id": "extended-duncan",
   "metadata": {},
   "outputs": [],
   "source": [
    "# Hacemos un filtrado para ver los que tienen un rating de 5"
   ]
  },
  {
   "cell_type": "code",
   "execution_count": 43,
   "id": "concerned-copyright",
   "metadata": {},
   "outputs": [],
   "source": [
    "cinco = list(collection.find({\"rating\": 5}))"
   ]
  },
  {
   "cell_type": "code",
   "execution_count": 44,
   "id": "extended-cologne",
   "metadata": {},
   "outputs": [
    {
     "data": {
      "text/plain": [
       "list"
      ]
     },
     "execution_count": 44,
     "metadata": {},
     "output_type": "execute_result"
    }
   ],
   "source": [
    "type(cinco)"
   ]
  },
  {
   "cell_type": "code",
   "execution_count": 46,
   "id": "israeli-hydrogen",
   "metadata": {},
   "outputs": [],
   "source": [
    "#cinco"
   ]
  },
  {
   "cell_type": "code",
   "execution_count": 47,
   "id": "related-hampton",
   "metadata": {},
   "outputs": [],
   "source": [
    "import pandas as pd"
   ]
  },
  {
   "cell_type": "code",
   "execution_count": 48,
   "id": "younger-enterprise",
   "metadata": {},
   "outputs": [
    {
     "data": {
      "text/html": [
       "<div>\n",
       "<style scoped>\n",
       "    .dataframe tbody tr th:only-of-type {\n",
       "        vertical-align: middle;\n",
       "    }\n",
       "\n",
       "    .dataframe tbody tr th {\n",
       "        vertical-align: top;\n",
       "    }\n",
       "\n",
       "    .dataframe thead th {\n",
       "        text-align: right;\n",
       "    }\n",
       "</style>\n",
       "<table border=\"1\" class=\"dataframe\">\n",
       "  <thead>\n",
       "    <tr style=\"text-align: right;\">\n",
       "      <th></th>\n",
       "      <th>_id</th>\n",
       "      <th>URL</th>\n",
       "      <th>address</th>\n",
       "      <th>address line 2</th>\n",
       "      <th>name</th>\n",
       "      <th>outcode</th>\n",
       "      <th>postcode</th>\n",
       "      <th>rating</th>\n",
       "      <th>type_of_food</th>\n",
       "    </tr>\n",
       "  </thead>\n",
       "  <tbody>\n",
       "    <tr>\n",
       "      <th>0</th>\n",
       "      <td>55f14312c7447c3da7051b26</td>\n",
       "      <td>http://www.just-eat.co.uk/restaurants-cn-chine...</td>\n",
       "      <td>228 City Road</td>\n",
       "      <td>Cardiff</td>\n",
       "      <td>.CN Chinese</td>\n",
       "      <td>CF24</td>\n",
       "      <td>3JH</td>\n",
       "      <td>5</td>\n",
       "      <td>Chinese</td>\n",
       "    </tr>\n",
       "    <tr>\n",
       "      <th>1</th>\n",
       "      <td>55f14312c7447c3da7051b33</td>\n",
       "      <td>http://www.just-eat.co.uk/restaurants-104-turk...</td>\n",
       "      <td>104 Tanners Lane</td>\n",
       "      <td>Essex</td>\n",
       "      <td>104 Turkish BBQ</td>\n",
       "      <td>IG6</td>\n",
       "      <td>1QE</td>\n",
       "      <td>5</td>\n",
       "      <td>Turkish</td>\n",
       "    </tr>\n",
       "    <tr>\n",
       "      <th>2</th>\n",
       "      <td>55f14312c7447c3da7051b31</td>\n",
       "      <td>http://www.just-eat.co.uk/restaurants-100-degr...</td>\n",
       "      <td>67 Park Street</td>\n",
       "      <td>Treforest</td>\n",
       "      <td>100 Degrees Chinese Restaurant</td>\n",
       "      <td>CF37</td>\n",
       "      <td>1SN</td>\n",
       "      <td>5</td>\n",
       "      <td>Chinese</td>\n",
       "    </tr>\n",
       "    <tr>\n",
       "      <th>3</th>\n",
       "      <td>55f14312c7447c3da7051b34</td>\n",
       "      <td>http://www.just-eat.co.uk/restaurants-109resta...</td>\n",
       "      <td>109 Westbourne Park Road</td>\n",
       "      <td>London</td>\n",
       "      <td>109 Ristorante</td>\n",
       "      <td>W2</td>\n",
       "      <td>5QL</td>\n",
       "      <td>5</td>\n",
       "      <td>Pizza</td>\n",
       "    </tr>\n",
       "    <tr>\n",
       "      <th>4</th>\n",
       "      <td>55f14312c7447c3da7051b32</td>\n",
       "      <td>http://www.just-eat.co.uk/restaurants-100menu-...</td>\n",
       "      <td>50 Wallgate</td>\n",
       "      <td>Wigan</td>\n",
       "      <td>100 Menu</td>\n",
       "      <td>WN1</td>\n",
       "      <td>1JU</td>\n",
       "      <td>5</td>\n",
       "      <td>Chinese</td>\n",
       "    </tr>\n",
       "  </tbody>\n",
       "</table>\n",
       "</div>"
      ],
      "text/plain": [
       "                        _id  \\\n",
       "0  55f14312c7447c3da7051b26   \n",
       "1  55f14312c7447c3da7051b33   \n",
       "2  55f14312c7447c3da7051b31   \n",
       "3  55f14312c7447c3da7051b34   \n",
       "4  55f14312c7447c3da7051b32   \n",
       "\n",
       "                                                 URL  \\\n",
       "0  http://www.just-eat.co.uk/restaurants-cn-chine...   \n",
       "1  http://www.just-eat.co.uk/restaurants-104-turk...   \n",
       "2  http://www.just-eat.co.uk/restaurants-100-degr...   \n",
       "3  http://www.just-eat.co.uk/restaurants-109resta...   \n",
       "4  http://www.just-eat.co.uk/restaurants-100menu-...   \n",
       "\n",
       "                    address address line 2                            name  \\\n",
       "0             228 City Road        Cardiff                     .CN Chinese   \n",
       "1          104 Tanners Lane          Essex                 104 Turkish BBQ   \n",
       "2            67 Park Street      Treforest  100 Degrees Chinese Restaurant   \n",
       "3  109 Westbourne Park Road         London                  109 Ristorante   \n",
       "4               50 Wallgate          Wigan                        100 Menu   \n",
       "\n",
       "  outcode postcode  rating type_of_food  \n",
       "0    CF24      3JH       5      Chinese  \n",
       "1     IG6      1QE       5      Turkish  \n",
       "2    CF37      1SN       5      Chinese  \n",
       "3      W2      5QL       5        Pizza  \n",
       "4     WN1      1JU       5      Chinese  "
      ]
     },
     "execution_count": 48,
     "metadata": {},
     "output_type": "execute_result"
    }
   ],
   "source": [
    "df = pd.DataFrame(cinco)\n",
    "df.head()"
   ]
  },
  {
   "cell_type": "markdown",
   "id": "determined-premiere",
   "metadata": {},
   "source": [
    "## Proyección\n",
    "Cuando se realiza una consulta en MongoDB usando .find() lo que retorna dicha consulta es el conjunto de documentos correspondientes a la consulta. Se devolverán por defecto los documentos completos con todos sus campos. Aunque podemos seleccionar los campos de un documento que queremos devuelva la consulta, o lo que es lo mismo hacer una MongoDB Projection.    \n",
    "Si queremos seleccionar varios campos, simplemente tenemos que indicar el nombre del campo seguido de un 1. O bien usar un 0 para eliminar los campos a mostrar:\n",
    "\n",
    "El campo `_id` se devuelve por defecto\n",
    "\n",
    "Sintaxis:    \n",
    "`collection.find(filtro, proyección)`"
   ]
  },
  {
   "cell_type": "code",
   "execution_count": 49,
   "id": "postal-burning",
   "metadata": {},
   "outputs": [],
   "source": [
    "proj = {\"rating\":1, \"name\":1}"
   ]
  },
  {
   "cell_type": "code",
   "execution_count": 51,
   "id": "conditional-syria",
   "metadata": {},
   "outputs": [
    {
     "data": {
      "text/plain": [
       "{'_id': ObjectId('55f14312c7447c3da7051b26'),\n",
       " 'name': '.CN Chinese',\n",
       " 'rating': 5}"
      ]
     },
     "execution_count": 51,
     "metadata": {},
     "output_type": "execute_result"
    }
   ],
   "source": [
    "list(collection.find({\"rating\": 5}, {\"rating\":1, \"name\":1}))[0]"
   ]
  },
  {
   "cell_type": "code",
   "execution_count": 53,
   "id": "several-floor",
   "metadata": {},
   "outputs": [],
   "source": [
    "# Si queremos que no nos muestre el ObjectId"
   ]
  },
  {
   "cell_type": "code",
   "execution_count": 52,
   "id": "frank-recording",
   "metadata": {},
   "outputs": [
    {
     "data": {
      "text/plain": [
       "{'name': '.CN Chinese', 'rating': 5}"
      ]
     },
     "execution_count": 52,
     "metadata": {},
     "output_type": "execute_result"
    }
   ],
   "source": [
    "list(collection.find({\"rating\": 5}, {\"rating\":1, \"name\":1, \"_id\":0}))[0]"
   ]
  },
  {
   "cell_type": "code",
   "execution_count": 54,
   "id": "trying-external",
   "metadata": {},
   "outputs": [],
   "source": [
    "filtro = {\"rating\": 5}\n",
    "proj = {\"rating\":1, \"name\":1}"
   ]
  },
  {
   "cell_type": "code",
   "execution_count": 56,
   "id": "working-sunrise",
   "metadata": {},
   "outputs": [
    {
     "data": {
      "text/plain": [
       "{'_id': ObjectId('55f14312c7447c3da7051b26'),\n",
       " 'name': '.CN Chinese',\n",
       " 'rating': 5}"
      ]
     },
     "execution_count": 56,
     "metadata": {},
     "output_type": "execute_result"
    }
   ],
   "source": [
    "list(collection.find(filtro,proj))[0]"
   ]
  },
  {
   "cell_type": "code",
   "execution_count": 57,
   "id": "animal-inflation",
   "metadata": {},
   "outputs": [
    {
     "data": {
      "text/plain": [
       "{'_id': ObjectId('55f14312c7447c3da7051b26')}"
      ]
     },
     "execution_count": 57,
     "metadata": {},
     "output_type": "execute_result"
    }
   ],
   "source": [
    "list(collection.find({\"rating\": 5}, {}))[0]"
   ]
  },
  {
   "cell_type": "markdown",
   "id": "arbitrary-opening",
   "metadata": {},
   "source": [
    "## Otros métodos "
   ]
  },
  {
   "cell_type": "markdown",
   "id": "structural-competition",
   "metadata": {},
   "source": [
    "### `distinct`\n",
    "¿Cuántos valores distintos tiene un campo en toda la colección?"
   ]
  },
  {
   "cell_type": "code",
   "execution_count": 58,
   "id": "scenic-characteristic",
   "metadata": {},
   "outputs": [
    {
     "data": {
      "text/plain": [
       "[1, 1.5, 2, 2.5, 3, 3.5, 4, 4.5, 5, 5.5, 6, 'Not yet rated']"
      ]
     },
     "execution_count": 58,
     "metadata": {},
     "output_type": "execute_result"
    }
   ],
   "source": [
    "collection.distinct(\"rating\")"
   ]
  },
  {
   "cell_type": "code",
   "execution_count": 59,
   "id": "bulgarian-doctor",
   "metadata": {},
   "outputs": [
    {
     "data": {
      "text/plain": [
       "['*NEW*',\n",
       " 'Afghan',\n",
       " 'African',\n",
       " 'American',\n",
       " 'Arabic',\n",
       " 'Azerbaijan',\n",
       " 'Bagels',\n",
       " 'Bangladeshi',\n",
       " 'Breakfast',\n",
       " 'Burgers',\n",
       " 'Cakes',\n",
       " 'Caribbean',\n",
       " 'Chicken',\n",
       " 'Chinese',\n",
       " 'Curry',\n",
       " 'Desserts',\n",
       " 'English',\n",
       " 'Ethiopian',\n",
       " 'Fish & Chips',\n",
       " 'Greek',\n",
       " 'Grill',\n",
       " 'Healthy',\n",
       " 'Ice Cream',\n",
       " 'Japanese',\n",
       " 'Kebab',\n",
       " 'Korean',\n",
       " 'Lebanese',\n",
       " 'Mediterranean',\n",
       " 'Mexican',\n",
       " 'Middle Eastern',\n",
       " 'Milkshakes',\n",
       " 'Moroccan',\n",
       " 'Nigerian',\n",
       " 'Pakistani',\n",
       " 'Pasta',\n",
       " 'Peri Peri',\n",
       " 'Persian',\n",
       " 'Pick n Mix',\n",
       " 'Pizza',\n",
       " 'Polish',\n",
       " 'Portuguese',\n",
       " 'Punjabi',\n",
       " 'Russian',\n",
       " 'Sandwiches',\n",
       " 'South Curry',\n",
       " 'Spanish',\n",
       " 'Sri-lankan',\n",
       " 'Sushi',\n",
       " 'Thai',\n",
       " 'Turkish',\n",
       " 'Vegetarian',\n",
       " 'Vietnamese']"
      ]
     },
     "execution_count": 59,
     "metadata": {},
     "output_type": "execute_result"
    }
   ],
   "source": [
    "collection.distinct(\"type_of_food\")"
   ]
  },
  {
   "cell_type": "markdown",
   "id": "fatty-province",
   "metadata": {},
   "source": [
    "### `count`\n",
    "Devuelve el recuento de documentos que coincidirían con una consulta find() para la colección o vista. El método db.collection.count() no realiza la operación find() sino que cuenta y devuelve el número de resultados que coinciden con una consulta.\n",
    "Sintaxis:    \n",
    "     \n",
    "`collection.count_documents(filtro)`"
   ]
  },
  {
   "cell_type": "code",
   "execution_count": 61,
   "id": "handy-desert",
   "metadata": {},
   "outputs": [
    {
     "data": {
      "text/plain": [
       "2548"
      ]
     },
     "execution_count": 61,
     "metadata": {},
     "output_type": "execute_result"
    }
   ],
   "source": [
    "collection.count_documents({})"
   ]
  },
  {
   "cell_type": "code",
   "execution_count": 62,
   "id": "consistent-kennedy",
   "metadata": {},
   "outputs": [
    {
     "data": {
      "text/plain": [
       "2548"
      ]
     },
     "execution_count": 62,
     "metadata": {},
     "output_type": "execute_result"
    }
   ],
   "source": [
    "len(list(collection.find()))"
   ]
  },
  {
   "cell_type": "code",
   "execution_count": 79,
   "id": "developing-shore",
   "metadata": {},
   "outputs": [],
   "source": [
    "import time"
   ]
  },
  {
   "cell_type": "code",
   "execution_count": 80,
   "id": "rocky-confidence",
   "metadata": {},
   "outputs": [
    {
     "name": "stdout",
     "output_type": "stream",
     "text": [
      "CPU times: user 3 µs, sys: 1e+03 ns, total: 4 µs\n",
      "Wall time: 6.91 µs\n"
     ]
    },
    {
     "data": {
      "text/plain": [
       "49"
      ]
     },
     "execution_count": 80,
     "metadata": {},
     "output_type": "execute_result"
    }
   ],
   "source": [
    "# Directamente me cuenta los documentos en mongo que cumplen con el filtro y no necesito traerlos\n",
    "%time\n",
    "collection.count_documents({\"rating\":6})"
   ]
  },
  {
   "cell_type": "code",
   "execution_count": 82,
   "id": "micro-proposition",
   "metadata": {},
   "outputs": [
    {
     "name": "stdout",
     "output_type": "stream",
     "text": [
      "CPU times: user 3 µs, sys: 1e+03 ns, total: 4 µs\n",
      "Wall time: 7.15 µs\n"
     ]
    },
    {
     "data": {
      "text/plain": [
       "49"
      ]
     },
     "execution_count": 82,
     "metadata": {},
     "output_type": "execute_result"
    }
   ],
   "source": [
    "#Equivalente pero cargando todo en memoria al extraer con list la información del cursor\n",
    "%time\n",
    "len(list(collection.find({\"rating\":6})))"
   ]
  },
  {
   "cell_type": "markdown",
   "id": "neural-speaker",
   "metadata": {},
   "source": [
    "### `sort`\n",
    "Podemos `ordenar` el resultado de un `find`\n",
    "\n",
    "`1` --> Orden ascendente     \n",
    "`-1` --> Orden desdendente"
   ]
  },
  {
   "cell_type": "code",
   "execution_count": 83,
   "id": "average-symbol",
   "metadata": {},
   "outputs": [],
   "source": [
    "proj = {\"_id\": 0, \"rating\": 1,  \"type_of_food\": 1, \"name\":1}"
   ]
  },
  {
   "cell_type": "code",
   "execution_count": 97,
   "id": "sudden-ending",
   "metadata": {},
   "outputs": [],
   "source": [
    "chinos_as = list(collection.find({\"type_of_food\": \"Chinese\"}, proj).sort(\"rating\",1))"
   ]
  },
  {
   "cell_type": "code",
   "execution_count": 98,
   "id": "alive-posting",
   "metadata": {},
   "outputs": [],
   "source": [
    "#chinos_as"
   ]
  },
  {
   "cell_type": "code",
   "execution_count": 99,
   "id": "outer-radio",
   "metadata": {},
   "outputs": [],
   "source": [
    "#Ordenados en orden descendente\n",
    "chinos_des = list(collection.find({\"type_of_food\": \"Chinese\"}, proj).sort(\"rating\",-1))"
   ]
  },
  {
   "cell_type": "code",
   "execution_count": 100,
   "id": "involved-arrangement",
   "metadata": {},
   "outputs": [],
   "source": [
    "#chinos_des"
   ]
  },
  {
   "cell_type": "code",
   "execution_count": 110,
   "id": "sapphire-zoning",
   "metadata": {},
   "outputs": [],
   "source": [
    "filtro_chi = {\"type_of_food\": \"Chinese\"}"
   ]
  },
  {
   "cell_type": "code",
   "execution_count": 111,
   "id": "reverse-picnic",
   "metadata": {},
   "outputs": [],
   "source": [
    "chinos_3 = list(collection.find(filtro_chi, proj).sort(\"name\",1))"
   ]
  },
  {
   "cell_type": "code",
   "execution_count": 113,
   "id": "pharmaceutical-edward",
   "metadata": {},
   "outputs": [],
   "source": [
    "#chinos_3"
   ]
  },
  {
   "cell_type": "markdown",
   "id": "subject-rates",
   "metadata": {},
   "source": [
    "### `limit`\n",
    "\n",
    "Podemos `limitar` el resultado de un `find`"
   ]
  },
  {
   "cell_type": "code",
   "execution_count": 116,
   "id": "behavioral-saying",
   "metadata": {},
   "outputs": [
    {
     "data": {
      "text/plain": [
       "7"
      ]
     },
     "execution_count": 116,
     "metadata": {},
     "output_type": "execute_result"
    }
   ],
   "source": [
    "chinos_limit = list(collection.find({\"type_of_food\": \"Chinese\"}, proj).limit(7))\n",
    "len(chinos_limit)"
   ]
  },
  {
   "cell_type": "markdown",
   "id": "welsh-uncertainty",
   "metadata": {},
   "source": [
    "### `skip`\n",
    "Podemos `omitir` algunos resultados de un `find`    \n",
    "Llame al método skip() en un cursor para controlar dónde empieza MongoDB a devolver resultados. Este enfoque puede ser útil para implementar resultados paginados."
   ]
  },
  {
   "cell_type": "code",
   "execution_count": 120,
   "id": "empirical-mongolia",
   "metadata": {},
   "outputs": [
    {
     "data": {
      "text/plain": [
       "[{'name': 'Arirang', 'rating': 4, 'type_of_food': 'Chinese'},\n",
       " {'name': 'Arirang', 'rating': 4, 'type_of_food': 'Chinese'},\n",
       " {'name': 'Arirang', 'rating': 4, 'type_of_food': 'Chinese'}]"
      ]
     },
     "execution_count": 120,
     "metadata": {},
     "output_type": "execute_result"
    }
   ],
   "source": [
    "list(collection.find({\"type_of_food\": \"Chinese\"}, proj).sort(\"rating\",1).skip(2).limit(3))"
   ]
  },
  {
   "cell_type": "markdown",
   "id": "north-mining",
   "metadata": {},
   "source": [
    "## Operadores de consulta típicos\n",
    "Los operadores de consulta van precedidos del signo de dólar `$`."
   ]
  },
  {
   "cell_type": "code",
   "execution_count": 121,
   "id": "capable-seeking",
   "metadata": {},
   "outputs": [],
   "source": [
    "c = collection"
   ]
  },
  {
   "cell_type": "markdown",
   "id": "literary-manitoba",
   "metadata": {},
   "source": [
    "### Mayor que / Menor que\n",
    "Es un campo numérico mayor o menor que un valor determinado"
   ]
  },
  {
   "cell_type": "code",
   "execution_count": 122,
   "id": "false-analysis",
   "metadata": {},
   "outputs": [
    {
     "data": {
      "text/plain": [
       "<pymongo.cursor.Cursor at 0x7fe7c94af3a0>"
      ]
     },
     "execution_count": 122,
     "metadata": {},
     "output_type": "execute_result"
    }
   ],
   "source": [
    "# Menor que: less than\n",
    "c.find({\"rating\": {\"$lt\": 2}})"
   ]
  },
  {
   "cell_type": "code",
   "execution_count": 124,
   "id": "extra-extreme",
   "metadata": {},
   "outputs": [
    {
     "data": {
      "text/plain": [
       "[{'_id': ObjectId('55f14312c7447c3da7051cec'),\n",
       "  'URL': 'http://www.just-eat.co.uk/restaurants-aldixifriedchicken-b21/menu',\n",
       "  'address': '343 Soho Road',\n",
       "  'address line 2': 'Birmingham',\n",
       "  'name': 'Al Dixi Fried Chicken & Grill House',\n",
       "  'outcode': 'B21',\n",
       "  'postcode': '9SE',\n",
       "  'rating': 1,\n",
       "  'type_of_food': 'Chicken'},\n",
       " {'_id': ObjectId('55f14312c7447c3da7051ceb'),\n",
       "  'URL': 'http://www.just-eat.co.uk/restaurants-aldixifriedchicken-b21/menu',\n",
       "  'address': '343 Soho Road',\n",
       "  'address line 2': 'Birmingham',\n",
       "  'name': 'Al Dixi Fried Chicken & Grill House',\n",
       "  'outcode': 'B21',\n",
       "  'postcode': '9SE',\n",
       "  'rating': 1,\n",
       "  'type_of_food': 'Chicken'}]"
      ]
     },
     "execution_count": 124,
     "metadata": {},
     "output_type": "execute_result"
    }
   ],
   "source": [
    "list(c.find({\"rating\": {\"$lt\": 2}}).limit(2))"
   ]
  },
  {
   "cell_type": "code",
   "execution_count": 125,
   "id": "treated-effectiveness",
   "metadata": {},
   "outputs": [
    {
     "data": {
      "text/plain": [
       "[{'_id': ObjectId('55f14312c7447c3da7051b27'),\n",
       "  'URL': 'http://www.just-eat.co.uk/restaurants-atthai-ss9/menu',\n",
       "  'address': '376 Rayleigh Road',\n",
       "  'address line 2': 'Essex',\n",
       "  'name': '@ Thai',\n",
       "  'outcode': 'SS9',\n",
       "  'postcode': '5PT',\n",
       "  'rating': 5.5,\n",
       "  'type_of_food': 'Thai'},\n",
       " {'_id': ObjectId('55f14312c7447c3da7051b26'),\n",
       "  'URL': 'http://www.just-eat.co.uk/restaurants-cn-chinese-cardiff/menu',\n",
       "  'address': '228 City Road',\n",
       "  'address line 2': 'Cardiff',\n",
       "  'name': '.CN Chinese',\n",
       "  'outcode': 'CF24',\n",
       "  'postcode': '3JH',\n",
       "  'rating': 5,\n",
       "  'type_of_food': 'Chinese'}]"
      ]
     },
     "execution_count": 125,
     "metadata": {},
     "output_type": "execute_result"
    }
   ],
   "source": [
    "# Mayor que: greater than\n",
    "list(c.find({\"rating\": {\"$gt\": 2}}).limit(2))"
   ]
  },
  {
   "cell_type": "code",
   "execution_count": 126,
   "id": "finite-colors",
   "metadata": {},
   "outputs": [
    {
     "data": {
      "text/plain": [
       "[{'_id': ObjectId('55f14312c7447c3da7051cec'),\n",
       "  'URL': 'http://www.just-eat.co.uk/restaurants-aldixifriedchicken-b21/menu',\n",
       "  'address': '343 Soho Road',\n",
       "  'address line 2': 'Birmingham',\n",
       "  'name': 'Al Dixi Fried Chicken & Grill House',\n",
       "  'outcode': 'B21',\n",
       "  'postcode': '9SE',\n",
       "  'rating': 1,\n",
       "  'type_of_food': 'Chicken'},\n",
       " {'_id': ObjectId('55f14312c7447c3da7051ceb'),\n",
       "  'URL': 'http://www.just-eat.co.uk/restaurants-aldixifriedchicken-b21/menu',\n",
       "  'address': '343 Soho Road',\n",
       "  'address line 2': 'Birmingham',\n",
       "  'name': 'Al Dixi Fried Chicken & Grill House',\n",
       "  'outcode': 'B21',\n",
       "  'postcode': '9SE',\n",
       "  'rating': 1,\n",
       "  'type_of_food': 'Chicken'}]"
      ]
     },
     "execution_count": 126,
     "metadata": {},
     "output_type": "execute_result"
    }
   ],
   "source": [
    "# Mayor o igual / Menor o igual añadimos la e\n",
    "list(c.find({\"rating\": {\"$lte\": 2}}).limit(2))"
   ]
  },
  {
   "cell_type": "code",
   "execution_count": 127,
   "id": "floppy-formation",
   "metadata": {},
   "outputs": [
    {
     "data": {
      "text/plain": [
       "[{'_id': ObjectId('55f14312c7447c3da7051b27'),\n",
       "  'URL': 'http://www.just-eat.co.uk/restaurants-atthai-ss9/menu',\n",
       "  'address': '376 Rayleigh Road',\n",
       "  'address line 2': 'Essex',\n",
       "  'name': '@ Thai',\n",
       "  'outcode': 'SS9',\n",
       "  'postcode': '5PT',\n",
       "  'rating': 5.5,\n",
       "  'type_of_food': 'Thai'},\n",
       " {'_id': ObjectId('55f14312c7447c3da7051b26'),\n",
       "  'URL': 'http://www.just-eat.co.uk/restaurants-cn-chinese-cardiff/menu',\n",
       "  'address': '228 City Road',\n",
       "  'address line 2': 'Cardiff',\n",
       "  'name': '.CN Chinese',\n",
       "  'outcode': 'CF24',\n",
       "  'postcode': '3JH',\n",
       "  'rating': 5,\n",
       "  'type_of_food': 'Chinese'}]"
      ]
     },
     "execution_count": 127,
     "metadata": {},
     "output_type": "execute_result"
    }
   ],
   "source": [
    "list(c.find({\"rating\": {\"$gte\": 2}}).limit(2))"
   ]
  },
  {
   "cell_type": "code",
   "execution_count": 138,
   "id": "hungarian-share",
   "metadata": {},
   "outputs": [
    {
     "name": "stdout",
     "output_type": "stream",
     "text": [
      "¿qUÉ QUIERES BUSCAR rating\n"
     ]
    }
   ],
   "source": [
    "in_ = input(\"¿qUÉ QUIERES BUSCAR \")"
   ]
  },
  {
   "cell_type": "code",
   "execution_count": 140,
   "id": "caring-citation",
   "metadata": {},
   "outputs": [
    {
     "name": "stdout",
     "output_type": "stream",
     "text": [
      "¿De cuánto 5\n"
     ]
    }
   ],
   "source": [
    "in_2 = int(input(\"¿De cuánto \"))"
   ]
  },
  {
   "cell_type": "code",
   "execution_count": 141,
   "id": "conventional-architecture",
   "metadata": {},
   "outputs": [],
   "source": [
    "filtro = {f\"{in_}\": {\"$gte\": in_2}}"
   ]
  },
  {
   "cell_type": "code",
   "execution_count": 142,
   "id": "buried-external",
   "metadata": {},
   "outputs": [
    {
     "data": {
      "text/plain": [
       "[{'_id': ObjectId('55f14312c7447c3da7051b27'),\n",
       "  'URL': 'http://www.just-eat.co.uk/restaurants-atthai-ss9/menu',\n",
       "  'address': '376 Rayleigh Road',\n",
       "  'address line 2': 'Essex',\n",
       "  'name': '@ Thai',\n",
       "  'outcode': 'SS9',\n",
       "  'postcode': '5PT',\n",
       "  'rating': 5.5,\n",
       "  'type_of_food': 'Thai'},\n",
       " {'_id': ObjectId('55f14312c7447c3da7051b26'),\n",
       "  'URL': 'http://www.just-eat.co.uk/restaurants-cn-chinese-cardiff/menu',\n",
       "  'address': '228 City Road',\n",
       "  'address line 2': 'Cardiff',\n",
       "  'name': '.CN Chinese',\n",
       "  'outcode': 'CF24',\n",
       "  'postcode': '3JH',\n",
       "  'rating': 5,\n",
       "  'type_of_food': 'Chinese'}]"
      ]
     },
     "execution_count": 142,
     "metadata": {},
     "output_type": "execute_result"
    }
   ],
   "source": [
    "list(c.find(filtro).limit(2))"
   ]
  },
  {
   "cell_type": "code",
   "execution_count": 143,
   "id": "differential-voice",
   "metadata": {},
   "outputs": [],
   "source": [
    "# Escribir la sintaxis en una variable puede sernos útil\n",
    "mayorigual = {\"rating\": {\"$gte\": 5}}"
   ]
  },
  {
   "cell_type": "code",
   "execution_count": 144,
   "id": "intimate-kenya",
   "metadata": {},
   "outputs": [
    {
     "data": {
      "text/plain": [
       "[{'name': '@ Thai', 'rating': 5.5, 'type_of_food': 'Thai'},\n",
       " {'name': '.CN Chinese', 'rating': 5, 'type_of_food': 'Chinese'},\n",
       " {'name': '@Indian.com', 'rating': 6, 'type_of_food': 'Curry'},\n",
       " {'name': '007 Takeaway', 'rating': 6, 'type_of_food': 'Pizza'},\n",
       " {'name': '104 Turkish BBQ', 'rating': 5, 'type_of_food': 'Turkish'}]"
      ]
     },
     "execution_count": 144,
     "metadata": {},
     "output_type": "execute_result"
    }
   ],
   "source": [
    "list(c.find(mayorigual,proj).limit(5))"
   ]
  },
  {
   "cell_type": "markdown",
   "id": "nonprofit-operator",
   "metadata": {},
   "source": [
    "### `exists`    \n",
    "Cuando <boolean> es verdadero, $exists coincide con los documentos que contienen el campo, incluidos los documentos en los que el valor del campo es nulo. Si <boolean> es falso, la consulta devuelve sólo los documentos que no contienen el campo\n"
   ]
  },
  {
   "cell_type": "code",
   "execution_count": 150,
   "id": "greater-schedule",
   "metadata": {},
   "outputs": [
    {
     "data": {
      "text/plain": [
       "[{'_id': ObjectId('55f14312c7447c3da7051b27'),\n",
       "  'URL': 'http://www.just-eat.co.uk/restaurants-atthai-ss9/menu',\n",
       "  'address': '376 Rayleigh Road',\n",
       "  'address line 2': 'Essex',\n",
       "  'name': '@ Thai',\n",
       "  'outcode': 'SS9',\n",
       "  'postcode': '5PT',\n",
       "  'rating': 5.5,\n",
       "  'type_of_food': 'Thai'},\n",
       " {'_id': ObjectId('55f14312c7447c3da7051b26'),\n",
       "  'URL': 'http://www.just-eat.co.uk/restaurants-cn-chinese-cardiff/menu',\n",
       "  'address': '228 City Road',\n",
       "  'address line 2': 'Cardiff',\n",
       "  'name': '.CN Chinese',\n",
       "  'outcode': 'CF24',\n",
       "  'postcode': '3JH',\n",
       "  'rating': 5,\n",
       "  'type_of_food': 'Chinese'}]"
      ]
     },
     "execution_count": 150,
     "metadata": {},
     "output_type": "execute_result"
    }
   ],
   "source": [
    "list(c.find({\"rating\": {\"$exists\": True}}).limit(2))"
   ]
  },
  {
   "cell_type": "code",
   "execution_count": 151,
   "id": "white-islam",
   "metadata": {},
   "outputs": [
    {
     "data": {
      "text/plain": [
       "[{'_id': ObjectId('55f14312c7447c3da7051b27'),\n",
       "  'URL': 'http://www.just-eat.co.uk/restaurants-atthai-ss9/menu',\n",
       "  'address': '376 Rayleigh Road',\n",
       "  'address line 2': 'Essex',\n",
       "  'name': '@ Thai',\n",
       "  'outcode': 'SS9',\n",
       "  'postcode': '5PT',\n",
       "  'rating': 5.5,\n",
       "  'type_of_food': 'Thai'},\n",
       " {'_id': ObjectId('55f14312c7447c3da7051b26'),\n",
       "  'URL': 'http://www.just-eat.co.uk/restaurants-cn-chinese-cardiff/menu',\n",
       "  'address': '228 City Road',\n",
       "  'address line 2': 'Cardiff',\n",
       "  'name': '.CN Chinese',\n",
       "  'outcode': 'CF24',\n",
       "  'postcode': '3JH',\n",
       "  'rating': 5,\n",
       "  'type_of_food': 'Chinese'}]"
      ]
     },
     "execution_count": 151,
     "metadata": {},
     "output_type": "execute_result"
    }
   ],
   "source": [
    "list(c.find({\"address line 2\": {\"$exists\": True}}).limit(2))"
   ]
  },
  {
   "cell_type": "code",
   "execution_count": 152,
   "id": "consolidated-sensitivity",
   "metadata": {},
   "outputs": [
    {
     "data": {
      "text/plain": [
       "[]"
      ]
     },
     "execution_count": 152,
     "metadata": {},
     "output_type": "execute_result"
    }
   ],
   "source": [
    "# No hay ningún documento  que no tenga el campo \"address line 2\"\n",
    "# Comprobamos los registros a los que les falta un campo con false\n",
    "list(c.find({\"rating\": {\"$exists\": False}}))"
   ]
  },
  {
   "cell_type": "markdown",
   "id": "pointed-agreement",
   "metadata": {},
   "source": [
    "### `regex`     \n",
    "Ofrece la posibilidad de utilizar expresiones regulares para la búsqueda de patrones en las consultas."
   ]
  },
  {
   "cell_type": "code",
   "execution_count": 153,
   "id": "tested-liberal",
   "metadata": {},
   "outputs": [],
   "source": [
    "query = {\"name\": {\"$regex\": \".*Halal.*\"}}\n",
    "project = {\"name\":1, \"_id\":0}"
   ]
  },
  {
   "cell_type": "code",
   "execution_count": 154,
   "id": "occupied-resort",
   "metadata": {},
   "outputs": [
    {
     "data": {
      "text/plain": [
       "[{'name': 'Acha Halal Chinese Cuisine'},\n",
       " {'name': 'Beirut Lebanese Halal Restaurant'},\n",
       " {'name': 'Beirut Lebanese Halal Restaurant'}]"
      ]
     },
     "execution_count": 154,
     "metadata": {},
     "output_type": "execute_result"
    }
   ],
   "source": [
    "list(c.find(query,project))"
   ]
  },
  {
   "cell_type": "code",
   "execution_count": 156,
   "id": "narrow-convergence",
   "metadata": {},
   "outputs": [],
   "source": [
    "query2 = {\"name\": {\"$regex\": \".*\\d.*\"}}"
   ]
  },
  {
   "cell_type": "code",
   "execution_count": 158,
   "id": "finite-pennsylvania",
   "metadata": {},
   "outputs": [
    {
     "data": {
      "text/plain": [
       "[{'name': '007 Takeaway'},\n",
       " {'name': '042 Restaurant & Bar'},\n",
       " {'name': '042 Restaurant & Bar'}]"
      ]
     },
     "execution_count": 158,
     "metadata": {},
     "output_type": "execute_result"
    }
   ],
   "source": [
    "list(c.find(query2,project).limit(3))"
   ]
  },
  {
   "cell_type": "markdown",
   "id": "widespread-incident",
   "metadata": {},
   "source": [
    "### `and`      \n",
    "Realiza una operación lógica AND en una matriz de una o más expresiones (por ejemplo, <expresión1>, <expresión2>, etc.) y selecciona los documentos que satisfacen todas las expresiones de la matriz. El operador $and utiliza la evaluación en circuito corto. Si la primera expresión (por ejemplo, <expresión1>) se evalúa como falsa, MongoDB no evaluará las expresiones restantes."
   ]
  },
  {
   "cell_type": "markdown",
   "id": "restricted-glass",
   "metadata": {},
   "source": [
    "Sintaxis del AND  \n",
    "`find({\"$and\": [cond1, cond2]})`"
   ]
  },
  {
   "cell_type": "code",
   "execution_count": 160,
   "id": "freelance-reduction",
   "metadata": {},
   "outputs": [
    {
     "data": {
      "text/plain": [
       "[{'_id': ObjectId('55f14312c7447c3da7051b26'),\n",
       "  'URL': 'http://www.just-eat.co.uk/restaurants-cn-chinese-cardiff/menu',\n",
       "  'address': '228 City Road',\n",
       "  'address line 2': 'Cardiff',\n",
       "  'name': '.CN Chinese',\n",
       "  'outcode': 'CF24',\n",
       "  'postcode': '3JH',\n",
       "  'rating': 5,\n",
       "  'type_of_food': 'Chinese'},\n",
       " {'_id': ObjectId('55f14312c7447c3da7051b2f'),\n",
       "  'URL': 'http://www.just-eat.co.uk/restaurants-1-2-3-chinese-rowlands-gill/menu',\n",
       "  'address': 'Unit 4 Spencer House',\n",
       "  'address line 2': 'Swalwell',\n",
       "  'name': '1 2 3 Chinese',\n",
       "  'outcode': 'NE16',\n",
       "  'postcode': '3DS',\n",
       "  'rating': 4.5,\n",
       "  'type_of_food': 'Chinese'},\n",
       " {'_id': ObjectId('55f14312c7447c3da7051b30'),\n",
       "  'URL': 'http://www.just-eat.co.uk/restaurants-1-2-3-chinese-rowlands-gill/menu',\n",
       "  'address': 'Unit 4 Spencer House',\n",
       "  'address line 2': 'Swalwell',\n",
       "  'name': '1 2 3 Chinese',\n",
       "  'outcode': 'NE16',\n",
       "  'postcode': '3DS',\n",
       "  'rating': 4.5,\n",
       "  'type_of_food': 'Chinese'}]"
      ]
     },
     "execution_count": 160,
     "metadata": {},
     "output_type": "execute_result"
    }
   ],
   "source": [
    "list(c.find({\"$and\": [{\"rating\": {\"$gt\": 3}}, {\"type_of_food\": \"Chinese\"}]}).limit(3))"
   ]
  },
  {
   "cell_type": "code",
   "execution_count": 161,
   "id": "mounted-furniture",
   "metadata": {},
   "outputs": [],
   "source": [
    "condicion1 = {\"rating\": {\"$gt\": 3}}\n",
    "condicion2 = {\"type_of_food\": \"Chinese\"}"
   ]
  },
  {
   "cell_type": "code",
   "execution_count": 164,
   "id": "contained-telling",
   "metadata": {},
   "outputs": [
    {
     "data": {
      "text/plain": [
       "[{'name': '.CN Chinese', 'rating': 5, 'type_of_food': 'Chinese'},\n",
       " {'name': '1 2 3 Chinese', 'rating': 4.5, 'type_of_food': 'Chinese'},\n",
       " {'name': '1 2 3 Chinese', 'rating': 4.5, 'type_of_food': 'Chinese'},\n",
       " {'name': '100 Degrees Chinese Restaurant',\n",
       "  'rating': 5,\n",
       "  'type_of_food': 'Chinese'},\n",
       " {'name': '100 Menu', 'rating': 5, 'type_of_food': 'Chinese'}]"
      ]
     },
     "execution_count": 164,
     "metadata": {},
     "output_type": "execute_result"
    }
   ],
   "source": [
    "list(c.find({\"$and\": [condicion1,condicion2]}, proj).limit(5))"
   ]
  },
  {
   "cell_type": "code",
   "execution_count": 166,
   "id": "alpha-valuation",
   "metadata": {},
   "outputs": [
    {
     "data": {
      "text/plain": [
       "{'_id': 0, 'rating': 1, 'type_of_food': 1, 'name': 1}"
      ]
     },
     "execution_count": 166,
     "metadata": {},
     "output_type": "execute_result"
    }
   ],
   "source": [
    "proj"
   ]
  },
  {
   "cell_type": "code",
   "execution_count": null,
   "id": "bizarre-valley",
   "metadata": {},
   "outputs": [],
   "source": [
    "# También funciona así "
   ]
  },
  {
   "cell_type": "code",
   "execution_count": null,
   "id": "happy-chassis",
   "metadata": {},
   "outputs": [],
   "source": [
    "{\"type_of_food\": \"Chinese\", \"rating\":{\"$gte\":5}, {\"name\": {\"$regex\": \".*\\d.*\"}}"
   ]
  },
  {
   "cell_type": "code",
   "execution_count": 172,
   "id": "ignored-visitor",
   "metadata": {},
   "outputs": [
    {
     "data": {
      "text/plain": [
       "[{'_id': ObjectId('55f14312c7447c3da7051b26'),\n",
       "  'URL': 'http://www.just-eat.co.uk/restaurants-cn-chinese-cardiff/menu',\n",
       "  'address': '228 City Road',\n",
       "  'address line 2': 'Cardiff',\n",
       "  'name': '.CN Chinese',\n",
       "  'outcode': 'CF24',\n",
       "  'postcode': '3JH',\n",
       "  'rating': 5,\n",
       "  'type_of_food': 'Chinese'},\n",
       " {'_id': ObjectId('55f14312c7447c3da7051b31'),\n",
       "  'URL': 'http://www.just-eat.co.uk/restaurants-100-degrees-chinese-restaurant-pontypridd/menu',\n",
       "  'address': '67 Park Street',\n",
       "  'address line 2': 'Treforest',\n",
       "  'name': '100 Degrees Chinese Restaurant',\n",
       "  'outcode': 'CF37',\n",
       "  'postcode': '1SN',\n",
       "  'rating': 5,\n",
       "  'type_of_food': 'Chinese'},\n",
       " {'_id': ObjectId('55f14312c7447c3da7051b32'),\n",
       "  'URL': 'http://www.just-eat.co.uk/restaurants-100menu-wn1/menu',\n",
       "  'address': '50 Wallgate',\n",
       "  'address line 2': 'Wigan',\n",
       "  'name': '100 Menu',\n",
       "  'outcode': 'WN1',\n",
       "  'postcode': '1JU',\n",
       "  'rating': 5,\n",
       "  'type_of_food': 'Chinese'}]"
      ]
     },
     "execution_count": 172,
     "metadata": {},
     "output_type": "execute_result"
    }
   ],
   "source": [
    "# NO LO HAGÁIS ASÍ, AUNQUE FUNCIONA\n",
    "list(c.find({\"type_of_food\": \"Chinese\", \"rating\": {\"$gte\":5}}).limit(3))"
   ]
  },
  {
   "cell_type": "code",
   "execution_count": 179,
   "id": "focused-feature",
   "metadata": {},
   "outputs": [],
   "source": [
    "#CONDICIONES ILIMITADAS\n",
    "cond1 = {\"type_of_food\": \"Chinese\"}\n",
    "cond2 = {\"rating\":{\"$gte\":5}}\n",
    "cond3 = {\"name\": {\"$regex\": \".*\\d.*\"}}"
   ]
  },
  {
   "cell_type": "code",
   "execution_count": 180,
   "id": "neutral-burton",
   "metadata": {},
   "outputs": [
    {
     "data": {
      "text/plain": [
       "[{'_id': ObjectId('55f14312c7447c3da7051b31'),\n",
       "  'URL': 'http://www.just-eat.co.uk/restaurants-100-degrees-chinese-restaurant-pontypridd/menu',\n",
       "  'address': '67 Park Street',\n",
       "  'address line 2': 'Treforest',\n",
       "  'name': '100 Degrees Chinese Restaurant',\n",
       "  'outcode': 'CF37',\n",
       "  'postcode': '1SN',\n",
       "  'rating': 5,\n",
       "  'type_of_food': 'Chinese'},\n",
       " {'_id': ObjectId('55f14312c7447c3da7051b32'),\n",
       "  'URL': 'http://www.just-eat.co.uk/restaurants-100menu-wn1/menu',\n",
       "  'address': '50 Wallgate',\n",
       "  'address line 2': 'Wigan',\n",
       "  'name': '100 Menu',\n",
       "  'outcode': 'WN1',\n",
       "  'postcode': '1JU',\n",
       "  'rating': 5,\n",
       "  'type_of_food': 'Chinese'},\n",
       " {'_id': ObjectId('55f14312c7447c3da7051b35'),\n",
       "  'URL': 'http://www.just-eat.co.uk/restaurants-113-fish-bar-wallasey/menu',\n",
       "  'address': '113 Poulton Road',\n",
       "  'address line 2': 'Merseyside',\n",
       "  'name': '113 Fish Bar',\n",
       "  'outcode': 'CH44',\n",
       "  'postcode': '9DE',\n",
       "  'rating': 5.5,\n",
       "  'type_of_food': 'Chinese'}]"
      ]
     },
     "execution_count": 180,
     "metadata": {},
     "output_type": "execute_result"
    }
   ],
   "source": [
    "list(c.find({\"$and\": [cond1,cond2,cond3]}).limit(3))"
   ]
  },
  {
   "cell_type": "code",
   "execution_count": 203,
   "id": "fatal-excuse",
   "metadata": {},
   "outputs": [],
   "source": [
    "# Mirar regex\n",
    "cond_regex = {\"name\": {\"$regex\": \"[^0-9]\"}}"
   ]
  },
  {
   "cell_type": "code",
   "execution_count": 205,
   "id": "varying-infrastructure",
   "metadata": {},
   "outputs": [
    {
     "data": {
      "text/plain": [
       "[{'name': '@ Thai', 'rating': 5.5, 'type_of_food': 'Thai'},\n",
       " {'name': '.CN Chinese', 'rating': 5, 'type_of_food': 'Chinese'},\n",
       " {'name': '@ Thai Restaurant', 'rating': 4.5, 'type_of_food': 'Thai'}]"
      ]
     },
     "execution_count": 205,
     "metadata": {},
     "output_type": "execute_result"
    }
   ],
   "source": [
    "list(c.find(cond_regex,proj).limit(3))"
   ]
  },
  {
   "cell_type": "markdown",
   "id": "hundred-messenger",
   "metadata": {},
   "source": [
    "### `or`     \n",
    "El operador or realiza una operación lógica OR en una matriz de dos o más expresiones y selecciona los documentos que satisfacen al menos una de las expresiones.    \n",
    "El operador $or tiene la siguiente sintaxis:      \n",
    "`colección.find({\"$or\": [condición1, condición, condición3 ]})`"
   ]
  },
  {
   "cell_type": "code",
   "execution_count": 212,
   "id": "special-daniel",
   "metadata": {},
   "outputs": [
    {
     "data": {
      "text/plain": [
       "[{'_id': ObjectId('55f14312c7447c3da7051b27'),\n",
       "  'URL': 'http://www.just-eat.co.uk/restaurants-atthai-ss9/menu',\n",
       "  'address': '376 Rayleigh Road',\n",
       "  'address line 2': 'Essex',\n",
       "  'name': '@ Thai',\n",
       "  'outcode': 'SS9',\n",
       "  'postcode': '5PT',\n",
       "  'rating': 5.5,\n",
       "  'type_of_food': 'Thai'},\n",
       " {'_id': ObjectId('55f14312c7447c3da7051b26'),\n",
       "  'URL': 'http://www.just-eat.co.uk/restaurants-cn-chinese-cardiff/menu',\n",
       "  'address': '228 City Road',\n",
       "  'address line 2': 'Cardiff',\n",
       "  'name': '.CN Chinese',\n",
       "  'outcode': 'CF24',\n",
       "  'postcode': '3JH',\n",
       "  'rating': 5,\n",
       "  'type_of_food': 'Chinese'},\n",
       " {'_id': ObjectId('55f14312c7447c3da7051b28'),\n",
       "  'URL': 'http://www.just-eat.co.uk/restaurants-atthairestaurant/menu',\n",
       "  'address': '30 Greyhound Road Hammersmith',\n",
       "  'address line 2': 'London',\n",
       "  'name': '@ Thai Restaurant',\n",
       "  'outcode': 'W6',\n",
       "  'postcode': '8NX',\n",
       "  'rating': 4.5,\n",
       "  'type_of_food': 'Thai'}]"
      ]
     },
     "execution_count": 212,
     "metadata": {},
     "output_type": "execute_result"
    }
   ],
   "source": [
    "list(c.find({\"$or\": [{\"address\":{\"$regex\": \"Road.*\"}}, {\"type_of_food\": \"Pizza\"}]}).limit(3))"
   ]
  },
  {
   "cell_type": "code",
   "execution_count": 214,
   "id": "renewable-consciousness",
   "metadata": {},
   "outputs": [],
   "source": [
    "# Hacemos una query que mezcle and y or y sea: Mayor que 3 y chino, o tailandés\n",
    "mayor = {\"rating\": {\"$gt\": 3}}\n",
    "chin = {\"type_of_food\": \"Chinese\"}\n",
    "thai = {\"type_of_food\": \"Thai\"}"
   ]
  },
  {
   "cell_type": "code",
   "execution_count": 216,
   "id": "unknown-leadership",
   "metadata": {},
   "outputs": [
    {
     "data": {
      "text/plain": [
       "[{'_id': ObjectId('55f14312c7447c3da7051b27'),\n",
       "  'URL': 'http://www.just-eat.co.uk/restaurants-atthai-ss9/menu',\n",
       "  'address': '376 Rayleigh Road',\n",
       "  'address line 2': 'Essex',\n",
       "  'name': '@ Thai',\n",
       "  'outcode': 'SS9',\n",
       "  'postcode': '5PT',\n",
       "  'rating': 5.5,\n",
       "  'type_of_food': 'Thai'},\n",
       " {'_id': ObjectId('55f14312c7447c3da7051b26'),\n",
       "  'URL': 'http://www.just-eat.co.uk/restaurants-cn-chinese-cardiff/menu',\n",
       "  'address': '228 City Road',\n",
       "  'address line 2': 'Cardiff',\n",
       "  'name': '.CN Chinese',\n",
       "  'outcode': 'CF24',\n",
       "  'postcode': '3JH',\n",
       "  'rating': 5,\n",
       "  'type_of_food': 'Chinese'},\n",
       " {'_id': ObjectId('55f14312c7447c3da7051b28'),\n",
       "  'URL': 'http://www.just-eat.co.uk/restaurants-atthairestaurant/menu',\n",
       "  'address': '30 Greyhound Road Hammersmith',\n",
       "  'address line 2': 'London',\n",
       "  'name': '@ Thai Restaurant',\n",
       "  'outcode': 'W6',\n",
       "  'postcode': '8NX',\n",
       "  'rating': 4.5,\n",
       "  'type_of_food': 'Thai'}]"
      ]
     },
     "execution_count": 216,
     "metadata": {},
     "output_type": "execute_result"
    }
   ],
   "source": [
    "list(c.find({\"$or\": [{\"$and\":[mayor,chin]}, thai]}).limit(3))"
   ]
  },
  {
   "cell_type": "markdown",
   "id": "announced-italic",
   "metadata": {},
   "source": [
    "### `ne`    \n",
    "Not equal  \n",
    "Selecciona los documentos en los que el valor del campo no es igual al valor especificado. Esto incluye los documentos que no contienen el campo."
   ]
  },
  {
   "cell_type": "code",
   "execution_count": 217,
   "id": "interim-operations",
   "metadata": {},
   "outputs": [
    {
     "data": {
      "text/plain": [
       "[{'_id': ObjectId('55f14312c7447c3da7051b2a'),\n",
       "  'URL': 'http://www.just-eat.co.uk/restaurants-indiancom-ch4/menu',\n",
       "  'address': '9 Broughton Hall Road',\n",
       "  'address line 2': 'Broughton',\n",
       "  'name': '@Indian.com',\n",
       "  'outcode': 'CH4',\n",
       "  'postcode': '0QR',\n",
       "  'rating': 6,\n",
       "  'type_of_food': 'Curry'},\n",
       " {'_id': ObjectId('55f14312c7447c3da7051bbc'),\n",
       "  'URL': 'http://www.just-eat.co.uk/restaurants-aarthi-sw19/menu',\n",
       "  'address': '5 Kingston Road',\n",
       "  'address line 2': 'London',\n",
       "  'name': 'Aarthi',\n",
       "  'outcode': 'SW19',\n",
       "  'postcode': '1JX',\n",
       "  'rating': 6,\n",
       "  'type_of_food': 'Curry'},\n",
       " {'_id': ObjectId('55f14312c7447c3da7051bfb'),\n",
       "  'URL': 'http://www.just-eat.co.uk/restaurants-absharindian-ig6/menu',\n",
       "  'address': '43 High Street',\n",
       "  'address line 2': 'Ilford',\n",
       "  'name': 'Abshar Indian Cuisine',\n",
       "  'outcode': 'IG6',\n",
       "  'postcode': '2AD',\n",
       "  'rating': 6,\n",
       "  'type_of_food': 'Punjabi'}]"
      ]
     },
     "execution_count": 217,
     "metadata": {},
     "output_type": "execute_result"
    }
   ],
   "source": [
    "list(c.find({\"type_of_food\": {\"$ne\": \"Pizza\"}, \"rating\": 6}).limit(3))"
   ]
  },
  {
   "cell_type": "code",
   "execution_count": 223,
   "id": "legendary-rider",
   "metadata": {},
   "outputs": [
    {
     "data": {
      "text/plain": [
       "[{'_id': ObjectId('55f14312c7447c3da7051b27'),\n",
       "  'URL': 'http://www.just-eat.co.uk/restaurants-atthai-ss9/menu',\n",
       "  'address': '376 Rayleigh Road',\n",
       "  'address line 2': 'Essex',\n",
       "  'name': '@ Thai',\n",
       "  'outcode': 'SS9',\n",
       "  'postcode': '5PT',\n",
       "  'rating': 5.5,\n",
       "  'type_of_food': 'Thai'},\n",
       " {'_id': ObjectId('55f14312c7447c3da7051b26'),\n",
       "  'URL': 'http://www.just-eat.co.uk/restaurants-cn-chinese-cardiff/menu',\n",
       "  'address': '228 City Road',\n",
       "  'address line 2': 'Cardiff',\n",
       "  'name': '.CN Chinese',\n",
       "  'outcode': 'CF24',\n",
       "  'postcode': '3JH',\n",
       "  'rating': 5,\n",
       "  'type_of_food': 'Chinese'},\n",
       " {'_id': ObjectId('55f14312c7447c3da7051b28'),\n",
       "  'URL': 'http://www.just-eat.co.uk/restaurants-atthairestaurant/menu',\n",
       "  'address': '30 Greyhound Road Hammersmith',\n",
       "  'address line 2': 'London',\n",
       "  'name': '@ Thai Restaurant',\n",
       "  'outcode': 'W6',\n",
       "  'postcode': '8NX',\n",
       "  'rating': 4.5,\n",
       "  'type_of_food': 'Thai'}]"
      ]
     },
     "execution_count": 223,
     "metadata": {},
     "output_type": "execute_result"
    }
   ],
   "source": [
    "# Resolvemos el dilema del regex anterior de los números\n",
    "list(c.find({\"name\": {\"$ne\": {\"$regex\": \"\\d+\"}}}).limit(3))"
   ]
  },
  {
   "cell_type": "markdown",
   "id": "buried-despite",
   "metadata": {},
   "source": [
    "### `in`     \n",
    "El operador in selecciona los documentos en los que el valor de un campo es igual a cualquier valor de la matriz especificada. Para especificar una expresión $in, utilice el siguiente prototipo:     \n",
    "```python\n",
    "{ field: { $in: [<value1>, <value2>, ... <valueN> ] } }\n",
    " ```"
   ]
  },
  {
   "cell_type": "code",
   "execution_count": 224,
   "id": "dietary-office",
   "metadata": {},
   "outputs": [
    {
     "data": {
      "text/plain": [
       "[{'_id': ObjectId('55f14312c7447c3da7051b26'),\n",
       "  'URL': 'http://www.just-eat.co.uk/restaurants-cn-chinese-cardiff/menu',\n",
       "  'address': '228 City Road',\n",
       "  'address line 2': 'Cardiff',\n",
       "  'name': '.CN Chinese',\n",
       "  'outcode': 'CF24',\n",
       "  'postcode': '3JH',\n",
       "  'rating': 5,\n",
       "  'type_of_food': 'Chinese'},\n",
       " {'_id': ObjectId('55f14312c7447c3da7051b2e'),\n",
       "  'URL': 'http://www.just-eat.co.uk/restaurants-042-restaurant-e11/menu',\n",
       "  'address': '885 High Road Leytonstone',\n",
       "  'address line 2': 'London',\n",
       "  'name': '042 Restaurant & Bar',\n",
       "  'outcode': 'E11',\n",
       "  'postcode': '1HR',\n",
       "  'rating': 3,\n",
       "  'type_of_food': 'African'},\n",
       " {'_id': ObjectId('55f14312c7447c3da7051b2c'),\n",
       "  'URL': 'http://www.just-eat.co.uk/restaurants-042-restaurant-e11/menu',\n",
       "  'address': '885 High Road Leytonstone',\n",
       "  'address line 2': 'London',\n",
       "  'name': '042 Restaurant & Bar',\n",
       "  'outcode': 'E11',\n",
       "  'postcode': '1HR',\n",
       "  'rating': 3,\n",
       "  'type_of_food': 'African'},\n",
       " {'_id': ObjectId('55f14312c7447c3da7051b2d'),\n",
       "  'URL': 'http://www.just-eat.co.uk/restaurants-042-restaurant-e11/menu',\n",
       "  'address': '885 High Road Leytonstone',\n",
       "  'address line 2': 'London',\n",
       "  'name': '042 Restaurant & Bar',\n",
       "  'outcode': 'E11',\n",
       "  'postcode': '1HR',\n",
       "  'rating': 3,\n",
       "  'type_of_food': 'African'}]"
      ]
     },
     "execution_count": 224,
     "metadata": {},
     "output_type": "execute_result"
    }
   ],
   "source": [
    "list(c.find({\"rating\": {\"$in\": [3,4,5]}}).limit(4))"
   ]
  },
  {
   "cell_type": "code",
   "execution_count": 225,
   "id": "established-sharp",
   "metadata": {},
   "outputs": [
    {
     "data": {
      "text/plain": [
       "[{'_id': ObjectId('55f14312c7447c3da7051b27'),\n",
       "  'URL': 'http://www.just-eat.co.uk/restaurants-atthai-ss9/menu',\n",
       "  'address': '376 Rayleigh Road',\n",
       "  'address line 2': 'Essex',\n",
       "  'name': '@ Thai',\n",
       "  'outcode': 'SS9',\n",
       "  'postcode': '5PT',\n",
       "  'rating': 5.5,\n",
       "  'type_of_food': 'Thai'},\n",
       " {'_id': ObjectId('55f14312c7447c3da7051b28'),\n",
       "  'URL': 'http://www.just-eat.co.uk/restaurants-atthairestaurant/menu',\n",
       "  'address': '30 Greyhound Road Hammersmith',\n",
       "  'address line 2': 'London',\n",
       "  'name': '@ Thai Restaurant',\n",
       "  'outcode': 'W6',\n",
       "  'postcode': '8NX',\n",
       "  'rating': 4.5,\n",
       "  'type_of_food': 'Thai'},\n",
       " {'_id': ObjectId('55f14312c7447c3da7051b29'),\n",
       "  'URL': 'http://www.just-eat.co.uk/restaurants-atthairestaurant/menu',\n",
       "  'address': '30 Greyhound Road Hammersmith',\n",
       "  'address line 2': 'London',\n",
       "  'name': '@ Thai Restaurant',\n",
       "  'outcode': 'W6',\n",
       "  'postcode': '8NX',\n",
       "  'rating': 4.5,\n",
       "  'type_of_food': 'Thai'}]"
      ]
     },
     "execution_count": 225,
     "metadata": {},
     "output_type": "execute_result"
    }
   ],
   "source": [
    "list(c.find({\"type_of_food\": {\"$in\": [\"Pizza\", \"Thai\", \"hola no doy error\"]}}).limit(3))"
   ]
  },
  {
   "cell_type": "markdown",
   "id": "general-baseball",
   "metadata": {},
   "source": [
    "### `nin`     \n",
    "\n",
    "Sintaxis: \n",
    "```python\n",
    "{ campo: { $nin: [ <valor1>, <valor2> ... <valorN> ]} }\n",
    "```\n",
    "\n",
    "not in selecciona los documentos en los que\n",
    "\n",
    "- el valor del campo no está en la matriz especificada \n",
    "- el campo no existe."
   ]
  },
  {
   "cell_type": "code",
   "execution_count": 226,
   "id": "supposed-synthetic",
   "metadata": {},
   "outputs": [
    {
     "data": {
      "text/plain": [
       "[{'_id': ObjectId('55f14312c7447c3da7051b27'),\n",
       "  'URL': 'http://www.just-eat.co.uk/restaurants-atthai-ss9/menu',\n",
       "  'address': '376 Rayleigh Road',\n",
       "  'address line 2': 'Essex',\n",
       "  'name': '@ Thai',\n",
       "  'outcode': 'SS9',\n",
       "  'postcode': '5PT',\n",
       "  'rating': 5.5,\n",
       "  'type_of_food': 'Thai'},\n",
       " {'_id': ObjectId('55f14312c7447c3da7051b26'),\n",
       "  'URL': 'http://www.just-eat.co.uk/restaurants-cn-chinese-cardiff/menu',\n",
       "  'address': '228 City Road',\n",
       "  'address line 2': 'Cardiff',\n",
       "  'name': '.CN Chinese',\n",
       "  'outcode': 'CF24',\n",
       "  'postcode': '3JH',\n",
       "  'rating': 5,\n",
       "  'type_of_food': 'Chinese'},\n",
       " {'_id': ObjectId('55f14312c7447c3da7051b28'),\n",
       "  'URL': 'http://www.just-eat.co.uk/restaurants-atthairestaurant/menu',\n",
       "  'address': '30 Greyhound Road Hammersmith',\n",
       "  'address line 2': 'London',\n",
       "  'name': '@ Thai Restaurant',\n",
       "  'outcode': 'W6',\n",
       "  'postcode': '8NX',\n",
       "  'rating': 4.5,\n",
       "  'type_of_food': 'Thai'}]"
      ]
     },
     "execution_count": 226,
     "metadata": {},
     "output_type": "execute_result"
    }
   ],
   "source": [
    "list(c.find({\"rating\": {\"$nin\": [2,3,4]}}).limit(3))"
   ]
  },
  {
   "cell_type": "code",
   "execution_count": 227,
   "id": "hazardous-utilization",
   "metadata": {},
   "outputs": [],
   "source": [
    "tipos = [\"Thai\", \"Burger\",\"Pizza\"]"
   ]
  },
  {
   "cell_type": "code",
   "execution_count": 230,
   "id": "innovative-depression",
   "metadata": {},
   "outputs": [
    {
     "data": {
      "text/plain": [
       "[{'_id': ObjectId('55f14312c7447c3da7051b27'),\n",
       "  'URL': 'http://www.just-eat.co.uk/restaurants-atthai-ss9/menu',\n",
       "  'address': '376 Rayleigh Road',\n",
       "  'address line 2': 'Essex',\n",
       "  'name': '@ Thai',\n",
       "  'outcode': 'SS9',\n",
       "  'postcode': '5PT',\n",
       "  'rating': 5.5,\n",
       "  'type_of_food': 'Thai'},\n",
       " {'_id': ObjectId('55f14312c7447c3da7051b28'),\n",
       "  'URL': 'http://www.just-eat.co.uk/restaurants-atthairestaurant/menu',\n",
       "  'address': '30 Greyhound Road Hammersmith',\n",
       "  'address line 2': 'London',\n",
       "  'name': '@ Thai Restaurant',\n",
       "  'outcode': 'W6',\n",
       "  'postcode': '8NX',\n",
       "  'rating': 4.5,\n",
       "  'type_of_food': 'Thai'},\n",
       " {'_id': ObjectId('55f14312c7447c3da7051b29'),\n",
       "  'URL': 'http://www.just-eat.co.uk/restaurants-atthairestaurant/menu',\n",
       "  'address': '30 Greyhound Road Hammersmith',\n",
       "  'address line 2': 'London',\n",
       "  'name': '@ Thai Restaurant',\n",
       "  'outcode': 'W6',\n",
       "  'postcode': '8NX',\n",
       "  'rating': 4.5,\n",
       "  'type_of_food': 'Thai'}]"
      ]
     },
     "execution_count": 230,
     "metadata": {},
     "output_type": "execute_result"
    }
   ],
   "source": [
    "list(c.find({\"type_of_food\":{\"$in\":tipos}}).limit(3))"
   ]
  },
  {
   "cell_type": "markdown",
   "id": "greater-thumb",
   "metadata": {},
   "source": [
    "## Update    \n",
    "Modifica un documento o documentos existentes en una colección. El método puede modificar campos específicos de un documento o documentos existentes o reemplazar un documento existente por completo, dependiendo del parámetro de actualización.   \n",
    "Cuidado, esta acción no se puede deshacer.     \n",
    "Sintaxis:\n",
    "```python\n",
    "colección.update_many(condición/filtro, actualización)\n",
    "```\n",
    "\n",
    "Podemos actualizar un campo con `$set` y con `$unset` lo borramos"
   ]
  },
  {
   "cell_type": "code",
   "execution_count": 231,
   "id": "subjective-headquarters",
   "metadata": {},
   "outputs": [
    {
     "data": {
      "text/plain": [
       "[{'_id': ObjectId('55f14312c7447c3da7051b36'),\n",
       "  'URL': 'http://www.just-eat.co.uk/restaurants-133-takeaway-irvine/menu',\n",
       "  'address': '133 Fullarton Street',\n",
       "  'address line 2': 'Irvine',\n",
       "  'name': '133 Takeaway',\n",
       "  'outcode': 'KA12',\n",
       "  'postcode': '8DG',\n",
       "  'rating': 'Not yet rated',\n",
       "  'type_of_food': 'Breakfast'}]"
      ]
     },
     "execution_count": 231,
     "metadata": {},
     "output_type": "execute_result"
    }
   ],
   "source": [
    "list(c.find({\"rating\": \"Not yet rated\"}).limit(1))"
   ]
  },
  {
   "cell_type": "code",
   "execution_count": 232,
   "id": "finished-syracuse",
   "metadata": {},
   "outputs": [
    {
     "data": {
      "text/plain": [
       "<pymongo.results.UpdateResult at 0x7fe7cc1e6e40>"
      ]
     },
     "execution_count": 232,
     "metadata": {},
     "output_type": "execute_result"
    }
   ],
   "source": [
    "c.update_many(\n",
    "    {\"rating\": \"Not yet rated\"},\n",
    "    {\"$set\": {\"rating\": 0}}\n",
    ")"
   ]
  },
  {
   "cell_type": "code",
   "execution_count": 233,
   "id": "flush-titanium",
   "metadata": {},
   "outputs": [
    {
     "data": {
      "text/plain": [
       "[]"
      ]
     },
     "execution_count": 233,
     "metadata": {},
     "output_type": "execute_result"
    }
   ],
   "source": [
    "list(c.find({\"rating\": \"Not yet rated\"}).limit(1))"
   ]
  },
  {
   "cell_type": "code",
   "execution_count": 234,
   "id": "unauthorized-paint",
   "metadata": {},
   "outputs": [
    {
     "data": {
      "text/plain": [
       "[{'_id': ObjectId('55f14312c7447c3da7051b36'),\n",
       "  'URL': 'http://www.just-eat.co.uk/restaurants-133-takeaway-irvine/menu',\n",
       "  'address': '133 Fullarton Street',\n",
       "  'address line 2': 'Irvine',\n",
       "  'name': '133 Takeaway',\n",
       "  'outcode': 'KA12',\n",
       "  'postcode': '8DG',\n",
       "  'rating': 0,\n",
       "  'type_of_food': 'Breakfast'}]"
      ]
     },
     "execution_count": 234,
     "metadata": {},
     "output_type": "execute_result"
    }
   ],
   "source": [
    "list(c.find({\"rating\": 0}).limit(1))"
   ]
  },
  {
   "cell_type": "code",
   "execution_count": 238,
   "id": "involved-gather",
   "metadata": {},
   "outputs": [
    {
     "data": {
      "text/plain": [
       "<pymongo.results.UpdateResult at 0x7fe7cb8d40c0>"
      ]
     },
     "execution_count": 238,
     "metadata": {},
     "output_type": "execute_result"
    }
   ],
   "source": [
    "c.update_many(\n",
    "    {\"rating\": 0},\n",
    "    {\"$set\": {\"postcode\": \"hola qué tal\"}}\n",
    ")"
   ]
  },
  {
   "cell_type": "code",
   "execution_count": 237,
   "id": "transparent-campus",
   "metadata": {},
   "outputs": [
    {
     "data": {
      "text/plain": [
       "<pymongo.results.UpdateResult at 0x7fe7cc1f1400>"
      ]
     },
     "execution_count": 237,
     "metadata": {},
     "output_type": "execute_result"
    }
   ],
   "source": [
    "c.update_many(\n",
    "    {\"rating\": 1},\n",
    "    {\"$set\": {\"postcode\": 12345}}\n",
    ")"
   ]
  },
  {
   "cell_type": "code",
   "execution_count": 239,
   "id": "small-cover",
   "metadata": {},
   "outputs": [
    {
     "data": {
      "text/plain": [
       "<pymongo.results.UpdateResult at 0x7fe7cb8f6c80>"
      ]
     },
     "execution_count": 239,
     "metadata": {},
     "output_type": "execute_result"
    }
   ],
   "source": [
    "c.update_many(\n",
    "    {\"rating\": 1},\n",
    "    {\"$unset\": {\"postcode\": 12345}}\n",
    ")"
   ]
  },
  {
   "cell_type": "code",
   "execution_count": 241,
   "id": "amended-wright",
   "metadata": {},
   "outputs": [
    {
     "data": {
      "text/plain": [
       "[{'_id': ObjectId('55f14312c7447c3da7051cec'),\n",
       "  'URL': 'http://www.just-eat.co.uk/restaurants-aldixifriedchicken-b21/menu',\n",
       "  'address': '343 Soho Road',\n",
       "  'address line 2': 'Birmingham',\n",
       "  'name': 'Al Dixi Fried Chicken & Grill House',\n",
       "  'outcode': 'B21',\n",
       "  'rating': 1,\n",
       "  'type_of_food': 'Chicken'}]"
      ]
     },
     "execution_count": 241,
     "metadata": {},
     "output_type": "execute_result"
    }
   ],
   "source": [
    "list(c.find({\"rating\": 1}).limit(1))"
   ]
  },
  {
   "cell_type": "code",
   "execution_count": 244,
   "id": "sunset-theater",
   "metadata": {},
   "outputs": [
    {
     "data": {
      "text/plain": [
       "[{'_id': ObjectId('55f14312c7447c3da7051cec'),\n",
       "  'URL': 'http://www.just-eat.co.uk/restaurants-aldixifriedchicken-b21/menu',\n",
       "  'address': '343 Soho Road',\n",
       "  'address line 2': 'Birmingham',\n",
       "  'name': 'Al Dixi Fried Chicken & Grill House',\n",
       "  'outcode': 'B21',\n",
       "  'rating': 1,\n",
       "  'type_of_food': 'Chicken'},\n",
       " {'_id': ObjectId('55f14312c7447c3da7051ceb'),\n",
       "  'URL': 'http://www.just-eat.co.uk/restaurants-aldixifriedchicken-b21/menu',\n",
       "  'address': '343 Soho Road',\n",
       "  'address line 2': 'Birmingham',\n",
       "  'name': 'Al Dixi Fried Chicken & Grill House',\n",
       "  'outcode': 'B21',\n",
       "  'rating': 1,\n",
       "  'type_of_food': 'Chicken'}]"
      ]
     },
     "execution_count": 244,
     "metadata": {},
     "output_type": "execute_result"
    }
   ],
   "source": [
    "# Utilizamos exists para ver los que no tienen campo postcode\n",
    "list(c.find({\"postcode\": {\"$exists\": False}}).limit(2))"
   ]
  },
  {
   "cell_type": "code",
   "execution_count": 246,
   "id": "artistic-registrar",
   "metadata": {},
   "outputs": [],
   "source": [
    "# La sintaxis del UNSET se escribe con un diccionario vacío"
   ]
  },
  {
   "cell_type": "code",
   "execution_count": 248,
   "id": "amino-employment",
   "metadata": {},
   "outputs": [
    {
     "data": {
      "text/plain": [
       "<pymongo.results.UpdateResult at 0x7fe7cb8d2f00>"
      ]
     },
     "execution_count": 248,
     "metadata": {},
     "output_type": "execute_result"
    }
   ],
   "source": [
    "c.update_many(\n",
    "    {\"$and\": [{\"rating\": {\"$in\":[0,1,2,3]}},{\"postcode\": \"hola qué tal\"}]},\n",
    "    {\"$unset\": {\"postcode\": {}}}\n",
    ")"
   ]
  },
  {
   "cell_type": "markdown",
   "id": "processed-toronto",
   "metadata": {},
   "source": [
    "## Delete     \n",
    "Elimina de una colección todos los documentos que coinciden con el filtro.\n",
    "Sintaxis:\n",
    "```python\n",
    "c.delete_many(condition/filtro)\n",
    "```"
   ]
  },
  {
   "cell_type": "code",
   "execution_count": 249,
   "id": "regular-milton",
   "metadata": {},
   "outputs": [
    {
     "data": {
      "text/plain": [
       "<pymongo.results.DeleteResult at 0x7fe7cc216e40>"
      ]
     },
     "execution_count": 249,
     "metadata": {},
     "output_type": "execute_result"
    }
   ],
   "source": [
    "c.delete_many({\"rating\": 0})"
   ]
  },
  {
   "cell_type": "code",
   "execution_count": 250,
   "id": "hydraulic-acoustic",
   "metadata": {},
   "outputs": [
    {
     "data": {
      "text/plain": [
       "[]"
      ]
     },
     "execution_count": 250,
     "metadata": {},
     "output_type": "execute_result"
    }
   ],
   "source": [
    "list(c.find({\"rating\": 0}))"
   ]
  },
  {
   "cell_type": "markdown",
   "id": "signed-tennessee",
   "metadata": {},
   "source": [
    "## Insert"
   ]
  },
  {
   "cell_type": "markdown",
   "id": "equipped-suite",
   "metadata": {},
   "source": [
    "Insertamos documentos en la colección\n",
    "Sintaxis \n",
    "```python\n",
    "db.collection.insert()\n",
    "```\n"
   ]
  },
  {
   "cell_type": "code",
   "execution_count": 251,
   "id": "surface-gregory",
   "metadata": {},
   "outputs": [],
   "source": [
    "documento = { \"hola\": \"qué tal\",\n",
    "             \"dirección\": \"Paseo de la chopera 14\"   \n",
    "}"
   ]
  },
  {
   "cell_type": "code",
   "execution_count": 256,
   "id": "academic-strengthening",
   "metadata": {},
   "outputs": [
    {
     "name": "stderr",
     "output_type": "stream",
     "text": [
      "<ipython-input-256-807d32585737>:1: DeprecationWarning: insert is deprecated. Use insert_one or insert_many instead.\n",
      "  db.restaurants.insert(documento)\n"
     ]
    },
    {
     "data": {
      "text/plain": [
       "ObjectId('612e1af9ccdec364163157a2')"
      ]
     },
     "execution_count": 256,
     "metadata": {},
     "output_type": "execute_result"
    }
   ],
   "source": [
    "db.restaurants.insert(documento)"
   ]
  },
  {
   "cell_type": "code",
   "execution_count": 258,
   "id": "earned-recorder",
   "metadata": {},
   "outputs": [
    {
     "data": {
      "text/plain": [
       "[{'_id': ObjectId('612e1af9ccdec364163157a2'),\n",
       "  'hola': 'qué tal',\n",
       "  'dirección': 'Paseo de la chopera 14'}]"
      ]
     },
     "execution_count": 258,
     "metadata": {},
     "output_type": "execute_result"
    }
   ],
   "source": [
    "list(c.find({\"hola\": \"qué tal\"}))"
   ]
  },
  {
   "cell_type": "markdown",
   "id": "confirmed-concrete",
   "metadata": {},
   "source": [
    "## Info extra \n",
    "Campos de consulta anidados"
   ]
  },
  {
   "cell_type": "code",
   "execution_count": 259,
   "id": "pending-learning",
   "metadata": {},
   "outputs": [
    {
     "data": {
      "text/plain": [
       "Collection(Database(MongoClient(host=['localhost:27017'], document_class=dict, tz_aware=False, connect=True), 'ironhack'), 'companies')"
      ]
     },
     "execution_count": 259,
     "metadata": {},
     "output_type": "execute_result"
    }
   ],
   "source": [
    "otra = db.get_collection(\"companies\")\n",
    "otra"
   ]
  },
  {
   "cell_type": "code",
   "execution_count": 260,
   "id": "banner-treaty",
   "metadata": {},
   "outputs": [
    {
     "data": {
      "text/plain": [
       "{'_id': ObjectId('52cdef7c4bab8bd675297d8b'),\n",
       " 'name': 'AdventNet',\n",
       " 'permalink': 'abc3',\n",
       " 'crunchbase_url': 'http://www.crunchbase.com/company/adventnet',\n",
       " 'homepage_url': 'http://adventnet.com',\n",
       " 'blog_url': '',\n",
       " 'blog_feed_url': '',\n",
       " 'twitter_username': 'manageengine',\n",
       " 'category_code': 'enterprise',\n",
       " 'number_of_employees': 600,\n",
       " 'founded_year': 1996,\n",
       " 'deadpooled_year': 2,\n",
       " 'tag_list': '',\n",
       " 'alias_list': 'Zoho ManageEngine ',\n",
       " 'email_address': 'pr@adventnet.com',\n",
       " 'phone_number': '925-924-9500',\n",
       " 'description': 'Server Management Software',\n",
       " 'created_at': datetime.datetime(2007, 5, 25, 19, 24, 22),\n",
       " 'updated_at': 'Wed Oct 31 18:26:09 UTC 2012',\n",
       " 'overview': '<p>AdventNet is now <a href=\"/company/zoho-manageengine\" title=\"Zoho ManageEngine\" rel=\"nofollow\">Zoho ManageEngine</a>.</p>\\n\\n<p>Founded in 1996, AdventNet has served a diverse range of enterprise IT, networking and telecom customers.</p>\\n\\n<p>AdventNet supplies server and network management software.</p>',\n",
       " 'image': {'available_sizes': [[[150, 55],\n",
       "    'assets/images/resized/0001/9732/19732v1-max-150x150.png'],\n",
       "   [[150, 55], 'assets/images/resized/0001/9732/19732v1-max-250x250.png'],\n",
       "   [[150, 55], 'assets/images/resized/0001/9732/19732v1-max-450x450.png']]},\n",
       " 'products': [],\n",
       " 'relationships': [{'is_past': True,\n",
       "   'title': 'CEO and Co-Founder',\n",
       "   'person': {'first_name': 'Sridhar',\n",
       "    'last_name': 'Vembu',\n",
       "    'permalink': 'sridhar-vembu'}},\n",
       "  {'is_past': True,\n",
       "   'title': 'VP of Business Dev',\n",
       "   'person': {'first_name': 'Neil',\n",
       "    'last_name': 'Butani',\n",
       "    'permalink': 'neil-butani'}},\n",
       "  {'is_past': True,\n",
       "   'title': 'Usabiliy Engineer',\n",
       "   'person': {'first_name': 'Bharath',\n",
       "    'last_name': 'Balasubramanian',\n",
       "    'permalink': 'bharath-balasibramanian'}},\n",
       "  {'is_past': True,\n",
       "   'title': 'Director of Engineering',\n",
       "   'person': {'first_name': 'Rajendran',\n",
       "    'last_name': 'Dandapani',\n",
       "    'permalink': 'rajendran-dandapani'}},\n",
       "  {'is_past': True,\n",
       "   'title': 'Market Analyst',\n",
       "   'person': {'first_name': 'Aravind',\n",
       "    'last_name': 'Natarajan',\n",
       "    'permalink': 'aravind-natarajan'}},\n",
       "  {'is_past': True,\n",
       "   'title': 'Director of Product Management',\n",
       "   'person': {'first_name': 'Hyther',\n",
       "    'last_name': 'Nizam',\n",
       "    'permalink': 'hyther-nizam'}},\n",
       "  {'is_past': True,\n",
       "   'title': 'Western Regional OEM Sales Manager',\n",
       "   'person': {'first_name': 'Ian',\n",
       "    'last_name': 'Wenig',\n",
       "    'permalink': 'ian-wenig'}}],\n",
       " 'competitions': [],\n",
       " 'providerships': [{'title': 'DHFH',\n",
       "   'is_past': True,\n",
       "   'provider': {'name': 'A Small Orange', 'permalink': 'a-small-orange'}}],\n",
       " 'total_money_raised': '$0',\n",
       " 'funding_rounds': [],\n",
       " 'investments': [],\n",
       " 'acquisition': None,\n",
       " 'acquisitions': [],\n",
       " 'offices': [{'description': 'Headquarters',\n",
       "   'address1': '4900 Hopyard Rd.',\n",
       "   'address2': 'Suite 310',\n",
       "   'zip_code': '94588',\n",
       "   'city': 'Pleasanton',\n",
       "   'state_code': 'CA',\n",
       "   'country_code': 'USA',\n",
       "   'latitude': 37.692934,\n",
       "   'longitude': -121.904945}],\n",
       " 'milestones': [],\n",
       " 'video_embeds': [],\n",
       " 'screenshots': [{'available_sizes': [[[150, 94],\n",
       "     'assets/images/resized/0004/3400/43400v1-max-150x150.png'],\n",
       "    [[250, 156], 'assets/images/resized/0004/3400/43400v1-max-250x250.png'],\n",
       "    [[450, 282], 'assets/images/resized/0004/3400/43400v1-max-450x450.png']],\n",
       "   'attribution': None}],\n",
       " 'external_links': [],\n",
       " 'partners': []}"
      ]
     },
     "execution_count": 260,
     "metadata": {},
     "output_type": "execute_result"
    }
   ],
   "source": [
    "otra.find_one()"
   ]
  },
  {
   "cell_type": "code",
   "execution_count": 261,
   "id": "detailed-physics",
   "metadata": {},
   "outputs": [],
   "source": [
    "filtro = {\"offices.description\": \"Headquarters\"}"
   ]
  },
  {
   "cell_type": "code",
   "execution_count": 277,
   "id": "choice-particular",
   "metadata": {},
   "outputs": [],
   "source": [
    "#list(otra.find(filtro).limit(4))"
   ]
  },
  {
   "cell_type": "code",
   "execution_count": 274,
   "id": "wanted-simulation",
   "metadata": {},
   "outputs": [],
   "source": [
    "filtro2 = {\"acquisition.acquired_month\": {\"$lte\": 4}}"
   ]
  },
  {
   "cell_type": "code",
   "execution_count": 275,
   "id": "finite-property",
   "metadata": {},
   "outputs": [],
   "source": [
    "#list(otra.find(filtro2).limit(3))"
   ]
  },
  {
   "cell_type": "code",
   "execution_count": 268,
   "id": "absolute-ribbon",
   "metadata": {},
   "outputs": [],
   "source": [
    "# Vamos a buscar las que no han sido compradas\n",
    "filtro3 = {\"acquisition\": None}"
   ]
  },
  {
   "cell_type": "code",
   "execution_count": 279,
   "id": "varying-attack",
   "metadata": {},
   "outputs": [
    {
     "data": {
      "text/plain": [
       "[{'_id': ObjectId('52cdef7c4bab8bd675297d8b'),\n",
       "  'name': 'AdventNet',\n",
       "  'permalink': 'abc3',\n",
       "  'crunchbase_url': 'http://www.crunchbase.com/company/adventnet',\n",
       "  'homepage_url': 'http://adventnet.com',\n",
       "  'blog_url': '',\n",
       "  'blog_feed_url': '',\n",
       "  'twitter_username': 'manageengine',\n",
       "  'category_code': 'enterprise',\n",
       "  'number_of_employees': 600,\n",
       "  'founded_year': 1996,\n",
       "  'deadpooled_year': 2,\n",
       "  'tag_list': '',\n",
       "  'alias_list': 'Zoho ManageEngine ',\n",
       "  'email_address': 'pr@adventnet.com',\n",
       "  'phone_number': '925-924-9500',\n",
       "  'description': 'Server Management Software',\n",
       "  'created_at': datetime.datetime(2007, 5, 25, 19, 24, 22),\n",
       "  'updated_at': 'Wed Oct 31 18:26:09 UTC 2012',\n",
       "  'overview': '<p>AdventNet is now <a href=\"/company/zoho-manageengine\" title=\"Zoho ManageEngine\" rel=\"nofollow\">Zoho ManageEngine</a>.</p>\\n\\n<p>Founded in 1996, AdventNet has served a diverse range of enterprise IT, networking and telecom customers.</p>\\n\\n<p>AdventNet supplies server and network management software.</p>',\n",
       "  'image': {'available_sizes': [[[150, 55],\n",
       "     'assets/images/resized/0001/9732/19732v1-max-150x150.png'],\n",
       "    [[150, 55], 'assets/images/resized/0001/9732/19732v1-max-250x250.png'],\n",
       "    [[150, 55], 'assets/images/resized/0001/9732/19732v1-max-450x450.png']]},\n",
       "  'products': [],\n",
       "  'relationships': [{'is_past': True,\n",
       "    'title': 'CEO and Co-Founder',\n",
       "    'person': {'first_name': 'Sridhar',\n",
       "     'last_name': 'Vembu',\n",
       "     'permalink': 'sridhar-vembu'}},\n",
       "   {'is_past': True,\n",
       "    'title': 'VP of Business Dev',\n",
       "    'person': {'first_name': 'Neil',\n",
       "     'last_name': 'Butani',\n",
       "     'permalink': 'neil-butani'}},\n",
       "   {'is_past': True,\n",
       "    'title': 'Usabiliy Engineer',\n",
       "    'person': {'first_name': 'Bharath',\n",
       "     'last_name': 'Balasubramanian',\n",
       "     'permalink': 'bharath-balasibramanian'}},\n",
       "   {'is_past': True,\n",
       "    'title': 'Director of Engineering',\n",
       "    'person': {'first_name': 'Rajendran',\n",
       "     'last_name': 'Dandapani',\n",
       "     'permalink': 'rajendran-dandapani'}},\n",
       "   {'is_past': True,\n",
       "    'title': 'Market Analyst',\n",
       "    'person': {'first_name': 'Aravind',\n",
       "     'last_name': 'Natarajan',\n",
       "     'permalink': 'aravind-natarajan'}},\n",
       "   {'is_past': True,\n",
       "    'title': 'Director of Product Management',\n",
       "    'person': {'first_name': 'Hyther',\n",
       "     'last_name': 'Nizam',\n",
       "     'permalink': 'hyther-nizam'}},\n",
       "   {'is_past': True,\n",
       "    'title': 'Western Regional OEM Sales Manager',\n",
       "    'person': {'first_name': 'Ian',\n",
       "     'last_name': 'Wenig',\n",
       "     'permalink': 'ian-wenig'}}],\n",
       "  'competitions': [],\n",
       "  'providerships': [{'title': 'DHFH',\n",
       "    'is_past': True,\n",
       "    'provider': {'name': 'A Small Orange', 'permalink': 'a-small-orange'}}],\n",
       "  'total_money_raised': '$0',\n",
       "  'funding_rounds': [],\n",
       "  'investments': [],\n",
       "  'acquisition': None,\n",
       "  'acquisitions': [],\n",
       "  'offices': [{'description': 'Headquarters',\n",
       "    'address1': '4900 Hopyard Rd.',\n",
       "    'address2': 'Suite 310',\n",
       "    'zip_code': '94588',\n",
       "    'city': 'Pleasanton',\n",
       "    'state_code': 'CA',\n",
       "    'country_code': 'USA',\n",
       "    'latitude': 37.692934,\n",
       "    'longitude': -121.904945}],\n",
       "  'milestones': [],\n",
       "  'video_embeds': [],\n",
       "  'screenshots': [{'available_sizes': [[[150, 94],\n",
       "      'assets/images/resized/0004/3400/43400v1-max-150x150.png'],\n",
       "     [[250, 156], 'assets/images/resized/0004/3400/43400v1-max-250x250.png'],\n",
       "     [[450, 282], 'assets/images/resized/0004/3400/43400v1-max-450x450.png']],\n",
       "    'attribution': None}],\n",
       "  'external_links': [],\n",
       "  'partners': []},\n",
       " {'_id': ObjectId('52cdef7c4bab8bd675297d8c'),\n",
       "  'name': 'Zoho',\n",
       "  'permalink': 'abc4',\n",
       "  'crunchbase_url': 'http://www.crunchbase.com/company/zoho',\n",
       "  'homepage_url': 'http://zoho.com',\n",
       "  'blog_url': 'http://blogs.zoho.com/',\n",
       "  'blog_feed_url': 'http://blogs.zoho.com/feed',\n",
       "  'twitter_username': 'zoho',\n",
       "  'category_code': 'software',\n",
       "  'number_of_employees': 1600,\n",
       "  'founded_year': 2005,\n",
       "  'founded_month': 9,\n",
       "  'founded_day': 15,\n",
       "  'deadpooled_year': 3,\n",
       "  'tag_list': 'zoho, officesuite, spreadsheet, writer, projects, sheet, crm, show, creator, wiki, planner, suite, notebook, chat, meeting, mail',\n",
       "  'alias_list': '',\n",
       "  'email_address': 'info@zohocorp.com',\n",
       "  'phone_number': '1-888-204-3539',\n",
       "  'description': 'Online Business Apps Suite',\n",
       "  'created_at': 'Fri May 25 19:30:28 UTC 2007',\n",
       "  'updated_at': 'Wed Oct 30 00:07:05 UTC 2013',\n",
       "  'overview': '<p>Zoho offers a suite of Business, Collaboration &amp; Productivity applications. Apps include CRM, Customer Support, Office Suite, Email Hosting, Project Management, Accounting, App Creator among many others. </p>\\n\\n<p>Zoho&#8217;s parent company is Zoho Corp (previously AdventNet), &#8220;a software company started in 1996 focusing on building quality and affordable software for businesses.&#8221; </p>\\n\\n<p>Zoho&#8217;s main competitors are <a href=\"/company/google\" title=\"Google\" rel=\"nofollow\">Google</a> Docs &amp; Spreadsheets, Salesforce as well as <a href=\"/company/microsoft\" title=\"Microsoft\" rel=\"nofollow\">Microsoft</a> Office.</p>',\n",
       "  'image': {'available_sizes': [[[150, 55],\n",
       "     'assets/images/resized/0000/3946/3946v12-max-150x150.png'],\n",
       "    [[250, 92], 'assets/images/resized/0000/3946/3946v12-max-250x250.png'],\n",
       "    [[435, 161], 'assets/images/resized/0000/3946/3946v12-max-450x450.png']]},\n",
       "  'products': [{'name': 'Zoho Office Suite', 'permalink': 'zoho-office-suite'},\n",
       "   {'name': 'Zoho CRM', 'permalink': 'zoho-crm'},\n",
       "   {'name': 'Zoho Assist', 'permalink': 'zoho-assist'}],\n",
       "  'relationships': [{'is_past': False,\n",
       "    'title': 'CEO and Founder',\n",
       "    'person': {'first_name': 'Sridhar',\n",
       "     'last_name': 'Vembu',\n",
       "     'permalink': 'sridhar-vembu'}},\n",
       "   {'is_past': False,\n",
       "    'title': 'VP Product Managment',\n",
       "    'person': {'first_name': 'Hyther',\n",
       "     'last_name': 'Nizam',\n",
       "     'permalink': 'hyther-nizam'}},\n",
       "   {'is_past': False,\n",
       "    'title': 'VP Marketing',\n",
       "    'person': {'first_name': 'Rodrigo',\n",
       "     'last_name': 'Vaca',\n",
       "     'permalink': 'rodrigo-vaca'}},\n",
       "   {'is_past': False,\n",
       "    'title': 'Evangelist',\n",
       "    'person': {'first_name': 'Raju',\n",
       "     'last_name': 'Vegesna',\n",
       "     'permalink': 'raju-vegesna'}},\n",
       "   {'is_past': False,\n",
       "    'title': 'Director of Product Managment',\n",
       "    'person': {'first_name': 'Gibu',\n",
       "     'last_name': 'Mathew',\n",
       "     'permalink': 'gibu-mathew'}},\n",
       "   {'is_past': False,\n",
       "    'title': 'VP Opration',\n",
       "    'person': {'first_name': 'Neil',\n",
       "     'last_name': 'Butani',\n",
       "     'permalink': 'neil-butani'}},\n",
       "   {'is_past': False,\n",
       "    'title': 'Director Of Engineering',\n",
       "    'person': {'first_name': 'Rajendran',\n",
       "     'last_name': 'Dandapani',\n",
       "     'permalink': 'rajendran-dandapani'}},\n",
       "   {'is_past': False,\n",
       "    'title': 'President',\n",
       "    'person': {'first_name': 'Raj',\n",
       "     'last_name': 'Sabhlok',\n",
       "     'permalink': 'raj-sabhlok'}},\n",
       "   {'is_past': False,\n",
       "    'title': 'GM Marketing',\n",
       "    'person': {'first_name': 'Mouttou',\n",
       "     'last_name': 'Sidambaram',\n",
       "     'permalink': 'mouttou-sidambaram'}},\n",
       "   {'is_past': False,\n",
       "    'title': 'Director of Product Management',\n",
       "    'person': {'first_name': 'Rajesh',\n",
       "     'last_name': 'Ganesan',\n",
       "     'permalink': 'rajesh-ganesan'}},\n",
       "   {'is_past': False,\n",
       "    'title': 'Marketing / Business Development Executive',\n",
       "    'person': {'first_name': 'Aravind',\n",
       "     'last_name': 'Natarajan',\n",
       "     'permalink': 'aravind-natarajan'}},\n",
       "   {'is_past': True,\n",
       "    'title': 'Senior Director Strategic Alliances',\n",
       "    'person': {'first_name': 'Ian',\n",
       "     'last_name': 'Wenig',\n",
       "     'permalink': 'ian-wenig'}},\n",
       "   {'is_past': True,\n",
       "    'title': 'Project Manager',\n",
       "    'person': {'first_name': 'Rajkumar',\n",
       "     'last_name': 'Radhakrishnan',\n",
       "     'permalink': 'rajkumar-radhakrishnan'}},\n",
       "   {'is_past': True,\n",
       "    'title': 'Technical Architect',\n",
       "    'person': {'first_name': 'KP',\n",
       "     'last_name': 'Saravanan',\n",
       "     'permalink': 'kp-saravanan'}},\n",
       "   {'is_past': True,\n",
       "    'title': 'Member, Technical Staff',\n",
       "    'person': {'first_name': 'Thiyagarajan',\n",
       "     'last_name': 'T',\n",
       "     'permalink': 'thiyagarajan-t'}},\n",
       "   {'is_past': True,\n",
       "    'title': 'Software Architect & Project Manager',\n",
       "    'person': {'first_name': 'Rajkumar',\n",
       "     'last_name': 'Radhakrishnan',\n",
       "     'permalink': 'rajkumar-radhakrishnan'}},\n",
       "   {'is_past': True,\n",
       "    'title': 'Director, Professional Services',\n",
       "    'person': {'first_name': 'Thomas',\n",
       "     'last_name': 'DiGrazia',\n",
       "     'permalink': 'thomas-digrazia'}},\n",
       "   {'is_past': True,\n",
       "    'title': 'Technical Architect',\n",
       "    'person': {'first_name': 'Rajaraman',\n",
       "     'last_name': 'S',\n",
       "     'permalink': 'rajaraman-s'}}],\n",
       "  'competitions': [{'competitor': {'name': 'Empressr',\n",
       "     'permalink': 'empressr'}},\n",
       "   {'competitor': {'name': 'Transmedia Corporation',\n",
       "     'permalink': 'transmedia'}},\n",
       "   {'competitor': {'name': 'Live Documents', 'permalink': 'livedocuments'}},\n",
       "   {'competitor': {'name': 'LongJump', 'permalink': 'longjump'}},\n",
       "   {'competitor': {'name': 'Phuser', 'permalink': 'phuser'}},\n",
       "   {'competitor': {'name': 'NetSuite', 'permalink': 'netsuite'}},\n",
       "   {'competitor': {'name': 'Google', 'permalink': 'google'}},\n",
       "   {'competitor': {'name': 'Flypaper', 'permalink': 'flypaper'}},\n",
       "   {'competitor': {'name': 'MovingLabs', 'permalink': 'movinglabs'}},\n",
       "   {'competitor': {'name': 'Ephox', 'permalink': 'ephox'}},\n",
       "   {'competitor': {'name': 'Coghead', 'permalink': 'coghead'}},\n",
       "   {'competitor': {'name': 'SlideRocket', 'permalink': 'sliderocket'}},\n",
       "   {'competitor': {'name': 'Cozimo', 'permalink': 'cozimo'}},\n",
       "   {'competitor': {'name': 'Nordic River', 'permalink': 'textflow'}},\n",
       "   {'competitor': {'name': 'Iceberg', 'permalink': 'iceberg'}},\n",
       "   {'competitor': {'name': 'Thinkfree', 'permalink': 'thinkfree'}},\n",
       "   {'competitor': {'name': 'Bizroof', 'permalink': 'bizroof'}},\n",
       "   {'competitor': {'name': 'Wolf Frameworks', 'permalink': 'wolf-frameworks'}},\n",
       "   {'competitor': {'name': '280 North', 'permalink': '280-north'}},\n",
       "   {'competitor': {'name': 'Workday', 'permalink': 'workday'}},\n",
       "   {'competitor': {'name': 'coAction.com', 'permalink': 'coaction-com'}},\n",
       "   {'competitor': {'name': 'INES CRM', 'permalink': 'ines-crm'}},\n",
       "   {'competitor': {'name': 'OpenERP', 'permalink': 'openerp'}},\n",
       "   {'competitor': {'name': 'Gurron', 'permalink': 'gurron'}},\n",
       "   {'competitor': {'name': 'LiquidPlanner', 'permalink': 'liquidplanner'}},\n",
       "   {'competitor': {'name': 'Helpshift, Inc.', 'permalink': 'helpshift-inc'}}],\n",
       "  'providerships': [],\n",
       "  'total_money_raised': '$0',\n",
       "  'funding_rounds': [],\n",
       "  'investments': [],\n",
       "  'acquisition': None,\n",
       "  'acquisitions': [],\n",
       "  'offices': [{'description': 'Headquarters',\n",
       "    'address1': '4900 Hopyard Rd',\n",
       "    'address2': 'Suite 310',\n",
       "    'zip_code': '94588',\n",
       "    'city': 'Pleasanton',\n",
       "    'state_code': 'CA',\n",
       "    'country_code': 'USA',\n",
       "    'latitude': 37.692934,\n",
       "    'longitude': -121.904945}],\n",
       "  'milestones': [{'id': 388,\n",
       "    'description': 'Zoho Reaches 2 Million Users',\n",
       "    'stoned_year': 2008,\n",
       "    'stoned_month': 8,\n",
       "    'stoned_day': 7,\n",
       "    'source_url': '',\n",
       "    'source_text': \"Mike,\\r\\n\\r\\nTomorrow @ 6AM PST, we are announcing that we now have 1 Million users. User registration stats are attached.\\r\\n\\r\\nIt took us 1 Year to get the first 100K users, 6 Months to get the second 100K, 4 Months to get the third etc. In the last 1 year we added 700K new users. The pace has been increasing.\\r\\n\\r\\nThe registration numbers really jumped after we added support for Google & Yahoo users. Currently over 30% of our users are coming from Google/Yahoo accounts (with more Google users than Yahoo users).\\r\\n\\r\\nI'd love to provide more information on this.\\r\\n\\r\\nRaju\\r\\n\\r\\n\",\n",
       "    'source_description': '',\n",
       "    'stoneable_type': 'Company',\n",
       "    'stoned_value': None,\n",
       "    'stoned_value_type': None,\n",
       "    'stoned_acquirer': None,\n",
       "    'stoneable': {'name': 'Zoho', 'permalink': 'zoho'}},\n",
       "   {'id': 6577,\n",
       "    'description': 'Zoho Calendar Steps Out Of Beta With Sharing, Subscribing And More',\n",
       "    'stoned_year': 2010,\n",
       "    'stoned_month': 7,\n",
       "    'stoned_day': 7,\n",
       "    'source_url': 'http://techcrunch.com/2010/07/07/zoho-calendar-steps-out-of-beta-with-sharing-subscribing-and-more/',\n",
       "    'source_text': '',\n",
       "    'source_description': 'Zoho Calendar Steps Out Of Beta With Sharing, Subscribing And More',\n",
       "    'stoneable_type': 'Company',\n",
       "    'stoned_value': None,\n",
       "    'stoned_value_type': None,\n",
       "    'stoned_acquirer': None,\n",
       "    'stoneable': {'name': 'Zoho', 'permalink': 'zoho'}},\n",
       "   {'id': 7360,\n",
       "    'description': 'Zoho Reports Steps Out Of Beta With Pricing Model And New Features',\n",
       "    'stoned_year': 2009,\n",
       "    'stoned_month': 12,\n",
       "    'stoned_day': 15,\n",
       "    'source_url': 'http://techcrunch.com/2009/12/15/zoho-reports-steps-out-of-beta-with-pricing-model-and-new-features/',\n",
       "    'source_text': None,\n",
       "    'source_description': 'Zoho Reports Steps Out Of Beta',\n",
       "    'stoneable_type': 'Company',\n",
       "    'stoned_value': None,\n",
       "    'stoned_value_type': None,\n",
       "    'stoned_acquirer': None,\n",
       "    'stoneable': {'name': 'Zoho', 'permalink': 'zoho'}}],\n",
       "  'video_embeds': [{'embed_code': '<object width=\"430\" height=\"270\"><param name=\"movie\" value=\"http://www.youtube.com/v/KgNcHyuo2MU&hl=en\"></param><param name=\"wmode\" value=\"transparent\"></param><embed src=\"http://www.youtube.com/v/KgNcHyuo2MU&hl=en\" type=\"application/x-shockwave-flash\" wmode=\"transparent\" width=\"430\" height=\"270\"></embed></object>',\n",
       "    'description': '<p><a href=\"http://pitches.techcrunch.com/pitch/10-zoho\" title=\"Zoho&#8217;s pitch\">Zoho&#8217;s pitch</a> from TechCrunch Elevator Pitches</p>'},\n",
       "   {'embed_code': '<embed src=\"http://blip.tv/play/hRbO5CAA\" type=\"application/x-shockwave-flash\" width=\"430\" height=\"270\" allowscriptaccess=\"always\" allowfullscreen=\"true\"></embed>',\n",
       "    'description': '<p>This video was originally published on <a href=\"http://www.beet.tv/2008/09/zoho-web-apps-c.html\" title=\"Beet.TV\" rel=\"nofollow\">Beet.TV</a></p>'},\n",
       "   {'embed_code': '<object width=\"430\" height=\"270\"><param name=\"movie\" value=\"http://www.youtube.com/v/3RD_3wooRjI&color1=0xb1b1b1&color2=0xcfcfcf&hl=en_US&feature=player_embedded&fs=1\"></param><param name=\"allowFullScreen\" value=\"true\"></param><param name=\"allowScriptAccess\" value=\"always\"></param><embed src=\"http://www.youtube.com/v/3RD_3wooRjI&color1=0xb1b1b1&color2=0xcfcfcf&hl=en_US&feature=player_embedded&fs=1\" type=\"application/x-shockwave-flash\" allowfullscreen=\"true\" allowScriptAccess=\"always\" width=\"430\" height=\"270\"></embed></object>',\n",
       "    'description': ''}],\n",
       "  'screenshots': [],\n",
       "  'external_links': [{'external_url': 'http://www.online-tech-tips.com/cool-websites/zoho-free-online-office-applications-word-processor-spreadsheets-etc/',\n",
       "    'title': 'Zoho Overview'},\n",
       "   {'external_url': 'http://www.online-tech-tips.com/cool-websites/free-online-web-meetings/',\n",
       "    'title': 'Zoho Meeting Review'},\n",
       "   {'external_url': 'http://mashpedia.com/Zoho', 'title': 'Zoho at Mashpedia'},\n",
       "   {'external_url': 'http://www.sitebuilderreport.com/reviews/zoho-sites/our-review',\n",
       "    'title': 'Zoho Sites Review'},\n",
       "   {'external_url': 'http://www.sitebuilderreport.com/reviews/zoho-sites/our-review',\n",
       "    'title': 'Zoho Sites Review'},\n",
       "   {'external_url': 'http://www.sitebuilderreport.com/reviews/zoho-sites/our-review',\n",
       "    'title': 'Zoho Sites Review'}],\n",
       "  'partners': []},\n",
       " {'_id': ObjectId('52cdef7c4bab8bd675297d8f'),\n",
       "  'name': 'Omnidrive',\n",
       "  'permalink': 'omnidrive',\n",
       "  'crunchbase_url': 'http://www.crunchbase.com/company/omnidrive',\n",
       "  'homepage_url': 'http://www.omnidrive.com',\n",
       "  'blog_url': 'http://www.omnidrive.com/blog',\n",
       "  'blog_feed_url': 'http://feeds.feedburner.com/omnidrive',\n",
       "  'twitter_username': 'Nomadesk',\n",
       "  'category_code': 'network_hosting',\n",
       "  'number_of_employees': None,\n",
       "  'founded_year': 2005,\n",
       "  'founded_month': 11,\n",
       "  'founded_day': 1,\n",
       "  'deadpooled_year': 2008,\n",
       "  'deadpooled_month': 9,\n",
       "  'deadpooled_day': 15,\n",
       "  'deadpooled_url': '',\n",
       "  'tag_list': 'storage, sharing, edit, online',\n",
       "  'alias_list': None,\n",
       "  'email_address': 'info@omnidrive.com',\n",
       "  'phone_number': '660-675-5052',\n",
       "  'description': None,\n",
       "  'created_at': 'Sun May 27 03:25:32 UTC 2007',\n",
       "  'updated_at': 'Tue Jul 02 22:48:04 UTC 2013',\n",
       "  'overview': '<p>Currently in public beta, Omnidrive makes it easy to access, edit and share your files from any computer with a web browser. The site was founded in late 2004 by Nik Cubrilovic and later launched at the November 2006 Web 2.0 Conference.  An interesting slew of features make Omnidrive an attractive choice in the online file storage field.</p>\\n\\n<p>Omnidrive&#8217;s competitors include <a href=\"http://www.crunchbase.com/company/box-net\" title=\"Box.net\">Box.net</a>, <a href=\"http://www.streamload.com\" title=\"Streamload\" rel=\"nofollow\">Streamload</a> and <a href=\"http://www.xdrive.com\" title=\"Xdrive\" rel=\"nofollow\">Xdrive</a>.</p>',\n",
       "  'image': {'available_sizes': [[[150, 85],\n",
       "     'assets/images/resized/0000/0823/823v1-max-150x150.jpg'],\n",
       "    [[150, 85], 'assets/images/resized/0000/0823/823v1-max-250x250.jpg'],\n",
       "    [[150, 85], 'assets/images/resized/0000/0823/823v1-max-450x450.jpg']],\n",
       "   'attribution': None},\n",
       "  'products': [{'name': 'Omnidrive', 'permalink': 'omnidrive'}],\n",
       "  'relationships': [{'is_past': True,\n",
       "    'title': 'Co-founder',\n",
       "    'person': {'first_name': 'Geoff',\n",
       "     'last_name': 'McQueen',\n",
       "     'permalink': 'geoff-mcqueen'}},\n",
       "   {'is_past': True,\n",
       "    'title': 'Founder & CEO',\n",
       "    'person': {'first_name': 'Nik',\n",
       "     'last_name': 'Cubrilovic',\n",
       "     'permalink': 'nik-cubrilovic'}},\n",
       "   {'is_past': True,\n",
       "    'title': '',\n",
       "    'person': {'first_name': 'Tony',\n",
       "     'last_name': 'Guntharp',\n",
       "     'permalink': 'tony-guntharp'}},\n",
       "   {'is_past': True,\n",
       "    'title': 'Board of Advisors',\n",
       "    'person': {'first_name': 'Mike',\n",
       "     'last_name': 'Cannon-Brookes',\n",
       "     'permalink': 'mike-cannon-brookes'}}],\n",
       "  'competitions': [{'competitor': {'name': 'Dropbox', 'permalink': 'dropbox'}},\n",
       "   {'competitor': {'name': 'filobite', 'permalink': 'filobite'}},\n",
       "   {'competitor': {'name': 'digitalbucket.net', 'permalink': 'digitalbucket'}},\n",
       "   {'competitor': {'name': 'ElephantDrive', 'permalink': 'elephantdrive'}},\n",
       "   {'competitor': {'name': 'Banckle Customer Service 2.0',\n",
       "     'permalink': 'banckle'}}],\n",
       "  'providerships': [],\n",
       "  'total_money_raised': '$800k',\n",
       "  'funding_rounds': [{'id': 225,\n",
       "    'round_code': 'angel',\n",
       "    'source_url': '',\n",
       "    'source_description': '',\n",
       "    'raised_amount': 800000,\n",
       "    'raised_currency_code': 'USD',\n",
       "    'funded_year': 2006,\n",
       "    'funded_month': 12,\n",
       "    'funded_day': 1,\n",
       "    'investments': [{'company': None,\n",
       "      'financial_org': None,\n",
       "      'person': {'first_name': 'Michael',\n",
       "       'last_name': 'Arrington',\n",
       "       'permalink': 'michael-arrington'}},\n",
       "     {'company': None,\n",
       "      'financial_org': None,\n",
       "      'person': {'first_name': 'Aydin',\n",
       "       'last_name': 'Senkut',\n",
       "       'permalink': 'aydin-senkut'}},\n",
       "     {'company': None,\n",
       "      'financial_org': None,\n",
       "      'person': {'first_name': 'Georges',\n",
       "       'last_name': 'Harik',\n",
       "       'permalink': 'georges-harik'}},\n",
       "     {'company': None,\n",
       "      'financial_org': None,\n",
       "      'person': {'first_name': 'Jeff',\n",
       "       'last_name': 'Clavier',\n",
       "       'permalink': 'jeff-clavier'}}]}],\n",
       "  'investments': [],\n",
       "  'acquisition': None,\n",
       "  'acquisitions': [],\n",
       "  'offices': [{'description': '',\n",
       "    'address1': 'Suite 200',\n",
       "    'address2': '654 High Street',\n",
       "    'zip_code': '94301',\n",
       "    'city': 'Palo Alto',\n",
       "    'state_code': 'CA',\n",
       "    'country_code': 'ISR',\n",
       "    'latitude': None,\n",
       "    'longitude': None}],\n",
       "  'milestones': [],\n",
       "  'ipo': None,\n",
       "  'video_embeds': [],\n",
       "  'screenshots': [],\n",
       "  'external_links': [],\n",
       "  'partners': []},\n",
       " {'_id': ObjectId('52cdef7c4bab8bd675297d93'),\n",
       "  'name': 'Fox Interactive Media',\n",
       "  'permalink': 'fox-interactive-media',\n",
       "  'crunchbase_url': 'http://www.crunchbase.com/company/fox-interactive-media',\n",
       "  'homepage_url': 'http://www.newscorp.com',\n",
       "  'blog_url': '',\n",
       "  'blog_feed_url': '',\n",
       "  'twitter_username': 'twitterapi',\n",
       "  'category_code': 'web',\n",
       "  'number_of_employees': 0,\n",
       "  'founded_year': 1979,\n",
       "  'founded_month': 6,\n",
       "  'founded_day': 1,\n",
       "  'deadpooled_year': None,\n",
       "  'deadpooled_month': None,\n",
       "  'deadpooled_day': None,\n",
       "  'deadpooled_url': '',\n",
       "  'tag_list': '',\n",
       "  'alias_list': None,\n",
       "  'email_address': '',\n",
       "  'phone_number': '',\n",
       "  'description': '',\n",
       "  'created_at': 'Thu May 31 21:46:57 UTC 2007',\n",
       "  'updated_at': 'Mon Aug 19 17:13:27 UTC 2013',\n",
       "  'overview': '<p>Fox Interactive Media (FIM) oversees <a href=\"http://www.crunchbase.com/company/newscorporation\" title=\"News Corporation\">News Corporation</a>&#8217;s Internet business operations.</p>',\n",
       "  'image': {'available_sizes': [[[150, 71],\n",
       "     'assets/images/resized/0001/0824/10824v1-max-150x150.png'],\n",
       "    [[232, 111], 'assets/images/resized/0001/0824/10824v1-max-250x250.png'],\n",
       "    [[232, 111], 'assets/images/resized/0001/0824/10824v1-max-450x450.png']],\n",
       "   'attribution': None},\n",
       "  'products': [],\n",
       "  'relationships': [{'is_past': False,\n",
       "    'title': '',\n",
       "    'person': {'first_name': 'Don',\n",
       "     'last_name': 'Synstelien',\n",
       "     'permalink': 'don-synstelien-2'}},\n",
       "   {'is_past': False,\n",
       "    'title': 'Supervising Sound Editor',\n",
       "    'person': {'first_name': 'Jake',\n",
       "     'last_name': 'Allston',\n",
       "     'permalink': 'jake-allston'}},\n",
       "   {'is_past': False,\n",
       "    'title': 'President',\n",
       "    'person': {'first_name': 'Peter',\n",
       "     'last_name': 'Levinsohn',\n",
       "     'permalink': 'peter-levinsohn'}},\n",
       "   {'is_past': True,\n",
       "    'title': 'Chairman / CEO',\n",
       "    'person': {'first_name': 'Barry',\n",
       "     'last_name': 'Diller',\n",
       "     'permalink': 'barry-diller'}},\n",
       "   {'is_past': True,\n",
       "    'title': 'CTO',\n",
       "    'person': {'first_name': 'Ken',\n",
       "     'last_name': 'Keller',\n",
       "     'permalink': 'ken-keller'}},\n",
       "   {'is_past': True,\n",
       "    'title': 'CIO and Senior Vice President',\n",
       "    'person': {'first_name': 'Ian',\n",
       "     'last_name': 'Hurlock-Jones',\n",
       "     'permalink': 'ian-hurlock-jones'}},\n",
       "   {'is_past': True,\n",
       "    'title': 'COO, International',\n",
       "    'person': {'first_name': 'Antoine',\n",
       "     'last_name': 'Theysset',\n",
       "     'permalink': 'antoine-theysset'}},\n",
       "   {'is_past': True,\n",
       "    'title': 'Chief Strategy Officer',\n",
       "    'person': {'first_name': 'James',\n",
       "     'last_name': 'Heckman',\n",
       "     'permalink': 'jim-heckman'}},\n",
       "   {'is_past': True,\n",
       "    'title': 'EVP, Chief Revenue Officer,',\n",
       "    'person': {'first_name': 'Michael',\n",
       "     'last_name': 'Barrett',\n",
       "     'permalink': 'michael-barrett'}},\n",
       "   {'is_past': True,\n",
       "    'title': 'EVP & GM, IGN',\n",
       "    'person': {'first_name': 'Dale',\n",
       "     'last_name': 'Strang',\n",
       "     'permalink': 'dale-strang'}},\n",
       "   {'is_past': True,\n",
       "    'title': 'Vice President of Advertising Sales',\n",
       "    'person': {'first_name': 'Kym',\n",
       "     'last_name': 'Nelson',\n",
       "     'permalink': 'kym-nelson'}},\n",
       "   {'is_past': True,\n",
       "    'title': 'Vice President, Strategy and Corporate Development',\n",
       "    'person': {'first_name': 'Walter',\n",
       "     'last_name': 'Delph',\n",
       "     'permalink': 'walter-delph'}},\n",
       "   {'is_past': True,\n",
       "    'title': 'VP, Ad Solutions',\n",
       "    'person': {'first_name': 'Chris',\n",
       "     'last_name': 'George',\n",
       "     'permalink': 'chris-george'}},\n",
       "   {'is_past': True,\n",
       "    'title': 'SVP Finance',\n",
       "    'person': {'first_name': 'Bruce',\n",
       "     'last_name': 'Wiseman',\n",
       "     'permalink': 'bruce-wiseman'}},\n",
       "   {'is_past': True,\n",
       "    'title': 'Vice President, Product for Myspace Music',\n",
       "    'person': {'first_name': 'Roberto',\n",
       "     'last_name': 'Fisher',\n",
       "     'permalink': 'roberto-fisher'}},\n",
       "   {'is_past': True,\n",
       "    'title': 'Vice President of Applications',\n",
       "    'person': {'first_name': 'Chris',\n",
       "     'last_name': 'M. George',\n",
       "     'permalink': 'chris-m-george'}},\n",
       "   {'is_past': True,\n",
       "    'title': 'Vice President of Sales, MySpace',\n",
       "    'person': {'first_name': 'Tony',\n",
       "     'last_name': 'Siconolfi',\n",
       "     'permalink': 'tony-siconolfi'}},\n",
       "   {'is_past': True,\n",
       "    'title': 'Vice President, Marketing',\n",
       "    'person': {'first_name': 'Alice',\n",
       "     'last_name': 'Lankester',\n",
       "     'permalink': 'alice-lankester'}},\n",
       "   {'is_past': True,\n",
       "    'title': 'VP/GM Newroo',\n",
       "    'person': {'first_name': 'Brian',\n",
       "     'last_name': 'Norgard',\n",
       "     'permalink': 'brian-norgard'}},\n",
       "   {'is_past': True,\n",
       "    'title': 'SVP & GM, Mobile',\n",
       "    'person': {'first_name': 'John',\n",
       "     'last_name': 'Smelzer',\n",
       "     'permalink': 'john-smelzer'}},\n",
       "   {'is_past': True,\n",
       "    'title': 'Vice President, Editorial',\n",
       "    'person': {'first_name': 'Steven',\n",
       "     'last_name': 'Horn',\n",
       "     'permalink': 'steven-horn'}},\n",
       "   {'is_past': True,\n",
       "    'title': 'VP, Technology',\n",
       "    'person': {'first_name': 'Dan',\n",
       "     'last_name': 'Gould',\n",
       "     'permalink': 'dan-gould'}},\n",
       "   {'is_past': True,\n",
       "    'title': 'Vice President',\n",
       "    'person': {'first_name': 'Jason',\n",
       "     'last_name': 'Knapp',\n",
       "     'permalink': 'jason-knapp'}},\n",
       "   {'is_past': True,\n",
       "    'title': 'SVP, Client Solutions',\n",
       "    'person': {'first_name': 'David',\n",
       "     'last_name': 'Tokheim',\n",
       "     'permalink': 'david-tokheim'}},\n",
       "   {'is_past': True,\n",
       "    'title': 'SVP Human Resources',\n",
       "    'person': {'first_name': 'Dustin',\n",
       "     'last_name': 'Finer',\n",
       "     'permalink': 'dustin-finer'}},\n",
       "   {'is_past': True,\n",
       "    'title': 'EVP, Product & Technology',\n",
       "    'person': {'first_name': 'Adam',\n",
       "     'last_name': 'Bain',\n",
       "     'permalink': 'adam-bain'}},\n",
       "   {'is_past': True,\n",
       "    'title': 'Senior Advisor',\n",
       "    'person': {'first_name': 'Ariel',\n",
       "     'last_name': 'Arrieta',\n",
       "     'permalink': 'ariel-arrieta'}},\n",
       "   {'is_past': True,\n",
       "    'title': 'VP Products',\n",
       "    'person': {'first_name': 'Mark',\n",
       "     'last_name': 'Stieglitz',\n",
       "     'permalink': 'mark-stieglitz'}},\n",
       "   {'is_past': True,\n",
       "    'title': 'Senior Director, Publisher Development',\n",
       "    'person': {'first_name': 'Matt',\n",
       "     'last_name': 'Barash',\n",
       "     'permalink': 'matt-barash'}},\n",
       "   {'is_past': True,\n",
       "    'title': 'Director Integrated Sales',\n",
       "    'person': {'first_name': 'Steve',\n",
       "     'last_name': 'Sarner',\n",
       "     'permalink': 'steve-sarner'}},\n",
       "   {'is_past': True,\n",
       "    'title': 'Vice President',\n",
       "    'person': {'first_name': 'Josh',\n",
       "     'last_name': 'Yguado',\n",
       "     'permalink': 'josh-yguado'}},\n",
       "   {'is_past': True,\n",
       "    'title': 'Director',\n",
       "    'person': {'first_name': 'Adrian',\n",
       "     'last_name': 'Aoun',\n",
       "     'permalink': 'adrian-aoun'}},\n",
       "   {'is_past': True,\n",
       "    'title': 'Director of Audience & Business Development',\n",
       "    'person': {'first_name': 'Barry',\n",
       "     'last_name': 'Flanigan',\n",
       "     'permalink': 'barry-flanigan'}},\n",
       "   {'is_past': True,\n",
       "    'title': 'V.P. Finance',\n",
       "    'person': {'first_name': 'Greg',\n",
       "     'last_name': 'Wimmer',\n",
       "     'permalink': 'greg-wimmer'}},\n",
       "   {'is_past': True,\n",
       "    'title': 'Director of Marketing & Content, MySpace',\n",
       "    'person': {'first_name': 'Dominic',\n",
       "     'last_name': 'Cook',\n",
       "     'permalink': 'dominic-cook'}},\n",
       "   {'is_past': True,\n",
       "    'title': 'Sales Development & Strategy',\n",
       "    'person': {'first_name': 'Ross',\n",
       "     'last_name': 'Siegel',\n",
       "     'permalink': 'ross-siegel-2'}},\n",
       "   {'is_past': True,\n",
       "    'title': 'Senior Software Engineer',\n",
       "    'person': {'first_name': 'Jeff',\n",
       "     'last_name': 'Mellen',\n",
       "     'permalink': 'jeff-mellen'}},\n",
       "   {'is_past': True,\n",
       "    'title': 'Vice President, Human Resources',\n",
       "    'person': {'first_name': 'John',\n",
       "     'last_name': 'K Anderson',\n",
       "     'permalink': 'john-k-anderson'}},\n",
       "   {'is_past': True,\n",
       "    'title': 'Web Developer, New Products Group',\n",
       "    'person': {'first_name': 'Joshua',\n",
       "     'last_name': 'Samberg',\n",
       "     'permalink': 'joshua-samberg'}},\n",
       "   {'is_past': True,\n",
       "    'title': 'Executive Director of Revenue & Corporate Controller for two Entities',\n",
       "    'person': {'first_name': 'Tony',\n",
       "     'last_name': 'Cheung',\n",
       "     'permalink': 'tony-cheung'}},\n",
       "   {'is_past': True,\n",
       "    'title': 'Director of Product',\n",
       "    'person': {'first_name': 'Peter',\n",
       "     'last_name': 'Everett',\n",
       "     'permalink': 'peter-everett'}},\n",
       "   {'is_past': True,\n",
       "    'title': 'SVP, Business Development',\n",
       "    'person': {'first_name': 'John',\n",
       "     'last_name': 'Smelzer',\n",
       "     'permalink': 'john-smelzer'}},\n",
       "   {'is_past': True,\n",
       "    'title': 'Business Development / Sponsoring & Special Projects',\n",
       "    'person': {'first_name': 'Jean-Robert',\n",
       "     'last_name': 'BELLANGER',\n",
       "     'permalink': 'jean-robert-bellanger'}},\n",
       "   {'is_past': True,\n",
       "    'title': 'Vice President of National Brand Sales - IGN Entertainment',\n",
       "    'person': {'first_name': 'Scott',\n",
       "     'last_name': 'Bender',\n",
       "     'permalink': 'scott-bender'}},\n",
       "   {'is_past': True,\n",
       "    'title': 'National Sales Director',\n",
       "    'person': {'first_name': 'Andrew',\n",
       "     'last_name': 'Saunders',\n",
       "     'permalink': 'andrew-saunders-2'}},\n",
       "   {'is_past': True,\n",
       "    'title': 'Director, Consumer Insights',\n",
       "    'person': {'first_name': 'Jane',\n",
       "     'last_name': 'Collins',\n",
       "     'permalink': 'jane-collins'}},\n",
       "   {'is_past': True,\n",
       "    'title': 'President, Audience Network',\n",
       "    'person': {'first_name': 'Adam',\n",
       "     'last_name': 'Bain',\n",
       "     'permalink': 'adam-bain'}},\n",
       "   {'is_past': True,\n",
       "    'title': 'Creative Director, Entertainment',\n",
       "    'person': {'first_name': 'Steve',\n",
       "     'last_name': 'Mummolo',\n",
       "     'permalink': 'steve-mummolo'}},\n",
       "   {'is_past': True,\n",
       "    'title': 'Principal Interaction Designer',\n",
       "    'person': {'first_name': 'Eston',\n",
       "     'last_name': 'Bond',\n",
       "     'permalink': 'eston-bond'}},\n",
       "   {'is_past': True,\n",
       "    'title': 'Director, Business & Legal Affairs',\n",
       "    'person': {'first_name': 'Antone',\n",
       "     'last_name': 'Johnson',\n",
       "     'permalink': 'antone-johnson'}},\n",
       "   {'is_past': True,\n",
       "    'title': 'President',\n",
       "    'person': {'first_name': 'Ross',\n",
       "     'last_name': 'Levinsohn',\n",
       "     'permalink': 'ross-levinsohn'}},\n",
       "   {'is_past': True,\n",
       "    'title': 'Technology Manager',\n",
       "    'person': {'first_name': 'Zach',\n",
       "     'last_name': 'Greenberger',\n",
       "     'permalink': 'zach-greenberger'}},\n",
       "   {'is_past': True,\n",
       "    'title': 'Vice President, Product Management',\n",
       "    'person': {'first_name': 'Arnie',\n",
       "     'last_name': 'Gullov-Singh',\n",
       "     'permalink': 'arnie-gullov-singh'}},\n",
       "   {'is_past': True,\n",
       "    'title': 'Vice President & General Manager',\n",
       "    'person': {'first_name': 'Jeff',\n",
       "     'last_name': 'King',\n",
       "     'permalink': 'jeff-king'}},\n",
       "   {'is_past': True,\n",
       "    'title': 'Director',\n",
       "    'person': {'first_name': 'Patricia',\n",
       "     'last_name': 'Clark',\n",
       "     'permalink': 'patricia-clark'}},\n",
       "   {'is_past': True,\n",
       "    'title': 'Sr. Software Engineer',\n",
       "    'person': {'first_name': 'David',\n",
       "     'last_name': 'Pedowitz',\n",
       "     'permalink': 'david-pedowitz'}},\n",
       "   {'is_past': True,\n",
       "    'title': 'Vice President of Business and Legal Affairs',\n",
       "    'person': {'first_name': 'Chadwick',\n",
       "     'last_name': 'Ho',\n",
       "     'permalink': 'chadwick-ho'}},\n",
       "   {'is_past': True,\n",
       "    'title': 'Senior Director, Mobile Business Development',\n",
       "    'person': {'first_name': 'Bjorn',\n",
       "     'last_name': 'Laurin',\n",
       "     'permalink': 'bjorn-laurin'}},\n",
       "   {'is_past': True,\n",
       "    'title': 'Executive Director',\n",
       "    'person': {'first_name': 'Ram',\n",
       "     'last_name': 'Reddy',\n",
       "     'permalink': 'ram-reddy'}},\n",
       "   {'is_past': True,\n",
       "    'title': 'SVP, Northeast Sales',\n",
       "    'person': {'first_name': 'Robert',\n",
       "     'last_name': 'Palma',\n",
       "     'permalink': 'robert-palma'}},\n",
       "   {'is_past': True,\n",
       "    'title': 'Software Development Manager',\n",
       "    'person': {'first_name': 'Arthur',\n",
       "     'last_name': 'Svider',\n",
       "     'permalink': 'arthur-svider'}},\n",
       "   {'is_past': True,\n",
       "    'title': 'Director of Content, Entertainment',\n",
       "    'person': {'first_name': 'Jeff',\n",
       "     'last_name': 'King',\n",
       "     'permalink': 'jeff-king'}},\n",
       "   {'is_past': True,\n",
       "    'title': 'Sr. Territory Manger, Sales',\n",
       "    'person': {'first_name': 'Amy',\n",
       "     'last_name': 'Bonforte',\n",
       "     'permalink': 'amy-bonforte'}},\n",
       "   {'is_past': True,\n",
       "    'title': 'Managing Director of 3D Gamers Business and Operations',\n",
       "    'person': {'first_name': 'Piotr',\n",
       "     'last_name': 'Kapiszewski',\n",
       "     'permalink': 'piotr-kapiszewski'}},\n",
       "   {'is_past': True,\n",
       "    'title': 'Sales Director, Texas Region',\n",
       "    'person': {'first_name': 'Derek',\n",
       "     'last_name': 'Zabbia',\n",
       "     'permalink': 'derek-zabbia'}},\n",
       "   {'is_past': True,\n",
       "    'title': 'Advertising Products (online inventory) Management',\n",
       "    'person': {'first_name': 'Sunayana',\n",
       "     'last_name': 'Bedi',\n",
       "     'permalink': 'sunayana-bedi'}}],\n",
       "  'competitions': [],\n",
       "  'providerships': [],\n",
       "  'total_money_raised': '$0',\n",
       "  'funding_rounds': [],\n",
       "  'investments': [{'funding_round': {'round_code': 'b',\n",
       "     'source_url': 'http://www.techcrunch.com/2006/04/18/simply-hired-takes-135m-from-fox-and-foundation-capital/',\n",
       "     'source_description': '',\n",
       "     'raised_amount': 13500000,\n",
       "     'raised_currency_code': 'USD',\n",
       "     'funded_year': 2006,\n",
       "     'funded_month': 3,\n",
       "     'funded_day': 1,\n",
       "     'company': {'name': 'Simply Hired', 'permalink': 'simply-hired'}}},\n",
       "   {'funding_round': {'round_code': 'unattributed',\n",
       "     'source_url': 'http://techcrunch.com/2013/08/16/vice-fox/',\n",
       "     'source_description': 'Fox Invests In Vice, A Media Company That Makes Money Being Terrible And Brilliant',\n",
       "     'raised_amount': 70000000,\n",
       "     'raised_currency_code': 'USD',\n",
       "     'funded_year': 2013,\n",
       "     'funded_month': 8,\n",
       "     'funded_day': 19,\n",
       "     'company': {'name': 'Vice Media Group',\n",
       "      'permalink': 'vice-media-group'}}}],\n",
       "  'acquisition': None,\n",
       "  'acquisitions': [{'price_amount': 20000000,\n",
       "    'price_currency_code': 'USD',\n",
       "    'term_code': None,\n",
       "    'source_url': 'http://venturebeat.com/2007/05/30/fox-interactive-confirms-purchase-of-photobucket-and-flektor/',\n",
       "    'source_description': 'Fox Interactive confirms purchase of Photobucket and Flektor',\n",
       "    'acquired_year': 2007,\n",
       "    'acquired_month': 5,\n",
       "    'acquired_day': 30,\n",
       "    'company': {'name': 'Flektor', 'permalink': 'flektor'}},\n",
       "   {'price_amount': 700000000,\n",
       "    'price_currency_code': 'USD',\n",
       "    'term_code': 'cash',\n",
       "    'source_url': None,\n",
       "    'source_description': None,\n",
       "    'acquired_year': 2005,\n",
       "    'acquired_month': 9,\n",
       "    'acquired_day': 1,\n",
       "    'company': {'name': 'IGN Entertainment', 'permalink': 'ignentertainment'}},\n",
       "   {'price_amount': None,\n",
       "    'price_currency_code': 'USD',\n",
       "    'term_code': None,\n",
       "    'source_url': 'http://www.socaltech.com/fox_interactive_acquires_newroo_ksolo_com/s-0003870.html',\n",
       "    'source_description': 'Fox Interactive Acquires Newroo, kSolo.com',\n",
       "    'acquired_year': 2006,\n",
       "    'acquired_month': 5,\n",
       "    'acquired_day': 1,\n",
       "    'company': {'name': 'Newroo', 'permalink': 'newroo'}},\n",
       "   {'price_amount': None,\n",
       "    'price_currency_code': 'USD',\n",
       "    'term_code': None,\n",
       "    'source_url': 'http://www.scout.com/2/430453.html',\n",
       "    'source_description': 'Scout Acquired by Fox',\n",
       "    'acquired_year': 2005,\n",
       "    'acquired_month': 8,\n",
       "    'acquired_day': 5,\n",
       "    'company': {'name': 'Scout.com', 'permalink': 'scout-com'}},\n",
       "   {'price_amount': None,\n",
       "    'price_currency_code': 'USD',\n",
       "    'term_code': None,\n",
       "    'source_url': 'http://www.zdnet.com/blog/btl/fox-interactive-acquires-photobucket-flektor/5191',\n",
       "    'source_description': 'Fox Interactive acquires Photobucket, Flektor',\n",
       "    'acquired_year': 2007,\n",
       "    'acquired_month': 5,\n",
       "    'acquired_day': 30,\n",
       "    'company': {'name': 'Photobucket', 'permalink': 'photobucket'}}],\n",
       "  'offices': [{'description': '',\n",
       "    'address1': '407 N Maple Dr',\n",
       "    'address2': '',\n",
       "    'zip_code': '90210',\n",
       "    'city': 'Beverly Hills',\n",
       "    'state_code': 'CA',\n",
       "    'country_code': 'USA',\n",
       "    'latitude': 34.076179,\n",
       "    'longitude': -118.39417}],\n",
       "  'milestones': [],\n",
       "  'ipo': None,\n",
       "  'video_embeds': [{'embed_code': '<embed src=\"http://blip.tv/play/goRrgcGtFQI%2Em4v\" type=\"application/x-shockwave-flash\" width=\"370\" height=\"240\" allowscriptaccess=\"always\" allowfullscreen=\"true\"></embed> ',\n",
       "    'description': '<p>This video was originally posted on <a href=\"http://www.beet.tv/2010/01/producers-for-foxs-super-popular-freshman-hit-glee-will-host-an-open-casting-call-online-for-a-few-new-roles-in-the-glee-club.html\" title=\"Beet.TV\" rel=\"nofollow\">Beet.TV</a> </p>'},\n",
       "   {'embed_code': '<embed src=\"http://blip.tv/play/goRrgcvTCAI%2Em4v\" type=\"application/x-shockwave-flash\" width=\"370\" height=\"240\" allowscriptaccess=\"always\" allowfullscreen=\"true\"></embed>',\n",
       "    'description': '<p>This video was originally posted on <a href=\"http://www.beet.tv/2010/03/fox-readying-hululike-mobile-content-site-called-bitbot.html\" title=\"Beet.TV\" rel=\"nofollow\">Beet.TV</a></p>'},\n",
       "   {'embed_code': '<embed src=\"http://blip.tv/play/goRrgc6MQQI%2Em4v\" type=\"application/x-shockwave-flash\" width=\"370\" height=\"240\" allowscriptaccess=\"always\" allowfullscreen=\"true\"></embed>',\n",
       "    'description': '<p>This video was originally posted on <a href=\"http://www.beet.tv/2010/03/foxtv-partners-with-black20.html\" title=\"Beet.TV\" rel=\"nofollow\">Beet.TV</a></p>'}],\n",
       "  'screenshots': [{'available_sizes': [[[150, 94],\n",
       "      'assets/images/resized/0004/3402/43402v1-max-150x150.png'],\n",
       "     [[250, 158], 'assets/images/resized/0004/3402/43402v1-max-250x250.png'],\n",
       "     [[450, 284], 'assets/images/resized/0004/3402/43402v1-max-450x450.png']],\n",
       "    'attribution': None},\n",
       "   {'available_sizes': [[[150, 94],\n",
       "      'assets/images/resized/0004/3403/43403v1-max-150x150.png'],\n",
       "     [[250, 158], 'assets/images/resized/0004/3403/43403v1-max-250x250.png'],\n",
       "     [[450, 284], 'assets/images/resized/0004/3403/43403v1-max-450x450.png']],\n",
       "    'attribution': None},\n",
       "   {'available_sizes': [[[150, 94],\n",
       "      'assets/images/resized/0004/3404/43404v1-max-150x150.png'],\n",
       "     [[250, 158], 'assets/images/resized/0004/3404/43404v1-max-250x250.png'],\n",
       "     [[450, 284], 'assets/images/resized/0004/3404/43404v1-max-450x450.png']],\n",
       "    'attribution': None}],\n",
       "  'external_links': [],\n",
       "  'partners': []}]"
      ]
     },
     "execution_count": 279,
     "metadata": {},
     "output_type": "execute_result"
    }
   ],
   "source": [
    "list(otra.find(filtro3).limit(4))"
   ]
  },
  {
   "cell_type": "markdown",
   "id": "eight-conference",
   "metadata": {},
   "source": [
    "## Resumen\n",
    "Tu turno ¿qué hemos aprendido hoy?"
   ]
  },
  {
   "cell_type": "markdown",
   "id": "cooperative-communications",
   "metadata": {},
   "source": [
    "- Comillas siempre"
   ]
  },
  {
   "cell_type": "markdown",
   "id": "incomplete-scotland",
   "metadata": {},
   "source": [
    "## Further Materials\n",
    "- Cursos de mongo desarrollados directamente por MongoDB (gratis y MUY COMPLETOS) [AQUÍ](https://university.mongodb.com/)\n",
    "- Artículo tutorial [primeros pasos](https://www.ionos.es/digitalguide/paginas-web/desarrollo-web/tutorial-de-mongodb-primeros-pasos/)\n",
    "\n",
    "- Qué es mongo: [conceptos interesantes avanzados no vistos en clase](https://openwebinars.net/blog/que-es-mongodb/) \n",
    "- Beginner`s guide mongo con [python](https://www.analyticsvidhya.com/blog/2020/02/mongodb-in-python-tutorial-for-beginners-using-pymongo/)"
   ]
  }
 ],
 "metadata": {
  "kernelspec": {
   "display_name": "ironhack",
   "language": "python",
   "name": "ironhack"
  },
  "language_info": {
   "codemirror_mode": {
    "name": "ipython",
    "version": 3
   },
   "file_extension": ".py",
   "mimetype": "text/x-python",
   "name": "python",
   "nbconvert_exporter": "python",
   "pygments_lexer": "ipython3",
   "version": "3.8.5"
  },
  "toc": {
   "base_numbering": 1,
   "nav_menu": {},
   "number_sections": true,
   "sideBar": true,
   "skip_h1_title": true,
   "title_cell": "Table of Contents",
   "title_sidebar": "Contents",
   "toc_cell": true,
   "toc_position": {
    "height": "calc(100% - 180px)",
    "left": "10px",
    "top": "150px",
    "width": "307px"
   },
   "toc_section_display": true,
   "toc_window_display": false
  }
 },
 "nbformat": 4,
 "nbformat_minor": 5
}
