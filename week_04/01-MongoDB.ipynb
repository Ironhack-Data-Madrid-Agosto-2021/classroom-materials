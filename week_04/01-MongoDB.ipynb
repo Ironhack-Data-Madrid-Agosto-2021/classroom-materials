{
 "cells": [
  {
   "cell_type": "markdown",
   "id": "mighty-crowd",
   "metadata": {},
   "source": [
    "# MongoDB"
   ]
  },
  {
   "cell_type": "markdown",
   "id": "incoming-mortgage",
   "metadata": {},
   "source": [
    "![memesmongo](../images/mongo.png)"
   ]
  },
  {
   "cell_type": "markdown",
   "id": "greatest-neighborhood",
   "metadata": {
    "toc": true
   },
   "source": [
    "<h1>Table of Contents<span class=\"tocSkip\"></span></h1>\n",
    "<div class=\"toc\"><ul class=\"toc-item\"><li><span><a href=\"#¿Qué-es-MongoDB?\" data-toc-modified-id=\"¿Qué-es-MongoDB?-1\"><span class=\"toc-item-num\">1&nbsp;&nbsp;</span>¿Qué es MongoDB?</a></span></li><li><span><a href=\"#¿Qué-es-la-base-de-datos-MongoDB?\" data-toc-modified-id=\"¿Qué-es-la-base-de-datos-MongoDB?-2\"><span class=\"toc-item-num\">2&nbsp;&nbsp;</span>¿Qué es la base de datos MongoDB?</a></span><ul class=\"toc-item\"><li><span><a href=\"#Pequeña-explicación-animada-🤔\" data-toc-modified-id=\"Pequeña-explicación-animada-🤔-2.1\"><span class=\"toc-item-num\">2.1&nbsp;&nbsp;</span>Pequeña explicación animada 🤔</a></span></li></ul></li><li><span><a href=\"#Instalaciones\" data-toc-modified-id=\"Instalaciones-3\"><span class=\"toc-item-num\">3&nbsp;&nbsp;</span>Instalaciones</a></span></li><li><span><a href=\"#Creación-de-bases-de-datos\" data-toc-modified-id=\"Creación-de-bases-de-datos-4\"><span class=\"toc-item-num\">4&nbsp;&nbsp;</span>Creación de bases de datos</a></span></li><li><span><a href=\"#Conexión-con-Python\" data-toc-modified-id=\"Conexión-con-Python-5\"><span class=\"toc-item-num\">5&nbsp;&nbsp;</span>Conexión con Python</a></span><ul class=\"toc-item\"><li><span><a href=\"#Nos-conectamos-al-servidor\" data-toc-modified-id=\"Nos-conectamos-al-servidor-5.1\"><span class=\"toc-item-num\">5.1&nbsp;&nbsp;</span>Nos conectamos al servidor</a></span></li><li><span><a href=\"#Nos-conectamos-con-la-base-de-datos\" data-toc-modified-id=\"Nos-conectamos-con-la-base-de-datos-5.2\"><span class=\"toc-item-num\">5.2&nbsp;&nbsp;</span>Nos conectamos con la base de datos</a></span></li></ul></li><li><span><a href=\"#Operaciones-básicas-de-gestión-de-bases-de-datos\" data-toc-modified-id=\"Operaciones-básicas-de-gestión-de-bases-de-datos-6\"><span class=\"toc-item-num\">6&nbsp;&nbsp;</span>Operaciones básicas de gestión de bases de datos</a></span><ul class=\"toc-item\"><li><span><a href=\"#Creamos-y-borramos-colecciones-desde-python\" data-toc-modified-id=\"Creamos-y-borramos-colecciones-desde-python-6.1\"><span class=\"toc-item-num\">6.1&nbsp;&nbsp;</span>Creamos y borramos colecciones desde python</a></span></li><li><span><a href=\"#Nos-conectamos-a-una-colección-en-concreto-para-hacer-las-consultas\" data-toc-modified-id=\"Nos-conectamos-a-una-colección-en-concreto-para-hacer-las-consultas-6.2\"><span class=\"toc-item-num\">6.2&nbsp;&nbsp;</span>Nos conectamos a una colección en concreto para hacer las consultas</a></span></li></ul></li><li><span><a href=\"#Consultas-en-Mongo\" data-toc-modified-id=\"Consultas-en-Mongo-7\"><span class=\"toc-item-num\">7&nbsp;&nbsp;</span>Consultas en Mongo</a></span><ul class=\"toc-item\"><li><span><a href=\"#Método-find_one\" data-toc-modified-id=\"Método-find_one-7.1\"><span class=\"toc-item-num\">7.1&nbsp;&nbsp;</span>Método <code>find_one</code></a></span></li><li><span><a href=\"#Método-find\" data-toc-modified-id=\"Método-find-7.2\"><span class=\"toc-item-num\">7.2&nbsp;&nbsp;</span>Método <code>find</code></a></span></li></ul></li><li><span><a href=\"#Proyección\" data-toc-modified-id=\"Proyección-8\"><span class=\"toc-item-num\">8&nbsp;&nbsp;</span>Proyección</a></span></li><li><span><a href=\"#Otros-métodos\" data-toc-modified-id=\"Otros-métodos-9\"><span class=\"toc-item-num\">9&nbsp;&nbsp;</span>Otros métodos</a></span><ul class=\"toc-item\"><li><span><a href=\"#distinct\" data-toc-modified-id=\"distinct-9.1\"><span class=\"toc-item-num\">9.1&nbsp;&nbsp;</span><code>distinct</code></a></span></li><li><span><a href=\"#count\" data-toc-modified-id=\"count-9.2\"><span class=\"toc-item-num\">9.2&nbsp;&nbsp;</span><code>count</code></a></span></li><li><span><a href=\"#sort\" data-toc-modified-id=\"sort-9.3\"><span class=\"toc-item-num\">9.3&nbsp;&nbsp;</span><code>sort</code></a></span></li><li><span><a href=\"#limit\" data-toc-modified-id=\"limit-9.4\"><span class=\"toc-item-num\">9.4&nbsp;&nbsp;</span><code>limit</code></a></span></li><li><span><a href=\"#skip\" data-toc-modified-id=\"skip-9.5\"><span class=\"toc-item-num\">9.5&nbsp;&nbsp;</span><code>skip</code></a></span></li></ul></li><li><span><a href=\"#Operadores-de-consulta-típicos\" data-toc-modified-id=\"Operadores-de-consulta-típicos-10\"><span class=\"toc-item-num\">10&nbsp;&nbsp;</span>Operadores de consulta típicos</a></span><ul class=\"toc-item\"><li><span><a href=\"#Mayor-que-/-Menor-que\" data-toc-modified-id=\"Mayor-que-/-Menor-que-10.1\"><span class=\"toc-item-num\">10.1&nbsp;&nbsp;</span>Mayor que / Menor que</a></span></li><li><span><a href=\"#exists\" data-toc-modified-id=\"exists-10.2\"><span class=\"toc-item-num\">10.2&nbsp;&nbsp;</span><code>exists</code></a></span></li><li><span><a href=\"#regex\" data-toc-modified-id=\"regex-10.3\"><span class=\"toc-item-num\">10.3&nbsp;&nbsp;</span><code>regex</code></a></span></li><li><span><a href=\"#and\" data-toc-modified-id=\"and-10.4\"><span class=\"toc-item-num\">10.4&nbsp;&nbsp;</span><code>and</code></a></span></li><li><span><a href=\"#or\" data-toc-modified-id=\"or-10.5\"><span class=\"toc-item-num\">10.5&nbsp;&nbsp;</span><code>or</code></a></span></li><li><span><a href=\"#ne\" data-toc-modified-id=\"ne-10.6\"><span class=\"toc-item-num\">10.6&nbsp;&nbsp;</span><code>ne</code></a></span></li><li><span><a href=\"#in\" data-toc-modified-id=\"in-10.7\"><span class=\"toc-item-num\">10.7&nbsp;&nbsp;</span><code>in</code></a></span></li><li><span><a href=\"#nin\" data-toc-modified-id=\"nin-10.8\"><span class=\"toc-item-num\">10.8&nbsp;&nbsp;</span><code>nin</code></a></span></li></ul></li><li><span><a href=\"#Update\" data-toc-modified-id=\"Update-11\"><span class=\"toc-item-num\">11&nbsp;&nbsp;</span>Update</a></span></li><li><span><a href=\"#Delete\" data-toc-modified-id=\"Delete-12\"><span class=\"toc-item-num\">12&nbsp;&nbsp;</span>Delete</a></span></li><li><span><a href=\"#Info-extra\" data-toc-modified-id=\"Info-extra-13\"><span class=\"toc-item-num\">13&nbsp;&nbsp;</span>Info extra</a></span></li><li><span><a href=\"#Resumen\" data-toc-modified-id=\"Resumen-14\"><span class=\"toc-item-num\">14&nbsp;&nbsp;</span>Resumen</a></span></li><li><span><a href=\"#Further-Materials\" data-toc-modified-id=\"Further-Materials-15\"><span class=\"toc-item-num\">15&nbsp;&nbsp;</span>Further Materials</a></span></li></ul></div>"
   ]
  },
  {
   "cell_type": "markdown",
   "id": "logical-pattern",
   "metadata": {},
   "source": [
    "## ¿Qué es MongoDB?    \n",
    "   \n",
    "MongoDB (del inglés humongous, \"enorme\") es un sistema de base de datos NoSQL, orientado a documentos y de código abierto.\n",
    "En lugar de guardar los datos en tablas, tal y como se hace en las bases de datos relacionales, MongoDB guarda estructuras de datos BSON (una especificación similar a JSON) con un esquema dinámico, haciendo que la integración de los datos en ciertas aplicaciones sea más fácil y rápida.\n",
    "MongoDB es una base de datos adecuada para su uso en producción y con múltiples funcionalidades. Esta base de datos se utiliza mucho en la industria, contando con implantaciones en empresas como MTV Network,  Craiglist, Foursquare.       \n",
    "El código fuente está disponible para los sistemas operativos --> Windows, GNU/Linux, OS X y Solaris."
   ]
  },
  {
   "cell_type": "markdown",
   "id": "classified-answer",
   "metadata": {},
   "source": [
    "## ¿Qué es la base de datos MongoDB?\n",
    "\n",
    "Una base de datos, es decir, una forma estructurada de almacenar y acceder a los datos, más específicamente, es una base de datos NoSQL.\n",
    "NoSQL es un término muy genérico que se utiliza para describir cualquier almacén de datos que no utiliza el enfoque heredado de tablas de datos relacionadas.\n",
    "Esto significa que está almacenando sus datos de una manera organizada, pero no en filas y columnas Un ejemplo de bases de datos NoSQL puede ser cualquier cosa, desde un catálogo de tarjetas de biblioteca, a un almacén de datos más sofisticado como MongoDB.\n",
    "Dado que el rango de lo que significa NoSQL es tan amplio, debemos acotar más nuestra definición.\n",
    "MongoDB es una base de datos de documentos NoSQL.\n",
    "Esto significa que los datos en MongoDB se almacenan como documentos, estos documentos se almacenan a su vez en lo que llamamos colecciones de documentos, Por eso MongoDB se clasifica como una base de datos de documentos NoSQL.\n",
    "\n",
    "En conclusión, la base de datos MongoDB es una base de datos de documentos NoSQL."
   ]
  },
  {
   "cell_type": "markdown",
   "id": "checked-sigma",
   "metadata": {},
   "source": [
    "### Pequeña explicación animada 🤔\n",
    "Veamos juntas [este](https://www.youtube.com/watch?v=DM4gD6Z5zFU) vídeo"
   ]
  },
  {
   "cell_type": "markdown",
   "id": "dominican-proposal",
   "metadata": {},
   "source": [
    "## Instalaciones\n",
    "Encontrarás todo lo referente a las instalaciones [AQUÍ](https://github.com/Ironhack-Data-Madrid-Marzo-2021/Classroom-Materials-FT/blob/main/week_04/00-mongoDB-installation.ipynb)"
   ]
  },
  {
   "cell_type": "markdown",
   "id": "surgical-graduation",
   "metadata": {},
   "source": [
    "## Creación de bases de datos\n",
    "Hemos visto que a través de MongoDB compass podíamos crear una base de datos, una colección e importar los datos en formato JSON de manera sencilla. \n",
    "También podemos hacerlo mediante la interfaz de comandos o CLI de mongo."
   ]
  },
  {
   "cell_type": "code",
   "execution_count": null,
   "id": "emotional-pharmacy",
   "metadata": {},
   "outputs": [],
   "source": [
    "#$ mongoimport --db nombredelabasededatos --collection nombredelacolección --file archivo.json"
   ]
  },
  {
   "cell_type": "markdown",
   "id": "electronic-inclusion",
   "metadata": {},
   "source": [
    "Nos ubicamos en la terminal en la carpeta donde hayamos descargado el json de \"companies\". El comando lo que hace es importar a la base de daatos de ironhack, dentro de la colección companies, ese json. Si introducimos un nombre de base de datos que no existe o de colección que no existe, MongoDB lo crea por nosotras automáticamente. "
   ]
  },
  {
   "cell_type": "markdown",
   "id": "another-neutral",
   "metadata": {},
   "source": [
    "## Conexión con Python"
   ]
  },
  {
   "cell_type": "markdown",
   "id": "tired-portal",
   "metadata": {},
   "source": [
    "Lo primero que vamos a necesitar para conectar python con el servidor de bases de datos de MongoDB es instalar la siguiente librería\n",
    "```python\n",
    "#!pip install pymongo\n",
    "```\n",
    "Y recuerda: Tienes que [leer la documentación](https://pymongo.readthedocs.io/en/stable/)"
   ]
  },
  {
   "cell_type": "code",
   "execution_count": null,
   "id": "medieval-venue",
   "metadata": {},
   "outputs": [],
   "source": [
    "from pymongo import MongoClient"
   ]
  },
  {
   "cell_type": "markdown",
   "id": "solved-crisis",
   "metadata": {},
   "source": [
    "### Nos conectamos al servidor\n",
    "El servidor de Mongo tiene que estar activo y normalmente está corriendo en el puerto 27017, siempre se conecta a este puerto por defecto"
   ]
  },
  {
   "cell_type": "code",
   "execution_count": null,
   "id": "material-mexican",
   "metadata": {},
   "outputs": [],
   "source": [
    "# Con el comando MongoClient establecemos conexión con el servidor\n"
   ]
  },
  {
   "cell_type": "code",
   "execution_count": null,
   "id": "electrical-shopper",
   "metadata": {},
   "outputs": [],
   "source": []
  },
  {
   "cell_type": "code",
   "execution_count": null,
   "id": "linear-latin",
   "metadata": {},
   "outputs": [],
   "source": [
    "# Mostrar los nombres de las bases de datos existentes"
   ]
  },
  {
   "cell_type": "code",
   "execution_count": null,
   "id": "equivalent-privacy",
   "metadata": {},
   "outputs": [],
   "source": []
  },
  {
   "cell_type": "markdown",
   "id": "exterior-ecuador",
   "metadata": {},
   "source": [
    "### Nos conectamos con la base de datos"
   ]
  },
  {
   "cell_type": "code",
   "execution_count": null,
   "id": "civilian-bankruptcy",
   "metadata": {},
   "outputs": [],
   "source": [
    "# Para crear una conexión con la base de datos en la que vayamos a trabajar\n"
   ]
  },
  {
   "cell_type": "code",
   "execution_count": null,
   "id": "level-fantasy",
   "metadata": {},
   "outputs": [],
   "source": []
  },
  {
   "cell_type": "markdown",
   "id": "primary-vertical",
   "metadata": {},
   "source": [
    "## Operaciones básicas de gestión de bases de datos"
   ]
  },
  {
   "cell_type": "code",
   "execution_count": null,
   "id": "thousand-subsection",
   "metadata": {},
   "outputs": [],
   "source": []
  },
  {
   "cell_type": "markdown",
   "id": "monetary-patch",
   "metadata": {},
   "source": [
    "### Creamos y borramos colecciones desde python"
   ]
  },
  {
   "cell_type": "code",
   "execution_count": null,
   "id": "artificial-allen",
   "metadata": {},
   "outputs": [],
   "source": [
    "# Podemos crear colecciones como hemos visto antes con la GUI de MongoDB (Mongo Compass) o desde aquí mismo"
   ]
  },
  {
   "cell_type": "code",
   "execution_count": null,
   "id": "temporal-arcade",
   "metadata": {},
   "outputs": [],
   "source": [
    "# Creamos la colección\n"
   ]
  },
  {
   "cell_type": "code",
   "execution_count": null,
   "id": "proud-undergraduate",
   "metadata": {},
   "outputs": [],
   "source": [
    "# Listamos las colecciones y vemos si se ha creado la colección\n"
   ]
  },
  {
   "cell_type": "code",
   "execution_count": null,
   "id": "superb-harassment",
   "metadata": {},
   "outputs": [],
   "source": [
    "# Borramos la colección que acabamos de crear\n"
   ]
  },
  {
   "cell_type": "code",
   "execution_count": null,
   "id": "critical-fruit",
   "metadata": {},
   "outputs": [],
   "source": [
    "# Comprobamos de nuevo\n"
   ]
  },
  {
   "cell_type": "code",
   "execution_count": null,
   "id": "detected-citizen",
   "metadata": {},
   "outputs": [],
   "source": []
  },
  {
   "cell_type": "markdown",
   "id": "beginning-mechanics",
   "metadata": {},
   "source": [
    "### Nos conectamos a una colección en concreto para hacer las consultas"
   ]
  },
  {
   "cell_type": "code",
   "execution_count": null,
   "id": "turkish-advantage",
   "metadata": {},
   "outputs": [],
   "source": [
    "# Elegimos la colección con la que vamos a trabajar\n"
   ]
  },
  {
   "cell_type": "code",
   "execution_count": null,
   "id": "dress-running",
   "metadata": {},
   "outputs": [],
   "source": []
  },
  {
   "cell_type": "markdown",
   "id": "deadly-aurora",
   "metadata": {},
   "source": [
    "## Consultas en Mongo"
   ]
  },
  {
   "cell_type": "markdown",
   "id": "generous-being",
   "metadata": {},
   "source": [
    "Para explorar cómo son los documentos en mi colección, qué forma y qué campos tienen, puedo irme a Mongo Compass y explorar la colección, o puedo elegir un documento sin filtrar. "
   ]
  },
  {
   "cell_type": "markdown",
   "id": "metric-information",
   "metadata": {},
   "source": [
    "![undocumento](../images/compass1.png)"
   ]
  },
  {
   "cell_type": "code",
   "execution_count": null,
   "id": "satisfied-syntax",
   "metadata": {},
   "outputs": [],
   "source": [
    "## Hagámoslo en Python "
   ]
  },
  {
   "cell_type": "markdown",
   "id": "dietary-musician",
   "metadata": {},
   "source": [
    "### Método `find_one` \n",
    "`collection.find_one(filter)`"
   ]
  },
  {
   "cell_type": "code",
   "execution_count": null,
   "id": "double-gabriel",
   "metadata": {},
   "outputs": [],
   "source": [
    "# Si no pongo ningún filtro, me dará el primer documento\n"
   ]
  },
  {
   "cell_type": "code",
   "execution_count": null,
   "id": "worldwide-spectacular",
   "metadata": {},
   "outputs": [],
   "source": [
    "# Ojo, porque no todos los documentos tienen por qué tener las mismas keys, Mongo es flexible para esto\n"
   ]
  },
  {
   "cell_type": "code",
   "execution_count": null,
   "id": "every-jurisdiction",
   "metadata": {},
   "outputs": [],
   "source": []
  },
  {
   "cell_type": "code",
   "execution_count": null,
   "id": "formal-shooting",
   "metadata": {},
   "outputs": [],
   "source": []
  },
  {
   "cell_type": "markdown",
   "id": "forty-challenge",
   "metadata": {},
   "source": [
    "### Método `find` \n",
    "`collection.find(filter)`"
   ]
  },
  {
   "cell_type": "code",
   "execution_count": null,
   "id": "adolescent-pricing",
   "metadata": {},
   "outputs": [],
   "source": []
  },
  {
   "cell_type": "code",
   "execution_count": null,
   "id": "gentle-pantyhose",
   "metadata": {},
   "outputs": [],
   "source": []
  },
  {
   "cell_type": "code",
   "execution_count": null,
   "id": "creative-setting",
   "metadata": {},
   "outputs": [],
   "source": []
  },
  {
   "cell_type": "markdown",
   "id": "animated-surfing",
   "metadata": {},
   "source": [
    "El método de colección `pymongo` devuelve un Cursor:\n",
    " * un Cursor es un iterador\n",
    " * un Cursor tiene el método `__next__` (la función `next` devuelve el siguiente elemento en el flujo)\n",
    " * `pymongo` no trae información a la memoria hasta que se necesita\n",
    " * un Cursor no tiene `len`."
   ]
  },
  {
   "cell_type": "code",
   "execution_count": null,
   "id": "global-gathering",
   "metadata": {},
   "outputs": [],
   "source": []
  },
  {
   "cell_type": "code",
   "execution_count": null,
   "id": "assigned-passenger",
   "metadata": {},
   "outputs": [],
   "source": []
  },
  {
   "cell_type": "code",
   "execution_count": null,
   "id": "extended-duncan",
   "metadata": {},
   "outputs": [],
   "source": [
    "# Hacemos un filtrado para ver los que tienen un rating de 5"
   ]
  },
  {
   "cell_type": "code",
   "execution_count": null,
   "id": "concerned-copyright",
   "metadata": {},
   "outputs": [],
   "source": []
  },
  {
   "cell_type": "code",
   "execution_count": null,
   "id": "extended-cologne",
   "metadata": {},
   "outputs": [],
   "source": []
  },
  {
   "cell_type": "code",
   "execution_count": null,
   "id": "israeli-hydrogen",
   "metadata": {},
   "outputs": [],
   "source": []
  },
  {
   "cell_type": "code",
   "execution_count": null,
   "id": "related-hampton",
   "metadata": {},
   "outputs": [],
   "source": []
  },
  {
   "cell_type": "code",
   "execution_count": null,
   "id": "younger-enterprise",
   "metadata": {},
   "outputs": [],
   "source": []
  },
  {
   "cell_type": "markdown",
   "id": "determined-premiere",
   "metadata": {},
   "source": [
    "## Proyección\n",
    "Cuando se realiza una consulta en MongoDB usando .find() lo que retorna dicha consulta es el conjunto de documentos correspondientes a la consulta. Se devolverán por defecto los documentos completos con todos sus campos. Aunque podemos seleccionar los campos de un documento que queremos devuelva la consulta, o lo que es lo mismo hacer una MongoDB Projection.    \n",
    "Si queremos seleccionar varios campos, simplemente tenemos que indicar el nombre del campo seguido de un 1. O bien usar un 0 para eliminar los campos a mostrar:\n",
    "\n",
    "El campo `_id` se devuelve por defecto\n",
    "\n",
    "Sintaxis:    \n",
    "`collection.find(filtro, proyección)`"
   ]
  },
  {
   "cell_type": "code",
   "execution_count": null,
   "id": "postal-burning",
   "metadata": {},
   "outputs": [],
   "source": []
  },
  {
   "cell_type": "code",
   "execution_count": null,
   "id": "conditional-syria",
   "metadata": {},
   "outputs": [],
   "source": []
  },
  {
   "cell_type": "code",
   "execution_count": null,
   "id": "several-floor",
   "metadata": {},
   "outputs": [],
   "source": [
    "# Si queremos que no nos muesrtre el ObjectId"
   ]
  },
  {
   "cell_type": "code",
   "execution_count": null,
   "id": "frank-recording",
   "metadata": {},
   "outputs": [],
   "source": []
  },
  {
   "cell_type": "code",
   "execution_count": null,
   "id": "trying-external",
   "metadata": {},
   "outputs": [],
   "source": []
  },
  {
   "cell_type": "code",
   "execution_count": null,
   "id": "working-sunrise",
   "metadata": {},
   "outputs": [],
   "source": []
  },
  {
   "cell_type": "markdown",
   "id": "arbitrary-opening",
   "metadata": {},
   "source": [
    "## Otros métodos "
   ]
  },
  {
   "cell_type": "markdown",
   "id": "structural-competition",
   "metadata": {},
   "source": [
    "### `distinct`\n",
    "¿Cuántos valores distintos tiene un campo en toda la colección?"
   ]
  },
  {
   "cell_type": "code",
   "execution_count": null,
   "id": "scenic-characteristic",
   "metadata": {},
   "outputs": [],
   "source": []
  },
  {
   "cell_type": "code",
   "execution_count": null,
   "id": "bulgarian-doctor",
   "metadata": {},
   "outputs": [],
   "source": []
  },
  {
   "cell_type": "markdown",
   "id": "fatty-province",
   "metadata": {},
   "source": [
    "### `count`\n",
    "Devuelve el recuento de documentos que coincidirían con una consulta find() para la colección o vista. El método db.collection.count() no realiza la operación find() sino que cuenta y devuelve el número de resultados que coinciden con una consulta.\n",
    "Sintaxis:    \n",
    "     \n",
    "`collection.count_documents(filtro)`"
   ]
  },
  {
   "cell_type": "code",
   "execution_count": null,
   "id": "handy-desert",
   "metadata": {},
   "outputs": [],
   "source": []
  },
  {
   "cell_type": "code",
   "execution_count": null,
   "id": "consistent-kennedy",
   "metadata": {},
   "outputs": [],
   "source": []
  },
  {
   "cell_type": "code",
   "execution_count": null,
   "id": "developing-shore",
   "metadata": {},
   "outputs": [],
   "source": []
  },
  {
   "cell_type": "code",
   "execution_count": null,
   "id": "bronze-senator",
   "metadata": {},
   "outputs": [],
   "source": []
  },
  {
   "cell_type": "code",
   "execution_count": null,
   "id": "rocky-confidence",
   "metadata": {},
   "outputs": [],
   "source": [
    "# Directamente me cuenta los documentos en mongo que cumplen con el filtro y no necesito traerlos \n"
   ]
  },
  {
   "cell_type": "code",
   "execution_count": null,
   "id": "micro-proposition",
   "metadata": {},
   "outputs": [],
   "source": [
    "#Equivalente pero cargando todo en memoria al extraer con list la información del cursor\n"
   ]
  },
  {
   "cell_type": "markdown",
   "id": "neural-speaker",
   "metadata": {},
   "source": [
    "### `sort`\n",
    "Podemos `ordenar` el resultado de un `find`\n",
    "\n",
    "`1` --> Orden ascendente     \n",
    "`-1` --> Orden desdendente"
   ]
  },
  {
   "cell_type": "code",
   "execution_count": null,
   "id": "average-symbol",
   "metadata": {},
   "outputs": [],
   "source": []
  },
  {
   "cell_type": "code",
   "execution_count": null,
   "id": "sudden-ending",
   "metadata": {},
   "outputs": [],
   "source": []
  },
  {
   "cell_type": "code",
   "execution_count": null,
   "id": "outer-radio",
   "metadata": {},
   "outputs": [],
   "source": [
    "#Ordenados en orden descendente\n"
   ]
  },
  {
   "cell_type": "code",
   "execution_count": null,
   "id": "involved-arrangement",
   "metadata": {},
   "outputs": [],
   "source": []
  },
  {
   "cell_type": "code",
   "execution_count": null,
   "id": "inappropriate-malta",
   "metadata": {},
   "outputs": [],
   "source": [
    "#Ordeno en orden ascendente\n"
   ]
  },
  {
   "cell_type": "code",
   "execution_count": null,
   "id": "placed-calibration",
   "metadata": {},
   "outputs": [],
   "source": []
  },
  {
   "cell_type": "code",
   "execution_count": null,
   "id": "brazilian-manufacturer",
   "metadata": {},
   "outputs": [],
   "source": []
  },
  {
   "cell_type": "code",
   "execution_count": null,
   "id": "operational-point",
   "metadata": {},
   "outputs": [],
   "source": []
  },
  {
   "cell_type": "markdown",
   "id": "subject-rates",
   "metadata": {},
   "source": [
    "### `limit`\n",
    "\n",
    "Podemos `limitar` el resultado de un `find`"
   ]
  },
  {
   "cell_type": "code",
   "execution_count": null,
   "id": "behavioral-saying",
   "metadata": {},
   "outputs": [],
   "source": []
  },
  {
   "cell_type": "markdown",
   "id": "welsh-uncertainty",
   "metadata": {},
   "source": [
    "### `skip`\n",
    "Podemos `omitir` algunos resultados de un `find`    \n",
    "Llame al método skip() en un cursor para controlar dónde empieza MongoDB a devolver resultados. Este enfoque puede ser útil para implementar resultados paginados."
   ]
  },
  {
   "cell_type": "code",
   "execution_count": null,
   "id": "empirical-mongolia",
   "metadata": {},
   "outputs": [],
   "source": []
  },
  {
   "cell_type": "markdown",
   "id": "north-mining",
   "metadata": {},
   "source": [
    "## Operadores de consulta típicos\n",
    "Los operadores de consulta van precedidos del signo de dólar `$`."
   ]
  },
  {
   "cell_type": "code",
   "execution_count": null,
   "id": "capable-seeking",
   "metadata": {},
   "outputs": [],
   "source": []
  },
  {
   "cell_type": "markdown",
   "id": "literary-manitoba",
   "metadata": {},
   "source": [
    "### Mayor que / Menor que\n",
    "Es un campo numérico mayor o menor que un valor determinado"
   ]
  },
  {
   "cell_type": "code",
   "execution_count": null,
   "id": "false-analysis",
   "metadata": {},
   "outputs": [],
   "source": [
    "# Menor que: less than\n"
   ]
  },
  {
   "cell_type": "code",
   "execution_count": null,
   "id": "extra-extreme",
   "metadata": {},
   "outputs": [],
   "source": []
  },
  {
   "cell_type": "code",
   "execution_count": null,
   "id": "treated-effectiveness",
   "metadata": {},
   "outputs": [],
   "source": [
    "# Mayor que: greater than"
   ]
  },
  {
   "cell_type": "code",
   "execution_count": null,
   "id": "exempt-comedy",
   "metadata": {},
   "outputs": [],
   "source": []
  },
  {
   "cell_type": "code",
   "execution_count": null,
   "id": "immune-ballet",
   "metadata": {},
   "outputs": [],
   "source": []
  },
  {
   "cell_type": "code",
   "execution_count": null,
   "id": "finite-colors",
   "metadata": {},
   "outputs": [],
   "source": [
    "# Mayor o igual / Menor o igual añadimos la e\n"
   ]
  },
  {
   "cell_type": "code",
   "execution_count": null,
   "id": "floppy-formation",
   "metadata": {},
   "outputs": [],
   "source": []
  },
  {
   "cell_type": "code",
   "execution_count": null,
   "id": "differential-voice",
   "metadata": {},
   "outputs": [],
   "source": [
    "# Escribir la sintaxis en una variable puede sernos útil\n"
   ]
  },
  {
   "cell_type": "code",
   "execution_count": null,
   "id": "intimate-kenya",
   "metadata": {},
   "outputs": [],
   "source": []
  },
  {
   "cell_type": "markdown",
   "id": "nonprofit-operator",
   "metadata": {},
   "source": [
    "### `exists`    \n",
    "Cuando <boolean> es verdadero, $exists coincide con los documentos que contienen el campo, incluidos los documentos en los que el valor del campo es nulo. Si <boolean> es falso, la consulta devuelve sólo los documentos que no contienen el campo\n"
   ]
  },
  {
   "cell_type": "code",
   "execution_count": null,
   "id": "breathing-county",
   "metadata": {},
   "outputs": [],
   "source": []
  },
  {
   "cell_type": "code",
   "execution_count": null,
   "id": "consolidated-sensitivity",
   "metadata": {},
   "outputs": [],
   "source": [
    "# No hay ningún documento  que no tenga el campo \"address line 2\"\n",
    "# Comprobamos los registros a los que les falta un campo con false\n"
   ]
  },
  {
   "cell_type": "code",
   "execution_count": null,
   "id": "little-ethics",
   "metadata": {},
   "outputs": [],
   "source": []
  },
  {
   "cell_type": "markdown",
   "id": "pointed-agreement",
   "metadata": {},
   "source": [
    "### `regex`     \n",
    "Ofrece la posibilidad de utilizar expresiones regulares para la búsqueda de patrones en las consultas."
   ]
  },
  {
   "cell_type": "code",
   "execution_count": null,
   "id": "tested-liberal",
   "metadata": {},
   "outputs": [],
   "source": []
  },
  {
   "cell_type": "code",
   "execution_count": null,
   "id": "occupied-resort",
   "metadata": {},
   "outputs": [],
   "source": []
  },
  {
   "cell_type": "code",
   "execution_count": null,
   "id": "narrow-convergence",
   "metadata": {},
   "outputs": [],
   "source": []
  },
  {
   "cell_type": "code",
   "execution_count": null,
   "id": "finite-pennsylvania",
   "metadata": {},
   "outputs": [],
   "source": []
  },
  {
   "cell_type": "markdown",
   "id": "widespread-incident",
   "metadata": {},
   "source": [
    "### `and`      \n",
    "Realiza una operación lógica AND en una matriz de una o más expresiones (por ejemplo, <expresión1>, <expresión2>, etc.) y selecciona los documentos que satisfacen todas las expresiones de la matriz. El operador $and utiliza la evaluación en circuito corto. Si la primera expresión (por ejemplo, <expresión1>) se evalúa como falsa, MongoDB no evaluará las expresiones restantes."
   ]
  },
  {
   "cell_type": "markdown",
   "id": "restricted-glass",
   "metadata": {},
   "source": [
    "Sintaxis del AND  \n",
    "`find({\"$and\": [cond1, cond2]})`"
   ]
  },
  {
   "cell_type": "code",
   "execution_count": null,
   "id": "freelance-reduction",
   "metadata": {},
   "outputs": [],
   "source": []
  },
  {
   "cell_type": "code",
   "execution_count": null,
   "id": "mounted-furniture",
   "metadata": {},
   "outputs": [],
   "source": []
  },
  {
   "cell_type": "code",
   "execution_count": null,
   "id": "contained-telling",
   "metadata": {},
   "outputs": [],
   "source": []
  },
  {
   "cell_type": "code",
   "execution_count": null,
   "id": "alpha-valuation",
   "metadata": {},
   "outputs": [],
   "source": []
  },
  {
   "cell_type": "code",
   "execution_count": null,
   "id": "bizarre-valley",
   "metadata": {},
   "outputs": [],
   "source": [
    "# También funciona así "
   ]
  },
  {
   "cell_type": "code",
   "execution_count": null,
   "id": "ignored-visitor",
   "metadata": {},
   "outputs": [],
   "source": []
  },
  {
   "cell_type": "code",
   "execution_count": null,
   "id": "focused-feature",
   "metadata": {},
   "outputs": [],
   "source": [
    "#CONDICIONES ILIMITADAS\n"
   ]
  },
  {
   "cell_type": "code",
   "execution_count": null,
   "id": "neutral-burton",
   "metadata": {},
   "outputs": [],
   "source": []
  },
  {
   "cell_type": "code",
   "execution_count": null,
   "id": "fatal-excuse",
   "metadata": {},
   "outputs": [],
   "source": []
  },
  {
   "cell_type": "markdown",
   "id": "hundred-messenger",
   "metadata": {},
   "source": [
    "### `or`     \n",
    "El operador or realiza una operación lógica OR en una matriz de dos o más expresiones y selecciona los documentos que satisfacen al menos una de las expresiones.    \n",
    "El operador $or tiene la siguiente sintaxis:      \n",
    "`colección.find({\"$or\"}: [condición1, condición, condición3 ])`"
   ]
  },
  {
   "cell_type": "code",
   "execution_count": null,
   "id": "special-daniel",
   "metadata": {},
   "outputs": [],
   "source": []
  },
  {
   "cell_type": "markdown",
   "id": "announced-italic",
   "metadata": {},
   "source": [
    "### `ne`    \n",
    "Not equal  \n",
    "Selecciona los documentos en los que el valor del campo no es igual al valor especificado. Esto incluye los documentos que no contienen el campo."
   ]
  },
  {
   "cell_type": "code",
   "execution_count": null,
   "id": "interim-operations",
   "metadata": {},
   "outputs": [],
   "source": []
  },
  {
   "cell_type": "markdown",
   "id": "buried-despite",
   "metadata": {},
   "source": [
    "### `in`     \n",
    "El operador in selecciona los documentos en los que el valor de un campo es igual a cualquier valor de la matriz especificada. Para especificar una expresión $in, utilice el siguiente prototipo:     \n",
    "```python\n",
    "{ field: { $in: [<value1>, <value2>, ... <valueN> ] } }\n",
    " ```"
   ]
  },
  {
   "cell_type": "code",
   "execution_count": null,
   "id": "dietary-office",
   "metadata": {},
   "outputs": [],
   "source": []
  },
  {
   "cell_type": "code",
   "execution_count": null,
   "id": "suspended-occurrence",
   "metadata": {},
   "outputs": [],
   "source": []
  },
  {
   "cell_type": "markdown",
   "id": "general-baseball",
   "metadata": {},
   "source": [
    "### `nin`     \n",
    "\n",
    "Sintaxis: \n",
    "```python\n",
    "{ campo: { $nin: [ <valor1>, <valor2> ... <valorN> ]} }\n",
    "```\n",
    "\n",
    "not in selecciona los documentos en los que\n",
    "\n",
    "- el valor del campo no está en la matriz especificada \n",
    "- el campo no existe."
   ]
  },
  {
   "cell_type": "code",
   "execution_count": null,
   "id": "supposed-synthetic",
   "metadata": {},
   "outputs": [],
   "source": []
  },
  {
   "cell_type": "code",
   "execution_count": null,
   "id": "hazardous-utilization",
   "metadata": {},
   "outputs": [],
   "source": []
  },
  {
   "cell_type": "code",
   "execution_count": null,
   "id": "innovative-depression",
   "metadata": {},
   "outputs": [],
   "source": []
  },
  {
   "cell_type": "markdown",
   "id": "greater-thumb",
   "metadata": {},
   "source": [
    "## Update    \n",
    "Modifica un documento o documentos existentes en una colección. El método puede modificar campos específicos de un documento o documentos existentes o reemplazar un documento existente por completo, dependiendo del parámetro de actualización.   \n",
    "Cuidado, esta acción no se puede deshacer.     \n",
    "Sintaxis:\n",
    "```python\n",
    "colección.update_many(condición/filtro, actualización)\n",
    "```\n",
    "\n",
    "Podemos actualizar un campo con `$set` y con `$unset` lo borramos"
   ]
  },
  {
   "cell_type": "code",
   "execution_count": null,
   "id": "subjective-headquarters",
   "metadata": {},
   "outputs": [],
   "source": []
  },
  {
   "cell_type": "code",
   "execution_count": null,
   "id": "finished-syracuse",
   "metadata": {},
   "outputs": [],
   "source": []
  },
  {
   "cell_type": "code",
   "execution_count": null,
   "id": "flush-titanium",
   "metadata": {},
   "outputs": [],
   "source": []
  },
  {
   "cell_type": "code",
   "execution_count": null,
   "id": "unauthorized-paint",
   "metadata": {},
   "outputs": [],
   "source": []
  },
  {
   "cell_type": "code",
   "execution_count": null,
   "id": "involved-gather",
   "metadata": {},
   "outputs": [],
   "source": []
  },
  {
   "cell_type": "code",
   "execution_count": null,
   "id": "transparent-campus",
   "metadata": {},
   "outputs": [],
   "source": []
  },
  {
   "cell_type": "markdown",
   "id": "processed-toronto",
   "metadata": {},
   "source": [
    "## Delete     \n",
    "Elimina de una colección todos los documentos que coinciden con el filtro.\n",
    "Sintaxis:\n",
    "```python\n",
    "c.delete_many(condition/filtro)\n",
    "```"
   ]
  },
  {
   "cell_type": "code",
   "execution_count": null,
   "id": "regular-milton",
   "metadata": {},
   "outputs": [],
   "source": []
  },
  {
   "cell_type": "code",
   "execution_count": null,
   "id": "hydraulic-acoustic",
   "metadata": {},
   "outputs": [],
   "source": []
  },
  {
   "cell_type": "markdown",
   "id": "confirmed-concrete",
   "metadata": {},
   "source": [
    "## Info extra \n",
    "Campos de consulta anidados"
   ]
  },
  {
   "cell_type": "code",
   "execution_count": null,
   "id": "pending-learning",
   "metadata": {},
   "outputs": [],
   "source": []
  },
  {
   "cell_type": "code",
   "execution_count": null,
   "id": "banner-treaty",
   "metadata": {},
   "outputs": [],
   "source": []
  },
  {
   "cell_type": "code",
   "execution_count": null,
   "id": "detailed-physics",
   "metadata": {},
   "outputs": [],
   "source": []
  },
  {
   "cell_type": "code",
   "execution_count": null,
   "id": "choice-particular",
   "metadata": {},
   "outputs": [],
   "source": []
  },
  {
   "cell_type": "code",
   "execution_count": null,
   "id": "wanted-simulation",
   "metadata": {},
   "outputs": [],
   "source": []
  },
  {
   "cell_type": "markdown",
   "id": "eight-conference",
   "metadata": {},
   "source": [
    "## Resumen\n",
    "Tu turno ¿qué hemos aprendido hoy?"
   ]
  },
  {
   "cell_type": "markdown",
   "id": "cooperative-communications",
   "metadata": {},
   "source": []
  },
  {
   "cell_type": "markdown",
   "id": "incomplete-scotland",
   "metadata": {},
   "source": [
    "## Further Materials\n",
    "- Cursos de mongo desarrollados directamente por MongoDB (gratis y MUY COMPLETOS) [AQUÍ](https://university.mongodb.com/)\n",
    "- Artículo tutorial [primeros pasos](https://www.ionos.es/digitalguide/paginas-web/desarrollo-web/tutorial-de-mongodb-primeros-pasos/)\n",
    "\n",
    "- Qué es mongo: [conceptos interesantes avanzados no vistos en clase](https://openwebinars.net/blog/que-es-mongodb/) \n",
    "- Beginner`s guide mongo con [python](https://www.analyticsvidhya.com/blog/2020/02/mongodb-in-python-tutorial-for-beginners-using-pymongo/)"
   ]
  }
 ],
 "metadata": {
  "kernelspec": {
   "display_name": "ironhack",
   "language": "python",
   "name": "ironhack"
  },
  "language_info": {
   "codemirror_mode": {
    "name": "ipython",
    "version": 3
   },
   "file_extension": ".py",
   "mimetype": "text/x-python",
   "name": "python",
   "nbconvert_exporter": "python",
   "pygments_lexer": "ipython3",
   "version": "3.8.5"
  },
  "toc": {
   "base_numbering": 1,
   "nav_menu": {},
   "number_sections": true,
   "sideBar": true,
   "skip_h1_title": true,
   "title_cell": "Table of Contents",
   "title_sidebar": "Contents",
   "toc_cell": true,
   "toc_position": {
    "height": "calc(100% - 180px)",
    "left": "10px",
    "top": "150px",
    "width": "307px"
   },
   "toc_section_display": true,
   "toc_window_display": false
  }
 },
 "nbformat": 4,
 "nbformat_minor": 5
}
