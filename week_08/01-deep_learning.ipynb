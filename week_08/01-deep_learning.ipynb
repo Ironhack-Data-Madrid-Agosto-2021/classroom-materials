{
 "cells": [
  {
   "cell_type": "markdown",
   "metadata": {},
   "source": [
    "# Deep Learning"
   ]
  },
  {
   "cell_type": "markdown",
   "metadata": {
    "toc": true
   },
   "source": [
    "<h1>Table of Contents<span class=\"tocSkip\"></span></h1>\n",
    "<div class=\"toc\"><ul class=\"toc-item\"><li><span><a href=\"#Artificial-neural-networks\" data-toc-modified-id=\"Artificial-neural-networks-1\"><span class=\"toc-item-num\">1&nbsp;&nbsp;</span>Artificial neural networks</a></span><ul class=\"toc-item\"><li><span><a href=\"#Logistic-Regression-(0-hidden-layers-neural-network)\" data-toc-modified-id=\"Logistic-Regression-(0-hidden-layers-neural-network)-1.1\"><span class=\"toc-item-num\">1.1&nbsp;&nbsp;</span>Logistic Regression (0 hidden layers neural network)</a></span></li><li><span><a href=\"#Multilayer-Perceptron-(1+-hidden-layers-neural-network)\" data-toc-modified-id=\"Multilayer-Perceptron-(1+-hidden-layers-neural-network)-1.2\"><span class=\"toc-item-num\">1.2&nbsp;&nbsp;</span>Multilayer Perceptron (1+ hidden layers neural network)</a></span><ul class=\"toc-item\"><li><span><a href=\"#Creation\" data-toc-modified-id=\"Creation-1.2.1\"><span class=\"toc-item-num\">1.2.1&nbsp;&nbsp;</span>Creation</a></span></li><li><span><a href=\"#Layer-addition\" data-toc-modified-id=\"Layer-addition-1.2.2\"><span class=\"toc-item-num\">1.2.2&nbsp;&nbsp;</span>Layer addition</a></span></li><li><span><a href=\"#Compilation\" data-toc-modified-id=\"Compilation-1.2.3\"><span class=\"toc-item-num\">1.2.3&nbsp;&nbsp;</span>Compilation</a></span></li><li><span><a href=\"#Training\" data-toc-modified-id=\"Training-1.2.4\"><span class=\"toc-item-num\">1.2.4&nbsp;&nbsp;</span>Training</a></span></li><li><span><a href=\"#Predicting\" data-toc-modified-id=\"Predicting-1.2.5\"><span class=\"toc-item-num\">1.2.5&nbsp;&nbsp;</span>Predicting</a></span></li><li><span><a href=\"#Exploration-of-layers\" data-toc-modified-id=\"Exploration-of-layers-1.2.6\"><span class=\"toc-item-num\">1.2.6&nbsp;&nbsp;</span>Exploration of layers</a></span></li></ul></li></ul></li><li><span><a href=\"#Deep-Learning-for-Computer-Vision\" data-toc-modified-id=\"Deep-Learning-for-Computer-Vision-2\"><span class=\"toc-item-num\">2&nbsp;&nbsp;</span>Deep Learning for Computer Vision</a></span><ul class=\"toc-item\"><li><span><a href=\"#Not-DL-model\" data-toc-modified-id=\"Not-DL-model-2.1\"><span class=\"toc-item-num\">2.1&nbsp;&nbsp;</span>Not DL model</a></span><ul class=\"toc-item\"><li><span><a href=\"#Training\" data-toc-modified-id=\"Training-2.1.1\"><span class=\"toc-item-num\">2.1.1&nbsp;&nbsp;</span>Training</a></span></li><li><span><a href=\"#Predicting\" data-toc-modified-id=\"Predicting-2.1.2\"><span class=\"toc-item-num\">2.1.2&nbsp;&nbsp;</span>Predicting</a></span></li><li><span><a href=\"#Accuracy-score\" data-toc-modified-id=\"Accuracy-score-2.1.3\"><span class=\"toc-item-num\">2.1.3&nbsp;&nbsp;</span>Accuracy score</a></span></li></ul></li><li><span><a href=\"#Artificial-neural-network\" data-toc-modified-id=\"Artificial-neural-network-2.2\"><span class=\"toc-item-num\">2.2&nbsp;&nbsp;</span>Artificial neural network</a></span></li><li><span><a href=\"#Convolutional-neural-network-(CNN)\" data-toc-modified-id=\"Convolutional-neural-network-(CNN)-2.3\"><span class=\"toc-item-num\">2.3&nbsp;&nbsp;</span>Convolutional neural network (CNN)</a></span></li><li><span><a href=\"#Pretrained-nets\" data-toc-modified-id=\"Pretrained-nets-2.4\"><span class=\"toc-item-num\">2.4&nbsp;&nbsp;</span>Pretrained nets</a></span></li></ul></li><li><span><a href=\"#Deep-Learning-for-NLP-(natural-language-processing)\" data-toc-modified-id=\"Deep-Learning-for-NLP-(natural-language-processing)-3\"><span class=\"toc-item-num\">3&nbsp;&nbsp;</span>Deep Learning for NLP (natural language processing)</a></span></li><li><span><a href=\"#Further-materials\" data-toc-modified-id=\"Further-materials-4\"><span class=\"toc-item-num\">4&nbsp;&nbsp;</span>Further materials</a></span></li></ul></div>"
   ]
  },
  {
   "cell_type": "code",
   "execution_count": 1,
   "metadata": {},
   "outputs": [],
   "source": [
    "import pandas as pd\n",
    "from sklearn.model_selection import train_test_split"
   ]
  },
  {
   "cell_type": "code",
   "execution_count": null,
   "metadata": {},
   "outputs": [],
   "source": [
    "# tensorflow low level library\n",
    "# keras high level library"
   ]
  },
  {
   "cell_type": "code",
   "execution_count": 2,
   "metadata": {},
   "outputs": [],
   "source": [
    "from tensorflow import keras\n",
    "from tensorflow.keras import models\n",
    "from tensorflow.keras import layers"
   ]
  },
  {
   "cell_type": "code",
   "execution_count": 3,
   "metadata": {},
   "outputs": [],
   "source": [
    "import matplotlib.pyplot as plt"
   ]
  },
  {
   "cell_type": "markdown",
   "metadata": {},
   "source": [
    "## Artificial neural networks"
   ]
  },
  {
   "cell_type": "markdown",
   "metadata": {},
   "source": [
    "Lets build our first neural network to predict breast cancer. Will it perform better than Logistic Regression?"
   ]
  },
  {
   "cell_type": "code",
   "execution_count": 4,
   "metadata": {},
   "outputs": [],
   "source": [
    "df = pd.read_csv(\"../datasets/breast_cancer.csv\")"
   ]
  },
  {
   "cell_type": "code",
   "execution_count": 5,
   "metadata": {},
   "outputs": [
    {
     "data": {
      "text/html": [
       "<div>\n",
       "<style scoped>\n",
       "    .dataframe tbody tr th:only-of-type {\n",
       "        vertical-align: middle;\n",
       "    }\n",
       "\n",
       "    .dataframe tbody tr th {\n",
       "        vertical-align: top;\n",
       "    }\n",
       "\n",
       "    .dataframe thead th {\n",
       "        text-align: right;\n",
       "    }\n",
       "</style>\n",
       "<table border=\"1\" class=\"dataframe\">\n",
       "  <thead>\n",
       "    <tr style=\"text-align: right;\">\n",
       "      <th></th>\n",
       "      <th>mean_radius</th>\n",
       "      <th>mean_texture</th>\n",
       "      <th>mean_perimeter</th>\n",
       "      <th>mean_area</th>\n",
       "      <th>mean_smoothness</th>\n",
       "      <th>mean_compactness</th>\n",
       "      <th>mean_concavity</th>\n",
       "      <th>mean_concave_points</th>\n",
       "      <th>mean_symmetry</th>\n",
       "      <th>mean_fractal_dimension</th>\n",
       "      <th>...</th>\n",
       "      <th>worst_texture</th>\n",
       "      <th>worst_perimeter</th>\n",
       "      <th>worst_area</th>\n",
       "      <th>worst_smoothness</th>\n",
       "      <th>worst_compactness</th>\n",
       "      <th>worst_concavity</th>\n",
       "      <th>worst_concave_points</th>\n",
       "      <th>worst_symmetry</th>\n",
       "      <th>worst_fractal_dimension</th>\n",
       "      <th>is_cancer</th>\n",
       "    </tr>\n",
       "  </thead>\n",
       "  <tbody>\n",
       "    <tr>\n",
       "      <th>0</th>\n",
       "      <td>17.99</td>\n",
       "      <td>10.38</td>\n",
       "      <td>122.80</td>\n",
       "      <td>1001.0</td>\n",
       "      <td>0.11840</td>\n",
       "      <td>0.27760</td>\n",
       "      <td>0.3001</td>\n",
       "      <td>0.14710</td>\n",
       "      <td>0.2419</td>\n",
       "      <td>0.07871</td>\n",
       "      <td>...</td>\n",
       "      <td>17.33</td>\n",
       "      <td>184.60</td>\n",
       "      <td>2019.0</td>\n",
       "      <td>0.1622</td>\n",
       "      <td>0.6656</td>\n",
       "      <td>0.7119</td>\n",
       "      <td>0.2654</td>\n",
       "      <td>0.4601</td>\n",
       "      <td>0.11890</td>\n",
       "      <td>1</td>\n",
       "    </tr>\n",
       "    <tr>\n",
       "      <th>1</th>\n",
       "      <td>20.57</td>\n",
       "      <td>17.77</td>\n",
       "      <td>132.90</td>\n",
       "      <td>1326.0</td>\n",
       "      <td>0.08474</td>\n",
       "      <td>0.07864</td>\n",
       "      <td>0.0869</td>\n",
       "      <td>0.07017</td>\n",
       "      <td>0.1812</td>\n",
       "      <td>0.05667</td>\n",
       "      <td>...</td>\n",
       "      <td>23.41</td>\n",
       "      <td>158.80</td>\n",
       "      <td>1956.0</td>\n",
       "      <td>0.1238</td>\n",
       "      <td>0.1866</td>\n",
       "      <td>0.2416</td>\n",
       "      <td>0.1860</td>\n",
       "      <td>0.2750</td>\n",
       "      <td>0.08902</td>\n",
       "      <td>1</td>\n",
       "    </tr>\n",
       "    <tr>\n",
       "      <th>2</th>\n",
       "      <td>19.69</td>\n",
       "      <td>21.25</td>\n",
       "      <td>130.00</td>\n",
       "      <td>1203.0</td>\n",
       "      <td>0.10960</td>\n",
       "      <td>0.15990</td>\n",
       "      <td>0.1974</td>\n",
       "      <td>0.12790</td>\n",
       "      <td>0.2069</td>\n",
       "      <td>0.05999</td>\n",
       "      <td>...</td>\n",
       "      <td>25.53</td>\n",
       "      <td>152.50</td>\n",
       "      <td>1709.0</td>\n",
       "      <td>0.1444</td>\n",
       "      <td>0.4245</td>\n",
       "      <td>0.4504</td>\n",
       "      <td>0.2430</td>\n",
       "      <td>0.3613</td>\n",
       "      <td>0.08758</td>\n",
       "      <td>1</td>\n",
       "    </tr>\n",
       "    <tr>\n",
       "      <th>3</th>\n",
       "      <td>11.42</td>\n",
       "      <td>20.38</td>\n",
       "      <td>77.58</td>\n",
       "      <td>386.1</td>\n",
       "      <td>0.14250</td>\n",
       "      <td>0.28390</td>\n",
       "      <td>0.2414</td>\n",
       "      <td>0.10520</td>\n",
       "      <td>0.2597</td>\n",
       "      <td>0.09744</td>\n",
       "      <td>...</td>\n",
       "      <td>26.50</td>\n",
       "      <td>98.87</td>\n",
       "      <td>567.7</td>\n",
       "      <td>0.2098</td>\n",
       "      <td>0.8663</td>\n",
       "      <td>0.6869</td>\n",
       "      <td>0.2575</td>\n",
       "      <td>0.6638</td>\n",
       "      <td>0.17300</td>\n",
       "      <td>1</td>\n",
       "    </tr>\n",
       "    <tr>\n",
       "      <th>4</th>\n",
       "      <td>20.29</td>\n",
       "      <td>14.34</td>\n",
       "      <td>135.10</td>\n",
       "      <td>1297.0</td>\n",
       "      <td>0.10030</td>\n",
       "      <td>0.13280</td>\n",
       "      <td>0.1980</td>\n",
       "      <td>0.10430</td>\n",
       "      <td>0.1809</td>\n",
       "      <td>0.05883</td>\n",
       "      <td>...</td>\n",
       "      <td>16.67</td>\n",
       "      <td>152.20</td>\n",
       "      <td>1575.0</td>\n",
       "      <td>0.1374</td>\n",
       "      <td>0.2050</td>\n",
       "      <td>0.4000</td>\n",
       "      <td>0.1625</td>\n",
       "      <td>0.2364</td>\n",
       "      <td>0.07678</td>\n",
       "      <td>1</td>\n",
       "    </tr>\n",
       "  </tbody>\n",
       "</table>\n",
       "<p>5 rows × 31 columns</p>\n",
       "</div>"
      ],
      "text/plain": [
       "   mean_radius  mean_texture  mean_perimeter  mean_area  mean_smoothness  \\\n",
       "0        17.99         10.38          122.80     1001.0          0.11840   \n",
       "1        20.57         17.77          132.90     1326.0          0.08474   \n",
       "2        19.69         21.25          130.00     1203.0          0.10960   \n",
       "3        11.42         20.38           77.58      386.1          0.14250   \n",
       "4        20.29         14.34          135.10     1297.0          0.10030   \n",
       "\n",
       "   mean_compactness  mean_concavity  mean_concave_points  mean_symmetry  \\\n",
       "0           0.27760          0.3001              0.14710         0.2419   \n",
       "1           0.07864          0.0869              0.07017         0.1812   \n",
       "2           0.15990          0.1974              0.12790         0.2069   \n",
       "3           0.28390          0.2414              0.10520         0.2597   \n",
       "4           0.13280          0.1980              0.10430         0.1809   \n",
       "\n",
       "   mean_fractal_dimension  ...  worst_texture  worst_perimeter  worst_area  \\\n",
       "0                 0.07871  ...          17.33           184.60      2019.0   \n",
       "1                 0.05667  ...          23.41           158.80      1956.0   \n",
       "2                 0.05999  ...          25.53           152.50      1709.0   \n",
       "3                 0.09744  ...          26.50            98.87       567.7   \n",
       "4                 0.05883  ...          16.67           152.20      1575.0   \n",
       "\n",
       "   worst_smoothness  worst_compactness  worst_concavity  worst_concave_points  \\\n",
       "0            0.1622             0.6656           0.7119                0.2654   \n",
       "1            0.1238             0.1866           0.2416                0.1860   \n",
       "2            0.1444             0.4245           0.4504                0.2430   \n",
       "3            0.2098             0.8663           0.6869                0.2575   \n",
       "4            0.1374             0.2050           0.4000                0.1625   \n",
       "\n",
       "   worst_symmetry  worst_fractal_dimension  is_cancer  \n",
       "0          0.4601                  0.11890          1  \n",
       "1          0.2750                  0.08902          1  \n",
       "2          0.3613                  0.08758          1  \n",
       "3          0.6638                  0.17300          1  \n",
       "4          0.2364                  0.07678          1  \n",
       "\n",
       "[5 rows x 31 columns]"
      ]
     },
     "execution_count": 5,
     "metadata": {},
     "output_type": "execute_result"
    }
   ],
   "source": [
    "df.head()"
   ]
  },
  {
   "cell_type": "code",
   "execution_count": 6,
   "metadata": {},
   "outputs": [],
   "source": [
    "X = df.drop(\"is_cancer\", axis=1)\n",
    "y = df.is_cancer"
   ]
  },
  {
   "cell_type": "code",
   "execution_count": 7,
   "metadata": {},
   "outputs": [],
   "source": [
    "X_train, X_test, y_train, y_test = train_test_split(X, y, test_size=0.2, random_state=666)"
   ]
  },
  {
   "cell_type": "code",
   "execution_count": 8,
   "metadata": {},
   "outputs": [
    {
     "name": "stdout",
     "output_type": "stream",
     "text": [
      "Training set has 455 entries\n",
      "Test set has 114 entries\n"
     ]
    }
   ],
   "source": [
    "print(f\"Training set has {X_train.shape[0]} entries\")\n",
    "print(f\"Test set has {X_test.shape[0]} entries\")"
   ]
  },
  {
   "cell_type": "markdown",
   "metadata": {},
   "source": [
    "### Logistic Regression (0 hidden layers neural network)"
   ]
  },
  {
   "cell_type": "code",
   "execution_count": 9,
   "metadata": {},
   "outputs": [],
   "source": [
    "from sklearn.linear_model import LogisticRegression"
   ]
  },
  {
   "cell_type": "code",
   "execution_count": 10,
   "metadata": {},
   "outputs": [],
   "source": [
    "log = LogisticRegression(max_iter=10000)"
   ]
  },
  {
   "cell_type": "code",
   "execution_count": 11,
   "metadata": {},
   "outputs": [
    {
     "data": {
      "text/plain": [
       "LogisticRegression(max_iter=10000)"
      ]
     },
     "execution_count": 11,
     "metadata": {},
     "output_type": "execute_result"
    }
   ],
   "source": [
    "log.fit(X_train, y_train)"
   ]
  },
  {
   "cell_type": "code",
   "execution_count": 12,
   "metadata": {},
   "outputs": [
    {
     "data": {
      "text/plain": [
       "0.9626373626373627"
      ]
     },
     "execution_count": 12,
     "metadata": {},
     "output_type": "execute_result"
    }
   ],
   "source": [
    "# accuracy\n",
    "log.score(X_train, y_train)"
   ]
  },
  {
   "cell_type": "code",
   "execution_count": 13,
   "metadata": {},
   "outputs": [
    {
     "data": {
      "text/plain": [
       "0.9473684210526315"
      ]
     },
     "execution_count": 13,
     "metadata": {},
     "output_type": "execute_result"
    }
   ],
   "source": [
    "log.score(X_test, y_test)"
   ]
  },
  {
   "cell_type": "code",
   "execution_count": 16,
   "metadata": {},
   "outputs": [
    {
     "data": {
      "text/plain": [
       "mean_radius               -1.077813\n",
       "mean_texture              -0.254970\n",
       "mean_perimeter             0.354019\n",
       "mean_area                 -0.028638\n",
       "mean_smoothness            0.141299\n",
       "mean_compactness           0.243432\n",
       "mean_concavity             0.479574\n",
       "mean_concave_points        0.259082\n",
       "mean_symmetry              0.216026\n",
       "mean_fractal_dimension     0.035187\n",
       "radius_error               0.033336\n",
       "texture_error             -1.480124\n",
       "perimeter_error           -0.749818\n",
       "area_error                 0.179494\n",
       "smoothness_error           0.022609\n",
       "compactness_error         -0.012091\n",
       "concavity_error            0.054296\n",
       "concave_points_error       0.033952\n",
       "symmetry_error             0.051492\n",
       "fractal_dimension_error   -0.001878\n",
       "worst_radius              -0.086299\n",
       "worst_texture              0.500559\n",
       "worst_perimeter            0.151603\n",
       "worst_area                 0.010776\n",
       "worst_smoothness           0.298514\n",
       "worst_compactness          0.622471\n",
       "worst_concavity            1.108933\n",
       "worst_concave_points       0.513071\n",
       "worst_symmetry             0.653937\n",
       "worst_fractal_dimension    0.093381\n",
       "dtype: float64"
      ]
     },
     "execution_count": 16,
     "metadata": {},
     "output_type": "execute_result"
    }
   ],
   "source": [
    "pd.Series(log.coef_[0], index=X.columns)"
   ]
  },
  {
   "cell_type": "markdown",
   "metadata": {},
   "source": [
    "Logistic Regression finds the best weights $\\beta_i$, one per feature, and an extra parameter $\\beta_0$, to predict $y$ given feature values $x_i$"
   ]
  },
  {
   "cell_type": "markdown",
   "metadata": {},
   "source": [
    "To predict a new test instance, it does two steps:"
   ]
  },
  {
   "cell_type": "markdown",
   "metadata": {},
   "source": [
    "$$z = \\sum_{i}x_i * \\beta_i + \\beta_0$$"
   ]
  },
  {
   "cell_type": "markdown",
   "metadata": {},
   "source": [
    "$$y=\\frac{1}{1 + e^{-z}}$$"
   ]
  },
  {
   "cell_type": "markdown",
   "metadata": {},
   "source": [
    "<img width=300 src=\"https://miro.medium.com/max/1086/1*dkpb3XSLslX9IjIAGrSYsA.png\">"
   ]
  },
  {
   "cell_type": "markdown",
   "metadata": {},
   "source": [
    "### Multilayer Perceptron (1+ hidden layers neural network)"
   ]
  },
  {
   "cell_type": "markdown",
   "metadata": {},
   "source": [
    "<img width=500 src=\"./multilayer.png\">"
   ]
  },
  {
   "cell_type": "markdown",
   "metadata": {},
   "source": [
    "#### Creation"
   ]
  },
  {
   "cell_type": "code",
   "execution_count": 17,
   "metadata": {},
   "outputs": [],
   "source": [
    "# neural network creation\n",
    "network = models.Sequential()"
   ]
  },
  {
   "cell_type": "markdown",
   "metadata": {},
   "source": [
    "The core building block of neural networks is the **layer**, composed of different **nodes**\n",
    " \n",
    "Our neural network will have:\n",
    " * input layer: dimension 30 (number of predictors)\n",
    " * hidden layer 1: dimension 10\n",
    " * output layer: dimension 1 (is_cancer)"
   ]
  },
  {
   "cell_type": "markdown",
   "metadata": {},
   "source": [
    "In general, nodes in layer N+1 have less nodes than layer N"
   ]
  },
  {
   "cell_type": "code",
   "execution_count": 18,
   "metadata": {},
   "outputs": [
    {
     "data": {
      "text/plain": [
       "(455, 30)"
      ]
     },
     "execution_count": 18,
     "metadata": {},
     "output_type": "execute_result"
    }
   ],
   "source": [
    "X_train.shape"
   ]
  },
  {
   "cell_type": "markdown",
   "metadata": {},
   "source": [
    "#### Layer addition"
   ]
  },
  {
   "cell_type": "code",
   "execution_count": 20,
   "metadata": {},
   "outputs": [],
   "source": [
    "network.add(layers.Dense(10, activation='relu', input_shape=(30,)))\n",
    "network.add(layers.Dense(1, activation='sigmoid'))"
   ]
  },
  {
   "cell_type": "markdown",
   "metadata": {},
   "source": [
    "A network:\n",
    " * while training, finds the optimal weights (arrows between layers)\n",
    " * while predicting, fast forwards the features $x_i$ through the network. At every layer:\n",
    "  * multiplies by weights\n",
    "  * runs through activation function"
   ]
  },
  {
   "cell_type": "markdown",
   "metadata": {},
   "source": [
    "How many weights do we need?"
   ]
  },
  {
   "cell_type": "code",
   "execution_count": 21,
   "metadata": {},
   "outputs": [
    {
     "name": "stdout",
     "output_type": "stream",
     "text": [
      "Model: \"sequential\"\n",
      "_________________________________________________________________\n",
      "Layer (type)                 Output Shape              Param #   \n",
      "=================================================================\n",
      "dense (Dense)                (None, 10)                310       \n",
      "_________________________________________________________________\n",
      "dense_1 (Dense)              (None, 1)                 11        \n",
      "=================================================================\n",
      "Total params: 321\n",
      "Trainable params: 321\n",
      "Non-trainable params: 0\n",
      "_________________________________________________________________\n"
     ]
    }
   ],
   "source": [
    "network.summary()"
   ]
  },
  {
   "cell_type": "markdown",
   "metadata": {},
   "source": [
    "Activation functions give non-linearity nature to neural networks"
   ]
  },
  {
   "cell_type": "markdown",
   "metadata": {},
   "source": [
    "<img width=600 src=\"https://miro.medium.com/max/1200/1*ZafDv3VUm60Eh10OeJu1vw.png\">"
   ]
  },
  {
   "cell_type": "markdown",
   "metadata": {},
   "source": [
    "#### Compilation"
   ]
  },
  {
   "cell_type": "markdown",
   "metadata": {},
   "source": [
    "To make our network ready for training, we need to pick three more things, as part of \"compilation\" step:\n",
    "\n",
    " * A **loss function** (differentiable metric): this is how the network will be able to measure how good a job it is doing on its training data\n",
    " * An **optimizer**: this is the mechanism through which the network will update itself based on the data it sees.\n",
    " * **Metrics** to monitor during training and testing. Here we will only care about accuracy (the fraction of the images that were correctly classified"
   ]
  },
  {
   "cell_type": "code",
   "execution_count": 22,
   "metadata": {},
   "outputs": [],
   "source": [
    "network.compile(\n",
    "    optimizer='adam',\n",
    "    loss='binary_crossentropy',\n",
    "    metrics=['accuracy']\n",
    ")"
   ]
  },
  {
   "cell_type": "markdown",
   "metadata": {},
   "source": [
    "[Keras optimizers](https://keras.io/api/optimizers/)  \n",
    "[Keras losses](https://keras.io/api/losses/)"
   ]
  },
  {
   "cell_type": "markdown",
   "metadata": {},
   "source": [
    "#### Training"
   ]
  },
  {
   "cell_type": "markdown",
   "metadata": {},
   "source": [
    "A network is trained by epochs (steps). At every epoch:\n",
    " 1. predicts with given weights (forward propagation)\n",
    " 2. compares with real labels\n",
    " 3. updates weights (back propagation)"
   ]
  },
  {
   "cell_type": "code",
   "execution_count": 23,
   "metadata": {},
   "outputs": [
    {
     "name": "stdout",
     "output_type": "stream",
     "text": [
      "Epoch 1/300\n",
      "13/13 [==============================] - 1s 20ms/step - loss: 26.1261 - accuracy: 0.6415 - val_loss: 18.6254 - val_accuracy: 0.2826\n",
      "Epoch 2/300\n",
      "13/13 [==============================] - 0s 5ms/step - loss: 10.8672 - accuracy: 0.1905 - val_loss: 9.7583 - val_accuracy: 0.1957\n",
      "Epoch 3/300\n",
      "13/13 [==============================] - 0s 4ms/step - loss: 8.6092 - accuracy: 0.2038 - val_loss: 7.8223 - val_accuracy: 0.1957\n",
      "Epoch 4/300\n",
      "13/13 [==============================] - 0s 5ms/step - loss: 6.3175 - accuracy: 0.1431 - val_loss: 7.3313 - val_accuracy: 0.1739\n",
      "Epoch 5/300\n",
      "13/13 [==============================] - 0s 5ms/step - loss: 4.7919 - accuracy: 0.1695 - val_loss: 5.3952 - val_accuracy: 0.1957\n",
      "Epoch 6/300\n",
      "13/13 [==============================] - 0s 4ms/step - loss: 4.0845 - accuracy: 0.1735 - val_loss: 5.0038 - val_accuracy: 0.2391\n",
      "Epoch 7/300\n",
      "13/13 [==============================] - 0s 5ms/step - loss: 3.7477 - accuracy: 0.2205 - val_loss: 3.7482 - val_accuracy: 0.3261\n",
      "Epoch 8/300\n",
      "13/13 [==============================] - 0s 5ms/step - loss: 2.9496 - accuracy: 0.2403 - val_loss: 3.1405 - val_accuracy: 0.3696\n",
      "Epoch 9/300\n",
      "13/13 [==============================] - 0s 4ms/step - loss: 2.2681 - accuracy: 0.3177 - val_loss: 1.9940 - val_accuracy: 0.4130\n",
      "Epoch 10/300\n",
      "13/13 [==============================] - 0s 5ms/step - loss: 1.9582 - accuracy: 0.4216 - val_loss: 2.1459 - val_accuracy: 0.5217\n",
      "Epoch 11/300\n",
      "13/13 [==============================] - 0s 5ms/step - loss: 1.5256 - accuracy: 0.5504 - val_loss: 1.3820 - val_accuracy: 0.5652\n",
      "Epoch 12/300\n",
      "13/13 [==============================] - 0s 5ms/step - loss: 1.4222 - accuracy: 0.5482 - val_loss: 0.9135 - val_accuracy: 0.6522\n",
      "Epoch 13/300\n",
      "13/13 [==============================] - 0s 5ms/step - loss: 0.9572 - accuracy: 0.6060 - val_loss: 0.7574 - val_accuracy: 0.6522\n",
      "Epoch 14/300\n",
      "13/13 [==============================] - 0s 5ms/step - loss: 0.9101 - accuracy: 0.6609 - val_loss: 0.6436 - val_accuracy: 0.6957\n",
      "Epoch 15/300\n",
      "13/13 [==============================] - 0s 5ms/step - loss: 0.7506 - accuracy: 0.7215 - val_loss: 0.6353 - val_accuracy: 0.7391\n",
      "Epoch 16/300\n",
      "13/13 [==============================] - 0s 4ms/step - loss: 0.6188 - accuracy: 0.7287 - val_loss: 0.5133 - val_accuracy: 0.7609\n",
      "Epoch 17/300\n",
      "13/13 [==============================] - 0s 4ms/step - loss: 0.7127 - accuracy: 0.7305 - val_loss: 0.3854 - val_accuracy: 0.8478\n",
      "Epoch 18/300\n",
      "13/13 [==============================] - 0s 4ms/step - loss: 0.6813 - accuracy: 0.7571 - val_loss: 0.4249 - val_accuracy: 0.8261\n",
      "Epoch 19/300\n",
      "13/13 [==============================] - 0s 5ms/step - loss: 0.4809 - accuracy: 0.8211 - val_loss: 0.3496 - val_accuracy: 0.8261\n",
      "Epoch 20/300\n",
      "13/13 [==============================] - 0s 5ms/step - loss: 0.5024 - accuracy: 0.8075 - val_loss: 0.3886 - val_accuracy: 0.8478\n",
      "Epoch 21/300\n",
      "13/13 [==============================] - 0s 4ms/step - loss: 0.5018 - accuracy: 0.8264 - val_loss: 0.2981 - val_accuracy: 0.8696\n",
      "Epoch 22/300\n",
      "13/13 [==============================] - 0s 4ms/step - loss: 0.4680 - accuracy: 0.8123 - val_loss: 0.2848 - val_accuracy: 0.8913\n",
      "Epoch 23/300\n",
      "13/13 [==============================] - 0s 4ms/step - loss: 0.4504 - accuracy: 0.8315 - val_loss: 0.3340 - val_accuracy: 0.8478\n",
      "Epoch 24/300\n",
      "13/13 [==============================] - 0s 5ms/step - loss: 0.5792 - accuracy: 0.8076 - val_loss: 0.3176 - val_accuracy: 0.8696\n",
      "Epoch 25/300\n",
      "13/13 [==============================] - 0s 5ms/step - loss: 0.3886 - accuracy: 0.8559 - val_loss: 0.2343 - val_accuracy: 0.8913\n",
      "Epoch 26/300\n",
      "13/13 [==============================] - 0s 5ms/step - loss: 0.3725 - accuracy: 0.8623 - val_loss: 0.2366 - val_accuracy: 0.8913\n",
      "Epoch 27/300\n",
      "13/13 [==============================] - 0s 4ms/step - loss: 0.3476 - accuracy: 0.8564 - val_loss: 0.2447 - val_accuracy: 0.8696\n",
      "Epoch 28/300\n",
      "13/13 [==============================] - 0s 4ms/step - loss: 0.4136 - accuracy: 0.8325 - val_loss: 0.2379 - val_accuracy: 0.8696\n",
      "Epoch 29/300\n",
      "13/13 [==============================] - 0s 5ms/step - loss: 0.3399 - accuracy: 0.8651 - val_loss: 0.2031 - val_accuracy: 0.9130\n",
      "Epoch 30/300\n",
      "13/13 [==============================] - 0s 5ms/step - loss: 0.3490 - accuracy: 0.8731 - val_loss: 0.2005 - val_accuracy: 0.9348\n",
      "Epoch 31/300\n",
      "13/13 [==============================] - 0s 5ms/step - loss: 0.3197 - accuracy: 0.8575 - val_loss: 0.2176 - val_accuracy: 0.8913\n",
      "Epoch 32/300\n",
      "13/13 [==============================] - 0s 4ms/step - loss: 0.2977 - accuracy: 0.8733 - val_loss: 0.1946 - val_accuracy: 0.9348\n",
      "Epoch 33/300\n",
      "13/13 [==============================] - 0s 4ms/step - loss: 0.3947 - accuracy: 0.8250 - val_loss: 0.2664 - val_accuracy: 0.8913\n",
      "Epoch 34/300\n",
      "13/13 [==============================] - 0s 5ms/step - loss: 0.3385 - accuracy: 0.8612 - val_loss: 0.2150 - val_accuracy: 0.9130\n",
      "Epoch 35/300\n",
      "13/13 [==============================] - 0s 5ms/step - loss: 0.3292 - accuracy: 0.8486 - val_loss: 0.1740 - val_accuracy: 0.9348\n",
      "Epoch 36/300\n",
      "13/13 [==============================] - 0s 4ms/step - loss: 0.2876 - accuracy: 0.8783 - val_loss: 0.1797 - val_accuracy: 0.9348\n",
      "Epoch 37/300\n",
      "13/13 [==============================] - 0s 5ms/step - loss: 0.2966 - accuracy: 0.8679 - val_loss: 0.1710 - val_accuracy: 0.9565\n",
      "Epoch 38/300\n",
      "13/13 [==============================] - 0s 4ms/step - loss: 0.2528 - accuracy: 0.9138 - val_loss: 0.2026 - val_accuracy: 0.9130\n",
      "Epoch 39/300\n",
      "13/13 [==============================] - 0s 4ms/step - loss: 0.2232 - accuracy: 0.9094 - val_loss: 0.1601 - val_accuracy: 0.9348\n",
      "Epoch 40/300\n",
      "13/13 [==============================] - 0s 4ms/step - loss: 0.3172 - accuracy: 0.8687 - val_loss: 0.2102 - val_accuracy: 0.9130\n",
      "Epoch 41/300\n",
      "13/13 [==============================] - 0s 4ms/step - loss: 0.2647 - accuracy: 0.8907 - val_loss: 0.1878 - val_accuracy: 0.9348\n",
      "Epoch 42/300\n",
      "13/13 [==============================] - 0s 4ms/step - loss: 0.2805 - accuracy: 0.8832 - val_loss: 0.1558 - val_accuracy: 0.9348\n",
      "Epoch 43/300\n",
      "13/13 [==============================] - 0s 4ms/step - loss: 0.2703 - accuracy: 0.8907 - val_loss: 0.1498 - val_accuracy: 0.9565\n",
      "Epoch 44/300\n",
      "13/13 [==============================] - 0s 5ms/step - loss: 0.2904 - accuracy: 0.8779 - val_loss: 0.1664 - val_accuracy: 0.9348\n",
      "Epoch 45/300\n",
      "13/13 [==============================] - 0s 5ms/step - loss: 0.2250 - accuracy: 0.9140 - val_loss: 0.1825 - val_accuracy: 0.9348\n",
      "Epoch 46/300\n",
      "13/13 [==============================] - 0s 4ms/step - loss: 0.2801 - accuracy: 0.8712 - val_loss: 0.1525 - val_accuracy: 0.9348\n",
      "Epoch 47/300\n",
      "13/13 [==============================] - 0s 4ms/step - loss: 0.2569 - accuracy: 0.8994 - val_loss: 0.1409 - val_accuracy: 0.9348\n",
      "Epoch 48/300\n",
      "13/13 [==============================] - 0s 4ms/step - loss: 0.2921 - accuracy: 0.8785 - val_loss: 0.1650 - val_accuracy: 0.9348\n",
      "Epoch 49/300\n",
      "13/13 [==============================] - 0s 4ms/step - loss: 0.2437 - accuracy: 0.9098 - val_loss: 0.1406 - val_accuracy: 0.9348\n",
      "Epoch 50/300\n",
      "13/13 [==============================] - 0s 4ms/step - loss: 0.2547 - accuracy: 0.8891 - val_loss: 0.1693 - val_accuracy: 0.9348\n",
      "Epoch 51/300\n",
      "13/13 [==============================] - 0s 4ms/step - loss: 0.2480 - accuracy: 0.9093 - val_loss: 0.1347 - val_accuracy: 0.9348\n",
      "Epoch 52/300\n",
      "13/13 [==============================] - 0s 5ms/step - loss: 0.2587 - accuracy: 0.8983 - val_loss: 0.1460 - val_accuracy: 0.9783\n",
      "Epoch 53/300\n",
      "13/13 [==============================] - 0s 4ms/step - loss: 0.3126 - accuracy: 0.8664 - val_loss: 0.1432 - val_accuracy: 0.9348\n",
      "Epoch 54/300\n",
      "13/13 [==============================] - 0s 4ms/step - loss: 0.2467 - accuracy: 0.9055 - val_loss: 0.1430 - val_accuracy: 0.9348\n",
      "Epoch 55/300\n",
      "13/13 [==============================] - 0s 4ms/step - loss: 0.2496 - accuracy: 0.9034 - val_loss: 0.1981 - val_accuracy: 0.9130\n",
      "Epoch 56/300\n",
      "13/13 [==============================] - 0s 4ms/step - loss: 0.2776 - accuracy: 0.8714 - val_loss: 0.2166 - val_accuracy: 0.8913\n",
      "Epoch 57/300\n",
      "13/13 [==============================] - 0s 5ms/step - loss: 0.2645 - accuracy: 0.9021 - val_loss: 0.1376 - val_accuracy: 0.9348\n",
      "Epoch 58/300\n",
      "13/13 [==============================] - 0s 4ms/step - loss: 0.2312 - accuracy: 0.9163 - val_loss: 0.1272 - val_accuracy: 0.9783\n"
     ]
    },
    {
     "name": "stdout",
     "output_type": "stream",
     "text": [
      "Epoch 59/300\n",
      "13/13 [==============================] - 0s 4ms/step - loss: 0.2252 - accuracy: 0.9060 - val_loss: 0.1382 - val_accuracy: 0.9348\n",
      "Epoch 60/300\n",
      "13/13 [==============================] - 0s 4ms/step - loss: 0.2041 - accuracy: 0.9234 - val_loss: 0.1257 - val_accuracy: 0.9348\n",
      "Epoch 61/300\n",
      "13/13 [==============================] - 0s 4ms/step - loss: 0.2187 - accuracy: 0.9235 - val_loss: 0.1295 - val_accuracy: 0.9783\n",
      "Epoch 62/300\n",
      "13/13 [==============================] - 0s 4ms/step - loss: 0.2576 - accuracy: 0.9069 - val_loss: 0.1243 - val_accuracy: 0.9348\n",
      "Epoch 63/300\n",
      "13/13 [==============================] - 0s 4ms/step - loss: 0.2530 - accuracy: 0.8795 - val_loss: 0.1357 - val_accuracy: 0.9348\n",
      "Epoch 64/300\n",
      "13/13 [==============================] - 0s 4ms/step - loss: 0.2254 - accuracy: 0.9027 - val_loss: 0.1342 - val_accuracy: 0.9348\n",
      "Epoch 65/300\n",
      "13/13 [==============================] - 0s 4ms/step - loss: 0.2072 - accuracy: 0.9143 - val_loss: 0.1439 - val_accuracy: 0.9348\n",
      "Epoch 66/300\n",
      "13/13 [==============================] - 0s 4ms/step - loss: 0.2144 - accuracy: 0.9232 - val_loss: 0.1468 - val_accuracy: 0.9348\n",
      "Epoch 67/300\n",
      "13/13 [==============================] - 0s 4ms/step - loss: 0.1821 - accuracy: 0.9245 - val_loss: 0.1200 - val_accuracy: 0.9348\n",
      "Epoch 68/300\n",
      "13/13 [==============================] - 0s 4ms/step - loss: 0.2127 - accuracy: 0.9151 - val_loss: 0.1564 - val_accuracy: 0.9348\n",
      "Epoch 69/300\n",
      "13/13 [==============================] - 0s 4ms/step - loss: 0.2384 - accuracy: 0.9101 - val_loss: 0.1690 - val_accuracy: 0.9130\n",
      "Epoch 70/300\n",
      "13/13 [==============================] - 0s 4ms/step - loss: 0.2248 - accuracy: 0.9064 - val_loss: 0.1490 - val_accuracy: 0.9348\n",
      "Epoch 71/300\n",
      "13/13 [==============================] - 0s 4ms/step - loss: 0.2255 - accuracy: 0.9091 - val_loss: 0.1211 - val_accuracy: 0.9348\n",
      "Epoch 72/300\n",
      "13/13 [==============================] - 0s 4ms/step - loss: 0.2318 - accuracy: 0.9102 - val_loss: 0.1540 - val_accuracy: 0.9348\n",
      "Epoch 73/300\n",
      "13/13 [==============================] - 0s 4ms/step - loss: 0.1805 - accuracy: 0.9361 - val_loss: 0.1154 - val_accuracy: 0.9348\n",
      "Epoch 74/300\n",
      "13/13 [==============================] - 0s 4ms/step - loss: 0.2118 - accuracy: 0.9264 - val_loss: 0.1151 - val_accuracy: 0.9348\n",
      "Epoch 75/300\n",
      "13/13 [==============================] - 0s 4ms/step - loss: 0.1862 - accuracy: 0.9413 - val_loss: 0.1176 - val_accuracy: 0.9348\n",
      "Epoch 76/300\n",
      "13/13 [==============================] - 0s 4ms/step - loss: 0.1978 - accuracy: 0.9295 - val_loss: 0.1157 - val_accuracy: 0.9348\n",
      "Epoch 77/300\n",
      "13/13 [==============================] - 0s 4ms/step - loss: 0.2235 - accuracy: 0.8917 - val_loss: 0.1586 - val_accuracy: 0.9348\n",
      "Epoch 78/300\n",
      "13/13 [==============================] - 0s 4ms/step - loss: 0.1974 - accuracy: 0.9165 - val_loss: 0.1670 - val_accuracy: 0.9130\n",
      "Epoch 79/300\n",
      "13/13 [==============================] - 0s 4ms/step - loss: 0.2503 - accuracy: 0.8944 - val_loss: 0.1247 - val_accuracy: 0.9565\n",
      "Epoch 80/300\n",
      "13/13 [==============================] - 0s 5ms/step - loss: 0.2149 - accuracy: 0.9226 - val_loss: 0.1283 - val_accuracy: 0.9565\n",
      "Epoch 81/300\n",
      "13/13 [==============================] - 0s 4ms/step - loss: 0.2048 - accuracy: 0.9239 - val_loss: 0.1169 - val_accuracy: 0.9348\n",
      "Epoch 82/300\n",
      "13/13 [==============================] - 0s 4ms/step - loss: 0.2327 - accuracy: 0.8947 - val_loss: 0.1576 - val_accuracy: 0.9130\n",
      "Epoch 83/300\n",
      "13/13 [==============================] - 0s 4ms/step - loss: 0.2379 - accuracy: 0.9067 - val_loss: 0.1203 - val_accuracy: 0.9565\n",
      "Epoch 84/300\n",
      "13/13 [==============================] - 0s 4ms/step - loss: 0.2025 - accuracy: 0.9274 - val_loss: 0.1099 - val_accuracy: 0.9565\n",
      "Epoch 85/300\n",
      "13/13 [==============================] - 0s 4ms/step - loss: 0.2325 - accuracy: 0.8989 - val_loss: 0.1117 - val_accuracy: 0.9565\n",
      "Epoch 86/300\n",
      "13/13 [==============================] - 0s 4ms/step - loss: 0.1925 - accuracy: 0.9392 - val_loss: 0.1125 - val_accuracy: 0.9348\n",
      "Epoch 87/300\n",
      "13/13 [==============================] - 0s 4ms/step - loss: 0.2016 - accuracy: 0.9165 - val_loss: 0.1086 - val_accuracy: 0.9348\n",
      "Epoch 88/300\n",
      "13/13 [==============================] - 0s 4ms/step - loss: 0.2374 - accuracy: 0.9071 - val_loss: 0.1130 - val_accuracy: 0.9348\n",
      "Epoch 89/300\n",
      "13/13 [==============================] - 0s 4ms/step - loss: 0.2033 - accuracy: 0.9141 - val_loss: 0.1532 - val_accuracy: 0.9348\n",
      "Epoch 90/300\n",
      "13/13 [==============================] - 0s 4ms/step - loss: 0.1853 - accuracy: 0.9297 - val_loss: 0.1524 - val_accuracy: 0.9348\n",
      "Epoch 91/300\n",
      "13/13 [==============================] - 0s 4ms/step - loss: 0.2372 - accuracy: 0.9144 - val_loss: 0.1084 - val_accuracy: 0.9348\n",
      "Epoch 92/300\n",
      "13/13 [==============================] - 0s 4ms/step - loss: 0.2028 - accuracy: 0.9294 - val_loss: 0.1064 - val_accuracy: 0.9348\n",
      "Epoch 93/300\n",
      "13/13 [==============================] - 0s 4ms/step - loss: 0.2048 - accuracy: 0.9101 - val_loss: 0.1378 - val_accuracy: 0.9565\n",
      "Epoch 94/300\n",
      "13/13 [==============================] - 0s 4ms/step - loss: 0.1881 - accuracy: 0.9352 - val_loss: 0.1368 - val_accuracy: 0.9565\n",
      "Epoch 95/300\n",
      "13/13 [==============================] - 0s 5ms/step - loss: 0.2085 - accuracy: 0.9195 - val_loss: 0.1075 - val_accuracy: 0.9348\n",
      "Epoch 96/300\n",
      "13/13 [==============================] - 0s 4ms/step - loss: 0.2164 - accuracy: 0.9108 - val_loss: 0.1625 - val_accuracy: 0.9348\n",
      "Epoch 97/300\n",
      "13/13 [==============================] - 0s 4ms/step - loss: 0.2363 - accuracy: 0.9130 - val_loss: 0.1238 - val_accuracy: 0.9565\n",
      "Epoch 98/300\n",
      "13/13 [==============================] - 0s 5ms/step - loss: 0.1918 - accuracy: 0.9297 - val_loss: 0.1032 - val_accuracy: 0.9565\n",
      "Epoch 99/300\n",
      "13/13 [==============================] - 0s 4ms/step - loss: 0.1927 - accuracy: 0.9173 - val_loss: 0.1149 - val_accuracy: 0.9783\n",
      "Epoch 100/300\n",
      "13/13 [==============================] - 0s 4ms/step - loss: 0.2204 - accuracy: 0.9220 - val_loss: 0.1030 - val_accuracy: 0.9348\n",
      "Epoch 101/300\n",
      "13/13 [==============================] - 0s 4ms/step - loss: 0.2116 - accuracy: 0.9135 - val_loss: 0.1415 - val_accuracy: 0.9565\n",
      "Epoch 102/300\n",
      "13/13 [==============================] - 0s 4ms/step - loss: 0.2573 - accuracy: 0.8998 - val_loss: 0.1749 - val_accuracy: 0.9348\n",
      "Epoch 103/300\n",
      "13/13 [==============================] - 0s 4ms/step - loss: 0.2154 - accuracy: 0.9144 - val_loss: 0.1105 - val_accuracy: 0.9565\n",
      "Epoch 104/300\n",
      "13/13 [==============================] - 0s 4ms/step - loss: 0.1998 - accuracy: 0.9251 - val_loss: 0.1025 - val_accuracy: 0.9348\n",
      "Epoch 105/300\n",
      "13/13 [==============================] - 0s 5ms/step - loss: 0.2032 - accuracy: 0.9173 - val_loss: 0.1025 - val_accuracy: 0.9565\n",
      "Epoch 106/300\n",
      "13/13 [==============================] - 0s 4ms/step - loss: 0.2002 - accuracy: 0.9183 - val_loss: 0.1058 - val_accuracy: 0.9348\n",
      "Epoch 107/300\n",
      "13/13 [==============================] - 0s 4ms/step - loss: 0.2244 - accuracy: 0.9044 - val_loss: 0.1857 - val_accuracy: 0.9348\n",
      "Epoch 108/300\n",
      "13/13 [==============================] - 0s 4ms/step - loss: 0.1929 - accuracy: 0.9359 - val_loss: 0.1145 - val_accuracy: 0.9565\n",
      "Epoch 109/300\n",
      "13/13 [==============================] - 0s 4ms/step - loss: 0.1887 - accuracy: 0.9146 - val_loss: 0.1247 - val_accuracy: 0.9565\n",
      "Epoch 110/300\n",
      "13/13 [==============================] - 0s 4ms/step - loss: 0.2201 - accuracy: 0.9044 - val_loss: 0.1330 - val_accuracy: 0.9565\n",
      "Epoch 111/300\n",
      "13/13 [==============================] - 0s 4ms/step - loss: 0.1984 - accuracy: 0.9147 - val_loss: 0.1073 - val_accuracy: 0.9565\n",
      "Epoch 112/300\n",
      "13/13 [==============================] - 0s 4ms/step - loss: 0.2190 - accuracy: 0.8945 - val_loss: 0.1035 - val_accuracy: 0.9348\n",
      "Epoch 113/300\n",
      "13/13 [==============================] - 0s 4ms/step - loss: 0.2140 - accuracy: 0.9130 - val_loss: 0.1372 - val_accuracy: 0.9565\n",
      "Epoch 114/300\n",
      "13/13 [==============================] - 0s 5ms/step - loss: 0.2637 - accuracy: 0.8957 - val_loss: 0.1723 - val_accuracy: 0.9348\n",
      "Epoch 115/300\n",
      "13/13 [==============================] - 0s 4ms/step - loss: 0.2269 - accuracy: 0.9121 - val_loss: 0.1618 - val_accuracy: 0.9348\n",
      "Epoch 116/300\n"
     ]
    },
    {
     "name": "stdout",
     "output_type": "stream",
     "text": [
      "13/13 [==============================] - 0s 4ms/step - loss: 0.2123 - accuracy: 0.9077 - val_loss: 0.1268 - val_accuracy: 0.9565\n",
      "Epoch 117/300\n",
      "13/13 [==============================] - 0s 4ms/step - loss: 0.2022 - accuracy: 0.9186 - val_loss: 0.1103 - val_accuracy: 0.9565\n",
      "Epoch 118/300\n",
      "13/13 [==============================] - 0s 4ms/step - loss: 0.2272 - accuracy: 0.9064 - val_loss: 0.1500 - val_accuracy: 0.9348\n",
      "Epoch 119/300\n",
      "13/13 [==============================] - 0s 4ms/step - loss: 0.2010 - accuracy: 0.9141 - val_loss: 0.1178 - val_accuracy: 0.9565\n",
      "Epoch 120/300\n",
      "13/13 [==============================] - 0s 4ms/step - loss: 0.1983 - accuracy: 0.9246 - val_loss: 0.1228 - val_accuracy: 0.9565\n",
      "Epoch 121/300\n",
      "13/13 [==============================] - 0s 4ms/step - loss: 0.1723 - accuracy: 0.9284 - val_loss: 0.1185 - val_accuracy: 0.9565\n",
      "Epoch 122/300\n",
      "13/13 [==============================] - 0s 4ms/step - loss: 0.2136 - accuracy: 0.9095 - val_loss: 0.1238 - val_accuracy: 0.9565\n",
      "Epoch 123/300\n",
      "13/13 [==============================] - 0s 4ms/step - loss: 0.1773 - accuracy: 0.9287 - val_loss: 0.1381 - val_accuracy: 0.9565\n",
      "Epoch 124/300\n",
      "13/13 [==============================] - 0s 4ms/step - loss: 0.1758 - accuracy: 0.9364 - val_loss: 0.1465 - val_accuracy: 0.9348\n",
      "Epoch 125/300\n",
      "13/13 [==============================] - 0s 4ms/step - loss: 0.1950 - accuracy: 0.9216 - val_loss: 0.1008 - val_accuracy: 0.9348\n",
      "Epoch 126/300\n",
      "13/13 [==============================] - 0s 4ms/step - loss: 0.1762 - accuracy: 0.9444 - val_loss: 0.0947 - val_accuracy: 0.9565\n",
      "Epoch 127/300\n",
      "13/13 [==============================] - 0s 4ms/step - loss: 0.1679 - accuracy: 0.9364 - val_loss: 0.0946 - val_accuracy: 0.9348\n",
      "Epoch 128/300\n",
      "13/13 [==============================] - 0s 4ms/step - loss: 0.1570 - accuracy: 0.9333 - val_loss: 0.0929 - val_accuracy: 0.9565\n",
      "Epoch 129/300\n",
      "13/13 [==============================] - 0s 5ms/step - loss: 0.2143 - accuracy: 0.9110 - val_loss: 0.1187 - val_accuracy: 0.9565\n",
      "Epoch 130/300\n",
      "13/13 [==============================] - 0s 4ms/step - loss: 0.1586 - accuracy: 0.9423 - val_loss: 0.0928 - val_accuracy: 0.9565\n",
      "Epoch 131/300\n",
      "13/13 [==============================] - 0s 4ms/step - loss: 0.2068 - accuracy: 0.9212 - val_loss: 0.0923 - val_accuracy: 0.9565\n",
      "Epoch 132/300\n",
      "13/13 [==============================] - 0s 4ms/step - loss: 0.1935 - accuracy: 0.9077 - val_loss: 0.1001 - val_accuracy: 0.9348\n",
      "Epoch 133/300\n",
      "13/13 [==============================] - 0s 4ms/step - loss: 0.1927 - accuracy: 0.9130 - val_loss: 0.1304 - val_accuracy: 0.9565\n",
      "Epoch 134/300\n",
      "13/13 [==============================] - 0s 4ms/step - loss: 0.2397 - accuracy: 0.9072 - val_loss: 0.1967 - val_accuracy: 0.9348\n",
      "Epoch 135/300\n",
      "13/13 [==============================] - 0s 4ms/step - loss: 0.2521 - accuracy: 0.9025 - val_loss: 0.1417 - val_accuracy: 0.9348\n",
      "Epoch 136/300\n",
      "13/13 [==============================] - 0s 4ms/step - loss: 0.2174 - accuracy: 0.9019 - val_loss: 0.1580 - val_accuracy: 0.9348\n",
      "Epoch 137/300\n",
      "13/13 [==============================] - 0s 5ms/step - loss: 0.1680 - accuracy: 0.9234 - val_loss: 0.1027 - val_accuracy: 0.9565\n",
      "Epoch 138/300\n",
      "13/13 [==============================] - 0s 4ms/step - loss: 0.1973 - accuracy: 0.9360 - val_loss: 0.1600 - val_accuracy: 0.9348\n",
      "Epoch 139/300\n",
      "13/13 [==============================] - 0s 4ms/step - loss: 0.2254 - accuracy: 0.9032 - val_loss: 0.1178 - val_accuracy: 0.9565\n",
      "Epoch 140/300\n",
      "13/13 [==============================] - 0s 4ms/step - loss: 0.1994 - accuracy: 0.9303 - val_loss: 0.1173 - val_accuracy: 0.9565\n",
      "Epoch 141/300\n",
      "13/13 [==============================] - 0s 4ms/step - loss: 0.1746 - accuracy: 0.9408 - val_loss: 0.1245 - val_accuracy: 0.9565\n",
      "Epoch 142/300\n",
      "13/13 [==============================] - 0s 4ms/step - loss: 0.2105 - accuracy: 0.9062 - val_loss: 0.1511 - val_accuracy: 0.9348\n",
      "Epoch 143/300\n",
      "13/13 [==============================] - 0s 4ms/step - loss: 0.1880 - accuracy: 0.9162 - val_loss: 0.1480 - val_accuracy: 0.9348\n",
      "Epoch 144/300\n",
      "13/13 [==============================] - 0s 4ms/step - loss: 0.1862 - accuracy: 0.9130 - val_loss: 0.0951 - val_accuracy: 0.9348\n",
      "Epoch 145/300\n",
      "13/13 [==============================] - 0s 4ms/step - loss: 0.1649 - accuracy: 0.9501 - val_loss: 0.1186 - val_accuracy: 0.9565\n",
      "Epoch 146/300\n",
      "13/13 [==============================] - 0s 4ms/step - loss: 0.1665 - accuracy: 0.9416 - val_loss: 0.1251 - val_accuracy: 0.9565\n",
      "Epoch 147/300\n",
      "13/13 [==============================] - 0s 4ms/step - loss: 0.1407 - accuracy: 0.9431 - val_loss: 0.0881 - val_accuracy: 0.9565\n",
      "Epoch 148/300\n",
      "13/13 [==============================] - 0s 4ms/step - loss: 0.1761 - accuracy: 0.9263 - val_loss: 0.0899 - val_accuracy: 0.9348\n",
      "Epoch 149/300\n",
      "13/13 [==============================] - 0s 5ms/step - loss: 0.1820 - accuracy: 0.9399 - val_loss: 0.1209 - val_accuracy: 0.9565\n",
      "Epoch 150/300\n",
      "13/13 [==============================] - 0s 4ms/step - loss: 0.1871 - accuracy: 0.9266 - val_loss: 0.1739 - val_accuracy: 0.9348\n",
      "Epoch 151/300\n",
      "13/13 [==============================] - 0s 6ms/step - loss: 0.1927 - accuracy: 0.9258 - val_loss: 0.1216 - val_accuracy: 0.9565\n",
      "Epoch 152/300\n",
      "13/13 [==============================] - 0s 6ms/step - loss: 0.1815 - accuracy: 0.9269 - val_loss: 0.1531 - val_accuracy: 0.9348\n",
      "Epoch 153/300\n",
      "13/13 [==============================] - 0s 5ms/step - loss: 0.1975 - accuracy: 0.9300 - val_loss: 0.0880 - val_accuracy: 0.9565\n",
      "Epoch 154/300\n",
      "13/13 [==============================] - 0s 4ms/step - loss: 0.1689 - accuracy: 0.9186 - val_loss: 0.0886 - val_accuracy: 0.9348\n",
      "Epoch 155/300\n",
      "13/13 [==============================] - 0s 4ms/step - loss: 0.1607 - accuracy: 0.9440 - val_loss: 0.1772 - val_accuracy: 0.9348\n",
      "Epoch 156/300\n",
      "13/13 [==============================] - 0s 5ms/step - loss: 0.1600 - accuracy: 0.9199 - val_loss: 0.0921 - val_accuracy: 0.9348\n",
      "Epoch 157/300\n",
      "13/13 [==============================] - 0s 5ms/step - loss: 0.1660 - accuracy: 0.9340 - val_loss: 0.0857 - val_accuracy: 0.9565\n",
      "Epoch 158/300\n",
      "13/13 [==============================] - 0s 4ms/step - loss: 0.1953 - accuracy: 0.9116 - val_loss: 0.1625 - val_accuracy: 0.9348\n",
      "Epoch 159/300\n",
      "13/13 [==============================] - 0s 4ms/step - loss: 0.1678 - accuracy: 0.9359 - val_loss: 0.2693 - val_accuracy: 0.9130\n",
      "Epoch 160/300\n",
      "13/13 [==============================] - 0s 5ms/step - loss: 0.2022 - accuracy: 0.9285 - val_loss: 0.0841 - val_accuracy: 0.9565\n",
      "Epoch 161/300\n",
      "13/13 [==============================] - 0s 4ms/step - loss: 0.1968 - accuracy: 0.9062 - val_loss: 0.0944 - val_accuracy: 0.9565\n",
      "Epoch 162/300\n",
      "13/13 [==============================] - 0s 4ms/step - loss: 0.2021 - accuracy: 0.9247 - val_loss: 0.1304 - val_accuracy: 0.9565\n",
      "Epoch 163/300\n",
      "13/13 [==============================] - 0s 4ms/step - loss: 0.2160 - accuracy: 0.9102 - val_loss: 0.1904 - val_accuracy: 0.9348\n",
      "Epoch 164/300\n",
      "13/13 [==============================] - 0s 5ms/step - loss: 0.2272 - accuracy: 0.9172 - val_loss: 0.1227 - val_accuracy: 0.9565\n",
      "Epoch 165/300\n",
      "13/13 [==============================] - 0s 5ms/step - loss: 0.1769 - accuracy: 0.9151 - val_loss: 0.1494 - val_accuracy: 0.9348\n",
      "Epoch 166/300\n",
      "13/13 [==============================] - 0s 5ms/step - loss: 0.1730 - accuracy: 0.9406 - val_loss: 0.0876 - val_accuracy: 0.9348\n",
      "Epoch 167/300\n",
      "13/13 [==============================] - 0s 4ms/step - loss: 0.1362 - accuracy: 0.9441 - val_loss: 0.0951 - val_accuracy: 0.9565\n",
      "Epoch 168/300\n",
      "13/13 [==============================] - 0s 4ms/step - loss: 0.1651 - accuracy: 0.9231 - val_loss: 0.1871 - val_accuracy: 0.9348\n",
      "Epoch 169/300\n",
      "13/13 [==============================] - 0s 4ms/step - loss: 0.2117 - accuracy: 0.9104 - val_loss: 0.1098 - val_accuracy: 0.9565\n",
      "Epoch 170/300\n",
      "13/13 [==============================] - 0s 4ms/step - loss: 0.1963 - accuracy: 0.9154 - val_loss: 0.1080 - val_accuracy: 0.9565\n",
      "Epoch 171/300\n",
      "13/13 [==============================] - 0s 4ms/step - loss: 0.1710 - accuracy: 0.9298 - val_loss: 0.1203 - val_accuracy: 0.9565\n",
      "Epoch 172/300\n",
      "13/13 [==============================] - 0s 5ms/step - loss: 0.1750 - accuracy: 0.9351 - val_loss: 0.1063 - val_accuracy: 0.9565\n",
      "Epoch 173/300\n"
     ]
    },
    {
     "name": "stdout",
     "output_type": "stream",
     "text": [
      "13/13 [==============================] - 0s 4ms/step - loss: 0.2077 - accuracy: 0.9103 - val_loss: 0.1435 - val_accuracy: 0.9348\n",
      "Epoch 174/300\n",
      "13/13 [==============================] - 0s 5ms/step - loss: 0.2336 - accuracy: 0.9283 - val_loss: 0.1803 - val_accuracy: 0.9348\n",
      "Epoch 175/300\n",
      "13/13 [==============================] - 0s 6ms/step - loss: 0.2022 - accuracy: 0.9277 - val_loss: 0.1227 - val_accuracy: 0.9565\n",
      "Epoch 176/300\n",
      "13/13 [==============================] - 0s 6ms/step - loss: 0.1639 - accuracy: 0.9182 - val_loss: 0.1000 - val_accuracy: 0.9565\n",
      "Epoch 177/300\n",
      "13/13 [==============================] - 0s 6ms/step - loss: 0.1512 - accuracy: 0.9315 - val_loss: 0.0852 - val_accuracy: 0.9348\n",
      "Epoch 178/300\n",
      "13/13 [==============================] - 0s 5ms/step - loss: 0.1868 - accuracy: 0.9144 - val_loss: 0.0905 - val_accuracy: 0.9565\n",
      "Epoch 179/300\n",
      "13/13 [==============================] - 0s 4ms/step - loss: 0.1644 - accuracy: 0.9353 - val_loss: 0.0880 - val_accuracy: 0.9348\n",
      "Epoch 180/300\n",
      "13/13 [==============================] - 0s 4ms/step - loss: 0.1727 - accuracy: 0.9268 - val_loss: 0.1155 - val_accuracy: 0.9565\n",
      "Epoch 181/300\n",
      "13/13 [==============================] - 0s 4ms/step - loss: 0.1772 - accuracy: 0.9332 - val_loss: 0.0960 - val_accuracy: 0.9565\n",
      "Epoch 182/300\n",
      "13/13 [==============================] - 0s 4ms/step - loss: 0.1486 - accuracy: 0.9347 - val_loss: 0.0818 - val_accuracy: 0.9565\n",
      "Epoch 183/300\n",
      "13/13 [==============================] - 0s 4ms/step - loss: 0.1793 - accuracy: 0.9137 - val_loss: 0.0852 - val_accuracy: 0.9348\n",
      "Epoch 184/300\n",
      "13/13 [==============================] - 0s 4ms/step - loss: 0.1378 - accuracy: 0.9360 - val_loss: 0.0838 - val_accuracy: 0.9565\n",
      "Epoch 185/300\n",
      "13/13 [==============================] - 0s 5ms/step - loss: 0.1669 - accuracy: 0.9453 - val_loss: 0.1072 - val_accuracy: 0.9783\n",
      "Epoch 186/300\n",
      "13/13 [==============================] - 0s 4ms/step - loss: 0.2130 - accuracy: 0.9160 - val_loss: 0.0905 - val_accuracy: 0.9565\n",
      "Epoch 187/300\n",
      "13/13 [==============================] - 0s 4ms/step - loss: 0.1625 - accuracy: 0.9415 - val_loss: 0.0913 - val_accuracy: 0.9565\n",
      "Epoch 188/300\n",
      "13/13 [==============================] - 0s 4ms/step - loss: 0.1573 - accuracy: 0.9419 - val_loss: 0.1113 - val_accuracy: 0.9565\n",
      "Epoch 189/300\n",
      "13/13 [==============================] - 0s 4ms/step - loss: 0.1445 - accuracy: 0.9467 - val_loss: 0.1021 - val_accuracy: 0.9565\n",
      "Epoch 190/300\n",
      "13/13 [==============================] - 0s 4ms/step - loss: 0.1677 - accuracy: 0.9208 - val_loss: 0.0831 - val_accuracy: 0.9565\n",
      "Epoch 191/300\n",
      "13/13 [==============================] - 0s 4ms/step - loss: 0.1485 - accuracy: 0.9496 - val_loss: 0.0833 - val_accuracy: 0.9565\n",
      "Epoch 192/300\n",
      "13/13 [==============================] - 0s 4ms/step - loss: 0.1810 - accuracy: 0.9139 - val_loss: 0.0813 - val_accuracy: 0.9565\n",
      "Epoch 193/300\n",
      "13/13 [==============================] - 0s 4ms/step - loss: 0.1923 - accuracy: 0.9087 - val_loss: 0.0863 - val_accuracy: 0.9348\n",
      "Epoch 194/300\n",
      "13/13 [==============================] - 0s 4ms/step - loss: 0.1626 - accuracy: 0.9356 - val_loss: 0.0936 - val_accuracy: 0.9565\n",
      "Epoch 195/300\n",
      "13/13 [==============================] - 0s 4ms/step - loss: 0.1672 - accuracy: 0.9411 - val_loss: 0.0843 - val_accuracy: 0.9348\n",
      "Epoch 196/300\n",
      "13/13 [==============================] - 0s 4ms/step - loss: 0.1263 - accuracy: 0.9520 - val_loss: 0.0801 - val_accuracy: 0.9565\n",
      "Epoch 197/300\n",
      "13/13 [==============================] - 0s 4ms/step - loss: 0.1786 - accuracy: 0.9283 - val_loss: 0.0923 - val_accuracy: 0.9565\n",
      "Epoch 198/300\n",
      "13/13 [==============================] - 0s 4ms/step - loss: 0.1525 - accuracy: 0.9439 - val_loss: 0.0869 - val_accuracy: 0.9348\n",
      "Epoch 199/300\n",
      "13/13 [==============================] - 0s 5ms/step - loss: 0.1589 - accuracy: 0.9413 - val_loss: 0.0803 - val_accuracy: 0.9565\n",
      "Epoch 200/300\n",
      "13/13 [==============================] - 0s 4ms/step - loss: 0.1614 - accuracy: 0.9266 - val_loss: 0.1019 - val_accuracy: 0.9565\n",
      "Epoch 201/300\n",
      "13/13 [==============================] - 0s 4ms/step - loss: 0.1416 - accuracy: 0.9302 - val_loss: 0.1188 - val_accuracy: 0.9565\n",
      "Epoch 202/300\n",
      "13/13 [==============================] - 0s 4ms/step - loss: 0.1891 - accuracy: 0.9083 - val_loss: 0.1549 - val_accuracy: 0.9348\n",
      "Epoch 203/300\n",
      "13/13 [==============================] - 0s 4ms/step - loss: 0.1574 - accuracy: 0.9314 - val_loss: 0.1887 - val_accuracy: 0.9348\n",
      "Epoch 204/300\n",
      "13/13 [==============================] - 0s 5ms/step - loss: 0.1870 - accuracy: 0.9272 - val_loss: 0.1283 - val_accuracy: 0.9565\n",
      "Epoch 205/300\n",
      "13/13 [==============================] - 0s 4ms/step - loss: 0.1792 - accuracy: 0.9326 - val_loss: 0.1065 - val_accuracy: 0.9565\n",
      "Epoch 206/300\n",
      "13/13 [==============================] - 0s 4ms/step - loss: 0.1680 - accuracy: 0.9361 - val_loss: 0.0919 - val_accuracy: 0.9565\n",
      "Epoch 207/300\n",
      "13/13 [==============================] - 0s 4ms/step - loss: 0.1403 - accuracy: 0.9408 - val_loss: 0.1026 - val_accuracy: 0.9565\n",
      "Epoch 208/300\n",
      "13/13 [==============================] - 0s 4ms/step - loss: 0.1611 - accuracy: 0.9335 - val_loss: 0.1167 - val_accuracy: 0.9565\n",
      "Epoch 209/300\n",
      "13/13 [==============================] - 0s 4ms/step - loss: 0.1624 - accuracy: 0.9406 - val_loss: 0.1219 - val_accuracy: 0.9565\n",
      "Epoch 210/300\n",
      "13/13 [==============================] - 0s 4ms/step - loss: 0.1549 - accuracy: 0.9420 - val_loss: 0.0871 - val_accuracy: 0.9565\n",
      "Epoch 211/300\n",
      "13/13 [==============================] - 0s 4ms/step - loss: 0.1625 - accuracy: 0.9437 - val_loss: 0.0850 - val_accuracy: 0.9565\n",
      "Epoch 212/300\n",
      "13/13 [==============================] - 0s 4ms/step - loss: 0.1730 - accuracy: 0.9238 - val_loss: 0.0799 - val_accuracy: 0.9565\n",
      "Epoch 213/300\n",
      "13/13 [==============================] - 0s 4ms/step - loss: 0.1426 - accuracy: 0.9353 - val_loss: 0.0854 - val_accuracy: 0.9565\n",
      "Epoch 214/300\n",
      "13/13 [==============================] - 0s 4ms/step - loss: 0.1597 - accuracy: 0.9121 - val_loss: 0.0791 - val_accuracy: 0.9565\n",
      "Epoch 215/300\n",
      "13/13 [==============================] - 0s 4ms/step - loss: 0.1700 - accuracy: 0.9176 - val_loss: 0.1007 - val_accuracy: 0.9565\n",
      "Epoch 216/300\n",
      "13/13 [==============================] - 0s 4ms/step - loss: 0.1438 - accuracy: 0.9487 - val_loss: 0.1012 - val_accuracy: 0.9565\n",
      "Epoch 217/300\n",
      "13/13 [==============================] - 0s 4ms/step - loss: 0.1222 - accuracy: 0.9593 - val_loss: 0.0909 - val_accuracy: 0.9565\n",
      "Epoch 218/300\n",
      "13/13 [==============================] - 0s 4ms/step - loss: 0.1500 - accuracy: 0.9264 - val_loss: 0.0781 - val_accuracy: 0.9565\n",
      "Epoch 219/300\n",
      "13/13 [==============================] - 0s 4ms/step - loss: 0.1438 - accuracy: 0.9483 - val_loss: 0.0780 - val_accuracy: 0.9565\n",
      "Epoch 220/300\n",
      "13/13 [==============================] - 0s 4ms/step - loss: 0.1707 - accuracy: 0.9199 - val_loss: 0.0797 - val_accuracy: 0.9565\n",
      "Epoch 221/300\n",
      "13/13 [==============================] - 0s 4ms/step - loss: 0.1534 - accuracy: 0.9306 - val_loss: 0.0816 - val_accuracy: 0.9565\n",
      "Epoch 222/300\n",
      "13/13 [==============================] - 0s 4ms/step - loss: 0.1406 - accuracy: 0.9471 - val_loss: 0.0936 - val_accuracy: 0.9565\n",
      "Epoch 223/300\n",
      "13/13 [==============================] - 0s 5ms/step - loss: 0.1713 - accuracy: 0.9351 - val_loss: 0.1128 - val_accuracy: 0.9565\n",
      "Epoch 224/300\n",
      "13/13 [==============================] - 0s 4ms/step - loss: 0.1460 - accuracy: 0.9397 - val_loss: 0.0801 - val_accuracy: 0.9565\n",
      "Epoch 225/300\n",
      "13/13 [==============================] - 0s 4ms/step - loss: 0.1463 - accuracy: 0.9454 - val_loss: 0.0974 - val_accuracy: 0.9565\n",
      "Epoch 226/300\n",
      "13/13 [==============================] - 0s 4ms/step - loss: 0.1720 - accuracy: 0.9300 - val_loss: 0.1571 - val_accuracy: 0.9348\n",
      "Epoch 227/300\n",
      "13/13 [==============================] - 0s 4ms/step - loss: 0.2089 - accuracy: 0.9182 - val_loss: 0.1018 - val_accuracy: 0.9565\n",
      "Epoch 228/300\n",
      "13/13 [==============================] - 0s 4ms/step - loss: 0.1444 - accuracy: 0.9476 - val_loss: 0.0868 - val_accuracy: 0.9565\n",
      "Epoch 229/300\n",
      "13/13 [==============================] - 0s 4ms/step - loss: 0.1622 - accuracy: 0.9318 - val_loss: 0.0906 - val_accuracy: 0.9565\n",
      "Epoch 230/300\n"
     ]
    },
    {
     "name": "stdout",
     "output_type": "stream",
     "text": [
      "13/13 [==============================] - 0s 4ms/step - loss: 0.1334 - accuracy: 0.9380 - val_loss: 0.0945 - val_accuracy: 0.9565\n",
      "Epoch 231/300\n",
      "13/13 [==============================] - 0s 4ms/step - loss: 0.1521 - accuracy: 0.9435 - val_loss: 0.1234 - val_accuracy: 0.9565\n",
      "Epoch 232/300\n",
      "13/13 [==============================] - 0s 4ms/step - loss: 0.1402 - accuracy: 0.9420 - val_loss: 0.0814 - val_accuracy: 0.9565\n",
      "Epoch 233/300\n",
      "13/13 [==============================] - 0s 4ms/step - loss: 0.1409 - accuracy: 0.9564 - val_loss: 0.0805 - val_accuracy: 0.9565\n",
      "Epoch 234/300\n",
      "13/13 [==============================] - 0s 4ms/step - loss: 0.1545 - accuracy: 0.9322 - val_loss: 0.0798 - val_accuracy: 0.9565\n",
      "Epoch 235/300\n",
      "13/13 [==============================] - 0s 4ms/step - loss: 0.1578 - accuracy: 0.9472 - val_loss: 0.0775 - val_accuracy: 0.9565\n",
      "Epoch 236/300\n",
      "13/13 [==============================] - 0s 4ms/step - loss: 0.1555 - accuracy: 0.9408 - val_loss: 0.0967 - val_accuracy: 0.9565\n",
      "Epoch 237/300\n",
      "13/13 [==============================] - 0s 4ms/step - loss: 0.1460 - accuracy: 0.9497 - val_loss: 0.0772 - val_accuracy: 0.9565\n",
      "Epoch 238/300\n",
      "13/13 [==============================] - 0s 4ms/step - loss: 0.1967 - accuracy: 0.9140 - val_loss: 0.0783 - val_accuracy: 0.9565\n",
      "Epoch 239/300\n",
      "13/13 [==============================] - 0s 4ms/step - loss: 0.1413 - accuracy: 0.9454 - val_loss: 0.0773 - val_accuracy: 0.9565\n",
      "Epoch 240/300\n",
      "13/13 [==============================] - 0s 4ms/step - loss: 0.1191 - accuracy: 0.9583 - val_loss: 0.0879 - val_accuracy: 0.9565\n",
      "Epoch 241/300\n",
      "13/13 [==============================] - 0s 4ms/step - loss: 0.1438 - accuracy: 0.9333 - val_loss: 0.0934 - val_accuracy: 0.9565\n",
      "Epoch 242/300\n",
      "13/13 [==============================] - 0s 4ms/step - loss: 0.1280 - accuracy: 0.9551 - val_loss: 0.0885 - val_accuracy: 0.9565\n",
      "Epoch 243/300\n",
      "13/13 [==============================] - 0s 4ms/step - loss: 0.1444 - accuracy: 0.9331 - val_loss: 0.0913 - val_accuracy: 0.9565\n",
      "Epoch 244/300\n",
      "13/13 [==============================] - 0s 5ms/step - loss: 0.1379 - accuracy: 0.9490 - val_loss: 0.0822 - val_accuracy: 0.9565\n",
      "Epoch 245/300\n",
      "13/13 [==============================] - 0s 4ms/step - loss: 0.1374 - accuracy: 0.9375 - val_loss: 0.0811 - val_accuracy: 0.9565\n",
      "Epoch 246/300\n",
      "13/13 [==============================] - 0s 4ms/step - loss: 0.1158 - accuracy: 0.9505 - val_loss: 0.0877 - val_accuracy: 0.9565\n",
      "Epoch 247/300\n",
      "13/13 [==============================] - 0s 5ms/step - loss: 0.1531 - accuracy: 0.9347 - val_loss: 0.0987 - val_accuracy: 0.9565\n",
      "Epoch 248/300\n",
      "13/13 [==============================] - 0s 4ms/step - loss: 0.1651 - accuracy: 0.9427 - val_loss: 0.1618 - val_accuracy: 0.9348\n",
      "Epoch 249/300\n",
      "13/13 [==============================] - 0s 4ms/step - loss: 0.1251 - accuracy: 0.9453 - val_loss: 0.0945 - val_accuracy: 0.9565\n",
      "Epoch 250/300\n",
      "13/13 [==============================] - 0s 4ms/step - loss: 0.1363 - accuracy: 0.9518 - val_loss: 0.0745 - val_accuracy: 0.9565\n",
      "Epoch 251/300\n",
      "13/13 [==============================] - 0s 4ms/step - loss: 0.1614 - accuracy: 0.9128 - val_loss: 0.0780 - val_accuracy: 0.9565\n",
      "Epoch 252/300\n",
      "13/13 [==============================] - 0s 4ms/step - loss: 0.1214 - accuracy: 0.9624 - val_loss: 0.0800 - val_accuracy: 0.9565\n",
      "Epoch 253/300\n",
      "13/13 [==============================] - 0s 4ms/step - loss: 0.1355 - accuracy: 0.9501 - val_loss: 0.0773 - val_accuracy: 0.9565\n",
      "Epoch 254/300\n",
      "13/13 [==============================] - 0s 4ms/step - loss: 0.1406 - accuracy: 0.9293 - val_loss: 0.0848 - val_accuracy: 0.9565\n",
      "Epoch 255/300\n",
      "13/13 [==============================] - 0s 4ms/step - loss: 0.1387 - accuracy: 0.9342 - val_loss: 0.0870 - val_accuracy: 0.9565\n",
      "Epoch 256/300\n",
      "13/13 [==============================] - 0s 4ms/step - loss: 0.1288 - accuracy: 0.9463 - val_loss: 0.1073 - val_accuracy: 0.9565\n",
      "Epoch 257/300\n",
      "13/13 [==============================] - 0s 4ms/step - loss: 0.1304 - accuracy: 0.9523 - val_loss: 0.0761 - val_accuracy: 0.9565\n",
      "Epoch 258/300\n",
      "13/13 [==============================] - 0s 4ms/step - loss: 0.1457 - accuracy: 0.9355 - val_loss: 0.0823 - val_accuracy: 0.9565\n",
      "Epoch 259/300\n",
      "13/13 [==============================] - 0s 4ms/step - loss: 0.1336 - accuracy: 0.9502 - val_loss: 0.0830 - val_accuracy: 0.9565\n",
      "Epoch 260/300\n",
      "13/13 [==============================] - 0s 5ms/step - loss: 0.1419 - accuracy: 0.9420 - val_loss: 0.0748 - val_accuracy: 0.9565\n",
      "Epoch 261/300\n",
      "13/13 [==============================] - 0s 4ms/step - loss: 0.1923 - accuracy: 0.9106 - val_loss: 0.0869 - val_accuracy: 0.9565\n",
      "Epoch 262/300\n",
      "13/13 [==============================] - 0s 4ms/step - loss: 0.1336 - accuracy: 0.9477 - val_loss: 0.0754 - val_accuracy: 0.9565\n",
      "Epoch 263/300\n",
      "13/13 [==============================] - 0s 4ms/step - loss: 0.1253 - accuracy: 0.9591 - val_loss: 0.0830 - val_accuracy: 0.9565\n",
      "Epoch 264/300\n",
      "13/13 [==============================] - 0s 4ms/step - loss: 0.1456 - accuracy: 0.9341 - val_loss: 0.0889 - val_accuracy: 0.9565\n",
      "Epoch 265/300\n",
      "13/13 [==============================] - 0s 4ms/step - loss: 0.1481 - accuracy: 0.9379 - val_loss: 0.0753 - val_accuracy: 0.9565\n",
      "Epoch 266/300\n",
      "13/13 [==============================] - 0s 4ms/step - loss: 0.1297 - accuracy: 0.9501 - val_loss: 0.0862 - val_accuracy: 0.9565\n",
      "Epoch 267/300\n",
      "13/13 [==============================] - 0s 4ms/step - loss: 0.1430 - accuracy: 0.9378 - val_loss: 0.0876 - val_accuracy: 0.9565\n",
      "Epoch 268/300\n",
      "13/13 [==============================] - 0s 4ms/step - loss: 0.1361 - accuracy: 0.9370 - val_loss: 0.0736 - val_accuracy: 0.9565\n",
      "Epoch 269/300\n",
      "13/13 [==============================] - 0s 4ms/step - loss: 0.1780 - accuracy: 0.9151 - val_loss: 0.0951 - val_accuracy: 0.9565\n",
      "Epoch 270/300\n",
      "13/13 [==============================] - 0s 4ms/step - loss: 0.1379 - accuracy: 0.9465 - val_loss: 0.0888 - val_accuracy: 0.9565\n",
      "Epoch 271/300\n",
      "13/13 [==============================] - 0s 4ms/step - loss: 0.1403 - accuracy: 0.9406 - val_loss: 0.0910 - val_accuracy: 0.9565\n",
      "Epoch 272/300\n",
      "13/13 [==============================] - 0s 4ms/step - loss: 0.1348 - accuracy: 0.9389 - val_loss: 0.0871 - val_accuracy: 0.9565\n",
      "Epoch 273/300\n",
      "13/13 [==============================] - 0s 5ms/step - loss: 0.1409 - accuracy: 0.9461 - val_loss: 0.0962 - val_accuracy: 0.9565\n",
      "Epoch 274/300\n",
      "13/13 [==============================] - 0s 4ms/step - loss: 0.1329 - accuracy: 0.9408 - val_loss: 0.1121 - val_accuracy: 0.9565\n",
      "Epoch 275/300\n",
      "13/13 [==============================] - 0s 4ms/step - loss: 0.1429 - accuracy: 0.9445 - val_loss: 0.0996 - val_accuracy: 0.9565\n",
      "Epoch 276/300\n",
      "13/13 [==============================] - 0s 5ms/step - loss: 0.1474 - accuracy: 0.9513 - val_loss: 0.0960 - val_accuracy: 0.9565\n",
      "Epoch 277/300\n",
      "13/13 [==============================] - 0s 4ms/step - loss: 0.1388 - accuracy: 0.9447 - val_loss: 0.1031 - val_accuracy: 0.9565\n",
      "Epoch 278/300\n",
      "13/13 [==============================] - 0s 5ms/step - loss: 0.1456 - accuracy: 0.9450 - val_loss: 0.0968 - val_accuracy: 0.9565\n",
      "Epoch 279/300\n",
      "13/13 [==============================] - 0s 4ms/step - loss: 0.1279 - accuracy: 0.9537 - val_loss: 0.0731 - val_accuracy: 0.9565\n",
      "Epoch 280/300\n",
      "13/13 [==============================] - 0s 4ms/step - loss: 0.1544 - accuracy: 0.9513 - val_loss: 0.1163 - val_accuracy: 0.9565\n",
      "Epoch 281/300\n",
      "13/13 [==============================] - 0s 4ms/step - loss: 0.1702 - accuracy: 0.9371 - val_loss: 0.1506 - val_accuracy: 0.9348\n",
      "Epoch 282/300\n",
      "13/13 [==============================] - 0s 4ms/step - loss: 0.2113 - accuracy: 0.9173 - val_loss: 0.0712 - val_accuracy: 0.9565\n",
      "Epoch 283/300\n",
      "13/13 [==============================] - 0s 4ms/step - loss: 0.1269 - accuracy: 0.9470 - val_loss: 0.0803 - val_accuracy: 0.9783\n",
      "Epoch 284/300\n",
      "13/13 [==============================] - 0s 4ms/step - loss: 0.1608 - accuracy: 0.9253 - val_loss: 0.0708 - val_accuracy: 0.9565\n",
      "Epoch 285/300\n",
      "13/13 [==============================] - 0s 4ms/step - loss: 0.1398 - accuracy: 0.9394 - val_loss: 0.1254 - val_accuracy: 0.9565\n",
      "Epoch 286/300\n",
      "13/13 [==============================] - 0s 5ms/step - loss: 0.1770 - accuracy: 0.9204 - val_loss: 0.0981 - val_accuracy: 0.9565\n",
      "Epoch 287/300\n"
     ]
    },
    {
     "name": "stdout",
     "output_type": "stream",
     "text": [
      "13/13 [==============================] - 0s 4ms/step - loss: 0.1288 - accuracy: 0.9516 - val_loss: 0.0919 - val_accuracy: 0.9565\n",
      "Epoch 288/300\n",
      "13/13 [==============================] - 0s 4ms/step - loss: 0.1265 - accuracy: 0.9477 - val_loss: 0.0715 - val_accuracy: 0.9565\n",
      "Epoch 289/300\n",
      "13/13 [==============================] - 0s 4ms/step - loss: 0.1655 - accuracy: 0.9132 - val_loss: 0.0723 - val_accuracy: 0.9565\n",
      "Epoch 290/300\n",
      "13/13 [==============================] - 0s 4ms/step - loss: 0.1549 - accuracy: 0.9318 - val_loss: 0.0710 - val_accuracy: 0.9565\n",
      "Epoch 291/300\n",
      "13/13 [==============================] - 0s 4ms/step - loss: 0.1626 - accuracy: 0.9280 - val_loss: 0.0712 - val_accuracy: 0.9565\n",
      "Epoch 292/300\n",
      "13/13 [==============================] - 0s 4ms/step - loss: 0.1487 - accuracy: 0.9385 - val_loss: 0.0798 - val_accuracy: 0.9565\n",
      "Epoch 293/300\n",
      "13/13 [==============================] - 0s 4ms/step - loss: 0.1352 - accuracy: 0.9498 - val_loss: 0.0894 - val_accuracy: 0.9565\n",
      "Epoch 294/300\n",
      "13/13 [==============================] - 0s 4ms/step - loss: 0.1530 - accuracy: 0.9340 - val_loss: 0.0793 - val_accuracy: 0.9565\n",
      "Epoch 295/300\n",
      "13/13 [==============================] - 0s 4ms/step - loss: 0.1405 - accuracy: 0.9362 - val_loss: 0.0776 - val_accuracy: 0.9783\n",
      "Epoch 296/300\n",
      "13/13 [==============================] - 0s 4ms/step - loss: 0.1340 - accuracy: 0.9475 - val_loss: 0.0871 - val_accuracy: 0.9565\n",
      "Epoch 297/300\n",
      "13/13 [==============================] - 0s 4ms/step - loss: 0.1116 - accuracy: 0.9452 - val_loss: 0.0869 - val_accuracy: 0.9565\n",
      "Epoch 298/300\n",
      "13/13 [==============================] - 0s 4ms/step - loss: 0.1466 - accuracy: 0.9279 - val_loss: 0.1433 - val_accuracy: 0.9348\n",
      "Epoch 299/300\n",
      "13/13 [==============================] - 0s 4ms/step - loss: 0.1263 - accuracy: 0.9563 - val_loss: 0.0874 - val_accuracy: 0.9565\n",
      "Epoch 300/300\n",
      "13/13 [==============================] - 0s 4ms/step - loss: 0.1365 - accuracy: 0.9491 - val_loss: 0.1006 - val_accuracy: 0.9565\n"
     ]
    },
    {
     "data": {
      "text/plain": [
       "<tensorflow.python.keras.callbacks.History at 0x7fba44412160>"
      ]
     },
     "execution_count": 23,
     "metadata": {},
     "output_type": "execute_result"
    }
   ],
   "source": [
    "network.fit(X_train, y_train.astype(float), batch_size=32, epochs=300, validation_split=0.1)\n",
    "# validation split: percentaage of samples not used for training, used for validating at every epoch"
   ]
  },
  {
   "cell_type": "markdown",
   "metadata": {},
   "source": [
    "#### Predicting"
   ]
  },
  {
   "cell_type": "markdown",
   "metadata": {},
   "source": [
    "What does the network predict for the first 10 test entries??"
   ]
  },
  {
   "cell_type": "code",
   "execution_count": 24,
   "metadata": {},
   "outputs": [
    {
     "data": {
      "text/plain": [
       "array([[1.   ],\n",
       "       [0.004],\n",
       "       [0.016],\n",
       "       [0.117],\n",
       "       [1.   ],\n",
       "       [0.974],\n",
       "       [0.998],\n",
       "       [0.019],\n",
       "       [0.999],\n",
       "       [0.004]], dtype=float32)"
      ]
     },
     "execution_count": 24,
     "metadata": {},
     "output_type": "execute_result"
    }
   ],
   "source": [
    "# predictions\n",
    "network.predict(X_test)[:10].round(3)"
   ]
  },
  {
   "cell_type": "code",
   "execution_count": 25,
   "metadata": {},
   "outputs": [
    {
     "data": {
      "text/plain": [
       "121    1\n",
       "322    0\n",
       "55     0\n",
       "89     0\n",
       "317    1\n",
       "253    1\n",
       "64     1\n",
       "185    0\n",
       "35     1\n",
       "380    0\n",
       "Name: is_cancer, dtype: int64"
      ]
     },
     "execution_count": 25,
     "metadata": {},
     "output_type": "execute_result"
    }
   ],
   "source": [
    "# real\n",
    "y_test[:10]"
   ]
  },
  {
   "cell_type": "code",
   "execution_count": 26,
   "metadata": {},
   "outputs": [],
   "source": [
    "from sklearn.metrics import accuracy_score"
   ]
  },
  {
   "cell_type": "code",
   "execution_count": 27,
   "metadata": {},
   "outputs": [
    {
     "data": {
      "text/plain": [
       "0.9538461538461539"
      ]
     },
     "execution_count": 27,
     "metadata": {},
     "output_type": "execute_result"
    }
   ],
   "source": [
    "accuracy_score(network.predict(X_train) > 0.5, y_train)"
   ]
  },
  {
   "cell_type": "code",
   "execution_count": 28,
   "metadata": {},
   "outputs": [
    {
     "data": {
      "text/plain": [
       "0.9473684210526315"
      ]
     },
     "execution_count": 28,
     "metadata": {},
     "output_type": "execute_result"
    }
   ],
   "source": [
    "accuracy_score(network.predict(X_test) > 0.5, y_test)"
   ]
  },
  {
   "cell_type": "markdown",
   "metadata": {},
   "source": [
    "Not better than logistic regression in this case. We may need to tweak the number of layers / number of nodes per layer / number of epochs of training"
   ]
  },
  {
   "cell_type": "markdown",
   "metadata": {},
   "source": [
    "#### Exploration of layers"
   ]
  },
  {
   "cell_type": "code",
   "execution_count": 29,
   "metadata": {},
   "outputs": [
    {
     "data": {
      "text/plain": [
       "[<tensorflow.python.keras.layers.core.Dense at 0x7fba485cad30>,\n",
       " <tensorflow.python.keras.layers.core.Dense at 0x7fba485caee0>]"
      ]
     },
     "execution_count": 29,
     "metadata": {},
     "output_type": "execute_result"
    }
   ],
   "source": [
    "network.layers"
   ]
  },
  {
   "cell_type": "code",
   "execution_count": 30,
   "metadata": {},
   "outputs": [
    {
     "data": {
      "text/plain": [
       "(30, 10)"
      ]
     },
     "execution_count": 30,
     "metadata": {},
     "output_type": "execute_result"
    }
   ],
   "source": [
    "network.layers[0].get_weights()[0].shape"
   ]
  },
  {
   "cell_type": "code",
   "execution_count": 32,
   "metadata": {},
   "outputs": [
    {
     "data": {
      "text/plain": [
       "array([ 0.23903918,  0.2004804 , -0.11200532,  0.14311153, -0.06826484,\n",
       "        0.36145455, -0.3006597 ,  0.24546999, -0.09802258, -0.16278094,\n",
       "       -0.03159919, -0.153005  , -0.08250806, -0.29121643,  0.09341976,\n",
       "       -0.10103932,  0.02342755,  0.11205593,  0.15205896,  0.17547566,\n",
       "       -0.317768  ,  0.15120608,  0.34630698, -0.27591798, -0.37277803,\n",
       "       -0.26956984, -0.17163451,  0.16320688, -0.08697736,  0.06964096],\n",
       "      dtype=float32)"
      ]
     },
     "execution_count": 32,
     "metadata": {},
     "output_type": "execute_result"
    }
   ],
   "source": [
    "network.layers[0].get_weights()[0][:, 1]"
   ]
  },
  {
   "cell_type": "code",
   "execution_count": 33,
   "metadata": {},
   "outputs": [
    {
     "data": {
      "text/plain": [
       "array([[-0.39981416],\n",
       "       [-0.5056711 ],\n",
       "       [-0.56330764],\n",
       "       [ 0.33669275],\n",
       "       [ 0.59021086],\n",
       "       [-0.24454957],\n",
       "       [ 0.34520212],\n",
       "       [-0.57625693],\n",
       "       [-0.66529614],\n",
       "       [-0.19779699]], dtype=float32)"
      ]
     },
     "execution_count": 33,
     "metadata": {},
     "output_type": "execute_result"
    }
   ],
   "source": [
    "network.layers[1].get_weights()[0]"
   ]
  },
  {
   "cell_type": "markdown",
   "metadata": {},
   "source": [
    "## Deep Learning for Computer Vision"
   ]
  },
  {
   "cell_type": "markdown",
   "metadata": {},
   "source": [
    "Lets classify hand-written digits"
   ]
  },
  {
   "cell_type": "markdown",
   "metadata": {},
   "source": [
    "The problem: classification in the MNIST dataset\n",
    " * **classify** grayscale images \n",
    " * of handwritten digits\n",
    " * 28 pixels by 28 pixels\n",
    " * into their 10 categories (0 to 9)"
   ]
  },
  {
   "cell_type": "markdown",
   "metadata": {},
   "source": [
    "The MNIST dataset comes pre-loaded in Keras, in the form of a set of four Numpy arrays:"
   ]
  },
  {
   "cell_type": "code",
   "execution_count": 34,
   "metadata": {},
   "outputs": [],
   "source": [
    "from tensorflow.keras.datasets import mnist\n",
    "\n",
    "(train_images, train_labels), (test_images, test_labels) = mnist.load_data()"
   ]
  },
  {
   "cell_type": "code",
   "execution_count": 35,
   "metadata": {},
   "outputs": [
    {
     "data": {
      "text/plain": [
       "numpy.ndarray"
      ]
     },
     "execution_count": 35,
     "metadata": {},
     "output_type": "execute_result"
    }
   ],
   "source": [
    "type(train_images)"
   ]
  },
  {
   "cell_type": "code",
   "execution_count": 36,
   "metadata": {},
   "outputs": [
    {
     "data": {
      "text/plain": [
       "(60000, 28, 28)"
      ]
     },
     "execution_count": 36,
     "metadata": {},
     "output_type": "execute_result"
    }
   ],
   "source": [
    "train_images.shape"
   ]
  },
  {
   "cell_type": "code",
   "execution_count": 43,
   "metadata": {},
   "outputs": [
    {
     "data": {
      "text/plain": [
       "<matplotlib.image.AxesImage at 0x7fb9cd232520>"
      ]
     },
     "execution_count": 43,
     "metadata": {},
     "output_type": "execute_result"
    },
    {
     "data": {
      "image/png": "[encoded data removed]",
      "text/plain": [
       "<Figure size 432x288 with 1 Axes>"
      ]
     },
     "metadata": {
      "needs_background": "light"
     },
     "output_type": "display_data"
    }
   ],
   "source": [
    "plt.imshow(train_images[98], cmap=\"gray\")"
   ]
  },
  {
   "cell_type": "code",
   "execution_count": 44,
   "metadata": {},
   "outputs": [
    {
     "data": {
      "text/plain": [
       "3"
      ]
     },
     "execution_count": 44,
     "metadata": {},
     "output_type": "execute_result"
    }
   ],
   "source": [
    "train_labels[98]"
   ]
  },
  {
   "cell_type": "code",
   "execution_count": 45,
   "metadata": {},
   "outputs": [
    {
     "data": {
      "image/png": "[encoded data removed]",
      "text/plain": [
       "<Figure size 1440x1440 with 10 Axes>"
      ]
     },
     "metadata": {
      "needs_background": "light"
     },
     "output_type": "display_data"
    }
   ],
   "source": [
    "n_images = 10\n",
    "fig, axs = plt.subplots(1, n_images, figsize=(20, 20))\n",
    "for i in range(n_images):\n",
    "    axs[i].imshow(train_images[i], cmap=\"gray\")"
   ]
  },
  {
   "cell_type": "code",
   "execution_count": 46,
   "metadata": {},
   "outputs": [
    {
     "data": {
      "text/plain": [
       "array([5, 0, 4, 1, 9, 2, 1, 3, 1, 4], dtype=uint8)"
      ]
     },
     "execution_count": 46,
     "metadata": {},
     "output_type": "execute_result"
    }
   ],
   "source": [
    "train_labels[:n_images]"
   ]
  },
  {
   "cell_type": "markdown",
   "metadata": {},
   "source": [
    "### Not DL model"
   ]
  },
  {
   "cell_type": "code",
   "execution_count": 47,
   "metadata": {},
   "outputs": [],
   "source": [
    "from sklearn.ensemble import GradientBoostingClassifier"
   ]
  },
  {
   "cell_type": "code",
   "execution_count": 48,
   "metadata": {},
   "outputs": [
    {
     "data": {
      "text/plain": [
       "(28, 28)"
      ]
     },
     "execution_count": 48,
     "metadata": {},
     "output_type": "execute_result"
    }
   ],
   "source": [
    "train_images[0].shape"
   ]
  },
  {
   "cell_type": "code",
   "execution_count": 49,
   "metadata": {},
   "outputs": [],
   "source": [
    "X_train = train_images.reshape(train_images.shape[0], -1)\n",
    "X_test = test_images.reshape(test_images.shape[0], -1)"
   ]
  },
  {
   "cell_type": "code",
   "execution_count": 51,
   "metadata": {},
   "outputs": [
    {
     "data": {
      "text/plain": [
       "(28, 28)"
      ]
     },
     "execution_count": 51,
     "metadata": {},
     "output_type": "execute_result"
    }
   ],
   "source": [
    "train_images[0].shape"
   ]
  },
  {
   "cell_type": "code",
   "execution_count": 53,
   "metadata": {},
   "outputs": [
    {
     "data": {
      "text/plain": [
       "784"
      ]
     },
     "execution_count": 53,
     "metadata": {},
     "output_type": "execute_result"
    }
   ],
   "source": [
    "28 * 28"
   ]
  },
  {
   "cell_type": "code",
   "execution_count": 52,
   "metadata": {},
   "outputs": [
    {
     "data": {
      "text/plain": [
       "(784,)"
      ]
     },
     "execution_count": 52,
     "metadata": {},
     "output_type": "execute_result"
    }
   ],
   "source": [
    "X_train[0].shape"
   ]
  },
  {
   "cell_type": "code",
   "execution_count": 54,
   "metadata": {},
   "outputs": [
    {
     "data": {
      "text/plain": [
       "(60000, 28, 28)"
      ]
     },
     "execution_count": 54,
     "metadata": {},
     "output_type": "execute_result"
    }
   ],
   "source": [
    "train_images.shape"
   ]
  },
  {
   "cell_type": "code",
   "execution_count": 55,
   "metadata": {},
   "outputs": [
    {
     "data": {
      "text/plain": [
       "(60000, 784)"
      ]
     },
     "execution_count": 55,
     "metadata": {},
     "output_type": "execute_result"
    }
   ],
   "source": [
    "X_train.shape"
   ]
  },
  {
   "cell_type": "code",
   "execution_count": 56,
   "metadata": {},
   "outputs": [
    {
     "data": {
      "text/plain": [
       "array([[0, 0, 0, ..., 0, 0, 0],\n",
       "       [0, 0, 0, ..., 0, 0, 0],\n",
       "       [0, 0, 0, ..., 0, 0, 0],\n",
       "       ...,\n",
       "       [0, 0, 0, ..., 0, 0, 0],\n",
       "       [0, 0, 0, ..., 0, 0, 0],\n",
       "       [0, 0, 0, ..., 0, 0, 0]], dtype=uint8)"
      ]
     },
     "execution_count": 56,
     "metadata": {},
     "output_type": "execute_result"
    }
   ],
   "source": [
    "X_train"
   ]
  },
  {
   "cell_type": "markdown",
   "metadata": {},
   "source": [
    "#### Training"
   ]
  },
  {
   "cell_type": "code",
   "execution_count": 47,
   "metadata": {},
   "outputs": [],
   "source": [
    "from sklearn.ensemble import GradientBoostingClassifier"
   ]
  },
  {
   "cell_type": "code",
   "execution_count": 58,
   "metadata": {},
   "outputs": [],
   "source": [
    "model = GradientBoostingClassifier(n_estimators=10, max_depth=5, max_features=0.1)"
   ]
  },
  {
   "cell_type": "code",
   "execution_count": 59,
   "metadata": {},
   "outputs": [
    {
     "name": "stdout",
     "output_type": "stream",
     "text": [
      "CPU times: user 1min 7s, sys: 0 ns, total: 1min 7s\n",
      "Wall time: 1min 7s\n"
     ]
    },
    {
     "data": {
      "text/plain": [
       "GradientBoostingClassifier(max_depth=5, max_features=0.1, n_estimators=10)"
      ]
     },
     "execution_count": 59,
     "metadata": {},
     "output_type": "execute_result"
    }
   ],
   "source": [
    "%%time\n",
    "model.fit(X_train, train_labels)"
   ]
  },
  {
   "cell_type": "markdown",
   "metadata": {},
   "source": [
    "#### Predicting"
   ]
  },
  {
   "cell_type": "markdown",
   "metadata": {},
   "source": [
    "Lets see how this works on the first 10 test images"
   ]
  },
  {
   "cell_type": "code",
   "execution_count": 60,
   "metadata": {},
   "outputs": [
    {
     "data": {
      "text/plain": [
       "array([7, 2, 1, 0, 4, 1, 4, 9, 5, 9], dtype=uint8)"
      ]
     },
     "execution_count": 60,
     "metadata": {},
     "output_type": "execute_result"
    }
   ],
   "source": [
    "test_labels[:10]"
   ]
  },
  {
   "cell_type": "code",
   "execution_count": 61,
   "metadata": {},
   "outputs": [
    {
     "data": {
      "image/png": "[encoded data removed]",
      "text/plain": [
       "<Figure size 1440x1440 with 10 Axes>"
      ]
     },
     "metadata": {
      "needs_background": "light"
     },
     "output_type": "display_data"
    }
   ],
   "source": [
    "n_images = 10\n",
    "fig, axs = plt.subplots(1, n_images, figsize=(20, 20))\n",
    "for i in range(n_images):\n",
    "    axs[i].imshow(test_images[i], cmap=\"gray\")"
   ]
  },
  {
   "cell_type": "code",
   "execution_count": 62,
   "metadata": {},
   "outputs": [
    {
     "data": {
      "text/plain": [
       "array([7, 2, 1, 0, 4, 1, 4, 9, 5, 9], dtype=uint8)"
      ]
     },
     "execution_count": 62,
     "metadata": {},
     "output_type": "execute_result"
    }
   ],
   "source": [
    "model.predict(X_test[:10])"
   ]
  },
  {
   "cell_type": "markdown",
   "metadata": {},
   "source": [
    "Lets now see some examples not correctly predicted"
   ]
  },
  {
   "cell_type": "code",
   "execution_count": 63,
   "metadata": {},
   "outputs": [],
   "source": [
    "error_indices = np.argwhere(test_labels[:1000] != model.predict(X_test[:1000]))"
   ]
  },
  {
   "cell_type": "code",
   "execution_count": 64,
   "metadata": {},
   "outputs": [
    {
     "data": {
      "image/png": "[encoded data removed]",
      "text/plain": [
       "<Figure size 1440x1440 with 10 Axes>"
      ]
     },
     "metadata": {
      "needs_background": "light"
     },
     "output_type": "display_data"
    }
   ],
   "source": [
    "n_images = 10\n",
    "fig, axs = plt.subplots(1, n_images, figsize=(20, 20))\n",
    "for i, index in zip(range(n_images), error_indices):\n",
    "    axs[i].imshow(test_images[index][0], cmap=\"gray\")"
   ]
  },
  {
   "cell_type": "code",
   "execution_count": 67,
   "metadata": {},
   "outputs": [
    {
     "data": {
      "text/plain": [
       "array([4, 3, 7, 9, 7, 1, 2, 7, 4, 2], dtype=uint8)"
      ]
     },
     "execution_count": 67,
     "metadata": {},
     "output_type": "execute_result"
    }
   ],
   "source": [
    "test_labels[error_indices].flatten()[:10]"
   ]
  },
  {
   "cell_type": "code",
   "execution_count": 68,
   "metadata": {},
   "outputs": [
    {
     "data": {
      "text/plain": [
       "array([0, 2, 9, 7, 9, 3, 7, 4, 9, 9], dtype=uint8)"
      ]
     },
     "execution_count": 68,
     "metadata": {},
     "output_type": "execute_result"
    }
   ],
   "source": [
    "model.predict(X_test[error_indices.flatten()])[:10]"
   ]
  },
  {
   "cell_type": "markdown",
   "metadata": {},
   "source": [
    "#### Accuracy score"
   ]
  },
  {
   "cell_type": "code",
   "execution_count": 69,
   "metadata": {},
   "outputs": [
    {
     "data": {
      "text/plain": [
       "0.91465"
      ]
     },
     "execution_count": 69,
     "metadata": {},
     "output_type": "execute_result"
    }
   ],
   "source": [
    "model.score(X_train, train_labels)"
   ]
  },
  {
   "cell_type": "code",
   "execution_count": 70,
   "metadata": {},
   "outputs": [
    {
     "data": {
      "text/plain": [
       "0.9072"
      ]
     },
     "execution_count": 70,
     "metadata": {},
     "output_type": "execute_result"
    }
   ],
   "source": [
    "model.score(X_test, test_labels)"
   ]
  },
  {
   "cell_type": "markdown",
   "metadata": {},
   "source": [
    "### Artificial neural network"
   ]
  },
  {
   "cell_type": "markdown",
   "metadata": {},
   "source": [
    "Our workflow will be as follow: \n",
    " * first we will present our neural network with the training data, `train_images` and `train_labels`...\n",
    " * this way, the network will then learn to associate images and labels\n",
    " * finally, we will ask the network to produce predictions for `test_images`...\n",
    " * and we will verify if these predictions match the labels from `test_labels`"
   ]
  },
  {
   "cell_type": "code",
   "execution_count": 71,
   "metadata": {},
   "outputs": [],
   "source": [
    "from tensorflow.keras import models\n",
    "from tensorflow.keras import layers"
   ]
  },
  {
   "cell_type": "code",
   "execution_count": 72,
   "metadata": {},
   "outputs": [],
   "source": [
    "network = models.Sequential()"
   ]
  },
  {
   "cell_type": "markdown",
   "metadata": {},
   "source": [
    " * Here our network consists of a sequence of two `Dense` layers, which are densely-connected (also called \"fully-connected\") neural layers\n",
    " * The second (and last) layer is a 10-way \"softmax\" layer, which means...\n",
    " * it will return an array of 10 probability scores (summing to 1)\n",
    " * each score being the probability that the current digit image belongs to one of our 10 digit classes."
   ]
  },
  {
   "cell_type": "code",
   "execution_count": 73,
   "metadata": {},
   "outputs": [],
   "source": [
    "network.add(layers.Dense(100, activation='relu', input_shape=(784,)))\n",
    "network.add(layers.Dense(10, activation='softmax'))"
   ]
  },
  {
   "cell_type": "code",
   "execution_count": 74,
   "metadata": {},
   "outputs": [],
   "source": [
    "network.compile(\n",
    "    optimizer='rmsprop',\n",
    "    loss='categorical_crossentropy',\n",
    "    metrics=['accuracy']\n",
    ")"
   ]
  },
  {
   "cell_type": "markdown",
   "metadata": {},
   "source": [
    "Before training:\n",
    " * reshape every 28x28 image into a 784 vector\n",
    " * scaling it so that all values are in the `[0, 1]` interval"
   ]
  },
  {
   "cell_type": "code",
   "execution_count": 75,
   "metadata": {},
   "outputs": [],
   "source": [
    "train_vectors = train_images.reshape((60000, 28 * 28)).astype('float32') / 255\n",
    "test_vectors = test_images.reshape((10000, 28 * 28)).astype('float32') / 255"
   ]
  },
  {
   "cell_type": "code",
   "execution_count": 76,
   "metadata": {},
   "outputs": [
    {
     "data": {
      "text/plain": [
       "(60000, 784)"
      ]
     },
     "execution_count": 76,
     "metadata": {},
     "output_type": "execute_result"
    }
   ],
   "source": [
    "train_vectors.shape"
   ]
  },
  {
   "cell_type": "markdown",
   "metadata": {},
   "source": [
    "We also need to categorically encode the labels, a step which we explain in chapter 3:"
   ]
  },
  {
   "cell_type": "code",
   "execution_count": 77,
   "metadata": {},
   "outputs": [],
   "source": [
    "from tensorflow.keras.utils import to_categorical"
   ]
  },
  {
   "cell_type": "code",
   "execution_count": 78,
   "metadata": {},
   "outputs": [
    {
     "data": {
      "text/plain": [
       "array([5, 0, 4, ..., 5, 6, 8], dtype=uint8)"
      ]
     },
     "execution_count": 78,
     "metadata": {},
     "output_type": "execute_result"
    }
   ],
   "source": [
    "train_labels"
   ]
  },
  {
   "cell_type": "code",
   "execution_count": 79,
   "metadata": {},
   "outputs": [],
   "source": [
    "train_labels_hot = to_categorical(train_labels)\n",
    "test_labels_hot = to_categorical(test_labels)"
   ]
  },
  {
   "cell_type": "code",
   "execution_count": 80,
   "metadata": {},
   "outputs": [
    {
     "data": {
      "text/plain": [
       "array([[0., 0., 0., 0., 0., 1., 0., 0., 0., 0.],\n",
       "       [1., 0., 0., 0., 0., 0., 0., 0., 0., 0.],\n",
       "       [0., 0., 0., 0., 1., 0., 0., 0., 0., 0.],\n",
       "       [0., 1., 0., 0., 0., 0., 0., 0., 0., 0.],\n",
       "       [0., 0., 0., 0., 0., 0., 0., 0., 0., 1.],\n",
       "       [0., 0., 1., 0., 0., 0., 0., 0., 0., 0.],\n",
       "       [0., 1., 0., 0., 0., 0., 0., 0., 0., 0.],\n",
       "       [0., 0., 0., 1., 0., 0., 0., 0., 0., 0.],\n",
       "       [0., 1., 0., 0., 0., 0., 0., 0., 0., 0.],\n",
       "       [0., 0., 0., 0., 1., 0., 0., 0., 0., 0.]], dtype=float32)"
      ]
     },
     "execution_count": 80,
     "metadata": {},
     "output_type": "execute_result"
    }
   ],
   "source": [
    "train_labels_hot[:10]"
   ]
  },
  {
   "cell_type": "markdown",
   "metadata": {},
   "source": [
    "We are now ready to train our network, which in Keras is done via a call to the `fit` method of the network: \n",
    "we \"fit\" the model to its training data."
   ]
  },
  {
   "cell_type": "markdown",
   "metadata": {},
   "source": [
    "In each forward pass, we ain't need to pass 60k images, we can pass batches and have more than one training step per epoch"
   ]
  },
  {
   "cell_type": "code",
   "execution_count": 81,
   "metadata": {},
   "outputs": [
    {
     "name": "stdout",
     "output_type": "stream",
     "text": [
      "Model: \"sequential_1\"\n",
      "_________________________________________________________________\n",
      "Layer (type)                 Output Shape              Param #   \n",
      "=================================================================\n",
      "dense_2 (Dense)              (None, 100)               78500     \n",
      "_________________________________________________________________\n",
      "dense_3 (Dense)              (None, 10)                1010      \n",
      "=================================================================\n",
      "Total params: 79,510\n",
      "Trainable params: 79,510\n",
      "Non-trainable params: 0\n",
      "_________________________________________________________________\n"
     ]
    }
   ],
   "source": [
    "network.summary()"
   ]
  },
  {
   "cell_type": "code",
   "execution_count": 82,
   "metadata": {
    "scrolled": true
   },
   "outputs": [
    {
     "name": "stdout",
     "output_type": "stream",
     "text": [
      "Epoch 1/20\n",
      "422/422 [==============================] - 2s 3ms/step - loss: 0.5929 - accuracy: 0.8419 - val_loss: 0.1816 - val_accuracy: 0.9525\n",
      "Epoch 2/20\n",
      "422/422 [==============================] - 1s 2ms/step - loss: 0.2017 - accuracy: 0.9441 - val_loss: 0.1353 - val_accuracy: 0.9613\n",
      "Epoch 3/20\n",
      "422/422 [==============================] - 1s 2ms/step - loss: 0.1402 - accuracy: 0.9598 - val_loss: 0.1091 - val_accuracy: 0.9700\n",
      "Epoch 4/20\n",
      "422/422 [==============================] - 1s 2ms/step - loss: 0.1058 - accuracy: 0.9697 - val_loss: 0.0970 - val_accuracy: 0.9722\n",
      "Epoch 5/20\n",
      "422/422 [==============================] - 1s 2ms/step - loss: 0.0876 - accuracy: 0.9743 - val_loss: 0.0875 - val_accuracy: 0.9758\n",
      "Epoch 6/20\n",
      "422/422 [==============================] - 1s 2ms/step - loss: 0.0700 - accuracy: 0.9792 - val_loss: 0.0788 - val_accuracy: 0.9787\n",
      "Epoch 7/20\n",
      "422/422 [==============================] - 1s 3ms/step - loss: 0.0605 - accuracy: 0.9822 - val_loss: 0.0769 - val_accuracy: 0.9787\n",
      "Epoch 8/20\n",
      "422/422 [==============================] - 1s 2ms/step - loss: 0.0539 - accuracy: 0.9844 - val_loss: 0.0828 - val_accuracy: 0.9752\n",
      "Epoch 9/20\n",
      "422/422 [==============================] - 1s 2ms/step - loss: 0.0459 - accuracy: 0.9865 - val_loss: 0.0797 - val_accuracy: 0.9782\n",
      "Epoch 10/20\n",
      "422/422 [==============================] - 1s 2ms/step - loss: 0.0425 - accuracy: 0.9878 - val_loss: 0.0848 - val_accuracy: 0.9755\n",
      "Epoch 11/20\n",
      "422/422 [==============================] - 1s 2ms/step - loss: 0.0378 - accuracy: 0.9896 - val_loss: 0.0774 - val_accuracy: 0.9797\n",
      "Epoch 12/20\n",
      "422/422 [==============================] - 1s 2ms/step - loss: 0.0326 - accuracy: 0.9904 - val_loss: 0.0803 - val_accuracy: 0.9793\n",
      "Epoch 13/20\n",
      "422/422 [==============================] - 1s 2ms/step - loss: 0.0309 - accuracy: 0.9913 - val_loss: 0.0775 - val_accuracy: 0.9802\n",
      "Epoch 14/20\n",
      "422/422 [==============================] - 1s 2ms/step - loss: 0.0244 - accuracy: 0.9931 - val_loss: 0.0792 - val_accuracy: 0.9800\n",
      "Epoch 15/20\n",
      "422/422 [==============================] - 1s 2ms/step - loss: 0.0222 - accuracy: 0.9944 - val_loss: 0.0840 - val_accuracy: 0.9797\n",
      "Epoch 16/20\n",
      "422/422 [==============================] - 1s 2ms/step - loss: 0.0187 - accuracy: 0.9951 - val_loss: 0.0812 - val_accuracy: 0.9792\n",
      "Epoch 17/20\n",
      "422/422 [==============================] - 1s 2ms/step - loss: 0.0175 - accuracy: 0.9956 - val_loss: 0.0816 - val_accuracy: 0.9800\n",
      "Epoch 18/20\n",
      "422/422 [==============================] - 1s 2ms/step - loss: 0.0161 - accuracy: 0.9960 - val_loss: 0.0853 - val_accuracy: 0.9793\n",
      "Epoch 19/20\n",
      "422/422 [==============================] - 1s 2ms/step - loss: 0.0137 - accuracy: 0.9969 - val_loss: 0.0849 - val_accuracy: 0.9800\n",
      "Epoch 20/20\n",
      "422/422 [==============================] - 1s 2ms/step - loss: 0.0125 - accuracy: 0.9969 - val_loss: 0.0889 - val_accuracy: 0.9785\n",
      "CPU times: user 1min 3s, sys: 5.28 s, total: 1min 8s\n",
      "Wall time: 21 s\n"
     ]
    },
    {
     "data": {
      "text/plain": [
       "<tensorflow.python.keras.callbacks.History at 0x7fb9abccfbe0>"
      ]
     },
     "execution_count": 82,
     "metadata": {},
     "output_type": "execute_result"
    }
   ],
   "source": [
    "%%time\n",
    "network.fit(train_vectors, train_labels_hot, epochs=20, batch_size=128, validation_split=0.1)\n",
    "# no gpu"
   ]
  },
  {
   "cell_type": "code",
   "execution_count": 83,
   "metadata": {},
   "outputs": [
    {
     "data": {
      "text/plain": [
       "<matplotlib.legend.Legend at 0x7fb995e489a0>"
      ]
     },
     "execution_count": 83,
     "metadata": {},
     "output_type": "execute_result"
    },
    {
     "data": {
      "image/png": "[encoded data removed]",
      "text/plain": [
       "<Figure size 432x288 with 1 Axes>"
      ]
     },
     "metadata": {
      "needs_background": "light"
     },
     "output_type": "display_data"
    }
   ],
   "source": [
    "plt.plot(network.history.history[\"accuracy\"], label=\"train\")\n",
    "plt.plot(network.history.history[\"val_accuracy\"], label=\"validation\")\n",
    "plt.legend()"
   ]
  },
  {
   "cell_type": "code",
   "execution_count": 84,
   "metadata": {},
   "outputs": [
    {
     "name": "stdout",
     "output_type": "stream",
     "text": [
      "313/313 [==============================] - 0s 1ms/step - loss: 0.0934 - accuracy: 0.9768\n"
     ]
    }
   ],
   "source": [
    "_, test_acc = network.evaluate(test_vectors, test_labels_hot)"
   ]
  },
  {
   "cell_type": "code",
   "execution_count": 85,
   "metadata": {},
   "outputs": [
    {
     "data": {
      "text/plain": [
       "0.9768000245094299"
      ]
     },
     "execution_count": 85,
     "metadata": {},
     "output_type": "execute_result"
    }
   ],
   "source": [
    "test_acc"
   ]
  },
  {
   "cell_type": "code",
   "execution_count": 86,
   "metadata": {},
   "outputs": [
    {
     "data": {
      "image/png": "[encoded data removed]",
      "text/plain": [
       "<Figure size 1440x1440 with 10 Axes>"
      ]
     },
     "metadata": {
      "needs_background": "light"
     },
     "output_type": "display_data"
    }
   ],
   "source": [
    "n_images = 10\n",
    "fig, axs = plt.subplots(1, n_images, figsize=(20, 20))\n",
    "for i in range(n_images):\n",
    "    axs[i].imshow(test_images[i], cmap=\"gray\")"
   ]
  },
  {
   "cell_type": "markdown",
   "metadata": {},
   "source": [
    "Some examples"
   ]
  },
  {
   "cell_type": "code",
   "execution_count": 87,
   "metadata": {},
   "outputs": [
    {
     "data": {
      "text/plain": [
       "array([7, 2, 1, 0, 4, 1, 4, 9, 5, 9], dtype=uint8)"
      ]
     },
     "execution_count": 87,
     "metadata": {},
     "output_type": "execute_result"
    }
   ],
   "source": [
    "test_labels[:10]"
   ]
  },
  {
   "cell_type": "code",
   "execution_count": 88,
   "metadata": {},
   "outputs": [
    {
     "data": {
      "text/plain": [
       "array([7, 2, 1, 0, 4, 1, 4, 9, 5, 9])"
      ]
     },
     "execution_count": 88,
     "metadata": {},
     "output_type": "execute_result"
    }
   ],
   "source": [
    "np.argmax(network.predict(test_vectors), axis=-1)[:10]"
   ]
  },
  {
   "cell_type": "markdown",
   "metadata": {},
   "source": [
    "What about the previous errors with XGBoost"
   ]
  },
  {
   "cell_type": "code",
   "execution_count": 89,
   "metadata": {},
   "outputs": [
    {
     "data": {
      "image/png": "[encoded data removed]",
      "text/plain": [
       "<Figure size 1440x1440 with 10 Axes>"
      ]
     },
     "metadata": {
      "needs_background": "light"
     },
     "output_type": "display_data"
    }
   ],
   "source": [
    "n_images = 10\n",
    "fig, axs = plt.subplots(1, n_images, figsize=(20, 20))\n",
    "for i, index in zip(range(n_images), error_indices):\n",
    "    axs[i].imshow(test_images[index][0], cmap=\"gray\")"
   ]
  },
  {
   "cell_type": "code",
   "execution_count": 90,
   "metadata": {},
   "outputs": [
    {
     "data": {
      "text/plain": [
       "array([4, 3, 7, 9, 7, 1, 2, 7, 4, 2])"
      ]
     },
     "execution_count": 90,
     "metadata": {},
     "output_type": "execute_result"
    }
   ],
   "source": [
    "np.argmax(network.predict(test_vectors[error_indices.flatten()]), axis=-1)[:10]"
   ]
  },
  {
   "cell_type": "markdown",
   "metadata": {},
   "source": [
    "Some examples still not correctly predicted"
   ]
  },
  {
   "cell_type": "code",
   "execution_count": 92,
   "metadata": {},
   "outputs": [],
   "source": [
    "error_indices_net = np.argwhere(test_labels[:1000] != np.argmax(network.predict(test_vectors), axis=-1)[:1000]).flatten()"
   ]
  },
  {
   "cell_type": "code",
   "execution_count": 93,
   "metadata": {},
   "outputs": [
    {
     "data": {
      "text/plain": [
       "array([104, 247, 274, 321, 340, 381, 404, 445, 495, 582, 583, 659, 684,\n",
       "       691, 707, 786, 882, 900, 947, 956, 959, 965])"
      ]
     },
     "execution_count": 93,
     "metadata": {},
     "output_type": "execute_result"
    }
   ],
   "source": [
    "error_indices_net"
   ]
  },
  {
   "cell_type": "code",
   "execution_count": 94,
   "metadata": {},
   "outputs": [
    {
     "data": {
      "image/png": "[encoded data removed]",
      "text/plain": [
       "<Figure size 1440x1440 with 10 Axes>"
      ]
     },
     "metadata": {
      "needs_background": "light"
     },
     "output_type": "display_data"
    }
   ],
   "source": [
    "n_images = 10\n",
    "fig, axs = plt.subplots(1, n_images, figsize=(20, 20))\n",
    "for i, index in zip(range(n_images), error_indices_net):\n",
    "    axs[i].imshow(test_images[index], cmap=\"gray\")"
   ]
  },
  {
   "cell_type": "code",
   "execution_count": 95,
   "metadata": {},
   "outputs": [
    {
     "data": {
      "text/plain": [
       "array([9, 4, 9, 2, 5, 3, 2, 6, 8, 8], dtype=uint8)"
      ]
     },
     "execution_count": 95,
     "metadata": {},
     "output_type": "execute_result"
    }
   ],
   "source": [
    "test_labels[error_indices_net][:10]"
   ]
  },
  {
   "cell_type": "code",
   "execution_count": 96,
   "metadata": {},
   "outputs": [
    {
     "data": {
      "text/plain": [
       "array([5, 2, 3, 7, 3, 7, 7, 0, 2, 2])"
      ]
     },
     "execution_count": 96,
     "metadata": {},
     "output_type": "execute_result"
    }
   ],
   "source": [
    "np.argmax(network.predict(test_vectors[error_indices_net]), axis=-1)[:10]"
   ]
  },
  {
   "cell_type": "markdown",
   "metadata": {},
   "source": [
    "Explore the network"
   ]
  },
  {
   "cell_type": "code",
   "execution_count": 97,
   "metadata": {},
   "outputs": [
    {
     "data": {
      "text/plain": [
       "(784, 100)"
      ]
     },
     "execution_count": 97,
     "metadata": {},
     "output_type": "execute_result"
    }
   ],
   "source": [
    "network.layers[0].get_weights()[0].shape"
   ]
  },
  {
   "cell_type": "code",
   "execution_count": 98,
   "metadata": {},
   "outputs": [
    {
     "data": {
      "text/plain": [
       "(100, 10)"
      ]
     },
     "execution_count": 98,
     "metadata": {},
     "output_type": "execute_result"
    }
   ],
   "source": [
    "network.layers[1].get_weights()[0].shape"
   ]
  },
  {
   "cell_type": "markdown",
   "metadata": {},
   "source": [
    "In not as homogeneous datasets, this type of networks perform **badly** on image datasets"
   ]
  },
  {
   "cell_type": "markdown",
   "metadata": {},
   "source": [
    "This traduces to: \"never use the previous networks for images\""
   ]
  },
  {
   "cell_type": "markdown",
   "metadata": {},
   "source": [
    "### Convolutional neural network (CNN)"
   ]
  },
  {
   "cell_type": "markdown",
   "metadata": {},
   "source": [
    "Are specially prepared for image analysis"
   ]
  },
  {
   "cell_type": "markdown",
   "metadata": {},
   "source": [
    "(See presentation ppt)"
   ]
  },
  {
   "cell_type": "code",
   "execution_count": 101,
   "metadata": {},
   "outputs": [],
   "source": [
    "model = models.Sequential()"
   ]
  },
  {
   "cell_type": "code",
   "execution_count": 102,
   "metadata": {},
   "outputs": [],
   "source": [
    "model.add(layers.Conv2D(32, (3, 3), activation='relu', input_shape=(28, 28, 1)))\n",
    "model.add(layers.MaxPooling2D((2, 2)))\n",
    "model.add(layers.Conv2D(64, (3, 3), activation='relu'))\n",
    "model.add(layers.MaxPooling2D((2, 2)))\n",
    "model.add(layers.Conv2D(64, (3, 3), activation='relu'))"
   ]
  },
  {
   "cell_type": "code",
   "execution_count": 103,
   "metadata": {},
   "outputs": [],
   "source": [
    "model.add(layers.Flatten())\n",
    "model.add(layers.Dense(64, activation='relu'))\n",
    "model.add(layers.Dense(10, activation='softmax'))"
   ]
  },
  {
   "cell_type": "code",
   "execution_count": 104,
   "metadata": {},
   "outputs": [
    {
     "name": "stdout",
     "output_type": "stream",
     "text": [
      "Model: \"sequential_4\"\n",
      "_________________________________________________________________\n",
      "Layer (type)                 Output Shape              Param #   \n",
      "=================================================================\n",
      "conv2d (Conv2D)              (None, 26, 26, 32)        320       \n",
      "_________________________________________________________________\n",
      "max_pooling2d (MaxPooling2D) (None, 13, 13, 32)        0         \n",
      "_________________________________________________________________\n",
      "conv2d_1 (Conv2D)            (None, 11, 11, 64)        18496     \n",
      "_________________________________________________________________\n",
      "max_pooling2d_1 (MaxPooling2 (None, 5, 5, 64)          0         \n",
      "_________________________________________________________________\n",
      "conv2d_2 (Conv2D)            (None, 3, 3, 64)          36928     \n",
      "_________________________________________________________________\n",
      "flatten (Flatten)            (None, 576)               0         \n",
      "_________________________________________________________________\n",
      "dense_4 (Dense)              (None, 64)                36928     \n",
      "_________________________________________________________________\n",
      "dense_5 (Dense)              (None, 10)                650       \n",
      "=================================================================\n",
      "Total params: 93,322\n",
      "Trainable params: 93,322\n",
      "Non-trainable params: 0\n",
      "_________________________________________________________________\n"
     ]
    }
   ],
   "source": [
    "model.summary()"
   ]
  },
  {
   "cell_type": "code",
   "execution_count": 105,
   "metadata": {},
   "outputs": [
    {
     "data": {
      "text/plain": [
       "(60000, 28, 28)"
      ]
     },
     "execution_count": 105,
     "metadata": {},
     "output_type": "execute_result"
    }
   ],
   "source": [
    "train_images.shape"
   ]
  },
  {
   "cell_type": "code",
   "execution_count": 106,
   "metadata": {},
   "outputs": [],
   "source": [
    "train_images = train_images.reshape((60000, 28, 28, 1))\n",
    "train_images = train_images.astype('float32') / 255\n",
    "\n",
    "test_images = test_images.reshape((10000, 28, 28, 1))\n",
    "test_images = test_images.astype('float32') / 255"
   ]
  },
  {
   "cell_type": "code",
   "execution_count": 107,
   "metadata": {},
   "outputs": [],
   "source": [
    "model.compile(\n",
    "    optimizer='rmsprop',\n",
    "    loss='categorical_crossentropy',\n",
    "    metrics=['accuracy']\n",
    ")"
   ]
  },
  {
   "cell_type": "code",
   "execution_count": 108,
   "metadata": {},
   "outputs": [
    {
     "name": "stdout",
     "output_type": "stream",
     "text": [
      "Epoch 1/10\n",
      "422/422 [==============================] - 17s 39ms/step - loss: 0.5590 - accuracy: 0.8253 - val_loss: 0.0619 - val_accuracy: 0.9815\n",
      "Epoch 2/10\n",
      "422/422 [==============================] - 16s 38ms/step - loss: 0.0637 - accuracy: 0.9794 - val_loss: 0.0434 - val_accuracy: 0.9883\n",
      "Epoch 3/10\n",
      "422/422 [==============================] - 16s 39ms/step - loss: 0.0372 - accuracy: 0.9887 - val_loss: 0.0377 - val_accuracy: 0.9890\n",
      "Epoch 4/10\n",
      "422/422 [==============================] - 16s 39ms/step - loss: 0.0267 - accuracy: 0.9913 - val_loss: 0.0466 - val_accuracy: 0.9888\n",
      "Epoch 5/10\n",
      "422/422 [==============================] - 16s 38ms/step - loss: 0.0197 - accuracy: 0.9938 - val_loss: 0.0396 - val_accuracy: 0.9897\n",
      "Epoch 6/10\n",
      "422/422 [==============================] - 16s 39ms/step - loss: 0.0163 - accuracy: 0.9949 - val_loss: 0.0351 - val_accuracy: 0.9908\n",
      "Epoch 7/10\n",
      "422/422 [==============================] - 16s 39ms/step - loss: 0.0123 - accuracy: 0.9960 - val_loss: 0.0318 - val_accuracy: 0.9928\n",
      "Epoch 8/10\n",
      "422/422 [==============================] - 17s 39ms/step - loss: 0.0105 - accuracy: 0.9965 - val_loss: 0.0320 - val_accuracy: 0.9930\n",
      "Epoch 9/10\n",
      "422/422 [==============================] - 17s 39ms/step - loss: 0.0086 - accuracy: 0.9973 - val_loss: 0.0382 - val_accuracy: 0.9922\n",
      "Epoch 10/10\n",
      "422/422 [==============================] - 17s 41ms/step - loss: 0.0070 - accuracy: 0.9980 - val_loss: 0.0322 - val_accuracy: 0.9923\n"
     ]
    },
    {
     "data": {
      "text/plain": [
       "<tensorflow.python.keras.callbacks.History at 0x7fb9abe97d00>"
      ]
     },
     "execution_count": 108,
     "metadata": {},
     "output_type": "execute_result"
    }
   ],
   "source": [
    "model.fit(train_images, train_labels_hot, epochs=10, batch_size=128, validation_split=0.1)"
   ]
  },
  {
   "cell_type": "markdown",
   "metadata": {},
   "source": [
    "Why does validation accuracy appear to be better than training accuracy? As said by Keras documentation:  \n",
    "\"Besides, the training loss that Keras displays is the average of the losses for each batch of training data, over the current epoch.\"  \n",
    "[LINK](https://keras.io/getting_started/faq/#why-is-my-training-loss-much-higher-than-my-testing-loss)"
   ]
  },
  {
   "cell_type": "code",
   "execution_count": 112,
   "metadata": {},
   "outputs": [
    {
     "name": "stdout",
     "output_type": "stream",
     "text": [
      "313/313 [==============================] - 1s 3ms/step - loss: 0.0291 - accuracy: 0.9921\n"
     ]
    }
   ],
   "source": [
    "_, test_acc = model.evaluate(test_images, test_labels_hot)"
   ]
  },
  {
   "cell_type": "code",
   "execution_count": 113,
   "metadata": {},
   "outputs": [
    {
     "data": {
      "text/plain": [
       "0.9921000003814697"
      ]
     },
     "execution_count": 113,
     "metadata": {},
     "output_type": "execute_result"
    }
   ],
   "source": [
    "test_acc"
   ]
  },
  {
   "cell_type": "markdown",
   "metadata": {},
   "source": [
    " * Before we had ~98% accuracy\n",
    " * Now we have 99.25% accuracy\n",
    " * Meaning that ~60% of previous errors are now correct"
   ]
  },
  {
   "cell_type": "markdown",
   "metadata": {},
   "source": [
    "Some examples of previous bad predictions"
   ]
  },
  {
   "cell_type": "code",
   "execution_count": 114,
   "metadata": {},
   "outputs": [
    {
     "data": {
      "text/plain": [
       "array([104, 247, 274, 321, 340, 381, 404, 445, 495, 582, 583, 659, 684,\n",
       "       691, 707, 786, 882, 900, 947, 956, 959, 965])"
      ]
     },
     "execution_count": 114,
     "metadata": {},
     "output_type": "execute_result"
    }
   ],
   "source": [
    "error_indices_net"
   ]
  },
  {
   "cell_type": "code",
   "execution_count": 115,
   "metadata": {},
   "outputs": [
    {
     "data": {
      "image/png": "[encoded data removed]",
      "text/plain": [
       "<Figure size 1440x1440 with 10 Axes>"
      ]
     },
     "metadata": {
      "needs_background": "light"
     },
     "output_type": "display_data"
    }
   ],
   "source": [
    "n_images = 10\n",
    "fig, axs = plt.subplots(1, n_images, figsize=(20, 20))\n",
    "for i, index in zip(range(n_images), error_indices_net):\n",
    "    axs[i].imshow(test_images[index], cmap=\"gray\")"
   ]
  },
  {
   "cell_type": "code",
   "execution_count": 116,
   "metadata": {},
   "outputs": [
    {
     "data": {
      "text/plain": [
       "array([9, 4, 9, 2, 5, 3, 2, 6, 8, 8], dtype=uint8)"
      ]
     },
     "execution_count": 116,
     "metadata": {},
     "output_type": "execute_result"
    }
   ],
   "source": [
    "# reality\n",
    "test_labels[error_indices_net][:10]"
   ]
  },
  {
   "cell_type": "markdown",
   "metadata": {},
   "source": [
    "Old model"
   ]
  },
  {
   "cell_type": "code",
   "execution_count": 117,
   "metadata": {},
   "outputs": [
    {
     "data": {
      "text/plain": [
       "array([5, 2, 3, 7, 3, 7, 7, 0, 2, 2])"
      ]
     },
     "execution_count": 117,
     "metadata": {},
     "output_type": "execute_result"
    }
   ],
   "source": [
    "np.argmax(network.predict(test_vectors[error_indices_net]), axis=-1)[:10]"
   ]
  },
  {
   "cell_type": "markdown",
   "metadata": {},
   "source": [
    "New model"
   ]
  },
  {
   "cell_type": "code",
   "execution_count": 118,
   "metadata": {},
   "outputs": [
    {
     "data": {
      "text/plain": [
       "array([9, 6, 9, 7, 5, 3, 2, 0, 8, 2])"
      ]
     },
     "execution_count": 118,
     "metadata": {},
     "output_type": "execute_result"
    }
   ],
   "source": [
    "np.argmax(model.predict(test_images[error_indices_net]), axis=-1)[:10]"
   ]
  },
  {
   "cell_type": "markdown",
   "metadata": {},
   "source": [
    "### Pretrained nets"
   ]
  },
  {
   "cell_type": "code",
   "execution_count": 119,
   "metadata": {},
   "outputs": [],
   "source": [
    "from tensorflow.keras.applications import VGG16"
   ]
  },
  {
   "cell_type": "code",
   "execution_count": 123,
   "metadata": {},
   "outputs": [
    {
     "name": "stdout",
     "output_type": "stream",
     "text": [
      "Downloading data from https://storage.googleapis.com/tensorflow/keras-applications/vgg16/vgg16_weights_tf_dim_ordering_tf_kernels.h5\n",
      "553467904/553467096 [==============================] - 23s 0us/step\n"
     ]
    }
   ],
   "source": [
    "conv_base = VGG16(\n",
    "    weights='imagenet',\n",
    "    include_top=True,\n",
    "    input_shape=(224, 224, 3)\n",
    ")"
   ]
  },
  {
   "cell_type": "code",
   "execution_count": 124,
   "metadata": {},
   "outputs": [
    {
     "name": "stdout",
     "output_type": "stream",
     "text": [
      "Model: \"vgg16\"\n",
      "_________________________________________________________________\n",
      "Layer (type)                 Output Shape              Param #   \n",
      "=================================================================\n",
      "input_2 (InputLayer)         [(None, 224, 224, 3)]     0         \n",
      "_________________________________________________________________\n",
      "block1_conv1 (Conv2D)        (None, 224, 224, 64)      1792      \n",
      "_________________________________________________________________\n",
      "block1_conv2 (Conv2D)        (None, 224, 224, 64)      36928     \n",
      "_________________________________________________________________\n",
      "block1_pool (MaxPooling2D)   (None, 112, 112, 64)      0         \n",
      "_________________________________________________________________\n",
      "block2_conv1 (Conv2D)        (None, 112, 112, 128)     73856     \n",
      "_________________________________________________________________\n",
      "block2_conv2 (Conv2D)        (None, 112, 112, 128)     147584    \n",
      "_________________________________________________________________\n",
      "block2_pool (MaxPooling2D)   (None, 56, 56, 128)       0         \n",
      "_________________________________________________________________\n",
      "block3_conv1 (Conv2D)        (None, 56, 56, 256)       295168    \n",
      "_________________________________________________________________\n",
      "block3_conv2 (Conv2D)        (None, 56, 56, 256)       590080    \n",
      "_________________________________________________________________\n",
      "block3_conv3 (Conv2D)        (None, 56, 56, 256)       590080    \n",
      "_________________________________________________________________\n",
      "block3_pool (MaxPooling2D)   (None, 28, 28, 256)       0         \n",
      "_________________________________________________________________\n",
      "block4_conv1 (Conv2D)        (None, 28, 28, 512)       1180160   \n",
      "_________________________________________________________________\n",
      "block4_conv2 (Conv2D)        (None, 28, 28, 512)       2359808   \n",
      "_________________________________________________________________\n",
      "block4_conv3 (Conv2D)        (None, 28, 28, 512)       2359808   \n",
      "_________________________________________________________________\n",
      "block4_pool (MaxPooling2D)   (None, 14, 14, 512)       0         \n",
      "_________________________________________________________________\n",
      "block5_conv1 (Conv2D)        (None, 14, 14, 512)       2359808   \n",
      "_________________________________________________________________\n",
      "block5_conv2 (Conv2D)        (None, 14, 14, 512)       2359808   \n",
      "_________________________________________________________________\n",
      "block5_conv3 (Conv2D)        (None, 14, 14, 512)       2359808   \n",
      "_________________________________________________________________\n",
      "block5_pool (MaxPooling2D)   (None, 7, 7, 512)         0         \n",
      "_________________________________________________________________\n",
      "flatten (Flatten)            (None, 25088)             0         \n",
      "_________________________________________________________________\n",
      "fc1 (Dense)                  (None, 4096)              102764544 \n",
      "_________________________________________________________________\n",
      "fc2 (Dense)                  (None, 4096)              16781312  \n",
      "_________________________________________________________________\n",
      "predictions (Dense)          (None, 1000)              4097000   \n",
      "=================================================================\n",
      "Total params: 138,357,544\n",
      "Trainable params: 138,357,544\n",
      "Non-trainable params: 0\n",
      "_________________________________________________________________\n"
     ]
    }
   ],
   "source": [
    "conv_base.summary()"
   ]
  },
  {
   "cell_type": "markdown",
   "metadata": {},
   "source": [
    "## Deep Learning for NLP (natural language processing)"
   ]
  },
  {
   "cell_type": "markdown",
   "metadata": {},
   "source": [
    "The building block of Deep Learning for NLP are word embeddings (as explained in the slides)"
   ]
  },
  {
   "cell_type": "code",
   "execution_count": 128,
   "metadata": {},
   "outputs": [],
   "source": [
    "import gensim"
   ]
  },
  {
   "cell_type": "markdown",
   "metadata": {},
   "source": [
    "First go and download a gensim embedding"
   ]
  },
  {
   "cell_type": "code",
   "execution_count": 129,
   "metadata": {},
   "outputs": [
    {
     "name": "stdout",
     "output_type": "stream",
     "text": [
      "[==================================================] 100.0% 128.1/128.1MB downloaded\n"
     ]
    }
   ],
   "source": [
    ">>> import gensim.downloader as api\n",
    ">>>\n",
    ">>> word_vectors = api.load(\"glove-wiki-gigaword-100\")"
   ]
  },
  {
   "cell_type": "code",
   "execution_count": 135,
   "metadata": {},
   "outputs": [],
   "source": [
    "model = word_vectors"
   ]
  },
  {
   "cell_type": "code",
   "execution_count": 147,
   "metadata": {},
   "outputs": [],
   "source": [
    "word = \"airplane\""
   ]
  },
  {
   "cell_type": "code",
   "execution_count": 148,
   "metadata": {},
   "outputs": [],
   "source": [
    "word_vector = model[word]"
   ]
  },
  {
   "cell_type": "code",
   "execution_count": 149,
   "metadata": {},
   "outputs": [
    {
     "data": {
      "text/plain": [
       "(100,)"
      ]
     },
     "execution_count": 149,
     "metadata": {},
     "output_type": "execute_result"
    }
   ],
   "source": [
    "word_vector.shape"
   ]
  },
  {
   "cell_type": "code",
   "execution_count": 155,
   "metadata": {},
   "outputs": [],
   "source": [
    "other_words = [\"car\", \"bird\", \"water\", \"jet\", \"helicopter\", \"table\", \"apple\"]"
   ]
  },
  {
   "cell_type": "code",
   "execution_count": 156,
   "metadata": {},
   "outputs": [],
   "source": [
    "other_words_vectors = [model[w] for w in other_words]"
   ]
  },
  {
   "cell_type": "code",
   "execution_count": 157,
   "metadata": {},
   "outputs": [],
   "source": [
    "similarities = model.cosine_similarities(\n",
    "    word_vector, \n",
    "    other_words_vectors\n",
    ")"
   ]
  },
  {
   "cell_type": "code",
   "execution_count": 158,
   "metadata": {},
   "outputs": [
    {
     "data": {
      "text/plain": [
       "array([0.65, 0.26, 0.29, 0.82, 0.67, 0.17, 0.17], dtype=float32)"
      ]
     },
     "execution_count": 158,
     "metadata": {},
     "output_type": "execute_result"
    }
   ],
   "source": [
    "similarities.round(2)"
   ]
  },
  {
   "cell_type": "code",
   "execution_count": 159,
   "metadata": {},
   "outputs": [
    {
     "name": "stdout",
     "output_type": "stream",
     "text": [
      "car        - queen: 0.65\n",
      "bird       - queen: 0.26\n",
      "water      - queen: 0.29\n",
      "jet        - queen: 0.82\n",
      "helicopter - queen: 0.67\n",
      "table      - queen: 0.17\n",
      "apple      - queen: 0.17\n"
     ]
    }
   ],
   "source": [
    "for w, s in zip(other_words, similarities.round(2)):\n",
    "    print(f\"{w:10} - queen: {s:.2f}\")"
   ]
  },
  {
   "cell_type": "code",
   "execution_count": 160,
   "metadata": {},
   "outputs": [],
   "source": [
    "most_similar = other_words[similarities.argmax()]"
   ]
  },
  {
   "cell_type": "code",
   "execution_count": 161,
   "metadata": {},
   "outputs": [
    {
     "data": {
      "text/plain": [
       "'jet'"
      ]
     },
     "execution_count": 161,
     "metadata": {},
     "output_type": "execute_result"
    }
   ],
   "source": [
    "most_similar"
   ]
  },
  {
   "cell_type": "code",
   "execution_count": 177,
   "metadata": {},
   "outputs": [
    {
     "data": {
      "text/plain": [
       "[('prince', 0.7682329416275024),\n",
       " ('queen', 0.7507690191268921),\n",
       " ('son', 0.7020887136459351),\n",
       " ('brother', 0.6985775232315063),\n",
       " ('monarch', 0.6977890729904175),\n",
       " ('throne', 0.6919990181922913),\n",
       " ('kingdom', 0.6811410188674927),\n",
       " ('father', 0.6802029013633728),\n",
       " ('emperor', 0.6712857484817505),\n",
       " ('ii', 0.6676074266433716)]"
      ]
     },
     "execution_count": 177,
     "metadata": {},
     "output_type": "execute_result"
    }
   ],
   "source": [
    "model.most_similar(\"king\")"
   ]
  },
  {
   "cell_type": "markdown",
   "metadata": {},
   "source": [
    "## Further materials"
   ]
  },
  {
   "cell_type": "markdown",
   "metadata": {},
   "source": [
    "[Transfer learning by sheriff & Pablo](https://www.youtube.com/watch?v=0xBUXy-9_3k&ab_channel=T3chFest)"
   ]
  }
 ],
 "metadata": {
  "kernelspec": {
   "display_name": "Python 3",
   "language": "python",
   "name": "python3"
  },
  "language_info": {
   "codemirror_mode": {
    "name": "ipython",
    "version": 3
   },
   "file_extension": ".py",
   "mimetype": "text/x-python",
   "name": "python",
   "nbconvert_exporter": "python",
   "pygments_lexer": "ipython3",
   "version": "3.8.5"
  },
  "toc": {
   "base_numbering": 1,
   "nav_menu": {},
   "number_sections": true,
   "sideBar": true,
   "skip_h1_title": true,
   "title_cell": "Table of Contents",
   "title_sidebar": "Contents",
   "toc_cell": true,
   "toc_position": {
    "height": "calc(100% - 180px)",
    "left": "10px",
    "top": "150px",
    "width": "203.9px"
   },
   "toc_section_display": true,
   "toc_window_display": true
  },
  "varInspector": {
   "cols": {
    "lenName": 16,
    "lenType": 16,
    "lenVar": 40
   },
   "kernels_config": {
    "python": {
     "delete_cmd_postfix": "",
     "delete_cmd_prefix": "del ",
     "library": "var_list.py",
     "varRefreshCmd": "print(var_dic_list())"
    },
    "r": {
     "delete_cmd_postfix": ") ",
     "delete_cmd_prefix": "rm(",
     "library": "var_list.r",
     "varRefreshCmd": "cat(var_dic_list()) "
    }
   },
   "types_to_exclude": [
    "module",
    "function",
    "builtin_function_or_method",
    "instance",
    "_Feature"
   ],
   "window_display": false
  }
 },
 "nbformat": 4,
 "nbformat_minor": 2
}
