{
 "cells": [
  {
   "cell_type": "markdown",
   "id": "declared-allocation",
   "metadata": {},
   "source": [
    "# Visualización Interactiva con Plotly"
   ]
  },
  {
   "cell_type": "markdown",
   "id": "inside-estonia",
   "metadata": {},
   "source": [
    "![elgif](https://media.giphy.com/media/jR8EDxMbqi1QQ/giphy.gif)"
   ]
  },
  {
   "cell_type": "markdown",
   "id": "ranging-premiere",
   "metadata": {
    "toc": true
   },
   "source": [
    "<h1>Table of Contents<span class=\"tocSkip\"></span></h1>\n",
    "<div class=\"toc\"><ul class=\"toc-item\"><li><span><a href=\"#Importamos-librerías\" data-toc-modified-id=\"Importamos-librerías-1\"><span class=\"toc-item-num\">1&nbsp;&nbsp;</span>Importamos librerías</a></span></li><li><span><a href=\"#Cargamos-datitos\" data-toc-modified-id=\"Cargamos-datitos-2\"><span class=\"toc-item-num\">2&nbsp;&nbsp;</span>Cargamos datitos</a></span></li><li><span><a href=\"#Gráficos-de-Barras\" data-toc-modified-id=\"Gráficos-de-Barras-3\"><span class=\"toc-item-num\">3&nbsp;&nbsp;</span>Gráficos de Barras</a></span></li><li><span><a href=\"#Gráfico-de-barras-agrupadas\" data-toc-modified-id=\"Gráfico-de-barras-agrupadas-4\"><span class=\"toc-item-num\">4&nbsp;&nbsp;</span>Gráfico de barras agrupadas</a></span></li><li><span><a href=\"#Histogramas\" data-toc-modified-id=\"Histogramas-5\"><span class=\"toc-item-num\">5&nbsp;&nbsp;</span>Histogramas</a></span></li><li><span><a href=\"#ScatterPlot\" data-toc-modified-id=\"ScatterPlot-6\"><span class=\"toc-item-num\">6&nbsp;&nbsp;</span>ScatterPlot</a></span></li><li><span><a href=\"#LineChart\" data-toc-modified-id=\"LineChart-7\"><span class=\"toc-item-num\">7&nbsp;&nbsp;</span>LineChart</a></span></li><li><span><a href=\"#Boxplot\" data-toc-modified-id=\"Boxplot-8\"><span class=\"toc-item-num\">8&nbsp;&nbsp;</span>Boxplot</a></span></li></ul></div>"
   ]
  },
  {
   "cell_type": "markdown",
   "id": "powered-population",
   "metadata": {},
   "source": [
    "## Importamos librerías "
   ]
  },
  {
   "cell_type": "code",
   "execution_count": 1,
   "id": "handmade-czech",
   "metadata": {},
   "outputs": [],
   "source": [
    "import plotly.express as px\n",
    "import seaborn as sns\n",
    "import pandas as pd"
   ]
  },
  {
   "cell_type": "markdown",
   "id": "ranging-museum",
   "metadata": {},
   "source": [
    "## Cargamos datitos"
   ]
  },
  {
   "cell_type": "code",
   "execution_count": 2,
   "id": "baking-saturday",
   "metadata": {},
   "outputs": [],
   "source": [
    "penguins = sns.load_dataset(\"penguins\")\n",
    "tips = sns.load_dataset(\"tips\")\n",
    "titanic = pd.read_csv('../datasets/titanic.csv', index_col=0)"
   ]
  },
  {
   "cell_type": "code",
   "execution_count": 3,
   "id": "descending-algorithm",
   "metadata": {},
   "outputs": [
    {
     "data": {
      "text/html": [
       "<div>\n",
       "<style scoped>\n",
       "    .dataframe tbody tr th:only-of-type {\n",
       "        vertical-align: middle;\n",
       "    }\n",
       "\n",
       "    .dataframe tbody tr th {\n",
       "        vertical-align: top;\n",
       "    }\n",
       "\n",
       "    .dataframe thead th {\n",
       "        text-align: right;\n",
       "    }\n",
       "</style>\n",
       "<table border=\"1\" class=\"dataframe\">\n",
       "  <thead>\n",
       "    <tr style=\"text-align: right;\">\n",
       "      <th></th>\n",
       "      <th>species</th>\n",
       "      <th>island</th>\n",
       "      <th>bill_length_mm</th>\n",
       "      <th>bill_depth_mm</th>\n",
       "      <th>flipper_length_mm</th>\n",
       "      <th>body_mass_g</th>\n",
       "      <th>sex</th>\n",
       "    </tr>\n",
       "  </thead>\n",
       "  <tbody>\n",
       "    <tr>\n",
       "      <th>0</th>\n",
       "      <td>Adelie</td>\n",
       "      <td>Torgersen</td>\n",
       "      <td>39.1</td>\n",
       "      <td>18.7</td>\n",
       "      <td>181.0</td>\n",
       "      <td>3750.0</td>\n",
       "      <td>Male</td>\n",
       "    </tr>\n",
       "    <tr>\n",
       "      <th>1</th>\n",
       "      <td>Adelie</td>\n",
       "      <td>Torgersen</td>\n",
       "      <td>39.5</td>\n",
       "      <td>17.4</td>\n",
       "      <td>186.0</td>\n",
       "      <td>3800.0</td>\n",
       "      <td>Female</td>\n",
       "    </tr>\n",
       "    <tr>\n",
       "      <th>2</th>\n",
       "      <td>Adelie</td>\n",
       "      <td>Torgersen</td>\n",
       "      <td>40.3</td>\n",
       "      <td>18.0</td>\n",
       "      <td>195.0</td>\n",
       "      <td>3250.0</td>\n",
       "      <td>Female</td>\n",
       "    </tr>\n",
       "    <tr>\n",
       "      <th>3</th>\n",
       "      <td>Adelie</td>\n",
       "      <td>Torgersen</td>\n",
       "      <td>NaN</td>\n",
       "      <td>NaN</td>\n",
       "      <td>NaN</td>\n",
       "      <td>NaN</td>\n",
       "      <td>NaN</td>\n",
       "    </tr>\n",
       "    <tr>\n",
       "      <th>4</th>\n",
       "      <td>Adelie</td>\n",
       "      <td>Torgersen</td>\n",
       "      <td>36.7</td>\n",
       "      <td>19.3</td>\n",
       "      <td>193.0</td>\n",
       "      <td>3450.0</td>\n",
       "      <td>Female</td>\n",
       "    </tr>\n",
       "  </tbody>\n",
       "</table>\n",
       "</div>"
      ],
      "text/plain": [
       "  species     island  bill_length_mm  bill_depth_mm  flipper_length_mm  \\\n",
       "0  Adelie  Torgersen            39.1           18.7              181.0   \n",
       "1  Adelie  Torgersen            39.5           17.4              186.0   \n",
       "2  Adelie  Torgersen            40.3           18.0              195.0   \n",
       "3  Adelie  Torgersen             NaN            NaN                NaN   \n",
       "4  Adelie  Torgersen            36.7           19.3              193.0   \n",
       "\n",
       "   body_mass_g     sex  \n",
       "0       3750.0    Male  \n",
       "1       3800.0  Female  \n",
       "2       3250.0  Female  \n",
       "3          NaN     NaN  \n",
       "4       3450.0  Female  "
      ]
     },
     "execution_count": 3,
     "metadata": {},
     "output_type": "execute_result"
    }
   ],
   "source": [
    "penguins.head()"
   ]
  },
  {
   "cell_type": "markdown",
   "id": "australian-metropolitan",
   "metadata": {},
   "source": [
    "## Gráficos de Barras\n",
    "Muestre los recuentos de las observaciones en cada casilla categórica utilizando barras."
   ]
  },
  {
   "cell_type": "code",
   "execution_count": null,
   "id": "educated-smoke",
   "metadata": {},
   "outputs": [],
   "source": []
  },
  {
   "cell_type": "markdown",
   "id": "incorporated-relation",
   "metadata": {},
   "source": [
    "## Gráfico de barras agrupadas\n",
    "Si voy a la documentación de plotly veo esto.... \n",
    "Me dice que puedo utilizar fig.update_layout para actualizar la figura.       \n",
    "Veo que pasamos las categorías de las especies con la x en forma de lista y en la `y` introducimos un array con las cantidades que queremos mostrar."
   ]
  },
  {
   "cell_type": "code",
   "execution_count": null,
   "id": "sensitive-kennedy",
   "metadata": {},
   "outputs": [],
   "source": []
  },
  {
   "cell_type": "markdown",
   "id": "impossible-illustration",
   "metadata": {},
   "source": [
    "¿Cómo hacemos esto teniendo los datos en un dataframe?"
   ]
  },
  {
   "cell_type": "code",
   "execution_count": null,
   "id": "introductory-scene",
   "metadata": {},
   "outputs": [],
   "source": [
    "#Agrupo el dataframe\n"
   ]
  },
  {
   "cell_type": "code",
   "execution_count": null,
   "id": "structural-filename",
   "metadata": {},
   "outputs": [],
   "source": [
    "#Visualizo con iloc solamente la columna que quiero\n"
   ]
  },
  {
   "cell_type": "code",
   "execution_count": null,
   "id": "hundred-account",
   "metadata": {},
   "outputs": [],
   "source": [
    "# Extraigo los values\n"
   ]
  },
  {
   "cell_type": "code",
   "execution_count": null,
   "id": "verified-dealing",
   "metadata": {},
   "outputs": [],
   "source": [
    "# Numpy me ayuda a aplanar esta lista de listas y a pasarlo a lista....\n"
   ]
  },
  {
   "cell_type": "code",
   "execution_count": null,
   "id": "processed-modeling",
   "metadata": {},
   "outputs": [],
   "source": []
  },
  {
   "cell_type": "code",
   "execution_count": null,
   "id": "cubic-majority",
   "metadata": {},
   "outputs": [],
   "source": []
  },
  {
   "cell_type": "markdown",
   "id": "speaking-announcement",
   "metadata": {},
   "source": [
    "Cuando varias filas comparten el mismo valor de x (en este caso Femenino o Masculino), los rectángulos se apilan por defecto."
   ]
  },
  {
   "cell_type": "code",
   "execution_count": null,
   "id": "seventh-moderator",
   "metadata": {},
   "outputs": [],
   "source": []
  },
  {
   "cell_type": "code",
   "execution_count": null,
   "id": "opponent-russia",
   "metadata": {},
   "outputs": [],
   "source": []
  },
  {
   "cell_type": "markdown",
   "id": "north-kuwait",
   "metadata": {},
   "source": [
    "## Histogramas"
   ]
  },
  {
   "cell_type": "markdown",
   "id": "compact-meaning",
   "metadata": {},
   "source": [
    "https://plotly.com/python/histograms/"
   ]
  },
  {
   "cell_type": "code",
   "execution_count": null,
   "id": "powered-equilibrium",
   "metadata": {},
   "outputs": [],
   "source": [
    "penguins.head()"
   ]
  },
  {
   "cell_type": "code",
   "execution_count": null,
   "id": "weird-reply",
   "metadata": {},
   "outputs": [],
   "source": []
  },
  {
   "cell_type": "code",
   "execution_count": null,
   "id": "disciplinary-projection",
   "metadata": {},
   "outputs": [],
   "source": []
  },
  {
   "cell_type": "markdown",
   "id": "gothic-internet",
   "metadata": {},
   "source": [
    "## ScatterPlot"
   ]
  },
  {
   "cell_type": "code",
   "execution_count": null,
   "id": "saved-professional",
   "metadata": {},
   "outputs": [],
   "source": []
  },
  {
   "cell_type": "markdown",
   "id": "difficult-classification",
   "metadata": {},
   "source": [
    "Voy a hacer un scatterplot para visualizar las especies como en seaborn ayer pero tengo que borrar los nan, porque me va a dar errorm, recordad que los nan "
   ]
  },
  {
   "cell_type": "code",
   "execution_count": null,
   "id": "outdoor-boutique",
   "metadata": {},
   "outputs": [],
   "source": [
    "penguins.head()"
   ]
  },
  {
   "cell_type": "code",
   "execution_count": null,
   "id": "intellectual-bonus",
   "metadata": {},
   "outputs": [],
   "source": []
  },
  {
   "cell_type": "code",
   "execution_count": null,
   "id": "surface-wednesday",
   "metadata": {},
   "outputs": [],
   "source": []
  },
  {
   "cell_type": "code",
   "execution_count": null,
   "id": "initial-sympathy",
   "metadata": {},
   "outputs": [],
   "source": []
  },
  {
   "cell_type": "markdown",
   "id": "regulation-familiar",
   "metadata": {},
   "source": [
    "## LineChart"
   ]
  },
  {
   "cell_type": "code",
   "execution_count": null,
   "id": "classified-vegetation",
   "metadata": {},
   "outputs": [],
   "source": [
    "vuelos = sns.load_dataset(\"flights\")\n",
    "vuelos.head()"
   ]
  },
  {
   "cell_type": "code",
   "execution_count": null,
   "id": "revolutionary-update",
   "metadata": {},
   "outputs": [],
   "source": []
  },
  {
   "cell_type": "code",
   "execution_count": null,
   "id": "proud-clark",
   "metadata": {},
   "outputs": [],
   "source": []
  },
  {
   "cell_type": "code",
   "execution_count": null,
   "id": "geographic-surge",
   "metadata": {},
   "outputs": [],
   "source": []
  },
  {
   "cell_type": "markdown",
   "id": "recreational-plumbing",
   "metadata": {},
   "source": [
    "## Boxplot"
   ]
  },
  {
   "cell_type": "code",
   "execution_count": null,
   "id": "maritime-stable",
   "metadata": {},
   "outputs": [],
   "source": []
  },
  {
   "cell_type": "code",
   "execution_count": null,
   "id": "empirical-symphony",
   "metadata": {},
   "outputs": [],
   "source": []
  },
  {
   "cell_type": "code",
   "execution_count": null,
   "id": "innocent-intellectual",
   "metadata": {},
   "outputs": [],
   "source": []
  },
  {
   "cell_type": "code",
   "execution_count": null,
   "id": "pleasant-exhibition",
   "metadata": {},
   "outputs": [],
   "source": []
  }
 ],
 "metadata": {
  "kernelspec": {
   "display_name": "ironhack",
   "language": "python",
   "name": "ironhack"
  },
  "language_info": {
   "codemirror_mode": {
    "name": "ipython",
    "version": 3
   },
   "file_extension": ".py",
   "mimetype": "text/x-python",
   "name": "python",
   "nbconvert_exporter": "python",
   "pygments_lexer": "ipython3",
   "version": "3.8.5"
  },
  "toc": {
   "base_numbering": 1,
   "nav_menu": {},
   "number_sections": true,
   "sideBar": true,
   "skip_h1_title": true,
   "title_cell": "Table of Contents",
   "title_sidebar": "Contents",
   "toc_cell": true,
   "toc_position": {},
   "toc_section_display": true,
   "toc_window_display": false
  }
 },
 "nbformat": 4,
 "nbformat_minor": 5
}
