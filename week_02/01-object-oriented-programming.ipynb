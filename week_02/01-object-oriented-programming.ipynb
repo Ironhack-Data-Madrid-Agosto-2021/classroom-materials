{
 "cells": [
  {
   "cell_type": "markdown",
   "id": "fewer-verse",
   "metadata": {},
   "source": [
    "# Programación orientada a objetos"
   ]
  },
  {
   "cell_type": "markdown",
   "id": "sustained-decimal",
   "metadata": {},
   "source": [
    "![gif](https://media.giphy.com/media/U3PGvzpsVpAzGdhY6n/giphy.gif)"
   ]
  },
  {
   "cell_type": "markdown",
   "id": "linear-pierre",
   "metadata": {
    "toc": true
   },
   "source": [
    "<h1>Table of Contents<span class=\"tocSkip\"></span></h1>\n",
    "<div class=\"toc\"><ul class=\"toc-item\"><li><span><a href=\"#¿Qué-es-la-OOP---Object-Orient-Programming?\" data-toc-modified-id=\"¿Qué-es-la-OOP---Object-Orient-Programming?-1\"><span class=\"toc-item-num\">1&nbsp;&nbsp;</span>¿Qué es la OOP - Object Orient Programming?</a></span><ul class=\"toc-item\"><li><span><a href=\"#Principios-fundamentales\" data-toc-modified-id=\"Principios-fundamentales-1.1\"><span class=\"toc-item-num\">1.1&nbsp;&nbsp;</span>Principios fundamentales</a></span></li></ul></li><li><span><a href=\"#Clases-e-instancias\" data-toc-modified-id=\"Clases-e-instancias-2\"><span class=\"toc-item-num\">2&nbsp;&nbsp;</span>Clases e instancias</a></span></li><li><span><a href=\"#Definición-de-una-clase\" data-toc-modified-id=\"Definición-de-una-clase-3\"><span class=\"toc-item-num\">3&nbsp;&nbsp;</span>Definición de una clase</a></span><ul class=\"toc-item\"><li><span><a href=\"#Atributos-de-instancia\" data-toc-modified-id=\"Atributos-de-instancia-3.1\"><span class=\"toc-item-num\">3.1&nbsp;&nbsp;</span>Atributos de instancia</a></span><ul class=\"toc-item\"><li><span><a href=\"#Atributos-por-defecto\" data-toc-modified-id=\"Atributos-por-defecto-3.1.1\"><span class=\"toc-item-num\">3.1.1&nbsp;&nbsp;</span>Atributos por defecto</a></span></li></ul></li><li><span><a href=\"#Métodos-de-instancia\" data-toc-modified-id=\"Métodos-de-instancia-3.2\"><span class=\"toc-item-num\">3.2&nbsp;&nbsp;</span>Métodos de instancia</a></span><ul class=\"toc-item\"><li><span><a href=\"#Python-está-construido-con-objetos\" data-toc-modified-id=\"Python-está-construido-con-objetos-3.2.1\"><span class=\"toc-item-num\">3.2.1&nbsp;&nbsp;</span>Python está construido con objetos</a></span></li></ul></li><li><span><a href=\"#Variables-de-clase\" data-toc-modified-id=\"Variables-de-clase-3.3\"><span class=\"toc-item-num\">3.3&nbsp;&nbsp;</span>Variables de clase</a></span></li><li><span><a href=\"#Métodos-que-pueden-modificar-atributos\" data-toc-modified-id=\"Métodos-que-pueden-modificar-atributos-3.4\"><span class=\"toc-item-num\">3.4&nbsp;&nbsp;</span>Métodos que pueden modificar atributos</a></span></li></ul></li><li><span><a href=\"#Antes-de-seguir,-cogemos-aire-y-repasamos-vocabulario\" data-toc-modified-id=\"Antes-de-seguir,-cogemos-aire-y-repasamos-vocabulario-4\"><span class=\"toc-item-num\">4&nbsp;&nbsp;</span>Antes de seguir, cogemos aire y repasamos vocabulario</a></span><ul class=\"toc-item\"><li><ul class=\"toc-item\"><li><span><a href=\"#Ejercicio-fácil\" data-toc-modified-id=\"Ejercicio-fácil-4.0.1\"><span class=\"toc-item-num\">4.0.1&nbsp;&nbsp;</span>Ejercicio fácil</a></span></li></ul></li></ul></li><li><span><a href=\"#Herencia-(Inheritance)\" data-toc-modified-id=\"Herencia-(Inheritance)-5\"><span class=\"toc-item-num\">5&nbsp;&nbsp;</span>Herencia (Inheritance)</a></span><ul class=\"toc-item\"><li><span><a href=\"#super()\" data-toc-modified-id=\"super()-5.1\"><span class=\"toc-item-num\">5.1&nbsp;&nbsp;</span>super()</a></span></li><li><span><a href=\"#Resolución-de-métodos\" data-toc-modified-id=\"Resolución-de-métodos-5.2\"><span class=\"toc-item-num\">5.2&nbsp;&nbsp;</span>Resolución de métodos</a></span></li></ul></li><li><span><a href=\"#Resumen\" data-toc-modified-id=\"Resumen-6\"><span class=\"toc-item-num\">6&nbsp;&nbsp;</span>Resumen</a></span></li><li><span><a href=\"#Further-materials\" data-toc-modified-id=\"Further-materials-7\"><span class=\"toc-item-num\">7&nbsp;&nbsp;</span>Further materials</a></span><ul class=\"toc-item\"><li><span><a href=\"#Métodos-AVANZADOS-@classmethod-@staticmethod\" data-toc-modified-id=\"Métodos-AVANZADOS-@classmethod-@staticmethod-7.1\"><span class=\"toc-item-num\">7.1&nbsp;&nbsp;</span>Métodos <strong>AVANZADOS</strong> @classmethod @staticmethod</a></span></li></ul></li></ul></div>"
   ]
  },
  {
   "cell_type": "markdown",
   "id": "static-nancy",
   "metadata": {},
   "source": [
    "## ¿Qué es la OOP - Object Orient Programming?"
   ]
  },
  {
   "cell_type": "markdown",
   "id": "handy-cleaners",
   "metadata": {},
   "source": [
    "La programación orientada a objetos es un paradigma de programación, es decir, un estilo y técnica de programación, que va más allá de la propia implementación. Este paradigma se fundamenta en el concepto \"objeto\", el cual puede contener tanto datos, bajo la forma de campos denominados \"atributos\", como código para su manipulación bajo la forma de procedimientos y funciones, denominados \"métodos\". Gracias a esto, podemos agruparlo todo bajo un solo tipo de dato (la \"clase\" de objeto), lo cual facilita la modularidad y la reusabilidad del código.    \n",
    "Esto tiene una fuerte implicación en el diseño de soluciones informáticas; metodologías de ingeniería del software están basadas en la programación orientada a objetos."
   ]
  },
  {
   "cell_type": "markdown",
   "id": "instructional-scotland",
   "metadata": {},
   "source": [
    "Podéis imaginaros los objetos como un nuevo tipo de dato cuya definición viene dada en una estructura llamada clase.\n",
    "Se suelen comparar las clases con moldes de galletas y los objetos con las galletas en sí mismas. Si bien todas las galletas que se hacen con el mismo molde tienen la misma forma, cada una adquiere atributos individuales después del horneado. Cosas como el color, la textura, el sabor... pueden llegar a ser muy distintas.\n",
    "En otras palabras, las galletas comparten un proceso de fabricación y unos atributos, pero son independientes entre ellas y del propio molde y eso hace que cada una sea única.\n",
    "Extrapolando el ejemplo, una clase es sólo un guión sobre como deben ser los objetos que se crearán con ella."
   ]
  },
  {
   "cell_type": "markdown",
   "id": "fallen-brazil",
   "metadata": {},
   "source": [
    "![clases](https://files.realpython.com/media/Object-Oriented-Programming-OOP-in-Python-3_Watermarked.0d29780806d5.jpg)"
   ]
  },
  {
   "cell_type": "markdown",
   "id": "binary-treasury",
   "metadata": {},
   "source": [
    "### Principios fundamentales "
   ]
  },
  {
   "cell_type": "markdown",
   "id": "secondary-arena",
   "metadata": {},
   "source": [
    "   1 - **Abstracción de datos**: Algo que hacemos de forma natural en nuestra comprensión del mundo es la abstracción de información concreta en conceptos o clases. Por ejemplo, el concepto de \"coche\" nos evoca una idea de vehículo con cuatro ruedass, volante, motor....Nuestro coche es una \"instancia\" concreta de ese concepto, y diferente a otros coches, pero somos capaces de asociar determinadas propiedades o característiicas a dicho concepto por encima de detalles específicos. Esta capacidad de abstraer un concepto es fundamental para el desarrollo del lenguaje humano y, por supuesto, tan buena idea ha sido trasladada al mundo de la programación. En POO (OOP), denominamos \"clase\" al concepto abstracto y \"objeto\" a la realización de dicho concepto. Tu coche es concreto, puedes conducirlo, es un objeto, una \"instancia\" de la clase \"coche\".     \n",
    "   \n",
    "   2 - **Encapsulación**: Cada tipo de objeto contiene una información propia y puede ser manipulado de una forma particular. Un coche se puede conducir y tiene una presión determinada aen las ruedas, un color, un nivel concreto de gasolina, etc. Con un GPS podemos obtener nuestras coordenadas de posición y las baterías tendrán una carga determinada. Un perro ladra, tiene un peso, una edad. Todos esos atributos y \"métodos\" quedan \"encapsulados\" dentro del objeto, y son accesibles solo a través de un objeto determinado. La ventaja es que no necesitamos tener, por ejemplo, una lista con nombres, otra con edades, otra con pesos...sino una lista de objetos y cada uno encierra, es decir, encapsula, su propia información.     \n",
    "   \n",
    "   3 - **Herencia**: Algunas clases pueden especializar a otras. Para esto, la clase especializada \"hereda\" las propiedades de l clase más general, denominada \"superclase\". Por ejemplo, las clases \"Coche\" y \"Camión\" pueden heredar de la clase \"Vehículo\". Esto es una forma de reutilizar el código, al poder asumir aquellas propiedades comunes entre varias clases en una clase superior. Python soporta \"herencia múltiple\", por lo que una clase puede definirse como subclase de varias clases de las que heredaría todas sus propiedades (atributos y métodos) a la vez.    \n",
    "   \n",
    "   4 - **Poliformismo**: Un cuadrado puede dibujarse, un círculo también, como puede dibujarse cualquier otra forma. \"Cuadrado\" y \"Círculo\" serían subclases de \"Forma\". La superclase \"Forma\" implementa un método dibujar(), y tanto la subclase \"Cuadrado\" como la subclase \"Círculo\" redefinen este método a su caso particular. Así una función podría aceptar como parámetro un objeto de tipo \"Forma\" e invocar el método dibujar() sin saber si el argumento pasado es un círculo o un cuadrado. Cada objeto conoce su nivel de especialización y la implementación concreta de sus métodos. Esta capacidad de usar métodos de superclase en el código pero que, en tiempo de ejecución, se resuelvan a métodos de subclases, se denomina \"Poliformismo\": una misma variable puede adoptar distintas formas."
   ]
  },
  {
   "cell_type": "markdown",
   "id": "proof-impact",
   "metadata": {},
   "source": [
    "## Clases e instancias"
   ]
  },
  {
   "cell_type": "markdown",
   "id": "manufactured-template",
   "metadata": {},
   "source": [
    "Una clase es como un tipo abstracto para alos objetos que, además de almacenar valores denominados atributos, tiene asociados una serie de funciones que llamamos métodos. Una instancia de una clase es lo mismo que decir un objeto de esa clase. Instanciar una clase hace referencia a la creación de un objeto que pertenece a esa clase.\n",
    "En Python, los tipos de datos son clases y cualquier literal o variable de alguno de estos tipos es un objeto que instancia a la clase del tipo. Por ejemplo: a = 2222 equivale a instanciar la clase PyLongObject asignando a un atributo interno el valor 2222. Esto es lo que ocurre a bajo nivel, pero nosotras podemos considerar que la variable a es del tipo int. Podemos conocer el tipo de cualquier variable, es decir, la clase que instancia, con la función type(), y el identificador del objeto instanciado con la función id()."
   ]
  },
  {
   "cell_type": "code",
   "execution_count": 1,
   "id": "incredible-sample",
   "metadata": {},
   "outputs": [
    {
     "data": {
      "text/plain": [
       "(int, 4499484000)"
      ]
     },
     "execution_count": 1,
     "metadata": {},
     "output_type": "execute_result"
    }
   ],
   "source": [
    "a = 33\n",
    "type(a), id(a)"
   ]
  },
  {
   "cell_type": "code",
   "execution_count": 2,
   "id": "dutch-baking",
   "metadata": {},
   "outputs": [],
   "source": [
    "hola = \"hola\""
   ]
  },
  {
   "cell_type": "code",
   "execution_count": 3,
   "id": "absent-yorkshire",
   "metadata": {},
   "outputs": [
    {
     "data": {
      "text/plain": [
       "'HOLA'"
      ]
     },
     "execution_count": 3,
     "metadata": {},
     "output_type": "execute_result"
    }
   ],
   "source": [
    "hola.upper()"
   ]
  },
  {
   "cell_type": "markdown",
   "id": "acceptable-building",
   "metadata": {},
   "source": [
    "Para conocer todos los métodos y atributos de una clase podemos usar la función dir() tanto sobre un objeto como sobre la clase."
   ]
  },
  {
   "cell_type": "code",
   "execution_count": 6,
   "id": "forbidden-teacher",
   "metadata": {},
   "outputs": [],
   "source": [
    "#dir(hola)"
   ]
  },
  {
   "cell_type": "markdown",
   "id": "joint-cedar",
   "metadata": {},
   "source": [
    "## Definición de una clase "
   ]
  },
  {
   "cell_type": "markdown",
   "id": "cosmetic-seven",
   "metadata": {},
   "source": [
    "Podemos definir nuestras propias clases e indicar si heredan de otras, cuáles son sus atributos internos y cuáles son sus métodos. Una vez definida la clase, es posible crear objetos a partir de esta. Para crear una clase basta con agrupar atributos y métodos en el cuerpo de un bloque **class**.    \n",
    "Imagina que creas un sofwtare para gestionar una escuela, y quieres representar a los \"profesores\" en tu código Python. Los profesores tendrán algunos datos asociados (`atributos` en la jerga `clase`), y podrán *realizar acciones* a través de funciones que llamaremos `métodos` (de nuevo, jerga `clase`).\n",
    "\n",
    "Podríamos hacerlo de uno en uno:"
   ]
  },
  {
   "cell_type": "code",
   "execution_count": 10,
   "id": "objective-rochester",
   "metadata": {},
   "outputs": [],
   "source": [
    "# Diccionario \n",
    "instructor_ana = {\"nombre\": \"Ana\",\n",
    "                 \"apellido\": \"García\",\n",
    "                 \"email\": \"ana.garcia@ironhack\",\n",
    "                 \"vacaciones\": 30,\n",
    "                 \"saludo\": lambda: print (\"Hola, buenos días, llegad puntuales porfavor\")}\n",
    "# Gracias pero no...."
   ]
  },
  {
   "cell_type": "code",
   "execution_count": 16,
   "id": "ongoing-magic",
   "metadata": {},
   "outputs": [
    {
     "data": {
      "text/plain": [
       "dict_keys(['nombre', 'apellido', 'email', 'vacaciones', 'saludo'])"
      ]
     },
     "execution_count": 16,
     "metadata": {},
     "output_type": "execute_result"
    }
   ],
   "source": [
    "instructor_ana.keys()"
   ]
  },
  {
   "cell_type": "code",
   "execution_count": 13,
   "id": "civil-johnson",
   "metadata": {},
   "outputs": [
    {
     "name": "stdout",
     "output_type": "stream",
     "text": [
      "Hola, buenos días, llegad puntuales porfavor\n"
     ]
    }
   ],
   "source": [
    "# Accedemos al saludo\n",
    "instructor_ana[\"saludo\"]()"
   ]
  },
  {
   "cell_type": "code",
   "execution_count": 14,
   "id": "vertical-potter",
   "metadata": {},
   "outputs": [
    {
     "data": {
      "text/plain": [
       "'ana.garcia@ironhack'"
      ]
     },
     "execution_count": 14,
     "metadata": {},
     "output_type": "execute_result"
    }
   ],
   "source": [
    "# Accedemos al e-mail\n",
    "instructor_ana[\"email\"]"
   ]
  },
  {
   "cell_type": "code",
   "execution_count": 15,
   "id": "unique-count",
   "metadata": {},
   "outputs": [
    {
     "data": {
      "text/plain": [
       "'García'"
      ]
     },
     "execution_count": 15,
     "metadata": {},
     "output_type": "execute_result"
    }
   ],
   "source": [
    "# Accedemos al apellido\n",
    "instructor_ana[\"apellido\"]"
   ]
  },
  {
   "cell_type": "markdown",
   "id": "copyrighted-definition",
   "metadata": {},
   "source": [
    "Os dejo [aquí](https://realpython.com/python-pep8/#naming-styles) un artículo de realpython sobre las convenciones para nombrar cosas (con cosas me refiero a variables, clases, funciones...cositas del código)\n",
    "La comunidad de usuarios de Python ha adoptado una guía de estilo que facilita la lectura del código y la consistencia entre programas de distintos usuarios. Esta guía no es de seguimiento obligatorio, pero es altamente recomendable."
   ]
  },
  {
   "cell_type": "code",
   "execution_count": null,
   "id": "accurate-transcription",
   "metadata": {},
   "outputs": [],
   "source": [
    "# Sintaxis para definir una función\n",
    "def función():\n",
    "    pass"
   ]
  },
  {
   "cell_type": "code",
   "execution_count": 17,
   "id": "early-drain",
   "metadata": {},
   "outputs": [],
   "source": [
    "# Sintaxis para definir una clase\n",
    "class Clase():\n",
    "    pass"
   ]
  },
  {
   "cell_type": "code",
   "execution_count": 18,
   "id": "upper-mobility",
   "metadata": {},
   "outputs": [],
   "source": [
    "class Instructor():\n",
    "    pass"
   ]
  },
  {
   "cell_type": "code",
   "execution_count": 20,
   "id": "complimentary-finnish",
   "metadata": {},
   "outputs": [],
   "source": [
    "# Sintanxis para generar las instancias / objetos de la clase\n",
    "ana = Instructor()\n",
    "fer = Instructor()"
   ]
  },
  {
   "cell_type": "code",
   "execution_count": 21,
   "id": "settled-faculty",
   "metadata": {},
   "outputs": [
    {
     "data": {
      "text/plain": [
       "<__main__.Instructor at 0x7fbb882a5b20>"
      ]
     },
     "execution_count": 21,
     "metadata": {},
     "output_type": "execute_result"
    }
   ],
   "source": [
    "ana"
   ]
  },
  {
   "cell_type": "code",
   "execution_count": 26,
   "id": "junior-given",
   "metadata": {},
   "outputs": [
    {
     "data": {
      "text/plain": [
       "True"
      ]
     },
     "execution_count": 26,
     "metadata": {},
     "output_type": "execute_result"
    }
   ],
   "source": [
    "isinstance(fer, Instructor)"
   ]
  },
  {
   "cell_type": "markdown",
   "id": "decimal-mission",
   "metadata": {},
   "source": [
    "### Atributos de instancia\n",
    "Contienen datos que son únicos para cada instancia."
   ]
  },
  {
   "cell_type": "code",
   "execution_count": null,
   "id": "digital-personality",
   "metadata": {},
   "outputs": [],
   "source": [
    "# Podemos asignar atributos a las instanacias, una vez ya definidas de la siguiente manera"
   ]
  },
  {
   "cell_type": "code",
   "execution_count": 29,
   "id": "detected-bahamas",
   "metadata": {},
   "outputs": [],
   "source": [
    "ana.nombre = \"Ana\""
   ]
  },
  {
   "cell_type": "code",
   "execution_count": 30,
   "id": "parliamentary-colleague",
   "metadata": {},
   "outputs": [
    {
     "data": {
      "text/plain": [
       "'Ana'"
      ]
     },
     "execution_count": 30,
     "metadata": {},
     "output_type": "execute_result"
    }
   ],
   "source": [
    "ana.nombre"
   ]
  },
  {
   "cell_type": "code",
   "execution_count": 31,
   "id": "super-clearing",
   "metadata": {},
   "outputs": [
    {
     "data": {
      "text/plain": [
       "str"
      ]
     },
     "execution_count": 31,
     "metadata": {},
     "output_type": "execute_result"
    }
   ],
   "source": [
    "type(ana.nombre)"
   ]
  },
  {
   "cell_type": "code",
   "execution_count": 32,
   "id": "intended-bread",
   "metadata": {},
   "outputs": [],
   "source": [
    "ana.edad = 30"
   ]
  },
  {
   "cell_type": "code",
   "execution_count": 33,
   "id": "extra-possible",
   "metadata": {},
   "outputs": [
    {
     "data": {
      "text/plain": [
       "30"
      ]
     },
     "execution_count": 33,
     "metadata": {},
     "output_type": "execute_result"
    }
   ],
   "source": [
    "ana.edad"
   ]
  },
  {
   "cell_type": "code",
   "execution_count": 34,
   "id": "south-alaska",
   "metadata": {},
   "outputs": [
    {
     "data": {
      "text/plain": [
       "int"
      ]
     },
     "execution_count": 34,
     "metadata": {},
     "output_type": "execute_result"
    }
   ],
   "source": [
    "type(ana.edad)"
   ]
  },
  {
   "cell_type": "code",
   "execution_count": 35,
   "id": "hidden-accent",
   "metadata": {},
   "outputs": [
    {
     "data": {
      "text/plain": [
       "<__main__.Instructor at 0x7fbb882a5b20>"
      ]
     },
     "execution_count": 35,
     "metadata": {},
     "output_type": "execute_result"
    }
   ],
   "source": [
    "ana"
   ]
  },
  {
   "cell_type": "code",
   "execution_count": 37,
   "id": "sustained-america",
   "metadata": {},
   "outputs": [
    {
     "data": {
      "text/plain": [
       "'Ana'"
      ]
     },
     "execution_count": 37,
     "metadata": {},
     "output_type": "execute_result"
    }
   ],
   "source": [
    "# Recordatorio sacar values de un diccionario\n",
    "instructor_ana[\"nombre\"]"
   ]
  },
  {
   "cell_type": "code",
   "execution_count": 38,
   "id": "conventional-recycling",
   "metadata": {},
   "outputs": [
    {
     "data": {
      "text/plain": [
       "'Ana'"
      ]
     },
     "execution_count": 38,
     "metadata": {},
     "output_type": "execute_result"
    }
   ],
   "source": [
    "# Exactamente igual lo hacemos en las clases, pero con un punto\n",
    "ana.nombre"
   ]
  },
  {
   "cell_type": "code",
   "execution_count": 39,
   "id": "changed-prophet",
   "metadata": {},
   "outputs": [],
   "source": [
    "# Puedo exportar todos los atributos de un objeto de clase utilizando __dict__\n",
    "datos_ana = ana.__dict__"
   ]
  },
  {
   "cell_type": "code",
   "execution_count": 40,
   "id": "narrative-butter",
   "metadata": {},
   "outputs": [
    {
     "name": "stdout",
     "output_type": "stream",
     "text": [
      "{'nombre': 'Ana', 'edad': 30}\n"
     ]
    }
   ],
   "source": [
    "print(datos_ana)"
   ]
  },
  {
   "cell_type": "code",
   "execution_count": 42,
   "id": "acquired-building",
   "metadata": {},
   "outputs": [],
   "source": [
    "# Generar los atributos de la instancia así, no deja de ser repetititvo, y además podríamos equivocarnos...\n",
    "fer.aapellidos = \"Costa\""
   ]
  },
  {
   "cell_type": "code",
   "execution_count": 44,
   "id": "metropolitan-cowboy",
   "metadata": {},
   "outputs": [
    {
     "ename": "AttributeError",
     "evalue": "'Instructor' object has no attribute 'apellidos'",
     "output_type": "error",
     "traceback": [
      "\u001b[0;31m---------------------------------------------------------------------------\u001b[0m",
      "\u001b[0;31mAttributeError\u001b[0m                            Traceback (most recent call last)",
      "\u001b[0;32m<ipython-input-44-da83b2f36b40>\u001b[0m in \u001b[0;36m<module>\u001b[0;34m\u001b[0m\n\u001b[0;32m----> 1\u001b[0;31m \u001b[0mfer\u001b[0m\u001b[0;34m.\u001b[0m\u001b[0mapellidos\u001b[0m\u001b[0;34m\u001b[0m\u001b[0;34m\u001b[0m\u001b[0m\n\u001b[0m",
      "\u001b[0;31mAttributeError\u001b[0m: 'Instructor' object has no attribute 'apellidos'"
     ]
    }
   ],
   "source": [
    "fer.apellidos"
   ]
  },
  {
   "cell_type": "code",
   "execution_count": 45,
   "id": "sophisticated-dinner",
   "metadata": {},
   "outputs": [],
   "source": [
    "# Ejemplos"
   ]
  },
  {
   "cell_type": "code",
   "execution_count": 46,
   "id": "healthy-receiver",
   "metadata": {},
   "outputs": [],
   "source": [
    "juncal = Instructor()"
   ]
  },
  {
   "cell_type": "code",
   "execution_count": 47,
   "id": "ecological-demographic",
   "metadata": {},
   "outputs": [],
   "source": [
    "juncal.nombre = \"Juncal\""
   ]
  },
  {
   "cell_type": "code",
   "execution_count": 49,
   "id": "enclosed-intent",
   "metadata": {},
   "outputs": [],
   "source": [
    "ras = Instructor()"
   ]
  },
  {
   "cell_type": "code",
   "execution_count": 50,
   "id": "spoken-croatia",
   "metadata": {},
   "outputs": [
    {
     "ename": "AttributeError",
     "evalue": "'Instructor' object has no attribute 'nombre'",
     "output_type": "error",
     "traceback": [
      "\u001b[0;31m---------------------------------------------------------------------------\u001b[0m",
      "\u001b[0;31mAttributeError\u001b[0m                            Traceback (most recent call last)",
      "\u001b[0;32m<ipython-input-50-63188418a419>\u001b[0m in \u001b[0;36m<module>\u001b[0;34m\u001b[0m\n\u001b[0;32m----> 1\u001b[0;31m \u001b[0mras\u001b[0m\u001b[0;34m.\u001b[0m\u001b[0mnombre\u001b[0m\u001b[0;34m\u001b[0m\u001b[0;34m\u001b[0m\u001b[0m\n\u001b[0m",
      "\u001b[0;31mAttributeError\u001b[0m: 'Instructor' object has no attribute 'nombre'"
     ]
    }
   ],
   "source": [
    "ras.nombre"
   ]
  },
  {
   "cell_type": "markdown",
   "id": "narrative-inspection",
   "metadata": {},
   "source": [
    "En lugar de hacerlo uno por uno, podemos crear estas variables cada vez que se crea una instancia de un objeto con el método especial `__init__`.  Esta función define todas las acciones que deben realizarse cuando creamos un nuevo objeto. La razón por la que tenemos dos guiones bajos antes y después del nombre de la función es para indicar que esta función es interna al objeto y no debe ser llamada desde fuera del objeto.\n",
    "\n",
    "El método `__init__` recibe la instancia como primer argumento --- `fer` en el ejemplo anterior. Por convención, llamamos a ese argumento `self`, pero podría ser cualquier cosa. "
   ]
  },
  {
   "cell_type": "code",
   "execution_count": 57,
   "id": "decent-wireless",
   "metadata": {},
   "outputs": [],
   "source": [
    "class Instructor():\n",
    "    \n",
    "    def __init__ (self,name):\n",
    "        \"\"\"\n",
    "        Inicializa los atributos de objeto/instancia\n",
    "        \"\"\"\n",
    "        self.nombre = name"
   ]
  },
  {
   "cell_type": "code",
   "execution_count": 53,
   "id": "filled-screen",
   "metadata": {},
   "outputs": [],
   "source": [
    "ana = Instructor(\"Ana\")"
   ]
  },
  {
   "cell_type": "code",
   "execution_count": 54,
   "id": "detected-queen",
   "metadata": {},
   "outputs": [
    {
     "data": {
      "text/plain": [
       "'Ana'"
      ]
     },
     "execution_count": 54,
     "metadata": {},
     "output_type": "execute_result"
    }
   ],
   "source": [
    "ana.nombre"
   ]
  },
  {
   "cell_type": "code",
   "execution_count": 58,
   "id": "operating-brain",
   "metadata": {},
   "outputs": [],
   "source": [
    "class Instructor():\n",
    "    def __init__(self,name, surname, vacaciones):\n",
    "        \"\"\"\n",
    "        Inicializa los atributos de objeto/instancia\n",
    "        \"\"\"\n",
    "        self.nombre = name\n",
    "        self.apellido = surname\n",
    "        self.vacaciones = vacaciones\n",
    "    "
   ]
  },
  {
   "cell_type": "code",
   "execution_count": 83,
   "id": "heard-mouth",
   "metadata": {},
   "outputs": [],
   "source": [
    "ana = Instructor(\"Ana\", \"García\", 30)"
   ]
  },
  {
   "cell_type": "code",
   "execution_count": 85,
   "id": "outstanding-behalf",
   "metadata": {},
   "outputs": [
    {
     "data": {
      "text/plain": [
       "'García'"
      ]
     },
     "execution_count": 85,
     "metadata": {},
     "output_type": "execute_result"
    }
   ],
   "source": [
    "ana.apellido"
   ]
  },
  {
   "cell_type": "code",
   "execution_count": 86,
   "id": "ambient-upgrade",
   "metadata": {},
   "outputs": [],
   "source": [
    "ana.saludo = \"Hola\""
   ]
  },
  {
   "cell_type": "code",
   "execution_count": 87,
   "id": "commercial-soldier",
   "metadata": {},
   "outputs": [
    {
     "data": {
      "text/plain": [
       "'Hola'"
      ]
     },
     "execution_count": 87,
     "metadata": {},
     "output_type": "execute_result"
    }
   ],
   "source": [
    "ana.saludo"
   ]
  },
  {
   "cell_type": "code",
   "execution_count": 88,
   "id": "rapid-private",
   "metadata": {},
   "outputs": [
    {
     "data": {
      "text/plain": [
       "['apellido', 'nombre', 'saludo', 'vacaciones']"
      ]
     },
     "execution_count": 88,
     "metadata": {},
     "output_type": "execute_result"
    }
   ],
   "source": [
    "## Para ver los atributos así mono en una lista\n",
    "[a for a in dir(ana) if \"__\" not in a]"
   ]
  },
  {
   "cell_type": "code",
   "execution_count": 66,
   "id": "comparative-concentration",
   "metadata": {},
   "outputs": [],
   "source": [
    "fer = Instructor(\"Fer\", \"Costa\", 4736, \"hola qué tal \")"
   ]
  },
  {
   "cell_type": "code",
   "execution_count": 70,
   "id": "bibliographic-catering",
   "metadata": {},
   "outputs": [
    {
     "data": {
      "text/plain": [
       "'Fer'"
      ]
     },
     "execution_count": 70,
     "metadata": {},
     "output_type": "execute_result"
    }
   ],
   "source": [
    "fer.nombre"
   ]
  },
  {
   "cell_type": "code",
   "execution_count": 89,
   "id": "demanding-miracle",
   "metadata": {},
   "outputs": [
    {
     "name": "stdout",
     "output_type": "stream",
     "text": [
      "['capitalize', 'casefold', 'center', 'count', 'encode', 'endswith', 'expandtabs', 'find', 'format', 'format_map', 'index', 'isalnum', 'isalpha', 'isascii', 'isdecimal', 'isdigit', 'isidentifier', 'islower', 'isnumeric', 'isprintable', 'isspace', 'istitle', 'isupper', 'join', 'ljust', 'lower', 'lstrip', 'maketrans', 'partition', 'replace', 'rfind', 'rindex', 'rjust', 'rpartition', 'rsplit', 'rstrip', 'split', 'splitlines', 'startswith', 'strip', 'swapcase', 'title', 'translate', 'upper', 'zfill']\n"
     ]
    }
   ],
   "source": [
    "hola = \"qué tal\"\n",
    "print([a for a in dir(hola) if \"__\" not in a])"
   ]
  },
  {
   "cell_type": "code",
   "execution_count": 82,
   "id": "loved-transport",
   "metadata": {},
   "outputs": [
    {
     "data": {
      "text/plain": [
       "True"
      ]
     },
     "execution_count": 82,
     "metadata": {},
     "output_type": "execute_result"
    }
   ],
   "source": [
    "# Métodos de la clase string\n",
    "hola.islower()"
   ]
  },
  {
   "cell_type": "code",
   "execution_count": 90,
   "id": "solar-synthesis",
   "metadata": {},
   "outputs": [
    {
     "data": {
      "text/plain": [
       "['qué', 'tal']"
      ]
     },
     "execution_count": 90,
     "metadata": {},
     "output_type": "execute_result"
    }
   ],
   "source": [
    "hola.split()"
   ]
  },
  {
   "cell_type": "markdown",
   "id": "hindu-calcium",
   "metadata": {},
   "source": [
    "¿Qué hace self? Indica que los datos que estamos metiendo son para el objeto que estamos creando, es exactamente igual que cuando al principio hacíamaos ana.nombre = nombre "
   ]
  },
  {
   "cell_type": "markdown",
   "id": "activated-economy",
   "metadata": {},
   "source": [
    "#### Atributos por defecto\n",
    "\n",
    "Podemos inicializar los atributos con un valor por defecto por si luego, a la hora de crear las instancias, el usuario o nosotras mismas no ponemos nada en alguno de los atributos"
   ]
  },
  {
   "cell_type": "code",
   "execution_count": 91,
   "id": "spatial-melissa",
   "metadata": {},
   "outputs": [],
   "source": [
    "class Instructor():\n",
    "    def __init__(self,name, surname, vacaciones = 30):\n",
    "        \"\"\"\n",
    "        Inicializa los atributos de OBJETO/INSTANCIA\n",
    "        \"\"\"\n",
    "        self.nombre = name\n",
    "        self.apellido = surname\n",
    "        self.vacaciones = vacaciones\n",
    "        # El atributo email bebe de otros atributos del propio objeto\n",
    "        self.email = self.nombre.lower() + \".\" + self.apellido.lower() + \"@ironhack.com\""
   ]
  },
  {
   "cell_type": "code",
   "execution_count": 92,
   "id": "thirty-arcade",
   "metadata": {},
   "outputs": [],
   "source": [
    "ana = Instructor(\"Ana\", \"García\")\n",
    "fer = Instructor(\"Fer\", \"Costa\")"
   ]
  },
  {
   "cell_type": "code",
   "execution_count": 93,
   "id": "young-middle",
   "metadata": {},
   "outputs": [
    {
     "data": {
      "text/plain": [
       "30"
      ]
     },
     "execution_count": 93,
     "metadata": {},
     "output_type": "execute_result"
    }
   ],
   "source": [
    "ana.vacaciones"
   ]
  },
  {
   "cell_type": "code",
   "execution_count": 94,
   "id": "victorian-corrections",
   "metadata": {},
   "outputs": [
    {
     "data": {
      "text/plain": [
       "'fer.costa@ironhack.com'"
      ]
     },
     "execution_count": 94,
     "metadata": {},
     "output_type": "execute_result"
    }
   ],
   "source": [
    "fer.email"
   ]
  },
  {
   "cell_type": "code",
   "execution_count": 96,
   "id": "square-workplace",
   "metadata": {},
   "outputs": [
    {
     "data": {
      "text/plain": [
       "{'nombre': 'Fer',\n",
       " 'apellido': 'Costa',\n",
       " 'vacaciones': 30,\n",
       " 'email': 'fer.costa@ironhack.com'}"
      ]
     },
     "execution_count": 96,
     "metadata": {},
     "output_type": "execute_result"
    }
   ],
   "source": [
    "fer.__dict__"
   ]
  },
  {
   "cell_type": "code",
   "execution_count": 102,
   "id": "settled-census",
   "metadata": {},
   "outputs": [
    {
     "data": {
      "text/plain": [
       "{'nombre': 'Ana',\n",
       " 'apellido': 'García',\n",
       " 'vacaciones': 30,\n",
       " 'email': 'ana.garcía@ironhack.com'}"
      ]
     },
     "execution_count": 102,
     "metadata": {},
     "output_type": "execute_result"
    }
   ],
   "source": [
    "ana.__dict__"
   ]
  },
  {
   "cell_type": "code",
   "execution_count": 97,
   "id": "painted-tribe",
   "metadata": {},
   "outputs": [
    {
     "data": {
      "text/plain": [
       "<__main__.Instructor at 0x7fbb882a5e80>"
      ]
     },
     "execution_count": 97,
     "metadata": {},
     "output_type": "execute_result"
    }
   ],
   "source": [
    "# la variable Fer es un objeto de la clase Instructor\n",
    "fer"
   ]
  },
  {
   "cell_type": "markdown",
   "id": "coated-convenience",
   "metadata": {},
   "source": [
    "### Métodos de instancia "
   ]
  },
  {
   "cell_type": "markdown",
   "id": "divided-priest",
   "metadata": {},
   "source": [
    "Son funciones dentro de las clases que nos ahorrarán mucho tiempo"
   ]
  },
  {
   "cell_type": "code",
   "execution_count": 103,
   "id": "convenient-monitor",
   "metadata": {},
   "outputs": [
    {
     "name": "stdout",
     "output_type": "stream",
     "text": [
      "Hola, soy Ana García y llego puntual\n"
     ]
    }
   ],
   "source": [
    "print(f\"Hola, soy {ana.nombre} {ana.apellido} y llego puntual\")"
   ]
  },
  {
   "cell_type": "code",
   "execution_count": 106,
   "id": "curious-detroit",
   "metadata": {},
   "outputs": [],
   "source": [
    "# función que saluda\n",
    "def funcion_saluda(nombre,apellido):\n",
    "    print(f\"Hola, soy {nombre} {apellido} y llego puntual\")"
   ]
  },
  {
   "cell_type": "code",
   "execution_count": 107,
   "id": "hazardous-belly",
   "metadata": {},
   "outputs": [
    {
     "name": "stdout",
     "output_type": "stream",
     "text": [
      "Hola, soy Ras Corell y llego puntual\n"
     ]
    }
   ],
   "source": [
    "# llamamos a la función con dos argumentos\n",
    "funcion_saluda(\"Ras\", \"Corell\")"
   ]
  },
  {
   "cell_type": "code",
   "execution_count": 108,
   "id": "arbitrary-poland",
   "metadata": {},
   "outputs": [
    {
     "name": "stdout",
     "output_type": "stream",
     "text": [
      "Hola, soy Alejandro Saiz y llego puntual\n"
     ]
    }
   ],
   "source": [
    "funcion_saluda(\"Alejandro\", \"Saiz\")"
   ]
  },
  {
   "cell_type": "code",
   "execution_count": 109,
   "id": "proprietary-artwork",
   "metadata": {},
   "outputs": [],
   "source": [
    "class Instructor():\n",
    "    \n",
    "    def __init__(self,name, surname, vacaciones = 30):\n",
    "        \"\"\"\n",
    "        Inicializa los atributos de OBJETO/INSTANCIA\n",
    "        \"\"\"\n",
    "        self.nombre = name\n",
    "        self.apellido = surname\n",
    "        self.vacaciones = vacaciones\n",
    "        # El atributo email bebe de otros atributos del propio objeto\n",
    "        self.email = self.nombre.lower() + \".\" + self.apellido.lower() + \"@ironhack.com\"\n",
    "        \n",
    "    def saludo(self):\n",
    "        print(f\"Hola, soy {self.nombre} {self.apellido} y llego puntual\")"
   ]
  },
  {
   "cell_type": "markdown",
   "id": "simple-sodium",
   "metadata": {},
   "source": [
    "**Ojo**     👀        \n",
    "Si modificamos una clase y añadimos atributos o métodos, tenemos que volver a crear el objeto para que se inicialice con esos atributos y tenga esos métodos."
   ]
  },
  {
   "cell_type": "code",
   "execution_count": 111,
   "id": "figured-briefs",
   "metadata": {},
   "outputs": [
    {
     "ename": "AttributeError",
     "evalue": "'Instructor' object has no attribute 'saludo'",
     "output_type": "error",
     "traceback": [
      "\u001b[0;31m---------------------------------------------------------------------------\u001b[0m",
      "\u001b[0;31mAttributeError\u001b[0m                            Traceback (most recent call last)",
      "\u001b[0;32m<ipython-input-111-337c8d008d2f>\u001b[0m in \u001b[0;36m<module>\u001b[0;34m\u001b[0m\n\u001b[0;32m----> 1\u001b[0;31m \u001b[0mfer\u001b[0m\u001b[0;34m.\u001b[0m\u001b[0msaludo\u001b[0m\u001b[0;34m(\u001b[0m\u001b[0;34m)\u001b[0m\u001b[0;34m\u001b[0m\u001b[0;34m\u001b[0m\u001b[0m\n\u001b[0m",
      "\u001b[0;31mAttributeError\u001b[0m: 'Instructor' object has no attribute 'saludo'"
     ]
    }
   ],
   "source": [
    "fer.saludo()"
   ]
  },
  {
   "cell_type": "code",
   "execution_count": 125,
   "id": "swedish-article",
   "metadata": {},
   "outputs": [],
   "source": [
    "# Lo tengo que volver a crear :) \n",
    "ana = Instructor(\"Ana\", \"García\")\n",
    "fer = Instructor(\"Fer\", \"Costa\")"
   ]
  },
  {
   "cell_type": "code",
   "execution_count": 113,
   "id": "exotic-moldova",
   "metadata": {},
   "outputs": [
    {
     "name": "stdout",
     "output_type": "stream",
     "text": [
      "Hola, soy Fer Costa y llego puntual\n"
     ]
    }
   ],
   "source": [
    "fer.saludo()"
   ]
  },
  {
   "cell_type": "code",
   "execution_count": 117,
   "id": "confidential-bowling",
   "metadata": {},
   "outputs": [
    {
     "name": "stdout",
     "output_type": "stream",
     "text": [
      "Hola, soy Ana García y llego puntual\n"
     ]
    }
   ],
   "source": [
    "ana.saludo()"
   ]
  },
  {
   "cell_type": "code",
   "execution_count": 128,
   "id": "quick-investigator",
   "metadata": {},
   "outputs": [],
   "source": [
    "class Instructor():\n",
    "    \n",
    "    def __init__(self,name, surname, vacaciones = 30):\n",
    "        \"\"\"\n",
    "        Inicializa los atributos de OBJETO/INTANCIA\n",
    "        \"\"\"\n",
    "        self.nombre = name\n",
    "        self.apellido = surname\n",
    "        self.vacaciones = vacaciones\n",
    "        # El atributo email bebe de otros atributos del propio objeto\n",
    "        self.email = self.nombre.lower() + \".\" + self.apellido.lower() + \"@ironhack.com\"\n",
    "        \n",
    "    def saludo(self):\n",
    "        print(f\"Hola, soy {self.nombre} {self.apellido} y llego puntual\")\n",
    "    \n",
    "    def creadireccion(self,direccion):\n",
    "        self.direccion = direccion"
   ]
  },
  {
   "cell_type": "code",
   "execution_count": 126,
   "id": "interstate-imagination",
   "metadata": {},
   "outputs": [
    {
     "ename": "TypeError",
     "evalue": "creadireccion() takes 1 positional argument but 2 were given",
     "output_type": "error",
     "traceback": [
      "\u001b[0;31m---------------------------------------------------------------------------\u001b[0m",
      "\u001b[0;31mTypeError\u001b[0m                                 Traceback (most recent call last)",
      "\u001b[0;32m<ipython-input-126-7f75bf688765>\u001b[0m in \u001b[0;36m<module>\u001b[0;34m\u001b[0m\n\u001b[0;32m----> 1\u001b[0;31m \u001b[0mana\u001b[0m\u001b[0;34m.\u001b[0m\u001b[0mcreadireccion\u001b[0m\u001b[0;34m(\u001b[0m\u001b[0;34m\"Paseo De la Chopera\"\u001b[0m\u001b[0;34m)\u001b[0m\u001b[0;34m\u001b[0m\u001b[0;34m\u001b[0m\u001b[0m\n\u001b[0m",
      "\u001b[0;31mTypeError\u001b[0m: creadireccion() takes 1 positional argument but 2 were given"
     ]
    }
   ],
   "source": [
    "ana.creadireccion(\"Paseo De la Chopera\")"
   ]
  },
  {
   "cell_type": "code",
   "execution_count": 129,
   "id": "cubic-system",
   "metadata": {},
   "outputs": [
    {
     "data": {
      "text/plain": [
       "dict_values(['Ana', 'García', 30, 'ana.garcía@ironhack.com'])"
      ]
     },
     "execution_count": 129,
     "metadata": {},
     "output_type": "execute_result"
    }
   ],
   "source": [
    "ana.__dict__.values()"
   ]
  },
  {
   "cell_type": "code",
   "execution_count": 130,
   "id": "mental-attitude",
   "metadata": {},
   "outputs": [
    {
     "data": {
      "text/plain": [
       "{'nombre': 'Ana',\n",
       " 'apellido': 'García',\n",
       " 'vacaciones': 30,\n",
       " 'email': 'ana.garcía@ironhack.com'}"
      ]
     },
     "execution_count": 130,
     "metadata": {},
     "output_type": "execute_result"
    }
   ],
   "source": [
    "ana.__dict__"
   ]
  },
  {
   "cell_type": "markdown",
   "id": "flying-parameter",
   "metadata": {},
   "source": [
    "#### Python está construido con objetos\n",
    "En Python los tipos de datos primitivos son también objetos que tienen asociados atributos y métodos."
   ]
  },
  {
   "cell_type": "code",
   "execution_count": 131,
   "id": "approved-transsexual",
   "metadata": {},
   "outputs": [
    {
     "name": "stdout",
     "output_type": "stream",
     "text": [
      "PYTHON\n"
     ]
    }
   ],
   "source": [
    "c = \"Python\"\n",
    "print(c.upper()) #llamamos al método de la clase string "
   ]
  },
  {
   "cell_type": "markdown",
   "id": "robust-cursor",
   "metadata": {},
   "source": [
    "Siempre que hacemos .algo, es porque estmos llamando a los métodos de esa clase, igual que antes hemos llamado a\n",
    "```python\n",
    "fer.presentacion()\n",
    "````"
   ]
  },
  {
   "cell_type": "markdown",
   "id": "graduate-satellite",
   "metadata": {},
   "source": [
    "### Variables de clase\n",
    "\n",
    "Las variables de instancia son únicas para cada instancia. Las variables de clase, en cambio, son comunes a todas las instancias de una clase."
   ]
  },
  {
   "cell_type": "code",
   "execution_count": 132,
   "id": "frequent-training",
   "metadata": {},
   "outputs": [],
   "source": [
    "class Instructor():\n",
    "    #Horas lectivas es una variable de clase y está fuera del INIT\n",
    "    horas_lectivas = 8\n",
    "    \n",
    "    \n",
    "    def __init__(self,name, surname, vacaciones = 30):\n",
    "        \"\"\"\n",
    "        Inicializa los atributos de OBJETO\n",
    "        \"\"\"\n",
    "        self.nombre = name\n",
    "        self.apellido = surname\n",
    "        self.vacaciones = vacaciones\n",
    "        # El atributo email bebe de otros atributos del propio objeto\n",
    "        self.email = self.nombre.lower() + \".\" + self.apellido.lower() + \"@ironhack.com\"\n",
    "        \n",
    "    def saludo(self):\n",
    "        print(f\"Hola, soy {self.nombre} {self.apellido} y llego puntual\")"
   ]
  },
  {
   "cell_type": "code",
   "execution_count": 133,
   "id": "expressed-resistance",
   "metadata": {},
   "outputs": [],
   "source": [
    "# Lo tengo que volver a crear :) \n",
    "ana = Instructor(\"Ana\", \"García\")\n",
    "fer = Instructor(\"Fer\", \"Costa\")"
   ]
  },
  {
   "cell_type": "code",
   "execution_count": 136,
   "id": "popular-workshop",
   "metadata": {},
   "outputs": [
    {
     "data": {
      "text/plain": [
       "8"
      ]
     },
     "execution_count": 136,
     "metadata": {},
     "output_type": "execute_result"
    }
   ],
   "source": [
    "#Ahora todos los objetos que creemos a partir de la clase Instructor, le pondrá la variable horas_lectivas a 8\n",
    "ana.horas_lectivas"
   ]
  },
  {
   "cell_type": "code",
   "execution_count": 135,
   "id": "limiting-section",
   "metadata": {},
   "outputs": [
    {
     "data": {
      "text/plain": [
       "{'nombre': 'Ana',\n",
       " 'apellido': 'García',\n",
       " 'vacaciones': 30,\n",
       " 'email': 'ana.garcía@ironhack.com'}"
      ]
     },
     "execution_count": 135,
     "metadata": {},
     "output_type": "execute_result"
    }
   ],
   "source": [
    "# Las variables de clase no aparecen cuando hago __dict__\n",
    "ana.__dict__"
   ]
  },
  {
   "cell_type": "code",
   "execution_count": null,
   "id": "failing-treatment",
   "metadata": {},
   "outputs": [],
   "source": [
    "# puedo sobreescribir estas variables"
   ]
  },
  {
   "cell_type": "code",
   "execution_count": 137,
   "id": "dated-dragon",
   "metadata": {},
   "outputs": [],
   "source": [
    "fer.horas_lectivas = 9"
   ]
  },
  {
   "cell_type": "code",
   "execution_count": 138,
   "id": "tropical-disco",
   "metadata": {},
   "outputs": [
    {
     "data": {
      "text/plain": [
       "9"
      ]
     },
     "execution_count": 138,
     "metadata": {},
     "output_type": "execute_result"
    }
   ],
   "source": [
    "fer.horas_lectivas"
   ]
  },
  {
   "cell_type": "code",
   "execution_count": 141,
   "id": "agricultural-wrapping",
   "metadata": {},
   "outputs": [],
   "source": [
    "ras = Instructor(\"Amanda\", \"Gálvez\")\n",
    "sheriff = Instructor(\"Mauel\", \"López\")"
   ]
  },
  {
   "cell_type": "code",
   "execution_count": 142,
   "id": "powered-target",
   "metadata": {},
   "outputs": [
    {
     "data": {
      "text/plain": [
       "8"
      ]
     },
     "execution_count": 142,
     "metadata": {},
     "output_type": "execute_result"
    }
   ],
   "source": [
    "sheriff.horas_lectivas"
   ]
  },
  {
   "cell_type": "code",
   "execution_count": 145,
   "id": "diagnostic-membrane",
   "metadata": {},
   "outputs": [
    {
     "data": {
      "text/plain": [
       "{'nombre': 'Mauel',\n",
       " 'apellido': 'López',\n",
       " 'vacaciones': 30,\n",
       " 'email': 'mauel.lópez@ironhack.com'}"
      ]
     },
     "execution_count": 145,
     "metadata": {},
     "output_type": "execute_result"
    }
   ],
   "source": [
    "sheriff.__dict__"
   ]
  },
  {
   "cell_type": "markdown",
   "id": "parliamentary-gateway",
   "metadata": {},
   "source": [
    "Observamos que Python está creando un nuevo atributo para Fer, que anula la variable de clase"
   ]
  },
  {
   "cell_type": "code",
   "execution_count": 143,
   "id": "urban-generation",
   "metadata": {},
   "outputs": [
    {
     "data": {
      "text/plain": [
       "{'nombre': 'Fer',\n",
       " 'apellido': 'Costa',\n",
       " 'vacaciones': 30,\n",
       " 'email': 'fer.costa@ironhack.com',\n",
       " 'horas_lectivas': 9}"
      ]
     },
     "execution_count": 143,
     "metadata": {},
     "output_type": "execute_result"
    }
   ],
   "source": [
    "fer.__dict__"
   ]
  },
  {
   "cell_type": "markdown",
   "id": "hidden-reporter",
   "metadata": {},
   "source": [
    "**También OJO**    \n",
    "Si yo quiero moficar una variable de clase para todos los objetos ya creados y no tener que ir de uno en uno.\n",
    "Aunque hay un pero con esto....  🙃"
   ]
  },
  {
   "cell_type": "code",
   "execution_count": 154,
   "id": "formed-optics",
   "metadata": {},
   "outputs": [],
   "source": [
    "# Modificamos variable de clase\n",
    "Instructor.horas_lectivas = 10"
   ]
  },
  {
   "cell_type": "code",
   "execution_count": 155,
   "id": "formed-norway",
   "metadata": {},
   "outputs": [
    {
     "data": {
      "text/plain": [
       "10"
      ]
     },
     "execution_count": 155,
     "metadata": {},
     "output_type": "execute_result"
    }
   ],
   "source": [
    "ana.horas_lectivas"
   ]
  },
  {
   "cell_type": "code",
   "execution_count": 156,
   "id": "younger-charge",
   "metadata": {},
   "outputs": [
    {
     "data": {
      "text/plain": [
       "10"
      ]
     },
     "execution_count": 156,
     "metadata": {},
     "output_type": "execute_result"
    }
   ],
   "source": [
    "ras.horas_lectivas"
   ]
  },
  {
   "cell_type": "markdown",
   "id": "talented-madison",
   "metadata": {},
   "source": [
    "Al machacar el atributo \"horas lectivas\" de Fer, hemos hecho que esa variable sea propia del objeto y haya dejado de ser una variable de clase, por eso cuando editamos las horas lectivas de todos los objetos modificando la variable de clase más arriba `Instructor.horas_lectivas=10` la de Fer NO SE CAMBIA. "
   ]
  },
  {
   "cell_type": "code",
   "execution_count": 157,
   "id": "warming-ghana",
   "metadata": {},
   "outputs": [
    {
     "data": {
      "text/plain": [
       "9"
      ]
     },
     "execution_count": 157,
     "metadata": {},
     "output_type": "execute_result"
    }
   ],
   "source": [
    "fer.horas_lectivas"
   ]
  },
  {
   "cell_type": "code",
   "execution_count": null,
   "id": "regulation-parts",
   "metadata": {},
   "outputs": [],
   "source": [
    "# Reminder puedo modificar atributos que no sean de clase"
   ]
  },
  {
   "cell_type": "code",
   "execution_count": 158,
   "id": "dressed-renaissance",
   "metadata": {},
   "outputs": [],
   "source": [
    "ana.vacaciones = 30"
   ]
  },
  {
   "cell_type": "code",
   "execution_count": 159,
   "id": "enormous-attempt",
   "metadata": {},
   "outputs": [
    {
     "data": {
      "text/plain": [
       "30"
      ]
     },
     "execution_count": 159,
     "metadata": {},
     "output_type": "execute_result"
    }
   ],
   "source": [
    "ana.vacaciones"
   ]
  },
  {
   "cell_type": "markdown",
   "id": "familiar-lighting",
   "metadata": {},
   "source": [
    "En general, no deben usarse atributos de clase, excepto para almacenar valores constantes."
   ]
  },
  {
   "cell_type": "markdown",
   "id": "stunning-worse",
   "metadata": {},
   "source": [
    "### Métodos que pueden modificar atributos"
   ]
  },
  {
   "cell_type": "code",
   "execution_count": 160,
   "id": "exclusive-inclusion",
   "metadata": {},
   "outputs": [],
   "source": [
    "class Instructor():\n",
    "    #Horas lectivas es una variable de clase y está fuera del INIT\n",
    "    horas_lectivas = 8\n",
    "    \n",
    "    \n",
    "    def __init__(self,name, surname, vacaciones = 30):\n",
    "        \"\"\"\n",
    "        Inicializa los atributos/variables de OBJETO/instancia\n",
    "        \"\"\"\n",
    "        self.nombre = name\n",
    "        self.apellido = surname\n",
    "        self.vacaciones = vacaciones\n",
    "        # El atributo email bebe de otros atributos del propio objeto\n",
    "        self.email = self.nombre.lower() + \".\" + self.apellido.lower() + \"@ironhack.com\"\n",
    "        \n",
    "    def saludo(self):\n",
    "        print(f\"Hola, soy {self.nombre} {self.apellido} y llego puntual\")\n",
    "        \n",
    "    def coger_vacaciones(self, dias = 1):\n",
    "        self.vacaciones -= dias"
   ]
  },
  {
   "cell_type": "code",
   "execution_count": 161,
   "id": "committed-bench",
   "metadata": {},
   "outputs": [],
   "source": [
    "ana = Instructor(\"Ana\", \"García\")\n",
    "fer = Instructor(\"Fer\", \"Costa\")\n",
    "ras = Instructor(\"Amanda\", \"Gálvez\")\n",
    "sheriff = Instructor(\"Mauel\", \"López\")"
   ]
  },
  {
   "cell_type": "code",
   "execution_count": 162,
   "id": "reported-guyana",
   "metadata": {},
   "outputs": [],
   "source": [
    "ana.coger_vacaciones()"
   ]
  },
  {
   "cell_type": "code",
   "execution_count": 163,
   "id": "documented-crystal",
   "metadata": {},
   "outputs": [
    {
     "data": {
      "text/plain": [
       "29"
      ]
     },
     "execution_count": 163,
     "metadata": {},
     "output_type": "execute_result"
    }
   ],
   "source": [
    "ana.vacaciones"
   ]
  },
  {
   "cell_type": "code",
   "execution_count": 164,
   "id": "absent-reader",
   "metadata": {},
   "outputs": [],
   "source": [
    "ana.coger_vacaciones(4)"
   ]
  },
  {
   "cell_type": "code",
   "execution_count": 165,
   "id": "indonesian-modeling",
   "metadata": {},
   "outputs": [
    {
     "data": {
      "text/plain": [
       "25"
      ]
     },
     "execution_count": 165,
     "metadata": {},
     "output_type": "execute_result"
    }
   ],
   "source": [
    "ana.vacaciones"
   ]
  },
  {
   "cell_type": "markdown",
   "id": "polished-values",
   "metadata": {},
   "source": [
    "**Ejercicio**\n",
    "\n",
    "Crear una clase `Círculo` con:\n",
    "* radio como variable de instancia/objeto\n",
    "* pi (math.pi) como variable de clase\n",
    "* un método calcular_área(self) que devuelva el área del objeto \"círculo\""
   ]
  },
  {
   "cell_type": "code",
   "execution_count": 214,
   "id": "alone-leadership",
   "metadata": {},
   "outputs": [],
   "source": [
    "import math\n",
    "class Circulo():\n",
    "    \n",
    "    pi = 3.14159 # Variable de CLASE\n",
    "    \n",
    "    # Atributos de objeto\n",
    "    def __init__ (self, radio):\n",
    "        self.radio = radio\n",
    "        \n",
    "    # Método del objeto\n",
    "    def calcular_area(self):\n",
    "        self.area = (self.radio ** 2) * self.pi\n",
    "        return self.area"
   ]
  },
  {
   "cell_type": "code",
   "execution_count": 215,
   "id": "civil-furniture",
   "metadata": {},
   "outputs": [],
   "source": [
    "# Corregimos el ejercicio"
   ]
  },
  {
   "cell_type": "code",
   "execution_count": 216,
   "id": "interpreted-gothic",
   "metadata": {},
   "outputs": [],
   "source": [
    "# Instanciamos un objeto a través de la clase Círculo con radio 10"
   ]
  },
  {
   "cell_type": "code",
   "execution_count": 217,
   "id": "cooked-adapter",
   "metadata": {},
   "outputs": [],
   "source": [
    "circulito = Circulo(10)"
   ]
  },
  {
   "cell_type": "code",
   "execution_count": 218,
   "id": "changed-emerald",
   "metadata": {},
   "outputs": [
    {
     "data": {
      "text/plain": [
       "10"
      ]
     },
     "execution_count": 218,
     "metadata": {},
     "output_type": "execute_result"
    }
   ],
   "source": [
    "circulito.radio"
   ]
  },
  {
   "cell_type": "code",
   "execution_count": 219,
   "id": "stunning-hospital",
   "metadata": {},
   "outputs": [
    {
     "data": {
      "text/plain": [
       "314.159"
      ]
     },
     "execution_count": 219,
     "metadata": {},
     "output_type": "execute_result"
    }
   ],
   "source": [
    "# Llamamos al método calcula_area de ese objeto\n",
    "circulito.calcular_area()"
   ]
  },
  {
   "cell_type": "code",
   "execution_count": 220,
   "id": "naval-column",
   "metadata": {},
   "outputs": [
    {
     "data": {
      "text/plain": [
       "314.159"
      ]
     },
     "execution_count": 220,
     "metadata": {},
     "output_type": "execute_result"
    }
   ],
   "source": [
    "circulito.area"
   ]
  },
  {
   "cell_type": "code",
   "execution_count": 195,
   "id": "forward-investor",
   "metadata": {},
   "outputs": [],
   "source": [
    "circulo2 = Circulo(20)"
   ]
  },
  {
   "cell_type": "code",
   "execution_count": 196,
   "id": "worldwide-triangle",
   "metadata": {},
   "outputs": [
    {
     "ename": "AttributeError",
     "evalue": "'Circulo' object has no attribute 'area'",
     "output_type": "error",
     "traceback": [
      "\u001b[0;31m---------------------------------------------------------------------------\u001b[0m",
      "\u001b[0;31mAttributeError\u001b[0m                            Traceback (most recent call last)",
      "\u001b[0;32m<ipython-input-196-b6b0b1de9940>\u001b[0m in \u001b[0;36m<module>\u001b[0;34m\u001b[0m\n\u001b[0;32m----> 1\u001b[0;31m \u001b[0mcirculo2\u001b[0m\u001b[0;34m.\u001b[0m\u001b[0marea\u001b[0m\u001b[0;34m\u001b[0m\u001b[0;34m\u001b[0m\u001b[0m\n\u001b[0m",
      "\u001b[0;31mAttributeError\u001b[0m: 'Circulo' object has no attribute 'area'"
     ]
    }
   ],
   "source": [
    "circulo2.area"
   ]
  },
  {
   "cell_type": "code",
   "execution_count": 197,
   "id": "static-listing",
   "metadata": {},
   "outputs": [
    {
     "data": {
      "text/plain": [
       "1256.636"
      ]
     },
     "execution_count": 197,
     "metadata": {},
     "output_type": "execute_result"
    }
   ],
   "source": [
    "circulo2.calcular_area()"
   ]
  },
  {
   "cell_type": "code",
   "execution_count": 199,
   "id": "rocky-salon",
   "metadata": {},
   "outputs": [
    {
     "data": {
      "text/plain": [
       "1256.636"
      ]
     },
     "execution_count": 199,
     "metadata": {},
     "output_type": "execute_result"
    }
   ],
   "source": [
    "circulo2.area"
   ]
  },
  {
   "cell_type": "code",
   "execution_count": 202,
   "id": "frank-bahrain",
   "metadata": {},
   "outputs": [],
   "source": [
    "import math\n",
    "class Circulo_():\n",
    "    \n",
    "    pi = 3.14159 # Variable de CLASE\n",
    "    \n",
    "    # Atributos de objeto\n",
    "    def __init__ (self, radio):\n",
    "        self.radio = radio\n",
    "        \n",
    "    # Método del objeto\n",
    "    def calcular_area(self):\n",
    "        area = (self.radio ** 2) * self.pi\n",
    "        print(f\"El área es {area}\")\n",
    "        return area"
   ]
  },
  {
   "cell_type": "code",
   "execution_count": 203,
   "id": "occupied-subscription",
   "metadata": {},
   "outputs": [],
   "source": [
    "circulo_ras = Circulo_(15)"
   ]
  },
  {
   "cell_type": "code",
   "execution_count": 204,
   "id": "included-qatar",
   "metadata": {},
   "outputs": [
    {
     "name": "stdout",
     "output_type": "stream",
     "text": [
      "El área es 706.85775\n"
     ]
    },
    {
     "data": {
      "text/plain": [
       "706.85775"
      ]
     },
     "execution_count": 204,
     "metadata": {},
     "output_type": "execute_result"
    }
   ],
   "source": [
    "circulo_ras.calcular_area()"
   ]
  },
  {
   "cell_type": "code",
   "execution_count": 205,
   "id": "hidden-resistance",
   "metadata": {},
   "outputs": [
    {
     "name": "stdout",
     "output_type": "stream",
     "text": [
      "El área es 706.85775\n"
     ]
    }
   ],
   "source": [
    "area_circulo_ras = circulo_ras.calcular_area()"
   ]
  },
  {
   "cell_type": "code",
   "execution_count": 206,
   "id": "precise-gambling",
   "metadata": {},
   "outputs": [
    {
     "data": {
      "text/plain": [
       "706.85775"
      ]
     },
     "execution_count": 206,
     "metadata": {},
     "output_type": "execute_result"
    }
   ],
   "source": [
    "area_circulo_ras"
   ]
  },
  {
   "cell_type": "code",
   "execution_count": 207,
   "id": "italian-primary",
   "metadata": {},
   "outputs": [
    {
     "ename": "AttributeError",
     "evalue": "'Circulo_' object has no attribute 'area'",
     "output_type": "error",
     "traceback": [
      "\u001b[0;31m---------------------------------------------------------------------------\u001b[0m",
      "\u001b[0;31mAttributeError\u001b[0m                            Traceback (most recent call last)",
      "\u001b[0;32m<ipython-input-207-f4dafbcf7c75>\u001b[0m in \u001b[0;36m<module>\u001b[0;34m\u001b[0m\n\u001b[0;32m----> 1\u001b[0;31m \u001b[0mcirculo_ras\u001b[0m\u001b[0;34m.\u001b[0m\u001b[0marea\u001b[0m\u001b[0;34m\u001b[0m\u001b[0;34m\u001b[0m\u001b[0m\n\u001b[0m",
      "\u001b[0;31mAttributeError\u001b[0m: 'Circulo_' object has no attribute 'area'"
     ]
    }
   ],
   "source": [
    "circulo_ras.area"
   ]
  },
  {
   "cell_type": "code",
   "execution_count": 221,
   "id": "shared-opportunity",
   "metadata": {},
   "outputs": [
    {
     "data": {
      "text/plain": [
       "3.141592653589793"
      ]
     },
     "execution_count": 221,
     "metadata": {},
     "output_type": "execute_result"
    }
   ],
   "source": [
    "math.pi"
   ]
  },
  {
   "cell_type": "markdown",
   "id": "loved-yahoo",
   "metadata": {},
   "source": [
    "## Antes de seguir, cogemos aire y repasamos vocabulario"
   ]
  },
  {
   "cell_type": "markdown",
   "id": "increasing-royal",
   "metadata": {},
   "source": [
    "**Clase**: El molde de las galletas. Con la clase podemos generar instancias u objetos.    \n",
    "**Objeto**: La galleta que generamos. Cada objeto tiene características diferentes pero bajo el mismo patrón que sería la clase.       \n",
    "**Instancia**: Lo mismo que el objeto, es un sinónimo :) jeje      \n",
    "**Atributo**: Los ingredientes distintos de cada objeto. Están definidos como argumentos en la función __init__ pero se guardan como datos cuando instanciamos un objeto llamando a la clase     \n",
    "```python\n",
    "fer = Instructor(\"Fernando\", \"Costa\")\n",
    "\n",
    "```\n",
    "Podemos decir que los atributos son los DATOS, en este caso \"Fernando\" y \"Costa.\n",
    "Son variables   \n",
    "\n",
    "\n",
    "**Atributo de clase**: Variables que pertenecen a la clase y que van a ser iguales en todos los objetos.      \n",
    "**Atributo de objeto/instancia**: Los artributos explicados arriba, propios de cada objeto.     \n",
    "**Método**: Funciones que hacen cosas    \n"
   ]
  },
  {
   "cell_type": "markdown",
   "id": "initial-switzerland",
   "metadata": {},
   "source": [
    "#### Ejercicio fácil\n",
    "Kataaaaaaaa --> https://www.codewars.com/kata/53f0f358b9cb376eca001079/train/python"
   ]
  },
  {
   "cell_type": "markdown",
   "id": "pressed-proof",
   "metadata": {},
   "source": [
    "## Herencia (Inheritance)"
   ]
  },
  {
   "cell_type": "markdown",
   "id": "japanese-execution",
   "metadata": {},
   "source": [
    "La herencia permite definir nuevas clases a partir de clases existentes. A la clase de la que se hereda se le denomina \"clase madre\"/\"superclase\"/\"parent\". A la clase que hereda se la denomina \"clase hija\"(\"child\") o \"subclase.\"    \n",
    "La clase hija \"hereda\" todas las propiedades de la clase madre y nos permite redefinir métodos y atributos o añadir nuevos. La ventaja fundamental que aporta el mecanismo de herencia a la programación es la capacidad de reutilizar el código. Así, un conjunto de clases que compartan atributos y métodos pueden heredar de una superclase donde se definan esos métodos y atributos."
   ]
  },
  {
   "cell_type": "markdown",
   "id": "wanted-works",
   "metadata": {},
   "source": [
    "\n",
    "![miniyoda](https://media.giphy.com/media/j0eRJzyW7XjMpu1Pqd/giphy.gif)"
   ]
  },
  {
   "cell_type": "code",
   "execution_count": 252,
   "id": "australian-password",
   "metadata": {},
   "outputs": [],
   "source": [
    "# para crear diferentes tipos de profesores\n",
    "class Instructor():\n",
    "    #Horas lectivas es una variable de clase y está fuera del INIT\n",
    "    horas_lectivas = 8\n",
    "    \n",
    "    \n",
    "    def __init__(self,name, surname, vacaciones = 30):\n",
    "        \"\"\"\n",
    "        Inicializa los atributos/variables de OBJETO/instancia\n",
    "        \"\"\"\n",
    "        self.nombre = name\n",
    "        self.apellido = surname\n",
    "        self.vacaciones = vacaciones\n",
    "        # El atributo email bebe de otros atributos del propio objeto\n",
    "        self.email = self.nombre.lower() + \".\" + self.apellido.lower() + \"@ironhack.com\"\n",
    "        \n",
    "    def saludo(self):\n",
    "        print(f\"Hola, soy {self.nombre} {self.apellido} y llego puntual\")\n",
    "        \n",
    "    def coger_vacaciones(self, dias = 1):\n",
    "        self.vacaciones -= dias"
   ]
  },
  {
   "cell_type": "code",
   "execution_count": 253,
   "id": "integral-guyana",
   "metadata": {},
   "outputs": [],
   "source": [
    "# Creamos un \"tipo especial\" de instructors que heredan de instructor\n",
    "class Lead(Instructor):\n",
    "    pass"
   ]
  },
  {
   "cell_type": "code",
   "execution_count": 254,
   "id": "biblical-guyana",
   "metadata": {},
   "outputs": [],
   "source": [
    "german = Lead(\"Germán\", \"Álvarez\")"
   ]
  },
  {
   "cell_type": "code",
   "execution_count": 255,
   "id": "typical-platinum",
   "metadata": {},
   "outputs": [
    {
     "data": {
      "text/plain": [
       "<__main__.Lead at 0x7fbb88171220>"
      ]
     },
     "execution_count": 255,
     "metadata": {},
     "output_type": "execute_result"
    }
   ],
   "source": [
    "german"
   ]
  },
  {
   "cell_type": "code",
   "execution_count": 227,
   "id": "answering-drawing",
   "metadata": {},
   "outputs": [
    {
     "data": {
      "text/plain": [
       "30"
      ]
     },
     "execution_count": 227,
     "metadata": {},
     "output_type": "execute_result"
    }
   ],
   "source": [
    "german.vacaciones"
   ]
  },
  {
   "cell_type": "code",
   "execution_count": 229,
   "id": "focused-technique",
   "metadata": {},
   "outputs": [
    {
     "name": "stdout",
     "output_type": "stream",
     "text": [
      "Hola, soy Germán Álvarez y llego puntual\n"
     ]
    }
   ],
   "source": [
    "german.saludo()"
   ]
  },
  {
   "cell_type": "code",
   "execution_count": 230,
   "id": "dressed-omaha",
   "metadata": {},
   "outputs": [
    {
     "data": {
      "text/plain": [
       "True"
      ]
     },
     "execution_count": 230,
     "metadata": {},
     "output_type": "execute_result"
    }
   ],
   "source": [
    "issubclass(Lead, Instructor)"
   ]
  },
  {
   "cell_type": "code",
   "execution_count": 233,
   "id": "fatty-healing",
   "metadata": {},
   "outputs": [
    {
     "data": {
      "text/plain": [
       "False"
      ]
     },
     "execution_count": 233,
     "metadata": {},
     "output_type": "execute_result"
    }
   ],
   "source": [
    "isinstance(fer,Lead)"
   ]
  },
  {
   "cell_type": "markdown",
   "id": "continuing-fundamental",
   "metadata": {},
   "source": [
    "- Método definido en el `parent`, pero no en el `child`\n",
    "\n",
    "En este caso, el hijo heredará el método del padre, funcionará exactamente igual y no hay que redefinirlo.\n",
    "\n",
    "- Método definido en `Child`, pero no en Parent\n",
    "\n",
    "El método sólo pertenece al hijo. La herencia es en un solo sentido.\n",
    "\n",
    "- Método definido en \"ambos\".\n",
    "\n",
    "Aquí pueden ocurrir dos cosas, pero ambas son una variante del mismo hecho. El método escrito en la clase `Child` sobrescribirá el definido anteriormente en Parent.\n",
    "\n",
    "Sin embargo, si queremos utilizar el método original y simplemente añadirle algo más, siempre podemos hacer referencia al método original (de padre) con `super()`. La función `super()` nos permite llamar a cualquier método de la clase padre. Sólo recuerda llamarlo sobre el nuevo definido y asegurarte de obtener todos los atributos que necesita 😉 ."
   ]
  },
  {
   "cell_type": "markdown",
   "id": "willing-workshop",
   "metadata": {},
   "source": [
    "### super()"
   ]
  },
  {
   "cell_type": "code",
   "execution_count": 234,
   "id": "sustainable-niger",
   "metadata": {},
   "outputs": [],
   "source": [
    "import random"
   ]
  },
  {
   "cell_type": "code",
   "execution_count": 235,
   "id": "incorrect-sacramento",
   "metadata": {},
   "outputs": [],
   "source": [
    "# Veámosle la utilidad      "
   ]
  },
  {
   "cell_type": "code",
   "execution_count": 261,
   "id": "dependent-victim",
   "metadata": {},
   "outputs": [],
   "source": [
    "class Lead(Instructor):\n",
    "    \n",
    "    horas_lectivas = 9\n",
    "    \n",
    "    def __init__(self, nombre, apellido, vacaciones, grupo):\n",
    "        super().__init__(nombre,apellido,vacaciones) # Tomamos los atributos de la clase parent\n",
    "        self.clase = grupo # Este atributo es propio de la clase lead\n",
    "\n",
    "    def saludo(self):\n",
    "        print(f\"Hola, soy {self.nombre} {self.apellido} y soy Lead del bootcamp de {self.clase}\")\n",
    "    "
   ]
  },
  {
   "cell_type": "code",
   "execution_count": 272,
   "id": "roman-findings",
   "metadata": {},
   "outputs": [],
   "source": [
    "german = Lead(\"Germán\", \"Álvarez\", 30, \"Web\")"
   ]
  },
  {
   "cell_type": "code",
   "execution_count": 263,
   "id": "living-adaptation",
   "metadata": {},
   "outputs": [
    {
     "name": "stdout",
     "output_type": "stream",
     "text": [
      "Hola, soy Germán Álvarez y soy Lead del bootcamp de Web\n"
     ]
    }
   ],
   "source": [
    "german.saludo()"
   ]
  },
  {
   "cell_type": "code",
   "execution_count": 264,
   "id": "liquid-congo",
   "metadata": {},
   "outputs": [
    {
     "data": {
      "text/plain": [
       "'Germán'"
      ]
     },
     "execution_count": 264,
     "metadata": {},
     "output_type": "execute_result"
    }
   ],
   "source": [
    "german.nombre"
   ]
  },
  {
   "cell_type": "code",
   "execution_count": 260,
   "id": "forward-repository",
   "metadata": {},
   "outputs": [
    {
     "data": {
      "text/plain": [
       "30"
      ]
     },
     "execution_count": 260,
     "metadata": {},
     "output_type": "execute_result"
    }
   ],
   "source": [
    "german.vacaciones"
   ]
  },
  {
   "cell_type": "code",
   "execution_count": 265,
   "id": "weird-industry",
   "metadata": {},
   "outputs": [],
   "source": [
    "german.coger_vacaciones()"
   ]
  },
  {
   "cell_type": "code",
   "execution_count": 266,
   "id": "informative-encyclopedia",
   "metadata": {},
   "outputs": [
    {
     "data": {
      "text/plain": [
       "29"
      ]
     },
     "execution_count": 266,
     "metadata": {},
     "output_type": "execute_result"
    }
   ],
   "source": [
    "german.vacaciones"
   ]
  },
  {
   "cell_type": "code",
   "execution_count": 271,
   "id": "indie-tourist",
   "metadata": {},
   "outputs": [],
   "source": [
    "class Lead(Instructor):\n",
    "    \n",
    "    horas_lectivas = 9\n",
    "    \n",
    "    def __init__(self, nombre, apellido, vacaciones, grupo):\n",
    "        super().__init__(nombre,apellido,vacaciones) # Tomamos los atributos de la clase parent\n",
    "        self.clase = grupo # Este atributo es propio de la clase lead\n",
    "\n",
    "    def saludo(self):\n",
    "        print(f\"Hola, soy {self.nombre} {self.apellido} y soy Lead del bootcamp de {self.clase}\")\n",
    "        \n",
    "    def elegir_alumno(self, lista_alumnos):\n",
    "        return random.choice(lista_alumnos)"
   ]
  },
  {
   "cell_type": "code",
   "execution_count": 267,
   "id": "viral-appeal",
   "metadata": {},
   "outputs": [
    {
     "name": "stdout",
     "output_type": "stream",
     "text": [
      "Hola, soy Ana García y llego puntual\n"
     ]
    }
   ],
   "source": [
    "ana.saludo()"
   ]
  },
  {
   "cell_type": "code",
   "execution_count": 270,
   "id": "sharing-company",
   "metadata": {},
   "outputs": [],
   "source": [
    "clase_data = [\"Diego\", \"Luke\", \"Jorge\", \"Julián\"]"
   ]
  },
  {
   "cell_type": "code",
   "execution_count": 273,
   "id": "integral-history",
   "metadata": {},
   "outputs": [
    {
     "data": {
      "text/plain": [
       "'Luke'"
      ]
     },
     "execution_count": 273,
     "metadata": {},
     "output_type": "execute_result"
    }
   ],
   "source": [
    "german.elegir_alumno(clase_data)"
   ]
  },
  {
   "cell_type": "code",
   "execution_count": 276,
   "id": "arabic-assembly",
   "metadata": {},
   "outputs": [],
   "source": [
    "# Lo que escribimos en las clases child no influye para nada en los objetos creados a partir de clases parent"
   ]
  },
  {
   "cell_type": "code",
   "execution_count": 274,
   "id": "public-deviation",
   "metadata": {},
   "outputs": [
    {
     "ename": "AttributeError",
     "evalue": "'Instructor' object has no attribute 'elegir_alumno'",
     "output_type": "error",
     "traceback": [
      "\u001b[0;31m---------------------------------------------------------------------------\u001b[0m",
      "\u001b[0;31mAttributeError\u001b[0m                            Traceback (most recent call last)",
      "\u001b[0;32m<ipython-input-274-b5bca93862df>\u001b[0m in \u001b[0;36m<module>\u001b[0;34m\u001b[0m\n\u001b[0;32m----> 1\u001b[0;31m \u001b[0mana\u001b[0m\u001b[0;34m.\u001b[0m\u001b[0melegir_alumno\u001b[0m\u001b[0;34m(\u001b[0m\u001b[0;34m)\u001b[0m\u001b[0;34m\u001b[0m\u001b[0;34m\u001b[0m\u001b[0m\n\u001b[0m",
      "\u001b[0;31mAttributeError\u001b[0m: 'Instructor' object has no attribute 'elegir_alumno'"
     ]
    }
   ],
   "source": [
    "ana.elegir_alumno()"
   ]
  },
  {
   "cell_type": "code",
   "execution_count": 275,
   "id": "simplified-federation",
   "metadata": {},
   "outputs": [
    {
     "ename": "TypeError",
     "evalue": "elegir_alumno() missing 1 required positional argument: 'lista_alumnos'",
     "output_type": "error",
     "traceback": [
      "\u001b[0;31m---------------------------------------------------------------------------\u001b[0m",
      "\u001b[0;31mTypeError\u001b[0m                                 Traceback (most recent call last)",
      "\u001b[0;32m<ipython-input-275-cf3d12e8b572>\u001b[0m in \u001b[0;36m<module>\u001b[0;34m\u001b[0m\n\u001b[0;32m----> 1\u001b[0;31m \u001b[0mgerman\u001b[0m\u001b[0;34m.\u001b[0m\u001b[0melegir_alumno\u001b[0m\u001b[0;34m(\u001b[0m\u001b[0;34m)\u001b[0m\u001b[0;34m\u001b[0m\u001b[0;34m\u001b[0m\u001b[0m\n\u001b[0m",
      "\u001b[0;31mTypeError\u001b[0m: elegir_alumno() missing 1 required positional argument: 'lista_alumnos'"
     ]
    }
   ],
   "source": [
    "german.elegir_alumno()"
   ]
  },
  {
   "cell_type": "code",
   "execution_count": 277,
   "id": "earlier-bottom",
   "metadata": {},
   "outputs": [],
   "source": [
    "otra_lista = [1,2,3,4,56,7,8]"
   ]
  },
  {
   "cell_type": "code",
   "execution_count": 278,
   "id": "upset-miami",
   "metadata": {},
   "outputs": [
    {
     "data": {
      "text/plain": [
       "3"
      ]
     },
     "execution_count": 278,
     "metadata": {},
     "output_type": "execute_result"
    }
   ],
   "source": [
    "num_=german.elegir_alumno(otra_lista)\n",
    "num_"
   ]
  },
  {
   "cell_type": "code",
   "execution_count": 280,
   "id": "current-austria",
   "metadata": {},
   "outputs": [],
   "source": [
    "gasco = Lead(\"Dani\", \"Gasco\", 30, \"UX\")"
   ]
  },
  {
   "cell_type": "code",
   "execution_count": 282,
   "id": "periodic-dakota",
   "metadata": {},
   "outputs": [
    {
     "data": {
      "text/plain": [
       "56"
      ]
     },
     "execution_count": 282,
     "metadata": {},
     "output_type": "execute_result"
    }
   ],
   "source": [
    "um_=gasco.elegir_alumno(otra_lista)\n",
    "um_"
   ]
  },
  {
   "cell_type": "code",
   "execution_count": 285,
   "id": "prepared-breach",
   "metadata": {},
   "outputs": [
    {
     "ename": "TypeError",
     "evalue": "elegir_alumno() missing 2 required positional arguments: 'self' and 'lista_alumnos'",
     "output_type": "error",
     "traceback": [
      "\u001b[0;31m---------------------------------------------------------------------------\u001b[0m",
      "\u001b[0;31mTypeError\u001b[0m                                 Traceback (most recent call last)",
      "\u001b[0;32m<ipython-input-285-328453582e67>\u001b[0m in \u001b[0;36m<module>\u001b[0;34m\u001b[0m\n\u001b[1;32m      1\u001b[0m \u001b[0;31m# Revisar @classmethod para poder llamar a los métodos de clase sin instanciar objetos\u001b[0m\u001b[0;34m\u001b[0m\u001b[0;34m\u001b[0m\u001b[0;34m\u001b[0m\u001b[0m\n\u001b[0;32m----> 2\u001b[0;31m \u001b[0mLead\u001b[0m\u001b[0;34m.\u001b[0m\u001b[0melegir_alumno\u001b[0m\u001b[0;34m(\u001b[0m\u001b[0;34m)\u001b[0m\u001b[0;34m\u001b[0m\u001b[0;34m\u001b[0m\u001b[0m\n\u001b[0m",
      "\u001b[0;31mTypeError\u001b[0m: elegir_alumno() missing 2 required positional arguments: 'self' and 'lista_alumnos'"
     ]
    }
   ],
   "source": [
    "# Revisar @classmethod para poder llamar a los métodos de clase sin instanciar objetos\n",
    "Lead.elegir_alumno()"
   ]
  },
  {
   "cell_type": "markdown",
   "id": "middle-saver",
   "metadata": {},
   "source": [
    "### Resolución de métodos"
   ]
  },
  {
   "cell_type": "code",
   "execution_count": 286,
   "id": "metallic-differential",
   "metadata": {},
   "outputs": [
    {
     "name": "stdout",
     "output_type": "stream",
     "text": [
      "Help on class Lead in module __main__:\n",
      "\n",
      "class Lead(Instructor)\n",
      " |  Lead(nombre, apellido, vacaciones, grupo)\n",
      " |  \n",
      " |  Method resolution order:\n",
      " |      Lead\n",
      " |      Instructor\n",
      " |      builtins.object\n",
      " |  \n",
      " |  Methods defined here:\n",
      " |  \n",
      " |  __init__(self, nombre, apellido, vacaciones, grupo)\n",
      " |      Inicializa los atributos/variables de OBJETO/instancia\n",
      " |  \n",
      " |  elegir_alumno(self, lista_alumnos)\n",
      " |  \n",
      " |  saludo(self)\n",
      " |  \n",
      " |  ----------------------------------------------------------------------\n",
      " |  Data and other attributes defined here:\n",
      " |  \n",
      " |  horas_lectivas = 9\n",
      " |  \n",
      " |  ----------------------------------------------------------------------\n",
      " |  Methods inherited from Instructor:\n",
      " |  \n",
      " |  coger_vacaciones(self, dias=1)\n",
      " |  \n",
      " |  ----------------------------------------------------------------------\n",
      " |  Data descriptors inherited from Instructor:\n",
      " |  \n",
      " |  __dict__\n",
      " |      dictionary for instance variables (if defined)\n",
      " |  \n",
      " |  __weakref__\n",
      " |      list of weak references to the object (if defined)\n",
      "\n",
      "None\n"
     ]
    }
   ],
   "source": [
    "print(help(Lead))"
   ]
  },
  {
   "cell_type": "code",
   "execution_count": 347,
   "id": "artistic-sucking",
   "metadata": {},
   "outputs": [],
   "source": [
    "class Otra(Instructor):\n",
    "    \n",
    "    horas_lectivas = 9\n",
    "    \n",
    "    def __init__(self, nombre,apellido, vacaciones,grupo):\n",
    "        super().__init__(nombre,apellido, vacaciones)\n",
    "        self.clase = grupo # Este atributo es propio de la clase lead\n",
    "        \n",
    "    def saludo(self):\n",
    "        print(f\"Hola, soy {self.nombre} {self.apellido} y soy Lead del bootcamp de {self.clase}\")\n",
    "        \n",
    "    def elegir_alumno(lista_alumnos):\n",
    "        return random.choice(lista_alumnos)\n",
    "    "
   ]
  },
  {
   "cell_type": "code",
   "execution_count": 348,
   "id": "swiss-contemporary",
   "metadata": {},
   "outputs": [],
   "source": [
    "objeto = Otra(\"Hola\", \"García\", 30, \"web\")"
   ]
  },
  {
   "cell_type": "code",
   "execution_count": 336,
   "id": "southern-traffic",
   "metadata": {},
   "outputs": [
    {
     "data": {
      "text/plain": [
       "30"
      ]
     },
     "execution_count": 336,
     "metadata": {},
     "output_type": "execute_result"
    }
   ],
   "source": [
    "objeto.vacaciones"
   ]
  },
  {
   "cell_type": "markdown",
   "id": "corresponding-business",
   "metadata": {},
   "source": [
    "## Resumen\n",
    "Ahora es su turno: ¿Qué hemos aprendido? 🤯\n",
    "\n",
    "- Clases 🙃\n",
    "- Instancias / Objetos --> Cuando genero las galletas con el molde\n",
    "- Atributos --> Ingredientes de cada galleta, hace a los objetos únicos\n",
    "- OJO! Puede haber atributos de objeto y de CLASE (horas_lectivas)\n",
    "- Atributos de objeto están en el init\n",
    "- Herencias --> Coges todos los atributos y métodos de la clase superior \n",
    "- No se pueden heredar argumentos por defecto (recordamos el dilema de las vacaciones)\n",
    "- Siempre ponemos un `__init__`\n",
    "- Definición de métodos (que son funciones que hacen cosas)\n"
   ]
  },
  {
   "cell_type": "markdown",
   "id": "christian-breach",
   "metadata": {},
   "source": [
    "## Further materials\n",
    "\n",
    "* Tutorial de Youtube de [Corey Schafer](https://www.youtube.com/watch?v=ZDa-Z5JzLYM)\n",
    "* [Real Python](https://docs.hektorprofe.net/python/programacion-orientada-a-objetos/clases-y-objetos/)\n",
    "* [Interesante lectura](https://medium.com/@shaistha24/functional-programming-vs-object-oriented-programming-oop-which-is-better-82172e53a526) --> OOP vs Functional programming"
   ]
  },
  {
   "cell_type": "markdown",
   "id": "technical-chocolate",
   "metadata": {},
   "source": [
    "### Métodos **AVANZADOS** @classmethod @staticmethod\n",
    "* [Real Python - @classmethod/@stathicmethod](https://realpython.com/instance-class-and-static-methods-demystified/) - Python avanzado con decoradores (los mencionaremos más adelante)"
   ]
  }
 ],
 "metadata": {
  "kernelspec": {
   "display_name": "Python 3",
   "language": "python",
   "name": "python3"
  },
  "language_info": {
   "codemirror_mode": {
    "name": "ipython",
    "version": 3
   },
   "file_extension": ".py",
   "mimetype": "text/x-python",
   "name": "python",
   "nbconvert_exporter": "python",
   "pygments_lexer": "ipython3",
   "version": "3.8.5"
  },
  "toc": {
   "base_numbering": 1,
   "nav_menu": {},
   "number_sections": true,
   "sideBar": true,
   "skip_h1_title": true,
   "title_cell": "Table of Contents",
   "title_sidebar": "Contents",
   "toc_cell": true,
   "toc_position": {
    "height": "calc(100% - 180px)",
    "left": "10px",
    "top": "150px",
    "width": "288px"
   },
   "toc_section_display": true,
   "toc_window_display": false
  }
 },
 "nbformat": 4,
 "nbformat_minor": 5
}
