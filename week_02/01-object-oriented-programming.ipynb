{
 "cells": [
  {
   "cell_type": "markdown",
   "id": "fewer-verse",
   "metadata": {},
   "source": [
    "# Programación orientada a objetos"
   ]
  },
  {
   "cell_type": "markdown",
   "id": "sustained-decimal",
   "metadata": {},
   "source": [
    "![gif](https://media.giphy.com/media/U3PGvzpsVpAzGdhY6n/giphy.gif)"
   ]
  },
  {
   "cell_type": "markdown",
   "id": "linear-pierre",
   "metadata": {
    "toc": true
   },
   "source": [
    "<h1>Table of Contents<span class=\"tocSkip\"></span></h1>\n",
    "<div class=\"toc\"><ul class=\"toc-item\"><li><span><a href=\"#¿Qué-es-la-OOP---Object-Orient-Programming?\" data-toc-modified-id=\"¿Qué-es-la-OOP---Object-Orient-Programming?-1\"><span class=\"toc-item-num\">1&nbsp;&nbsp;</span>¿Qué es la OOP - Object Orient Programming?</a></span><ul class=\"toc-item\"><li><span><a href=\"#Principios-fundamentales\" data-toc-modified-id=\"Principios-fundamentales-1.1\"><span class=\"toc-item-num\">1.1&nbsp;&nbsp;</span>Principios fundamentales</a></span></li></ul></li><li><span><a href=\"#Clases-e-instancias\" data-toc-modified-id=\"Clases-e-instancias-2\"><span class=\"toc-item-num\">2&nbsp;&nbsp;</span>Clases e instancias</a></span></li><li><span><a href=\"#Definición-de-una-clase\" data-toc-modified-id=\"Definición-de-una-clase-3\"><span class=\"toc-item-num\">3&nbsp;&nbsp;</span>Definición de una clase</a></span><ul class=\"toc-item\"><li><span><a href=\"#Atributos-de-instancia\" data-toc-modified-id=\"Atributos-de-instancia-3.1\"><span class=\"toc-item-num\">3.1&nbsp;&nbsp;</span>Atributos de instancia</a></span><ul class=\"toc-item\"><li><span><a href=\"#Atributos-por-defecto\" data-toc-modified-id=\"Atributos-por-defecto-3.1.1\"><span class=\"toc-item-num\">3.1.1&nbsp;&nbsp;</span>Atributos por defecto</a></span></li></ul></li><li><span><a href=\"#Métodos-de-instancia\" data-toc-modified-id=\"Métodos-de-instancia-3.2\"><span class=\"toc-item-num\">3.2&nbsp;&nbsp;</span>Métodos de instancia</a></span><ul class=\"toc-item\"><li><span><a href=\"#Python-está-construido-con-objetos\" data-toc-modified-id=\"Python-está-construido-con-objetos-3.2.1\"><span class=\"toc-item-num\">3.2.1&nbsp;&nbsp;</span>Python está construido con objetos</a></span></li></ul></li><li><span><a href=\"#Variables-de-clase\" data-toc-modified-id=\"Variables-de-clase-3.3\"><span class=\"toc-item-num\">3.3&nbsp;&nbsp;</span>Variables de clase</a></span></li><li><span><a href=\"#Métodos-que-pueden-modificar-atributos\" data-toc-modified-id=\"Métodos-que-pueden-modificar-atributos-3.4\"><span class=\"toc-item-num\">3.4&nbsp;&nbsp;</span>Métodos que pueden modificar atributos</a></span></li></ul></li><li><span><a href=\"#Antes-de-seguir,-cogemos-aire-y-repasamos-vocabulario\" data-toc-modified-id=\"Antes-de-seguir,-cogemos-aire-y-repasamos-vocabulario-4\"><span class=\"toc-item-num\">4&nbsp;&nbsp;</span>Antes de seguir, cogemos aire y repasamos vocabulario</a></span></li><li><span><a href=\"#Herencia-(Inheritance)\" data-toc-modified-id=\"Herencia-(Inheritance)-5\"><span class=\"toc-item-num\">5&nbsp;&nbsp;</span>Herencia (Inheritance)</a></span><ul class=\"toc-item\"><li><span><a href=\"#super()\" data-toc-modified-id=\"super()-5.1\"><span class=\"toc-item-num\">5.1&nbsp;&nbsp;</span>super()</a></span></li><li><span><a href=\"#Resolución-de-métodos\" data-toc-modified-id=\"Resolución-de-métodos-5.2\"><span class=\"toc-item-num\">5.2&nbsp;&nbsp;</span>Resolución de métodos</a></span></li></ul></li><li><span><a href=\"#Resumen\" data-toc-modified-id=\"Resumen-6\"><span class=\"toc-item-num\">6&nbsp;&nbsp;</span>Resumen</a></span></li><li><span><a href=\"#Further-materials\" data-toc-modified-id=\"Further-materials-7\"><span class=\"toc-item-num\">7&nbsp;&nbsp;</span>Further materials</a></span><ul class=\"toc-item\"><li><span><a href=\"#Métodos-AVANZADOS-@classmethod-@staticmethod\" data-toc-modified-id=\"Métodos-AVANZADOS-@classmethod-@staticmethod-7.1\"><span class=\"toc-item-num\">7.1&nbsp;&nbsp;</span>Métodos <strong>AVANZADOS</strong> @classmethod @staticmethod</a></span></li></ul></li></ul></div>"
   ]
  },
  {
   "cell_type": "markdown",
   "id": "static-nancy",
   "metadata": {},
   "source": [
    "## ¿Qué es la OOP - Object Orient Programming?"
   ]
  },
  {
   "cell_type": "markdown",
   "id": "handy-cleaners",
   "metadata": {},
   "source": [
    "La programación orientada a objetos es un paradigma de programación, es dcir, un estilo y técnica de programación, que va más allá de la propia implementación. Este paradigma se fundamenta en el concepto \"objeto\", el cual puede contener tanto datos, bajo la forma de campos denominados \"atributos\", como código para su manipulación bajo la forma de procedimientos y funciones, denominados \"métodos\". Gracias a esto, podemos agruparlo todo bajo un solo tipo de dato (la \"clase\" de objeto), lo cual facilita la modularidad y la reusabilidad del código.    \n",
    "Esto tiene una fuerte implicación en el diseño de soluciones informáticas; metodologías de ingeniería del software están basadas en la programación orientada a objetos."
   ]
  },
  {
   "cell_type": "markdown",
   "id": "instructional-scotland",
   "metadata": {},
   "source": [
    "Podéis imaginaros los objetos como un nuevo tipo de dato cuya definición viene dada en una estructura llamada clase.\n",
    "Se suelen comparar las clases con moldes de galletas y los objetos con las galletas en sí mismas. Si bien todas las galletas que se hacen con el mismo molde tienen la misma forma, cada una adquiere atributos individuales después del horneado. Cosas como el color, la textura, el sabor... pueden llegar a ser muy distintas.\n",
    "En otras palabras, las galletas comparten un proceso de fabricación y unos atributos, pero son independientes entre ellas y del propio molde y eso hace que cada una sea única.\n",
    "Extrapolando el ejemplo, una clase es sólo un guión sobre como deben ser los objetos que se crearán con ella."
   ]
  },
  {
   "cell_type": "markdown",
   "id": "fallen-brazil",
   "metadata": {},
   "source": [
    "![clases](https://files.realpython.com/media/Object-Oriented-Programming-OOP-in-Python-3_Watermarked.0d29780806d5.jpg)"
   ]
  },
  {
   "cell_type": "markdown",
   "id": "binary-treasury",
   "metadata": {},
   "source": [
    "### Principios fundamentales "
   ]
  },
  {
   "cell_type": "markdown",
   "id": "secondary-arena",
   "metadata": {},
   "source": [
    "   1 - **Abstracción de datos**: Algo que hacemos de forma natural en nuestra comprensión del mundo es la abstracción de información concreta en conceptos o clases. Por ejemplo, el concepto de \"coche\" nos evoca una idea de vehículo con cuatro ruedass, volante, motor....Nuestro coche es una \"instancia\" concreta de ese concepto, y diferente a otros coches, pero somos capaces de asociar determinadas propiedades o característiicas a dicho concepto por encima de detalles específicos. Esta capacidad de abstraer un concepto es fundamental para el desarrollo del lenguaje humano y, por supuesto, tan buena idea ha sido trasladada al mundo de la programación. En POO (OOP), denominamos \"clase\" al concepto abstracto y \"objeto\" a la realización de dicho concepto. Tu coche es concreto, puedes conducirlo, es un objeto, una \"instancia\" de la clase \"coche\".     \n",
    "   \n",
    "   2 - **Encapsulación**: Cada tipo de objeto contiene una información propia y puede ser manipulado de una forma particular. Un coche se puede conducir y tiene una presión determinada aen las ruedas, un color, un nivel concreto de gasolina, etc. Con un GPS podemos obtener nuestras coordenadas de posición y las baterías tendrán una carga determinada. Un perro ladra, tiene un peso, una edad. Todos esos atributos y \"métodos\" quedan \"encapsulados\" dentro del objeto, y son accesibles solo a través de un objeto determinado. La ventaja es que no necesitamos tener, por ejemplo, una lista con nombres, otra con edades, otra con pesos...sino una lista de objetos y cada uno encierra, es decir, encapsula, su propia información.     \n",
    "   \n",
    "   3 - **Herencia**: Algunas clases pueden especializar a otras. Para esto, la clase especializada \"hereda\" las propiedades de l clase más general, denominada \"superclase\". Por ejemplo, las clases \"Coche\" y \"Camión\" pueden heredar de la clase \"Vehículo\". Esto es una forma de reutilizar el código, al poder asumir aquellas propiedades comunes entre varias clases en una clase superior. Python soporta \"herencia múltiple\", por lo que una clase puede definirse como subclase de varias clases de las que heredaría todas sus propiedades (atributos y métodos) a la vez.    \n",
    "   \n",
    "   4 - **Poliformismo**: Un cuadrado puede dibujarse, un círculo también, como puede dibujarse cualquier otra forma. \"Cuadrado\" y \"Círculo\" serían subclases de \"Forma\". La superclase \"Forma\" implementa un método dibujar(), y tanto la subclase \"Cuadrado\" como la subclase \"Círculo\" redefinen este método a su caso particular. Así una función podría aceptar como parámetro un objeto de tipo \"Forma\" e invocar el método dibujar() sin saber si el argumento pasado es un círculo o un cuadrado. Cada objeto conoce su nivel de especialización y la implementación concreta de sus métodos. Esta capacidad de usar métodos de superclase en el código pero que, en tiempo de ejecución, se resuelvan a métodos de subclases, se denomina \"Poliformismo\": una misma variable puede adoptar distintas formas."
   ]
  },
  {
   "cell_type": "markdown",
   "id": "proof-impact",
   "metadata": {},
   "source": [
    "## Clases e instancias"
   ]
  },
  {
   "cell_type": "markdown",
   "id": "manufactured-template",
   "metadata": {},
   "source": [
    "Una clase es como un tipo abstracto para alos objetos que, además de almacenar valores denominados atributos, tiene asociados una serie de funciones que llamamos métodos. Una instancia de una clase es lo mismo que decir un objeto de esa clase. Instanciar una clase hace referencia a la creación de un objeto que pertenece a esa clase.\n",
    "En Python, los tipos de datos son clases y cualquier literal o variable de alguno de estos tipos es un objeto que instancia a la clase del tipo. Por ejemplo: a = 2222 equivale a instanciar la clase PyLongObject asignando a un atributo interno el valor 2222. Esto es lo que ocurre a bajo nivel, pero nosotras podemos considerar que la variable a es del tipo int. Podemos conocer el tipo de cualquier variable, es decir, la clase que instancia, con la función type(), y el identificador del objeto instanciado con la función id()."
   ]
  },
  {
   "cell_type": "code",
   "execution_count": 1,
   "id": "incredible-sample",
   "metadata": {},
   "outputs": [
    {
     "data": {
      "text/plain": [
       "(int, 4532149600)"
      ]
     },
     "execution_count": 1,
     "metadata": {},
     "output_type": "execute_result"
    }
   ],
   "source": [
    "a = 33\n",
    "type(a), id(a)"
   ]
  },
  {
   "cell_type": "markdown",
   "id": "acceptable-building",
   "metadata": {},
   "source": [
    "Para conocer todos los métodos y atributos de una clase podemos usar la función dir() tanto sobre un objeto como sobre la clase."
   ]
  },
  {
   "cell_type": "code",
   "execution_count": null,
   "id": "forbidden-teacher",
   "metadata": {},
   "outputs": [],
   "source": [
    "#dir(a)"
   ]
  },
  {
   "cell_type": "markdown",
   "id": "joint-cedar",
   "metadata": {},
   "source": [
    "## Definición de una clase "
   ]
  },
  {
   "cell_type": "markdown",
   "id": "cosmetic-seven",
   "metadata": {},
   "source": [
    "Podemos definir nuestras propias clases e indicar si heredan de otras, cuáles son sus atributos internos y cuáles son sus métodos. Una vez definida la clase, es posible crear objetos a partir de esta. Para crear una clase basta con agrupar atributos y métodos en el cuerpo de un bloque **class**.    \n",
    "Imagina que creas un sofwtare para gestionar una escuela, y quieres representar a los \"profesores\" en tu código Python. Los profesores tendrán algunos datos asociados (`atributos` en la jerga `clase`), y podrán *realizar acciones* a través de funciones que llamaremos `métodos` (de nuevo, jerga `clase`).\n",
    "\n",
    "Podríamos hacerlo de uno en uno:"
   ]
  },
  {
   "cell_type": "code",
   "execution_count": 1,
   "id": "objective-rochester",
   "metadata": {},
   "outputs": [],
   "source": [
    "# Diccionario \n",
    "datos = {}\n"
   ]
  },
  {
   "cell_type": "code",
   "execution_count": 2,
   "id": "civil-johnson",
   "metadata": {},
   "outputs": [
    {
     "data": {
      "text/plain": [
       "'Fernando'"
      ]
     },
     "execution_count": 2,
     "metadata": {},
     "output_type": "execute_result"
    }
   ],
   "source": [
    "# Accedemos al nombre"
   ]
  },
  {
   "cell_type": "code",
   "execution_count": 3,
   "id": "vertical-potter",
   "metadata": {},
   "outputs": [
    {
     "data": {
      "text/plain": [
       "'fernando.costa@ironhack.com'"
      ]
     },
     "execution_count": 3,
     "metadata": {},
     "output_type": "execute_result"
    }
   ],
   "source": [
    "# Accedemos al e-mail"
   ]
  },
  {
   "cell_type": "code",
   "execution_count": 4,
   "id": "unique-count",
   "metadata": {},
   "outputs": [
    {
     "data": {
      "text/plain": [
       "'Costa'"
      ]
     },
     "execution_count": 4,
     "metadata": {},
     "output_type": "execute_result"
    }
   ],
   "source": [
    "# Accedemos al apellido\n"
   ]
  },
  {
   "cell_type": "markdown",
   "id": "copyrighted-definition",
   "metadata": {},
   "source": [
    "Os dejo [aquí](https://realpython.com/python-pep8/#naming-styles) un artículo de realpython sobre las convenciones para nombrar cosas (con cosas me refiero a variables, clases, funciones...cositas del código)\n",
    "La comunidad de usuarios de Python ha adoptado una guía de estilo que facilita la lectura del código y la consistencia entre programas de distintos usuarios. Esta guía no es de seguimiento obligatorio, pero es altamente recomendable."
   ]
  },
  {
   "cell_type": "code",
   "execution_count": 5,
   "id": "accurate-transcription",
   "metadata": {},
   "outputs": [],
   "source": [
    "# Sintaxis para definir una función\n"
   ]
  },
  {
   "cell_type": "code",
   "execution_count": 6,
   "id": "early-drain",
   "metadata": {},
   "outputs": [],
   "source": [
    "# Sintaxis para definir una clase\n"
   ]
  },
  {
   "cell_type": "code",
   "execution_count": 2,
   "id": "complimentary-finnish",
   "metadata": {},
   "outputs": [],
   "source": [
    "# Sintanxis para generar las instancias / objetos de la clase\n"
   ]
  },
  {
   "cell_type": "code",
   "execution_count": 8,
   "id": "settled-faculty",
   "metadata": {},
   "outputs": [
    {
     "data": {
      "text/plain": [
       "<__main__.Instructor at 0x7ff412a71ca0>"
      ]
     },
     "execution_count": 8,
     "metadata": {},
     "output_type": "execute_result"
    }
   ],
   "source": []
  },
  {
   "cell_type": "code",
   "execution_count": 9,
   "id": "junior-given",
   "metadata": {},
   "outputs": [
    {
     "data": {
      "text/plain": [
       "True"
      ]
     },
     "execution_count": 9,
     "metadata": {},
     "output_type": "execute_result"
    }
   ],
   "source": []
  },
  {
   "cell_type": "markdown",
   "id": "decimal-mission",
   "metadata": {},
   "source": [
    "### Atributos de instancia\n",
    "Contienen datos que son únicos para cada instancia."
   ]
  },
  {
   "cell_type": "code",
   "execution_count": 10,
   "id": "digital-personality",
   "metadata": {},
   "outputs": [],
   "source": [
    "# Podemos asignar atributos a las instanacias, una vez ya definidas de la siguiente manera"
   ]
  },
  {
   "cell_type": "code",
   "execution_count": 11,
   "id": "detected-bahamas",
   "metadata": {},
   "outputs": [],
   "source": []
  },
  {
   "cell_type": "code",
   "execution_count": 12,
   "id": "sustained-america",
   "metadata": {},
   "outputs": [
    {
     "data": {
      "text/plain": [
       "'Fernando'"
      ]
     },
     "execution_count": 12,
     "metadata": {},
     "output_type": "execute_result"
    }
   ],
   "source": [
    "# Recordatorio sacar values de un diccionario"
   ]
  },
  {
   "cell_type": "code",
   "execution_count": 13,
   "id": "conventional-recycling",
   "metadata": {},
   "outputs": [
    {
     "data": {
      "text/plain": [
       "'García'"
      ]
     },
     "execution_count": 13,
     "metadata": {},
     "output_type": "execute_result"
    }
   ],
   "source": [
    "# Exactamente igual lo hacemos en las clases, pero con un punto"
   ]
  },
  {
   "cell_type": "code",
   "execution_count": 14,
   "id": "changed-prophet",
   "metadata": {},
   "outputs": [
    {
     "name": "stdout",
     "output_type": "stream",
     "text": [
      "{'nombre': 'Ana', 'apellido': 'García'}\n",
      "<class 'dict'>\n"
     ]
    }
   ],
   "source": [
    "# Puedo exportar todos los atributos de un objeto de clase utilizando __dict__"
   ]
  },
  {
   "cell_type": "code",
   "execution_count": 15,
   "id": "acquired-building",
   "metadata": {},
   "outputs": [],
   "source": [
    "# Generar los atributos de la instancia así, no deja de ser repetititvo, y además podríamos equivocarnos...\n"
   ]
  },
  {
   "cell_type": "code",
   "execution_count": 16,
   "id": "metropolitan-cowboy",
   "metadata": {},
   "outputs": [],
   "source": []
  },
  {
   "cell_type": "code",
   "execution_count": null,
   "id": "senior-sewing",
   "metadata": {},
   "outputs": [],
   "source": []
  },
  {
   "cell_type": "markdown",
   "id": "narrative-inspection",
   "metadata": {},
   "source": [
    "En lugar de hacerlo uno por uno, podemos crear estas variables cada vez que se crea una instancia de un objeto con el método especial `__init__`.  Esta función define todas las acciones que deben realizarse cuando creamos un nuevo objeto. La razón por la que tenemos dos guiones bajos antes y después del nombre de la función es para indicar que esta función es interna al objeto y no debe ser llamada desde fuera del objeto.\n",
    "\n",
    "El método `__init__` recibe la instancia como primer argumento --- `fer` en el ejemplo anterior. Por convención, llamamos a ese argumento `self`, pero podría ser cualquier cosa. "
   ]
  },
  {
   "cell_type": "code",
   "execution_count": null,
   "id": "decent-wireless",
   "metadata": {},
   "outputs": [],
   "source": []
  },
  {
   "cell_type": "code",
   "execution_count": null,
   "id": "filled-screen",
   "metadata": {},
   "outputs": [],
   "source": []
  },
  {
   "cell_type": "code",
   "execution_count": null,
   "id": "detected-queen",
   "metadata": {},
   "outputs": [],
   "source": []
  },
  {
   "cell_type": "code",
   "execution_count": 18,
   "id": "operating-brain",
   "metadata": {},
   "outputs": [
    {
     "data": {
      "text/plain": [
       "'Ana'"
      ]
     },
     "execution_count": 18,
     "metadata": {},
     "output_type": "execute_result"
    }
   ],
   "source": []
  },
  {
   "cell_type": "code",
   "execution_count": 19,
   "id": "heard-mouth",
   "metadata": {},
   "outputs": [
    {
     "data": {
      "text/plain": [
       "'García'"
      ]
     },
     "execution_count": 19,
     "metadata": {},
     "output_type": "execute_result"
    }
   ],
   "source": []
  },
  {
   "cell_type": "code",
   "execution_count": 20,
   "id": "signal-istanbul",
   "metadata": {},
   "outputs": [
    {
     "ename": "AttributeError",
     "evalue": "'Instructor' object has no attribute 'email'",
     "output_type": "error",
     "traceback": [
      "\u001b[0;31m---------------------------------------------------------------------------\u001b[0m",
      "\u001b[0;31mAttributeError\u001b[0m                            Traceback (most recent call last)",
      "\u001b[0;32m<ipython-input-20-26ca0eb51062>\u001b[0m in \u001b[0;36m<module>\u001b[0;34m\u001b[0m\n\u001b[0;32m----> 1\u001b[0;31m \u001b[0mana\u001b[0m\u001b[0;34m.\u001b[0m\u001b[0memail\u001b[0m\u001b[0;34m\u001b[0m\u001b[0;34m\u001b[0m\u001b[0m\n\u001b[0m",
      "\u001b[0;31mAttributeError\u001b[0m: 'Instructor' object has no attribute 'email'"
     ]
    }
   ],
   "source": []
  },
  {
   "cell_type": "markdown",
   "id": "hindu-calcium",
   "metadata": {},
   "source": [
    "¿Qué hace self? Indica que los datos que estamos metiendo son para el objeto que estamos creando, es exactamente igual que cuando al principio hacíamaos ana.nombre = nombre "
   ]
  },
  {
   "cell_type": "markdown",
   "id": "activated-economy",
   "metadata": {},
   "source": [
    "#### Atributos por defecto\n",
    "\n",
    "Podemos inicializar los atributos con un valor por defecto por si luego, a la hora de crear las instancias, el usuario o nosotras mismas no ponemos nada en alguno de los atributos"
   ]
  },
  {
   "cell_type": "code",
   "execution_count": 48,
   "id": "spatial-melissa",
   "metadata": {},
   "outputs": [],
   "source": []
  },
  {
   "cell_type": "code",
   "execution_count": 22,
   "id": "thirty-arcade",
   "metadata": {},
   "outputs": [],
   "source": []
  },
  {
   "cell_type": "code",
   "execution_count": 23,
   "id": "young-middle",
   "metadata": {},
   "outputs": [
    {
     "data": {
      "text/plain": [
       "'Fernando'"
      ]
     },
     "execution_count": 23,
     "metadata": {},
     "output_type": "execute_result"
    }
   ],
   "source": []
  },
  {
   "cell_type": "code",
   "execution_count": 24,
   "id": "victorian-corrections",
   "metadata": {},
   "outputs": [
    {
     "data": {
      "text/plain": [
       "'fernando.costaironhack.com'"
      ]
     },
     "execution_count": 24,
     "metadata": {},
     "output_type": "execute_result"
    }
   ],
   "source": []
  },
  {
   "cell_type": "code",
   "execution_count": 25,
   "id": "square-workplace",
   "metadata": {},
   "outputs": [
    {
     "data": {
      "text/plain": [
       "30"
      ]
     },
     "execution_count": 25,
     "metadata": {},
     "output_type": "execute_result"
    }
   ],
   "source": []
  },
  {
   "cell_type": "code",
   "execution_count": 26,
   "id": "practical-sewing",
   "metadata": {},
   "outputs": [
    {
     "data": {
      "text/plain": [
       "{'nombre': 'Fernando',\n",
       " 'apellido': 'Costa',\n",
       " 'vacaciones': 30,\n",
       " 'email': 'fernando.costaironhack.com'}"
      ]
     },
     "execution_count": 26,
     "metadata": {},
     "output_type": "execute_result"
    }
   ],
   "source": []
  },
  {
   "cell_type": "code",
   "execution_count": 27,
   "id": "duplicate-surfing",
   "metadata": {},
   "outputs": [
    {
     "data": {
      "text/plain": [
       "dict"
      ]
     },
     "execution_count": 27,
     "metadata": {},
     "output_type": "execute_result"
    }
   ],
   "source": []
  },
  {
   "cell_type": "code",
   "execution_count": 28,
   "id": "overhead-consistency",
   "metadata": {},
   "outputs": [
    {
     "name": "stdout",
     "output_type": "stream",
     "text": [
      "{'nombre': 'Fernando', 'apellido': 'Costa', 'vacaciones': 30, 'email': 'fernando.costaironhack.com'}\n",
      "<class 'dict'>\n"
     ]
    }
   ],
   "source": []
  },
  {
   "cell_type": "code",
   "execution_count": 29,
   "id": "painted-tribe",
   "metadata": {},
   "outputs": [
    {
     "data": {
      "text/plain": [
       "<__main__.Instructor at 0x7ff412aab160>"
      ]
     },
     "execution_count": 29,
     "metadata": {},
     "output_type": "execute_result"
    }
   ],
   "source": [
    "# la variable Fer es un objeto de la clase Instructor\n"
   ]
  },
  {
   "cell_type": "markdown",
   "id": "coated-convenience",
   "metadata": {},
   "source": [
    "### Métodos de instancia "
   ]
  },
  {
   "cell_type": "markdown",
   "id": "divided-priest",
   "metadata": {},
   "source": [
    "Son funciones dentro de las clases que nos ahorrarán mucho tiempo"
   ]
  },
  {
   "cell_type": "code",
   "execution_count": 30,
   "id": "convenient-monitor",
   "metadata": {},
   "outputs": [
    {
     "name": "stdout",
     "output_type": "stream",
     "text": [
      "Hola, soy Ana García y tengo cuidado con los prints infinitos ¿y tú?\n"
     ]
    }
   ],
   "source": []
  },
  {
   "cell_type": "code",
   "execution_count": 33,
   "id": "curious-detroit",
   "metadata": {},
   "outputs": [],
   "source": [
    "# función que saluda\n"
   ]
  },
  {
   "cell_type": "code",
   "execution_count": 34,
   "id": "hazardous-belly",
   "metadata": {},
   "outputs": [
    {
     "name": "stdout",
     "output_type": "stream",
     "text": [
      "Hola, soy Amanda Gálvez y tengo cuidado con los prints infinitos ¿y tú?\n"
     ]
    }
   ],
   "source": []
  },
  {
   "cell_type": "code",
   "execution_count": 36,
   "id": "arbitrary-poland",
   "metadata": {},
   "outputs": [
    {
     "name": "stdout",
     "output_type": "stream",
     "text": [
      "Hola, soy Vicky Ruiz y tengo cuidado con los prints infinitos ¿y tú?\n"
     ]
    }
   ],
   "source": [
    "# llamamos a la función con dos argumentos\n"
   ]
  },
  {
   "cell_type": "code",
   "execution_count": 51,
   "id": "multiple-income",
   "metadata": {},
   "outputs": [],
   "source": []
  },
  {
   "cell_type": "markdown",
   "id": "simple-sodium",
   "metadata": {},
   "source": [
    "**Ojo**     👀        \n",
    "Si modificamos una clase y añadimos atributos o métodos, tenemos que volver a crear el objeto para que se inicialice con esos atributos y tenga esos métodos."
   ]
  },
  {
   "cell_type": "code",
   "execution_count": 50,
   "id": "figured-briefs",
   "metadata": {},
   "outputs": [
    {
     "ename": "AttributeError",
     "evalue": "'Instructor' object has no attribute 'presentacion'",
     "output_type": "error",
     "traceback": [
      "\u001b[0;31m---------------------------------------------------------------------------\u001b[0m",
      "\u001b[0;31mAttributeError\u001b[0m                            Traceback (most recent call last)",
      "\u001b[0;32m<ipython-input-50-ad1d377cc828>\u001b[0m in \u001b[0;36m<module>\u001b[0;34m\u001b[0m\n\u001b[0;32m----> 1\u001b[0;31m \u001b[0mana\u001b[0m\u001b[0;34m.\u001b[0m\u001b[0mpresentacion\u001b[0m\u001b[0;34m\u001b[0m\u001b[0;34m\u001b[0m\u001b[0m\n\u001b[0m",
      "\u001b[0;31mAttributeError\u001b[0m: 'Instructor' object has no attribute 'presentacion'"
     ]
    }
   ],
   "source": []
  },
  {
   "cell_type": "code",
   "execution_count": 53,
   "id": "swedish-article",
   "metadata": {},
   "outputs": [],
   "source": [
    "# Lo tengo que volver a crear :) \n"
   ]
  },
  {
   "cell_type": "code",
   "execution_count": 54,
   "id": "exotic-moldova",
   "metadata": {},
   "outputs": [
    {
     "name": "stdout",
     "output_type": "stream",
     "text": [
      "Hola, soy Ana García y tengo cuidado con los prints inifinitos\n"
     ]
    }
   ],
   "source": []
  },
  {
   "cell_type": "code",
   "execution_count": 55,
   "id": "statutory-envelope",
   "metadata": {},
   "outputs": [
    {
     "name": "stdout",
     "output_type": "stream",
     "text": [
      "Hola, soy Fernando Costa y tengo cuidado con los prints inifinitos\n"
     ]
    }
   ],
   "source": []
  },
  {
   "cell_type": "code",
   "execution_count": 56,
   "id": "removable-killer",
   "metadata": {},
   "outputs": [
    {
     "ename": "NameError",
     "evalue": "name 'presentacion' is not defined",
     "output_type": "error",
     "traceback": [
      "\u001b[0;31m---------------------------------------------------------------------------\u001b[0m",
      "\u001b[0;31mNameError\u001b[0m                                 Traceback (most recent call last)",
      "\u001b[0;32m<ipython-input-56-4aca48989943>\u001b[0m in \u001b[0;36m<module>\u001b[0;34m\u001b[0m\n\u001b[0;32m----> 1\u001b[0;31m \u001b[0mpresentacion\u001b[0m\u001b[0;34m(\u001b[0m\u001b[0;34m)\u001b[0m\u001b[0;34m\u001b[0m\u001b[0;34m\u001b[0m\u001b[0m\n\u001b[0m",
      "\u001b[0;31mNameError\u001b[0m: name 'presentacion' is not defined"
     ]
    }
   ],
   "source": []
  },
  {
   "cell_type": "markdown",
   "id": "flying-parameter",
   "metadata": {},
   "source": [
    "#### Python está construido con objetos\n",
    "En Python los tipos de datos primitivos son también objetos que tienen asociados atributos y métodos."
   ]
  },
  {
   "cell_type": "code",
   "execution_count": 57,
   "id": "approved-transsexual",
   "metadata": {},
   "outputs": [
    {
     "name": "stdout",
     "output_type": "stream",
     "text": [
      "PYTHON\n"
     ]
    }
   ],
   "source": [
    "#llamamos al método de la clase string "
   ]
  },
  {
   "cell_type": "markdown",
   "id": "robust-cursor",
   "metadata": {},
   "source": [
    "Siempre que hacemos .algo, es porque estmos llamando a los métodos de esa clase, igual que antes hemos llamado a\n",
    "```python\n",
    "fer.presentacion()\n",
    "````"
   ]
  },
  {
   "cell_type": "markdown",
   "id": "graduate-satellite",
   "metadata": {},
   "source": [
    "### Variables de clase\n",
    "\n",
    "Las variables de instancia son únicas para cada instancia. Las variables de clase, en cambio, son comunes a todas las instancias de una clase."
   ]
  },
  {
   "cell_type": "code",
   "execution_count": 76,
   "id": "frequent-training",
   "metadata": {},
   "outputs": [],
   "source": []
  },
  {
   "cell_type": "code",
   "execution_count": 78,
   "id": "expressed-resistance",
   "metadata": {},
   "outputs": [
    {
     "data": {
      "text/plain": [
       "30"
      ]
     },
     "execution_count": 78,
     "metadata": {},
     "output_type": "execute_result"
    }
   ],
   "source": []
  },
  {
   "cell_type": "code",
   "execution_count": null,
   "id": "popular-workshop",
   "metadata": {},
   "outputs": [],
   "source": [
    "#Ahora todos los objetos que creemos a partir de la clase Instructor, le pondrá la variable horas_lectivas a 8"
   ]
  },
  {
   "cell_type": "code",
   "execution_count": 79,
   "id": "dated-dragon",
   "metadata": {},
   "outputs": [],
   "source": []
  },
  {
   "cell_type": "code",
   "execution_count": 61,
   "id": "tropical-disco",
   "metadata": {},
   "outputs": [
    {
     "data": {
      "text/plain": [
       "8"
      ]
     },
     "execution_count": 61,
     "metadata": {},
     "output_type": "execute_result"
    }
   ],
   "source": []
  },
  {
   "cell_type": "code",
   "execution_count": null,
   "id": "failing-treatment",
   "metadata": {},
   "outputs": [],
   "source": [
    "# puedo sobreescribir estas variables"
   ]
  },
  {
   "cell_type": "code",
   "execution_count": 62,
   "id": "agricultural-wrapping",
   "metadata": {},
   "outputs": [],
   "source": []
  },
  {
   "cell_type": "code",
   "execution_count": 63,
   "id": "powered-target",
   "metadata": {},
   "outputs": [
    {
     "data": {
      "text/plain": [
       "8"
      ]
     },
     "execution_count": 63,
     "metadata": {},
     "output_type": "execute_result"
    }
   ],
   "source": []
  },
  {
   "cell_type": "code",
   "execution_count": 64,
   "id": "urban-generation",
   "metadata": {},
   "outputs": [],
   "source": []
  },
  {
   "cell_type": "code",
   "execution_count": 65,
   "id": "diagnostic-membrane",
   "metadata": {},
   "outputs": [
    {
     "data": {
      "text/plain": [
       "8"
      ]
     },
     "execution_count": 65,
     "metadata": {},
     "output_type": "execute_result"
    }
   ],
   "source": []
  },
  {
   "cell_type": "markdown",
   "id": "parliamentary-gateway",
   "metadata": {},
   "source": [
    "Observamos que Python está creando un nuevo atributo para Fer, que anula la variable de clase"
   ]
  },
  {
   "cell_type": "code",
   "execution_count": 67,
   "id": "biblical-adolescent",
   "metadata": {},
   "outputs": [
    {
     "data": {
      "text/plain": [
       "{'nombre': 'Fernando',\n",
       " 'apellido': 'Costa',\n",
       " 'vacaciones': 30,\n",
       " 'email': 'fernando.costaironhack.com',\n",
       " 'horas_lectivas': 9}"
      ]
     },
     "execution_count": 67,
     "metadata": {},
     "output_type": "execute_result"
    }
   ],
   "source": []
  },
  {
   "cell_type": "markdown",
   "id": "hidden-reporter",
   "metadata": {},
   "source": [
    "**También OJO**    \n",
    "Si yo quiero moficar una variable de clase para todos los objetos ya creados y no tener que ir de uno en uno.\n",
    "Aunque hay un pero con esto....  🙃"
   ]
  },
  {
   "cell_type": "code",
   "execution_count": 69,
   "id": "formed-optics",
   "metadata": {},
   "outputs": [],
   "source": [
    "# Modificamos variable de clase\n"
   ]
  },
  {
   "cell_type": "code",
   "execution_count": 70,
   "id": "formed-norway",
   "metadata": {},
   "outputs": [
    {
     "data": {
      "text/plain": [
       "10"
      ]
     },
     "execution_count": 70,
     "metadata": {},
     "output_type": "execute_result"
    }
   ],
   "source": []
  },
  {
   "cell_type": "code",
   "execution_count": 71,
   "id": "younger-charge",
   "metadata": {},
   "outputs": [
    {
     "data": {
      "text/plain": [
       "10"
      ]
     },
     "execution_count": 71,
     "metadata": {},
     "output_type": "execute_result"
    }
   ],
   "source": []
  },
  {
   "cell_type": "code",
   "execution_count": 72,
   "id": "warming-ghana",
   "metadata": {},
   "outputs": [
    {
     "data": {
      "text/plain": [
       "9"
      ]
     },
     "execution_count": 72,
     "metadata": {},
     "output_type": "execute_result"
    }
   ],
   "source": []
  },
  {
   "cell_type": "code",
   "execution_count": 73,
   "id": "regulation-parts",
   "metadata": {},
   "outputs": [],
   "source": [
    "# Reminder puedo modificar atributos que no sean de clase"
   ]
  },
  {
   "cell_type": "code",
   "execution_count": 74,
   "id": "dressed-renaissance",
   "metadata": {},
   "outputs": [],
   "source": []
  },
  {
   "cell_type": "code",
   "execution_count": 75,
   "id": "enormous-attempt",
   "metadata": {},
   "outputs": [
    {
     "data": {
      "text/plain": [
       "35"
      ]
     },
     "execution_count": 75,
     "metadata": {},
     "output_type": "execute_result"
    }
   ],
   "source": []
  },
  {
   "cell_type": "markdown",
   "id": "familiar-lighting",
   "metadata": {},
   "source": [
    "En general, no deben usarse atributos de clase, excepto para almacenar valores constantes."
   ]
  },
  {
   "cell_type": "markdown",
   "id": "stunning-worse",
   "metadata": {},
   "source": [
    "### Métodos que pueden modificar atributos"
   ]
  },
  {
   "cell_type": "code",
   "execution_count": 81,
   "id": "exclusive-inclusion",
   "metadata": {},
   "outputs": [],
   "source": [
    "class Instructor:"
   ]
  },
  {
   "cell_type": "code",
   "execution_count": 82,
   "id": "committed-bench",
   "metadata": {},
   "outputs": [],
   "source": []
  },
  {
   "cell_type": "code",
   "execution_count": 83,
   "id": "reported-guyana",
   "metadata": {},
   "outputs": [
    {
     "data": {
      "text/plain": [
       "35"
      ]
     },
     "execution_count": 83,
     "metadata": {},
     "output_type": "execute_result"
    }
   ],
   "source": []
  },
  {
   "cell_type": "code",
   "execution_count": 84,
   "id": "documented-crystal",
   "metadata": {},
   "outputs": [],
   "source": []
  },
  {
   "cell_type": "code",
   "execution_count": 85,
   "id": "absent-reader",
   "metadata": {},
   "outputs": [
    {
     "data": {
      "text/plain": [
       "34"
      ]
     },
     "execution_count": 85,
     "metadata": {},
     "output_type": "execute_result"
    }
   ],
   "source": []
  },
  {
   "cell_type": "code",
   "execution_count": 86,
   "id": "indonesian-modeling",
   "metadata": {},
   "outputs": [],
   "source": []
  },
  {
   "cell_type": "code",
   "execution_count": 87,
   "id": "continuing-cycle",
   "metadata": {},
   "outputs": [
    {
     "data": {
      "text/plain": [
       "29"
      ]
     },
     "execution_count": 87,
     "metadata": {},
     "output_type": "execute_result"
    }
   ],
   "source": []
  },
  {
   "cell_type": "markdown",
   "id": "polished-values",
   "metadata": {},
   "source": [
    "**Ejercicio**\n",
    "\n",
    "Crear una clase `Círculo` con:\n",
    "* radio como variable de instancia/objeto\n",
    "* pi (math.pi) como variable de clase\n",
    "* un método calcular_área(self) que devuelva el área del objeto \"círculo\""
   ]
  },
  {
   "cell_type": "code",
   "execution_count": 88,
   "id": "alone-leadership",
   "metadata": {},
   "outputs": [
    {
     "data": {
      "text/plain": [
       "3.141592653589793"
      ]
     },
     "execution_count": 88,
     "metadata": {},
     "output_type": "execute_result"
    }
   ],
   "source": [
    "\n"
   ]
  },
  {
   "cell_type": "code",
   "execution_count": 113,
   "id": "civil-furniture",
   "metadata": {},
   "outputs": [],
   "source": [
    "# Corregimos el ejercicio"
   ]
  },
  {
   "cell_type": "code",
   "execution_count": 107,
   "id": "interpreted-gothic",
   "metadata": {},
   "outputs": [],
   "source": [
    "# Instanciamos un objeto a través de la clase Círculo con radio 10"
   ]
  },
  {
   "cell_type": "code",
   "execution_count": 110,
   "id": "stunning-hospital",
   "metadata": {},
   "outputs": [
    {
     "data": {
      "text/plain": [
       "314.1592653589793"
      ]
     },
     "execution_count": 110,
     "metadata": {},
     "output_type": "execute_result"
    }
   ],
   "source": [
    "# Llamamos al método calcula_area de ese objeto\n",
    "circulito.calcular_area("
   ]
  },
  {
   "cell_type": "code",
   "execution_count": 111,
   "id": "naval-column",
   "metadata": {},
   "outputs": [],
   "source": []
  },
  {
   "cell_type": "code",
   "execution_count": 112,
   "id": "forward-investor",
   "metadata": {},
   "outputs": [
    {
     "name": "stdout",
     "output_type": "stream",
     "text": [
      "314.1592653589793\n"
     ]
    }
   ],
   "source": []
  },
  {
   "cell_type": "code",
   "execution_count": 102,
   "id": "worldwide-triangle",
   "metadata": {},
   "outputs": [
    {
     "data": {
      "text/plain": [
       "3.141592653589793"
      ]
     },
     "execution_count": 102,
     "metadata": {},
     "output_type": "execute_result"
    }
   ],
   "source": []
  },
  {
   "cell_type": "markdown",
   "id": "loved-yahoo",
   "metadata": {},
   "source": [
    "## Antes de seguir, cogemos aire y repasamos vocabulario"
   ]
  },
  {
   "cell_type": "markdown",
   "id": "increasing-royal",
   "metadata": {},
   "source": [
    "**Clase**: El molde de las galletas. Con la clase podemos generar instancias u objetos.\n",
    "**Objeto**: La galleta que generamos. Cada objeto tiene características diferentes pero bajo el mismo patrón que sería la clase.       \n",
    "**Instancia**: Lo mismo que el objeto, es un sinónimo :) jeje      \n",
    "**Atributo**: Los ingredientes distintos de cada objeto. Están definidos como argumentos en la función __init__ pero se guardan como datos cuando instanciamos un objeto llamando a la clase     \n",
    "```python\n",
    "fer = Instructor(\"Fernando\", \"Costa\")\n",
    "\n",
    "```\n",
    "Podemos decir que los atributos son los DATOS, en este caso \"Fernando\" y \"Costa.\n",
    "Son variables   \n",
    "\n",
    "\n",
    "**Atributo de clase**: Variables que pertenecen a la clase y que van a ser iguales en todos los objetos.      \n",
    "**Atributo de objeto/instancia**: Los artributos explicados arriba, propios de cada objeto.     \n",
    "**Método**: Funciones que hacen cosas    \n"
   ]
  },
  {
   "cell_type": "code",
   "execution_count": null,
   "id": "lightweight-costs",
   "metadata": {},
   "outputs": [],
   "source": [
    "# Ejercicio fácil\n",
    "https://www.codewars.com/kata/53f0f358b9cb376eca001079/train/python"
   ]
  },
  {
   "cell_type": "markdown",
   "id": "pressed-proof",
   "metadata": {},
   "source": [
    "## Herencia (Inheritance)"
   ]
  },
  {
   "cell_type": "markdown",
   "id": "japanese-execution",
   "metadata": {},
   "source": [
    "La herencia permite definir nuevas clases a partir de clases existentes. A la clase de la que se hereda se le denomina \"clase madre\"/\"superclase\"/\"parent\". A la clase que hereda se la denomina \"clase hija\"(\"child\") o \"subclase.\"    \n",
    "La clase hija \"hereda\" todas las propiedades de la clase madre y nos permite redefinir métodos y atributos o añadir nuevos. La ventaja fundamental que aporta el mecanismo de herencia a la programación es la capacidad de reutilizar el código. Así, un conjunto de clases que compartan atributos y métodos pueden heredar de una superclase donde se definan esos métodos y atributos."
   ]
  },
  {
   "cell_type": "markdown",
   "id": "wanted-works",
   "metadata": {},
   "source": [
    "\n",
    "![miniyoda](https://media.giphy.com/media/j0eRJzyW7XjMpu1Pqd/giphy.gif)"
   ]
  },
  {
   "cell_type": "code",
   "execution_count": 114,
   "id": "australian-password",
   "metadata": {},
   "outputs": [],
   "source": [
    "# para crear diferentes tipos de profesores"
   ]
  },
  {
   "cell_type": "code",
   "execution_count": 115,
   "id": "integral-guyana",
   "metadata": {},
   "outputs": [],
   "source": [
    "# Creamos un \"tipo especial\" de instructors que heredan de instructor\n",
    "class Lead(Instructor):\n",
    "    pass"
   ]
  },
  {
   "cell_type": "code",
   "execution_count": 116,
   "id": "biblical-guyana",
   "metadata": {},
   "outputs": [],
   "source": []
  },
  {
   "cell_type": "code",
   "execution_count": 117,
   "id": "typical-platinum",
   "metadata": {},
   "outputs": [
    {
     "data": {
      "text/plain": [
       "<__main__.Lead at 0x7ff414018f10>"
      ]
     },
     "execution_count": 117,
     "metadata": {},
     "output_type": "execute_result"
    }
   ],
   "source": []
  },
  {
   "cell_type": "code",
   "execution_count": 118,
   "id": "answering-drawing",
   "metadata": {},
   "outputs": [
    {
     "data": {
      "text/plain": [
       "35"
      ]
     },
     "execution_count": 118,
     "metadata": {},
     "output_type": "execute_result"
    }
   ],
   "source": []
  },
  {
   "cell_type": "code",
   "execution_count": 119,
   "id": "focused-technique",
   "metadata": {},
   "outputs": [
    {
     "data": {
      "text/plain": [
       "8"
      ]
     },
     "execution_count": 119,
     "metadata": {},
     "output_type": "execute_result"
    }
   ],
   "source": []
  },
  {
   "cell_type": "code",
   "execution_count": 120,
   "id": "dressed-omaha",
   "metadata": {},
   "outputs": [
    {
     "name": "stdout",
     "output_type": "stream",
     "text": [
      "Hola, soy Germán Álvarez y tengo cuidado con los prints inifinitos\n"
     ]
    }
   ],
   "source": []
  },
  {
   "cell_type": "code",
   "execution_count": 121,
   "id": "fatty-healing",
   "metadata": {},
   "outputs": [
    {
     "data": {
      "text/plain": [
       "True"
      ]
     },
     "execution_count": 121,
     "metadata": {},
     "output_type": "execute_result"
    }
   ],
   "source": []
  },
  {
   "cell_type": "markdown",
   "id": "continuing-fundamental",
   "metadata": {},
   "source": [
    "- Método definido en el `parent`, pero no en el `child`\n",
    "\n",
    "En este caso, el hijo heredará el método del padre, funcionará exactamente igual y no hay que redefinirlo.\n",
    "\n",
    "- Método definido en `Child`, pero no en Parent\n",
    "\n",
    "El método sólo pertenece al hijo. La herencia es en un solo sentido.\n",
    "\n",
    "- Método definido en \"ambos\".\n",
    "\n",
    "Aquí pueden ocurrir dos cosas, pero ambas son una variante del mismo hecho. El método escrito en la clase `Child` sobrescribirá el definido anteriormente en Parent.\n",
    "\n",
    "Sin embargo, si queremos utilizar el método original y simplemente añadirle algo más, siempre podemos hacer referencia al método original (de padre) con `super()`. La función `super()` nos permite llamar a cualquier método de la clase padre. Sólo recuerda llamarlo sobre el nuevo definido y asegurarte de obtener todos los atributos que necesita 😉 ."
   ]
  },
  {
   "cell_type": "markdown",
   "id": "willing-workshop",
   "metadata": {},
   "source": [
    "### super()"
   ]
  },
  {
   "cell_type": "code",
   "execution_count": 122,
   "id": "sustainable-niger",
   "metadata": {},
   "outputs": [],
   "source": [
    "import random"
   ]
  },
  {
   "cell_type": "code",
   "execution_count": 124,
   "id": "incorrect-sacramento",
   "metadata": {},
   "outputs": [],
   "source": [
    "# Veámosle la utilidad      \n",
    "class Lead(Instructor):\n",
    "    \n",
    "    horas_lectivas = 9\n",
    "    \n",
    "    def __init__(self, nombre,apellido,vacaciones,grupo):\n",
    "        super().__init__(nombre,apellido,vacaciones) # Tomamos los atributos de la clase parent \n",
    "        self.cohort = grupo #Este atributo es propio y único de la clase Lead\n",
    "    \n",
    "    def presentacion(self):\n",
    "        print(f\"Hola soy {self.nombre} {self.apellido} y soy lead  del bootcamp de {self.cohort}\")\n",
    "    \n",
    "    def elegir_alumno(self, lista_alumnos):\n",
    "        return random.choice(lista_alumnos)"
   ]
  },
  {
   "cell_type": "code",
   "execution_count": 125,
   "id": "dependent-victim",
   "metadata": {},
   "outputs": [],
   "source": [
    "german = Lead(\"Germán\", \"Álvarez\", 30, \"Web\")"
   ]
  },
  {
   "cell_type": "code",
   "execution_count": 126,
   "id": "living-adaptation",
   "metadata": {},
   "outputs": [],
   "source": [
    "clase = [\"Borja\",  \"Vicky\",  \"Santi\", \"Álvaro\", \"Olaya\", \"Cristian\"]"
   ]
  },
  {
   "cell_type": "code",
   "execution_count": 128,
   "id": "liquid-congo",
   "metadata": {},
   "outputs": [
    {
     "data": {
      "text/plain": [
       "'Web'"
      ]
     },
     "execution_count": 128,
     "metadata": {},
     "output_type": "execute_result"
    }
   ],
   "source": [
    "german.cohort"
   ]
  },
  {
   "cell_type": "code",
   "execution_count": 129,
   "id": "forward-repository",
   "metadata": {},
   "outputs": [
    {
     "data": {
      "text/plain": [
       "30"
      ]
     },
     "execution_count": 129,
     "metadata": {},
     "output_type": "execute_result"
    }
   ],
   "source": [
    "german.vacaciones"
   ]
  },
  {
   "cell_type": "code",
   "execution_count": 130,
   "id": "weird-industry",
   "metadata": {},
   "outputs": [
    {
     "name": "stdout",
     "output_type": "stream",
     "text": [
      "Hola soy Germán Álvarez y soy lead  del bootcamp de Web\n"
     ]
    }
   ],
   "source": [
    "german.presentacion()"
   ]
  },
  {
   "cell_type": "code",
   "execution_count": 131,
   "id": "informative-encyclopedia",
   "metadata": {},
   "outputs": [
    {
     "name": "stdout",
     "output_type": "stream",
     "text": [
      "Hola, soy Fernando Costa y tengo cuidado con los prints inifinitos\n"
     ]
    }
   ],
   "source": [
    "fer.presentacion()"
   ]
  },
  {
   "cell_type": "code",
   "execution_count": 132,
   "id": "indie-tourist",
   "metadata": {},
   "outputs": [],
   "source": [
    "german.coger_vacaciones(7)"
   ]
  },
  {
   "cell_type": "code",
   "execution_count": 133,
   "id": "viral-appeal",
   "metadata": {},
   "outputs": [
    {
     "data": {
      "text/plain": [
       "23"
      ]
     },
     "execution_count": 133,
     "metadata": {},
     "output_type": "execute_result"
    }
   ],
   "source": [
    "german.vacaciones"
   ]
  },
  {
   "cell_type": "code",
   "execution_count": 134,
   "id": "sharing-company",
   "metadata": {},
   "outputs": [
    {
     "data": {
      "text/plain": [
       "'Borja'"
      ]
     },
     "execution_count": 134,
     "metadata": {},
     "output_type": "execute_result"
    }
   ],
   "source": [
    "german.elegir_alumno(clase)"
   ]
  },
  {
   "cell_type": "code",
   "execution_count": 137,
   "id": "arabic-assembly",
   "metadata": {},
   "outputs": [
    {
     "ename": "AttributeError",
     "evalue": "'Instructor' object has no attribute 'elegir_alumno'",
     "output_type": "error",
     "traceback": [
      "\u001b[0;31m---------------------------------------------------------------------------\u001b[0m",
      "\u001b[0;31mAttributeError\u001b[0m                            Traceback (most recent call last)",
      "\u001b[0;32m<ipython-input-137-91f755f8fcff>\u001b[0m in \u001b[0;36m<module>\u001b[0;34m\u001b[0m\n\u001b[0;32m----> 1\u001b[0;31m \u001b[0mfer\u001b[0m\u001b[0;34m.\u001b[0m\u001b[0melegir_alumno\u001b[0m\u001b[0;34m(\u001b[0m\u001b[0;34m)\u001b[0m\u001b[0;34m\u001b[0m\u001b[0;34m\u001b[0m\u001b[0m\n\u001b[0m",
      "\u001b[0;31mAttributeError\u001b[0m: 'Instructor' object has no attribute 'elegir_alumno'"
     ]
    }
   ],
   "source": [
    "# Lo que escribimos en las clases child no influye para nada en los objetos creados a partir de clases parent\n",
    "fer.elegir_alumno()"
   ]
  },
  {
   "cell_type": "markdown",
   "id": "middle-saver",
   "metadata": {},
   "source": [
    "### Resolución de métodos"
   ]
  },
  {
   "cell_type": "code",
   "execution_count": 135,
   "id": "metallic-differential",
   "metadata": {},
   "outputs": [
    {
     "name": "stdout",
     "output_type": "stream",
     "text": [
      "Help on class Lead in module __main__:\n",
      "\n",
      "class Lead(Instructor)\n",
      " |  Lead(nombre, apellido, vacaciones, grupo)\n",
      " |  \n",
      " |  Method resolution order:\n",
      " |      Lead\n",
      " |      Instructor\n",
      " |      builtins.object\n",
      " |  \n",
      " |  Methods defined here:\n",
      " |  \n",
      " |  __init__(self, nombre, apellido, vacaciones, grupo)\n",
      " |      Inicializa los atributos de clase\n",
      " |  \n",
      " |  elegir_alumno(self, lista_alumnos)\n",
      " |  \n",
      " |  presentacion(self)\n",
      " |  \n",
      " |  ----------------------------------------------------------------------\n",
      " |  Data and other attributes defined here:\n",
      " |  \n",
      " |  horas_lectivas = 9\n",
      " |  \n",
      " |  ----------------------------------------------------------------------\n",
      " |  Methods inherited from Instructor:\n",
      " |  \n",
      " |  coger_vacaciones(self, dias=1)\n",
      " |  \n",
      " |  ----------------------------------------------------------------------\n",
      " |  Data descriptors inherited from Instructor:\n",
      " |  \n",
      " |  __dict__\n",
      " |      dictionary for instance variables (if defined)\n",
      " |  \n",
      " |  __weakref__\n",
      " |      list of weak references to the object (if defined)\n",
      "\n",
      "None\n"
     ]
    }
   ],
   "source": [
    "print(help(Lead))"
   ]
  },
  {
   "cell_type": "markdown",
   "id": "corresponding-business",
   "metadata": {},
   "source": [
    "## Resumen\n",
    "Ahora es su turno: ¿Qué hemos aprendido\n",
    "\n",
    "- Las variables / atributos de clase: son comunes para todas las clases\n",
    "- Las variables / atributos de instancia / objeto : son propias de cada objeto y se construyen en el init aunque es verdad que tienen la misma \"estructura\" lo que cambia es el dato almacenado. \n",
    "- Las clases pueden heredar de otras clases\n",
    "- Con super().__init__ ejecuto el init del parent para que herede lo que quiero\n",
    "- isinstance() compruebo si un objeto es instancia de una clase\n",
    "- issubclass() compruebo si una clase hereda de otra\n",
    "- Definición de métodos dentro de clases:  los métodos funciones que pueden recibir argumentos propios (self) y también argumentos externos.\n",
    "- Métodos que modifican los propios atributos --> Cogerse días de vacaciones \n"
   ]
  },
  {
   "cell_type": "markdown",
   "id": "christian-breach",
   "metadata": {},
   "source": [
    "## Further materials\n",
    "\n",
    "* Tutorial de Youtube de [Corey Schafer](https://www.youtube.com/watch?v=ZDa-Z5JzLYM)\n",
    "* [Real Python](https://docs.hektorprofe.net/python/programacion-orientada-a-objetos/clases-y-objetos/)\n",
    "* [Interesante lectura](https://medium.com/@shaistha24/functional-programming-vs-object-oriented-programming-oop-which-is-better-82172e53a526) --> OOP vs Functional programming"
   ]
  },
  {
   "cell_type": "markdown",
   "id": "technical-chocolate",
   "metadata": {},
   "source": [
    "### Métodos **AVANZADOS** @classmethod @staticmethod\n",
    "* [Real Python - @classmethod/@stathicmethod](https://realpython.com/instance-class-and-static-methods-demystified/) - Python avanzado con decoradores (los mencionaremos más adelante)"
   ]
  }
 ],
 "metadata": {
  "kernelspec": {
   "display_name": "Python 3",
   "language": "python",
   "name": "python3"
  },
  "language_info": {
   "codemirror_mode": {
    "name": "ipython",
    "version": 3
   },
   "file_extension": ".py",
   "mimetype": "text/x-python",
   "name": "python",
   "nbconvert_exporter": "python",
   "pygments_lexer": "ipython3",
   "version": "3.8.5"
  },
  "toc": {
   "base_numbering": 1,
   "nav_menu": {},
   "number_sections": true,
   "sideBar": true,
   "skip_h1_title": true,
   "title_cell": "Table of Contents",
   "title_sidebar": "Contents",
   "toc_cell": true,
   "toc_position": {
    "height": "calc(100% - 180px)",
    "left": "10px",
    "top": "150px",
    "width": "288px"
   },
   "toc_section_display": true,
   "toc_window_display": false
  }
 },
 "nbformat": 4,
 "nbformat_minor": 5
}
