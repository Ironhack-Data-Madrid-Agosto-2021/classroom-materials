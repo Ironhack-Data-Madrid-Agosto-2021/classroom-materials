{
 "cells": [
  {
   "cell_type": "markdown",
   "metadata": {},
   "source": [
    "# Numpy"
   ]
  },
  {
   "cell_type": "markdown",
   "metadata": {},
   "source": [
    "![elgif](https://media.giphy.com/media/VHqZtsoHHPo58EL7Ua/giphy.gif)"
   ]
  },
  {
   "cell_type": "markdown",
   "metadata": {
    "toc": true
   },
   "source": [
    "<h1>Table of Contents<span class=\"tocSkip\"></span></h1>\n",
    "<div class=\"toc\"><ul class=\"toc-item\"><li><span><a href=\"#¿Qué-es-Numpy?\" data-toc-modified-id=\"¿Qué-es-Numpy?-1\"><span class=\"toc-item-num\">1&nbsp;&nbsp;</span>¿Qué es Numpy?</a></span></li><li><span><a href=\"#Trabajar-con-datos-numéricos\" data-toc-modified-id=\"Trabajar-con-datos-numéricos-2\"><span class=\"toc-item-num\">2&nbsp;&nbsp;</span>Trabajar con datos numéricos</a></span></li><li><span><a href=\"#Pasar-de-las-listas-de-Python-a-las-matrices-de-Numpy\" data-toc-modified-id=\"Pasar-de-las-listas-de-Python-a-las-matrices-de-Numpy-3\"><span class=\"toc-item-num\">3&nbsp;&nbsp;</span>Pasar de las listas de Python a las matrices de Numpy</a></span></li><li><span><a href=\"#Operando-con-Numpy-Arrays\" data-toc-modified-id=\"Operando-con-Numpy-Arrays-4\"><span class=\"toc-item-num\">4&nbsp;&nbsp;</span>Operando con Numpy Arrays</a></span></li><li><span><a href=\"#Ventajas-del-uso-de-arrays-Numpy\" data-toc-modified-id=\"Ventajas-del-uso-de-arrays-Numpy-5\"><span class=\"toc-item-num\">5&nbsp;&nbsp;</span>Ventajas del uso de arrays Numpy</a></span></li><li><span><a href=\"#Creamos-Arrays\" data-toc-modified-id=\"Creamos-Arrays-6\"><span class=\"toc-item-num\">6&nbsp;&nbsp;</span>Creamos Arrays</a></span><ul class=\"toc-item\"><li><span><a href=\"#Números-random\" data-toc-modified-id=\"Números-random-6.1\"><span class=\"toc-item-num\">6.1&nbsp;&nbsp;</span>Números random</a></span></li><li><span><a href=\"#Arange\" data-toc-modified-id=\"Arange-6.2\"><span class=\"toc-item-num\">6.2&nbsp;&nbsp;</span>Arange</a></span></li><li><span><a href=\"#Linespace\" data-toc-modified-id=\"Linespace-6.3\"><span class=\"toc-item-num\">6.3&nbsp;&nbsp;</span>Linespace</a></span></li><li><span><a href=\"#Arrays-a-partir-de-datos\" data-toc-modified-id=\"Arrays-a-partir-de-datos-6.4\"><span class=\"toc-item-num\">6.4&nbsp;&nbsp;</span>Arrays a partir de datos</a></span></li><li><span><a href=\"#Matriz-de-CEROS\" data-toc-modified-id=\"Matriz-de-CEROS-6.5\"><span class=\"toc-item-num\">6.5&nbsp;&nbsp;</span>Matriz de CEROS</a></span></li><li><span><a href=\"#Matriz-de-UNOS\" data-toc-modified-id=\"Matriz-de-UNOS-6.6\"><span class=\"toc-item-num\">6.6&nbsp;&nbsp;</span>Matriz de UNOS</a></span></li><li><span><a href=\"#Matriz-DIAGONAL\" data-toc-modified-id=\"Matriz-DIAGONAL-6.7\"><span class=\"toc-item-num\">6.7&nbsp;&nbsp;</span>Matriz DIAGONAL</a></span></li></ul></li><li><span><a href=\"#Explorar-arrays-y-sus-propiedades\" data-toc-modified-id=\"Explorar-arrays-y-sus-propiedades-7\"><span class=\"toc-item-num\">7&nbsp;&nbsp;</span>Explorar arrays y sus propiedades</a></span></li><li><span><a href=\"#Manipular-arrays\" data-toc-modified-id=\"Manipular-arrays-8\"><span class=\"toc-item-num\">8&nbsp;&nbsp;</span>Manipular arrays</a></span></li><li><span><a href=\"#Comparación-de-arrays\" data-toc-modified-id=\"Comparación-de-arrays-9\"><span class=\"toc-item-num\">9&nbsp;&nbsp;</span>Comparación de arrays</a></span></li><li><span><a href=\"#Array-indexing-and-slicing\" data-toc-modified-id=\"Array-indexing-and-slicing-10\"><span class=\"toc-item-num\">10&nbsp;&nbsp;</span>Array indexing and slicing</a></span><ul class=\"toc-item\"><li><span><a href=\"#Mezcla-de-índices-y-rangos\" data-toc-modified-id=\"Mezcla-de-índices-y-rangos-10.1\"><span class=\"toc-item-num\">10.1&nbsp;&nbsp;</span>Mezcla de índices y rangos</a></span></li></ul></li><li><span><a href=\"#Métodos-de-los-np.arrays\" data-toc-modified-id=\"Métodos-de-los-np.arrays-11\"><span class=\"toc-item-num\">11&nbsp;&nbsp;</span>Métodos de los np.arrays</a></span><ul class=\"toc-item\"><li><span><a href=\"#Métodos-de-Numpy-(los-vimos-ayer)\" data-toc-modified-id=\"Métodos-de-Numpy-(los-vimos-ayer)-11.1\"><span class=\"toc-item-num\">11.1&nbsp;&nbsp;</span>Métodos de Numpy (los vimos ayer)</a></span></li></ul></li><li><span><a href=\"#Cosas-divertidas-que-nos-permite-Numpy\" data-toc-modified-id=\"Cosas-divertidas-que-nos-permite-Numpy-12\"><span class=\"toc-item-num\">12&nbsp;&nbsp;</span>Cosas divertidas que nos permite Numpy</a></span></li><li><span><a href=\"#Further-materials\" data-toc-modified-id=\"Further-materials-13\"><span class=\"toc-item-num\">13&nbsp;&nbsp;</span>Further materials</a></span></li></ul></div>"
   ]
  },
  {
   "cell_type": "markdown",
   "metadata": {},
   "source": [
    "## ¿Qué es Numpy?"
   ]
  },
  {
   "cell_type": "markdown",
   "metadata": {},
   "source": [
    "NumPy es una biblioteca para el lenguaje de programación Python que da soporte para crear vectores y matrices grandes multidimensionales, junto con una gran colección de funciones matemáticas de alto nivel para operar con ellas. El precursor de NumPy, Numeric, fue creado originalmente por Jim Hugunin con contribuciones de varios otros desarrolladores. En 2005, Travis Oliphant creó NumPy incorporando características de la competencia Numarray en Numeric, con amplias modificaciones. NumPy es un software de código abierto y cuenta con muchos colaboradores.\n",
    "\n",
    "El núcleo del paquete NumPy es el objeto ndarray. Este encapsula matrices n-dimensionales de tipos de datos homogéneos, con muchas operaciones que se realizan en código compilado para el rendimiento. Hay varias diferencias importantes entre las matrices de NumPy y las secuencias estándar de Python:"
   ]
  },
  {
   "cell_type": "markdown",
   "metadata": {},
   "source": [
    "![numpy](../images/numpy.png)"
   ]
  },
  {
   "cell_type": "markdown",
   "metadata": {},
   "source": [
    "## Trabajar con datos numéricos    \n",
    "Los \"datos\" en el análisis de datos suelen referirse a datos numéricos, por ejemplo, precios de las acciones, cifras de ventas, mediciones de sensores, resultados deportivos, tablas de bases de datos, etc. La biblioteca Numpy proporciona estructuras de datos especializadas, funciones y otras herramientas para la computación numérica en Python. Vamos a trabajar con un ejemplo para ver por qué y cómo utilizar Numpy para trabajar con datos numéricos.\n",
    "\n",
    "Supongamos que queremos utilizar datos climáticos como la temperatura, la lluvia y la humedad para determinar si una región es adecuada para el cultivo de manzanas. Un enfoque sencillo para hacerlo sería formular la relación entre el rendimiento anual de las manzanas (toneladas por hectárea) y las condiciones climáticas como la temperatura media (en grados Fahrenheit), las precipitaciones (en milímetros) y la humedad relativa media (en porcentaje) como una ecuación lineal.\n",
    "\n",
    "rendimiento_de_manzanas = w1 * temperatura + w2 * precipitaciones + w3 * humedad\n",
    "\n",
    "Estamos expresando el rendimiento de las manzanas como una suma ponderada de la temperatura, las precipitaciones y la humedad. Esta ecuación es una aproximación, ya que la relación real no tiene por qué ser lineal y pueden intervenir otros factores. Pero un modelo lineal simple como éste suele funcionar bien en la práctica.\n",
    "\n",
    "Basándonos en un análisis estadístico de los datos históricos, podemos obtener valores razonables para las ponderaciones w1, w2 y w3. He aquí un ejemplo de valores:"
   ]
  },
  {
   "cell_type": "code",
   "execution_count": null,
   "metadata": {},
   "outputs": [],
   "source": [
    "w1, w2, w3 = 0.3, 0.2, 0.5"
   ]
  },
  {
   "cell_type": "markdown",
   "metadata": {},
   "source": [
    "<img src=\"../images/dat_np.png\" alt=\"data\" style=\"width:500px,\"/>"
   ]
  },
  {
   "cell_type": "code",
   "execution_count": null,
   "metadata": {},
   "outputs": [],
   "source": [
    "kanto_temp = 73\n",
    "kanto_rainfall = 67\n",
    "kanto_humidity = 43"
   ]
  },
  {
   "cell_type": "markdown",
   "metadata": {},
   "source": [
    "Ahora podemos sustituir estas variables en la ecuación lineal para predecir el rendimiento de las manzanas."
   ]
  },
  {
   "cell_type": "code",
   "execution_count": null,
   "metadata": {},
   "outputs": [],
   "source": []
  },
  {
   "cell_type": "code",
   "execution_count": null,
   "metadata": {},
   "outputs": [],
   "source": []
  },
  {
   "cell_type": "markdown",
   "metadata": {},
   "source": [
    "Para facilitar un poco el cálculo anterior para varias regiones, podemos representar los datos climáticos de cada región como un vector, es decir, una lista de números."
   ]
  },
  {
   "cell_type": "code",
   "execution_count": null,
   "metadata": {},
   "outputs": [],
   "source": [
    "kanto = [73, 67, 43]\n",
    "johto = [91, 88, 64]\n",
    "hoenn = [87, 134, 58]\n",
    "sinnoh = [102, 43, 37]\n",
    "unova = [69, 96, 70]"
   ]
  },
  {
   "cell_type": "markdown",
   "metadata": {},
   "source": [
    "Los tres números de cada vector representan los datos de temperatura, precipitación y humedad, respectivamente.\n",
    "También podemos representar el conjunto de pesos utilizados en la fórmula como un vector."
   ]
  },
  {
   "cell_type": "code",
   "execution_count": null,
   "metadata": {},
   "outputs": [],
   "source": []
  },
  {
   "cell_type": "code",
   "execution_count": null,
   "metadata": {},
   "outputs": [],
   "source": []
  },
  {
   "cell_type": "code",
   "execution_count": null,
   "metadata": {},
   "outputs": [],
   "source": []
  },
  {
   "cell_type": "code",
   "execution_count": null,
   "metadata": {},
   "outputs": [],
   "source": []
  },
  {
   "cell_type": "code",
   "execution_count": null,
   "metadata": {},
   "outputs": [],
   "source": []
  },
  {
   "cell_type": "markdown",
   "metadata": {},
   "source": [
    "¿Por qué lo hacemos así?"
   ]
  },
  {
   "cell_type": "code",
   "execution_count": null,
   "metadata": {},
   "outputs": [],
   "source": []
  },
  {
   "cell_type": "code",
   "execution_count": null,
   "metadata": {},
   "outputs": [],
   "source": []
  },
  {
   "cell_type": "code",
   "execution_count": null,
   "metadata": {},
   "outputs": [],
   "source": []
  },
  {
   "cell_type": "code",
   "execution_count": null,
   "metadata": {},
   "outputs": [],
   "source": []
  },
  {
   "cell_type": "markdown",
   "metadata": {},
   "source": [
    "## Pasar de las listas de Python a las matrices de Numpy   \n",
    "El cálculo realizado por el crop_yield (multiplicación por elementos de dos vectores y tomar una suma de los resultados) también se llama producto punto. Para saber más sobre el producto punto, consulte: https://www.khanacademy.org/math/linear-algebra/vectors-and-spaces/dot-cross-products/v/vector-dot-product-and-vector-length .\n",
    "\n",
    "La biblioteca Numpy proporciona una función integrada para calcular el producto punto de dos vectores. Sin embargo, primero debemos convertir las listas en matrices Numpy.\n",
    "\n",
    "Instalemos la biblioteca Numpy usando el gestor de paquetes pip."
   ]
  },
  {
   "cell_type": "code",
   "execution_count": null,
   "metadata": {},
   "outputs": [],
   "source": [
    "!pip install numpy"
   ]
  },
  {
   "cell_type": "markdown",
   "metadata": {},
   "source": [
    "A continuación, vamos a importar el módulo numpy. Es una práctica común importar numpy con el alias np."
   ]
  },
  {
   "cell_type": "code",
   "execution_count": null,
   "metadata": {},
   "outputs": [],
   "source": [
    "import numpy as np"
   ]
  },
  {
   "cell_type": "markdown",
   "metadata": {},
   "source": [
    "Ahora podemos utilizar la función np.array para crear matrices Numpy."
   ]
  },
  {
   "cell_type": "code",
   "execution_count": null,
   "metadata": {},
   "outputs": [],
   "source": []
  },
  {
   "cell_type": "code",
   "execution_count": null,
   "metadata": {},
   "outputs": [],
   "source": []
  },
  {
   "cell_type": "code",
   "execution_count": null,
   "metadata": {},
   "outputs": [],
   "source": []
  },
  {
   "cell_type": "code",
   "execution_count": null,
   "metadata": {},
   "outputs": [],
   "source": []
  },
  {
   "cell_type": "markdown",
   "metadata": {},
   "source": [
    "## Operando con Numpy Arrays"
   ]
  },
  {
   "cell_type": "code",
   "execution_count": null,
   "metadata": {},
   "outputs": [],
   "source": []
  },
  {
   "cell_type": "markdown",
   "metadata": {},
   "source": [
    "Ahora podemos calcular el producto punto de los dos vectores utilizando la función np.dot."
   ]
  },
  {
   "cell_type": "code",
   "execution_count": null,
   "metadata": {},
   "outputs": [],
   "source": []
  },
  {
   "cell_type": "markdown",
   "metadata": {},
   "source": [
    "Podemos conseguir el mismo resultado con operaciones de bajo nivel soportadas por las matrices Numpy: realizando una multiplicación por elementos y calculando la suma de los números resultantes."
   ]
  },
  {
   "cell_type": "code",
   "execution_count": null,
   "metadata": {},
   "outputs": [],
   "source": []
  },
  {
   "cell_type": "markdown",
   "metadata": {},
   "source": [
    "El operador * realiza una multiplicación por elementos de dos matrices si tienen el mismo tamaño. El método sum calcula la suma de los números de una matriz."
   ]
  },
  {
   "cell_type": "code",
   "execution_count": null,
   "metadata": {},
   "outputs": [],
   "source": []
  },
  {
   "cell_type": "code",
   "execution_count": null,
   "metadata": {},
   "outputs": [],
   "source": []
  },
  {
   "cell_type": "markdown",
   "metadata": {},
   "source": [
    "## Ventajas del uso de arrays Numpy"
   ]
  },
  {
   "cell_type": "markdown",
   "metadata": {},
   "source": [
    "Las matrices de Numpy ofrecen las siguientes ventajas sobre las listas de Python para operar con datos numéricos:\n",
    "\n",
    "- Facilidad de uso: Puedes escribir expresiones matemáticas pequeñas, concisas e intuitivas como `(kanto * weights).sum()` en lugar de utilizar bucles y funciones personalizadas como crop_yield.    \n",
    "- Rendimiento: Las operaciones y funciones de Numpy se implementan internamente en C++, lo que las hace mucho más rápidas que el uso de sentencias y bucles de Python que se interpretan en tiempo de ejecución      \n",
    "A continuación se muestra una comparación de los productos punto realizados con bucles de Python frente a matrices de Numpy en dos vectores con un millón de elementos cada uno."
   ]
  },
  {
   "cell_type": "code",
   "execution_count": null,
   "metadata": {},
   "outputs": [],
   "source": [
    "# Listas de python de 0 a 1000000 y 1000000 a 2000000\n",
    "arr1 = list(range(1000000))\n",
    "arr2 = list(range(1000000, 2000000))\n",
    "\n",
    "# Numpy arrays\n",
    "arr1_np = np.array(arr1)\n",
    "arr2_np = np.array(arr2)"
   ]
  },
  {
   "cell_type": "markdown",
   "metadata": {},
   "source": [
    "Comprobamos el tiempo de ejecución haciendo el producto punto con un bucle"
   ]
  },
  {
   "cell_type": "code",
   "execution_count": null,
   "metadata": {},
   "outputs": [],
   "source": []
  },
  {
   "cell_type": "markdown",
   "metadata": {},
   "source": [
    "Ahora con numpy"
   ]
  },
  {
   "cell_type": "code",
   "execution_count": null,
   "metadata": {},
   "outputs": [],
   "source": []
  },
  {
   "cell_type": "markdown",
   "metadata": {},
   "source": [
    "## Creamos Arrays\n",
    "### Números random"
   ]
  },
  {
   "cell_type": "code",
   "execution_count": null,
   "metadata": {},
   "outputs": [],
   "source": [
    "# Vector (1 dimensión)\n"
   ]
  },
  {
   "cell_type": "code",
   "execution_count": null,
   "metadata": {},
   "outputs": [],
   "source": [
    "# Matriz (2 Dimensiones)\n"
   ]
  },
  {
   "cell_type": "markdown",
   "metadata": {},
   "source": [
    "[Random Randint](https://numpy.org/doc/stable/reference/random/generated/numpy.random.randint.html) vs [Random Random](https://numpy.org/doc/stable/reference/random/generated/numpy.random.random.html)"
   ]
  },
  {
   "cell_type": "code",
   "execution_count": null,
   "metadata": {},
   "outputs": [],
   "source": []
  },
  {
   "cell_type": "code",
   "execution_count": null,
   "metadata": {},
   "outputs": [],
   "source": []
  },
  {
   "cell_type": "code",
   "execution_count": null,
   "metadata": {},
   "outputs": [],
   "source": [
    "# Cubo (3 dimensiones)\n"
   ]
  },
  {
   "cell_type": "code",
   "execution_count": null,
   "metadata": {},
   "outputs": [],
   "source": []
  },
  {
   "cell_type": "code",
   "execution_count": null,
   "metadata": {},
   "outputs": [],
   "source": [
    "# Tensor rango 4\n"
   ]
  },
  {
   "cell_type": "markdown",
   "metadata": {},
   "source": [
    "Numpy también proporciona algunas funciones útiles para crear matrices de formas deseadas con valores fijos o aleatorios.       \n",
    "Consulta la [documentación](https://numpy.org/doc/stable/reference/routines.array-creation.html) oficial o utiliza la función de ayuda para obtener más información."
   ]
  },
  {
   "cell_type": "markdown",
   "metadata": {},
   "source": [
    "### Arange\n",
    "Rango con inicio, fin y paso (start, stop, step)"
   ]
  },
  {
   "cell_type": "code",
   "execution_count": null,
   "metadata": {},
   "outputs": [],
   "source": [
    "# Rango entre 0 y 10 con saltos de 5\n"
   ]
  },
  {
   "cell_type": "markdown",
   "metadata": {},
   "source": [
    "### Linespace\n",
    "La función NumPy linspace crea secuencias de valores espaciados uniformemente dentro de un intervalo definido.\n",
    "\n",
    "Esencialmente, se especifica un punto inicial y un punto final de un intervalo, y luego se especifica el número total de puntos de ruptura que se desea dentro de ese intervalo (incluyendo los puntos inicial y final). La función np.linspace devolverá una secuencia de valores espaciados uniformemente en ese intervalo."
   ]
  },
  {
   "cell_type": "code",
   "execution_count": null,
   "metadata": {},
   "outputs": [],
   "source": [
    "# 5 elementos que están entre 0 y 10 igualmente espaciados\n"
   ]
  },
  {
   "cell_type": "markdown",
   "metadata": {},
   "source": [
    "### Arrays a partir de datos"
   ]
  },
  {
   "cell_type": "code",
   "execution_count": null,
   "metadata": {},
   "outputs": [],
   "source": []
  },
  {
   "cell_type": "code",
   "execution_count": null,
   "metadata": {},
   "outputs": [],
   "source": []
  },
  {
   "cell_type": "code",
   "execution_count": null,
   "metadata": {},
   "outputs": [],
   "source": []
  },
  {
   "cell_type": "code",
   "execution_count": null,
   "metadata": {},
   "outputs": [],
   "source": []
  },
  {
   "cell_type": "code",
   "execution_count": null,
   "metadata": {},
   "outputs": [],
   "source": []
  },
  {
   "cell_type": "markdown",
   "metadata": {},
   "source": [
    "### Matriz de CEROS\n",
    "Se utiliza np.zeros para crear el array de que todos los elementos son 0. Su sintaxis es:     \n",
    "`np.zeros(shape, dtype=float, order='C')`\n",
    "\n",
    "Dónde:    \n",
    "- La shape es el tamaño del array, y puede ser 1-D, 2-D o múltiples dimensiones.\n",
    "- El dtype es float64 por defecto, pero puede ser asignado con cualquier tipo de datos en NumPy."
   ]
  },
  {
   "cell_type": "code",
   "execution_count": null,
   "metadata": {},
   "outputs": [],
   "source": [
    "# Array 1D con 5 ceros\n"
   ]
  },
  {
   "cell_type": "code",
   "execution_count": null,
   "metadata": {},
   "outputs": [],
   "source": [
    "# Array 1D con 5 ceros con tipo de datos \"int8\" (Valores de 64 bits)\n"
   ]
  },
  {
   "cell_type": "code",
   "execution_count": null,
   "metadata": {},
   "outputs": [],
   "source": [
    "# Array 2D de 4x3 \n"
   ]
  },
  {
   "cell_type": "markdown",
   "metadata": {},
   "source": [
    "### Matriz de UNOS\n",
    "De forma similar a los zeros, también podríamos crear el array lleno de unos. La sintaxis y los parámetros de np.ones() son idénticos a los de np.zeros()."
   ]
  },
  {
   "cell_type": "code",
   "execution_count": null,
   "metadata": {},
   "outputs": [],
   "source": []
  },
  {
   "cell_type": "code",
   "execution_count": null,
   "metadata": {},
   "outputs": [],
   "source": []
  },
  {
   "cell_type": "code",
   "execution_count": null,
   "metadata": {},
   "outputs": [],
   "source": []
  },
  {
   "cell_type": "markdown",
   "metadata": {},
   "source": [
    "### Matriz DIAGONAL\n",
    "Devuelve una matriz bidimensional con unos en la diagonal y ceros en el resto. La sintaxis es:     \n",
    "`np.eye(N, M=None, k=0, dtype=<class 'float'>, order='C')`   \n",
    "Dónde:         \n",
    "- **N**: \tINT\tEspecifica el número de líneas en el array generada.\n",
    "- **M**:\tINT\t(Opcional) El valor por defecto es None. Especifica el número de columnas en el array que se generará. Cuando es None, es igual a N.\n",
    "- **k**:\tINT\t(Opcional) El valor por defecto es 0. 0 es la posición principal de la diagonal. Si k es positiva, crea la diagonal superior con el desplazamiento de k; si k es negativa, crea la diagonal inferior con el desplazamiento de k.\n",
    "- **dtype**: tipo de datos\t(Opcional) El valor por defecto es float. Especifica el tipo de datos del elemento del array creado."
   ]
  },
  {
   "cell_type": "code",
   "execution_count": null,
   "metadata": {},
   "outputs": [],
   "source": []
  },
  {
   "cell_type": "code",
   "execution_count": null,
   "metadata": {},
   "outputs": [],
   "source": []
  },
  {
   "cell_type": "code",
   "execution_count": null,
   "metadata": {},
   "outputs": [],
   "source": []
  },
  {
   "cell_type": "markdown",
   "metadata": {},
   "source": [
    "## Explorar arrays y sus propiedades"
   ]
  },
  {
   "cell_type": "code",
   "execution_count": null,
   "metadata": {},
   "outputs": [],
   "source": []
  },
  {
   "cell_type": "code",
   "execution_count": null,
   "metadata": {},
   "outputs": [],
   "source": []
  },
  {
   "cell_type": "code",
   "execution_count": null,
   "metadata": {},
   "outputs": [],
   "source": [
    "# Forma\n"
   ]
  },
  {
   "cell_type": "code",
   "execution_count": null,
   "metadata": {},
   "outputs": [],
   "source": [
    "# Tamaño\n"
   ]
  },
  {
   "cell_type": "code",
   "execution_count": null,
   "metadata": {},
   "outputs": [],
   "source": [
    "# Dimensiones\n"
   ]
  },
  {
   "cell_type": "markdown",
   "metadata": {},
   "source": [
    "## Manipular arrays"
   ]
  },
  {
   "cell_type": "code",
   "execution_count": null,
   "metadata": {},
   "outputs": [],
   "source": []
  },
  {
   "cell_type": "code",
   "execution_count": null,
   "metadata": {},
   "outputs": [],
   "source": []
  },
  {
   "cell_type": "code",
   "execution_count": null,
   "metadata": {},
   "outputs": [],
   "source": []
  },
  {
   "cell_type": "code",
   "execution_count": null,
   "metadata": {},
   "outputs": [],
   "source": []
  },
  {
   "cell_type": "code",
   "execution_count": null,
   "metadata": {},
   "outputs": [],
   "source": []
  },
  {
   "cell_type": "code",
   "execution_count": null,
   "metadata": {},
   "outputs": [],
   "source": []
  },
  {
   "cell_type": "code",
   "execution_count": null,
   "metadata": {},
   "outputs": [],
   "source": []
  },
  {
   "cell_type": "markdown",
   "metadata": {},
   "source": [
    "## Comparación de arrays"
   ]
  },
  {
   "cell_type": "markdown",
   "metadata": {},
   "source": [
    "Las matrices Numpy también soportan operaciones de comparación como ==, !=, > etc. El resultado es un array de booleanos."
   ]
  },
  {
   "cell_type": "code",
   "execution_count": null,
   "metadata": {},
   "outputs": [],
   "source": []
  },
  {
   "cell_type": "code",
   "execution_count": null,
   "metadata": {},
   "outputs": [],
   "source": []
  },
  {
   "cell_type": "code",
   "execution_count": null,
   "metadata": {},
   "outputs": [],
   "source": []
  },
  {
   "cell_type": "code",
   "execution_count": null,
   "metadata": {},
   "outputs": [],
   "source": []
  },
  {
   "cell_type": "code",
   "execution_count": null,
   "metadata": {},
   "outputs": [],
   "source": []
  },
  {
   "cell_type": "markdown",
   "metadata": {},
   "source": [
    "La comparación de matrices se utiliza frecuentemente para contar el número de elementos iguales en dos matrices utilizando el método de la suma. Recuerde que Verdadero se evalúa como 1 y Falso se evalúa como 0 cuando se utilizan booleanos en operaciones aritméticas."
   ]
  },
  {
   "cell_type": "code",
   "execution_count": null,
   "metadata": {},
   "outputs": [],
   "source": []
  },
  {
   "cell_type": "markdown",
   "metadata": {},
   "source": [
    "## Array indexing and slicing\n",
    "Numpy extiende la notación de indexación de listas de Python utilizando [] a múltiples dimensiones de una manera intuitiva. Puedes proporcionar una lista de índices o rangos separados por comas para seleccionar un elemento específico o un subarray (también llamado slice) de un array de Numpy."
   ]
  },
  {
   "cell_type": "code",
   "execution_count": null,
   "metadata": {},
   "outputs": [],
   "source": [
    "arr3 = np.array([\n",
    "    [[11, 12, 13, 14], \n",
    "     [13, 14, 15, 19]], \n",
    "    \n",
    "    [[15, 16, 17, 21], \n",
    "     [63, 92, 36, 18]], \n",
    "    \n",
    "    [[98, 32, 81, 23],      \n",
    "     [17, 18, 19.5, 43]]])"
   ]
  },
  {
   "cell_type": "code",
   "execution_count": null,
   "metadata": {},
   "outputs": [],
   "source": []
  },
  {
   "cell_type": "code",
   "execution_count": null,
   "metadata": {},
   "outputs": [],
   "source": []
  },
  {
   "cell_type": "code",
   "execution_count": null,
   "metadata": {},
   "outputs": [],
   "source": []
  },
  {
   "cell_type": "code",
   "execution_count": null,
   "metadata": {},
   "outputs": [],
   "source": []
  },
  {
   "cell_type": "markdown",
   "metadata": {},
   "source": [
    "Podemos escribir las posiciones directamente en una lista"
   ]
  },
  {
   "cell_type": "code",
   "execution_count": null,
   "metadata": {},
   "outputs": [],
   "source": []
  },
  {
   "cell_type": "markdown",
   "metadata": {},
   "source": [
    "### Mezcla de índices y rangos"
   ]
  },
  {
   "cell_type": "code",
   "execution_count": null,
   "metadata": {},
   "outputs": [],
   "source": []
  },
  {
   "cell_type": "code",
   "execution_count": null,
   "metadata": {},
   "outputs": [],
   "source": []
  },
  {
   "cell_type": "markdown",
   "metadata": {},
   "source": [
    "## Métodos de los np.arrays"
   ]
  },
  {
   "cell_type": "code",
   "execution_count": null,
   "metadata": {},
   "outputs": [],
   "source": []
  },
  {
   "cell_type": "code",
   "execution_count": null,
   "metadata": {},
   "outputs": [],
   "source": []
  },
  {
   "cell_type": "code",
   "execution_count": null,
   "metadata": {},
   "outputs": [],
   "source": []
  },
  {
   "cell_type": "code",
   "execution_count": null,
   "metadata": {},
   "outputs": [],
   "source": []
  },
  {
   "cell_type": "code",
   "execution_count": null,
   "metadata": {},
   "outputs": [],
   "source": []
  },
  {
   "cell_type": "code",
   "execution_count": null,
   "metadata": {},
   "outputs": [],
   "source": []
  },
  {
   "cell_type": "markdown",
   "metadata": {},
   "source": [
    "### Métodos de Numpy (los vimos ayer)"
   ]
  },
  {
   "cell_type": "markdown",
   "metadata": {},
   "source": [
    "¿Cómo los vemos? `dir(objeto)` muestra todos los métodos posibles que se pueden aplicar al objeto"
   ]
  },
  {
   "cell_type": "code",
   "execution_count": null,
   "metadata": {},
   "outputs": [],
   "source": [
    "# dir(a)"
   ]
  },
  {
   "cell_type": "code",
   "execution_count": null,
   "metadata": {},
   "outputs": [],
   "source": []
  },
  {
   "cell_type": "markdown",
   "metadata": {},
   "source": [
    "## Cosas divertidas que nos permite Numpy"
   ]
  },
  {
   "cell_type": "markdown",
   "metadata": {},
   "source": [
    "Pillow! The Python Imaging Library adds image processing capabilities to your Python interpreter.   \n",
    "[La doc 🙃](https://pillow.readthedocs.io/en/stable/)"
   ]
  },
  {
   "cell_type": "code",
   "execution_count": null,
   "metadata": {},
   "outputs": [],
   "source": [
    "from PIL import Image"
   ]
  },
  {
   "cell_type": "code",
   "execution_count": null,
   "metadata": {},
   "outputs": [],
   "source": []
  },
  {
   "cell_type": "markdown",
   "metadata": {},
   "source": [
    "¡¡Podemos procesar imágenes con Numpy!!"
   ]
  },
  {
   "cell_type": "code",
   "execution_count": null,
   "metadata": {},
   "outputs": [],
   "source": []
  },
  {
   "cell_type": "code",
   "execution_count": null,
   "metadata": {},
   "outputs": [],
   "source": []
  },
  {
   "cell_type": "markdown",
   "metadata": {},
   "source": [
    "Una imagen digital se descompone en nuestro ordenador como un array de 3 dimensiones donde cada pixel es un valor de 0 a 255 siendo 0 negro y 255 blanco. "
   ]
  },
  {
   "cell_type": "code",
   "execution_count": null,
   "metadata": {},
   "outputs": [],
   "source": []
  },
  {
   "cell_type": "code",
   "execution_count": null,
   "metadata": {},
   "outputs": [],
   "source": []
  },
  {
   "cell_type": "code",
   "execution_count": null,
   "metadata": {},
   "outputs": [],
   "source": []
  },
  {
   "cell_type": "code",
   "execution_count": null,
   "metadata": {},
   "outputs": [],
   "source": []
  },
  {
   "cell_type": "code",
   "execution_count": null,
   "metadata": {},
   "outputs": [],
   "source": []
  },
  {
   "cell_type": "code",
   "execution_count": null,
   "metadata": {},
   "outputs": [],
   "source": []
  },
  {
   "cell_type": "code",
   "execution_count": null,
   "metadata": {},
   "outputs": [],
   "source": []
  },
  {
   "cell_type": "code",
   "execution_count": null,
   "metadata": {},
   "outputs": [],
   "source": []
  },
  {
   "cell_type": "code",
   "execution_count": null,
   "metadata": {},
   "outputs": [],
   "source": []
  },
  {
   "cell_type": "code",
   "execution_count": null,
   "metadata": {},
   "outputs": [],
   "source": []
  },
  {
   "cell_type": "markdown",
   "metadata": {},
   "source": [
    "## Further materials\n",
    "- [NumPy Cheatsheet](https://s3.amazonaws.com/assets.datacamp.com/blog_assets/Numpy_Python_Cheat_Sheet.pdf)\n",
    "- [Master Numpy](https://medium.com/analytics-vidhya/master-numpy-in-45-minutes-74b2460ecb00)\n",
    "- [Numpy Tricks](https://github.com/patidarparas13/Numpy-Tricks/blob/master/Numpy%2BTricks(Zero%2Bto%2BHero).ipynb)\n",
    "[Procesado de Imágenes](https://claudiovz.github.io/scipy-lecture-notes-ES/advanced/image_processing/index.html)\n",
    "- [101 Numpy exercises](https://www.machinelearningplus.com/python/101-numpy-exercises-python/)\n"
   ]
  }
 ],
 "metadata": {
  "colab": {
   "name": "numpy-class.ipynb",
   "provenance": []
  },
  "kernelspec": {
   "display_name": "ironhack",
   "language": "python",
   "name": "ironhack"
  },
  "language_info": {
   "codemirror_mode": {
    "name": "ipython",
    "version": 3
   },
   "file_extension": ".py",
   "mimetype": "text/x-python",
   "name": "python",
   "nbconvert_exporter": "python",
   "pygments_lexer": "ipython3",
   "version": "3.8.5"
  },
  "toc": {
   "base_numbering": 1,
   "nav_menu": {},
   "number_sections": true,
   "sideBar": true,
   "skip_h1_title": true,
   "title_cell": "Table of Contents",
   "title_sidebar": "Contents",
   "toc_cell": true,
   "toc_position": {
    "height": "calc(100% - 180px)",
    "left": "10px",
    "top": "150px",
    "width": "245.891px"
   },
   "toc_section_display": true,
   "toc_window_display": false
  },
  "varInspector": {
   "cols": {
    "lenName": 16,
    "lenType": 16,
    "lenVar": 40
   },
   "kernels_config": {
    "python": {
     "delete_cmd_postfix": "",
     "delete_cmd_prefix": "del ",
     "library": "var_list.py",
     "varRefreshCmd": "print(var_dic_list())"
    },
    "r": {
     "delete_cmd_postfix": ") ",
     "delete_cmd_prefix": "rm(",
     "library": "var_list.r",
     "varRefreshCmd": "cat(var_dic_list()) "
    }
   },
   "types_to_exclude": [
    "module",
    "function",
    "builtin_function_or_method",
    "instance",
    "_Feature"
   ],
   "window_display": false
  }
 },
 "nbformat": 4,
 "nbformat_minor": 1
}
