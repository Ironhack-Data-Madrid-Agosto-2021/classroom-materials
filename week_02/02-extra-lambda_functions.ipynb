{
 "cells": [
  {
   "cell_type": "markdown",
   "id": "intimate-formation",
   "metadata": {},
   "source": [
    "# Funciones Anónimas - Funciones Lambda"
   ]
  },
  {
   "cell_type": "markdown",
   "id": "rural-potential",
   "metadata": {},
   "source": [
    "![elgif](https://media.giphy.com/media/ghunn7VEJjj32/giphy.gif)"
   ]
  },
  {
   "cell_type": "markdown",
   "id": "leading-conversation",
   "metadata": {
    "toc": true
   },
   "source": [
    "<h1>Table of Contents<span class=\"tocSkip\"></span></h1>\n",
    "<div class=\"toc\"><ul class=\"toc-item\"><li><span><a href=\"#Función-Lambda\" data-toc-modified-id=\"Función-Lambda-1\"><span class=\"toc-item-num\">1&nbsp;&nbsp;</span>Función Lambda</a></span></li><li><span><a href=\"#Hagamos-algunos-ejemplos\" data-toc-modified-id=\"Hagamos-algunos-ejemplos-2\"><span class=\"toc-item-num\">2&nbsp;&nbsp;</span>Hagamos algunos ejemplos</a></span><ul class=\"toc-item\"><li><span><a href=\"#Función-que-recibe-un-número-y-devuelve-el-cuadrado\" data-toc-modified-id=\"Función-que-recibe-un-número-y-devuelve-el-cuadrado-2.1\"><span class=\"toc-item-num\">2.1&nbsp;&nbsp;</span>Función que recibe un número y devuelve el cuadrado</a></span></li><li><span><a href=\"#Let`s-go-Lambda\" data-toc-modified-id=\"Let`s-go-Lambda-2.2\"><span class=\"toc-item-num\">2.2&nbsp;&nbsp;</span>Let`s go Lambda</a></span></li><li><span><a href=\"#Función-que-devuelve-la-suma-de-dos-argumentos\" data-toc-modified-id=\"Función-que-devuelve-la-suma-de-dos-argumentos-2.3\"><span class=\"toc-item-num\">2.3&nbsp;&nbsp;</span>Función que devuelve la suma de dos argumentos</a></span></li><li><span><a href=\"#Let`s-go-Lambda\" data-toc-modified-id=\"Let`s-go-Lambda-2.4\"><span class=\"toc-item-num\">2.4&nbsp;&nbsp;</span>Let`s go Lambda</a></span></li><li><span><a href=\"#Función-que-devuelve-un-string-en-minúscula\" data-toc-modified-id=\"Función-que-devuelve-un-string-en-minúscula-2.5\"><span class=\"toc-item-num\">2.5&nbsp;&nbsp;</span>Función que devuelve un string en minúscula</a></span></li><li><span><a href=\"#Let`s-go-Lambda\" data-toc-modified-id=\"Let`s-go-Lambda-2.6\"><span class=\"toc-item-num\">2.6&nbsp;&nbsp;</span>Let`s go Lambda</a></span></li></ul></li></ul></div>"
   ]
  },
  {
   "cell_type": "markdown",
   "id": "saved-holmes",
   "metadata": {},
   "source": [
    "## Función Lambda\n",
    "Una función lambda es una función anónima, sin identificador, que puede declararse in situ. Dado que podemos usar funciones como argumentos y a signarlas a variables, la notación que posibilita la creación de funciones lambda es muy práctica en muchos casos.\n",
    "Usaremos funciones lambda cuando debamos especificar una función cuyo valor de retorno se base en una expresión simple. La sintaxis de una función lambda es la siguiente: \n",
    "\n",
    "```python\n",
    "lambda <lista de parámetros> : <expresión de retorno>\n",
    "```"
   ]
  },
  {
   "cell_type": "markdown",
   "id": "knowing-knife",
   "metadata": {},
   "source": [
    "## Hagamos algunos ejemplos"
   ]
  },
  {
   "cell_type": "markdown",
   "id": "difficult-english",
   "metadata": {},
   "source": [
    "### Función que recibe un número y devuelve el cuadrado"
   ]
  },
  {
   "cell_type": "code",
   "execution_count": 10,
   "id": "banner-jamaica",
   "metadata": {},
   "outputs": [],
   "source": [
    "def cuadrado(num):\n",
    "    return num**2"
   ]
  },
  {
   "cell_type": "code",
   "execution_count": 11,
   "id": "governing-judges",
   "metadata": {},
   "outputs": [
    {
     "data": {
      "text/plain": [
       "4"
      ]
     },
     "execution_count": 11,
     "metadata": {},
     "output_type": "execute_result"
    }
   ],
   "source": [
    "cuadrado(2)"
   ]
  },
  {
   "cell_type": "markdown",
   "id": "preceding-chicago",
   "metadata": {},
   "source": [
    "### Let`s go Lambda"
   ]
  },
  {
   "cell_type": "code",
   "execution_count": 12,
   "id": "functional-pixel",
   "metadata": {},
   "outputs": [
    {
     "data": {
      "text/plain": [
       "<function __main__.<lambda>(x)>"
      ]
     },
     "execution_count": 12,
     "metadata": {},
     "output_type": "execute_result"
    }
   ],
   "source": [
    "lambda x : x**2"
   ]
  },
  {
   "cell_type": "code",
   "execution_count": 9,
   "id": "vertical-manchester",
   "metadata": {},
   "outputs": [],
   "source": [
    "cuadrado_l = lambda x : x**2"
   ]
  },
  {
   "cell_type": "code",
   "execution_count": 13,
   "id": "handy-chess",
   "metadata": {},
   "outputs": [
    {
     "data": {
      "text/plain": [
       "4"
      ]
     },
     "execution_count": 13,
     "metadata": {},
     "output_type": "execute_result"
    }
   ],
   "source": [
    "cuadrado_l(2)"
   ]
  },
  {
   "cell_type": "markdown",
   "id": "administrative-voice",
   "metadata": {},
   "source": [
    "### Función que devuelve la suma de dos argumentos"
   ]
  },
  {
   "cell_type": "code",
   "execution_count": 14,
   "id": "finished-think",
   "metadata": {},
   "outputs": [],
   "source": [
    "def suma (a,b):\n",
    "    return a + b"
   ]
  },
  {
   "cell_type": "markdown",
   "id": "alternative-profit",
   "metadata": {},
   "source": [
    "### Let`s go Lambda"
   ]
  },
  {
   "cell_type": "code",
   "execution_count": 15,
   "id": "respected-compromise",
   "metadata": {},
   "outputs": [
    {
     "data": {
      "text/plain": [
       "<function __main__.<lambda>(a, b)>"
      ]
     },
     "execution_count": 15,
     "metadata": {},
     "output_type": "execute_result"
    }
   ],
   "source": [
    "lambda a,b : a+b"
   ]
  },
  {
   "cell_type": "markdown",
   "id": "waiting-scene",
   "metadata": {},
   "source": [
    "### Función que devuelve un string en minúscula"
   ]
  },
  {
   "cell_type": "code",
   "execution_count": 16,
   "id": "operational-intake",
   "metadata": {},
   "outputs": [],
   "source": [
    "def minus(string):\n",
    "    return string.lower()"
   ]
  },
  {
   "cell_type": "markdown",
   "id": "unable-mandate",
   "metadata": {},
   "source": [
    "### Let`s go Lambda"
   ]
  },
  {
   "cell_type": "code",
   "execution_count": 17,
   "id": "sharing-number",
   "metadata": {},
   "outputs": [
    {
     "data": {
      "text/plain": [
       "<function __main__.<lambda>(x)>"
      ]
     },
     "execution_count": 17,
     "metadata": {},
     "output_type": "execute_result"
    }
   ],
   "source": [
    "lambda x : x.lower()"
   ]
  },
  {
   "cell_type": "markdown",
   "id": "valued-restriction",
   "metadata": {},
   "source": [
    "Podemos asignar estas expresiones a variables, lo cual las convierte en identificadores válidos de función. "
   ]
  },
  {
   "cell_type": "code",
   "execution_count": 18,
   "id": "biblical-production",
   "metadata": {},
   "outputs": [],
   "source": [
    "minus_l = lambda x : x.lower()"
   ]
  },
  {
   "cell_type": "code",
   "execution_count": 19,
   "id": "brilliant-quantum",
   "metadata": {},
   "outputs": [
    {
     "data": {
      "text/plain": [
       "'hoaslfksdlgkj'"
      ]
     },
     "execution_count": 19,
     "metadata": {},
     "output_type": "execute_result"
    }
   ],
   "source": [
    "minus_l(\"HOASLFKSDLGKJ\")"
   ]
  },
  {
   "cell_type": "code",
   "execution_count": 20,
   "id": "welcome-freeze",
   "metadata": {},
   "outputs": [
    {
     "data": {
      "text/plain": [
       "'no estoy creativa'"
      ]
     },
     "execution_count": 20,
     "metadata": {},
     "output_type": "execute_result"
    }
   ],
   "source": [
    "minus(\"No estoy CREATIVA\")"
   ]
  },
  {
   "cell_type": "markdown",
   "id": "nominated-carnival",
   "metadata": {},
   "source": [
    "También es posible usar estas funciones anónimas como argumentos en la llamada a otras funciones. Por ejemplo, en una. llamada a sorted() o list.sort() podemos usar la función lambda como argumento para el parámetro key."
   ]
  },
  {
   "cell_type": "code",
   "execution_count": 21,
   "id": "japanese-germany",
   "metadata": {},
   "outputs": [],
   "source": [
    "distancias = [(\"Madrid\", 331), (\"Córdoba\", 117), (\"Barcelona\", 798)]"
   ]
  },
  {
   "cell_type": "code",
   "execution_count": 23,
   "id": "silver-nigeria",
   "metadata": {},
   "outputs": [
    {
     "data": {
      "text/plain": [
       "[('Barcelona', 798), ('Madrid', 331), ('Córdoba', 117)]"
      ]
     },
     "execution_count": 23,
     "metadata": {},
     "output_type": "execute_result"
    }
   ],
   "source": [
    "sorted(distancias, key= lambda x: x[1], reverse=True)"
   ]
  },
  {
   "cell_type": "code",
   "execution_count": 25,
   "id": "flush-ozone",
   "metadata": {},
   "outputs": [
    {
     "data": {
      "text/plain": [
       "[('Barcelona', 798), ('Córdoba', 117), ('Madrid', 331)]"
      ]
     },
     "execution_count": 25,
     "metadata": {},
     "output_type": "execute_result"
    }
   ],
   "source": [
    "sorted(distancias, key= lambda x: x[0])"
   ]
  }
 ],
 "metadata": {
  "kernelspec": {
   "display_name": "ironhack",
   "language": "python",
   "name": "ironhack"
  },
  "language_info": {
   "codemirror_mode": {
    "name": "ipython",
    "version": 3
   },
   "file_extension": ".py",
   "mimetype": "text/x-python",
   "name": "python",
   "nbconvert_exporter": "python",
   "pygments_lexer": "ipython3",
   "version": "3.8.5"
  },
  "toc": {
   "base_numbering": 1,
   "nav_menu": {},
   "number_sections": true,
   "sideBar": true,
   "skip_h1_title": true,
   "title_cell": "Table of Contents",
   "title_sidebar": "Contents",
   "toc_cell": true,
   "toc_position": {
    "height": "calc(100% - 180px)",
    "left": "10px",
    "top": "150px",
    "width": "288px"
   },
   "toc_section_display": true,
   "toc_window_display": false
  }
 },
 "nbformat": 4,
 "nbformat_minor": 5
}
