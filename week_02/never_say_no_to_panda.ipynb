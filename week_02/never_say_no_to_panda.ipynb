{
 "cells": [
  {
   "cell_type": "markdown",
   "id": "hawaiian-madonna",
   "metadata": {
    "toc": true
   },
   "source": [
    "<h1>Table of Contents<span class=\"tocSkip\"></span></h1>\n",
    "<div class=\"toc\"><ul class=\"toc-item\"><li><span><a href=\"#Descarga-un-dataset-de-kaggle\" data-toc-modified-id=\"Descarga-un-dataset-de-kaggle-1\"><span class=\"toc-item-num\">1&nbsp;&nbsp;</span>Descarga un dataset de kaggle</a></span></li><li><span><a href=\"#Impórtalo-y-haz-un-dataframe\" data-toc-modified-id=\"Impórtalo-y-haz-un-dataframe-2\"><span class=\"toc-item-num\">2&nbsp;&nbsp;</span>Impórtalo y haz un dataframe</a></span></li><li><span><a href=\"#Haz-una-exploración-de-los-datos\" data-toc-modified-id=\"Haz-una-exploración-de-los-datos-3\"><span class=\"toc-item-num\">3&nbsp;&nbsp;</span>Haz una exploración de los datos</a></span></li><li><span><a href=\"#¿Tiene-nulos?-¿Cuántos?-¿En-qué-columnas?-Haz-algo-con-ellos-🙃\" data-toc-modified-id=\"¿Tiene-nulos?-¿Cuántos?-¿En-qué-columnas?-Haz-algo-con-ellos-🙃-4\"><span class=\"toc-item-num\">4&nbsp;&nbsp;</span>¿Tiene nulos? ¿Cuántos? ¿En qué columnas? Haz algo con ellos 🙃</a></span></li><li><span><a href=\"#Borra-algunas-filas\" data-toc-modified-id=\"Borra-algunas-filas-5\"><span class=\"toc-item-num\">5&nbsp;&nbsp;</span>Borra algunas filas</a></span></li><li><span><a href=\"#Borra-algunas-columnas\" data-toc-modified-id=\"Borra-algunas-columnas-6\"><span class=\"toc-item-num\">6&nbsp;&nbsp;</span>Borra algunas columnas</a></span></li><li><span><a href=\"#Escribe-una-función-y-aplícala-a-alguna-de-las-columnas\" data-toc-modified-id=\"Escribe-una-función-y-aplícala-a-alguna-de-las-columnas-7\"><span class=\"toc-item-num\">7&nbsp;&nbsp;</span>Escribe una función y aplícala a alguna de las columnas</a></span></li><li><span><a href=\"#Muestra-los-valores-únicos-de-algunas-columnas\" data-toc-modified-id=\"Muestra-los-valores-únicos-de-algunas-columnas-8\"><span class=\"toc-item-num\">8&nbsp;&nbsp;</span>Muestra los valores únicos de algunas columnas</a></span></li><li><span><a href=\"#Filtra-los-datos-por-algunos-de-los-valores-que-hay-dentro-de-alguna-columna\" data-toc-modified-id=\"Filtra-los-datos-por-algunos-de-los-valores-que-hay-dentro-de-alguna-columna-9\"><span class=\"toc-item-num\">9&nbsp;&nbsp;</span>Filtra los datos por algunos de los valores que hay dentro de alguna columna</a></span></li><li><span><a href=\"#Repite-el-paso-anterior-con-condicionales\" data-toc-modified-id=\"Repite-el-paso-anterior-con-condicionales-10\"><span class=\"toc-item-num\">10&nbsp;&nbsp;</span>Repite el paso anterior con condicionales</a></span></li><li><span><a href=\"#Elige-una-columna-y-ponla-como-index\" data-toc-modified-id=\"Elige-una-columna-y-ponla-como-index-11\"><span class=\"toc-item-num\">11&nbsp;&nbsp;</span>Elige una columna y ponla como index</a></span></li><li><span><a href=\"#Resetea-el-index\" data-toc-modified-id=\"Resetea-el-index-12\"><span class=\"toc-item-num\">12&nbsp;&nbsp;</span>Resetea el index</a></span></li><li><span><a href=\"#Divídelo-en-dos-partes-aleatorias-y-vuélvelo-a-juntar-¿te-atreves-con-filas-o-columnas?-¡¡prueba!!\" data-toc-modified-id=\"Divídelo-en-dos-partes-aleatorias-y-vuélvelo-a-juntar-¿te-atreves-con-filas-o-columnas?-¡¡prueba!!-13\"><span class=\"toc-item-num\">13&nbsp;&nbsp;</span>Divídelo en dos partes aleatorias y vuélvelo a juntar ¿te atreves con filas o columnas? ¡¡prueba!!</a></span></li></ul></div>"
   ]
  },
  {
   "cell_type": "markdown",
   "id": "illegal-truck",
   "metadata": {},
   "source": [
    "# Never say no to panda"
   ]
  },
  {
   "cell_type": "markdown",
   "id": "beginning-direction",
   "metadata": {},
   "source": [
    "![saynotopanda](https://media.giphy.com/media/ToMjGpIYtgvMP38WTFC/giphy.gif)"
   ]
  },
  {
   "cell_type": "markdown",
   "id": "adjustable-carroll",
   "metadata": {},
   "source": [
    "## Descarga un dataset de kaggle"
   ]
  },
  {
   "cell_type": "code",
   "execution_count": null,
   "id": "worse-converter",
   "metadata": {},
   "outputs": [],
   "source": []
  },
  {
   "cell_type": "markdown",
   "id": "substantial-softball",
   "metadata": {},
   "source": [
    "## Impórtalo y haz un dataframe"
   ]
  },
  {
   "cell_type": "code",
   "execution_count": null,
   "id": "fixed-gilbert",
   "metadata": {},
   "outputs": [],
   "source": []
  },
  {
   "cell_type": "markdown",
   "id": "modified-approach",
   "metadata": {},
   "source": [
    "## Haz una exploración de los datos"
   ]
  },
  {
   "cell_type": "code",
   "execution_count": null,
   "id": "assisted-possibility",
   "metadata": {},
   "outputs": [],
   "source": []
  },
  {
   "cell_type": "markdown",
   "id": "announced-payroll",
   "metadata": {},
   "source": [
    "## ¿Tiene nulos? ¿Cuántos? ¿En qué columnas? Haz algo con ellos 🙃"
   ]
  },
  {
   "cell_type": "code",
   "execution_count": null,
   "id": "specialized-cylinder",
   "metadata": {},
   "outputs": [],
   "source": []
  },
  {
   "cell_type": "markdown",
   "id": "square-words",
   "metadata": {},
   "source": [
    "## Borra algunas filas"
   ]
  },
  {
   "cell_type": "code",
   "execution_count": null,
   "id": "efficient-toddler",
   "metadata": {},
   "outputs": [],
   "source": []
  },
  {
   "cell_type": "markdown",
   "id": "endless-assurance",
   "metadata": {},
   "source": [
    "## Borra algunas columnas"
   ]
  },
  {
   "cell_type": "code",
   "execution_count": null,
   "id": "robust-domain",
   "metadata": {},
   "outputs": [],
   "source": []
  },
  {
   "cell_type": "markdown",
   "id": "pleasant-phoenix",
   "metadata": {},
   "source": [
    "## Escribe una función y aplícala a alguna de las columnas"
   ]
  },
  {
   "cell_type": "code",
   "execution_count": null,
   "id": "typical-rolling",
   "metadata": {},
   "outputs": [],
   "source": []
  },
  {
   "cell_type": "markdown",
   "id": "cardiovascular-plumbing",
   "metadata": {},
   "source": [
    "## Muestra los valores únicos de algunas columnas"
   ]
  },
  {
   "cell_type": "code",
   "execution_count": null,
   "id": "aggressive-companion",
   "metadata": {},
   "outputs": [],
   "source": []
  },
  {
   "cell_type": "markdown",
   "id": "suburban-holocaust",
   "metadata": {},
   "source": [
    "## Filtra los datos por algunos de los valores que hay dentro de alguna columna"
   ]
  },
  {
   "cell_type": "code",
   "execution_count": null,
   "id": "homeless-saver",
   "metadata": {},
   "outputs": [],
   "source": []
  },
  {
   "cell_type": "markdown",
   "id": "phantom-strengthening",
   "metadata": {},
   "source": [
    "## Repite el paso anterior con condicionales"
   ]
  },
  {
   "cell_type": "code",
   "execution_count": null,
   "id": "chief-reggae",
   "metadata": {},
   "outputs": [],
   "source": []
  },
  {
   "cell_type": "markdown",
   "id": "unable-politics",
   "metadata": {},
   "source": [
    "## Elige una columna y ponla como index"
   ]
  },
  {
   "cell_type": "code",
   "execution_count": null,
   "id": "insured-grounds",
   "metadata": {},
   "outputs": [],
   "source": []
  },
  {
   "cell_type": "markdown",
   "id": "colonial-destruction",
   "metadata": {},
   "source": [
    "## Resetea el index"
   ]
  },
  {
   "cell_type": "code",
   "execution_count": null,
   "id": "bibliographic-semiconductor",
   "metadata": {},
   "outputs": [],
   "source": []
  },
  {
   "cell_type": "markdown",
   "id": "descending-material",
   "metadata": {},
   "source": [
    "## Divídelo en dos partes aleatorias y vuélvelo a juntar ¿te atreves con filas o columnas? ¡¡prueba!!"
   ]
  },
  {
   "cell_type": "code",
   "execution_count": null,
   "id": "advised-investigation",
   "metadata": {},
   "outputs": [],
   "source": []
  }
 ],
 "metadata": {
  "kernelspec": {
   "display_name": "ironhack",
   "language": "python",
   "name": "ironhack"
  },
  "language_info": {
   "codemirror_mode": {
    "name": "ipython",
    "version": 3
   },
   "file_extension": ".py",
   "mimetype": "text/x-python",
   "name": "python",
   "nbconvert_exporter": "python",
   "pygments_lexer": "ipython3",
   "version": "3.8.5"
  },
  "toc": {
   "base_numbering": 1,
   "nav_menu": {},
   "number_sections": true,
   "sideBar": true,
   "skip_h1_title": true,
   "title_cell": "Table of Contents",
   "title_sidebar": "Contents",
   "toc_cell": true,
   "toc_position": {
    "height": "calc(100% - 180px)",
    "left": "10px",
    "top": "150px",
    "width": "288px"
   },
   "toc_section_display": true,
   "toc_window_display": true
  }
 },
 "nbformat": 4,
 "nbformat_minor": 5
}
