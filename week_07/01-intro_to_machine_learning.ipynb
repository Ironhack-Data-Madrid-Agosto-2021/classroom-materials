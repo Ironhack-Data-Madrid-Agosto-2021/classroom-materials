{
 "cells": [
  {
   "cell_type": "markdown",
   "metadata": {},
   "source": [
    "# Introducción Machine Learning"
   ]
  },
  {
   "cell_type": "markdown",
   "metadata": {},
   "source": [
    "![elgifderigor](https://media.giphy.com/media/NsBknNwmmWE8WU1q2U/giphy.gif)"
   ]
  },
  {
   "cell_type": "markdown",
   "metadata": {
    "toc": true
   },
   "source": [
    "<h1>Table of Contents<span class=\"tocSkip\"></span></h1>\n",
    "<div class=\"toc\"><ul class=\"toc-item\"><li><span><a href=\"#Tipos-de-Aprendizaje-Automático\" data-toc-modified-id=\"Tipos-de-Aprendizaje-Automático-1\"><span class=\"toc-item-num\">1&nbsp;&nbsp;</span>Tipos de Aprendizaje Automático</a></span><ul class=\"toc-item\"><li><span><a href=\"#Supervisado\" data-toc-modified-id=\"Supervisado-1.1\"><span class=\"toc-item-num\">1.1&nbsp;&nbsp;</span>Supervisado</a></span></li><li><span><a href=\"#No-supervisado\" data-toc-modified-id=\"No-supervisado-1.2\"><span class=\"toc-item-num\">1.2&nbsp;&nbsp;</span>No supervisado</a></span></li><li><span><a href=\"#Por-refuerzo\" data-toc-modified-id=\"Por-refuerzo-1.3\"><span class=\"toc-item-num\">1.3&nbsp;&nbsp;</span>Por refuerzo</a></span></li></ul></li><li><span><a href=\"#Features\" data-toc-modified-id=\"Features-2\"><span class=\"toc-item-num\">2&nbsp;&nbsp;</span>Features</a></span></li><li><span><a href=\"#Train-/-Test-split\" data-toc-modified-id=\"Train-/-Test-split-3\"><span class=\"toc-item-num\">3&nbsp;&nbsp;</span>Train / Test split</a></span></li><li><span><a href=\"#Underfitting-y-Overfitting\" data-toc-modified-id=\"Underfitting-y-Overfitting-4\"><span class=\"toc-item-num\">4&nbsp;&nbsp;</span>Underfitting y Overfitting</a></span></li><li><span><a href=\"#Cross-Validation\" data-toc-modified-id=\"Cross-Validation-5\"><span class=\"toc-item-num\">5&nbsp;&nbsp;</span>Cross-Validation</a></span></li><li><span><a href=\"#Summmary\" data-toc-modified-id=\"Summmary-6\"><span class=\"toc-item-num\">6&nbsp;&nbsp;</span>Summmary</a></span></li></ul></div>"
   ]
  },
  {
   "cell_type": "markdown",
   "metadata": {},
   "source": [
    "## Tipos de Aprendizaje Automático"
   ]
  },
  {
   "cell_type": "markdown",
   "metadata": {},
   "source": [
    "### Supervisado"
   ]
  },
  {
   "cell_type": "markdown",
   "metadata": {},
   "source": [
    "Los datos están **etiquetados** (se conoce la *verdad* de un histórico de observaciones). Al modelo se le presentan datos con su etiqueta, y el modelo infiere patrones para más tarde hacer predicciones. Hay fundamentalmente 2 clases de problemas:\n",
    "\n",
    "  * Regresión: predecimos una variable cuantitativa. Ejemplos:\n",
    "     * Dadas el número de horas de estudio y de fiesta de un estudiante, predecir qué nota sacará.\n",
    "     * Dadas las características de un jugador de basket, predecir su salario.\n",
    "  * Clasificación: predecimos una variable cualitativa. Puede ser binaria o multiclase. Ejemplos:\n",
    "     * Dadas propiedades de un nódulo, predecir si se desarrolla o no cáncer.\n",
    "     * Dado un cliente, predecir si devuelve o no un préstamo.\n",
    "     * Dada una imagen, predecir si hay un gato o un perro.\n",
    "     * Dadas un artículo de prensa, predecir a cuál de entre 5 categorías corresponde."
   ]
  },
  {
   "cell_type": "markdown",
   "metadata": {},
   "source": [
    "### No supervisado"
   ]
  },
  {
   "cell_type": "markdown",
   "metadata": {},
   "source": [
    "Los datos **no** están **etiquetados**. El modelo busca patrones de similaridad entre observaciones. Ejemplos:\n",
    "  * Jugadores similares del FIFA.\n",
    "  * Compradores del supermercado semejantes.\n",
    "  * Estaciones de BICIMAD similares."
   ]
  },
  {
   "cell_type": "markdown",
   "metadata": {},
   "source": [
    "### Por refuerzo"
   ]
  },
  {
   "cell_type": "markdown",
   "metadata": {},
   "source": [
    "Un agente observa estados, toma acciones y recibe recompensas. El objetivo es encontrar una *policy* que maximice las recompensas. Ejemplos:\n",
    "   * AlphaZero (máquina que gana al ajedrez)\n",
    "   * AlphaStar (máquina que juega al Starcraft)"
   ]
  },
  {
   "cell_type": "markdown",
   "metadata": {},
   "source": [
    "## Features"
   ]
  },
  {
   "cell_type": "markdown",
   "metadata": {},
   "source": [
    "Las **features** son las variables (columnas) presentes en nuestro dataset.  \n",
    "En el caso del aprendizaje supervisado, diferenciamos entre:\n",
    "  * target: variable que queremos predecir.\n",
    "  * predictores: variables utilizadas para predecir."
   ]
  },
  {
   "cell_type": "markdown",
   "metadata": {},
   "source": [
    "## Train / Test split"
   ]
  },
  {
   "cell_type": "markdown",
   "metadata": {},
   "source": [
    "La división train/test es una técnica para **evaluar el rendimiento** de un algoritmo de aprendizaje automático **supervisado**.\n",
    "\n",
    "Se utiliza tanto para problemas de clasificación o regresión."
   ]
  },
  {
   "cell_type": "markdown",
   "metadata": {},
   "source": [
    "<span style=\"color:orange\">**predictors X**</span>\n",
    "<span style=\"color:blue\">**target y**</span>  "
   ]
  },
  {
   "cell_type": "markdown",
   "metadata": {},
   "source": [
    "<img width=800 src=\"https://www.dataquest.io/wp-content/uploads/kaggle_train_test_split.svg\" width=\"500\">"
   ]
  },
  {
   "cell_type": "markdown",
   "metadata": {},
   "source": [
    "El procedimiento consiste en:\n",
    " * tomar el conjunto de datos (predictores + target).\n",
    " * dividirlo en dos subconjuntos (generalmente 80% y 20%):\n",
    "   * train: utilizado para entrenar el modelo.\n",
    "   * test: utilizado para evaluar el rendimiento del modelo (**no** se utiliza para entrenarlo).\n",
    " * entrenar el modelo con el conjunto de train.\n",
    " * predecir sobre el conjunto de test.\n",
    " * evaluar la métrica de rendimiento sobre el test: comparar **real** vs **predicted**\n",
    " \n",
    "El objetivo es estimar el rendimiento futuro del modelo con datos nunca vistos antes."
   ]
  },
  {
   "cell_type": "markdown",
   "metadata": {},
   "source": [
    "La evaluación del rendimiento de un modelo es preferible hacerla utilizando una técnica más robusta: Cross-Validation (más adelante)"
   ]
  },
  {
   "cell_type": "markdown",
   "metadata": {},
   "source": [
    "## Underfitting y Overfitting "
   ]
  },
  {
   "cell_type": "markdown",
   "metadata": {},
   "source": [
    " * El **underfitting** suele ser la consecuencia de que un modelo sea incapaz de encapsular las relaciones entre los datos. Por ejemplo, esto puede ocurrir cuando se intenta representar relaciones no lineales con un modelo lineal. Los modelos infraajustados probablemente tendrán un rendimiento pobre tanto en los conjuntos de entrenamiento como en el de test (datos nunca vistos por el modelo).\n",
    "\n",
    " * El **overfitting** suele tener lugar cuando un modelo tiene una **estructura excesivamente compleja** y aprende tanto las relaciones existentes entre los datos como del ruido. Estos modelos suelen tener una **mala capacidad de generalización**. Aunque funcionan bien con los datos de entrenamiento, suelen tener un rendimiento pobre con los datos de test (nunca vistos por el modelo)."
   ]
  },
  {
   "cell_type": "markdown",
   "metadata": {},
   "source": [
    "## Cross-Validation"
   ]
  },
  {
   "cell_type": "markdown",
   "metadata": {},
   "source": [
    "La validación cruzada (cross-validation) es una técnica utilizada para **evaluar la performance** de un modelo **sin depender fuertemente** de una partición particular train/test.\n",
    "\n",
    " * Se apoya en la técnica del train/test split.\n",
    " * Repite la técnica K veces (usualmente K=5)\n",
    " * Promedia el test score de las K veces. "
   ]
  },
  {
   "cell_type": "markdown",
   "metadata": {},
   "source": [
    "<img width=800 src=\"http://ethen8181.github.io/machine-learning/model_selection/img/kfolds.png\">"
   ]
  },
  {
   "cell_type": "markdown",
   "metadata": {},
   "source": [
    "Como vemos en la imagen, en el caso K=5:  \n",
    "**Iterar 5 veces:**      \n",
    "1. Apartamos 1/5 de muestras (validation fold, también llamado a veces test fold).\n",
    "2. Entrenamos al modelo con el restante 4/5 de muestras.\n",
    "3. Medimos el performance (métrica) sobre el validation fold. El resultado es un número real.\n",
    "\n",
    "El performance será la media aritmética de los 5 folds."
   ]
  },
  {
   "cell_type": "markdown",
   "metadata": {},
   "source": [
    "## Summmary"
   ]
  },
  {
   "cell_type": "markdown",
   "metadata": {},
   "source": [
    "* Supervised / unsupervised / reinforcement learning.\n",
    "* Supervised: regression / classification\n",
    "* Supervised: predictors (X) and target (y)\n",
    "* Train / test split paradigm: capital for correctly assessing future model performance\n",
    "* Cross-validation: train / test split K times for averaging\n",
    "* Overfitting: model learns about the noise (memorizes training set) --> generalise badly. Must be prevented!!"
   ]
  }
 ],
 "metadata": {
  "kernelspec": {
   "display_name": "Python 3",
   "language": "python",
   "name": "python3"
  },
  "language_info": {
   "codemirror_mode": {
    "name": "ipython",
    "version": 3
   },
   "file_extension": ".py",
   "mimetype": "text/x-python",
   "name": "python",
   "nbconvert_exporter": "python",
   "pygments_lexer": "ipython3",
   "version": "3.8.5"
  },
  "toc": {
   "base_numbering": 1,
   "nav_menu": {},
   "number_sections": true,
   "sideBar": true,
   "skip_h1_title": true,
   "title_cell": "Table of Contents",
   "title_sidebar": "Contents",
   "toc_cell": true,
   "toc_position": {
    "height": "calc(100% - 180px)",
    "left": "10px",
    "top": "150px",
    "width": "288px"
   },
   "toc_section_display": true,
   "toc_window_display": true
  },
  "varInspector": {
   "cols": {
    "lenName": 16,
    "lenType": 16,
    "lenVar": 40
   },
   "kernels_config": {
    "python": {
     "delete_cmd_postfix": "",
     "delete_cmd_prefix": "del ",
     "library": "var_list.py",
     "varRefreshCmd": "print(var_dic_list())"
    },
    "r": {
     "delete_cmd_postfix": ") ",
     "delete_cmd_prefix": "rm(",
     "library": "var_list.r",
     "varRefreshCmd": "cat(var_dic_list()) "
    }
   },
   "types_to_exclude": [
    "module",
    "function",
    "builtin_function_or_method",
    "instance",
    "_Feature"
   ],
   "window_display": false
  }
 },
 "nbformat": 4,
 "nbformat_minor": 5
}
