{
 "cells": [
  {
   "cell_type": "markdown",
   "metadata": {},
   "source": [
    "# Math crash course for Data Scientists"
   ]
  },
  {
   "cell_type": "markdown",
   "metadata": {
    "toc": true
   },
   "source": [
    "<h1>Table of Contents<span class=\"tocSkip\"></span></h1>\n",
    "<div class=\"toc\"><ul class=\"toc-item\"><li><span><a href=\"#Divisibility\" data-toc-modified-id=\"Divisibility-1\"><span class=\"toc-item-num\">1&nbsp;&nbsp;</span>Divisibility</a></span></li><li><span><a href=\"#Basic-functions\" data-toc-modified-id=\"Basic-functions-2\"><span class=\"toc-item-num\">2&nbsp;&nbsp;</span>Basic functions</a></span><ul class=\"toc-item\"><li><span><a href=\"#x-y-grid\" data-toc-modified-id=\"x-y-grid-2.1\"><span class=\"toc-item-num\">2.1&nbsp;&nbsp;</span>x-y grid</a></span><ul class=\"toc-item\"><li><span><a href=\"#Distances-between-points\" data-toc-modified-id=\"Distances-between-points-2.1.1\"><span class=\"toc-item-num\">2.1.1&nbsp;&nbsp;</span>Distances between points</a></span></li></ul></li><li><span><a href=\"#linear-functions\" data-toc-modified-id=\"linear-functions-2.2\"><span class=\"toc-item-num\">2.2&nbsp;&nbsp;</span>linear functions</a></span></li><li><span><a href=\"#polynomials\" data-toc-modified-id=\"polynomials-2.3\"><span class=\"toc-item-num\">2.3&nbsp;&nbsp;</span>polynomials</a></span></li><li><span><a href=\"#square-root\" data-toc-modified-id=\"square-root-2.4\"><span class=\"toc-item-num\">2.4&nbsp;&nbsp;</span>square root</a></span></li><li><span><a href=\"#exp\" data-toc-modified-id=\"exp-2.5\"><span class=\"toc-item-num\">2.5&nbsp;&nbsp;</span>exp</a></span></li><li><span><a href=\"#log\" data-toc-modified-id=\"log-2.6\"><span class=\"toc-item-num\">2.6&nbsp;&nbsp;</span>log</a></span></li><li><span><a href=\"#special-symbols\" data-toc-modified-id=\"special-symbols-2.7\"><span class=\"toc-item-num\">2.7&nbsp;&nbsp;</span>special symbols</a></span></li></ul></li><li><span><a href=\"#Combinatorics\" data-toc-modified-id=\"Combinatorics-3\"><span class=\"toc-item-num\">3&nbsp;&nbsp;</span>Combinatorics</a></span><ul class=\"toc-item\"><li><span><a href=\"#Motivation-problems\" data-toc-modified-id=\"Motivation-problems-3.1\"><span class=\"toc-item-num\">3.1&nbsp;&nbsp;</span>Motivation problems</a></span></li><li><span><a href=\"#Factorial-function\" data-toc-modified-id=\"Factorial-function-3.2\"><span class=\"toc-item-num\">3.2&nbsp;&nbsp;</span>Factorial function</a></span></li><li><span><a href=\"#Variaciones\" data-toc-modified-id=\"Variaciones-3.3\"><span class=\"toc-item-num\">3.3&nbsp;&nbsp;</span>Variaciones</a></span></li><li><span><a href=\"#Permutaciones\" data-toc-modified-id=\"Permutaciones-3.4\"><span class=\"toc-item-num\">3.4&nbsp;&nbsp;</span>Permutaciones</a></span></li><li><span><a href=\"#Combinaciones\" data-toc-modified-id=\"Combinaciones-3.5\"><span class=\"toc-item-num\">3.5&nbsp;&nbsp;</span>Combinaciones</a></span></li></ul></li></ul></div>"
   ]
  },
  {
   "cell_type": "markdown",
   "metadata": {},
   "source": [
    "## Divisibility"
   ]
  },
  {
   "cell_type": "markdown",
   "metadata": {},
   "source": [
    "Number 12 has several divisors not equal to itself: 1, 2, 3, 4, 6"
   ]
  },
  {
   "cell_type": "markdown",
   "metadata": {},
   "source": [
    "Number 15 has several divisors not equal to itself: 1, 3, 5"
   ]
  },
  {
   "cell_type": "markdown",
   "metadata": {},
   "source": [
    "Write a function that:\n",
    " * receives an integer\n",
    " * returns the list of its divisors but itself\n"
   ]
  },
  {
   "cell_type": "markdown",
   "metadata": {},
   "source": [
    "**Reminder**: `a % b == 0` means `a` is divisible by `b`"
   ]
  },
  {
   "cell_type": "code",
   "execution_count": null,
   "metadata": {},
   "outputs": [],
   "source": [
    "def divisors(n):\n",
    "    \"\"\"\n",
    "    Your docstring here\n",
    "    \"\"\"\n",
    "    # your code here"
   ]
  },
  {
   "cell_type": "code",
   "execution_count": null,
   "metadata": {},
   "outputs": [],
   "source": [
    "divisors(12)"
   ]
  },
  {
   "cell_type": "code",
   "execution_count": null,
   "metadata": {},
   "outputs": [],
   "source": [
    "divisors(7)"
   ]
  },
  {
   "cell_type": "code",
   "execution_count": null,
   "metadata": {},
   "outputs": [],
   "source": [
    "divisors(6)"
   ]
  },
  {
   "cell_type": "markdown",
   "metadata": {},
   "source": [
    "A perfect number fullfills the following condition:  \n",
    "**The sum of all its divisors, excluding itself, is equal to the original number**"
   ]
  },
  {
   "cell_type": "markdown",
   "metadata": {},
   "source": [
    "[Perfect numbers](https://en.wikipedia.org/wiki/Perfect_number)"
   ]
  },
  {
   "cell_type": "markdown",
   "metadata": {},
   "source": [
    "Write a function that returns whether a number is perfect or not. Then find all perfect numbers below 10.000    \n",
    "HINT: Use the previous function!!  "
   ]
  },
  {
   "cell_type": "code",
   "execution_count": 1,
   "metadata": {},
   "outputs": [],
   "source": [
    "def is_perfect(number):\n",
    "    \"\"\"\n",
    "    Decides whether a number is perfect or not\n",
    "    Args:\n",
    "        number (int): number to check\n",
    "    Returns:\n",
    "        bool: True if perfect, False if not\n",
    "    \"\"\"\n",
    "    # your code here"
   ]
  },
  {
   "cell_type": "markdown",
   "metadata": {},
   "source": [
    "## Basic functions"
   ]
  },
  {
   "cell_type": "code",
   "execution_count": null,
   "metadata": {},
   "outputs": [],
   "source": [
    "import matplotlib.pyplot as plt"
   ]
  },
  {
   "cell_type": "markdown",
   "metadata": {},
   "source": [
    "You can find handwritten contents in a pdf file in this same directory"
   ]
  },
  {
   "cell_type": "markdown",
   "metadata": {},
   "source": [
    "### x-y grid"
   ]
  },
  {
   "cell_type": "markdown",
   "metadata": {},
   "source": [
    "Initialize some points"
   ]
  },
  {
   "cell_type": "code",
   "execution_count": null,
   "metadata": {},
   "outputs": [],
   "source": [
    "A = (2, 1)\n",
    "B = (3, -2)\n",
    "C = (-1, 0)"
   ]
  },
  {
   "cell_type": "markdown",
   "metadata": {},
   "source": [
    "`fig, ax = plt.subplots()` is very useful for initializing a plot"
   ]
  },
  {
   "cell_type": "code",
   "execution_count": null,
   "metadata": {},
   "outputs": [],
   "source": [
    "# create a plot\n",
    "fig, ax = plt.subplots()\n",
    "\n",
    "# add points. \"o\" stands for circle, \"*\" would be a star point\n",
    "plt.plot(A[0], A[1], \"o\", markersize=10, label=\"A\")\n",
    "plt.plot(B[0], B[1], \"o\", markersize=10, label=\"B\")\n",
    "plt.plot(C[0], C[1], \"o\", markersize=10, label=\"C\")\n",
    "\n",
    "# set axis limits\n",
    "ax.set_xlim([-4, 4])\n",
    "ax.set_ylim([-4, 4])\n",
    "# this adds top right legend for labeled elements\n",
    "plt.legend()"
   ]
  },
  {
   "cell_type": "markdown",
   "metadata": {},
   "source": [
    "#### Distances between points"
   ]
  },
  {
   "cell_type": "markdown",
   "metadata": {},
   "source": [
    "Pythagorean theorem:\n",
    "$$h^2 = (c_1)^2+(c_2)^2$$"
   ]
  },
  {
   "cell_type": "markdown",
   "metadata": {},
   "source": [
    "<img src=\"https://i.ytimg.com/vi/AAIUMNP1ghI/maxresdefault.jpg\" width=500>"
   ]
  },
  {
   "cell_type": "code",
   "execution_count": null,
   "metadata": {},
   "outputs": [],
   "source": [
    "# hipotenusa\n",
    "ax.plot((A[0], B[0]), (A[1], B[1]), \"black\")\n",
    "\n",
    "# catetos\n",
    "ax.plot((A[0], A[0]), (A[1], B[1]), \"black\")\n",
    "ax.plot((A[0], B[0]), (B[1], B[1]), \"black\")\n",
    "\n",
    "fig"
   ]
  },
  {
   "cell_type": "code",
   "execution_count": null,
   "metadata": {},
   "outputs": [],
   "source": [
    "import math"
   ]
  },
  {
   "cell_type": "code",
   "execution_count": null,
   "metadata": {},
   "outputs": [],
   "source": [
    "A"
   ]
  },
  {
   "cell_type": "code",
   "execution_count": null,
   "metadata": {},
   "outputs": [],
   "source": [
    "B"
   ]
  },
  {
   "cell_type": "code",
   "execution_count": null,
   "metadata": {},
   "outputs": [],
   "source": [
    "# vertical segment \n",
    "c1 = 1 - (-2)\n",
    "# horizontal segment\n",
    "c2 = 3 - 2"
   ]
  },
  {
   "cell_type": "code",
   "execution_count": null,
   "metadata": {},
   "outputs": [],
   "source": [
    "dist_AB = math.sqrt(c1 ** 2 + c2 ** 2)"
   ]
  },
  {
   "cell_type": "code",
   "execution_count": null,
   "metadata": {},
   "outputs": [],
   "source": [
    "dist_AB"
   ]
  },
  {
   "cell_type": "markdown",
   "metadata": {},
   "source": [
    "### linear functions"
   ]
  },
  {
   "cell_type": "markdown",
   "metadata": {},
   "source": [
    "I create a function we will use a lot with figure properties"
   ]
  },
  {
   "cell_type": "code",
   "execution_count": null,
   "metadata": {},
   "outputs": [],
   "source": [
    "from utils import initialize_grid"
   ]
  },
  {
   "cell_type": "code",
   "execution_count": null,
   "metadata": {},
   "outputs": [],
   "source": [
    "initialize_grid()"
   ]
  },
  {
   "cell_type": "markdown",
   "metadata": {},
   "source": [
    "In general, to plot functions, we need to generate `x` points, then `y` points"
   ]
  },
  {
   "cell_type": "markdown",
   "metadata": {},
   "source": [
    "`np.linspace` is very useful for this: returns equispaced points in given range"
   ]
  },
  {
   "cell_type": "code",
   "execution_count": null,
   "metadata": {},
   "outputs": [],
   "source": [
    "x = np.linspace(\n",
    "    start=-10, \n",
    "    stop=10, \n",
    "    num=300\n",
    ")"
   ]
  },
  {
   "cell_type": "code",
   "execution_count": null,
   "metadata": {},
   "outputs": [],
   "source": [
    "y = 2 * x + 1\n",
    "y2 = 3 * x + 5\n",
    "y3 = 2 * x - 4"
   ]
  },
  {
   "cell_type": "code",
   "execution_count": null,
   "metadata": {},
   "outputs": [],
   "source": [
    "initialize_grid()\n",
    "# \"-\" for line type\n",
    "plt.plot(x, y, \"-\", markersize=10, label=\"2x+1\")\n",
    "plt.plot(x, y3, \"-\", markersize=10, label=\"2x-4\")\n",
    "plt.plot(x, y2, \"-\", markersize=2, label=\"3x+5\")\n",
    "\n",
    "plt.legend()"
   ]
  },
  {
   "cell_type": "markdown",
   "metadata": {},
   "source": [
    "How much money `y` do we spend on electricity monthly at home, depending on the number of people `x`?   \n",
    "\n",
    "$$y=30x+20$$  \n",
    "\n",
    "The slope is 30: one extra person (1 more `x`) implies 30 euros units (30 `y`)   \n",
    "\n",
    "The intersect is `20`: when no people (`x=0`), base consumption is `y=20`"
   ]
  },
  {
   "cell_type": "markdown",
   "metadata": {},
   "source": [
    "### polynomials"
   ]
  },
  {
   "cell_type": "markdown",
   "metadata": {},
   "source": [
    "[Detexify](https://detexify.kirelabs.org/classify.html)"
   ]
  },
  {
   "cell_type": "markdown",
   "metadata": {},
   "source": [
    "$y_2 = x^2 + 4x - 2 = (x + 2)^2 - 6$"
   ]
  },
  {
   "cell_type": "markdown",
   "metadata": {},
   "source": [
    "Graphing form equation helps us see the vertex"
   ]
  },
  {
   "cell_type": "markdown",
   "metadata": {},
   "source": [
    "<img src=\"https://www.mathwarehouse.com/geometry/parabola/images/standard-vertex-forms.png\" width=400>"
   ]
  },
  {
   "cell_type": "markdown",
   "metadata": {},
   "source": [
    "Parabola normal form"
   ]
  },
  {
   "cell_type": "code",
   "execution_count": null,
   "metadata": {},
   "outputs": [],
   "source": [
    "initialize_grid()\n",
    "\n",
    "y2 = x ** 2 + 4 * x - 2\n",
    "y3 = x ** 3 - 4 * x ** 2 + 3 * x +1\n",
    "y4 = x ** 4 - x ** 3 - 4 * x ** 2 + 3 * x + 1\n",
    "\n",
    "plt.plot(x, y2, \"-\", label=\"x ** 2 + 4 * x - 2\")\n",
    "plt.plot(x, y3, \"-\", label=\"degree 3\")\n",
    "plt.plot(x, y4, \"-\", label=\"degree 4\")\n",
    "\n",
    "plt.legend()"
   ]
  },
  {
   "cell_type": "markdown",
   "metadata": {},
   "source": [
    "### square root"
   ]
  },
  {
   "cell_type": "markdown",
   "metadata": {},
   "source": [
    "Sublinear function: increment of `y` gets slower and slower"
   ]
  },
  {
   "cell_type": "markdown",
   "metadata": {},
   "source": [
    "$\\sqrt{100}=10 \\iff 10^2=100$"
   ]
  },
  {
   "cell_type": "code",
   "execution_count": null,
   "metadata": {},
   "outputs": [],
   "source": [
    "initialize_grid()\n",
    "\n",
    "y = np.sqrt(x)\n",
    "\n",
    "plt.plot(x, y, \"-\")\n",
    "# plt.plot(x, x)"
   ]
  },
  {
   "cell_type": "markdown",
   "metadata": {},
   "source": [
    "Linear times for my algorithm A"
   ]
  },
  {
   "cell_type": "markdown",
   "metadata": {},
   "source": [
    "1000 users    5s  \n",
    "2000 users    10s  \n",
    "3000 users    15s  \n",
    "10000 users   50s  "
   ]
  },
  {
   "cell_type": "code",
   "execution_count": null,
   "metadata": {},
   "outputs": [],
   "source": [
    "plt.plot([1000, 2000, 3000, 10000], [5, 10, 15, 50], \"o\")"
   ]
  },
  {
   "cell_type": "markdown",
   "metadata": {},
   "source": [
    "Sublinear times for my algorithm B"
   ]
  },
  {
   "cell_type": "markdown",
   "metadata": {},
   "source": [
    "1000 users    10s  \n",
    "2000 users    15s  \n",
    "3000 users    19s  \n",
    "10000 users   25s"
   ]
  },
  {
   "cell_type": "code",
   "execution_count": null,
   "metadata": {},
   "outputs": [],
   "source": [
    "plt.plot([1000, 2000, 3000, 10000], [10, 15, 19, 25], \"o\")"
   ]
  },
  {
   "cell_type": "markdown",
   "metadata": {},
   "source": [
    "We should test if it is square root trend (not the scope of today)"
   ]
  },
  {
   "cell_type": "markdown",
   "metadata": {},
   "source": [
    "### exp"
   ]
  },
  {
   "cell_type": "markdown",
   "metadata": {},
   "source": [
    "One increase in `x`, implies **multiplication** of `y` by a given factor (the base)"
   ]
  },
  {
   "cell_type": "code",
   "execution_count": null,
   "metadata": {},
   "outputs": [],
   "source": [
    "initialize_grid()\n",
    "\n",
    "y = 3 ** x\n",
    "\n",
    "# start with 2 euro, earn 10% yearly\n",
    "y2 = 2 * 1.2 ** x\n",
    "\n",
    "plt.plot(x, y, \"-\", label=\"base 3\")\n",
    "plt.plot(x, y2, \"-\", label=\"base 1.2\")\n",
    "\n",
    "plt.legend()"
   ]
  },
  {
   "cell_type": "markdown",
   "metadata": {},
   "source": [
    "With $n$ digits, I can build $2^n$ binary numbers"
   ]
  },
  {
   "cell_type": "markdown",
   "metadata": {},
   "source": [
    "### log"
   ]
  },
  {
   "cell_type": "markdown",
   "metadata": {},
   "source": [
    "The reciprocal of the exponential"
   ]
  },
  {
   "cell_type": "markdown",
   "metadata": {},
   "source": [
    "What number do I need to exponentiate 10 to, to get 1000?"
   ]
  },
  {
   "cell_type": "markdown",
   "metadata": {},
   "source": [
    "$10^3 = 1000 \\iff log_{10}(1000) = 3$"
   ]
  },
  {
   "cell_type": "code",
   "execution_count": null,
   "metadata": {},
   "outputs": [],
   "source": [
    "# e is a special number in mathematics\n",
    "np.e"
   ]
  },
  {
   "cell_type": "code",
   "execution_count": null,
   "metadata": {},
   "outputs": [],
   "source": [
    "initialize_grid()\n",
    "\n",
    "y = np.log10(x)\n",
    "# base e (logaritmo neperiano)\n",
    "y2 = np.log(x)\n",
    "\n",
    "plt.plot(x, y, \"-\", label=\"base 10\")\n",
    "plt.plot(x, y2, \"-\", label=\"base e\")\n",
    "\n",
    "plt.legend()"
   ]
  },
  {
   "cell_type": "markdown",
   "metadata": {},
   "source": [
    "$10^3 = 1000 \\iff log_{10}(1000) = 3$"
   ]
  },
  {
   "cell_type": "markdown",
   "metadata": {},
   "source": [
    "Log turns different scale numbers (10, 100, 1000) into similar ones (1, 2, 3)"
   ]
  },
  {
   "cell_type": "code",
   "execution_count": null,
   "metadata": {},
   "outputs": [],
   "source": [
    "salaries = 10 ** (np.random.rand(300) * 5 + 2)"
   ]
  },
  {
   "cell_type": "code",
   "execution_count": null,
   "metadata": {},
   "outputs": [],
   "source": [
    "salaries[:10]"
   ]
  },
  {
   "cell_type": "code",
   "execution_count": null,
   "metadata": {},
   "outputs": [],
   "source": [
    "import seaborn as sns"
   ]
  },
  {
   "cell_type": "code",
   "execution_count": null,
   "metadata": {},
   "outputs": [],
   "source": [
    "for s in salaries[:10]:\n",
    "    print(round(s))"
   ]
  },
  {
   "cell_type": "code",
   "execution_count": null,
   "metadata": {},
   "outputs": [],
   "source": [
    "sns.distplot(salaries)"
   ]
  },
  {
   "cell_type": "code",
   "execution_count": null,
   "metadata": {},
   "outputs": [],
   "source": [
    "sns.displot(np.log10(salaries))"
   ]
  },
  {
   "cell_type": "markdown",
   "metadata": {},
   "source": [
    "### special symbols"
   ]
  },
  {
   "cell_type": "markdown",
   "metadata": {},
   "source": [
    "$$\\sum_{n=3}^6 n$$"
   ]
  },
  {
   "cell_type": "code",
   "execution_count": null,
   "metadata": {},
   "outputs": [],
   "source": [
    "3 + 4 + 5 + 6"
   ]
  },
  {
   "cell_type": "markdown",
   "metadata": {},
   "source": [
    "$$\\sum_{n=-2}^1 (n² - n + 1)$$"
   ]
  },
  {
   "cell_type": "code",
   "execution_count": null,
   "metadata": {},
   "outputs": [],
   "source": [
    "((-2)**2 - (-2) + 1) + ((-1)**2 - (-1) + 1) + (0**2 - 0 + 1) + (1**2 - 1 + 1)"
   ]
  },
  {
   "cell_type": "markdown",
   "metadata": {},
   "source": [
    "$$\\sum_{n=0}^4 a_nx^n$$"
   ]
  },
  {
   "cell_type": "markdown",
   "metadata": {},
   "source": [
    "$a_0x^0 + a_1x^1 + a_2x^2 + a_3x^3 + a_4x^4$"
   ]
  },
  {
   "cell_type": "markdown",
   "metadata": {},
   "source": [
    "## Combinatorics"
   ]
  },
  {
   "cell_type": "markdown",
   "metadata": {},
   "source": [
    "### Motivation problems"
   ]
  },
  {
   "cell_type": "markdown",
   "metadata": {},
   "source": [
    "**Exercise 1**: we are 21 students. How many ways are there of choosing a Director and an Advisor?"
   ]
  },
  {
   "cell_type": "markdown",
   "metadata": {},
   "source": [
    "**Exercise 2**: we have letters A, B, C. How many 3 letter words can we build with them, without repeating them?"
   ]
  },
  {
   "cell_type": "markdown",
   "metadata": {},
   "source": [
    "**Exercise 3**: we have:\n",
    " * salad\n",
    " * tomato\n",
    " * ham\n",
    " * bacon\n",
    " * chocolate\n",
    "\n",
    "How many different sandwiches can we have with only 2 ingredients?"
   ]
  },
  {
   "cell_type": "markdown",
   "metadata": {},
   "source": [
    "### Factorial function"
   ]
  },
  {
   "cell_type": "markdown",
   "metadata": {},
   "source": [
    "Remember the factorial:"
   ]
  },
  {
   "cell_type": "markdown",
   "metadata": {},
   "source": [
    "$$N!=N*(N-1)*(N-2)*...*3*2*1$$"
   ]
  },
  {
   "cell_type": "markdown",
   "metadata": {},
   "source": [
    "$$3!=3*2*1 = 6$$"
   ]
  },
  {
   "cell_type": "markdown",
   "metadata": {},
   "source": [
    "$$5!=5*4*3*2*1 = 120$$"
   ]
  },
  {
   "cell_type": "markdown",
   "metadata": {},
   "source": [
    "Write a function returning the factorial of a number"
   ]
  },
  {
   "cell_type": "markdown",
   "metadata": {},
   "source": [
    "Obs:   \n",
    "$5! = 5 * 4!$  \n",
    "$n! = n * (n-1)!$"
   ]
  },
  {
   "cell_type": "code",
   "execution_count": 2,
   "metadata": {},
   "outputs": [
    {
     "ename": "SyntaxError",
     "evalue": "unexpected EOF while parsing (<ipython-input-2-b03a37c7410e>, line 2)",
     "output_type": "error",
     "traceback": [
      "\u001b[0;36m  File \u001b[0;32m\"<ipython-input-2-b03a37c7410e>\"\u001b[0;36m, line \u001b[0;32m2\u001b[0m\n\u001b[0;31m    # your code here\u001b[0m\n\u001b[0m                    ^\u001b[0m\n\u001b[0;31mSyntaxError\u001b[0m\u001b[0;31m:\u001b[0m unexpected EOF while parsing\n"
     ]
    }
   ],
   "source": [
    "def factorial(n):\n",
    "    # your code here"
   ]
  },
  {
   "cell_type": "code",
   "execution_count": null,
   "metadata": {},
   "outputs": [],
   "source": [
    "factorial(3)"
   ]
  },
  {
   "cell_type": "code",
   "execution_count": null,
   "metadata": {},
   "outputs": [],
   "source": [
    "factorial(5)"
   ]
  },
  {
   "cell_type": "markdown",
   "metadata": {},
   "source": [
    "I use spanish terms (this may change with the language)"
   ]
  },
  {
   "cell_type": "markdown",
   "metadata": {},
   "source": [
    "### Variaciones"
   ]
  },
  {
   "cell_type": "markdown",
   "metadata": {},
   "source": [
    "**Order matters**"
   ]
  },
  {
   "cell_type": "markdown",
   "metadata": {},
   "source": [
    "$$V_k^N = \\frac{N!}{(N-k)!}$$"
   ]
  },
  {
   "cell_type": "markdown",
   "metadata": {},
   "source": [
    "**Exercise**: we are 21 students. How many ways are there of choosing a Director and an Advisor?"
   ]
  },
  {
   "cell_type": "markdown",
   "metadata": {},
   "source": [
    "$$V_2^{21} = \\frac{21!}{(21 - 2)!} = \\frac{21 * 20 * 19!}{19!} = 21 * 20$$"
   ]
  },
  {
   "cell_type": "markdown",
   "metadata": {},
   "source": [
    "**Exercise** : we are 10 athletes. How many different podiums are there?"
   ]
  },
  {
   "cell_type": "code",
   "execution_count": null,
   "metadata": {},
   "outputs": [],
   "source": [
    "$$V_3^{10} = \\frac{10!}{(10 - 3)!} = \\frac{10 * 9 * 8 * 7!}{7!} = 10 * 9 * 8 = 720$$"
   ]
  },
  {
   "cell_type": "markdown",
   "metadata": {},
   "source": [
    "### Permutaciones"
   ]
  },
  {
   "cell_type": "markdown",
   "metadata": {},
   "source": [
    "**Order matters**, and **all** elements are used without repetition"
   ]
  },
  {
   "cell_type": "markdown",
   "metadata": {},
   "source": [
    "We have letters A, B, C. How many 3 letter words can we build with them, without repeating them?"
   ]
  },
  {
   "cell_type": "markdown",
   "metadata": {},
   "source": [
    "We have letters A, B, C, D. How many 4 letter words can we build with them, without repeating them?"
   ]
  },
  {
   "cell_type": "markdown",
   "metadata": {},
   "source": [
    "$$N!$$"
   ]
  },
  {
   "cell_type": "markdown",
   "metadata": {},
   "source": [
    "**Exercise**: how many different queues may you do in the coffee shop? You are 16 people"
   ]
  },
  {
   "cell_type": "markdown",
   "metadata": {},
   "source": [
    "### Combinaciones"
   ]
  },
  {
   "cell_type": "markdown",
   "metadata": {},
   "source": [
    "**Order DOES NOT matter**"
   ]
  },
  {
   "cell_type": "markdown",
   "metadata": {},
   "source": [
    "We have:\n",
    " * salad\n",
    " * tomato\n",
    " * ham\n",
    " * bacon\n",
    " * chocolate\n",
    "\n",
    "How many different sandwiches can we have with only 2 ingredients?"
   ]
  },
  {
   "cell_type": "markdown",
   "metadata": {},
   "source": [
    "$${N\\choose k} \\equiv \\frac{N!}{k!(N-k)!}$$"
   ]
  },
  {
   "cell_type": "markdown",
   "metadata": {},
   "source": [
    "**Exercise**: how many sandwiches with 3 ingredients?"
   ]
  },
  {
   "cell_type": "markdown",
   "metadata": {},
   "source": [
    "$${5\\choose 3} \\equiv \\frac{5!}{3!2!} = \\frac{5 * 4 * 3!}{3! * 2} = 10$$"
   ]
  },
  {
   "cell_type": "markdown",
   "metadata": {},
   "source": [
    "**Exercise**: how many handshakes in a 100 people party?"
   ]
  },
  {
   "cell_type": "code",
   "execution_count": null,
   "metadata": {},
   "outputs": [],
   "source": [
    "$${100\\choose 2} \\equiv \\frac{100!}{98!2!} = \\frac{100 * 99 * 98!}{98! * 2} = 9900$$"
   ]
  },
  {
   "cell_type": "markdown",
   "metadata": {},
   "source": [
    "Combinations are *symmetric* with respect to $k$"
   ]
  },
  {
   "cell_type": "markdown",
   "metadata": {},
   "source": [
    "$${N\\choose k} = {N\\choose {N-k}}$$"
   ]
  }
 ],
 "metadata": {
  "kernelspec": {
   "display_name": "Python 3",
   "language": "python",
   "name": "python3"
  },
  "language_info": {
   "codemirror_mode": {
    "name": "ipython",
    "version": 3
   },
   "file_extension": ".py",
   "mimetype": "text/x-python",
   "name": "python",
   "nbconvert_exporter": "python",
   "pygments_lexer": "ipython3",
   "version": "3.8.5"
  },
  "toc": {
   "base_numbering": 1,
   "nav_menu": {},
   "number_sections": true,
   "sideBar": true,
   "skip_h1_title": true,
   "title_cell": "Table of Contents",
   "title_sidebar": "Contents",
   "toc_cell": true,
   "toc_position": {
    "height": "calc(100% - 180px)",
    "left": "10px",
    "top": "150px",
    "width": "230.475px"
   },
   "toc_section_display": true,
   "toc_window_display": true
  },
  "varInspector": {
   "cols": {
    "lenName": 16,
    "lenType": 16,
    "lenVar": 40
   },
   "kernels_config": {
    "python": {
     "delete_cmd_postfix": "",
     "delete_cmd_prefix": "del ",
     "library": "var_list.py",
     "varRefreshCmd": "print(var_dic_list())"
    },
    "r": {
     "delete_cmd_postfix": ") ",
     "delete_cmd_prefix": "rm(",
     "library": "var_list.r",
     "varRefreshCmd": "cat(var_dic_list()) "
    }
   },
   "types_to_exclude": [
    "module",
    "function",
    "builtin_function_or_method",
    "instance",
    "_Feature"
   ],
   "window_display": false
  }
 },
 "nbformat": 4,
 "nbformat_minor": 1
}
