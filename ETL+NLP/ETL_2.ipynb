{
 "cells": [
  {
   "cell_type": "markdown",
   "id": "congressional-reservoir",
   "metadata": {
    "toc": true
   },
   "source": [
    "<h1>Table of Contents<span class=\"tocSkip\"></span></h1>\n",
    "<div class=\"toc\"><ul class=\"toc-item\"><li><span><a href=\"#Exploramos-los-datos-que-tenemos\" data-toc-modified-id=\"Exploramos-los-datos-que-tenemos-1\"><span class=\"toc-item-num\">1&nbsp;&nbsp;</span>Exploramos los datos que tenemos</a></span></li><li><span><a href=\"#Misión-1\" data-toc-modified-id=\"Misión-1-2\"><span class=\"toc-item-num\">2&nbsp;&nbsp;</span>Misión 1</a></span><ul class=\"toc-item\"><li><span><a href=\"#¡Datos-a-SQL!\" data-toc-modified-id=\"¡Datos-a-SQL!-2.1\"><span class=\"toc-item-num\">2.1&nbsp;&nbsp;</span>¡Datos a SQL!</a></span><ul class=\"toc-item\"><li><span><a href=\"#Nos-conectamos-con-SQL\" data-toc-modified-id=\"Nos-conectamos-con-SQL-2.1.1\"><span class=\"toc-item-num\">2.1.1&nbsp;&nbsp;</span>Nos conectamos con SQL</a></span></li><li><span><a href=\"#Creamos-el-esquema-desde-MySQL-Workbench-y-hacemos-forward-engineer\" data-toc-modified-id=\"Creamos-el-esquema-desde-MySQL-Workbench-y-hacemos-forward-engineer-2.1.2\"><span class=\"toc-item-num\">2.1.2&nbsp;&nbsp;</span>Creamos el esquema desde MySQL Workbench y hacemos forward engineer</a></span></li><li><span><a href=\"#Importamos-el-CSV-y-lo-exploramos\" data-toc-modified-id=\"Importamos-el-CSV-y-lo-exploramos-2.1.3\"><span class=\"toc-item-num\">2.1.3&nbsp;&nbsp;</span>Importamos el CSV y lo exploramos</a></span></li></ul></li><li><span><a href=\"#Programación-defensiva,-funciones-checkeo\" data-toc-modified-id=\"Programación-defensiva,-funciones-checkeo-2.2\"><span class=\"toc-item-num\">2.2&nbsp;&nbsp;</span>Programación defensiva, funciones checkeo</a></span></li></ul></li><li><span><a href=\"#Antes-de-seguir,-tenemos-que...-¡¡TRATAR-LOS-DATOS!!\" data-toc-modified-id=\"Antes-de-seguir,-tenemos-que...-¡¡TRATAR-LOS-DATOS!!-3\"><span class=\"toc-item-num\">3&nbsp;&nbsp;</span>Antes de seguir, tenemos que... ¡¡TRATAR LOS DATOS!!</a></span></li><li><span><a href=\"#Misión-2\" data-toc-modified-id=\"Misión-2-4\"><span class=\"toc-item-num\">4&nbsp;&nbsp;</span>Misión 2</a></span></li><li><span><a href=\"#¡Datos-a-MongoDB!\" data-toc-modified-id=\"¡Datos-a-MongoDB!-5\"><span class=\"toc-item-num\">5&nbsp;&nbsp;</span>¡Datos a MongoDB!</a></span></li></ul></div>"
   ]
  },
  {
   "cell_type": "markdown",
   "id": "magnetic-destiny",
   "metadata": {},
   "source": [
    "## Exploramos los datos que tenemos"
   ]
  },
  {
   "cell_type": "code",
   "execution_count": null,
   "id": "signal-halloween",
   "metadata": {},
   "outputs": [],
   "source": [
    "import pandas as pd"
   ]
  },
  {
   "cell_type": "code",
   "execution_count": null,
   "id": "handy-procurement",
   "metadata": {},
   "outputs": [],
   "source": []
  },
  {
   "cell_type": "code",
   "execution_count": null,
   "id": "loaded-marsh",
   "metadata": {},
   "outputs": [],
   "source": []
  },
  {
   "cell_type": "markdown",
   "id": "great-potter",
   "metadata": {},
   "source": [
    " ## Misión 1\n",
    " # <center> Meter los datos en una base de datos de SQL 🙂</center>\n",
    " ### ¡Datos a SQL!"
   ]
  },
  {
   "cell_type": "markdown",
   "id": "female-packing",
   "metadata": {},
   "source": [
    "![diagrama](images/diagrama.png)"
   ]
  },
  {
   "cell_type": "markdown",
   "id": "colonial-organizer",
   "metadata": {},
   "source": [
    "#### Nos conectamos con SQL"
   ]
  },
  {
   "cell_type": "code",
   "execution_count": null,
   "id": "electronic-national",
   "metadata": {},
   "outputs": [],
   "source": []
  },
  {
   "cell_type": "code",
   "execution_count": null,
   "id": "coated-williams",
   "metadata": {},
   "outputs": [],
   "source": []
  },
  {
   "cell_type": "code",
   "execution_count": null,
   "id": "successful-accounting",
   "metadata": {},
   "outputs": [],
   "source": []
  },
  {
   "cell_type": "markdown",
   "id": "simplified-victim",
   "metadata": {},
   "source": [
    "#### Creamos el esquema desde MySQL Workbench y hacemos forward engineer\n",
    "Recordamos que también podríamos crearlo con código, este es el código que nos genera el programa, intentemos entenderlo ¿ok?\n",
    "```mysql\n",
    "-- MySQL Workbench Forward Engineering\n",
    "\n",
    "SET @OLD_UNIQUE_CHECKS=@@UNIQUE_CHECKS, UNIQUE_CHECKS=0;\n",
    "SET @OLD_FOREIGN_KEY_CHECKS=@@FOREIGN_KEY_CHECKS, FOREIGN_KEY_CHECKS=0;\n",
    "SET @OLD_SQL_MODE=@@SQL_MODE, SQL_MODE='ONLY_FULL_GROUP_BY,STRICT_TRANS_TABLES,NO_ZERO_IN_DATE,NO_ZERO_DATE,ERROR_FOR_DIVISION_BY_ZERO,NO_ENGINE_SUBSTITUTION';\n",
    "\n",
    "-- -----------------------------------------------------\n",
    "-- Schema spotify\n",
    "-- -----------------------------------------------------\n",
    "\n",
    "-- -----------------------------------------------------\n",
    "-- Schema spotify\n",
    "-- -----------------------------------------------------\n",
    "CREATE SCHEMA IF NOT EXISTS `spotify` DEFAULT CHARACTER SET utf8 ;\n",
    "USE `spotify` ;\n",
    "\n",
    "-- -----------------------------------------------------\n",
    "-- Table `spotify`.`artistas`\n",
    "-- -----------------------------------------------------\n",
    "CREATE TABLE IF NOT EXISTS `spotify`.`artistas` (\n",
    "  `idartista` INT NOT NULL AUTO_INCREMENT,\n",
    "  `nombre` VARCHAR(45) NOT NULL,\n",
    "  PRIMARY KEY (`idartista`))\n",
    "ENGINE = InnoDB;\n",
    "\n",
    "\n",
    "-- -----------------------------------------------------\n",
    "-- Table `spotify`.`ironhackers`\n",
    "-- -----------------------------------------------------\n",
    "CREATE TABLE IF NOT EXISTS `spotify`.`ironhackers` (\n",
    "  `idironhacker` INT NOT NULL AUTO_INCREMENT,\n",
    "  `username` VARCHAR(45) NULL,\n",
    "  PRIMARY KEY (`idironhacker`))\n",
    "ENGINE = InnoDB;\n",
    "\n",
    "\n",
    "-- -----------------------------------------------------\n",
    "-- Table `spotify`.`canciones`\n",
    "-- -----------------------------------------------------\n",
    "CREATE TABLE IF NOT EXISTS `spotify`.`canciones` (\n",
    "  `idcancion` INT NOT NULL AUTO_INCREMENT,\n",
    "  `nombre` VARCHAR(45) NULL,\n",
    "  `letra` VARCHAR(45) NULL,\n",
    "  `artistas_idartista` INT NOT NULL,\n",
    "  `ironhackers_idironhacker` INT NOT NULL,\n",
    "  PRIMARY KEY (`idcancion`),\n",
    "  INDEX `fk_canciones_artistas_idx` (`artistas_idartista` ASC) VISIBLE,\n",
    "  INDEX `fk_canciones_ironhackers1_idx` (`ironhackers_idironhacker` ASC) VISIBLE,\n",
    "  CONSTRAINT `fk_canciones_artistas`\n",
    "    FOREIGN KEY (`artistas_idartista`)\n",
    "    REFERENCES `spotify`.`artistas` (`idartista`)\n",
    "    ON DELETE NO ACTION\n",
    "    ON UPDATE NO ACTION,\n",
    "  CONSTRAINT `fk_canciones_ironhackers1`\n",
    "    FOREIGN KEY (`ironhackers_idironhacker`)\n",
    "    REFERENCES `spotify`.`ironhackers` (`idironhacker`)\n",
    "    ON DELETE NO ACTION\n",
    "    ON UPDATE NO ACTION)\n",
    "ENGINE = InnoDB;\n",
    "\n",
    "\n",
    "SET SQL_MODE=@OLD_SQL_MODE;\n",
    "SET FOREIGN_KEY_CHECKS=@OLD_FOREIGN_KEY_CHECKS;\n",
    "SET UNIQUE_CHECKS=@OLD_UNIQUE_CHECKS;\n",
    "\n",
    "```\n",
    "\n"
   ]
  },
  {
   "cell_type": "markdown",
   "id": "governmental-imaging",
   "metadata": {},
   "source": [
    "#### Importamos el CSV y lo exploramos"
   ]
  },
  {
   "cell_type": "code",
   "execution_count": null,
   "id": "drawn-click",
   "metadata": {},
   "outputs": [],
   "source": []
  },
  {
   "cell_type": "code",
   "execution_count": null,
   "id": "residential-organ",
   "metadata": {},
   "outputs": [],
   "source": []
  },
  {
   "cell_type": "code",
   "execution_count": null,
   "id": "ready-economics",
   "metadata": {},
   "outputs": [],
   "source": []
  },
  {
   "cell_type": "code",
   "execution_count": null,
   "id": "devoted-bundle",
   "metadata": {},
   "outputs": [],
   "source": []
  },
  {
   "cell_type": "markdown",
   "id": "changed-deficit",
   "metadata": {},
   "source": [
    "### Programación defensiva, funciones checkeo"
   ]
  },
  {
   "cell_type": "code",
   "execution_count": null,
   "id": "level-maine",
   "metadata": {},
   "outputs": [],
   "source": [
    "def check(que,string):\n",
    "    \"\"\"\n",
    "    Función parametrizada que comprueba en cada tabla si existe el user, artista o canción.\n",
    "    Devuelve True si existe y False si no\n",
    "    \"\"\""
   ]
  },
  {
   "cell_type": "code",
   "execution_count": null,
   "id": "mathematical-character",
   "metadata": {},
   "outputs": [],
   "source": [
    "def insertIronhacker(string):\n",
    "    \"\"\"\n",
    "    Llama a la función check para comprobar si existe el ironhacker\n",
    "    Inserta ironhacker si no existe\n",
    "    \"\"\"\n",
    " "
   ]
  },
  {
   "cell_type": "code",
   "execution_count": null,
   "id": "complex-breast",
   "metadata": {},
   "outputs": [],
   "source": [
    "def insertArtista(nombre):\n",
    "    \"\"\"\n",
    "    Llama a la función check para comprobar si existe el artista\n",
    "    Inserta artista si no existe\n",
    "    \"\"\"\n"
   ]
  },
  {
   "cell_type": "code",
   "execution_count": null,
   "id": "proof-organic",
   "metadata": {},
   "outputs": [],
   "source": []
  },
  {
   "cell_type": "code",
   "execution_count": null,
   "id": "confused-pursuit",
   "metadata": {},
   "outputs": [],
   "source": [
    "def dameId(que,string):\n",
    "    \"\"\"\n",
    "    Devuelve el ID de lo que le pidamos sabiendo que ese elemento EXISTE\n",
    "    \"\"\"\n",
    "  "
   ]
  },
  {
   "cell_type": "code",
   "execution_count": null,
   "id": "numerous-mattress",
   "metadata": {},
   "outputs": [],
   "source": []
  },
  {
   "cell_type": "code",
   "execution_count": null,
   "id": "looking-foundation",
   "metadata": {},
   "outputs": [],
   "source": [
    "def insertCancion(fila):\n",
    "    \"\"\"\n",
    "    La función final \n",
    "    \"\"\"\n",
    "    "
   ]
  },
  {
   "cell_type": "markdown",
   "id": "complicated-sauce",
   "metadata": {},
   "source": [
    "## Antes de seguir, tenemos que... ¡¡TRATAR LOS DATOS!!"
   ]
  },
  {
   "cell_type": "code",
   "execution_count": null,
   "id": "ideal-aerospace",
   "metadata": {},
   "outputs": [],
   "source": []
  },
  {
   "cell_type": "code",
   "execution_count": null,
   "id": "laden-frederick",
   "metadata": {},
   "outputs": [],
   "source": []
  },
  {
   "cell_type": "code",
   "execution_count": null,
   "id": "political-magnitude",
   "metadata": {},
   "outputs": [],
   "source": []
  },
  {
   "cell_type": "code",
   "execution_count": null,
   "id": "ecological-taiwan",
   "metadata": {},
   "outputs": [],
   "source": []
  },
  {
   "cell_type": "code",
   "execution_count": null,
   "id": "green-export",
   "metadata": {},
   "outputs": [],
   "source": []
  },
  {
   "cell_type": "markdown",
   "id": "caring-barcelona",
   "metadata": {},
   "source": [
    " ## Misión 2\n",
    " # <center> Meter los datos en una base de datos de MongoDB 🙃</center>\n",
    " ## ¡Datos a MongoDB!"
   ]
  },
  {
   "cell_type": "markdown",
   "id": "compatible-apartment",
   "metadata": {},
   "source": [
    "Exportamos el dataframe a json para luego importarlo a la base de datos de mongo"
   ]
  },
  {
   "cell_type": "code",
   "execution_count": null,
   "id": "failing-church",
   "metadata": {},
   "outputs": [],
   "source": []
  },
  {
   "cell_type": "markdown",
   "id": "convertible-travel",
   "metadata": {},
   "source": [
    "Realizamos el siguiente comando en la terminal estando a la altura de la carpeta"
   ]
  },
  {
   "cell_type": "code",
   "execution_count": null,
   "id": "lasting-banks",
   "metadata": {},
   "outputs": [],
   "source": [
    "# mongoimport --db spotify --collection canciones --jsonArray cancionesyletras"
   ]
  }
 ],
 "metadata": {
  "kernelspec": {
   "display_name": "ironhack",
   "language": "python",
   "name": "ironhack"
  },
  "language_info": {
   "codemirror_mode": {
    "name": "ipython",
    "version": 3
   },
   "file_extension": ".py",
   "mimetype": "text/x-python",
   "name": "python",
   "nbconvert_exporter": "python",
   "pygments_lexer": "ipython3",
   "version": "3.8.5"
  },
  "toc": {
   "base_numbering": 1,
   "nav_menu": {},
   "number_sections": true,
   "sideBar": true,
   "skip_h1_title": true,
   "title_cell": "Table of Contents",
   "title_sidebar": "Contents",
   "toc_cell": true,
   "toc_position": {},
   "toc_section_display": true,
   "toc_window_display": false
  }
 },
 "nbformat": 4,
 "nbformat_minor": 5
}
