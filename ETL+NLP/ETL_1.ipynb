{
 "cells": [
  {
   "cell_type": "markdown",
   "id": "sporting-delta",
   "metadata": {},
   "source": [
    "# <center>📦🧹🔍ETL 🔍🧹📦<center>"
   ]
  },
  {
   "cell_type": "markdown",
   "id": "different-luxembourg",
   "metadata": {
    "toc": true
   },
   "source": [
    "<h1>Table of Contents<span class=\"tocSkip\"></span></h1>\n",
    "<div class=\"toc\"><ul class=\"toc-item\"><li><span><a href=\"#¿Qué-significa-ETL?\" data-toc-modified-id=\"¿Qué-significa-ETL?-1\"><span class=\"toc-item-num\">1&nbsp;&nbsp;</span>¿Qué significa ETL?</a></span></li><li><span><a href=\"#¿Qué-vamos-a-hacer?\" data-toc-modified-id=\"¿Qué-vamos-a-hacer?-2\"><span class=\"toc-item-num\">2&nbsp;&nbsp;</span>¿Qué vamos a hacer?</a></span></li><li><span><a href=\"#Importamos-librerías\" data-toc-modified-id=\"Importamos-librerías-3\"><span class=\"toc-item-num\">3&nbsp;&nbsp;</span>Importamos librerías</a></span></li><li><span><a href=\"#Misión-1\" data-toc-modified-id=\"Misión-1-4\"><span class=\"toc-item-num\">4&nbsp;&nbsp;</span>Misión 1</a></span></li><li><span><a href=\"#Token-spotify\" data-toc-modified-id=\"Token-spotify-5\"><span class=\"toc-item-num\">5&nbsp;&nbsp;</span>Token spotify</a></span></li><li><span><a href=\"#Salvamos-el-token-en-nuestro-.env\" data-toc-modified-id=\"Salvamos-el-token-en-nuestro-.env-6\"><span class=\"toc-item-num\">6&nbsp;&nbsp;</span>Salvamos el token en nuestro .env</a></span></li><li><span><a href=\"#📚-Recap-hasta-ahora:\" data-toc-modified-id=\"📚-Recap-hasta-ahora:-7\"><span class=\"toc-item-num\">7&nbsp;&nbsp;</span>📚 Recap hasta ahora:</a></span></li><li><span><a href=\"#Misión-2\" data-toc-modified-id=\"Misión-2-8\"><span class=\"toc-item-num\">8&nbsp;&nbsp;</span>Misión 2</a></span><ul class=\"toc-item\"><li><span><a href=\"#Llamada-a-API-Spotify\" data-toc-modified-id=\"Llamada-a-API-Spotify-8.1\"><span class=\"toc-item-num\">8.1&nbsp;&nbsp;</span>Llamada a API Spotify</a></span><ul class=\"toc-item\"><li><span><a href=\"#Necesitamos-token-y-headers\" data-toc-modified-id=\"Necesitamos-token-y-headers-8.1.1\"><span class=\"toc-item-num\">8.1.1&nbsp;&nbsp;</span>Necesitamos token y headers</a></span></li><li><span><a href=\"#Url-+-endpoint\" data-toc-modified-id=\"Url-+-endpoint-8.1.2\"><span class=\"toc-item-num\">8.1.2&nbsp;&nbsp;</span>Url + endpoint</a></span></li><li><span><a href=\"#Hacemos-la-request\" data-toc-modified-id=\"Hacemos-la-request-8.1.3\"><span class=\"toc-item-num\">8.1.3&nbsp;&nbsp;</span>Hacemos la request</a></span></li></ul></li><li><span><a href=\"#Nos-enfrentamos-al-json-de-la-response\" data-toc-modified-id=\"Nos-enfrentamos-al-json-de-la-response-8.2\"><span class=\"toc-item-num\">8.2&nbsp;&nbsp;</span>Nos enfrentamos al json de la response</a></span><ul class=\"toc-item\"><li><span><a href=\"#Extraemos-las-canciones\" data-toc-modified-id=\"Extraemos-las-canciones-8.2.1\"><span class=\"toc-item-num\">8.2.1&nbsp;&nbsp;</span>Extraemos las canciones</a></span></li><li><span><a href=\"#Extraemos-el-nombre-de-las-canciones\" data-toc-modified-id=\"Extraemos-el-nombre-de-las-canciones-8.2.2\"><span class=\"toc-item-num\">8.2.2&nbsp;&nbsp;</span>Extraemos el nombre de las canciones</a></span></li><li><span><a href=\"#Extraemos-los-artistas-de-las-canciones\" data-toc-modified-id=\"Extraemos-los-artistas-de-las-canciones-8.2.3\"><span class=\"toc-item-num\">8.2.3&nbsp;&nbsp;</span>Extraemos los artistas de las canciones</a></span></li><li><span><a href=\"#Extraemos-los-users-que-han-añadido-la-canción-a-la-lista\" data-toc-modified-id=\"Extraemos-los-users-que-han-añadido-la-canción-a-la-lista-8.2.4\"><span class=\"toc-item-num\">8.2.4&nbsp;&nbsp;</span>Extraemos los users que han añadido la canción a la lista</a></span></li></ul></li><li><span><a href=\"#¡Nos-lo-llevamos-a-Pandas!-🐼\" data-toc-modified-id=\"¡Nos-lo-llevamos-a-Pandas!-🐼-8.3\"><span class=\"toc-item-num\">8.3&nbsp;&nbsp;</span>¡Nos lo llevamos a Pandas! 🐼</a></span></li></ul></li><li><span><a href=\"#Automatizamos-procesos\" data-toc-modified-id=\"Automatizamos-procesos-9\"><span class=\"toc-item-num\">9&nbsp;&nbsp;</span>Automatizamos procesos</a></span></li><li><span><a href=\"#Misión-3\" data-toc-modified-id=\"Misión-3-10\"><span class=\"toc-item-num\">10&nbsp;&nbsp;</span>Misión 3</a></span></li><li><span><a href=\"#Extraemos-letras-de-las-canciones!\" data-toc-modified-id=\"Extraemos-letras-de-las-canciones!-11\"><span class=\"toc-item-num\">11&nbsp;&nbsp;</span>Extraemos letras de las canciones!</a></span><ul class=\"toc-item\"><li><span><a href=\"#Necesitamos-crear-las-KEYs-para-esta-librería\" data-toc-modified-id=\"Necesitamos-crear-las-KEYs-para-esta-librería-11.1\"><span class=\"toc-item-num\">11.1&nbsp;&nbsp;</span>Necesitamos crear las KEYs para esta librería</a></span></li><li><span><a href=\"#Como-la-librería-necesita-las-keys,-las-sacamos-del-.env\" data-toc-modified-id=\"Como-la-librería-necesita-las-keys,-las-sacamos-del-.env-11.2\"><span class=\"toc-item-num\">11.2&nbsp;&nbsp;</span>Como la librería necesita las keys, las sacamos del .env</a></span></li><li><span><a href=\"#La-guardamos-en-una-variable\" data-toc-modified-id=\"La-guardamos-en-una-variable-11.3\"><span class=\"toc-item-num\">11.3&nbsp;&nbsp;</span>La guardamos en una variable</a></span></li><li><span><a href=\"#Buscamos-una-letra\" data-toc-modified-id=\"Buscamos-una-letra-11.4\"><span class=\"toc-item-num\">11.4&nbsp;&nbsp;</span>Buscamos una letra</a></span></li><li><span><a href=\"#¡¡Muchas-letras!!\" data-toc-modified-id=\"¡¡Muchas-letras!!-11.5\"><span class=\"toc-item-num\">11.5&nbsp;&nbsp;</span>¡¡Muchas letras!!</a></span></li><li><span><a href=\"#Creamos-una-columna-nueva-con-las-letras\" data-toc-modified-id=\"Creamos-una-columna-nueva-con-las-letras-11.6\"><span class=\"toc-item-num\">11.6&nbsp;&nbsp;</span>Creamos una columna nueva con las letras</a></span></li></ul></li></ul></div>"
   ]
  },
  {
   "cell_type": "markdown",
   "id": "sixth-transparency",
   "metadata": {},
   "source": [
    "![data](https://media.giphy.com/media/xT9C25UNTwfZuk85WP/giphy.gif)"
   ]
  },
  {
   "cell_type": "markdown",
   "id": "placed-williams",
   "metadata": {},
   "source": [
    "## ¿Qué significa ETL?\n",
    "**Extract**, **Transform** and **Load** es el proceso que permite a las organizaciones mover datos desde múltiples fuentes, reformatearlos y limpiarlos, y cargarlos en otra base de datos, data mart, o data warehouse para analizar, o en otro sistema operacional para apoyar un proceso de negocio."
   ]
  },
  {
   "cell_type": "markdown",
   "id": "differential-arkansas",
   "metadata": {},
   "source": [
    "## ¿Qué vamos a hacer?\n",
    "- Aprender a usar la API de spotify con Oauth\n",
    "- Extraer datos de dicha API\n",
    "- Limpiarlos y transformarlos\n",
    "- Enriquecerlos\n",
    "- Guardarlos en diferentes bases de datos\n",
    "- Hacer queries para hacer análisis de sentimientos con librerías NLP"
   ]
  },
  {
   "cell_type": "markdown",
   "id": "hungry-victoria",
   "metadata": {},
   "source": [
    "## Importamos librerías"
   ]
  },
  {
   "cell_type": "code",
   "execution_count": null,
   "id": "statutory-shirt",
   "metadata": {},
   "outputs": [],
   "source": [
    "import os\n",
    "import json\n",
    "import requests\n",
    "from dotenv import load_dotenv\n",
    "load_dotenv()"
   ]
  },
  {
   "cell_type": "markdown",
   "id": "polish-madison",
   "metadata": {},
   "source": [
    "## Misión 1\n",
    " # <center> Obtener el token de Spotify para hacer uso de su API 🗝</center> "
   ]
  },
  {
   "cell_type": "markdown",
   "id": "injured-reset",
   "metadata": {},
   "source": [
    "## Token spotify\n",
    "https://developer.spotify.com/dashboard/login     \n",
    "Necesitamos tener los token CLIENT_ID y SECRET_ID, y los guardamos en el .env. \n",
    "Para llamar a la aapi de spotify y conseguir el token que nos va a permitir hacer request, vamos a tener que guardar unas cuantas variables.   \n",
    "Leed la [Documentación](https://developer.spotify.com/documentation/general/guides/authorization-guide/)"
   ]
  },
  {
   "cell_type": "code",
   "execution_count": null,
   "id": "tracked-performance",
   "metadata": {},
   "outputs": [],
   "source": [
    "# Autenticación\n",
    "\n",
    "\n",
    "#Scope del token\n",
    "\n",
    "#Url a la que pedimos el token\n",
    "    \n",
    "#La request\n"
   ]
  },
  {
   "cell_type": "code",
   "execution_count": null,
   "id": "greater-afghanistan",
   "metadata": {},
   "outputs": [],
   "source": [
    "#El token\n"
   ]
  },
  {
   "cell_type": "code",
   "execution_count": null,
   "id": "southwest-courtesy",
   "metadata": {},
   "outputs": [],
   "source": []
  },
  {
   "cell_type": "markdown",
   "id": "protective-abuse",
   "metadata": {},
   "source": [
    "Vamos a escribir todo esto en una función porque, como hemos visto, el token expira y así podemos llamarla cuando queramos y reutilizarla. ¡Para esto sirven las funciones!"
   ]
  },
  {
   "cell_type": "code",
   "execution_count": null,
   "id": "final-silence",
   "metadata": {},
   "outputs": [],
   "source": [
    "def spotifyToken():\n",
    "    \"\"\"\n",
    "    Esta función hace una request a spotify para conseguir \n",
    "    el token que vamos a necesitar para hacer request y que nos dé información la api\n",
    "    \"\"\""
   ]
  },
  {
   "cell_type": "code",
   "execution_count": null,
   "id": "dirty-cornell",
   "metadata": {},
   "outputs": [],
   "source": []
  },
  {
   "cell_type": "code",
   "execution_count": null,
   "id": "swiss-broadcast",
   "metadata": {},
   "outputs": [],
   "source": []
  },
  {
   "cell_type": "markdown",
   "id": "atmospheric-source",
   "metadata": {},
   "source": [
    "## Salvamos el token en nuestro .env"
   ]
  },
  {
   "cell_type": "code",
   "execution_count": null,
   "id": "corresponding-yellow",
   "metadata": {},
   "outputs": [],
   "source": []
  },
  {
   "cell_type": "markdown",
   "id": "republican-carry",
   "metadata": {},
   "source": [
    "Hacemos unan función que hace lo mismo para poder reutilizarla"
   ]
  },
  {
   "cell_type": "code",
   "execution_count": null,
   "id": "obvious-diary",
   "metadata": {},
   "outputs": [],
   "source": [
    "\n"
   ]
  },
  {
   "cell_type": "code",
   "execution_count": null,
   "id": "several-conservative",
   "metadata": {},
   "outputs": [],
   "source": []
  },
  {
   "cell_type": "markdown",
   "id": "brief-adapter",
   "metadata": {},
   "source": [
    "## 📚 Recap hasta ahora:\n",
    "\n",
    "**Lo que hemos hecho**\n",
    "- 1. Conseguimos nuestra autentificación de Spotify\n",
    "- 2. Con eso, conseguimos nuestro `token` de spotify\n",
    "- 3. Guardamos el `token` en el .env <br>\n",
    "<br>\n",
    "\n",
    "**Para recordar**\n",
    "\n",
    "- **CLIENT_ID** & **CLIENT_SECRET** es sólo un medio para obtener el `token`, no la autenticidad en sí.\n",
    "- El `token` expira"
   ]
  },
  {
   "cell_type": "markdown",
   "id": "atlantic-disclosure",
   "metadata": {},
   "source": [
    " ## Misión 2\n",
    " # <center> Obtener la lista de canciones y artistas de la API de Spotify 🔥</center>\n",
    "Pero no vayamos a olvidarnos de la [documentación](https://developer.spotify.com/console/)   \n",
    "Lo primero que vamos a hacer es una llamada a la API    \n",
    "Recordemos la sintaxis:       \n",
    "\n",
    "       \n",
    "`request.get(url, headers)`"
   ]
  },
  {
   "cell_type": "markdown",
   "id": "designing-grant",
   "metadata": {},
   "source": [
    "### Llamada a API Spotify"
   ]
  },
  {
   "cell_type": "markdown",
   "id": "stopped-intermediate",
   "metadata": {},
   "source": [
    "#### Necesitamos token y headers"
   ]
  },
  {
   "cell_type": "code",
   "execution_count": null,
   "id": "continuous-language",
   "metadata": {},
   "outputs": [],
   "source": [
    "# Por si necesitáramos el token, aunque ya lo tenemos\n"
   ]
  },
  {
   "cell_type": "code",
   "execution_count": null,
   "id": "outstanding-grenada",
   "metadata": {},
   "outputs": [],
   "source": []
  },
  {
   "cell_type": "code",
   "execution_count": null,
   "id": "embedded-hamburg",
   "metadata": {},
   "outputs": [],
   "source": []
  },
  {
   "cell_type": "markdown",
   "id": "exterior-gibraltar",
   "metadata": {},
   "source": [
    "#### Url + endpoint"
   ]
  },
  {
   "cell_type": "code",
   "execution_count": null,
   "id": "operating-fleece",
   "metadata": {},
   "outputs": [],
   "source": []
  },
  {
   "cell_type": "markdown",
   "id": "cordless-queensland",
   "metadata": {},
   "source": [
    "El ID de la lista de la cual queremos hacer la request"
   ]
  },
  {
   "cell_type": "code",
   "execution_count": null,
   "id": "experienced-fancy",
   "metadata": {},
   "outputs": [],
   "source": []
  },
  {
   "cell_type": "code",
   "execution_count": null,
   "id": "catholic-vertex",
   "metadata": {},
   "outputs": [],
   "source": []
  },
  {
   "cell_type": "code",
   "execution_count": null,
   "id": "patient-import",
   "metadata": {},
   "outputs": [],
   "source": []
  },
  {
   "cell_type": "markdown",
   "id": "wanted-bradford",
   "metadata": {},
   "source": [
    "#### Hacemos la request"
   ]
  },
  {
   "cell_type": "code",
   "execution_count": null,
   "id": "signed-vampire",
   "metadata": {},
   "outputs": [],
   "source": []
  },
  {
   "cell_type": "markdown",
   "id": "threatened-involvement",
   "metadata": {},
   "source": [
    "### Nos enfrentamos al json de la response"
   ]
  },
  {
   "cell_type": "code",
   "execution_count": null,
   "id": "present-township",
   "metadata": {},
   "outputs": [],
   "source": []
  },
  {
   "cell_type": "code",
   "execution_count": null,
   "id": "pretty-people",
   "metadata": {},
   "outputs": [],
   "source": []
  },
  {
   "cell_type": "code",
   "execution_count": null,
   "id": "dirty-leisure",
   "metadata": {},
   "outputs": [],
   "source": []
  },
  {
   "cell_type": "code",
   "execution_count": null,
   "id": "vocational-tract",
   "metadata": {},
   "outputs": [],
   "source": [
    "# Gracias a esta librería vemos que la información de cada canción está en \"tracks/items\""
   ]
  },
  {
   "cell_type": "markdown",
   "id": "brief-vacation",
   "metadata": {},
   "source": [
    "#### Extraemos las canciones"
   ]
  },
  {
   "cell_type": "code",
   "execution_count": null,
   "id": "prostate-copying",
   "metadata": {},
   "outputs": [],
   "source": [
    "# Vamos a obtener solo las canciones\n"
   ]
  },
  {
   "cell_type": "code",
   "execution_count": null,
   "id": "continuous-portrait",
   "metadata": {},
   "outputs": [],
   "source": []
  },
  {
   "cell_type": "markdown",
   "id": "straight-burton",
   "metadata": {},
   "source": [
    "#### Extraemos el nombre de las canciones"
   ]
  },
  {
   "cell_type": "code",
   "execution_count": null,
   "id": "revolutionary-brunei",
   "metadata": {},
   "outputs": [],
   "source": []
  },
  {
   "cell_type": "markdown",
   "id": "addressed-business",
   "metadata": {},
   "source": [
    "#### Extraemos los artistas de las canciones"
   ]
  },
  {
   "cell_type": "code",
   "execution_count": null,
   "id": "dangerous-sculpture",
   "metadata": {},
   "outputs": [],
   "source": []
  },
  {
   "cell_type": "markdown",
   "id": "imperial-operations",
   "metadata": {},
   "source": [
    "#### Extraemos los users que han añadido la canción a la lista"
   ]
  },
  {
   "cell_type": "code",
   "execution_count": null,
   "id": "moved-quantity",
   "metadata": {},
   "outputs": [],
   "source": []
  },
  {
   "cell_type": "markdown",
   "id": "higher-correspondence",
   "metadata": {},
   "source": [
    "### ¡Nos lo llevamos a Pandas! 🐼\n",
    "¿Cómo? Vamos a iterar por toda la lista de canciones y hacemos una lista de diccionarios con la información que necesitamos para hacernos un dataframe"
   ]
  },
  {
   "cell_type": "code",
   "execution_count": null,
   "id": "found-retail",
   "metadata": {},
   "outputs": [],
   "source": []
  },
  {
   "cell_type": "code",
   "execution_count": null,
   "id": "adjacent-voice",
   "metadata": {},
   "outputs": [],
   "source": []
  },
  {
   "cell_type": "code",
   "execution_count": null,
   "id": "experimental-biotechnology",
   "metadata": {},
   "outputs": [],
   "source": []
  },
  {
   "cell_type": "markdown",
   "id": "deluxe-geneva",
   "metadata": {},
   "source": [
    "## Automatizamos procesos\n",
    "Todo lo que vamos escribiendo en líneas de código, podemos hacerlo con funciones, y que estas funciones nos sirvan para poder hacer el mismo proceso con un par de funciones"
   ]
  },
  {
   "cell_type": "code",
   "execution_count": null,
   "id": "loose-criminal",
   "metadata": {},
   "outputs": [],
   "source": []
  },
  {
   "cell_type": "code",
   "execution_count": null,
   "id": "blind-trout",
   "metadata": {},
   "outputs": [],
   "source": []
  },
  {
   "cell_type": "code",
   "execution_count": null,
   "id": "accomplished-telephone",
   "metadata": {},
   "outputs": [],
   "source": []
  },
  {
   "cell_type": "code",
   "execution_count": null,
   "id": "fuzzy-kazakhstan",
   "metadata": {},
   "outputs": [],
   "source": []
  },
  {
   "cell_type": "code",
   "execution_count": null,
   "id": "found-zoning",
   "metadata": {},
   "outputs": [],
   "source": []
  },
  {
   "cell_type": "code",
   "execution_count": null,
   "id": "assisted-detection",
   "metadata": {},
   "outputs": [],
   "source": []
  },
  {
   "cell_type": "markdown",
   "id": "analyzed-mason",
   "metadata": {},
   "source": [
    "# 📚 Recap hasta ahora:\n",
    "\n",
    "**Lo que hicimos**\n",
    "- 1. Hicimos una llamada a la API de Spotify: para obtener la información de la lista\n",
    "- 2. Obtenemos sólo las canciones y los artistas del json\n",
    "- 3. Hacemos funcionoes que automatizan procesos y reutilizan códigoo\n",
    "- 4. Tenemos un dataframe\n",
    "<br>\n",
    "\n",
    "**Para recordar**\n",
    "\n",
    "- Añade el `.env` al `.gitignore`."
   ]
  },
  {
   "cell_type": "markdown",
   "id": "artistic-power",
   "metadata": {},
   "source": [
    " ## Misión 3\n",
    " # <center> Obtener las letras de las canciones con \"lyrics_extractor\"</center>\n",
    "## Extraemos letras de las canciones!\n",
    "Lyrics extractor es una librería que escrapea por nosotras algunas páginas de letras de canciones.     \n",
    "Echamos un ojo a la [documentación](https://pypi.org/project/lyrics-extractor/) SIEMPRE, sobre todo a la parte de **Requirements** que nos va a explicar las cosas que necesitamos tener para que funcione.  \n",
    "### Necesitamos crear las KEYs para esta librería\n",
    "1.1.1. **[Primero](https://cse.google.com/cse/create/new)**, crear un motor de búsqueda personalizado: seleccionar un sitio web de letras para raspar. por ejemplo: www.genius.com <br> \n",
    "1.1.2. **Segundo**, `Edita tu motor de búsqueda > selecciona tu web > Copia tu ID de motor de búsqueda`. \n",
    "Ahora tiene su **GCS_ENGINE_ID**<br>\n",
    "1.1.3. **[Entonces](https://developers.google.com/custom-search/v1/overview)**, `Obtener una clave > Seleccionar proyecto > copiar la clave API del buscador`. Ahora tiene su **GCS_API_KEY**."
   ]
  },
  {
   "cell_type": "code",
   "execution_count": null,
   "id": "reflected-maryland",
   "metadata": {},
   "outputs": [],
   "source": [
    "from lyrics_extractor import SongLyrics"
   ]
  },
  {
   "cell_type": "markdown",
   "id": "silver-ribbon",
   "metadata": {},
   "source": [
    "### Como la librería necesita las keys, las sacamos del .env"
   ]
  },
  {
   "cell_type": "code",
   "execution_count": null,
   "id": "advised-contrast",
   "metadata": {},
   "outputs": [],
   "source": []
  },
  {
   "cell_type": "markdown",
   "id": "featured-concern",
   "metadata": {},
   "source": [
    "### La guardamos en una variable\n",
    "Guardamos la librería en una variable llamando a SongLyrics y pasándole las claves "
   ]
  },
  {
   "cell_type": "code",
   "execution_count": null,
   "id": "center-electric",
   "metadata": {},
   "outputs": [],
   "source": []
  },
  {
   "cell_type": "markdown",
   "id": "julian-lincoln",
   "metadata": {},
   "source": [
    "### Buscamos una letra"
   ]
  },
  {
   "cell_type": "code",
   "execution_count": null,
   "id": "passive-shock",
   "metadata": {},
   "outputs": [],
   "source": []
  },
  {
   "cell_type": "code",
   "execution_count": null,
   "id": "unavailable-chicken",
   "metadata": {},
   "outputs": [],
   "source": [
    "# Esta librería nos devuelve un diccionario del que solo queremos un value concreto\n"
   ]
  },
  {
   "cell_type": "code",
   "execution_count": null,
   "id": "optical-dryer",
   "metadata": {},
   "outputs": [],
   "source": []
  },
  {
   "cell_type": "code",
   "execution_count": null,
   "id": "infectious-needle",
   "metadata": {},
   "outputs": [],
   "source": []
  },
  {
   "cell_type": "markdown",
   "id": "recreational-weekend",
   "metadata": {},
   "source": [
    "### ¡¡Muchas letras!!"
   ]
  },
  {
   "cell_type": "code",
   "execution_count": null,
   "id": "liked-controversy",
   "metadata": {},
   "outputs": [],
   "source": []
  },
  {
   "cell_type": "code",
   "execution_count": null,
   "id": "happy-publicity",
   "metadata": {},
   "outputs": [],
   "source": []
  },
  {
   "cell_type": "markdown",
   "id": "excess-nickel",
   "metadata": {},
   "source": [
    "### Creamos una columna nueva con las letras"
   ]
  },
  {
   "cell_type": "code",
   "execution_count": null,
   "id": "final-explanation",
   "metadata": {},
   "outputs": [],
   "source": []
  },
  {
   "cell_type": "code",
   "execution_count": null,
   "id": "concrete-miller",
   "metadata": {},
   "outputs": [],
   "source": []
  },
  {
   "cell_type": "code",
   "execution_count": null,
   "id": "decimal-employer",
   "metadata": {},
   "outputs": [],
   "source": []
  },
  {
   "cell_type": "code",
   "execution_count": null,
   "id": "excellent-romantic",
   "metadata": {},
   "outputs": [],
   "source": []
  },
  {
   "cell_type": "code",
   "execution_count": null,
   "id": "interior-maker",
   "metadata": {},
   "outputs": [],
   "source": []
  }
 ],
 "metadata": {
  "kernelspec": {
   "display_name": "ironhack",
   "language": "python",
   "name": "ironhack"
  },
  "language_info": {
   "codemirror_mode": {
    "name": "ipython",
    "version": 3
   },
   "file_extension": ".py",
   "mimetype": "text/x-python",
   "name": "python",
   "nbconvert_exporter": "python",
   "pygments_lexer": "ipython3",
   "version": "3.8.5"
  },
  "toc": {
   "base_numbering": 1,
   "nav_menu": {},
   "number_sections": true,
   "sideBar": true,
   "skip_h1_title": true,
   "title_cell": "Table of Contents",
   "title_sidebar": "Contents",
   "toc_cell": true,
   "toc_position": {},
   "toc_section_display": true,
   "toc_window_display": false
  }
 },
 "nbformat": 4,
 "nbformat_minor": 5
}
